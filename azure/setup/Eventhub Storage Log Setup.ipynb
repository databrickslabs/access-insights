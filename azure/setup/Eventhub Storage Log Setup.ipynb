{
 "cells": [
  {
   "cell_type": "markdown",
   "metadata": {
    "application/vnd.databricks.v1+cell": {
     "cellMetadata": {
      "byteLimit": 2048000,
      "rowLimit": 10000
     },
     "inputWidgets": {},
     "nuid": "918bf2ff-cd56-443f-84af-a694e268b8c4",
     "showTitle": false,
     "tableResultSettingsMap": {},
     "title": ""
    }
   },
   "source": [
    "##Read Raw Storage Logs in Azure and persist to a view"
   ]
  },
  {
   "cell_type": "code",
   "execution_count": 0,
   "metadata": {
    "application/vnd.databricks.v1+cell": {
     "cellMetadata": {
      "byteLimit": 2048000,
      "rowLimit": 10000
     },
     "inputWidgets": {},
     "nuid": "323b8660-14d1-466f-ae08-c084cec0a2d6",
     "showTitle": false,
     "tableResultSettingsMap": {},
     "title": ""
    }
   },
   "outputs": [],
   "source": [
    "from pyspark.sql.types import StructType, StructField, StringType, LongType, TimestampType, MapType, ArrayType\n",
    "from pyspark.sql.functions import col, from_json, unbase64, explode, variant_get\n",
    "\n",
    "# Define the schema for Event Hub storage logs\n",
    "# Define the schema for the JSON data\n",
    "eventhub_logs_schema = StructType([\n",
    "    StructField(\"records\", ArrayType(StructType([\n",
    "        StructField(\"time\", StringType(), True),\n",
    "        StructField(\"resourceId\", StringType(), True),\n",
    "        StructField(\"category\", StringType(), True),\n",
    "        StructField(\"operationName\", StringType(), True),\n",
    "        StructField(\"operationVersion\", StringType(), True),\n",
    "        StructField(\"schemaVersion\", StringType(), True),\n",
    "        StructField(\"statusCode\", LongType(), True),\n",
    "        StructField(\"statusText\", StringType(), True),\n",
    "        StructField(\"durationMs\", LongType(), True),\n",
    "        StructField(\"callerIpAddress\", StringType(), True),\n",
    "        StructField(\"correlationId\", StringType(), True),\n",
    "        StructField(\"identity\", StructType([\n",
    "            StructField(\"type\", StringType(), True),\n",
    "            StructField(\"tokenHash\", StringType(), True),\n",
    "            StructField(\"authorization\", ArrayType(StructType([\n",
    "                StructField(\"action\", StringType(), True),\n",
    "                StructField(\"roleAssignmentId\", StringType(), True),\n",
    "                StructField(\"roleDefinitionId\", StringType(), True),\n",
    "                StructField(\"principals\", ArrayType(StructType([\n",
    "                    StructField(\"id\", StringType(), True),\n",
    "                    StructField(\"type\", StringType(), True)\n",
    "                ])), True),\n",
    "                StructField(\"denyAssignmentId\", StringType(), True),\n",
    "                StructField(\"type\", StringType(), True),\n",
    "                StructField(\"result\", StringType(), True),\n",
    "                StructField(\"reason\", StringType(), True)\n",
    "            ])), True),\n",
    "            StructField(\"requester\", StructType([\n",
    "                StructField(\"objectId\", StringType(), True),\n",
    "                StructField(\"tenantId\", StringType(), True)\n",
    "            ]), True)\n",
    "        ]), True),\n",
    "        StructField(\"location\", StringType(), True),\n",
    "        StructField(\"properties\", MapType(StringType(), StringType()), True),\n",
    "        StructField(\"uri\", StringType(), True),\n",
    "        StructField(\"protocol\", StringType(), True),\n",
    "        StructField(\"resourceType\", StringType(), True)\n",
    "    ])), True)\n",
    "])\n"
   ]
  },
  {
   "cell_type": "code",
   "execution_count": 0,
   "metadata": {
    "application/vnd.databricks.v1+cell": {
     "cellMetadata": {
      "byteLimit": 2048000,
      "rowLimit": 10000
     },
     "inputWidgets": {},
     "nuid": "6de66238-924f-49ee-9ead-83238edebd9e",
     "showTitle": false,
     "tableResultSettingsMap": {},
     "title": ""
    }
   },
   "outputs": [],
   "source": [
    "# Configuration (store secrets in Databricks Secrets)\n",
    "EH_NAMESPACE = \"eh-sezsandbox-01.servicebus.windows.net\"\n",
    "EH_NAME = \"slog\"\n",
    "CONN_STRING = dbutils.secrets.get(\"slog-scope\", \"eh-slog\")\n",
    "\n",
    "kafka_options = {\n",
    "    \"kafka.bootstrap.servers\": f\"{EH_NAMESPACE}:9093\",\n",
    "    \"subscribe\": EH_NAME,\n",
    "    \"kafka.sasl.mechanism\": \"PLAIN\",\n",
    "    \"kafka.security.protocol\": \"SASL_SSL\",\n",
    "    \"kafka.sasl.jaas.config\": f'kafkashaded.org.apache.kafka.common.security.plain.PlainLoginModule required username=\"$ConnectionString\" password=\"{CONN_STRING}\";',\n",
    "    \"startingOffsets\": \"earliest\",\n",
    "    \"failOnDataLoss\": \"false\"\n",
    "}\n",
    "\n",
    "# Read the data as a stream from Event Hubs\n",
    "df = spark.readStream.format(\"kafka\").options(**kafka_options).load()\n",
    "\n",
    "parsed_df = df.select(\n",
    "    from_json(\n",
    "        col(\"value\").cast(\"string\"),  # Convert binary to string\n",
    "        eventhub_logs_schema\n",
    "    ).alias(\"data\")\n",
    ").select(\"data.records\")\n",
    "\n",
    "# Explode the records array to get individual records\n",
    "exploded_df = parsed_df.select(explode(col(\"records\")).alias(\"record\")).select(\"record.*\")\n",
    "\n",
    "query = (\n",
    "    exploded_df.writeStream\n",
    "    .format(\"delta\")\n",
    "    .outputMode(\"append\")  # or \"update\" for aggregation queries\n",
    "    .option(\"checkpointLocation\", \"abfss://slog@stsezsandbox07.dfs.core.windows.net/checkpoints/azure_raw_storage_log\")\n",
    "    .trigger(availableNow=True)  # Use AvailableNow trigger\n",
    "    .toTable(\"slog.default.azure_raw_storage_logs\")  # Unity Catalog 3-level namespace\n",
    ")\n",
    "\n",
    "# Start the streaming query\n",
    "query.awaitTermination()"
   ]
  }
 ],
 "metadata": {
  "application/vnd.databricks.v1+notebook": {
   "computePreferences": null,
   "dashboards": [],
   "environmentMetadata": {
    "base_environment": "",
    "environment_version": "2"
   },
   "inputWidgetPreferences": null,
   "language": "python",
   "notebookMetadata": {
    "pythonIndentUnit": 4
   },
   "notebookName": "eventhub_storage_log_setup",
   "widgets": {}
  },
  "language_info": {
   "name": "python"
  }
 },
 "nbformat": 4,
 "nbformat_minor": 0
}