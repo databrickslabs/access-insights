{
 "cells": [
  {
   "cell_type": "markdown",
   "metadata": {
    "application/vnd.databricks.v1+cell": {
     "cellMetadata": {},
     "inputWidgets": {},
     "nuid": "918bf2ff-cd56-443f-84af-a694e268b8c4",
     "showTitle": false,
     "tableResultSettingsMap": {},
     "title": ""
    }
   },
   "source": [
    "## Read Storage Logs from EventHub in Azure and persist to a table"
   ]
  },
  {
   "cell_type": "code",
   "execution_count": 0,
   "metadata": {
    "application/vnd.databricks.v1+cell": {
     "cellMetadata": {
      "byteLimit": 2048000,
      "rowLimit": 10000
     },
     "inputWidgets": {},
     "nuid": "2b6ed211-0452-4f9d-b44e-9716228d6102",
     "showTitle": false,
     "tableResultSettingsMap": {},
     "title": ""
    }
   },
   "outputs": [],
   "source": [
    "from pyspark.sql.types import (\n",
    "    StructType,\n",
    "    StructField,\n",
    "    StringType,\n",
    "    LongType,\n",
    "    TimestampType,\n",
    "    MapType,\n",
    "    ArrayType,\n",
    ")\n",
    "from pyspark.sql.functions import col, from_json, unbase64, explode, variant_get"
   ]
  },
  {
   "cell_type": "code",
   "execution_count": 0,
   "metadata": {
    "application/vnd.databricks.v1+cell": {
     "cellMetadata": {
      "byteLimit": 2048000,
      "rowLimit": 10000
     },
     "inputWidgets": {},
     "nuid": "d45766a0-87a5-4b0a-8678-bca24ab1aa05",
     "showTitle": false,
     "tableResultSettingsMap": {},
     "title": ""
    }
   },
   "outputs": [],
   "source": [
    "dbutils.widgets.text(\"catalog\", \"slog\")\n",
    "dbutils.widgets.text(\"schema\", \"default\")\n",
    "dbutils.widgets.text(\"raw_table\", \"azure_raw_storage_logs\")\n",
    "\n",
    "dbutils.widgets.text(\"secret-scope\", \"slog-scope\")\n",
    "dbutils.widgets.text(\"eh-namespace\", \"eh-namespace\")\n",
    "dbutils.widgets.text(\"eh-name\", \"slog\")\n",
    "dbutils.widgets.text(\"eh-conn-string\", \"eh-slog\")\n",
    "\n",
    "dbutils.widgets.text(\n",
    "    \"checkpoint\",\n",
    "    \"abfss://slog@stsezsandbox07.dfs.core.windows.net/checkpoints/azure_raw_storage_log\",\n",
    ")"
   ]
  },
  {
   "cell_type": "code",
   "execution_count": 0,
   "metadata": {
    "application/vnd.databricks.v1+cell": {
     "cellMetadata": {
      "byteLimit": 2048000,
      "rowLimit": 10000
     },
     "inputWidgets": {},
     "nuid": "da6c1eef-f46f-4b6d-9ca4-38492ec0b8d7",
     "showTitle": false,
     "tableResultSettingsMap": {},
     "title": ""
    }
   },
   "outputs": [],
   "source": [
    "# Create streaming options\n",
    "full_name_space = f\"{dbutils.widgets.get('catalog')}.{dbutils.widgets.get('schema')}.{dbutils.widgets.get('raw_table')}\"\n",
    "checkpoint = f\"{dbutils.widgets.get('checkpoint')}\"\n",
    "\n",
    "# Configuration (store secrets in Databricks Secrets)\n",
    "secret_scope = dbutils.widgets.get(\"secret-scope\")\n",
    "eh_namespace = dbutils.secrets.get(secret_scope, dbutils.widgets.get(\"eh-namespace\"))\n",
    "eh_name = dbutils.widgets.get(\"eh-name\")\n",
    "eh_conn_string = dbutils.secrets.get(\n",
    "    secret_scope, dbutils.widgets.get(\"eh-conn-string\")\n",
    ")"
   ]
  },
  {
   "cell_type": "code",
   "execution_count": 0,
   "metadata": {
    "application/vnd.databricks.v1+cell": {
     "cellMetadata": {
      "byteLimit": 2048000,
      "rowLimit": 10000
     },
     "inputWidgets": {},
     "nuid": "620aeb7b-6c13-4eb7-b7cd-4483659f52ec",
     "showTitle": false,
     "tableResultSettingsMap": {},
     "title": ""
    }
   },
   "outputs": [],
   "source": [
    "# Create catalog and schema\n",
    "# This can be removed or changed based on deployment targets\n",
    "spark.sql(f\"CREATE CATALOG IF NOT EXISTS {dbutils.widgets.get('catalog')}\")\n",
    "spark.sql(f\"CREATE SCHEMA IF NOT EXISTS {dbutils.widgets.get('schema')}\")"
   ]
  },
  {
   "cell_type": "code",
   "execution_count": 0,
   "metadata": {
    "application/vnd.databricks.v1+cell": {
     "cellMetadata": {
      "byteLimit": 2048000,
      "rowLimit": 10000
     },
     "inputWidgets": {},
     "nuid": "323b8660-14d1-466f-ae08-c084cec0a2d6",
     "showTitle": false,
     "tableResultSettingsMap": {},
     "title": ""
    }
   },
   "outputs": [],
   "source": [
    "# Define the schema for Event Hub storage logs\n",
    "eventhub_logs_schema = StructType([\n",
    "    StructField(\"records\", ArrayType(StructType([\n",
    "        StructField(\"time\", StringType(), True),\n",
    "        StructField(\"resourceId\", StringType(), True),\n",
    "        StructField(\"category\", StringType(), True),\n",
    "        StructField(\"operationName\", StringType(), True),\n",
    "        StructField(\"operationVersion\", StringType(), True),\n",
    "        StructField(\"schemaVersion\", StringType(), True),\n",
    "        StructField(\"statusCode\", LongType(), True),\n",
    "        StructField(\"statusText\", StringType(), True),\n",
    "        StructField(\"durationMs\", LongType(), True),\n",
    "        StructField(\"callerIpAddress\", StringType(), True),\n",
    "        StructField(\"correlationId\", StringType(), True),\n",
    "        StructField(\"identity\", StructType([\n",
    "            StructField(\"type\", StringType(), True),\n",
    "            StructField(\"tokenHash\", StringType(), True),\n",
    "            StructField(\"authorization\", ArrayType(StructType([\n",
    "                StructField(\"action\", StringType(), True),\n",
    "                StructField(\"roleAssignmentId\", StringType(), True),\n",
    "                StructField(\"roleDefinitionId\", StringType(), True),\n",
    "                StructField(\"principals\", ArrayType(StructType([\n",
    "                    StructField(\"id\", StringType(), True),\n",
    "                    StructField(\"type\", StringType(), True)\n",
    "                ])), True),\n",
    "                StructField(\"denyAssignmentId\", StringType(), True),\n",
    "                StructField(\"type\", StringType(), True),\n",
    "                StructField(\"result\", StringType(), True),\n",
    "                StructField(\"reason\", StringType(), True)\n",
    "            ])), True),\n",
    "            StructField(\"requester\", StructType([\n",
    "                StructField(\"objectId\", StringType(), True),\n",
    "                StructField(\"tenantId\", StringType(), True)\n",
    "            ]), True)\n",
    "        ]), True),\n",
    "        StructField(\"location\", StringType(), True),\n",
    "        StructField(\"properties\", MapType(StringType(), StringType()), True),\n",
    "        StructField(\"uri\", StringType(), True),\n",
    "        StructField(\"protocol\", StringType(), True),\n",
    "        StructField(\"resourceType\", StringType(), True)\n",
    "    ])), True)\n",
    "])"
   ]
  },
  {
   "cell_type": "code",
   "execution_count": 0,
   "metadata": {
    "application/vnd.databricks.v1+cell": {
     "cellMetadata": {
      "byteLimit": 2048000,
      "rowLimit": 10000
     },
     "inputWidgets": {},
     "nuid": "6de66238-924f-49ee-9ead-83238edebd9e",
     "showTitle": false,
     "tableResultSettingsMap": {},
     "title": ""
    }
   },
   "outputs": [],
   "source": [
    "# Define the kafka options\n",
    "kafka_options = {\n",
    "    \"kafka.bootstrap.servers\": f\"{eh_namespace}:9093\",\n",
    "    \"subscribe\": eh_name,\n",
    "    \"kafka.sasl.mechanism\": \"PLAIN\",\n",
    "    \"kafka.security.protocol\": \"SASL_SSL\",\n",
    "    \"kafka.sasl.jaas.config\": f'kafkashaded.org.apache.kafka.common.security.plain.PlainLoginModule required username=\"$ConnectionString\" password=\"{eh_conn_string}\";',\n",
    "    \"startingOffsets\": \"earliest\",\n",
    "    \"failOnDataLoss\": \"false\",\n",
    "}\n",
    "\n",
    "# Read the data as a stream from Event Hubs\n",
    "df = spark.readStream.format(\"kafka\").options(**kafka_options).load()\n",
    "\n",
    "parsed_df = df.select(\n",
    "    from_json(\n",
    "        col(\"value\").cast(\"string\"), eventhub_logs_schema  # Convert binary to string\n",
    "    ).alias(\"data\")\n",
    ").select(\"data.records\")\n",
    "\n",
    "# Explode the records array to get individual records\n",
    "exploded_df = parsed_df.select(explode(col(\"records\")).alias(\"record\")).select(\n",
    "    \"record.*\"\n",
    ")\n",
    "\n",
    "query = (\n",
    "    exploded_df.writeStream.format(\"delta\")\n",
    "    .outputMode(\"append\")  # or \"update\" for aggregation queries\n",
    "    .option(\"checkpointLocation\", checkpoint)\n",
    "    .trigger(availableNow=True)  # Use AvailableNow trigger\n",
    "    .toTable(full_name_space)\n",
    ")\n",
    "\n",
    "# Start the streaming query\n",
    "query.awaitTermination()"
   ]
  }
 ],
 "metadata": {
  "application/vnd.databricks.v1+notebook": {
   "computePreferences": null,
   "dashboards": [],
   "environmentMetadata": {
    "base_environment": "",
    "environment_version": "2"
   },
   "inputWidgetPreferences": null,
   "language": "python",
   "notebookMetadata": {
    "pythonIndentUnit": 4,
    "widgetLayout": [
     {
      "breakBefore": false,
      "name": "catalog",
      "width": 203
     },
     {
      "breakBefore": false,
      "name": "schema",
      "width": 203
     },
     {
      "breakBefore": false,
      "name": "table",
      "width": 203
     },
     {
      "breakBefore": false,
      "name": "checkpoint",
      "width": 203
     }
    ]
   },
   "notebookName": "Eventhub_Storage_Log_Setup",
   "widgets": {
    "catalog": {
     "currentValue": "slog",
     "nuid": "28463e9a-937c-4589-99d4-5152909f1635",
     "typedWidgetInfo": {
      "autoCreated": false,
      "defaultValue": "slog",
      "label": null,
      "name": "catalog",
      "options": {
       "widgetDisplayType": "Text",
       "validationRegex": null
      },
      "parameterDataType": "String"
     },
     "widgetInfo": {
      "widgetType": "text",
      "defaultValue": "slog",
      "label": null,
      "name": "catalog",
      "options": {
       "widgetType": "text",
       "autoCreated": null,
       "validationRegex": null
      }
     }
    },
    "checkpoint": {
     "currentValue": "abfss://slog@stsezsandbox07.dfs.core.windows.net/checkpoints/azure_raw_storage_log",
     "nuid": "01f09d58-eff1-4d54-bbe9-aed862125834",
     "typedWidgetInfo": {
      "autoCreated": false,
      "defaultValue": "abfss://slog@stsezsandbox07.dfs.core.windows.net/checkpoints/azure_raw_storage_log",
      "label": null,
      "name": "checkpoint",
      "options": {
       "widgetDisplayType": "Text",
       "validationRegex": null
      },
      "parameterDataType": "String"
     },
     "widgetInfo": {
      "widgetType": "text",
      "defaultValue": "abfss://slog@stsezsandbox07.dfs.core.windows.net/checkpoints/azure_raw_storage_log",
      "label": null,
      "name": "checkpoint",
      "options": {
       "widgetType": "text",
       "autoCreated": null,
       "validationRegex": null
      }
     }
    },
    "eh-conn-string": {
     "currentValue": "eh-slog",
     "nuid": "45160cda-bc98-4042-a0e9-b67ab110585d",
     "typedWidgetInfo": {
      "autoCreated": false,
      "defaultValue": "eh-slog",
      "label": null,
      "name": "eh-conn-string",
      "options": {
       "widgetDisplayType": "Text",
       "validationRegex": null
      },
      "parameterDataType": "String"
     },
     "widgetInfo": {
      "widgetType": "text",
      "defaultValue": "eh-slog",
      "label": null,
      "name": "eh-conn-string",
      "options": {
       "widgetType": "text",
       "autoCreated": false,
       "validationRegex": null
      }
     }
    },
    "eh-name": {
     "currentValue": "slog",
     "nuid": "bb56a539-0bd5-455d-86c3-21372606fd94",
     "typedWidgetInfo": {
      "autoCreated": false,
      "defaultValue": "slog",
      "label": null,
      "name": "eh-name",
      "options": {
       "widgetDisplayType": "Text",
       "validationRegex": null
      },
      "parameterDataType": "String"
     },
     "widgetInfo": {
      "widgetType": "text",
      "defaultValue": "slog",
      "label": null,
      "name": "eh-name",
      "options": {
       "widgetType": "text",
       "autoCreated": false,
       "validationRegex": null
      }
     }
    },
    "eh-namespace": {
     "currentValue": "eh-namespace",
     "nuid": "87ad7cc7-201e-44d9-946e-0d7d346de555",
     "typedWidgetInfo": {
      "autoCreated": false,
      "defaultValue": "eh-namespace",
      "label": null,
      "name": "eh-namespace",
      "options": {
       "widgetDisplayType": "Text",
       "validationRegex": null
      },
      "parameterDataType": "String"
     },
     "widgetInfo": {
      "widgetType": "text",
      "defaultValue": "eh-namespace",
      "label": null,
      "name": "eh-namespace",
      "options": {
       "widgetType": "text",
       "autoCreated": false,
       "validationRegex": null
      }
     }
    },
    "schema": {
     "currentValue": "default",
     "nuid": "e611f92c-3b3c-46fa-b908-45798a37ee65",
     "typedWidgetInfo": {
      "autoCreated": false,
      "defaultValue": "default",
      "label": null,
      "name": "schema",
      "options": {
       "widgetDisplayType": "Text",
       "validationRegex": null
      },
      "parameterDataType": "String"
     },
     "widgetInfo": {
      "widgetType": "text",
      "defaultValue": "default",
      "label": null,
      "name": "schema",
      "options": {
       "widgetType": "text",
       "autoCreated": null,
       "validationRegex": null
      }
     }
    },
    "secret-scope": {
     "currentValue": "slog-scope",
     "nuid": "cef4d9ce-aeb4-429d-82b8-e95d94990472",
     "typedWidgetInfo": {
      "autoCreated": false,
      "defaultValue": "slog-scope",
      "label": null,
      "name": "secret-scope",
      "options": {
       "widgetDisplayType": "Text",
       "validationRegex": null
      },
      "parameterDataType": "String"
     },
     "widgetInfo": {
      "widgetType": "text",
      "defaultValue": "slog-scope",
      "label": null,
      "name": "secret-scope",
      "options": {
       "widgetType": "text",
       "autoCreated": false,
       "validationRegex": null
      }
     }
    },
    "table": {
     "currentValue": "azure_raw_storage_logs",
     "nuid": "8c73eb96-3918-4cbc-a4f4-fed38182cc15",
     "typedWidgetInfo": {
      "autoCreated": false,
      "defaultValue": "azure_raw_storage_logs",
      "label": null,
      "name": "table",
      "options": {
       "widgetDisplayType": "Text",
       "validationRegex": null
      },
      "parameterDataType": "String"
     },
     "widgetInfo": {
      "widgetType": "text",
      "defaultValue": "azure_raw_storage_logs",
      "label": null,
      "name": "table",
      "options": {
       "widgetType": "text",
       "autoCreated": null,
       "validationRegex": null
      }
     }
    }
   }
  },
  "language_info": {
   "name": "python"
  }
 },
 "nbformat": 4,
 "nbformat_minor": 0
}
