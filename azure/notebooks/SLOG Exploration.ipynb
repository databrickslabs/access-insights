{
 "cells": [
  {
   "cell_type": "markdown",
   "metadata": {
    "application/vnd.databricks.v1+cell": {
     "cellMetadata": {},
     "inputWidgets": {},
     "nuid": "20b33acc-20e4-4530-9387-ee7747d1fabc",
     "showTitle": false,
     "tableResultSettingsMap": {},
     "title": ""
    }
   },
   "source": [
    "####Look into external tools \n",
    "- Objective - Look into read, write, delete operations on Storage for external tables ONLY.   To identify good candidates that can be migrated to Managed Tables.\n",
    "  - Identify if an external table is being leveraged by an external platform. If it is it would not be a good candidate until the write operations subside.\n",
    "\n",
    "External Table -> main.default.mytable\n",
    "- Leveraged by Databricks\n",
    "- Leveraged by External Platforms, Read Only for Good Candidate\n",
    "\n",
    "External Table -> main.default.xyz\n",
    "- Leveraged by Databricks\n",
    "- Good Candidate would be read, write, delete\n",
    "\n"
   ]
  },
  {
   "cell_type": "markdown",
   "metadata": {
    "application/vnd.databricks.v1+cell": {
     "cellMetadata": {},
     "inputWidgets": {},
     "nuid": "ec511183-08c8-488d-9fd9-2abaa9d557ac",
     "showTitle": false,
     "tableResultSettingsMap": {},
     "title": ""
    }
   },
   "source": [
    "#### External Tables"
   ]
  },
  {
   "cell_type": "code",
   "execution_count": 0,
   "metadata": {
    "application/vnd.databricks.v1+cell": {
     "cellMetadata": {},
     "inputWidgets": {},
     "nuid": "c2ad3856-fe67-4b43-85ec-cf9b088fdf88",
     "showTitle": false,
     "tableResultSettingsMap": {},
     "title": ""
    }
   },
   "outputs": [
    {
     "output_type": "display_data",
     "data": {
      "text/html": [
       "<style scoped>\n",
       "  .table-result-container {\n",
       "    max-height: 300px;\n",
       "    overflow: auto;\n",
       "  }\n",
       "  table, th, td {\n",
       "    border: 1px solid black;\n",
       "    border-collapse: collapse;\n",
       "  }\n",
       "  th, td {\n",
       "    padding: 5px;\n",
       "  }\n",
       "  th {\n",
       "    text-align: left;\n",
       "  }\n",
       "</style><div class='table-result-container'><table class='table-result'><thead style='background-color: white'><tr><th>IT_TableName</th><th>Storage_userAgentHeader</th><th>IT_TableType</th></tr></thead><tbody><tr><td>main.default.my_table</td><td>Azure Blob FS/3.3 (AzulSystems,Inc. JavaJRE 17.0.13; Linux 5.15.0-1075-azure/amd64; SunJSSE-17.0; UNKNOWN/UNKNOWN) APN/1.0 unknown</td><td>EXTERNAL</td></tr><tr><td>main.default.my_table</td><td>APN/1.0 Databricks/1.0 DBR/null</td><td>EXTERNAL</td></tr></tbody></table></div>"
      ]
     },
     "metadata": {
      "application/vnd.databricks.v1+output": {
       "addedWidgets": {},
       "aggData": [],
       "aggError": "",
       "aggOverflow": false,
       "aggSchema": [],
       "aggSeriesLimitReached": false,
       "aggType": "",
       "arguments": {},
       "columnCustomDisplayInfos": {},
       "data": [
        [
         "main.default.my_table",
         "Azure Blob FS/3.3 (AzulSystems,Inc. JavaJRE 17.0.13; Linux 5.15.0-1075-azure/amd64; SunJSSE-17.0; UNKNOWN/UNKNOWN) APN/1.0 unknown",
         "EXTERNAL"
        ],
        [
         "main.default.my_table",
         "APN/1.0 Databricks/1.0 DBR/null",
         "EXTERNAL"
        ]
       ],
       "datasetInfos": [
        {
         "name": "_sqldf",
         "schema": {
          "fields": [
           {
            "metadata": {},
            "name": "IT_TableName",
            "nullable": true,
            "type": "string"
           },
           {
            "metadata": {},
            "name": "Storage_userAgentHeader",
            "nullable": true,
            "type": "string"
           },
           {
            "metadata": {
             "comment": "One of 'BASE TABLE', 'VIEW'."
            },
            "name": "IT_TableType",
            "nullable": true,
            "type": "string"
           }
          ],
          "type": "struct"
         },
         "tableIdentifier": null,
         "typeStr": "pyspark.sql.connect.dataframe.DataFrame"
        }
       ],
       "dbfsResultPath": null,
       "isJsonSchema": true,
       "metadata": {
        "createTempViewForImplicitDf": true,
        "dataframeName": "_sqldf",
        "executionCount": 102
       },
       "overflow": false,
       "plotOptions": {
        "customPlotOptions": {},
        "displayType": "table",
        "pivotAggregation": null,
        "pivotColumns": null,
        "xColumns": null,
        "yColumns": null
       },
       "removedWidgets": [],
       "schema": [
        {
         "metadata": "{}",
         "name": "IT_TableName",
         "type": "\"string\""
        },
        {
         "metadata": "{}",
         "name": "Storage_userAgentHeader",
         "type": "\"string\""
        },
        {
         "metadata": "{\"comment\": \"One of 'BASE TABLE', 'VIEW'.\"}",
         "name": "IT_TableType",
         "type": "\"string\""
        }
       ],
       "type": "table"
      }
     },
     "output_type": "display_data"
    }
   ],
   "source": [
    "select distinct\n",
    "  IT_TableName,\n",
    "  Storage_userAgentHeader,\n",
    "  IT_TableType\n",
    "from\n",
    "  slog.default.vw_storagelogs_information_schema\n",
    "where\n",
    "  -- lower(Storage_userAgentHeader) like '%databricks%' and\n",
    "  lower(IT_TableType) like '%external%'"
   ]
  },
  {
   "cell_type": "markdown",
   "metadata": {
    "application/vnd.databricks.v1+cell": {
     "cellMetadata": {},
     "inputWidgets": {},
     "nuid": "8eb72445-4cda-400c-b42f-62e8d36bd717",
     "showTitle": false,
     "tableResultSettingsMap": {},
     "title": ""
    }
   },
   "source": [
    "#### Unique Agent Headers"
   ]
  },
  {
   "cell_type": "code",
   "execution_count": 0,
   "metadata": {
    "application/vnd.databricks.v1+cell": {
     "cellMetadata": {
      "byteLimit": 2048000,
      "rowLimit": 10000
     },
     "inputWidgets": {},
     "nuid": "79dff04e-bfb8-4cd2-a3b7-1662e2e7635d",
     "showTitle": false,
     "tableResultSettingsMap": {},
     "title": ""
    }
   },
   "outputs": [
    {
     "output_type": "display_data",
     "data": {
      "text/html": [
       "<style scoped>\n",
       "  .table-result-container {\n",
       "    max-height: 300px;\n",
       "    overflow: auto;\n",
       "  }\n",
       "  table, th, td {\n",
       "    border: 1px solid black;\n",
       "    border-collapse: collapse;\n",
       "  }\n",
       "  th, td {\n",
       "    padding: 5px;\n",
       "  }\n",
       "  th {\n",
       "    text-align: left;\n",
       "  }\n",
       "</style><div class='table-result-container'><table class='table-result'><thead style='background-color: white'><tr><th>Storage_userAgentHeader</th><th>Storage_Category</th><th>count(*)</th></tr></thead><tbody><tr><td>Go/go1.22.4 X:boringcrypto,nocoverageredesign (amd64-linux) go-autorest/v14.2.1 Azure-SDK-For-Go/v32.1.0 storagedatalake/2018-11-09</td><td>StorageRead</td><td>6</td></tr><tr><td>Azure Blob FS/3.3 (OracleCorporation JavaJRE 17.0.12; Linux 5.4.0-1145-azure-fips/amd64; SunJSSE-17.0; UNKNOWN/UNKNOWN) APN/1.0 Databricks/1.0 DBR/UNKNOWN</td><td>StorageRead</td><td>51</td></tr><tr><td>azsdk-js-data-tables/12.1.2 core-rest-pipeline/1.19.0 Node/18.20.4 OS/(arm64-Linux-5.10.234-225.910.amzn2.aarch64)</td><td>StorageRead</td><td>1</td></tr><tr><td>azsdk-java-azure-storage-blob/12.29.0 (17.0.12; Linux; 5.4.0-1145-azure-fips)</td><td>StorageRead</td><td>187</td></tr><tr><td>Azure Blob FS/3.3 (AzulSystems,Inc. JavaJRE 17.0.13; Linux 5.15.0-1075-azure/amd64; SunJSSE-17.0; UNKNOWN/UNKNOWN) APN/1.0 unknown</td><td>StorageWrite</td><td>10994</td></tr><tr><td>azsdk-js-data-tables/12.1.2 core-rest-pipeline/1.19.0 Node/18.20.4 OS/(arm64-Linux-5.10.234-225.921.amzn2.aarch64)</td><td>StorageRead</td><td>10</td></tr><tr><td>Azure Blob FS/3.3 (AzulSystems,Inc. JavaJRE 1.8.0_412; Linux 5.15.0-1075-azure/amd64; SunJSSE-1.8; UNKNOWN/UNKNOWN) APN/1.0 unknown</td><td>StorageWrite</td><td>37232</td></tr><tr><td>Azure Blob FS/3.3 (AzulSystems,Inc. JavaJRE 1.8.0_412; Linux 5.15.0-1075-azure/amd64; SunJSSE-1.8; UNKNOWN/UNKNOWN) APN/1.0 unknown</td><td>StorageRead</td><td>50885</td></tr><tr><td>Mozilla/5.0 (Macintosh; Intel Mac OS X 10_15_7) AppleWebKit/537.36 (KHTML, like Gecko) Chrome/135.0.0.0 Safari/537.36</td><td>StorageDelete</td><td>6</td></tr><tr><td>SRP/1.0</td><td>StorageRead</td><td>184</td></tr><tr><td>azsdk-js-storageblob/12.5.0 (NODE-VERSION v18.20.4; Linux 5.10.234-225.910.amzn2.aarch64)</td><td>StorageRead</td><td>2</td></tr><tr><td>Mozilla/5.0 (Macintosh; Intel Mac OS X 10_15_7) AppleWebKit/537.36 (KHTML, like Gecko) Chrome/135.0.0.0 Safari/537.36</td><td>StorageWrite</td><td>2</td></tr><tr><td>Azure Blob FS/3.3 (AzulSystems,Inc. JavaJRE 17.0.13; Linux 5.15.0-1075-azure/amd64; SunJSSE-17.0; UNKNOWN/UNKNOWN) APN/1.0 unknown</td><td>StorageDelete</td><td>1069</td></tr><tr><td>Azure Blob FS/3.3 (OracleCorporation JavaJRE 17.0.12; Linux 5.4.0-1145-azure-fips/amd64; SunJSSE-17.0; UNKNOWN/UNKNOWN) APN/1.0 Databricks/1.0 DBR/UNKNOWN</td><td>StorageDelete</td><td>4</td></tr><tr><td>APN/1.0 Databricks/1.0 DBR/null</td><td>StorageRead</td><td>6358</td></tr><tr><td>Azure Blob FS/3.3 (AzulSystems,Inc. JavaJRE 1.8.0_412; Linux 5.15.0-1075-azure/amd64; SunJSSE-1.8; UNKNOWN/UNKNOWN) APN/1.0 unknown</td><td>StorageDelete</td><td>2876</td></tr><tr><td>Azure Blob FS/3.3 (OracleCorporation JavaJRE 17.0.12; Linux 5.4.0-1145-azure-fips/amd64; SunJSSE-17.0; UNKNOWN/UNKNOWN) APN/1.0 Databricks/1.0 DBR/UNKNOWN</td><td>StorageWrite</td><td>4</td></tr><tr><td>azsdk-python-storage-dfs/12.17.0 Python/3.12.3 (Linux-5.15.0-1075-azure-x86_64-with-glibc2.39)</td><td>StorageWrite</td><td>33</td></tr><tr><td>Mozilla/5.0 (Macintosh; Intel Mac OS X 10_15_7) AppleWebKit/537.36 (KHTML, like Gecko) Chrome/135.0.0.0 Safari/537.36</td><td>StorageRead</td><td>82</td></tr><tr><td>azsdk-js-storageblob/12.5.0 (NODE-VERSION v18.20.4; Linux 5.10.234-225.921.amzn2.aarch64)</td><td>StorageRead</td><td>20</td></tr><tr><td>Azure Blob FS/3.3 (AzulSystems,Inc. JavaJRE 17.0.13; Linux 5.15.0-1075-azure/amd64; SunJSSE-17.0; UNKNOWN/UNKNOWN) APN/1.0 unknown</td><td>StorageRead</td><td>20375</td></tr><tr><td>Sensitivity-Platform azsdk-net-Storage.Blobs/12.14.1 (.NET 8.0.12; Debian GNU/Linux 12 (bookworm))</td><td>StorageRead</td><td>1113</td></tr><tr><td>dremel-server google-api-cpp-client/0.3-googleclient Linux/6.1.124+</td><td>StorageRead</td><td>42</td></tr></tbody></table></div>"
      ]
     },
     "metadata": {
      "application/vnd.databricks.v1+output": {
       "addedWidgets": {},
       "aggData": [],
       "aggError": "",
       "aggOverflow": false,
       "aggSchema": [],
       "aggSeriesLimitReached": false,
       "aggType": "",
       "arguments": {},
       "columnCustomDisplayInfos": {},
       "data": [
        [
         "Go/go1.22.4 X:boringcrypto,nocoverageredesign (amd64-linux) go-autorest/v14.2.1 Azure-SDK-For-Go/v32.1.0 storagedatalake/2018-11-09",
         "StorageRead",
         6
        ],
        [
         "Azure Blob FS/3.3 (OracleCorporation JavaJRE 17.0.12; Linux 5.4.0-1145-azure-fips/amd64; SunJSSE-17.0; UNKNOWN/UNKNOWN) APN/1.0 Databricks/1.0 DBR/UNKNOWN",
         "StorageRead",
         51
        ],
        [
         "azsdk-js-data-tables/12.1.2 core-rest-pipeline/1.19.0 Node/18.20.4 OS/(arm64-Linux-5.10.234-225.910.amzn2.aarch64)",
         "StorageRead",
         1
        ],
        [
         "azsdk-java-azure-storage-blob/12.29.0 (17.0.12; Linux; 5.4.0-1145-azure-fips)",
         "StorageRead",
         187
        ],
        [
         "Azure Blob FS/3.3 (AzulSystems,Inc. JavaJRE 17.0.13; Linux 5.15.0-1075-azure/amd64; SunJSSE-17.0; UNKNOWN/UNKNOWN) APN/1.0 unknown",
         "StorageWrite",
         10994
        ],
        [
         "azsdk-js-data-tables/12.1.2 core-rest-pipeline/1.19.0 Node/18.20.4 OS/(arm64-Linux-5.10.234-225.921.amzn2.aarch64)",
         "StorageRead",
         10
        ],
        [
         "Azure Blob FS/3.3 (AzulSystems,Inc. JavaJRE 1.8.0_412; Linux 5.15.0-1075-azure/amd64; SunJSSE-1.8; UNKNOWN/UNKNOWN) APN/1.0 unknown",
         "StorageWrite",
         37232
        ],
        [
         "Azure Blob FS/3.3 (AzulSystems,Inc. JavaJRE 1.8.0_412; Linux 5.15.0-1075-azure/amd64; SunJSSE-1.8; UNKNOWN/UNKNOWN) APN/1.0 unknown",
         "StorageRead",
         50885
        ],
        [
         "Mozilla/5.0 (Macintosh; Intel Mac OS X 10_15_7) AppleWebKit/537.36 (KHTML, like Gecko) Chrome/135.0.0.0 Safari/537.36",
         "StorageDelete",
         6
        ],
        [
         "SRP/1.0",
         "StorageRead",
         184
        ],
        [
         "azsdk-js-storageblob/12.5.0 (NODE-VERSION v18.20.4; Linux 5.10.234-225.910.amzn2.aarch64)",
         "StorageRead",
         2
        ],
        [
         "Mozilla/5.0 (Macintosh; Intel Mac OS X 10_15_7) AppleWebKit/537.36 (KHTML, like Gecko) Chrome/135.0.0.0 Safari/537.36",
         "StorageWrite",
         2
        ],
        [
         "Azure Blob FS/3.3 (AzulSystems,Inc. JavaJRE 17.0.13; Linux 5.15.0-1075-azure/amd64; SunJSSE-17.0; UNKNOWN/UNKNOWN) APN/1.0 unknown",
         "StorageDelete",
         1069
        ],
        [
         "Azure Blob FS/3.3 (OracleCorporation JavaJRE 17.0.12; Linux 5.4.0-1145-azure-fips/amd64; SunJSSE-17.0; UNKNOWN/UNKNOWN) APN/1.0 Databricks/1.0 DBR/UNKNOWN",
         "StorageDelete",
         4
        ],
        [
         "APN/1.0 Databricks/1.0 DBR/null",
         "StorageRead",
         6358
        ],
        [
         "Azure Blob FS/3.3 (AzulSystems,Inc. JavaJRE 1.8.0_412; Linux 5.15.0-1075-azure/amd64; SunJSSE-1.8; UNKNOWN/UNKNOWN) APN/1.0 unknown",
         "StorageDelete",
         2876
        ],
        [
         "Azure Blob FS/3.3 (OracleCorporation JavaJRE 17.0.12; Linux 5.4.0-1145-azure-fips/amd64; SunJSSE-17.0; UNKNOWN/UNKNOWN) APN/1.0 Databricks/1.0 DBR/UNKNOWN",
         "StorageWrite",
         4
        ],
        [
         "azsdk-python-storage-dfs/12.17.0 Python/3.12.3 (Linux-5.15.0-1075-azure-x86_64-with-glibc2.39)",
         "StorageWrite",
         33
        ],
        [
         "Mozilla/5.0 (Macintosh; Intel Mac OS X 10_15_7) AppleWebKit/537.36 (KHTML, like Gecko) Chrome/135.0.0.0 Safari/537.36",
         "StorageRead",
         82
        ],
        [
         "azsdk-js-storageblob/12.5.0 (NODE-VERSION v18.20.4; Linux 5.10.234-225.921.amzn2.aarch64)",
         "StorageRead",
         20
        ],
        [
         "Azure Blob FS/3.3 (AzulSystems,Inc. JavaJRE 17.0.13; Linux 5.15.0-1075-azure/amd64; SunJSSE-17.0; UNKNOWN/UNKNOWN) APN/1.0 unknown",
         "StorageRead",
         20375
        ],
        [
         "Sensitivity-Platform azsdk-net-Storage.Blobs/12.14.1 (.NET 8.0.12; Debian GNU/Linux 12 (bookworm))",
         "StorageRead",
         1113
        ],
        [
         "dremel-server google-api-cpp-client/0.3-googleclient Linux/6.1.124+",
         "StorageRead",
         42
        ]
       ],
       "datasetInfos": [
        {
         "name": "_sqldf",
         "schema": {
          "fields": [
           {
            "metadata": {},
            "name": "Storage_userAgentHeader",
            "nullable": true,
            "type": "string"
           },
           {
            "metadata": {},
            "name": "Storage_Category",
            "nullable": true,
            "type": "string"
           },
           {
            "metadata": {},
            "name": "count(*)",
            "nullable": false,
            "type": "long"
           }
          ],
          "type": "struct"
         },
         "tableIdentifier": null,
         "typeStr": "pyspark.sql.connect.dataframe.DataFrame"
        }
       ],
       "dbfsResultPath": null,
       "isJsonSchema": true,
       "metadata": {
        "createTempViewForImplicitDf": true,
        "dataframeName": "_sqldf",
        "executionCount": 91
       },
       "overflow": false,
       "plotOptions": {
        "customPlotOptions": {},
        "displayType": "table",
        "pivotAggregation": null,
        "pivotColumns": null,
        "xColumns": null,
        "yColumns": null
       },
       "removedWidgets": [],
       "schema": [
        {
         "metadata": "{}",
         "name": "Storage_userAgentHeader",
         "type": "\"string\""
        },
        {
         "metadata": "{}",
         "name": "Storage_Category",
         "type": "\"string\""
        },
        {
         "metadata": "{}",
         "name": "count(*)",
         "type": "\"long\""
        }
       ],
       "type": "table"
      }
     },
     "output_type": "display_data"
    }
   ],
   "source": [
    "SELECT\n",
    "  Storage_userAgentHeader,\n",
    "  Storage_Category,\n",
    "  count(*)\n",
    "FROM\n",
    "  slog.default.vw_storagelogs_information_schema\n",
    "group by all"
   ]
  },
  {
   "cell_type": "markdown",
   "metadata": {
    "application/vnd.databricks.v1+cell": {
     "cellMetadata": {},
     "inputWidgets": {},
     "nuid": "f89214d7-774f-474f-a091-4e8685e3015b",
     "showTitle": false,
     "tableResultSettingsMap": {},
     "title": ""
    }
   },
   "source": [
    "#### Checking to see if there are any non-managed tables with a Databricks Agent Header"
   ]
  },
  {
   "cell_type": "code",
   "execution_count": 0,
   "metadata": {
    "application/vnd.databricks.v1+cell": {
     "cellMetadata": {
      "byteLimit": 2048000,
      "rowLimit": 10000
     },
     "inputWidgets": {},
     "nuid": "f83489d5-8ab0-4614-8792-581fa142a565",
     "showTitle": false,
     "tableResultSettingsMap": {
      "0": {
       "dataGridStateBlob": null,
       "filterBlob": "{\"filterGroups\":[],\"syncTimestamp\":1744834476951}",
       "queryPlanFiltersBlob": null,
       "tableResultIndex": 0
      }
     },
     "title": ""
    }
   },
   "outputs": [
    {
     "output_type": "display_data",
     "data": {
      "text/html": [
       "<style scoped>\n",
       "  .table-result-container {\n",
       "    max-height: 300px;\n",
       "    overflow: auto;\n",
       "  }\n",
       "  table, th, td {\n",
       "    border: 1px solid black;\n",
       "    border-collapse: collapse;\n",
       "  }\n",
       "  th, td {\n",
       "    padding: 5px;\n",
       "  }\n",
       "  th {\n",
       "    text-align: left;\n",
       "  }\n",
       "</style><div class='table-result-container'><table class='table-result'><thead style='background-color: white'><tr><th>storage_time</th><th>IT_ParsedPath</th><th>IT_TableName</th><th>IT_TableType</th><th>Storage_userAgentHeader</th><th>Storage_Category</th></tr></thead><tbody><tr><td>2025-04-12T18:18:32.431Z</td><td>/stsezsandbox07/pos-dev/d1</td><td>main.default.my_table</td><td>EXTERNAL</td><td>APN/1.0 Databricks/1.0 DBR/null</td><td>StorageRead</td></tr><tr><td>2025-04-16T20:41:58.932Z</td><td>/stsezsandbox07/pos-dev/d1</td><td>main.default.my_table</td><td>EXTERNAL</td><td>APN/1.0 Databricks/1.0 DBR/null</td><td>StorageRead</td></tr><tr><td>2025-04-16T20:41:59.052Z</td><td>/stsezsandbox07/pos-dev/d1</td><td>main.default.my_table</td><td>EXTERNAL</td><td>APN/1.0 Databricks/1.0 DBR/null</td><td>StorageRead</td></tr><tr><td>2025-04-16T20:41:58.962Z</td><td>/stsezsandbox07/pos-dev/d1</td><td>main.default.my_table</td><td>EXTERNAL</td><td>APN/1.0 Databricks/1.0 DBR/null</td><td>StorageRead</td></tr><tr><td>2025-04-12T18:18:30.860Z</td><td>/stsezsandbox07/pos-dev/d1</td><td>main.default.my_table</td><td>EXTERNAL</td><td>APN/1.0 Databricks/1.0 DBR/null</td><td>StorageRead</td></tr><tr><td>2025-04-16T20:41:58.720Z</td><td>/stsezsandbox07/pos-dev/d1</td><td>main.default.my_table</td><td>EXTERNAL</td><td>APN/1.0 Databricks/1.0 DBR/null</td><td>StorageRead</td></tr><tr><td>2025-04-12T18:18:30.906Z</td><td>/stsezsandbox07/pos-dev/d1</td><td>main.default.my_table</td><td>EXTERNAL</td><td>APN/1.0 Databricks/1.0 DBR/null</td><td>StorageRead</td></tr><tr><td>2025-04-16T20:41:58.937Z</td><td>/stsezsandbox07/pos-dev/d1</td><td>main.default.my_table</td><td>EXTERNAL</td><td>APN/1.0 Databricks/1.0 DBR/null</td><td>StorageRead</td></tr><tr><td>2025-04-12T18:18:30.947Z</td><td>/stsezsandbox07/pos-dev/d1</td><td>main.default.my_table</td><td>EXTERNAL</td><td>APN/1.0 Databricks/1.0 DBR/null</td><td>StorageRead</td></tr><tr><td>2025-04-16T20:41:58.601Z</td><td>/stsezsandbox07/pos-dev/d1</td><td>main.default.my_table</td><td>EXTERNAL</td><td>APN/1.0 Databricks/1.0 DBR/null</td><td>StorageRead</td></tr></tbody></table></div>"
      ]
     },
     "metadata": {
      "application/vnd.databricks.v1+output": {
       "addedWidgets": {},
       "aggData": [],
       "aggError": "",
       "aggOverflow": false,
       "aggSchema": [],
       "aggSeriesLimitReached": false,
       "aggType": "",
       "arguments": {},
       "columnCustomDisplayInfos": {},
       "data": [
        [
         "2025-04-12T18:18:32.431Z",
         "/stsezsandbox07/pos-dev/d1",
         "main.default.my_table",
         "EXTERNAL",
         "APN/1.0 Databricks/1.0 DBR/null",
         "StorageRead"
        ],
        [
         "2025-04-16T20:41:58.932Z",
         "/stsezsandbox07/pos-dev/d1",
         "main.default.my_table",
         "EXTERNAL",
         "APN/1.0 Databricks/1.0 DBR/null",
         "StorageRead"
        ],
        [
         "2025-04-16T20:41:59.052Z",
         "/stsezsandbox07/pos-dev/d1",
         "main.default.my_table",
         "EXTERNAL",
         "APN/1.0 Databricks/1.0 DBR/null",
         "StorageRead"
        ],
        [
         "2025-04-16T20:41:58.962Z",
         "/stsezsandbox07/pos-dev/d1",
         "main.default.my_table",
         "EXTERNAL",
         "APN/1.0 Databricks/1.0 DBR/null",
         "StorageRead"
        ],
        [
         "2025-04-12T18:18:30.860Z",
         "/stsezsandbox07/pos-dev/d1",
         "main.default.my_table",
         "EXTERNAL",
         "APN/1.0 Databricks/1.0 DBR/null",
         "StorageRead"
        ],
        [
         "2025-04-16T20:41:58.720Z",
         "/stsezsandbox07/pos-dev/d1",
         "main.default.my_table",
         "EXTERNAL",
         "APN/1.0 Databricks/1.0 DBR/null",
         "StorageRead"
        ],
        [
         "2025-04-12T18:18:30.906Z",
         "/stsezsandbox07/pos-dev/d1",
         "main.default.my_table",
         "EXTERNAL",
         "APN/1.0 Databricks/1.0 DBR/null",
         "StorageRead"
        ],
        [
         "2025-04-16T20:41:58.937Z",
         "/stsezsandbox07/pos-dev/d1",
         "main.default.my_table",
         "EXTERNAL",
         "APN/1.0 Databricks/1.0 DBR/null",
         "StorageRead"
        ],
        [
         "2025-04-12T18:18:30.947Z",
         "/stsezsandbox07/pos-dev/d1",
         "main.default.my_table",
         "EXTERNAL",
         "APN/1.0 Databricks/1.0 DBR/null",
         "StorageRead"
        ],
        [
         "2025-04-16T20:41:58.601Z",
         "/stsezsandbox07/pos-dev/d1",
         "main.default.my_table",
         "EXTERNAL",
         "APN/1.0 Databricks/1.0 DBR/null",
         "StorageRead"
        ]
       ],
       "datasetInfos": [
        {
         "name": "_sqldf",
         "schema": {
          "fields": [
           {
            "metadata": {},
            "name": "storage_time",
            "nullable": true,
            "type": "timestamp"
           },
           {
            "metadata": {},
            "name": "IT_ParsedPath",
            "nullable": true,
            "type": "string"
           },
           {
            "metadata": {},
            "name": "IT_TableName",
            "nullable": true,
            "type": "string"
           },
           {
            "metadata": {
             "comment": "One of 'BASE TABLE', 'VIEW'."
            },
            "name": "IT_TableType",
            "nullable": true,
            "type": "string"
           },
           {
            "metadata": {},
            "name": "Storage_userAgentHeader",
            "nullable": true,
            "type": "string"
           },
           {
            "metadata": {},
            "name": "Storage_Category",
            "nullable": true,
            "type": "string"
           }
          ],
          "type": "struct"
         },
         "tableIdentifier": null,
         "typeStr": "pyspark.sql.connect.dataframe.DataFrame"
        }
       ],
       "dbfsResultPath": null,
       "isJsonSchema": true,
       "metadata": {
        "createTempViewForImplicitDf": true,
        "dataframeName": "_sqldf",
        "executionCount": 98
       },
       "overflow": false,
       "plotOptions": {
        "customPlotOptions": {},
        "displayType": "table",
        "pivotAggregation": null,
        "pivotColumns": null,
        "xColumns": null,
        "yColumns": null
       },
       "removedWidgets": [],
       "schema": [
        {
         "metadata": "{}",
         "name": "storage_time",
         "type": "\"timestamp\""
        },
        {
         "metadata": "{}",
         "name": "IT_ParsedPath",
         "type": "\"string\""
        },
        {
         "metadata": "{}",
         "name": "IT_TableName",
         "type": "\"string\""
        },
        {
         "metadata": "{\"comment\": \"One of 'BASE TABLE', 'VIEW'.\"}",
         "name": "IT_TableType",
         "type": "\"string\""
        },
        {
         "metadata": "{}",
         "name": "Storage_userAgentHeader",
         "type": "\"string\""
        },
        {
         "metadata": "{}",
         "name": "Storage_Category",
         "type": "\"string\""
        }
       ],
       "type": "table"
      }
     },
     "output_type": "display_data"
    }
   ],
   "source": [
    "SELECT\n",
    "  storage_time,\n",
    "  IT_ParsedPath,\n",
    "  IT_TableName,\n",
    "  IT_TableType,\n",
    "  Storage_userAgentHeader,\n",
    "  Storage_Category\n",
    "FROM\n",
    "  slog.default.vw_storagelogs_information_schema\n",
    "WHERE\n",
    "  lower(Storage_userAgentHeader) like '%databricks%'\n",
    "  and lower(IT_TableType) != 'managed'\n",
    "GROUP BY\n",
    "  storage_time,\n",
    "  IT_ParsedPath,\n",
    "  IT_TableName,\n",
    "  IT_TableType,\n",
    "  Storage_userAgentHeader,\n",
    "  Storage_Category"
   ]
  },
  {
   "cell_type": "markdown",
   "metadata": {
    "application/vnd.databricks.v1+cell": {
     "cellMetadata": {},
     "inputWidgets": {},
     "nuid": "34fb43e5-efef-4320-8a4b-60e040f52b56",
     "showTitle": false,
     "tableResultSettingsMap": {},
     "title": ""
    }
   },
   "source": [
    "#### Getting list candidates to upgrade to managed"
   ]
  },
  {
   "cell_type": "code",
   "execution_count": 0,
   "metadata": {
    "application/vnd.databricks.v1+cell": {
     "cellMetadata": {
      "byteLimit": 2048000,
      "rowLimit": 10000
     },
     "inputWidgets": {},
     "nuid": "ee3bcf1a-b77f-4303-9b3c-684d52cb67bf",
     "showTitle": false,
     "tableResultSettingsMap": {},
     "title": ""
    }
   },
   "outputs": [
    {
     "output_type": "display_data",
     "data": {
      "text/html": [
       "<style scoped>\n",
       "  .table-result-container {\n",
       "    max-height: 300px;\n",
       "    overflow: auto;\n",
       "  }\n",
       "  table, th, td {\n",
       "    border: 1px solid black;\n",
       "    border-collapse: collapse;\n",
       "  }\n",
       "  th, td {\n",
       "    padding: 5px;\n",
       "  }\n",
       "  th {\n",
       "    text-align: left;\n",
       "  }\n",
       "</style><div class='table-result-container'><table class='table-result'><thead style='background-color: white'><tr><th>Storage_AccountName</th><th>Job_Run_TS</th><th>IT_TableName</th><th>total_read_count</th><th>write_delete_count</th><th>good_candidate</th><th>from_external_platform</th></tr></thead><tbody><tr><td>stsezsandbox07</td><td>2025-04-18T11:27:55.123Z</td><td>main.default.my_table</td><td>66</td><td>26</td><td>0</td><td>0</td></tr><tr><td>stsezsandbox07</td><td>2025-04-18T11:27:55.123Z</td><td>pos_dev.retailer_na.pos_snapshots</td><td>13</td><td>0</td><td>1</td><td>1</td></tr><tr><td>stsezsandbox07</td><td>2025-04-18T11:27:55.123Z</td><td>pos_dev.retailer_na.pos_generator</td><td>4</td><td>0</td><td>1</td><td>1</td></tr><tr><td>stsezsandbox07</td><td>2025-04-18T11:27:55.123Z</td><td>pos_dev.retailer_na.pos_static</td><td>3</td><td>0</td><td>1</td><td>1</td></tr></tbody></table></div>"
      ]
     },
     "metadata": {
      "application/vnd.databricks.v1+output": {
       "addedWidgets": {},
       "aggData": [],
       "aggError": "",
       "aggOverflow": false,
       "aggSchema": [],
       "aggSeriesLimitReached": false,
       "aggType": "",
       "arguments": {},
       "columnCustomDisplayInfos": {},
       "data": [
        [
         "stsezsandbox07",
         "2025-04-18T11:27:55.123Z",
         "main.default.my_table",
         66,
         26,
         0,
         0
        ],
        [
         "stsezsandbox07",
         "2025-04-18T11:27:55.123Z",
         "pos_dev.retailer_na.pos_snapshots",
         13,
         0,
         1,
         1
        ],
        [
         "stsezsandbox07",
         "2025-04-18T11:27:55.123Z",
         "pos_dev.retailer_na.pos_generator",
         4,
         0,
         1,
         1
        ],
        [
         "stsezsandbox07",
         "2025-04-18T11:27:55.123Z",
         "pos_dev.retailer_na.pos_static",
         3,
         0,
         1,
         1
        ]
       ],
       "datasetInfos": [
        {
         "name": "_sqldf",
         "schema": {
          "fields": [
           {
            "metadata": {},
            "name": "Storage_AccountName",
            "nullable": true,
            "type": "string"
           },
           {
            "metadata": {},
            "name": "Job_Run_TS",
            "nullable": true,
            "type": "timestamp"
           },
           {
            "metadata": {},
            "name": "IT_TableName",
            "nullable": true,
            "type": "string"
           },
           {
            "metadata": {},
            "name": "total_read_count",
            "nullable": false,
            "type": "long"
           },
           {
            "metadata": {},
            "name": "write_delete_count",
            "nullable": false,
            "type": "long"
           },
           {
            "metadata": {},
            "name": "good_candidate",
            "nullable": false,
            "type": "integer"
           },
           {
            "metadata": {},
            "name": "from_external_platform",
            "nullable": false,
            "type": "integer"
           }
          ],
          "type": "struct"
         },
         "tableIdentifier": null,
         "typeStr": "pyspark.sql.connect.dataframe.DataFrame"
        }
       ],
       "dbfsResultPath": null,
       "isJsonSchema": true,
       "metadata": {
        "createTempViewForImplicitDf": true,
        "dataframeName": "_sqldf",
        "executionCount": 100
       },
       "overflow": false,
       "plotOptions": {
        "customPlotOptions": {},
        "displayType": "table",
        "pivotAggregation": null,
        "pivotColumns": null,
        "xColumns": null,
        "yColumns": null
       },
       "removedWidgets": [],
       "schema": [
        {
         "metadata": "{}",
         "name": "Storage_AccountName",
         "type": "\"string\""
        },
        {
         "metadata": "{}",
         "name": "Job_Run_TS",
         "type": "\"timestamp\""
        },
        {
         "metadata": "{}",
         "name": "IT_TableName",
         "type": "\"string\""
        },
        {
         "metadata": "{}",
         "name": "total_read_count",
         "type": "\"long\""
        },
        {
         "metadata": "{}",
         "name": "write_delete_count",
         "type": "\"long\""
        },
        {
         "metadata": "{}",
         "name": "good_candidate",
         "type": "\"integer\""
        },
        {
         "metadata": "{}",
         "name": "from_external_platform",
         "type": "\"integer\""
        }
       ],
       "type": "table"
      }
     },
     "output_type": "display_data"
    }
   ],
   "source": [
    "-- Get the latest timestamp for the \"eventhub_storage_log_setup\" job\n",
    "with last_run_timestamp as (\n",
    "  select\n",
    "    max(period_start_time) as last_run_timestamp\n",
    "  from\n",
    "    system.lakeflow.job_run_timeline\n",
    "  where\n",
    "    job_id = '1072068050595527'\n",
    ")\n",
    "\n",
    "-- Identify list of tables that are good candidates to move to managed tables\n",
    "select\n",
    "  src.Storage_AccountName,\n",
    "  last_run_timestamp.last_run_timestamp as Job_Run_TS,\n",
    "  src.IT_TableName,\n",
    "  coalesce(sum(case when src.Storage_Category = 'StorageRead' then src.operation_count else 0 end), 0) as total_read_count,\n",
    "  coalesce(sum(case when src.Storage_Category = 'StorageWrite' then src.operation_count else 0 end), 0) + \n",
    "  coalesce(sum(case when src.Storage_Category = 'StorageDelete' then src.operation_count else 0 end), 0) as write_delete_count,\n",
    "  case\n",
    "    when coalesce(sum(case when src.Storage_Category = 'StorageWrite' then src.operation_count else 0 end), 0) + \n",
    "    coalesce(sum(case when src.Storage_Category = 'StorageDelete' then src.operation_count else 0 end), 0) = 0 then 1\n",
    "    else 0\n",
    "  end as good_candidate,\n",
    "  case\n",
    "    when sum(case when lower(src.Storage_userAgentHeader) like '%databricks%' then 1 else 0 end) > 0 then 0\n",
    "    else 1\n",
    "  end as from_external_platform\n",
    "from\n",
    "  (\n",
    "    select\n",
    "      Storage_AccountName,\n",
    "      Date(Storage_Time) as Storage_Date,\n",
    "      lower(Storage_userAgentHeader) as Storage_userAgentHeader,\n",
    "      IT_TableName,\n",
    "      IT_TableType,\n",
    "      Storage_Category,\n",
    "      count(*) as operation_count\n",
    "    from\n",
    "      slog.default.vw_storagelogs_information_schema\n",
    "    where\n",
    "      IT_TableType = 'EXTERNAL' and\n",
    "      Storage_Category in ('StorageRead', 'StorageWrite', 'StorageDelete')\n",
    "    group by\n",
    "      Storage_AccountName,\n",
    "      Storage_Time,\n",
    "      Storage_userAgentHeader,\n",
    "      IT_TableName,\n",
    "      IT_TableType,\n",
    "      Storage_Category\n",
    "  ) src\n",
    "  join last_run_timestamp\n",
    "group by\n",
    "  src.Storage_AccountName,\n",
    "  src.IT_TableName,\n",
    "  last_run_timestamp.last_run_timestamp\n",
    "order by\n",
    "  total_read_count desc,\n",
    "  write_delete_count desc"
   ]
  },
  {
   "cell_type": "markdown",
   "metadata": {
    "application/vnd.databricks.v1+cell": {
     "cellMetadata": {},
     "inputWidgets": {},
     "nuid": "7373af9e-1347-4c89-bf9d-eb67eeb2fe60",
     "showTitle": false,
     "tableResultSettingsMap": {},
     "title": ""
    }
   },
   "source": [
    "#View of Delta Tables not registered in Unity Catalog\n",
    "\n",
    "Review all delta table storage paths that are not registred in Unity Catalog and see what operations are being done."
   ]
  },
  {
   "cell_type": "code",
   "execution_count": 0,
   "metadata": {
    "application/vnd.databricks.v1+cell": {
     "cellMetadata": {
      "byteLimit": 2048000,
      "rowLimit": 10000
     },
     "inputWidgets": {},
     "nuid": "9f38577f-39ef-4649-add2-b0d39f05d090",
     "showTitle": false,
     "tableResultSettingsMap": {},
     "title": ""
    }
   },
   "outputs": [
    {
     "output_type": "display_data",
     "data": {
      "text/html": [
       "<style scoped>\n",
       "  .table-result-container {\n",
       "    max-height: 300px;\n",
       "    overflow: auto;\n",
       "  }\n",
       "  table, th, td {\n",
       "    border: 1px solid black;\n",
       "    border-collapse: collapse;\n",
       "  }\n",
       "  th, td {\n",
       "    padding: 5px;\n",
       "  }\n",
       "  th {\n",
       "    text-align: left;\n",
       "  }\n",
       "</style><div class='table-result-container'><table class='table-result'><thead style='background-color: white'><tr><th>Storage_AccountName</th><th>Storage_RelativePath</th><th>read_count</th><th>write_count</th><th>delete_count</th></tr></thead><tbody><tr><td>stsezsandbox07</td><td>/stsezsandbox07/pos-dev/d2/_delta_log</td><td>null</td><td>1</td><td>null</td></tr></tbody></table></div>"
      ]
     },
     "metadata": {
      "application/vnd.databricks.v1+output": {
       "addedWidgets": {},
       "aggData": [],
       "aggError": "",
       "aggOverflow": false,
       "aggSchema": [],
       "aggSeriesLimitReached": false,
       "aggType": "",
       "arguments": {},
       "columnCustomDisplayInfos": {},
       "data": [
        [
         "stsezsandbox07",
         "/stsezsandbox07/pos-dev/d2/_delta_log",
         null,
         1,
         null
        ]
       ],
       "datasetInfos": [
        {
         "name": "_sqldf",
         "schema": {
          "fields": [
           {
            "metadata": {},
            "name": "Storage_AccountName",
            "nullable": true,
            "type": "string"
           },
           {
            "metadata": {},
            "name": "Storage_RelativePath",
            "nullable": true,
            "type": "string"
           },
           {
            "metadata": {},
            "name": "read_count",
            "nullable": true,
            "type": "long"
           },
           {
            "metadata": {},
            "name": "write_count",
            "nullable": true,
            "type": "long"
           },
           {
            "metadata": {},
            "name": "delete_count",
            "nullable": true,
            "type": "long"
           }
          ],
          "type": "struct"
         },
         "tableIdentifier": null,
         "typeStr": "pyspark.sql.connect.dataframe.DataFrame"
        }
       ],
       "dbfsResultPath": null,
       "isJsonSchema": true,
       "metadata": {
        "createTempViewForImplicitDf": true,
        "dataframeName": "_sqldf",
        "executionCount": 96
       },
       "overflow": false,
       "plotOptions": {
        "customPlotOptions": {},
        "displayType": "table",
        "pivotAggregation": null,
        "pivotColumns": null,
        "xColumns": null,
        "yColumns": null
       },
       "removedWidgets": [],
       "schema": [
        {
         "metadata": "{}",
         "name": "Storage_AccountName",
         "type": "\"string\""
        },
        {
         "metadata": "{}",
         "name": "Storage_RelativePath",
         "type": "\"string\""
        },
        {
         "metadata": "{}",
         "name": "read_count",
         "type": "\"long\""
        },
        {
         "metadata": "{}",
         "name": "write_count",
         "type": "\"long\""
        },
        {
         "metadata": "{}",
         "name": "delete_count",
         "type": "\"long\""
        }
       ],
       "type": "table"
      }
     },
     "output_type": "display_data"
    }
   ],
   "source": [
    "-- DELTA_LOG INTERROGATION OF PATHS\n",
    "with external_tables_not_registered as (\n",
    "  select\n",
    "    Storage_AccountName,\n",
    "    REGEXP_REPLACE(Storage_RelativePath, '^[^/]+://[^/]+/$', '') as Storage_RelativePath,\n",
    "    Storage_Category,\n",
    "    count(*) as operation_count\n",
    "  from\n",
    "    slog.default.vw_storagelogs_information_schema\n",
    "  where\n",
    "    IT_TableType is null\n",
    "    and lower(REGEXP_REPLACE(Storage_RelativePath, '^[^/]+://[^/]+/$', '')) like '%/_delta_log'\n",
    "    and lower(REGEXP_REPLACE(Storage_RelativePath, '^[^/]+://[^/]+/$', '')) not like '%unity%'\n",
    "  group by\n",
    "    Storage_AccountName,\n",
    "    REGEXP_REPLACE(Storage_RelativePath, '^[^/]+://[^/]+/$', ''),\n",
    "    Storage_Category\n",
    "  order by\n",
    "    operation_count desc\n",
    ")\n",
    "select\n",
    "  *\n",
    "from\n",
    "  external_tables_not_registered\n",
    "pivot (\n",
    "  max(operation_count) for Storage_Category in ('StorageRead' as read_count, 'StorageWrite' as write_count, 'StorageDelete' as delete_count)\n",
    ")"
   ]
  }
 ],
 "metadata": {
  "application/vnd.databricks.v1+notebook": {
   "computePreferences": null,
   "dashboards": [],
   "environmentMetadata": {
    "base_environment": "",
    "environment_version": "2"
   },
   "inputWidgetPreferences": null,
   "language": "sql",
   "notebookMetadata": {
    "pythonIndentUnit": 4
   },
   "notebookName": "SLOG - Exploration",
   "widgets": {}
  },
  "language_info": {
   "name": "sql"
  }
 },
 "nbformat": 4,
 "nbformat_minor": 0
}