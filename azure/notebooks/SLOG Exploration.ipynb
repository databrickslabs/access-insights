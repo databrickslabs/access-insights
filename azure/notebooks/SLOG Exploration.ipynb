{
 "cells": [
  {
   "cell_type": "markdown",
   "metadata": {
    "application/vnd.databricks.v1+cell": {
     "cellMetadata": {},
     "inputWidgets": {},
     "nuid": "20b33acc-20e4-4530-9387-ee7747d1fabc",
     "showTitle": false,
     "tableResultSettingsMap": {},
     "title": ""
    }
   },
   "source": [
    "%md\n",
    "####Look into external tools \n",
    "- Objective - Look into read, write, delete operations on Storage for external tables ONLY.   To identify good candidates that can be migrated to Managed Tables.\n",
    "  - Identify if an external table is being leveraged by an external platform. If it is it would not be a good candidate until the write operations subside.\n",
    "\n",
    "External Table -> main.default.mytable\n",
    "- Leveraged by Databricks\n",
    "- Leveraged by External Platforms, Read Only for Good Candidate\n",
    "\n",
    "External Table -> main.default.xyz\n",
    "- Leveraged by Databricks\n",
    "- Good Candidate would be read, write, delete"
   ]
  },
  {
   "cell_type": "code",
   "execution_count": 0,
   "metadata": {
    "application/vnd.databricks.v1+cell": {
     "cellMetadata": {
      "byteLimit": 2048000,
      "rowLimit": 10000
     },
     "inputWidgets": {},
     "nuid": "19267da3-9cc4-45d2-acb6-37c3baa181b0",
     "showTitle": false,
     "tableResultSettingsMap": {
      "0": {
       "dataGridStateBlob": null,
       "filterBlob": "{\"filterGroups\":[],\"syncTimestamp\":1743821413501}",
       "queryPlanFiltersBlob": null,
       "tableResultIndex": 0
      }
     },
     "title": ""
    },
    "vscode": {
     "languageId": "sql"
    }
   },
   "outputs": [
    {
     "data": {
      "text/html": [
       "<style scoped>\n",
       "  .table-result-container {\n",
       "    max-height: 300px;\n",
       "    overflow: auto;\n",
       "  }\n",
       "  table, th, td {\n",
       "    border: 1px solid black;\n",
       "    border-collapse: collapse;\n",
       "  }\n",
       "  th, td {\n",
       "    padding: 5px;\n",
       "  }\n",
       "  th {\n",
       "    text-align: left;\n",
       "  }\n",
       "</style><div class='table-result-container'><table class='table-result'><thead style='background-color: white'><tr><th>Storage_AccountName</th><th>IT_TableName</th><th>IT_TableType</th><th>from_external_platform</th><th>Storage_OperationName</th><th>operation_count</th></tr></thead><tbody><tr><td>stsezsandbox07</td><td>main.default.my_table</td><td>EXTERNAL</td><td>0</td><td>GetPathStatus</td><td>15</td></tr><tr><td>stsezsandbox07</td><td>pos_dev.retailer_na.pos_snapshots</td><td>EXTERNAL</td><td>0</td><td>GetBlob</td><td>13</td></tr><tr><td>stsezsandbox07</td><td>main.default.my_table</td><td>EXTERNAL</td><td>0</td><td>ReadFile</td><td>9</td></tr><tr><td>stsezsandbox07</td><td>main.default.my_table</td><td>EXTERNAL</td><td>0</td><td>FlushFile</td><td>6</td></tr><tr><td>stsezsandbox07</td><td>main.default.my_table</td><td>EXTERNAL</td><td>0</td><td>CreatePathFile</td><td>6</td></tr><tr><td>stsezsandbox07</td><td>main.default.my_table</td><td>EXTERNAL</td><td>0</td><td>AppendFile</td><td>6</td></tr><tr><td>stsezsandbox07</td><td>pos_dev.retailer_na.pos_generator</td><td>EXTERNAL</td><td>0</td><td>GetBlob</td><td>4</td></tr><tr><td>stsezsandbox07</td><td>main.default.my_table</td><td>EXTERNAL</td><td>0</td><td>RenamePathFile</td><td>4</td></tr><tr><td>stsezsandbox07</td><td>pos_dev.retailer_na.pos_static</td><td>EXTERNAL</td><td>0</td><td>GetBlob</td><td>3</td></tr><tr><td>stsezsandbox07</td><td>main.default.my_table</td><td>EXTERNAL</td><td>0</td><td>GetBlob</td><td>1</td></tr></tbody></table></div>"
      ]
     },
     "metadata": {
      "application/vnd.databricks.v1+output": {
       "addedWidgets": {},
       "aggData": [],
       "aggError": "",
       "aggOverflow": false,
       "aggSchema": [],
       "aggSeriesLimitReached": false,
       "aggType": "",
       "arguments": {},
       "columnCustomDisplayInfos": {},
       "data": [
        [
         "stsezsandbox07",
         "main.default.my_table",
         "EXTERNAL",
         0,
         "GetPathStatus",
         15
        ],
        [
         "stsezsandbox07",
         "pos_dev.retailer_na.pos_snapshots",
         "EXTERNAL",
         0,
         "GetBlob",
         13
        ],
        [
         "stsezsandbox07",
         "main.default.my_table",
         "EXTERNAL",
         0,
         "ReadFile",
         9
        ],
        [
         "stsezsandbox07",
         "main.default.my_table",
         "EXTERNAL",
         0,
         "FlushFile",
         6
        ],
        [
         "stsezsandbox07",
         "main.default.my_table",
         "EXTERNAL",
         0,
         "CreatePathFile",
         6
        ],
        [
         "stsezsandbox07",
         "main.default.my_table",
         "EXTERNAL",
         0,
         "AppendFile",
         6
        ],
        [
         "stsezsandbox07",
         "pos_dev.retailer_na.pos_generator",
         "EXTERNAL",
         0,
         "GetBlob",
         4
        ],
        [
         "stsezsandbox07",
         "main.default.my_table",
         "EXTERNAL",
         0,
         "RenamePathFile",
         4
        ],
        [
         "stsezsandbox07",
         "pos_dev.retailer_na.pos_static",
         "EXTERNAL",
         0,
         "GetBlob",
         3
        ],
        [
         "stsezsandbox07",
         "main.default.my_table",
         "EXTERNAL",
         0,
         "GetBlob",
         1
        ]
       ],
       "datasetInfos": [
        {
         "name": "_sqldf",
         "schema": {
          "fields": [
           {
            "metadata": {},
            "name": "Storage_AccountName",
            "nullable": true,
            "type": "string"
           },
           {
            "metadata": {},
            "name": "IT_TableName",
            "nullable": true,
            "type": "string"
           },
           {
            "metadata": {
             "comment": "One of 'BASE TABLE', 'VIEW'."
            },
            "name": "IT_TableType",
            "nullable": true,
            "type": "string"
           },
           {
            "metadata": {},
            "name": "from_external_platform",
            "nullable": false,
            "type": "integer"
           },
           {
            "metadata": {},
            "name": "Storage_OperationName",
            "nullable": true,
            "type": "string"
           },
           {
            "metadata": {},
            "name": "operation_count",
            "nullable": false,
            "type": "long"
           }
          ],
          "type": "struct"
         },
         "tableIdentifier": null,
         "typeStr": "pyspark.sql.connect.dataframe.DataFrame"
        }
       ],
       "dbfsResultPath": null,
       "isJsonSchema": true,
       "metadata": {
        "createTempViewForImplicitDf": true,
        "dataframeName": "_sqldf",
        "executionCount": 6
       },
       "overflow": false,
       "plotOptions": {
        "customPlotOptions": {},
        "displayType": "table",
        "pivotAggregation": null,
        "pivotColumns": null,
        "xColumns": null,
        "yColumns": null
       },
       "removedWidgets": [],
       "schema": [
        {
         "metadata": "{}",
         "name": "Storage_AccountName",
         "type": "\"string\""
        },
        {
         "metadata": "{}",
         "name": "IT_TableName",
         "type": "\"string\""
        },
        {
         "metadata": "{\"comment\": \"One of 'BASE TABLE', 'VIEW'.\"}",
         "name": "IT_TableType",
         "type": "\"string\""
        },
        {
         "metadata": "{}",
         "name": "from_external_platform",
         "type": "\"integer\""
        },
        {
         "metadata": "{}",
         "name": "Storage_OperationName",
         "type": "\"string\""
        },
        {
         "metadata": "{}",
         "name": "operation_count",
         "type": "\"long\""
        }
       ],
       "type": "table"
      }
     },
     "output_type": "display_data"
    },
    {
     "data": {
      "text/plain": [
       "Databricks visualization. Run in Databricks to view."
      ]
     },
     "metadata": {
      "application/vnd.databricks.v1.subcommand+json": {
       "baseErrorDetails": null,
       "bindings": {},
       "collapsed": false,
       "command": "%sql WITH q AS (select\n  Storage_AccountName,\n  REGEXP_REPLACE(Storage_RelativePath, '^[^/]+://[^/]+/([^/]+)', '') as Storage_RelativePath,\n  \n  IT_TableName,\n  IT_TableType,\n  Storage_OperationName,\n  count(*) as operation_count\nfrom\n  slog.default.vw_storagelogs_information_schema\ngroup by\n  Storage_AccountName,\n  \n  REGEXP_REPLACE(Storage_RelativePath, '^[^/]+://[^/]+/([^/]+)', ''),\n  IT_TableName,\n  IT_TableType,\n  Storage_OperationName\norder by\n  operation_count desc) SELECT `IT_TableType`,`Storage_OperationName`,SUM(`operation_count`) `operation_count_alias` FROM q GROUP BY `IT_TableType`,`Storage_OperationName` ORDER BY `IT_TableType` ASC,`Storage_OperationName` ASC",
       "commandTitle": "Pivot of Operations",
       "commandType": "auto",
       "commandVersion": 0,
       "commentThread": [],
       "commentsVisible": false,
       "contentSha256Hex": null,
       "customPlotOptions": {
        "redashChart": [
         {
          "key": "type",
          "value": "PIVOT_TABLE"
         },
         {
          "key": "options",
          "value": {
           "cell": {
            "field": "operation_count",
            "transform": {
             "fn": "sum"
            }
           },
           "colorCellsByValue": true,
           "columns": [
            {
             "field": "Storage_OperationName",
             "sort": "ascending"
            }
           ],
           "rows": [
            {
             "field": "IT_TableType",
             "sort": "ascending"
            }
           ]
          }
         }
        ]
       },
       "datasetPreviewNameToCmdIdMap": {},
       "diffDeletes": [],
       "diffInserts": [],
       "displayType": "redashChart",
       "error": null,
       "errorDetails": null,
       "errorSummary": null,
       "errorTraceType": null,
       "finishTime": 0,
       "globalVars": {},
       "guid": "",
       "height": "auto",
       "hideCommandCode": false,
       "hideCommandResult": false,
       "iPythonMetadata": null,
       "inputWidgets": {},
       "isLockedInExamMode": false,
       "latestUser": "a user",
       "latestUserId": null,
       "listResultMetadata": null,
       "metadata": {},
       "nuid": "1ebcd452-6e12-4665-9a05-c7d352f48258",
       "origId": 0,
       "parentHierarchy": [],
       "pivotAggregation": null,
       "pivotColumns": null,
       "position": 0.875,
       "resultDbfsErrorMessage": null,
       "resultDbfsStatus": "INLINED_IN_TREE",
       "results": null,
       "showCommandTitle": false,
       "startTime": 0,
       "state": "input",
       "streamStates": {},
       "subcommandOptions": {
        "queryPlan": {
         "groups": [
          {
           "column": "IT_TableType",
           "type": "column"
          },
          {
           "column": "Storage_OperationName",
           "type": "column"
          }
         ],
         "order_by": [
          {
           "direction": "asc",
           "expression": {
            "identifier": "IT_TableType",
            "kind": "identifier"
           }
          },
          {
           "direction": "asc",
           "expression": {
            "identifier": "Storage_OperationName",
            "kind": "identifier"
           }
          }
         ],
         "selects": [
          {
           "column": "IT_TableType",
           "type": "column"
          },
          {
           "column": "Storage_OperationName",
           "type": "column"
          },
          {
           "alias": "operation_count_alias",
           "args": [
            {
             "column": "operation_count",
             "type": "column"
            }
           ],
           "function": "SUM",
           "type": "function"
          }
         ]
        }
       },
       "submitTime": 0,
       "subtype": "tableResultSubCmd.visualization",
       "tableResultIndex": 0,
       "tableResultSettingsMap": {},
       "useConsistentColors": false,
       "version": "CommandV1",
       "width": "auto",
       "workflows": [],
       "xColumns": null,
       "yColumns": null
      }
     },
     "output_type": "display_data"
    },
    {
     "data": {
      "text/plain": [
       "Databricks visualization. Run in Databricks to view."
      ]
     },
     "metadata": {
      "application/vnd.databricks.v1.subcommand+json": {
       "baseErrorDetails": null,
       "bindings": {},
       "collapsed": false,
       "command": "%sql WITH q AS (select\n  REGEXP_REPLACE(Storage_RelativePath, '/[^/]+$', '') as Storage_RelativePath,\n  IT_TableName,\n  Storage_OperationName,\n  count(*) as operation_count\nfrom\n  slog.default.vw_storagelogs_information_schema\ngroup by\n  REGEXP_REPLACE(Storage_RelativePath, '/[^/]+$', ''),\n  IT_TableName,\n  Storage_OperationName\norder by\n  operation_count desc) SELECT `Storage_OperationName`,SUM(`operation_count`) `column_79442706289`,`IT_TableName` FROM q GROUP BY `IT_TableName`,`Storage_OperationName`",
       "commandTitle": "Plot of Operations",
       "commandType": "auto",
       "commandVersion": 0,
       "commentThread": [],
       "commentsVisible": false,
       "contentSha256Hex": null,
       "customPlotOptions": {
        "redashChart": [
         {
          "key": "type",
          "value": "CHART"
         },
         {
          "key": "options",
          "value": {
           "alignYAxesAtZero": true,
           "coefficient": 1,
           "columnConfigurationMap": {
            "series": {
             "column": "IT_TableName",
             "id": "column_79442706293"
            },
            "x": {
             "column": "Storage_OperationName",
             "id": "column_79442706287"
            },
            "y": [
             {
              "column": "operation_count",
              "id": "column_79442706289"
             }
            ]
           },
           "dateTimeFormat": "YYYY-MM-DD HH:mm",
           "direction": {
            "type": "counterclockwise"
           },
           "error_y": {
            "type": "data",
            "visible": true
           },
           "globalSeriesType": "scatter",
           "legend": {
            "traceorder": "normal"
           },
           "missingValuesAsZero": true,
           "numberFormat": "0,0.[00000]",
           "percentFormat": "0[.]00%",
           "series": {
            "error_y": {
             "type": "data",
             "visible": true
            },
            "stacking": null
           },
           "seriesOptions": {
            "column_79442706289": {
             "type": "scatter",
             "yAxis": 0
            },
            "operation_count": {
             "type": "scatter",
             "yAxis": 0
            }
           },
           "showDataLabels": false,
           "sizemode": "diameter",
           "sortX": true,
           "sortY": true,
           "swappedAxes": false,
           "textFormat": "",
           "useAggregationsUi": true,
           "valuesOptions": {},
           "version": 2,
           "xAxis": {
            "labels": {
             "enabled": true
            },
            "type": "-"
           },
           "yAxis": [
            {
             "type": "-"
            },
            {
             "opposite": true,
             "type": "-"
            }
           ]
          }
         }
        ]
       },
       "datasetPreviewNameToCmdIdMap": {},
       "diffDeletes": [],
       "diffInserts": [],
       "displayType": "redashChart",
       "error": null,
       "errorDetails": null,
       "errorSummary": null,
       "errorTraceType": null,
       "finishTime": 0,
       "globalVars": {},
       "guid": "",
       "height": "auto",
       "hideCommandCode": false,
       "hideCommandResult": false,
       "iPythonMetadata": null,
       "inputWidgets": {},
       "isLockedInExamMode": false,
       "latestUser": "a user",
       "latestUserId": null,
       "listResultMetadata": null,
       "metadata": {},
       "nuid": "e05f9023-29d2-4dd3-a31b-69c70b018184",
       "origId": 0,
       "parentHierarchy": [],
       "pivotAggregation": null,
       "pivotColumns": null,
       "position": 1.75,
       "resultDbfsErrorMessage": null,
       "resultDbfsStatus": "INLINED_IN_TREE",
       "results": null,
       "showCommandTitle": false,
       "startTime": 0,
       "state": "input",
       "streamStates": {},
       "subcommandOptions": {
        "queryPlan": {
         "selects": [
          {
           "column": "Storage_OperationName",
           "type": "column"
          },
          {
           "column": "operation_count",
           "type": "column"
          },
          {
           "column": "IT_TableName",
           "type": "column"
          }
         ]
        }
       },
       "submitTime": 0,
       "subtype": "tableResultSubCmd.visualization",
       "tableResultIndex": 0,
       "tableResultSettingsMap": {},
       "useConsistentColors": false,
       "version": "CommandV1",
       "width": "auto",
       "workflows": [],
       "xColumns": null,
       "yColumns": null
      }
     },
     "output_type": "display_data"
    },
    {
     "data": {
      "text/plain": [
       "Databricks visualization. Run in Databricks to view."
      ]
     },
     "metadata": {
      "application/vnd.databricks.v1.subcommand+json": {
       "baseErrorDetails": null,
       "bindings": {},
       "collapsed": false,
       "command": "%sql WITH q AS (select\n  Storage_AccountName,\n  REGEXP_REPLACE(Storage_RelativePath, '^[^/]+://[^/]+/([^/]+)', '') as Storage_RelativePath,\n  \n  IT_TableName,\n  IT_TableType,\n  Storage_OperationName,\n  count(*) as operation_count\nfrom\n  slog.default.vw_storagelogs_information_schema\ngroup by\n  Storage_AccountName,\n  \n  REGEXP_REPLACE(Storage_RelativePath, '^[^/]+://[^/]+/([^/]+)', ''),\n  IT_TableName,\n  IT_TableType,\n  Storage_OperationName\norder by\n  operation_count desc) SELECT `IT_TableType`,COUNT(*) `column_8129dbf471`,`Storage_RelativePath` FROM q GROUP BY `IT_TableType`,`Storage_RelativePath`",
       "commandTitle": "Distribution of Table Type",
       "commandType": "auto",
       "commandVersion": 0,
       "commentThread": [],
       "commentsVisible": false,
       "contentSha256Hex": null,
       "customPlotOptions": {
        "redashChart": [
         {
          "key": "type",
          "value": "CHART"
         },
         {
          "key": "options",
          "value": {
           "alignYAxesAtZero": true,
           "coefficient": 1,
           "columnConfigurationMap": {
            "series": {
             "column": "Storage_RelativePath",
             "id": "column_8129dbf473"
            },
            "x": {
             "column": "IT_TableType",
             "id": "column_8129dbf469"
            },
            "y": [
             {
              "column": "*",
              "id": "column_8129dbf471",
              "transform": "COUNT"
             }
            ]
           },
           "dateTimeFormat": "YYYY-MM-DD HH:mm",
           "direction": {
            "type": "counterclockwise"
           },
           "error_y": {
            "type": "data",
            "visible": true
           },
           "globalSeriesType": "column",
           "isAggregationOn": true,
           "legend": {
            "traceorder": "normal"
           },
           "missingValuesAsZero": true,
           "numberFormat": "0,0.[00000]",
           "percentFormat": "0[.]00%",
           "series": {
            "error_y": {
             "type": "data",
             "visible": true
            },
            "stacking": "stack"
           },
           "seriesOptions": {
            "column_8129dbf471": {
             "type": "column",
             "yAxis": 0
            }
           },
           "showDataLabels": true,
           "sizemode": "diameter",
           "sortX": true,
           "sortY": true,
           "swappedAxes": false,
           "textFormat": "",
           "useAggregationsUi": true,
           "valuesOptions": {},
           "version": 2,
           "xAxis": {
            "labels": {
             "enabled": true
            },
            "type": "-"
           },
           "yAxis": [
            {
             "type": "-"
            },
            {
             "opposite": true,
             "type": "-"
            }
           ]
          }
         }
        ]
       },
       "datasetPreviewNameToCmdIdMap": {},
       "diffDeletes": [],
       "diffInserts": [],
       "displayType": "redashChart",
       "error": null,
       "errorDetails": null,
       "errorSummary": null,
       "errorTraceType": null,
       "finishTime": 0,
       "globalVars": {},
       "guid": "",
       "height": "auto",
       "hideCommandCode": false,
       "hideCommandResult": false,
       "iPythonMetadata": null,
       "inputWidgets": {},
       "isLockedInExamMode": false,
       "latestUser": "a user",
       "latestUserId": null,
       "listResultMetadata": null,
       "metadata": {},
       "nuid": "414a1de2-22b6-4810-baa3-340562684fee",
       "origId": 0,
       "parentHierarchy": [],
       "pivotAggregation": null,
       "pivotColumns": null,
       "position": 3.5,
       "resultDbfsErrorMessage": null,
       "resultDbfsStatus": "INLINED_IN_TREE",
       "results": null,
       "showCommandTitle": false,
       "startTime": 0,
       "state": "input",
       "streamStates": {},
       "subcommandOptions": {
        "queryPlan": {
         "groups": [
          {
           "column": "IT_TableType",
           "type": "column"
          },
          {
           "column": "Storage_RelativePath",
           "type": "column"
          }
         ],
         "selects": [
          {
           "column": "IT_TableType",
           "type": "column"
          },
          {
           "alias": "column_8129dbf471",
           "args": [
            {
             "column": "*",
             "type": "column"
            }
           ],
           "function": "COUNT",
           "type": "function"
          },
          {
           "column": "Storage_RelativePath",
           "type": "column"
          }
         ]
        }
       },
       "submitTime": 0,
       "subtype": "tableResultSubCmd.visualization",
       "tableResultIndex": 0,
       "tableResultSettingsMap": {},
       "useConsistentColors": false,
       "version": "CommandV1",
       "width": "auto",
       "workflows": [],
       "xColumns": null,
       "yColumns": null
      }
     },
     "output_type": "display_data"
    }
   ],
   "source": [
    "-- Get the latest timestamp for the \"eventhub_storage_log_setup\" job\n",
    "with last_run_timestamp as (\n",
    "  select\n",
    "    max(period_start_time) as last_run_timestamp\n",
    "  from\n",
    "    system.lakeflow.job_run_timeline\n",
    "  where\n",
    "    job_id = '1072068050595527'\n",
    ")\n",
    "\n",
    "-- Identify list of tables that are good candidates to move to managed tables\n",
    "select\n",
    "  src.Storage_AccountName,\n",
    "  -- max(src.Event_Log_TS) as Event_Log_TS,\n",
    "  last_run_timestamp.last_run_timestamp as Job_Run_TS,\n",
    "  src.IT_TableName,\n",
    "\n",
    "  -- Get read, write, and delete counts\n",
    "  coalesce(sum(case when src.Storage_Action = 'read' then src.operation_count else 0 end), 0) as total_read_count,\n",
    "  coalesce(sum(case when src.Storage_Action = 'write' then src.operation_count else 0 end), 0) + coalesce(sum(case when src.Storage_Action = 'delete' then src.operation_count else 0 end), 0) as write_delete_count,\n",
    "\n",
    "  -- Capture external tables with no writes or deletes as good candidates\n",
    "  case\n",
    "    when coalesce(sum(case when src.Storage_Action = 'write' then src.operation_count else 0 end), 0) + coalesce(sum(case when src.Storage_Action = 'delete' then src.operation_count else 0 end), 0) = 0 then 1\n",
    "    else 0\n",
    "  end as good_candidate,\n",
    "\n",
    "  -- TO DO: Capture non-externally accessed databricks tables with any operation\n",
    "  \n",
    "  -- Identify external tables that were accessed by an external platform\n",
    "  case\n",
    "    when\n",
    "      sum(\n",
    "        case\n",
    "          when lower(src.Storage_userAgentHeader) like '%databricks%' then 1\n",
    "          else 0\n",
    "        end\n",
    "      ) > 0\n",
    "    then\n",
    "      0\n",
    "    else 1\n",
    "  end as from_external_platform\n",
    "\n",
    " -- Group and Filter\n",
    "from\n",
    "  (\n",
    "    select\n",
    "      Storage_AccountName,\n",
    "      -- Max(Storage_Time) `Event_Log_TS`,\n",
    "      Date(Storage_Time) `Storage_Date`,\n",
    "      lower(Storage_userAgentHeader) as Storage_userAgentHeader,\n",
    "      IT_TableName,\n",
    "      IT_TableType,\n",
    "      Storage_Action,\n",
    "      count(*) as operation_count\n",
    "    from\n",
    "      slog.default.vw_storagelogs_information_schema\n",
    "    where\n",
    "      IT_TableType = 'EXTERNAL' and\n",
    "      Storage_Action in ('read', 'write', 'delete')\n",
    "    group by\n",
    "      Storage_AccountName,\n",
    "      Storage_Time,\n",
    "      Storage_userAgentHeader,\n",
    "      IT_TableName,\n",
    "      IT_TableType,\n",
    "      Storage_Action\n",
    "  ) src\n",
    "  join last_run_timestamp\n",
    "group by\n",
    "  src.Storage_AccountName,\n",
    "  src.IT_TableName,\n",
    "  last_run_timestamp.last_run_timestamp\n",
    "order by\n",
    "  total_read_count desc,\n",
    "  write_delete_count desc"
   ]
  },
  {
   "cell_type": "markdown",
   "metadata": {},
   "source": [
    "%md\n",
    "#View of Delta Tables not registered in Unity Catalog\n",
    "\n",
    "Review all delta table storage paths that are not registred in Unity Catalog and see what operations are being done."
   ]
  },
  {
   "cell_type": "code",
   "execution_count": 0,
   "metadata": {
    "application/vnd.databricks.v1+cell": {
     "cellMetadata": {
      "byteLimit": 2048000,
      "rowLimit": 10000
     },
     "inputWidgets": {},
     "nuid": "9f38577f-39ef-4649-add2-b0d39f05d090",
     "showTitle": false,
     "tableResultSettingsMap": {},
     "title": ""
    },
    "vscode": {
     "languageId": "sql"
    }
   },
   "outputs": [
    {
     "data": {
      "text/html": [
       "<style scoped>\n",
       "  .table-result-container {\n",
       "    max-height: 300px;\n",
       "    overflow: auto;\n",
       "  }\n",
       "  table, th, td {\n",
       "    border: 1px solid black;\n",
       "    border-collapse: collapse;\n",
       "  }\n",
       "  th, td {\n",
       "    padding: 5px;\n",
       "  }\n",
       "  th {\n",
       "    text-align: left;\n",
       "  }\n",
       "</style><div class='table-result-container'><table class='table-result'><thead style='background-color: white'><tr><th>Storage_AccountName</th><th>Storage_RelativePath</th><th>IT_TableName</th><th>IT_TableType</th><th>Storage_OperationName</th><th>operation_count</th></tr></thead><tbody><tr><td>stsezsandbox07</td><td>/stsezsandbox07/unity</td><td>null</td><td>null</td><td>ListFilesystemDir</td><td>911</td></tr><tr><td>stsezsandbox07</td><td>/stsezsandbox07/unity</td><td>null</td><td>null</td><td>ListBlobs</td><td>555</td></tr><tr><td>stsezsandbox07</td><td>/stsezsandbox07/pos-dev</td><td>null</td><td>null</td><td>ListBlobs</td><td>320</td></tr><tr><td>stsezsandbox07</td><td>/stsezsandbox07/ps-dev</td><td>null</td><td>null</td><td>ListBlobs</td><td>72</td></tr><tr><td>stsezsandbox07</td><td>/stsezsandbox07/$root</td><td>null</td><td>null</td><td>GetContainerProperties</td><td>57</td></tr><tr><td>stsezsandbox07</td><td>/stsezsandbox07/unity/83ad2d11-1431-4eb5-8a3e-a26542faf5ac/tables/9ba815a2-5ecc-41ee-9f15-7ca779070272/_delta_log</td><td>null</td><td>null</td><td>GetPathStatus</td><td>40</td></tr><tr><td>stsezsandbox07</td><td>/stsezsandbox07/slog</td><td>null</td><td>null</td><td>ListBlobs</td><td>31</td></tr><tr><td>stsezsandbox07</td><td>/stsezsandbox07/unity/83ad2d11-1431-4eb5-8a3e-a26542faf5ac/tables/794d4d99-16ab-4bb9-a9e4-c58c5cde0829/_delta_log</td><td>null</td><td>null</td><td>GetPathStatus</td><td>30</td></tr><tr><td>stsezsandbox07</td><td>/stsezsandbox07/slog</td><td>null</td><td>null</td><td>ListFilesystemDir</td><td>27</td></tr><tr><td>stsezsandbox07</td><td>/stsezsandbox07/retail-demo</td><td>null</td><td>null</td><td>ListBlobs</td><td>21</td></tr><tr><td>stsezsandbox07</td><td>/stsezsandbox07/unity/83ad2d11-1431-4eb5-8a3e-a26542faf5ac/tables/794d4d99-16ab-4bb9-a9e4-c58c5cde0829/_delta_log/00000000000000000000.json</td><td>null</td><td>null</td><td>ReadFile</td><td>19</td></tr><tr><td>stsezsandbox07</td><td>/stsezsandbox07/unity/83ad2d11-1431-4eb5-8a3e-a26542faf5ac/tables/9ba815a2-5ecc-41ee-9f15-7ca779070272/_delta_log/00000000000000000000.json</td><td>null</td><td>null</td><td>ReadFile</td><td>19</td></tr><tr><td>stsezsandbox07</td><td>/stsezsandbox07</td><td>null</td><td>null</td><td>GetUserDelegationKey</td><td>18</td></tr><tr><td>stsezsandbox07</td><td>/stsezsandbox07/unity/83ad2d11-1431-4eb5-8a3e-a26542faf5ac/tables/794d4d99-16ab-4bb9-a9e4-c58c5cde0829/_delta_log/00000000000000000001.00000000000000000006.compacted.json</td><td>null</td><td>null</td><td>ReadFile</td><td>16</td></tr><tr><td>stsezsandbox07</td><td>/stsezsandbox07/unity/83ad2d11-1431-4eb5-8a3e-a26542faf5ac/tables/9ba815a2-5ecc-41ee-9f15-7ca779070272/__enzyme_stats/stats.json</td><td>null</td><td>null</td><td>GetPathStatus</td><td>16</td></tr><tr><td>stsezsandbox07</td><td>/stsezsandbox07/pos-dev</td><td>null</td><td>null</td><td>ListFilesystemDir</td><td>14</td></tr><tr><td>stsezsandbox07</td><td>/stsezsandbox07/unity/83ad2d11-1431-4eb5-8a3e-a26542faf5ac/tables/467fcc5f-579a-4197-892b-163a22d88a6e/_delta_log/00000000000000000001.json</td><td>null</td><td>null</td><td>GetPathStatus</td><td>12</td></tr><tr><td>stsezsandbox07</td><td>/stsezsandbox07/slog/checkpoints/vw_storage_log/offsets/7</td><td>null</td><td>null</td><td>GetPathStatus</td><td>12</td></tr><tr><td>stsezsandbox07</td><td>/stsezsandbox07/unity/83ad2d11-1431-4eb5-8a3e-a26542faf5ac/tables/9ba815a2-5ecc-41ee-9f15-7ca779070272/__enzyme_stats/stats.json</td><td>null</td><td>null</td><td>CreatePathFile</td><td>11</td></tr><tr><td>stsezsandbox07</td><td>/stsezsandbox07/slog/checkpoints/vw_storage_log/offsets/8</td><td>null</td><td>null</td><td>GetPathStatus</td><td>11</td></tr><tr><td>stsezsandbox07</td><td>/stsezsandbox07/unity/83ad2d11-1431-4eb5-8a3e-a26542faf5ac/tables/9ba815a2-5ecc-41ee-9f15-7ca779070272/_delta_log/00000000000000000001.00000000000000000006.compacted.json</td><td>null</td><td>null</td><td>ReadFile</td><td>11</td></tr><tr><td>stsezsandbox07</td><td>/stsezsandbox07/unity/83ad2d11-1431-4eb5-8a3e-a26542faf5ac/tables/794d4d99-16ab-4bb9-a9e4-c58c5cde0829/_delta_log/00000000000000000007.00000000000000000012.compacted.json</td><td>null</td><td>null</td><td>ReadFile</td><td>10</td></tr><tr><td>stsezsandbox07</td><td>/stsezsandbox07/slog/checkpoints/azure_raw_storage_log/sources/0/0</td><td>null</td><td>null</td><td>GetPathStatus</td><td>10</td></tr><tr><td>stsezsandbox07</td><td>/stsezsandbox07/unity/83ad2d11-1431-4eb5-8a3e-a26542faf5ac/tables/9ba815a2-5ecc-41ee-9f15-7ca779070272/_delta_log/00000000000000000007.json</td><td>null</td><td>null</td><td>ReadFile</td><td>10</td></tr><tr><td>stsezsandbox07</td><td>/stsezsandbox07/unity/83ad2d11-1431-4eb5-8a3e-a26542faf5ac/tables/fa77fedc-b2a1-4914-8455-d461701cb3ec/_delta_log/00000000000000000001.json</td><td>null</td><td>null</td><td>GetPathStatus</td><td>10</td></tr><tr><td>stsezsandbox07</td><td>/stsezsandbox07/unity/83ad2d11-1431-4eb5-8a3e-a26542faf5ac/tables/467fcc5f-579a-4197-892b-163a22d88a6e/_delta_log/00000000000000000002.json</td><td>null</td><td>null</td><td>GetPathStatus</td><td>9</td></tr><tr><td>stsezsandbox07</td><td>/stsezsandbox07</td><td>null</td><td>null</td><td>GetBlobServiceProperties</td><td>9</td></tr><tr><td>stsezsandbox07</td><td>/stsezsandbox07/unity/83ad2d11-1431-4eb5-8a3e-a26542faf5ac/tables/9ba815a2-5ecc-41ee-9f15-7ca779070272/_delta_log/_last_checkpoint</td><td>null</td><td>null</td><td>GetPathStatus</td><td>9</td></tr><tr><td>stsezsandbox07</td><td>/stsezsandbox07/slog/checkpoints/azure_raw_storage_log/offsets/0</td><td>null</td><td>null</td><td>GetPathStatus</td><td>9</td></tr><tr><td>stsezsandbox07</td><td>/stsezsandbox07/unity/83ad2d11-1431-4eb5-8a3e-a26542faf5ac/tables/794d4d99-16ab-4bb9-a9e4-c58c5cde0829</td><td>null</td><td>null</td><td>GetPathStatus</td><td>8</td></tr><tr><td>stsezsandbox07</td><td>/stsezsandbox07/slog</td><td>null</td><td>null</td><td>GetPathAccessControl</td><td>8</td></tr><tr><td>stsezsandbox07</td><td>/stsezsandbox07/unity/83ad2d11-1431-4eb5-8a3e-a26542faf5ac/tables/9ba815a2-5ecc-41ee-9f15-7ca779070272/_delta_log/00000000000000000001.json</td><td>null</td><td>null</td><td>ReadFile</td><td>8</td></tr><tr><td>stsezsandbox07</td><td>/stsezsandbox07/slog/checkpoints/vw_storage_log/sources/0/0</td><td>null</td><td>null</td><td>GetPathStatus</td><td>8</td></tr><tr><td>stsezsandbox07</td><td>/stsezsandbox07/unity/83ad2d11-1431-4eb5-8a3e-a26542faf5ac/tables/9ba815a2-5ecc-41ee-9f15-7ca779070272/_delta_log/00000000000000000002.json</td><td>null</td><td>null</td><td>ReadFile</td><td>8</td></tr><tr><td>stsezsandbox07</td><td>/stsezsandbox07/slog/checkpoints/vw_storage_log/metadata</td><td>null</td><td>null</td><td>GetPathStatus</td><td>8</td></tr><tr><td>stsezsandbox07</td><td>/stsezsandbox07/slog/checkpoints/vw_storage_log/offsets/8</td><td>null</td><td>null</td><td>ReadFile</td><td>7</td></tr><tr><td>stsezsandbox07</td><td>/stsezsandbox07/slog/checkpoints/vw_storage_log/offsets/7</td><td>null</td><td>null</td><td>ReadFile</td><td>7</td></tr><tr><td>stsezsandbox07</td><td>/stsezsandbox07/slog/checkpoints/vw_storage_log/offsets/9</td><td>null</td><td>null</td><td>GetPathStatus</td><td>7</td></tr><tr><td>stsezsandbox07</td><td>/stsezsandbox07/slog/checkpoints/azure_raw_storage_log/offsets/1</td><td>null</td><td>null</td><td>GetPathStatus</td><td>7</td></tr><tr><td>stsezsandbox07</td><td>/stsezsandbox07/unity/83ad2d11-1431-4eb5-8a3e-a26542faf5ac/tables/9ba815a2-5ecc-41ee-9f15-7ca779070272/_delta_log/00000000000000000010.json</td><td>null</td><td>null</td><td>ReadFile</td><td>7</td></tr><tr><td>stsezsandbox07</td><td>/stsezsandbox07/unity/83ad2d11-1431-4eb5-8a3e-a26542faf5ac/tables/9ba815a2-5ecc-41ee-9f15-7ca779070272/_delta_log/00000000000000000008.json</td><td>null</td><td>null</td><td>ReadFile</td><td>7</td></tr><tr><td>stsezsandbox07</td><td>/stsezsandbox07/unity/83ad2d11-1431-4eb5-8a3e-a26542faf5ac/tables/9ba815a2-5ecc-41ee-9f15-7ca779070272/_delta_log/00000000000000000009.json</td><td>null</td><td>null</td><td>ReadFile</td><td>7</td></tr><tr><td>stsezsandbox07</td><td>/stsezsandbox07/unity/83ad2d11-1431-4eb5-8a3e-a26542faf5ac/tables/794d4d99-16ab-4bb9-a9e4-c58c5cde0829/_delta_log/_last_checkpoint</td><td>null</td><td>null</td><td>GetPathStatus</td><td>6</td></tr><tr><td>stsezsandbox07</td><td>/stsezsandbox07/unity/83ad2d11-1431-4eb5-8a3e-a26542faf5ac/tables/794d4d99-16ab-4bb9-a9e4-c58c5cde0829/_delta_log/00000000000000000014.json</td><td>null</td><td>null</td><td>ReadFile</td><td>6</td></tr><tr><td>stsezsandbox07</td><td>/stsezsandbox07/unity/83ad2d11-1431-4eb5-8a3e-a26542faf5ac/tables/9ba815a2-5ecc-41ee-9f15-7ca779070272/__enzyme_stats/stats.json</td><td>null</td><td>null</td><td>AppendFile</td><td>6</td></tr><tr><td>stsezsandbox07</td><td>/stsezsandbox07/unity/83ad2d11-1431-4eb5-8a3e-a26542faf5ac/tables/cf19f4d9-4527-4c9e-8b9f-76624443b9fe/_delta_log/00000000000000000001.json</td><td>null</td><td>null</td><td>GetPathStatus</td><td>6</td></tr><tr><td>stsezsandbox07</td><td>/stsezsandbox07/unity/83ad2d11-1431-4eb5-8a3e-a26542faf5ac/tables/794d4d99-16ab-4bb9-a9e4-c58c5cde0829/_delta_log/00000000000000000015.json</td><td>null</td><td>null</td><td>ReadFile</td><td>6</td></tr><tr><td>stsezsandbox07</td><td>/stsezsandbox07/unity/83ad2d11-1431-4eb5-8a3e-a26542faf5ac/tables/9ba815a2-5ecc-41ee-9f15-7ca779070272/__enzyme_stats/stats.json</td><td>null</td><td>null</td><td>FlushFile</td><td>6</td></tr><tr><td>stsezsandbox07</td><td>/stsezsandbox07/unity/83ad2d11-1431-4eb5-8a3e-a26542faf5ac/tables/794d4d99-16ab-4bb9-a9e4-c58c5cde0829/_delta_log/00000000000000000013.json</td><td>null</td><td>null</td><td>ReadFile</td><td>6</td></tr><tr><td>stsezsandbox07</td><td>/stsezsandbox07/unity/83ad2d11-1431-4eb5-8a3e-a26542faf5ac/tables/9ba815a2-5ecc-41ee-9f15-7ca779070272/__enzyme_stats</td><td>null</td><td>null</td><td>GetPathStatus</td><td>6</td></tr><tr><td>stsezsandbox07</td><td>/stsezsandbox07/ps-dev</td><td>null</td><td>null</td><td>ListFilesystemDir</td><td>6</td></tr><tr><td>stsezsandbox07</td><td>/stsezsandbox07/unity/83ad2d11-1431-4eb5-8a3e-a26542faf5ac/tables/794d4d99-16ab-4bb9-a9e4-c58c5cde0829/_delta_log/00000000000000000007.json</td><td>null</td><td>null</td><td>ReadFile</td><td>5</td></tr><tr><td>stsezsandbox07</td><td>/stsezsandbox07</td><td>null</td><td>null</td><td>ListContainers</td><td>5</td></tr><tr><td>stsezsandbox07</td><td>/stsezsandbox07/slog/checkpoints/azure_raw_storage_log/offsets/0</td><td>null</td><td>null</td><td>ReadFile</td><td>5</td></tr><tr><td>stsezsandbox07</td><td>/stsezsandbox07/unity/83ad2d11-1431-4eb5-8a3e-a26542faf5ac/tables/794d4d99-16ab-4bb9-a9e4-c58c5cde0829/_delta_log/00000000000000000013.00000000000000000018.compacted.json</td><td>null</td><td>null</td><td>ReadFile</td><td>5</td></tr><tr><td>stsezsandbox07</td><td>/stsezsandbox07/unity/83ad2d11-1431-4eb5-8a3e-a26542faf5ac/tables/9ba815a2-5ecc-41ee-9f15-7ca779070272/__enzyme_stats/stats.json</td><td>null</td><td>null</td><td>ReadFile</td><td>5</td></tr><tr><td>stsezsandbox07</td><td>/stsezsandbox07/slog/checkpoints/azure_raw_storage_log/sources/0</td><td>null</td><td>null</td><td>GetPathStatus</td><td>5</td></tr><tr><td>stsezsandbox07</td><td>/stsezsandbox07/unity/83ad2d11-1431-4eb5-8a3e-a26542faf5ac/tables/794d4d99-16ab-4bb9-a9e4-c58c5cde0829/_delta_log/00000000000000000016.json</td><td>null</td><td>null</td><td>ReadFile</td><td>5</td></tr><tr><td>stsezsandbox07</td><td>/stsezsandbox07/unity/83ad2d11-1431-4eb5-8a3e-a26542faf5ac/tables/467fcc5f-579a-4197-892b-163a22d88a6e/_delta_log/00000000000000000000.json</td><td>null</td><td>null</td><td>ReadFile</td><td>5</td></tr><tr><td>stsezsandbox07</td><td>/stsezsandbox07/slog/checkpoints/azure_raw_storage_log/metadata</td><td>null</td><td>null</td><td>GetPathStatus</td><td>5</td></tr><tr><td>stsezsandbox07</td><td>/stsezsandbox07/unity/83ad2d11-1431-4eb5-8a3e-a26542faf5ac/tables/9ba815a2-5ecc-41ee-9f15-7ca779070272/_delta_log/00000000000000000011.json</td><td>null</td><td>null</td><td>ReadFile</td><td>5</td></tr><tr><td>stsezsandbox07</td><td>/stsezsandbox07/unity/83ad2d11-1431-4eb5-8a3e-a26542faf5ac/tables/467fcc5f-579a-4197-892b-163a22d88a6e/_delta_log/00000000000000000001.json</td><td>null</td><td>null</td><td>ReadFile</td><td>4</td></tr><tr><td>stsezsandbox07</td><td>/stsezsandbox07/unity/83ad2d11-1431-4eb5-8a3e-a26542faf5ac/tables/794d4d99-16ab-4bb9-a9e4-c58c5cde0829/_delta_log/00000000000000000019.json</td><td>null</td><td>null</td><td>ReadFile</td><td>4</td></tr><tr><td>stsezsandbox07</td><td>/stsezsandbox07/unity</td><td>null</td><td>null</td><td>GetPathAccessControl</td><td>4</td></tr><tr><td>stsezsandbox07</td><td>/stsezsandbox07/unity/83ad2d11-1431-4eb5-8a3e-a26542faf5ac/tables/cf19f4d9-4527-4c9e-8b9f-76624443b9fe/_delta_log/00000000000000000000.json</td><td>null</td><td>null</td><td>GetPathStatus</td><td>4</td></tr><tr><td>stsezsandbox07</td><td>/stsezsandbox07/unity/83ad2d11-1431-4eb5-8a3e-a26542faf5ac/tables/794d4d99-16ab-4bb9-a9e4-c58c5cde0829/_delta_log/00000000000000000008.json</td><td>null</td><td>null</td><td>ReadFile</td><td>4</td></tr><tr><td>stsezsandbox07</td><td>/stsezsandbox07/unity/83ad2d11-1431-4eb5-8a3e-a26542faf5ac/tables/9ba815a2-5ecc-41ee-9f15-7ca779070272/part-00000-50dac75d-08ae-408a-9d98-fa0e7f96c467.c000.snappy.parquet</td><td>null</td><td>null</td><td>ReadFile</td><td>4</td></tr><tr><td>stsezsandbox07</td><td>/stsezsandbox07/slog/checkpoints/vw_storage_log/sources/0</td><td>null</td><td>null</td><td>GetPathStatus</td><td>4</td></tr><tr><td>stsezsandbox07</td><td>/stsezsandbox07/unity/83ad2d11-1431-4eb5-8a3e-a26542faf5ac/tables/fa77fedc-b2a1-4914-8455-d461701cb3ec/_delta_log/00000000000000000000.json</td><td>null</td><td>null</td><td>GetPathStatus</td><td>4</td></tr><tr><td>stsezsandbox07</td><td>/stsezsandbox07/slog/checkpoints/vw_storage_log/metadata</td><td>null</td><td>null</td><td>ReadFile</td><td>4</td></tr><tr><td>stsezsandbox07</td><td>/stsezsandbox07/slog/checkpoints/azure_raw_storage_log/sources/0/0</td><td>null</td><td>null</td><td>ReadFile</td><td>4</td></tr><tr><td>stsezsandbox07</td><td>/stsezsandbox07/slog/checkpoints/vw_storage_log/offsets</td><td>null</td><td>null</td><td>GetPathStatus</td><td>4</td></tr><tr><td>stsezsandbox07</td><td>/stsezsandbox07/slog/checkpoints/vw_storage_log/commits/7</td><td>null</td><td>null</td><td>ReadFile</td><td>4</td></tr><tr><td>stsezsandbox07</td><td>/stsezsandbox07/slog/checkpoints/vw_storage_log/sources/0/0</td><td>null</td><td>null</td><td>ReadFile</td><td>4</td></tr><tr><td>stsezsandbox07</td><td>/stsezsandbox07/slog/checkpoints/vw_storage_log/state</td><td>null</td><td>null</td><td>GetPathStatus</td><td>4</td></tr><tr><td>stsezsandbox07</td><td>/stsezsandbox07/slog/checkpoints/vw_storage_log</td><td>null</td><td>null</td><td>CreatePathDir</td><td>4</td></tr><tr><td>stsezsandbox07</td><td>/stsezsandbox07/slog/checkpoints/vw_storage_log/offsets/9</td><td>null</td><td>null</td><td>ReadFile</td><td>4</td></tr><tr><td>stsezsandbox07</td><td>/stsezsandbox07/slog/checkpoints/azure_raw_storage_log/offsets/1</td><td>null</td><td>null</td><td>ReadFile</td><td>4</td></tr><tr><td>stsezsandbox07</td><td>/stsezsandbox07/unity/83ad2d11-1431-4eb5-8a3e-a26542faf5ac/tables/467fcc5f-579a-4197-892b-163a22d88a6e/_delta_log/00000000000000000000.json</td><td>null</td><td>null</td><td>GetPathStatus</td><td>4</td></tr><tr><td>stsezsandbox07</td><td>/stsezsandbox07/slog/_encryption_meta/manifest.json</td><td>null</td><td>null</td><td>GetPathStatus</td><td>4</td></tr><tr><td>stsezsandbox07</td><td>/stsezsandbox07/slog/checkpoints/vw_storage_log/commits/7</td><td>null</td><td>null</td><td>GetPathStatus</td><td>4</td></tr><tr><td>stsezsandbox07</td><td>/stsezsandbox07/unity/83ad2d11-1431-4eb5-8a3e-a26542faf5ac/tables/794d4d99-16ab-4bb9-a9e4-c58c5cde0829/_delta_log/00000000000000000017.json</td><td>null</td><td>null</td><td>ReadFile</td><td>4</td></tr><tr><td>stsezsandbox07</td><td>/stsezsandbox07/slog/checkpoints/vw_storage_log/commits</td><td>null</td><td>null</td><td>GetPathStatus</td><td>4</td></tr><tr><td>stsezsandbox07</td><td>/stsezsandbox07/unity/83ad2d11-1431-4eb5-8a3e-a26542faf5ac/tables/794d4d99-16ab-4bb9-a9e4-c58c5cde0829/part-00000-fb67a081-34c0-4acc-bb65-78bea239c9c1.c000.snappy.parquet</td><td>null</td><td>null</td><td>ReadFile</td><td>3</td></tr><tr><td>stsezsandbox07</td><td>/stsezsandbox07/unity/83ad2d11-1431-4eb5-8a3e-a26542faf5ac/tables/9ba815a2-5ecc-41ee-9f15-7ca779070272/_delta_log/00000000000000000003.json</td><td>null</td><td>null</td><td>ReadFile</td><td>3</td></tr><tr><td>stsezsandbox07</td><td>/stsezsandbox07/unity/83ad2d11-1431-4eb5-8a3e-a26542faf5ac/tables/9ba815a2-5ecc-41ee-9f15-7ca779070272/_delta_log/00000000000000000006.json</td><td>null</td><td>null</td><td>ReadFile</td><td>3</td></tr><tr><td>stsezsandbox07</td><td>/stsezsandbox07/unity/83ad2d11-1431-4eb5-8a3e-a26542faf5ac/tables/467fcc5f-579a-4197-892b-163a22d88a6e/_delta_log/_last_checkpoint</td><td>null</td><td>null</td><td>GetPathStatus</td><td>3</td></tr><tr><td>stsezsandbox07</td><td>/stsezsandbox07/slog/checkpoints/azure_raw_storage_log/commits/1</td><td>null</td><td>null</td><td>GetPathStatus</td><td>3</td></tr><tr><td>stsezsandbox07</td><td>/stsezsandbox07/unity/83ad2d11-1431-4eb5-8a3e-a26542faf5ac/tables/fa77fedc-b2a1-4914-8455-d461701cb3ec/_delta_log/00000000000000000002.json</td><td>null</td><td>null</td><td>GetPathStatus</td><td>3</td></tr><tr><td>stsezsandbox07</td><td>/stsezsandbox07/slog/checkpoints/azure_raw_storage_log/commits</td><td>null</td><td>null</td><td>GetPathStatus</td><td>3</td></tr><tr><td>stsezsandbox07</td><td>/stsezsandbox07/slog/checkpoints/vw_storage_log/commits/8</td><td>null</td><td>null</td><td>GetPathStatus</td><td>3</td></tr><tr><td>stsezsandbox07</td><td>/stsezsandbox07/unity/83ad2d11-1431-4eb5-8a3e-a26542faf5ac/tables/9ba815a2-5ecc-41ee-9f15-7ca779070272/_delta_log/00000000000000000005.json</td><td>null</td><td>null</td><td>ReadFile</td><td>3</td></tr><tr><td>stsezsandbox07</td><td>/stsezsandbox07/unity/83ad2d11-1431-4eb5-8a3e-a26542faf5ac/tables/467fcc5f-579a-4197-892b-163a22d88a6e/_delta_log</td><td>null</td><td>null</td><td>GetPathStatus</td><td>3</td></tr><tr><td>stsezsandbox07</td><td>/stsezsandbox07/unity/83ad2d11-1431-4eb5-8a3e-a26542faf5ac/tables/9ba815a2-5ecc-41ee-9f15-7ca779070272/_delta_log/00000000000000000002.crc</td><td>null</td><td>null</td><td>ReadFile</td><td>3</td></tr><tr><td>stsezsandbox07</td><td>/stsezsandbox07/slog/checkpoints/azure_raw_storage_log</td><td>null</td><td>null</td><td>CreatePathDir</td><td>3</td></tr><tr><td>stsezsandbox07</td><td>/stsezsandbox07/slog/checkpoints/vw_storage_log/commits/9</td><td>null</td><td>null</td><td>GetPathStatus</td><td>3</td></tr><tr><td>stsezsandbox07</td><td>/stsezsandbox07/unity/83ad2d11-1431-4eb5-8a3e-a26542faf5ac/tables/9ba815a2-5ecc-41ee-9f15-7ca779070272/_delta_log/00000000000000000012.json</td><td>null</td><td>null</td><td>ReadFile</td><td>3</td></tr><tr><td>stsezsandbox07</td><td>/stsezsandbox07/slog/checkpoints/azure_raw_storage_log/offsets</td><td>null</td><td>null</td><td>GetPathStatus</td><td>3</td></tr><tr><td>stsezsandbox07</td><td>/stsezsandbox07/unity/83ad2d11-1431-4eb5-8a3e-a26542faf5ac/tables/9ba815a2-5ecc-41ee-9f15-7ca779070272/_delta_log/00000000000000000004.json</td><td>null</td><td>null</td><td>ReadFile</td><td>3</td></tr><tr><td>stsezsandbox07</td><td>/stsezsandbox07/unity/83ad2d11-1431-4eb5-8a3e-a26542faf5ac/tables/cf19f4d9-4527-4c9e-8b9f-76624443b9fe/_delta_log/00000000000000000000.json</td><td>null</td><td>null</td><td>ReadFile</td><td>3</td></tr><tr><td>stsezsandbox07</td><td>/stsezsandbox07/unity/83ad2d11-1431-4eb5-8a3e-a26542faf5ac/tables/fa77fedc-b2a1-4914-8455-d461701cb3ec/_delta_log/00000000000000000000.json</td><td>null</td><td>null</td><td>ReadFile</td><td>3</td></tr><tr><td>stsezsandbox07</td><td>/stsezsandbox07/slog/checkpoints/azure_raw_storage_log/commits/0</td><td>null</td><td>null</td><td>GetPathStatus</td><td>3</td></tr><tr><td>stsezsandbox07</td><td>/stsezsandbox07/slog/checkpoints/azure_raw_storage_log/state</td><td>null</td><td>null</td><td>GetPathStatus</td><td>2</td></tr><tr><td>stsezsandbox07</td><td>/stsezsandbox07/unity/83ad2d11-1431-4eb5-8a3e-a26542faf5ac/tables/794d4d99-16ab-4bb9-a9e4-c58c5cde0829/_delta_log/00000000000000000009.json</td><td>null</td><td>null</td><td>ReadFile</td><td>2</td></tr><tr><td>stsezsandbox07</td><td>/stsezsandbox07/unity/83ad2d11-1431-4eb5-8a3e-a26542faf5ac/tables/9ba815a2-5ecc-41ee-9f15-7ca779070272/_enzyme_log/1743761796970</td><td>null</td><td>null</td><td>GetPathStatus</td><td>2</td></tr><tr><td>stsezsandbox07</td><td>/stsezsandbox07/slog/checkpoints/azure_raw_storage_log/commits/0</td><td>null</td><td>null</td><td>ReadFile</td><td>2</td></tr><tr><td>stsezsandbox07</td><td>/stsezsandbox07/unity/83ad2d11-1431-4eb5-8a3e-a26542faf5ac/tables/9d30d2f8-34cf-4c9a-9ff9-f57a6c2e5fdd/_delta_log/00000000000000000001.json</td><td>null</td><td>null</td><td>ReadFile</td><td>2</td></tr><tr><td>stsezsandbox07</td><td>/stsezsandbox07/unity/83ad2d11-1431-4eb5-8a3e-a26542faf5ac/tables/9ba815a2-5ecc-41ee-9f15-7ca779070272/part-00000-ed48634d-68e8-4ce0-8830-171810aa155f.c000.snappy.parquet</td><td>null</td><td>null</td><td>GetPathStatus</td><td>2</td></tr><tr><td>stsezsandbox07</td><td>/stsezsandbox07/slog/checkpoints/vw_storage_log/offsets/6</td><td>null</td><td>null</td><td>GetPathStatus</td><td>2</td></tr><tr><td>stsezsandbox07</td><td>/stsezsandbox07/unity/83ad2d11-1431-4eb5-8a3e-a26542faf5ac/tables/794d4d99-16ab-4bb9-a9e4-c58c5cde0829/part-00000-61fbb864-a1a0-4e8d-806e-e43ee014ea74.c000.snappy.parquet</td><td>null</td><td>null</td><td>GetPathStatus</td><td>2</td></tr><tr><td>stsezsandbox07</td><td>/stsezsandbox07/unity/83ad2d11-1431-4eb5-8a3e-a26542faf5ac/tables/794d4d99-16ab-4bb9-a9e4-c58c5cde0829/part-00000-9937f921-2aae-4bbb-b078-146722d2fa92.c000.snappy.parquet</td><td>null</td><td>null</td><td>GetPathStatus</td><td>2</td></tr><tr><td>stsezsandbox07</td><td>/stsezsandbox07/unity/83ad2d11-1431-4eb5-8a3e-a26542faf5ac/tables/9ba815a2-5ecc-41ee-9f15-7ca779070272/part-00000-cb469aa0-abe1-4269-ac38-f9fa6f1fda0d.c000.snappy.parquet</td><td>null</td><td>null</td><td>GetPathStatus</td><td>2</td></tr><tr><td>stsezsandbox07</td><td>/stsezsandbox07/unity/83ad2d11-1431-4eb5-8a3e-a26542faf5ac/tables/cf19f4d9-4527-4c9e-8b9f-76624443b9fe/_delta_log</td><td>null</td><td>null</td><td>GetPathStatus</td><td>2</td></tr><tr><td>stsezsandbox07</td><td>/stsezsandbox07/unity/83ad2d11-1431-4eb5-8a3e-a26542faf5ac/tables/fa77fedc-b2a1-4914-8455-d461701cb3ec/_delta_log/00000000000000000001.json</td><td>null</td><td>null</td><td>ReadFile</td><td>2</td></tr><tr><td>stsezsandbox07</td><td>/stsezsandbox07/unity/83ad2d11-1431-4eb5-8a3e-a26542faf5ac/tables/794d4d99-16ab-4bb9-a9e4-c58c5cde0829/part-00000-04afc1d2-1449-47fe-b445-be3305be6e57.c000.snappy.parquet</td><td>null</td><td>null</td><td>ReadFile</td><td>2</td></tr><tr><td>stsezsandbox07</td><td>/stsezsandbox07/unity/83ad2d11-1431-4eb5-8a3e-a26542faf5ac/tables/794d4d99-16ab-4bb9-a9e4-c58c5cde0829/part-00000-551e6949-dbb0-426d-9db7-7b6afe324764.c000.snappy.parquet</td><td>null</td><td>null</td><td>GetPathStatus</td><td>2</td></tr><tr><td>stsezsandbox07</td><td>/stsezsandbox07/unity/83ad2d11-1431-4eb5-8a3e-a26542faf5ac/tables/9ba815a2-5ecc-41ee-9f15-7ca779070272/_enzyme_log/1743732981906</td><td>null</td><td>null</td><td>ReadFile</td><td>2</td></tr><tr><td>stsezsandbox07</td><td>/stsezsandbox07/unity/83ad2d11-1431-4eb5-8a3e-a26542faf5ac/tables/467fcc5f-579a-4197-892b-163a22d88a6e</td><td>null</td><td>null</td><td>GetPathStatus</td><td>2</td></tr><tr><td>stsezsandbox07</td><td>/stsezsandbox07/unity/83ad2d11-1431-4eb5-8a3e-a26542faf5ac/tables/9d30d2f8-34cf-4c9a-9ff9-f57a6c2e5fdd/_delta_log/00000000000000000000.json</td><td>null</td><td>null</td><td>ReadFile</td><td>2</td></tr><tr><td>stsezsandbox07</td><td>/stsezsandbox07/slog/checkpoints/azure_raw_storage_log/metadata</td><td>null</td><td>null</td><td>ReadFile</td><td>2</td></tr><tr><td>stsezsandbox07</td><td>/stsezsandbox07/unity/83ad2d11-1431-4eb5-8a3e-a26542faf5ac/tables/794d4d99-16ab-4bb9-a9e4-c58c5cde0829/part-00000-a245230e-197e-44a6-9ce1-8988a95fb9b9.c000.snappy.parquet</td><td>null</td><td>null</td><td>ReadFile</td><td>2</td></tr><tr><td>stsezsandbox07</td><td>/stsezsandbox07/unity/83ad2d11-1431-4eb5-8a3e-a26542faf5ac/tables/794d4d99-16ab-4bb9-a9e4-c58c5cde0829/_delta_log/00000000000000000018.json</td><td>null</td><td>null</td><td>ReadFile</td><td>2</td></tr><tr><td>stsezsandbox07</td><td>/stsezsandbox07/unity/83ad2d11-1431-4eb5-8a3e-a26542faf5ac/tables/9d30d2f8-34cf-4c9a-9ff9-f57a6c2e5fdd/_delta_log/00000000000000000001.crc</td><td>null</td><td>null</td><td>ReadFile</td><td>2</td></tr><tr><td>stsezsandbox07</td><td>/stsezsandbox07/unity/83ad2d11-1431-4eb5-8a3e-a26542faf5ac/tables/fa77fedc-b2a1-4914-8455-d461701cb3ec/_delta_log</td><td>null</td><td>null</td><td>GetPathStatus</td><td>2</td></tr><tr><td>stsezsandbox07</td><td>/stsezsandbox07/unity/83ad2d11-1431-4eb5-8a3e-a26542faf5ac/tables/794d4d99-16ab-4bb9-a9e4-c58c5cde0829/part-00000-7ede3b88-95ed-4b8b-bacc-54f07c5ecdfe.c000.snappy.parquet</td><td>null</td><td>null</td><td>GetPathStatus</td><td>2</td></tr><tr><td>stsezsandbox07</td><td>/stsezsandbox07/$purview</td><td>null</td><td>null</td><td>GetContainerProperties</td><td>2</td></tr><tr><td>stsezsandbox07</td><td>/stsezsandbox07/unity/83ad2d11-1431-4eb5-8a3e-a26542faf5ac/tables/fa77fedc-b2a1-4914-8455-d461701cb3ec</td><td>null</td><td>null</td><td>GetPathStatus</td><td>2</td></tr><tr><td>stsezsandbox07</td><td>/stsezsandbox07/unity/83ad2d11-1431-4eb5-8a3e-a26542faf5ac/tables/9ba815a2-5ecc-41ee-9f15-7ca779070272/_enzyme_log/1743747385600</td><td>null</td><td>null</td><td>ReadFile</td><td>2</td></tr><tr><td>stsezsandbox07</td><td>/stsezsandbox07/unity/83ad2d11-1431-4eb5-8a3e-a26542faf5ac/tables/9ba815a2-5ecc-41ee-9f15-7ca779070272/part-00000-6c2aa6d3-4249-40a9-bdbc-0693b2bc1ccc.c000.snappy.parquet</td><td>null</td><td>null</td><td>GetPathStatus</td><td>2</td></tr><tr><td>stsezsandbox07</td><td>/stsezsandbox07/unity/83ad2d11-1431-4eb5-8a3e-a26542faf5ac/tables/cf19f4d9-4527-4c9e-8b9f-76624443b9fe</td><td>null</td><td>null</td><td>GetPathStatus</td><td>2</td></tr><tr><td>stsezsandbox07</td><td>/stsezsandbox07/unity/83ad2d11-1431-4eb5-8a3e-a26542faf5ac/tables/cf19f4d9-4527-4c9e-8b9f-76624443b9fe/_delta_log/00000000000000000001.json</td><td>null</td><td>null</td><td>ReadFile</td><td>2</td></tr><tr><td>stsezsandbox07</td><td>/stsezsandbox07/unity/83ad2d11-1431-4eb5-8a3e-a26542faf5ac/tables/794d4d99-16ab-4bb9-a9e4-c58c5cde0829/part-00000-864e10c8-dc46-441c-ada1-6d5d7c5ad4cc.c000.snappy.parquet</td><td>null</td><td>null</td><td>GetPathStatus</td><td>2</td></tr><tr><td>stsezsandbox07</td><td>/stsezsandbox07/unity/83ad2d11-1431-4eb5-8a3e-a26542faf5ac/tables/794d4d99-16ab-4bb9-a9e4-c58c5cde0829/part-00000-cee95b55-b5f5-427e-a2ea-c97b36f1aa1e.c000.snappy.parquet</td><td>null</td><td>null</td><td>GetPathStatus</td><td>2</td></tr><tr><td>stsezsandbox07</td><td>/stsezsandbox07/unity/83ad2d11-1431-4eb5-8a3e-a26542faf5ac/tables/9ba815a2-5ecc-41ee-9f15-7ca779070272/_enzyme_log/1743747385600</td><td>null</td><td>null</td><td>GetPathStatus</td><td>2</td></tr><tr><td>stsezsandbox07</td><td>/stsezsandbox07/unity/83ad2d11-1431-4eb5-8a3e-a26542faf5ac/tables/794d4d99-16ab-4bb9-a9e4-c58c5cde0829/part-00000-f3f36f32-7605-4686-976b-6e24ad1ca2ca.c000.snappy.parquet</td><td>null</td><td>null</td><td>ReadFile</td><td>2</td></tr><tr><td>stsezsandbox07</td><td>/stsezsandbox07/unity/83ad2d11-1431-4eb5-8a3e-a26542faf5ac/tables/794d4d99-16ab-4bb9-a9e4-c58c5cde0829/_delta_log/00000000000000000001.json</td><td>null</td><td>null</td><td>ReadFile</td><td>2</td></tr><tr><td>stsezsandbox07</td><td>/stsezsandbox07/unity/83ad2d11-1431-4eb5-8a3e-a26542faf5ac/tables/467fcc5f-579a-4197-892b-163a22d88a6e/_delta_log/00000000000000000003.json</td><td>null</td><td>null</td><td>GetPathStatus</td><td>2</td></tr><tr><td>stsezsandbox07</td><td>/stsezsandbox07/slog/checkpoints/azure_raw_storage_log/commits/1</td><td>null</td><td>null</td><td>ReadFile</td><td>2</td></tr><tr><td>stsezsandbox07</td><td>/stsezsandbox07/unity/83ad2d11-1431-4eb5-8a3e-a26542faf5ac/tables/794d4d99-16ab-4bb9-a9e4-c58c5cde0829/part-00000-9937f921-2aae-4bbb-b078-146722d2fa92.c000.snappy.parquet</td><td>null</td><td>null</td><td>ReadFile</td><td>2</td></tr><tr><td>stsezsandbox07</td><td>/stsezsandbox07/unity/83ad2d11-1431-4eb5-8a3e-a26542faf5ac/tables/794d4d99-16ab-4bb9-a9e4-c58c5cde0829/part-00000-e05e96ec-a9c8-4359-9a53-fe00709b4738.c000.snappy.parquet</td><td>null</td><td>null</td><td>GetPathStatus</td><td>2</td></tr><tr><td>stsezsandbox07</td><td>/stsezsandbox07/unity/83ad2d11-1431-4eb5-8a3e-a26542faf5ac/tables/9ba815a2-5ecc-41ee-9f15-7ca779070272/_delta_log/00000000000000000006.crc</td><td>null</td><td>null</td><td>ReadFile</td><td>2</td></tr><tr><td>stsezsandbox07</td><td>/stsezsandbox07/unity/83ad2d11-1431-4eb5-8a3e-a26542faf5ac/tables/794d4d99-16ab-4bb9-a9e4-c58c5cde0829/part-00000-a6d6dd3c-8683-465e-81c3-dcf409dd9838.c000.snappy.parquet</td><td>null</td><td>null</td><td>GetPathStatus</td><td>2</td></tr><tr><td>stsezsandbox07</td><td>/stsezsandbox07/slog/checkpoints/vw_storage_log/commits/8</td><td>null</td><td>null</td><td>ReadFile</td><td>2</td></tr><tr><td>stsezsandbox07</td><td>/stsezsandbox07/unity/83ad2d11-1431-4eb5-8a3e-a26542faf5ac/tables/9ba815a2-5ecc-41ee-9f15-7ca779070272/part-00000-07d004eb-b355-4255-8d00-95254fd23c91.c000.snappy.parquet</td><td>null</td><td>null</td><td>GetPathStatus</td><td>2</td></tr><tr><td>stsezsandbox07</td><td>/stsezsandbox07/unity/83ad2d11-1431-4eb5-8a3e-a26542faf5ac/tables/794d4d99-16ab-4bb9-a9e4-c58c5cde0829/part-00000-080975ed-cccf-4b51-a5a8-c54f144300af.c000.snappy.parquet</td><td>null</td><td>null</td><td>GetPathStatus</td><td>2</td></tr><tr><td>stsezsandbox07</td><td>/stsezsandbox07/unity/83ad2d11-1431-4eb5-8a3e-a26542faf5ac/tables/467fcc5f-579a-4197-892b-163a22d88a6e/part-00000-ac0025f8-9cba-414b-9c93-ecdda5d291ed.c000.snappy.parquet</td><td>null</td><td>null</td><td>GetPathStatus</td><td>2</td></tr><tr><td>stsezsandbox07</td><td>/stsezsandbox07/unity/83ad2d11-1431-4eb5-8a3e-a26542faf5ac/tables/9ba815a2-5ecc-41ee-9f15-7ca779070272/part-00000-50dac75d-08ae-408a-9d98-fa0e7f96c467.c000.snappy.parquet</td><td>null</td><td>null</td><td>GetPathStatus</td><td>2</td></tr><tr><td>stsezsandbox07</td><td>/stsezsandbox07/unity/83ad2d11-1431-4eb5-8a3e-a26542faf5ac/tables/cf19f4d9-4527-4c9e-8b9f-76624443b9fe/part-00000-f5fbc1b7-34ab-4581-afde-4db7a5946d37.c000.snappy.parquet</td><td>null</td><td>null</td><td>GetPathStatus</td><td>2</td></tr><tr><td>stsezsandbox07</td><td>/stsezsandbox07/unity/83ad2d11-1431-4eb5-8a3e-a26542faf5ac/tables/794d4d99-16ab-4bb9-a9e4-c58c5cde0829/part-00000-8972e778-5a0a-48fc-858b-39b2c292d119.c000.snappy.parquet</td><td>null</td><td>null</td><td>GetPathStatus</td><td>2</td></tr><tr><td>stsezsandbox07</td><td>/stsezsandbox07/unity/83ad2d11-1431-4eb5-8a3e-a26542faf5ac/tables/9ba815a2-5ecc-41ee-9f15-7ca779070272/_enzyme_log/1743776210944</td><td>null</td><td>null</td><td>GetPathStatus</td><td>2</td></tr><tr><td>stsezsandbox07</td><td>/stsezsandbox07/unity/83ad2d11-1431-4eb5-8a3e-a26542faf5ac/tables/467fcc5f-579a-4197-892b-163a22d88a6e/part-00000-ac0025f8-9cba-414b-9c93-ecdda5d291ed.c000.snappy.parquet</td><td>null</td><td>null</td><td>ReadFile</td><td>2</td></tr><tr><td>stsezsandbox07</td><td>/stsezsandbox07/unity/83ad2d11-1431-4eb5-8a3e-a26542faf5ac/tables/794d4d99-16ab-4bb9-a9e4-c58c5cde0829/_delta_log/00000000000000000020.json</td><td>null</td><td>null</td><td>ReadFile</td><td>2</td></tr><tr><td>stsezsandbox07</td><td>/stsezsandbox07/slog/checkpoints/vw_storage_log/commits/9</td><td>null</td><td>null</td><td>ReadFile</td><td>2</td></tr><tr><td>stsezsandbox07</td><td>/stsezsandbox07/unity/83ad2d11-1431-4eb5-8a3e-a26542faf5ac/tables/467fcc5f-579a-4197-892b-163a22d88a6e/_delta_log/00000000000000000002.json</td><td>null</td><td>null</td><td>ReadFile</td><td>2</td></tr><tr><td>stsezsandbox07</td><td>/stsezsandbox07/unity/83ad2d11-1431-4eb5-8a3e-a26542faf5ac/tables/9ba815a2-5ecc-41ee-9f15-7ca779070272/_enzyme_log/1743776210944</td><td>null</td><td>null</td><td>ReadFile</td><td>2</td></tr><tr><td>stsezsandbox07</td><td>/stsezsandbox07/unity/83ad2d11-1431-4eb5-8a3e-a26542faf5ac/tables/794d4d99-16ab-4bb9-a9e4-c58c5cde0829/part-00000-dd55e5b2-5a14-46b1-a7a9-6e65a9e62ced.c000.snappy.parquet</td><td>null</td><td>null</td><td>GetPathStatus</td><td>2</td></tr><tr><td>stsezsandbox07</td><td>/stsezsandbox07/unity/83ad2d11-1431-4eb5-8a3e-a26542faf5ac/tables/9ba815a2-5ecc-41ee-9f15-7ca779070272/_enzyme_log/1743761796970</td><td>null</td><td>null</td><td>ReadFile</td><td>2</td></tr><tr><td>stsezsandbox07</td><td>/stsezsandbox07/unity/83ad2d11-1431-4eb5-8a3e-a26542faf5ac/tables/cf19f4d9-4527-4c9e-8b9f-76624443b9fe/_delta_log/_last_checkpoint</td><td>null</td><td>null</td><td>GetPathStatus</td><td>2</td></tr><tr><td>stsezsandbox07</td><td>/stsezsandbox07/unity/83ad2d11-1431-4eb5-8a3e-a26542faf5ac/tables/9ba815a2-5ecc-41ee-9f15-7ca779070272</td><td>null</td><td>null</td><td>GetPathStatus</td><td>2</td></tr><tr><td>stsezsandbox07</td><td>/stsezsandbox07/unity/83ad2d11-1431-4eb5-8a3e-a26542faf5ac/tables/9d30d2f8-34cf-4c9a-9ff9-f57a6c2e5fdd/_delta_log/_last_checkpoint</td><td>null</td><td>null</td><td>GetPathStatus</td><td>2</td></tr><tr><td>stsezsandbox07</td><td>/stsezsandbox07/unity/83ad2d11-1431-4eb5-8a3e-a26542faf5ac/tables/9ba815a2-5ecc-41ee-9f15-7ca779070272/part-00000-8117a56a-51d8-4405-b532-62928a1308c8.c000.snappy.parquet</td><td>null</td><td>null</td><td>GetPathStatus</td><td>2</td></tr><tr><td>stsezsandbox07</td><td>/stsezsandbox07/unity/83ad2d11-1431-4eb5-8a3e-a26542faf5ac/tables/794d4d99-16ab-4bb9-a9e4-c58c5cde0829/part-00000-a245230e-197e-44a6-9ce1-8988a95fb9b9.c000.snappy.parquet</td><td>null</td><td>null</td><td>GetPathStatus</td><td>2</td></tr><tr><td>stsezsandbox07</td><td>/stsezsandbox07/unity/83ad2d11-1431-4eb5-8a3e-a26542faf5ac/tables/9ba815a2-5ecc-41ee-9f15-7ca779070272/_enzyme_log/1743732981906</td><td>null</td><td>null</td><td>GetPathStatus</td><td>2</td></tr><tr><td>stsezsandbox07</td><td>/stsezsandbox07/unity/83ad2d11-1431-4eb5-8a3e-a26542faf5ac/tables/fa77fedc-b2a1-4914-8455-d461701cb3ec/part-00000-3b80cd20-08f3-4584-9246-013a6b24a9ab.c000.snappy.parquet</td><td>null</td><td>null</td><td>GetPathStatus</td><td>2</td></tr><tr><td>stsezsandbox07</td><td>/stsezsandbox07/unity/83ad2d11-1431-4eb5-8a3e-a26542faf5ac/tables/467fcc5f-579a-4197-892b-163a22d88a6e/_delta_log/__tmp_path_dir/.00000000000000000002.json.cafd8fae-eff5-401d-937c-e44c9084a537.tmp</td><td>null</td><td>null</td><td>AppendFile</td><td>1</td></tr><tr><td>stsezsandbox07</td><td>/stsezsandbox07/unity/83ad2d11-1431-4eb5-8a3e-a26542faf5ac/tables/467fcc5f-579a-4197-892b-163a22d88a6e/_delta_log/00000000000000000000.crc</td><td>null</td><td>null</td><td>RenamePathFile</td><td>1</td></tr><tr><td>stsezsandbox07</td><td>/stsezsandbox07/unity/83ad2d11-1431-4eb5-8a3e-a26542faf5ac/tables/794d4d99-16ab-4bb9-a9e4-c58c5cde0829/_delta_log/__tmp_path_dir/.00000000000000000002.json.6ea1d897-ab10-4d37-bee4-aa8ae006ebf4.tmp</td><td>null</td><td>null</td><td>CreatePathFile</td><td>1</td></tr><tr><td>stsezsandbox07</td><td>/stsezsandbox07/unity/83ad2d11-1431-4eb5-8a3e-a26542faf5ac/tables/9ba815a2-5ecc-41ee-9f15-7ca779070272/_delta_log/00000000000000000011.json</td><td>null</td><td>null</td><td>RenamePathFile</td><td>1</td></tr><tr><td>stsezsandbox07</td><td>/stsezsandbox07/unity/83ad2d11-1431-4eb5-8a3e-a26542faf5ac/tables/794d4d99-16ab-4bb9-a9e4-c58c5cde0829/_delta_log/__tmp_path_dir/.00000000000000000000.json.11a16977-d86f-4ae9-ae48-47981a3e9a40.tmp</td><td>null</td><td>null</td><td>FlushFile</td><td>1</td></tr><tr><td>stsezsandbox07</td><td>/stsezsandbox07/unity/83ad2d11-1431-4eb5-8a3e-a26542faf5ac/tables/794d4d99-16ab-4bb9-a9e4-c58c5cde0829/_delta_log/00000000000000000000.json</td><td>null</td><td>null</td><td>RenamePathFile</td><td>1</td></tr><tr><td>stsezsandbox07</td><td>/stsezsandbox07/unity/83ad2d11-1431-4eb5-8a3e-a26542faf5ac/tables/9ba815a2-5ecc-41ee-9f15-7ca779070272/_enzyme_log/1743732981906</td><td>null</td><td>null</td><td>AppendFile</td><td>1</td></tr><tr><td>stsezsandbox07</td><td>/stsezsandbox07/unity/83ad2d11-1431-4eb5-8a3e-a26542faf5ac/tables/9ba815a2-5ecc-41ee-9f15-7ca779070272/_delta_log/__tmp_path_dir/.00000000000000000012.crc.cdf10512-f25b-4ce2-945e-e6ed3f738c25.tmp</td><td>null</td><td>null</td><td>CreatePathFile</td><td>1</td></tr><tr><td>stsezsandbox07</td><td>/stsezsandbox07/unity/83ad2d11-1431-4eb5-8a3e-a26542faf5ac/tables/794d4d99-16ab-4bb9-a9e4-c58c5cde0829/_delta_log/00000000000000000007.json</td><td>null</td><td>null</td><td>GetPathStatus</td><td>1</td></tr><tr><td>stsezsandbox07</td><td>/stsezsandbox07/unity/83ad2d11-1431-4eb5-8a3e-a26542faf5ac/tables/794d4d99-16ab-4bb9-a9e4-c58c5cde0829/_delta_log/00000000000000000001.json</td><td>null</td><td>null</td><td>GetPathStatus</td><td>1</td></tr><tr><td>stsezsandbox07</td><td>/stsezsandbox07/unity/83ad2d11-1431-4eb5-8a3e-a26542faf5ac/tables/467fcc5f-579a-4197-892b-163a22d88a6e/_delta_log/__tmp_path_dir/.00000000000000000000.json.0f492888-e651-4cee-9bdf-c824bea2867f.tmp</td><td>null</td><td>null</td><td>AppendFile</td><td>1</td></tr><tr><td>stsezsandbox07</td><td>/stsezsandbox07/unity/83ad2d11-1431-4eb5-8a3e-a26542faf5ac/tables/794d4d99-16ab-4bb9-a9e4-c58c5cde0829/_delta_log/__tmp_path_dir/.00000000000000000021.json.d4b3cb19-3a02-4bdc-853a-cb3774f1b811.tmp</td><td>null</td><td>null</td><td>FlushFile</td><td>1</td></tr><tr><td>stsezsandbox07</td><td>/stsezsandbox07/slog/checkpoints/azure_raw_storage_log/commits/__tmp_path_dir/.2.f985b0a4-2d82-4365-ae2c-4b3c617d7a88.tmp</td><td>null</td><td>null</td><td>FlushFile</td><td>1</td></tr><tr><td>stsezsandbox07</td><td>/stsezsandbox07/slog/checkpoints/azure_raw_storage_log/offsets/__tmp_path_dir/.0.a41b358d-196c-424d-9835-ed6ffdab2801.tmp</td><td>null</td><td>null</td><td>FlushFile</td><td>1</td></tr><tr><td>stsezsandbox07</td><td>/stsezsandbox07/unity/83ad2d11-1431-4eb5-8a3e-a26542faf5ac/tables/794d4d99-16ab-4bb9-a9e4-c58c5cde0829/_delta_log/00000000000000000018.crc</td><td>null</td><td>null</td><td>ReadFile</td><td>1</td></tr><tr><td>stsezsandbox07</td><td>/stsezsandbox07/unity/83ad2d11-1431-4eb5-8a3e-a26542faf5ac/tables/794d4d99-16ab-4bb9-a9e4-c58c5cde0829/_delta_log/__tmp_path_dir/.00000000000000000008.crc.f9a73950-a7ed-430f-9f2d-3fd6b1cc5817.tmp</td><td>null</td><td>null</td><td>AppendFile</td><td>1</td></tr><tr><td>stsezsandbox07</td><td>/stsezsandbox07/unity/83ad2d11-1431-4eb5-8a3e-a26542faf5ac/tables/9ba815a2-5ecc-41ee-9f15-7ca779070272/_delta_log/00000000000000000012.crc</td><td>null</td><td>null</td><td>ReadFile</td><td>1</td></tr><tr><td>stsezsandbox07</td><td>/stsezsandbox07/unity/83ad2d11-1431-4eb5-8a3e-a26542faf5ac/tables/794d4d99-16ab-4bb9-a9e4-c58c5cde0829/_delta_log/00000000000000000019.crc</td><td>null</td><td>null</td><td>RenamePathFile</td><td>1</td></tr><tr><td>stsezsandbox07</td><td>/stsezsandbox07/slog/checkpoints/vw_storage_log/offsets/__tmp_path_dir/.9.bf9797d3-a4da-4c6f-9acc-5356dd478f1d.tmp</td><td>null</td><td>null</td><td>AppendFile</td><td>1</td></tr><tr><td>stsezsandbox07</td><td>/stsezsandbox07/unity/83ad2d11-1431-4eb5-8a3e-a26542faf5ac/tables/794d4d99-16ab-4bb9-a9e4-c58c5cde0829/_delta_log/__tmp_path_dir/.00000000000000000008.crc.f9a73950-a7ed-430f-9f2d-3fd6b1cc5817.tmp</td><td>null</td><td>null</td><td>FlushFile</td><td>1</td></tr><tr><td>stsezsandbox07</td><td>/stsezsandbox07/unity/83ad2d11-1431-4eb5-8a3e-a26542faf5ac/tables/794d4d99-16ab-4bb9-a9e4-c58c5cde0829/_delta_log/__tmp_path_dir/.00000000000000000002.crc.e333a000-3b8d-4ec9-9879-9b9dec06e670.tmp</td><td>null</td><td>null</td><td>FlushFile</td><td>1</td></tr><tr><td>stsezsandbox07</td><td>/stsezsandbox07/unity/83ad2d11-1431-4eb5-8a3e-a26542faf5ac/tables/794d4d99-16ab-4bb9-a9e4-c58c5cde0829/_delta_log/00000000000000000002.crc</td><td>null</td><td>null</td><td>RenamePathFile</td><td>1</td></tr><tr><td>stsezsandbox07</td><td>/stsezsandbox07/unity/83ad2d11-1431-4eb5-8a3e-a26542faf5ac/tables/794d4d99-16ab-4bb9-a9e4-c58c5cde0829/_delta_log/__tmp_path_dir/.00000000000000000007.crc.6259df60-2bc6-4369-9d18-44ecda912c50.tmp</td><td>null</td><td>null</td><td>CreatePathFile</td><td>1</td></tr><tr><td>stsezsandbox07</td><td>/stsezsandbox07/unity/83ad2d11-1431-4eb5-8a3e-a26542faf5ac/tables/9ba815a2-5ecc-41ee-9f15-7ca779070272/_enzyme_log/1743776210944</td><td>null</td><td>null</td><td>CreatePathFile</td><td>1</td></tr><tr><td>stsezsandbox07</td><td>/stsezsandbox07/unity/83ad2d11-1431-4eb5-8a3e-a26542faf5ac/tables/794d4d99-16ab-4bb9-a9e4-c58c5cde0829/_delta_log/__tmp_path_dir/.00000000000000000008.crc.f9a73950-a7ed-430f-9f2d-3fd6b1cc5817.tmp</td><td>null</td><td>null</td><td>CreatePathFile</td><td>1</td></tr><tr><td>stsezsandbox07</td><td>/stsezsandbox07/slog/checkpoints/azure_raw_storage_log/sources/0/__tmp_path_dir/.0.2cc95f53-f5ef-4c88-ad12-4eae7fe1ccd3.tmp</td><td>null</td><td>null</td><td>AppendFile</td><td>1</td></tr><tr><td>stsezsandbox07</td><td>/stsezsandbox07/slog/checkpoints/azure_raw_storage_log/sources/0/__tmp_path_dir/.0.2cc95f53-f5ef-4c88-ad12-4eae7fe1ccd3.tmp</td><td>null</td><td>null</td><td>FlushFile</td><td>1</td></tr><tr><td>stsezsandbox07</td><td>/stsezsandbox07/unity/83ad2d11-1431-4eb5-8a3e-a26542faf5ac/tables/9ba815a2-5ecc-41ee-9f15-7ca779070272/_delta_log/00000000000000000007.json</td><td>null</td><td>null</td><td>GetPathStatus</td><td>1</td></tr><tr><td>stsezsandbox07</td><td>/stsezsandbox07/gold</td><td>null</td><td>null</td><td>ListBlobs</td><td>1</td></tr><tr><td>stsezsandbox07</td><td>/stsezsandbox07/unity/83ad2d11-1431-4eb5-8a3e-a26542faf5ac/tables/794d4d99-16ab-4bb9-a9e4-c58c5cde0829/_delta_log/__tmp_path_dir/.00000000000000000019.crc.9cf12812-a088-4285-83d9-d59c18d30492.tmp</td><td>null</td><td>null</td><td>FlushFile</td><td>1</td></tr><tr><td>stsezsandbox07</td><td>/stsezsandbox07/unity/83ad2d11-1431-4eb5-8a3e-a26542faf5ac/tables/467fcc5f-579a-4197-892b-163a22d88a6e/_delta_log/00000000000000000002.json</td><td>null</td><td>null</td><td>RenamePathFile</td><td>1</td></tr><tr><td>stsezsandbox07</td><td>/stsezsandbox07/unity/83ad2d11-1431-4eb5-8a3e-a26542faf5ac/tables/794d4d99-16ab-4bb9-a9e4-c58c5cde0829/_delta_log/__tmp_path_dir/.00000000000000000013.00000000000000000018.compacted.json.a3b1a6ab-d6ca-4434-8acd-27508cf2466c.tmp</td><td>null</td><td>null</td><td>AppendFile</td><td>1</td></tr><tr><td>stsezsandbox07</td><td>/stsezsandbox07/unity/83ad2d11-1431-4eb5-8a3e-a26542faf5ac/tables/794d4d99-16ab-4bb9-a9e4-c58c5cde0829/_delta_log/00000000000000000006.crc</td><td>null</td><td>null</td><td>ReadFile</td><td>1</td></tr><tr><td>stsezsandbox07</td><td>/stsezsandbox07/unity/83ad2d11-1431-4eb5-8a3e-a26542faf5ac/tables/794d4d99-16ab-4bb9-a9e4-c58c5cde0829/part-00000-dd55e5b2-5a14-46b1-a7a9-6e65a9e62ced.c000.snappy.parquet</td><td>null</td><td>null</td><td>AppendFile</td><td>1</td></tr><tr><td>stsezsandbox07</td><td>/stsezsandbox07/unity/83ad2d11-1431-4eb5-8a3e-a26542faf5ac/tables/794d4d99-16ab-4bb9-a9e4-c58c5cde0829/_delta_log/__tmp_path_dir/.00000000000000000020.crc.fc26e608-4fc0-4f2f-866c-650f897bad08.tmp</td><td>null</td><td>null</td><td>FlushFile</td><td>1</td></tr><tr><td>stsezsandbox07</td><td>/stsezsandbox07/unity/83ad2d11-1431-4eb5-8a3e-a26542faf5ac/tables/fa77fedc-b2a1-4914-8455-d461701cb3ec/part-00000-3b80cd20-08f3-4584-9246-013a6b24a9ab.c000.snappy.parquet</td><td>null</td><td>null</td><td>CreatePathFile</td><td>1</td></tr><tr><td>stsezsandbox07</td><td>/stsezsandbox07/unity/83ad2d11-1431-4eb5-8a3e-a26542faf5ac/tables/794d4d99-16ab-4bb9-a9e4-c58c5cde0829/_delta_log/00000000000000000020.crc</td><td>null</td><td>null</td><td>RenamePathFile</td><td>1</td></tr><tr><td>stsezsandbox07</td><td>/stsezsandbox07/unity/83ad2d11-1431-4eb5-8a3e-a26542faf5ac/tables/9ba815a2-5ecc-41ee-9f15-7ca779070272/_enzyme_log/1743761796970</td><td>null</td><td>null</td><td>FlushFile</td><td>1</td></tr><tr><td>stsezsandbox07</td><td>/stsezsandbox07/unity/83ad2d11-1431-4eb5-8a3e-a26542faf5ac/tables/9ba815a2-5ecc-41ee-9f15-7ca779070272/_enzyme_log/1743790621812</td><td>null</td><td>null</td><td>CreatePathFile</td><td>1</td></tr><tr><td>stsezsandbox07</td><td>/stsezsandbox07/unity/83ad2d11-1431-4eb5-8a3e-a26542faf5ac/tables/9ba815a2-5ecc-41ee-9f15-7ca779070272/part-00000-cb469aa0-abe1-4269-ac38-f9fa6f1fda0d.c000.snappy.parquet</td><td>null</td><td>null</td><td>FlushFile</td><td>1</td></tr><tr><td>stsezsandbox07</td><td>/stsezsandbox07/slog/checkpoints/azure_raw_storage_log/commits/__tmp_path_dir/.0.386f06ea-a0c4-421d-9768-b16e1a11c072.tmp</td><td>null</td><td>null</td><td>CreatePathFile</td><td>1</td></tr><tr><td>stsezsandbox07</td><td>/stsezsandbox07/unity/83ad2d11-1431-4eb5-8a3e-a26542faf5ac/tables/9ba815a2-5ecc-41ee-9f15-7ca779070272/_delta_log/__tmp_path_dir/.00000000000000000007.00000000000000000012.compacted.json.e1199165-4749-4d97-b5f3-d48579625bba.tmp</td><td>null</td><td>null</td><td>AppendFile</td><td>1</td></tr><tr><td>stsezsandbox07</td><td>/stsezsandbox07/slog/checkpoints/vw_storage_log/commits/8</td><td>null</td><td>null</td><td>RenamePathFile</td><td>1</td></tr><tr><td>stsezsandbox07</td><td>/stsezsandbox07/unity/83ad2d11-1431-4eb5-8a3e-a26542faf5ac/tables/794d4d99-16ab-4bb9-a9e4-c58c5cde0829/part-00000-a6d6dd3c-8683-465e-81c3-dcf409dd9838.c000.snappy.parquet</td><td>null</td><td>null</td><td>AppendFile</td><td>1</td></tr><tr><td>stsezsandbox07</td><td>/stsezsandbox07/unity/83ad2d11-1431-4eb5-8a3e-a26542faf5ac/tables/794d4d99-16ab-4bb9-a9e4-c58c5cde0829/_delta_log/00000000000000000010.json</td><td>null</td><td>null</td><td>ReadFile</td><td>1</td></tr><tr><td>stsezsandbox07</td><td>/stsezsandbox07/unity/83ad2d11-1431-4eb5-8a3e-a26542faf5ac/tables/9ba815a2-5ecc-41ee-9f15-7ca779070272/_delta_log/__tmp_path_dir/.00000000000000000007.00000000000000000012.compacted.json.e1199165-4749-4d97-b5f3-d48579625bba.tmp</td><td>null</td><td>null</td><td>CreatePathFile</td><td>1</td></tr><tr><td>stsezsandbox07</td><td>/stsezsandbox07/slog/checkpoints/vw_storage_log/commits/__tmp_path_dir/.8.e0ef9f62-8c99-408c-b1fe-476831a0e88b.tmp</td><td>null</td><td>null</td><td>AppendFile</td><td>1</td></tr><tr><td>stsezsandbox07</td><td>/stsezsandbox07/unity/83ad2d11-1431-4eb5-8a3e-a26542faf5ac/tables/fa77fedc-b2a1-4914-8455-d461701cb3ec/part-00000-3b80cd20-08f3-4584-9246-013a6b24a9ab.c000.snappy.parquet</td><td>null</td><td>null</td><td>AppendFile</td><td>1</td></tr><tr><td>stsezsandbox07</td><td>/stsezsandbox07/unity/83ad2d11-1431-4eb5-8a3e-a26542faf5ac/tables/cf19f4d9-4527-4c9e-8b9f-76624443b9fe/_delta_log/__tmp_path_dir/.00000000000000000000.crc.2cd0cbdd-643f-4993-bfb2-41abde7f386c.tmp</td><td>null</td><td>null</td><td>FlushFile</td><td>1</td></tr><tr><td>stsezsandbox07</td><td>/stsezsandbox07/slog/checkpoints/vw_storage_log/commits/__tmp_path_dir/.8.e0ef9f62-8c99-408c-b1fe-476831a0e88b.tmp</td><td>null</td><td>null</td><td>FlushFile</td><td>1</td></tr><tr><td>stsezsandbox07</td><td>/stsezsandbox07/unity/83ad2d11-1431-4eb5-8a3e-a26542faf5ac/tables/794d4d99-16ab-4bb9-a9e4-c58c5cde0829/_delta_log/__tmp_path_dir/.00000000000000000013.00000000000000000018.compacted.json.a3b1a6ab-d6ca-4434-8acd-27508cf2466c.tmp</td><td>null</td><td>null</td><td>CreatePathFile</td><td>1</td></tr><tr><td>stsezsandbox07</td><td>/stsezsandbox07/unity/83ad2d11-1431-4eb5-8a3e-a26542faf5ac/tables/fa77fedc-b2a1-4914-8455-d461701cb3ec/_delta_log/__tmp_path_dir/.00000000000000000001.crc.70ea51e1-e9bb-4027-a554-ced73d53d7b2.tmp</td><td>null</td><td>null</td><td>FlushFile</td><td>1</td></tr><tr><td>stsezsandbox07</td><td>/stsezsandbox07/unity/83ad2d11-1431-4eb5-8a3e-a26542faf5ac/tables/794d4d99-16ab-4bb9-a9e4-c58c5cde0829/_delta_log/__tmp_path_dir/.00000000000000000018.crc.a0e491ea-d8ca-4775-a658-73cdacc773d1.tmp</td><td>null</td><td>null</td><td>FlushFile</td><td>1</td></tr><tr><td>stsezsandbox07</td><td>/stsezsandbox07/unity/83ad2d11-1431-4eb5-8a3e-a26542faf5ac/tables/794d4d99-16ab-4bb9-a9e4-c58c5cde0829/_delta_log/__tmp_path_dir/.00000000000000000013.00000000000000000018.compacted.json.a3b1a6ab-d6ca-4434-8acd-27508cf2466c.tmp</td><td>null</td><td>null</td><td>FlushFile</td><td>1</td></tr><tr><td>stsezsandbox07</td><td>/stsezsandbox07/slog/checkpoints/vw_storage_log/offsets/__tmp_path_dir/.9.bf9797d3-a4da-4c6f-9acc-5356dd478f1d.tmp</td><td>null</td><td>null</td><td>FlushFile</td><td>1</td></tr><tr><td>stsezsandbox07</td><td>/stsezsandbox07/unity/83ad2d11-1431-4eb5-8a3e-a26542faf5ac/tables/9ba815a2-5ecc-41ee-9f15-7ca779070272/__enzyme_stats/stats.json</td><td>null</td><td>null</td><td>GetBlob</td><td>1</td></tr><tr><td>stsezsandbox07</td><td>/stsezsandbox07/slog/checkpoints/azure_raw_storage_log/__tmp_path_dir/.metadata.360c1995-fc4e-43aa-9ee4-a798ea785c47.tmp</td><td>null</td><td>null</td><td>CreatePathFile</td><td>1</td></tr><tr><td>stsezsandbox07</td><td>/stsezsandbox07/unity/83ad2d11-1431-4eb5-8a3e-a26542faf5ac/tables/794d4d99-16ab-4bb9-a9e4-c58c5cde0829/_delta_log/__tmp_path_dir/.00000000000000000019.json.a7e18c39-01c3-42f3-bea2-38fed2ca3c56.tmp</td><td>null</td><td>null</td><td>CreatePathFile</td><td>1</td></tr><tr><td>stsezsandbox07</td><td>/stsezsandbox07/slog/checkpoints/azure_raw_storage_log/offsets/__tmp_path_dir/.1.1db4289c-c0aa-4382-92af-70e59e6f9666.tmp</td><td>null</td><td>null</td><td>AppendFile</td><td>1</td></tr><tr><td>stsezsandbox07</td><td>/stsezsandbox07/unity/83ad2d11-1431-4eb5-8a3e-a26542faf5ac/tables/9ba815a2-5ecc-41ee-9f15-7ca779070272/_enzyme_log/1743732981906</td><td>null</td><td>null</td><td>CreatePathFile</td><td>1</td></tr><tr><td>stsezsandbox07</td><td>/stsezsandbox07/slog/checkpoints/azure_raw_storage_log/offsets/__tmp_path_dir/.2.2d0d40cb-2754-472a-bf1b-4a08913fa3a0.tmp</td><td>null</td><td>null</td><td>FlushFile</td><td>1</td></tr><tr><td>stsezsandbox07</td><td>/stsezsandbox07/unity/83ad2d11-1431-4eb5-8a3e-a26542faf5ac/tables/794d4d99-16ab-4bb9-a9e4-c58c5cde0829/_delta_log/__tmp_path_dir/.00000000000000000017.json.053c3bf3-47fb-43e9-9700-598ad9aa9a4e.tmp</td><td>null</td><td>null</td><td>AppendFile</td><td>1</td></tr><tr><td>stsezsandbox07</td><td>/stsezsandbox07/slog/checkpoints/vw_storage_log/commits/10</td><td>null</td><td>null</td><td>GetPathStatus</td><td>1</td></tr><tr><td>stsezsandbox07</td><td>/stsezsandbox07/unity/83ad2d11-1431-4eb5-8a3e-a26542faf5ac/tables/794d4d99-16ab-4bb9-a9e4-c58c5cde0829/_delta_log/__tmp_path_dir/.00000000000000000008.json.248360dd-1936-4e50-9a8c-759e6ddbc160.tmp</td><td>null</td><td>null</td><td>CreatePathFile</td><td>1</td></tr><tr><td>stsezsandbox07</td><td>/stsezsandbox07/unity/83ad2d11-1431-4eb5-8a3e-a26542faf5ac/tables/9ba815a2-5ecc-41ee-9f15-7ca779070272/_delta_log/00000000000000000006.crc</td><td>null</td><td>null</td><td>RenamePathFile</td><td>1</td></tr><tr><td>stsezsandbox07</td><td>/stsezsandbox07/unity/83ad2d11-1431-4eb5-8a3e-a26542faf5ac/tables/794d4d99-16ab-4bb9-a9e4-c58c5cde0829/_delta_log/__tmp_path_dir/.00000000000000000020.json.0d5e3660-8477-4765-adee-aa16fa3b53de.tmp</td><td>null</td><td>null</td><td>FlushFile</td><td>1</td></tr><tr><td>stsezsandbox07</td><td>/stsezsandbox07/unity/83ad2d11-1431-4eb5-8a3e-a26542faf5ac/tables/467fcc5f-579a-4197-892b-163a22d88a6e</td><td>null</td><td>null</td><td>CreatePathDir</td><td>1</td></tr><tr><td>stsezsandbox07</td><td>/stsezsandbox07/unity/83ad2d11-1431-4eb5-8a3e-a26542faf5ac/tables/794d4d99-16ab-4bb9-a9e4-c58c5cde0829</td><td>null</td><td>null</td><td>CreatePathDir</td><td>1</td></tr><tr><td>stsezsandbox07</td><td>/stsezsandbox07/unity/83ad2d11-1431-4eb5-8a3e-a26542faf5ac/tables/794d4d99-16ab-4bb9-a9e4-c58c5cde0829/part-00000-a6d6dd3c-8683-465e-81c3-dcf409dd9838.c000.snappy.parquet</td><td>null</td><td>null</td><td>CreatePathFile</td><td>1</td></tr><tr><td>stsezsandbox07</td><td>/stsezsandbox07/unity/83ad2d11-1431-4eb5-8a3e-a26542faf5ac/tables/794d4d99-16ab-4bb9-a9e4-c58c5cde0829/_delta_log/00000000000000000008.crc</td><td>null</td><td>null</td><td>RenamePathFile</td><td>1</td></tr><tr><td>stsezsandbox07</td><td>/stsezsandbox07/unity/83ad2d11-1431-4eb5-8a3e-a26542faf5ac/tables/794d4d99-16ab-4bb9-a9e4-c58c5cde0829/_delta_log/__tmp_path_dir/.00000000000000000019.json.a7e18c39-01c3-42f3-bea2-38fed2ca3c56.tmp</td><td>null</td><td>null</td><td>FlushFile</td><td>1</td></tr><tr><td>stsezsandbox07</td><td>/stsezsandbox07/unity/83ad2d11-1431-4eb5-8a3e-a26542faf5ac/tables/794d4d99-16ab-4bb9-a9e4-c58c5cde0829/_delta_log/__tmp_path_dir/.00000000000000000007.crc.6259df60-2bc6-4369-9d18-44ecda912c50.tmp</td><td>null</td><td>null</td><td>FlushFile</td><td>1</td></tr><tr><td>stsezsandbox07</td><td>/stsezsandbox07/unity/83ad2d11-1431-4eb5-8a3e-a26542faf5ac/tables/794d4d99-16ab-4bb9-a9e4-c58c5cde0829/_delta_log/__tmp_path_dir/.00000000000000000018.json.7ed0317e-ead3-4a0e-9bf5-afc35954ecbe.tmp</td><td>null</td><td>null</td><td>FlushFile</td><td>1</td></tr><tr><td>stsezsandbox07</td><td>/stsezsandbox07/unity/83ad2d11-1431-4eb5-8a3e-a26542faf5ac/tables/9ba815a2-5ecc-41ee-9f15-7ca779070272/_delta_log/__tmp_path_dir/.00000000000000000006.json.43fc4624-9abd-4a72-88a5-bada331a8d93.tmp</td><td>null</td><td>null</td><td>CreatePathFile</td><td>1</td></tr><tr><td>stsezsandbox07</td><td>/stsezsandbox07/unity/83ad2d11-1431-4eb5-8a3e-a26542faf5ac/tables/9ba815a2-5ecc-41ee-9f15-7ca779070272/_delta_log/__tmp_path_dir/.00000000000000000007.crc.c004396b-aadb-44f3-8ccf-bcf736eb91eb.tmp</td><td>null</td><td>null</td><td>AppendFile</td><td>1</td></tr><tr><td>stsezsandbox07</td><td>/stsezsandbox07/slog/checkpoints/azure_raw_storage_log/commits/__tmp_path_dir/.0.386f06ea-a0c4-421d-9768-b16e1a11c072.tmp</td><td>null</td><td>null</td><td>FlushFile</td><td>1</td></tr><tr><td>stsezsandbox07</td><td>/stsezsandbox07/unity/83ad2d11-1431-4eb5-8a3e-a26542faf5ac/models/a3796001-dfb6-4faa-b295-8d3279c347ed/versions/0dc9097e-a1e6-4de0-8038-7a73f9025473/input_example.json</td><td>null</td><td>null</td><td>GetBlob</td><td>1</td></tr><tr><td>stsezsandbox07</td><td>/stsezsandbox07/unity/83ad2d11-1431-4eb5-8a3e-a26542faf5ac/tables/9ba815a2-5ecc-41ee-9f15-7ca779070272/_enzyme_log/1743730575237</td><td>null</td><td>null</td><td>GetPathStatus</td><td>1</td></tr><tr><td>stsezsandbox07</td><td>/stsezsandbox07/unity/83ad2d11-1431-4eb5-8a3e-a26542faf5ac/tables/9ba815a2-5ecc-41ee-9f15-7ca779070272/part-00000-6c2aa6d3-4249-40a9-bdbc-0693b2bc1ccc.c000.snappy.parquet</td><td>null</td><td>null</td><td>FlushFile</td><td>1</td></tr><tr><td>stsezsandbox07</td><td>/stsezsandbox07/unity/83ad2d11-1431-4eb5-8a3e-a26542faf5ac/tables/794d4d99-16ab-4bb9-a9e4-c58c5cde0829/_delta_log/00000000000000000010.json</td><td>null</td><td>null</td><td>GetPathStatus</td><td>1</td></tr><tr><td>stsezsandbox07</td><td>/stsezsandbox07/unity/83ad2d11-1431-4eb5-8a3e-a26542faf5ac/tables/794d4d99-16ab-4bb9-a9e4-c58c5cde0829/_delta_log/__tmp_path_dir/.00000000000000000016.crc.036fa83f-5c31-43ca-96b6-8412b276307c.tmp</td><td>null</td><td>null</td><td>AppendFile</td><td>1</td></tr><tr><td>stsezsandbox07</td><td>/stsezsandbox07/unity/83ad2d11-1431-4eb5-8a3e-a26542faf5ac/tables/9ba815a2-5ecc-41ee-9f15-7ca779070272/_delta_log/__tmp_path_dir/.00000000000000000002.json.ed389850-38d0-4158-9803-a89ca1f5147e.tmp</td><td>null</td><td>null</td><td>AppendFile</td><td>1</td></tr><tr><td>stsezsandbox07</td><td>/stsezsandbox07/unity/83ad2d11-1431-4eb5-8a3e-a26542faf5ac/tables/467fcc5f-579a-4197-892b-163a22d88a6e/_delta_log/00000000000000000001.crc</td><td>null</td><td>null</td><td>RenamePathFile</td><td>1</td></tr><tr><td>stsezsandbox07</td><td>/stsezsandbox07/unity/83ad2d11-1431-4eb5-8a3e-a26542faf5ac/tables/9ba815a2-5ecc-41ee-9f15-7ca779070272/_delta_log/__tmp_path_dir/.00000000000000000010.json.5f981692-c6eb-4df0-915c-41146c046f54.tmp</td><td>null</td><td>null</td><td>FlushFile</td><td>1</td></tr><tr><td>stsezsandbox07</td><td>/stsezsandbox07/unity/83ad2d11-1431-4eb5-8a3e-a26542faf5ac/tables/467fcc5f-579a-4197-892b-163a22d88a6e/_delta_log/__tmp_path_dir/.00000000000000000001.json.222e303b-5c3e-4b8f-bd60-d9661828a4ee.tmp</td><td>null</td><td>null</td><td>AppendFile</td><td>1</td></tr><tr><td>stsezsandbox07</td><td>/stsezsandbox07/unity/83ad2d11-1431-4eb5-8a3e-a26542faf5ac/tables/9ba815a2-5ecc-41ee-9f15-7ca779070272/_delta_log/__tmp_path_dir/.00000000000000000002.crc.cb544da1-3dc3-4cc4-bdfa-4b314763eef6.tmp</td><td>null</td><td>null</td><td>FlushFile</td><td>1</td></tr><tr><td>stsezsandbox07</td><td>/stsezsandbox07/unity/83ad2d11-1431-4eb5-8a3e-a26542faf5ac/tables/467fcc5f-579a-4197-892b-163a22d88a6e/_delta_log/00000000000000000002.crc</td><td>null</td><td>null</td><td>RenamePathFile</td><td>1</td></tr><tr><td>stsezsandbox07</td><td>/stsezsandbox07/slog/checkpoints/vw_storage_log/commits/__tmp_path_dir/.10.2874b604-f2f7-417f-b567-db9a656c1729.tmp</td><td>null</td><td>null</td><td>CreatePathFile</td><td>1</td></tr><tr><td>stsezsandbox07</td><td>/stsezsandbox07/unity/83ad2d11-1431-4eb5-8a3e-a26542faf5ac/tables/cf19f4d9-4527-4c9e-8b9f-76624443b9fe/_delta_log/_commits</td><td>null</td><td>null</td><td>CreatePathDir</td><td>1</td></tr><tr><td>stsezsandbox07</td><td>/stsezsandbox07/unity/83ad2d11-1431-4eb5-8a3e-a26542faf5ac/tables/cf19f4d9-4527-4c9e-8b9f-76624443b9fe/_delta_log/__tmp_path_dir/.00000000000000000001.json.8b848b47-753f-4196-a607-fcd03fe1eeba.tmp</td><td>null</td><td>null</td><td>CreatePathFile</td><td>1</td></tr><tr><td>stsezsandbox07</td><td>/stsezsandbox07/unity/83ad2d11-1431-4eb5-8a3e-a26542faf5ac/tables/794d4d99-16ab-4bb9-a9e4-c58c5cde0829/_delta_log/00000000000000000017.json</td><td>null</td><td>null</td><td>RenamePathFile</td><td>1</td></tr><tr><td>stsezsandbox07</td><td>/stsezsandbox07/unity/83ad2d11-1431-4eb5-8a3e-a26542faf5ac/tables/794d4d99-16ab-4bb9-a9e4-c58c5cde0829/part-00000-dd55e5b2-5a14-46b1-a7a9-6e65a9e62ced.c000.snappy.parquet</td><td>null</td><td>null</td><td>FlushFile</td><td>1</td></tr><tr><td>stsezsandbox07</td><td>/stsezsandbox07/pos-dev/models/5c3f3517-ace8-43e8-ad67-68d43fe6d57d/versions/d95a5ea4-9814-454a-ba76-8c43f013ba9c/requirements.txt</td><td>null</td><td>null</td><td>GetBlob</td><td>1</td></tr><tr><td>stsezsandbox07</td><td>/stsezsandbox07/unity/83ad2d11-1431-4eb5-8a3e-a26542faf5ac/tables/9ba815a2-5ecc-41ee-9f15-7ca779070272/_delta_log/__tmp_path_dir/.00000000000000000012.crc.cdf10512-f25b-4ce2-945e-e6ed3f738c25.tmp</td><td>null</td><td>null</td><td>AppendFile</td><td>1</td></tr><tr><td>stsezsandbox07</td><td>/stsezsandbox07/unity/83ad2d11-1431-4eb5-8a3e-a26542faf5ac/tables/9ba815a2-5ecc-41ee-9f15-7ca779070272/_delta_log/__tmp_path_dir/.00000000000000000000.crc.62c3d773-2fe3-428d-8cf0-51448e8d86eb.tmp</td><td>null</td><td>null</td><td>CreatePathFile</td><td>1</td></tr><tr><td>stsezsandbox07</td><td>/stsezsandbox07/slog/checkpoints/azure_raw_storage_log/commits/2</td><td>null</td><td>null</td><td>RenamePathFile</td><td>1</td></tr><tr><td>stsezsandbox07</td><td>/stsezsandbox07/unity/83ad2d11-1431-4eb5-8a3e-a26542faf5ac/tables/794d4d99-16ab-4bb9-a9e4-c58c5cde0829/_delta_log/__tmp_path_dir/.00000000000000000021.json.d4b3cb19-3a02-4bdc-853a-cb3774f1b811.tmp</td><td>null</td><td>null</td><td>CreatePathFile</td><td>1</td></tr><tr><td>stsezsandbox07</td><td>/stsezsandbox07/unity/83ad2d11-1431-4eb5-8a3e-a26542faf5ac/tables/794d4d99-16ab-4bb9-a9e4-c58c5cde0829/_delta_log/__tmp_path_dir/.00000000000000000010.crc.911580b8-3130-491e-833c-3284e42f5760.tmp</td><td>null</td><td>null</td><td>FlushFile</td><td>1</td></tr><tr><td>stsezsandbox07</td><td>/stsezsandbox07/unity/83ad2d11-1431-4eb5-8a3e-a26542faf5ac/tables/fa77fedc-b2a1-4914-8455-d461701cb3ec/_delta_log/00000000000000000000.json</td><td>null</td><td>null</td><td>RenamePathFile</td><td>1</td></tr><tr><td>stsezsandbox07</td><td>/stsezsandbox07/unity/83ad2d11-1431-4eb5-8a3e-a26542faf5ac/tables/794d4d99-16ab-4bb9-a9e4-c58c5cde0829/_delta_log/00000000000000000009.json</td><td>null</td><td>null</td><td>GetPathStatus</td><td>1</td></tr><tr><td>stsezsandbox07</td><td>/stsezsandbox07/unity/83ad2d11-1431-4eb5-8a3e-a26542faf5ac/tables/9ba815a2-5ecc-41ee-9f15-7ca779070272/_delta_log/__tmp_path_dir/.00000000000000000010.crc.a57dbcba-4bd6-4b43-bf10-01a0c12b1095.tmp</td><td>null</td><td>null</td><td>FlushFile</td><td>1</td></tr><tr><td>stsezsandbox07</td><td>/stsezsandbox07/unity/83ad2d11-1431-4eb5-8a3e-a26542faf5ac/tables/9ba815a2-5ecc-41ee-9f15-7ca779070272/_delta_log/__tmp_path_dir/.00000000000000000001.json.510119c9-e2de-42e3-9182-0ccd3beb0e73.tmp</td><td>null</td><td>null</td><td>FlushFile</td><td>1</td></tr><tr><td>stsezsandbox07</td><td>/stsezsandbox07/unity/83ad2d11-1431-4eb5-8a3e-a26542faf5ac/tables/794d4d99-16ab-4bb9-a9e4-c58c5cde0829/_delta_log/00000000000000000008.crc</td><td>null</td><td>null</td><td>ReadFile</td><td>1</td></tr><tr><td>stsezsandbox07</td><td>/stsezsandbox07/unity/83ad2d11-1431-4eb5-8a3e-a26542faf5ac/tables/9ba815a2-5ecc-41ee-9f15-7ca779070272/_delta_log/__tmp_path_dir/.00000000000000000000.json.a942a71f-d5b5-4750-aa8f-07e5480dc83a.tmp</td><td>null</td><td>null</td><td>AppendFile</td><td>1</td></tr><tr><td>stsezsandbox07</td><td>/stsezsandbox07/unity/83ad2d11-1431-4eb5-8a3e-a26542faf5ac/tables/467fcc5f-579a-4197-892b-163a22d88a6e/_delta_log/00000000000000000001.crc</td><td>null</td><td>null</td><td>ReadFile</td><td>1</td></tr><tr><td>stsezsandbox07</td><td>/stsezsandbox07/unity/83ad2d11-1431-4eb5-8a3e-a26542faf5ac/tables/fa77fedc-b2a1-4914-8455-d461701cb3ec/_delta_log/__tmp_path_dir/.00000000000000000000.json.fbbe4d3e-7f4e-4ad6-bfb5-22238295cf68.tmp</td><td>null</td><td>null</td><td>AppendFile</td><td>1</td></tr><tr><td>stsezsandbox07</td><td>/stsezsandbox07/slog/checkpoints/azure_raw_storage_log/offsets/1</td><td>null</td><td>null</td><td>RenamePathFile</td><td>1</td></tr><tr><td>stsezsandbox07</td><td>/stsezsandbox07/unity/83ad2d11-1431-4eb5-8a3e-a26542faf5ac/tables/794d4d99-16ab-4bb9-a9e4-c58c5cde0829/part-00000-e05e96ec-a9c8-4359-9a53-fe00709b4738.c000.snappy.parquet</td><td>null</td><td>null</td><td>FlushFile</td><td>1</td></tr><tr><td>stsezsandbox07</td><td>/stsezsandbox07/unity/83ad2d11-1431-4eb5-8a3e-a26542faf5ac/tables/fa77fedc-b2a1-4914-8455-d461701cb3ec/_delta_log/__tmp_path_dir/.00000000000000000000.crc.964a5993-8cf8-486f-93d0-4de2979dda14.tmp</td><td>null</td><td>null</td><td>CreatePathFile</td><td>1</td></tr><tr><td>stsezsandbox07</td><td>/stsezsandbox07/unity/83ad2d11-1431-4eb5-8a3e-a26542faf5ac/tables/cf19f4d9-4527-4c9e-8b9f-76624443b9fe/_delta_log/00000000000000000001.json</td><td>null</td><td>null</td><td>RenamePathFile</td><td>1</td></tr><tr><td>stsezsandbox07</td><td>/stsezsandbox07/silver</td><td>null</td><td>null</td><td>ListBlobs</td><td>1</td></tr><tr><td>stsezsandbox07</td><td>/stsezsandbox07/unity/83ad2d11-1431-4eb5-8a3e-a26542faf5ac/tables/794d4d99-16ab-4bb9-a9e4-c58c5cde0829/part-00000-61fbb864-a1a0-4e8d-806e-e43ee014ea74.c000.snappy.parquet</td><td>null</td><td>null</td><td>FlushFile</td><td>1</td></tr><tr><td>stsezsandbox07</td><td>/stsezsandbox07/unity/83ad2d11-1431-4eb5-8a3e-a26542faf5ac/tables/9ba815a2-5ecc-41ee-9f15-7ca779070272/_delta_log/__tmp_path_dir/.00000000000000000001.00000000000000000006.compacted.json.148322f5-12b7-4d4a-aa7c-4f4c929d4745.tmp</td><td>null</td><td>null</td><td>CreatePathFile</td><td>1</td></tr><tr><td>stsezsandbox07</td><td>/stsezsandbox07/slog/checkpoints/azure_raw_storage_log/commits/2</td><td>null</td><td>null</td><td>GetPathStatus</td><td>1</td></tr><tr><td>stsezsandbox07</td><td>/stsezsandbox07/slog/checkpoints/azure_raw_storage_log/commits/1</td><td>null</td><td>null</td><td>RenamePathFile</td><td>1</td></tr><tr><td>stsezsandbox07</td><td>/stsezsandbox07/unity/83ad2d11-1431-4eb5-8a3e-a26542faf5ac/tables/9ba815a2-5ecc-41ee-9f15-7ca779070272/_delta_log/__tmp_path_dir/.00000000000000000011.json.e31b7c1f-2750-48a0-8ebc-0af551f50a83.tmp</td><td>null</td><td>null</td><td>FlushFile</td><td>1</td></tr><tr><td>stsezsandbox07</td><td>/stsezsandbox07/unity/83ad2d11-1431-4eb5-8a3e-a26542faf5ac/tables/9ba815a2-5ecc-41ee-9f15-7ca779070272/_delta_log/00000000000000000001.json</td><td>null</td><td>null</td><td>RenamePathFile</td><td>1</td></tr><tr><td>stsezsandbox07</td><td>/stsezsandbox07/unity/83ad2d11-1431-4eb5-8a3e-a26542faf5ac/tables/9ba815a2-5ecc-41ee-9f15-7ca779070272/_delta_log/__tmp_path_dir/.00000000000000000002.json.ed389850-38d0-4158-9803-a89ca1f5147e.tmp</td><td>null</td><td>null</td><td>CreatePathFile</td><td>1</td></tr><tr><td>stsezsandbox07</td><td>/stsezsandbox07/unity/83ad2d11-1431-4eb5-8a3e-a26542faf5ac/tables/9ba815a2-5ecc-41ee-9f15-7ca779070272/_delta_log/__tmp_path_dir/.00000000000000000010.json.5f981692-c6eb-4df0-915c-41146c046f54.tmp</td><td>null</td><td>null</td><td>CreatePathFile</td><td>1</td></tr><tr><td>stsezsandbox07</td><td>/stsezsandbox07/unity/83ad2d11-1431-4eb5-8a3e-a26542faf5ac/tables/9ba815a2-5ecc-41ee-9f15-7ca779070272/_delta_log/00000000000000000007.00000000000000000012.compacted.json</td><td>null</td><td>null</td><td>ReadFile</td><td>1</td></tr><tr><td>stsezsandbox07</td><td>/stsezsandbox07/unity/83ad2d11-1431-4eb5-8a3e-a26542faf5ac/tables/794d4d99-16ab-4bb9-a9e4-c58c5cde0829/_delta_log/00000000000000000000.json</td><td>null</td><td>null</td><td>GetPathStatus</td><td>1</td></tr><tr><td>stsezsandbox07</td><td>/stsezsandbox07/unity/83ad2d11-1431-4eb5-8a3e-a26542faf5ac/tables/794d4d99-16ab-4bb9-a9e4-c58c5cde0829/_delta_log/00000000000000000007.json</td><td>null</td><td>null</td><td>RenamePathFile</td><td>1</td></tr><tr><td>stsezsandbox07</td><td>/stsezsandbox07/unity/83ad2d11-1431-4eb5-8a3e-a26542faf5ac/tables/9ba815a2-5ecc-41ee-9f15-7ca779070272/_delta_log/__tmp_path_dir/.00000000000000000006.crc.142ea08f-ed54-4fcc-993a-3d29d84f18b7.tmp</td><td>null</td><td>null</td><td>AppendFile</td><td>1</td></tr><tr><td>stsezsandbox07</td><td>/stsezsandbox07/unity/83ad2d11-1431-4eb5-8a3e-a26542faf5ac/tables/794d4d99-16ab-4bb9-a9e4-c58c5cde0829/_delta_log/00000000000000000017.json</td><td>null</td><td>null</td><td>GetPathStatus</td><td>1</td></tr><tr><td>stsezsandbox07</td><td>/stsezsandbox07/slog/checkpoints/azure_raw_storage_log/commits/__tmp_path_dir/.0.386f06ea-a0c4-421d-9768-b16e1a11c072.tmp</td><td>null</td><td>null</td><td>AppendFile</td><td>1</td></tr><tr><td>stsezsandbox07</td><td>/stsezsandbox07/unity/83ad2d11-1431-4eb5-8a3e-a26542faf5ac/tables/9ba815a2-5ecc-41ee-9f15-7ca779070272/_enzyme_log/1743724403401</td><td>null</td><td>null</td><td>FlushFile</td><td>1</td></tr><tr><td>stsezsandbox07</td><td>/stsezsandbox07/unity/83ad2d11-1431-4eb5-8a3e-a26542faf5ac/tables/9ba815a2-5ecc-41ee-9f15-7ca779070272/_delta_log/__tmp_path_dir/.00000000000000000002.json.ed389850-38d0-4158-9803-a89ca1f5147e.tmp</td><td>null</td><td>null</td><td>FlushFile</td><td>1</td></tr><tr><td>stsezsandbox07</td><td>/stsezsandbox07/unity/83ad2d11-1431-4eb5-8a3e-a26542faf5ac/tables/467fcc5f-579a-4197-892b-163a22d88a6e/_delta_log/__tmp_path_dir/.00000000000000000000.crc.99178fa6-21a4-49e9-b081-5b725e01250e.tmp</td><td>null</td><td>null</td><td>AppendFile</td><td>1</td></tr><tr><td>stsezsandbox07</td><td>/stsezsandbox07/unity/83ad2d11-1431-4eb5-8a3e-a26542faf5ac/tables/9ba815a2-5ecc-41ee-9f15-7ca779070272/_delta_log/__tmp_path_dir/.00000000000000000011.json.e31b7c1f-2750-48a0-8ebc-0af551f50a83.tmp</td><td>null</td><td>null</td><td>CreatePathFile</td><td>1</td></tr><tr><td>stsezsandbox07</td><td>/stsezsandbox07/unity/83ad2d11-1431-4eb5-8a3e-a26542faf5ac/tables/9ba815a2-5ecc-41ee-9f15-7ca779070272/_enzyme_log/1743747385600</td><td>null</td><td>null</td><td>AppendFile</td><td>1</td></tr><tr><td>stsezsandbox07</td><td>/stsezsandbox07/unity/83ad2d11-1431-4eb5-8a3e-a26542faf5ac/tables/794d4d99-16ab-4bb9-a9e4-c58c5cde0829/_delta_log/00000000000000000009.crc</td><td>null</td><td>null</td><td>RenamePathFile</td><td>1</td></tr><tr><td>stsezsandbox07</td><td>/stsezsandbox07/raw</td><td>null</td><td>null</td><td>ListBlobs</td><td>1</td></tr><tr><td>stsezsandbox07</td><td>/stsezsandbox07/slog/checkpoints/azure_raw_storage_log/__tmp_path_dir/.metadata.360c1995-fc4e-43aa-9ee4-a798ea785c47.tmp</td><td>null</td><td>null</td><td>FlushFile</td><td>1</td></tr><tr><td>stsezsandbox07</td><td>/stsezsandbox07/unity/83ad2d11-1431-4eb5-8a3e-a26542faf5ac/tables/cf19f4d9-4527-4c9e-8b9f-76624443b9fe/_delta_log/__tmp_path_dir/.00000000000000000000.crc.2cd0cbdd-643f-4993-bfb2-41abde7f386c.tmp</td><td>null</td><td>null</td><td>CreatePathFile</td><td>1</td></tr><tr><td>stsezsandbox07</td><td>/stsezsandbox07/unity/83ad2d11-1431-4eb5-8a3e-a26542faf5ac/tables/794d4d99-16ab-4bb9-a9e4-c58c5cde0829/part-00000-9937f921-2aae-4bbb-b078-146722d2fa92.c000.snappy.parquet</td><td>null</td><td>null</td><td>CreatePathFile</td><td>1</td></tr><tr><td>stsezsandbox07</td><td>/stsezsandbox07/slog/checkpoints/vw_storage_log/commits/__tmp_path_dir/.9.0d4d48b4-5b55-451e-befe-4679deb2558d.tmp</td><td>null</td><td>null</td><td>FlushFile</td><td>1</td></tr><tr><td>stsezsandbox07</td><td>/stsezsandbox07/unity/83ad2d11-1431-4eb5-8a3e-a26542faf5ac/tables/9ba815a2-5ecc-41ee-9f15-7ca779070272/part-00000-50dac75d-08ae-408a-9d98-fa0e7f96c467.c000.snappy.parquet</td><td>null</td><td>null</td><td>AppendFile</td><td>1</td></tr><tr><td>stsezsandbox07</td><td>/stsezsandbox07/unity/83ad2d11-1431-4eb5-8a3e-a26542faf5ac/tables/794d4d99-16ab-4bb9-a9e4-c58c5cde0829/part-00000-551e6949-dbb0-426d-9db7-7b6afe324764.c000.snappy.parquet</td><td>null</td><td>null</td><td>CreatePathFile</td><td>1</td></tr><tr><td>stsezsandbox07</td><td>/stsezsandbox07/unity/83ad2d11-1431-4eb5-8a3e-a26542faf5ac/tables/9ba815a2-5ecc-41ee-9f15-7ca779070272/_delta_log/00000000000000000002.json</td><td>null</td><td>null</td><td>RenamePathFile</td><td>1</td></tr><tr><td>stsezsandbox07</td><td>/stsezsandbox07/unity/83ad2d11-1431-4eb5-8a3e-a26542faf5ac/tables/794d4d99-16ab-4bb9-a9e4-c58c5cde0829/_delta_log/__tmp_path_dir/.00000000000000000001.json.0f3e7ec3-b213-4514-a577-a0b01dd17e58.tmp</td><td>null</td><td>null</td><td>CreatePathFile</td><td>1</td></tr><tr><td>stsezsandbox07</td><td>/stsezsandbox07/unity/83ad2d11-1431-4eb5-8a3e-a26542faf5ac/tables/9ba815a2-5ecc-41ee-9f15-7ca779070272/_delta_log/00000000000000000007.crc</td><td>null</td><td>null</td><td>ReadFile</td><td>1</td></tr><tr><td>stsezsandbox07</td><td>/stsezsandbox07/unity/83ad2d11-1431-4eb5-8a3e-a26542faf5ac/tables/467fcc5f-579a-4197-892b-163a22d88a6e/_delta_log/__tmp_path_dir/.00000000000000000002.json.cafd8fae-eff5-401d-937c-e44c9084a537.tmp</td><td>null</td><td>null</td><td>FlushFile</td><td>1</td></tr><tr><td>stsezsandbox07</td><td>/stsezsandbox07/unity/83ad2d11-1431-4eb5-8a3e-a26542faf5ac/tables/cf19f4d9-4527-4c9e-8b9f-76624443b9fe/part-00000-f5fbc1b7-34ab-4581-afde-4db7a5946d37.c000.snappy.parquet</td><td>null</td><td>null</td><td>CreatePathFile</td><td>1</td></tr><tr><td>stsezsandbox07</td><td>/stsezsandbox07/unity/83ad2d11-1431-4eb5-8a3e-a26542faf5ac/tables/467fcc5f-579a-4197-892b-163a22d88a6e/_delta_log/_commits</td><td>null</td><td>null</td><td>CreatePathDir</td><td>1</td></tr><tr><td>stsezsandbox07</td><td>/stsezsandbox07/unity/83ad2d11-1431-4eb5-8a3e-a26542faf5ac/tables/fa77fedc-b2a1-4914-8455-d461701cb3ec/_delta_log/__tmp_path_dir/.00000000000000000000.json.fbbe4d3e-7f4e-4ad6-bfb5-22238295cf68.tmp</td><td>null</td><td>null</td><td>FlushFile</td><td>1</td></tr><tr><td>stsezsandbox07</td><td>/stsezsandbox07/slog/checkpoints/vw_storage_log/offsets/__tmp_path_dir/.10.4bae74c8-bc53-44ec-8aed-659d092a6a2f.tmp</td><td>null</td><td>null</td><td>AppendFile</td><td>1</td></tr><tr><td>stsezsandbox07</td><td>/stsezsandbox07/unity/83ad2d11-1431-4eb5-8a3e-a26542faf5ac/tables/794d4d99-16ab-4bb9-a9e4-c58c5cde0829/part-00000-a245230e-197e-44a6-9ce1-8988a95fb9b9.c000.snappy.parquet</td><td>null</td><td>null</td><td>AppendFile</td><td>1</td></tr><tr><td>stsezsandbox07</td><td>/stsezsandbox07/unity/83ad2d11-1431-4eb5-8a3e-a26542faf5ac/tables/794d4d99-16ab-4bb9-a9e4-c58c5cde0829/part-00000-080975ed-cccf-4b51-a5a8-c54f144300af.c000.snappy.parquet</td><td>null</td><td>null</td><td>FlushFile</td><td>1</td></tr><tr><td>stsezsandbox07</td><td>/stsezsandbox07/unity/83ad2d11-1431-4eb5-8a3e-a26542faf5ac/tables/794d4d99-16ab-4bb9-a9e4-c58c5cde0829/part-00000-7ede3b88-95ed-4b8b-bacc-54f07c5ecdfe.c000.snappy.parquet</td><td>null</td><td>null</td><td>CreatePathFile</td><td>1</td></tr><tr><td>stsezsandbox07</td><td>/stsezsandbox07/unity/83ad2d11-1431-4eb5-8a3e-a26542faf5ac/tables/9ba815a2-5ecc-41ee-9f15-7ca779070272/_enzyme_log/1743724403401</td><td>null</td><td>null</td><td>AppendFile</td><td>1</td></tr><tr><td>stsezsandbox07</td><td>/stsezsandbox07/unity/83ad2d11-1431-4eb5-8a3e-a26542faf5ac/tables/794d4d99-16ab-4bb9-a9e4-c58c5cde0829/_delta_log/__tmp_path_dir/.00000000000000000010.json.3f07c14c-5fed-4231-a941-1bf66496cb72.tmp</td><td>null</td><td>null</td><td>CreatePathFile</td><td>1</td></tr><tr><td>stsezsandbox07</td><td>/stsezsandbox07/unity/83ad2d11-1431-4eb5-8a3e-a26542faf5ac/tables/cf19f4d9-4527-4c9e-8b9f-76624443b9fe/_delta_log/__tmp_path_dir/.00000000000000000001.json.8b848b47-753f-4196-a607-fcd03fe1eeba.tmp</td><td>null</td><td>null</td><td>FlushFile</td><td>1</td></tr><tr><td>stsezsandbox07</td><td>/stsezsandbox07/slog/checkpoints/vw_storage_log/offsets/10</td><td>null</td><td>null</td><td>GetPathStatus</td><td>1</td></tr><tr><td>stsezsandbox07</td><td>/stsezsandbox07/slog/checkpoints/vw_storage_log/offsets/9</td><td>null</td><td>null</td><td>RenamePathFile</td><td>1</td></tr><tr><td>stsezsandbox07</td><td>/stsezsandbox07/unity/83ad2d11-1431-4eb5-8a3e-a26542faf5ac/tables/cf19f4d9-4527-4c9e-8b9f-76624443b9fe</td><td>null</td><td>null</td><td>CreatePathDir</td><td>1</td></tr><tr><td>stsezsandbox07</td><td>/stsezsandbox07/unity/83ad2d11-1431-4eb5-8a3e-a26542faf5ac/tables/794d4d99-16ab-4bb9-a9e4-c58c5cde0829/_delta_log/__tmp_path_dir/.00000000000000000009.crc.c40f55a0-dca7-48e0-a75f-ea99967898b9.tmp</td><td>null</td><td>null</td><td>AppendFile</td><td>1</td></tr><tr><td>stsezsandbox07</td><td>/stsezsandbox07/unity/83ad2d11-1431-4eb5-8a3e-a26542faf5ac/tables/794d4d99-16ab-4bb9-a9e4-c58c5cde0829/_delta_log/__tmp_path_dir/.00000000000000000021.crc.fc71c375-4df0-471a-81c7-564e65a7a655.tmp</td><td>null</td><td>null</td><td>CreatePathFile</td><td>1</td></tr><tr><td>stsezsandbox07</td><td>/stsezsandbox07/unity/83ad2d11-1431-4eb5-8a3e-a26542faf5ac/tables/9ba815a2-5ecc-41ee-9f15-7ca779070272/_delta_log/00000000000000000010.crc</td><td>null</td><td>null</td><td>RenamePathFile</td><td>1</td></tr><tr><td>stsezsandbox07</td><td>/stsezsandbox07/unity/83ad2d11-1431-4eb5-8a3e-a26542faf5ac/tables/cf19f4d9-4527-4c9e-8b9f-76624443b9fe/_delta_log/__tmp_path_dir/.00000000000000000001.crc.6fd6965f-a9f8-4bb3-9184-f8937f799f50.tmp</td><td>null</td><td>null</td><td>CreatePathFile</td><td>1</td></tr><tr><td>stsezsandbox07</td><td>/stsezsandbox07/unity/83ad2d11-1431-4eb5-8a3e-a26542faf5ac/tables/9ba815a2-5ecc-41ee-9f15-7ca779070272/_delta_log/__tmp_path_dir/.00000000000000000007.crc.c004396b-aadb-44f3-8ccf-bcf736eb91eb.tmp</td><td>null</td><td>null</td><td>CreatePathFile</td><td>1</td></tr><tr><td>stsezsandbox07</td><td>/stsezsandbox07/unity/83ad2d11-1431-4eb5-8a3e-a26542faf5ac/tables/fa77fedc-b2a1-4914-8455-d461701cb3ec/_delta_log/00000000000000000000.crc</td><td>null</td><td>null</td><td>RenamePathFile</td><td>1</td></tr><tr><td>stsezsandbox07</td><td>/stsezsandbox07/slog/checkpoints/azure_raw_storage_log/sources/0/__tmp_path_dir/.0.2cc95f53-f5ef-4c88-ad12-4eae7fe1ccd3.tmp</td><td>null</td><td>null</td><td>CreatePathFile</td><td>1</td></tr><tr><td>stsezsandbox07</td><td>/stsezsandbox07/unity/83ad2d11-1431-4eb5-8a3e-a26542faf5ac/tables/794d4d99-16ab-4bb9-a9e4-c58c5cde0829/_delta_log/00000000000000000016.json</td><td>null</td><td>null</td><td>RenamePathFile</td><td>1</td></tr><tr><td>stsezsandbox07</td><td>/stsezsandbox07/unity/83ad2d11-1431-4eb5-8a3e-a26542faf5ac/models/a3796001-dfb6-4faa-b295-8d3279c347ed/versions/0dc9097e-a1e6-4de0-8038-7a73f9025473/requirements.txt</td><td>null</td><td>null</td><td>GetBlob</td><td>1</td></tr><tr><td>stsezsandbox07</td><td>/stsezsandbox07/unity/83ad2d11-1431-4eb5-8a3e-a26542faf5ac/tables/9ba815a2-5ecc-41ee-9f15-7ca779070272/_delta_log/00000000000000000002.crc</td><td>null</td><td>null</td><td>RenamePathFile</td><td>1</td></tr><tr><td>stsezsandbox07</td><td>/stsezsandbox07/plant-safety</td><td>null</td><td>null</td><td>ListBlobs</td><td>1</td></tr><tr><td>stsezsandbox07</td><td>/stsezsandbox07/slog/checkpoints/azure_raw_storage_log/offsets/0</td><td>null</td><td>null</td><td>RenamePathFile</td><td>1</td></tr><tr><td>stsezsandbox07</td><td>/stsezsandbox07/unity/83ad2d11-1431-4eb5-8a3e-a26542faf5ac/tables/9ba815a2-5ecc-41ee-9f15-7ca779070272/__enzyme_stats</td><td>null</td><td>null</td><td>CreatePathDir</td><td>1</td></tr><tr><td>stsezsandbox07</td><td>/stsezsandbox07/unity/83ad2d11-1431-4eb5-8a3e-a26542faf5ac/tables/9ba815a2-5ecc-41ee-9f15-7ca779070272/_delta_log/__tmp_path_dir/.00000000000000000001.00000000000000000006.compacted.json.148322f5-12b7-4d4a-aa7c-4f4c929d4745.tmp</td><td>null</td><td>null</td><td>AppendFile</td><td>1</td></tr><tr><td>stsezsandbox07</td><td>/stsezsandbox07/unity/83ad2d11-1431-4eb5-8a3e-a26542faf5ac/tables/794d4d99-16ab-4bb9-a9e4-c58c5cde0829/_delta_log/__tmp_path_dir/.00000000000000000002.crc.e333a000-3b8d-4ec9-9879-9b9dec06e670.tmp</td><td>null</td><td>null</td><td>AppendFile</td><td>1</td></tr><tr><td>stsezsandbox07</td><td>/stsezsandbox07/unity/83ad2d11-1431-4eb5-8a3e-a26542faf5ac/tables/794d4d99-16ab-4bb9-a9e4-c58c5cde0829/_delta_log/__tmp_path_dir/.00000000000000000002.json.6ea1d897-ab10-4d37-bee4-aa8ae006ebf4.tmp</td><td>null</td><td>null</td><td>FlushFile</td><td>1</td></tr><tr><td>stsezsandbox07</td><td>/stsezsandbox07/unity/83ad2d11-1431-4eb5-8a3e-a26542faf5ac/tables/794d4d99-16ab-4bb9-a9e4-c58c5cde0829/_delta_log/00000000000000000016.crc</td><td>null</td><td>null</td><td>RenamePathFile</td><td>1</td></tr><tr><td>stsezsandbox07</td><td>/stsezsandbox07/unity/83ad2d11-1431-4eb5-8a3e-a26542faf5ac/tables/9ba815a2-5ecc-41ee-9f15-7ca779070272/_delta_log/00000000000000000000.json</td><td>null</td><td>null</td><td>GetPathStatus</td><td>1</td></tr><tr><td>stsezsandbox07</td><td>/stsezsandbox07/unity/83ad2d11-1431-4eb5-8a3e-a26542faf5ac/tables/9ba815a2-5ecc-41ee-9f15-7ca779070272/_delta_log/__tmp_path_dir/.00000000000000000001.crc.59fdf9e1-a2aa-45c1-bbe5-9c04febcd26e.tmp</td><td>null</td><td>null</td><td>FlushFile</td><td>1</td></tr><tr><td>stsezsandbox07</td><td>/stsezsandbox07/unity/83ad2d11-1431-4eb5-8a3e-a26542faf5ac/tables/9ba815a2-5ecc-41ee-9f15-7ca779070272/_delta_log/__tmp_path_dir/.00000000000000000001.json.510119c9-e2de-42e3-9182-0ccd3beb0e73.tmp</td><td>null</td><td>null</td><td>CreatePathFile</td><td>1</td></tr><tr><td>stsezsandbox07</td><td>/stsezsandbox07/unity/83ad2d11-1431-4eb5-8a3e-a26542faf5ac/tables/794d4d99-16ab-4bb9-a9e4-c58c5cde0829/_delta_log/__tmp_path_dir/.00000000000000000000.crc.42578906-2983-4f3d-94ce-caca4f93d636.tmp</td><td>null</td><td>null</td><td>CreatePathFile</td><td>1</td></tr><tr><td>stsezsandbox07</td><td>/stsezsandbox07/unity/83ad2d11-1431-4eb5-8a3e-a26542faf5ac/tables/794d4d99-16ab-4bb9-a9e4-c58c5cde0829/_delta_log/__tmp_path_dir/.00000000000000000020.crc.fc26e608-4fc0-4f2f-866c-650f897bad08.tmp</td><td>null</td><td>null</td><td>CreatePathFile</td><td>1</td></tr><tr><td>stsezsandbox07</td><td>/stsezsandbox07/unity/83ad2d11-1431-4eb5-8a3e-a26542faf5ac/tables/9ba815a2-5ecc-41ee-9f15-7ca779070272/_enzyme_log/1743776210944</td><td>null</td><td>null</td><td>AppendFile</td><td>1</td></tr><tr><td>stsezsandbox07</td><td>/stsezsandbox07/unity/83ad2d11-1431-4eb5-8a3e-a26542faf5ac/models/a3796001-dfb6-4faa-b295-8d3279c347ed/versions/0dc9097e-a1e6-4de0-8038-7a73f9025473/serving_input_example.json</td><td>null</td><td>null</td><td>GetBlob</td><td>1</td></tr><tr><td>stsezsandbox07</td><td>/stsezsandbox07/unity/83ad2d11-1431-4eb5-8a3e-a26542faf5ac/tables/794d4d99-16ab-4bb9-a9e4-c58c5cde0829/_delta_log/00000000000000000000.crc</td><td>null</td><td>null</td><td>RenamePathFile</td><td>1</td></tr><tr><td>stsezsandbox07</td><td>/stsezsandbox07/unity/83ad2d11-1431-4eb5-8a3e-a26542faf5ac/tables/794d4d99-16ab-4bb9-a9e4-c58c5cde0829/_delta_log/00000000000000000021.json</td><td>null</td><td>null</td><td>ReadFile</td><td>1</td></tr><tr><td>stsezsandbox07</td><td>/stsezsandbox07/unity/83ad2d11-1431-4eb5-8a3e-a26542faf5ac/tables/794d4d99-16ab-4bb9-a9e4-c58c5cde0829/_delta_log/__tmp_path_dir/.00000000000000000001.crc.59fcc589-4485-4131-97e2-020b23ec61cf.tmp</td><td>null</td><td>null</td><td>FlushFile</td><td>1</td></tr><tr><td>stsezsandbox07</td><td>/stsezsandbox07/slog/checkpoints/azure_raw_storage_log/commits/__tmp_path_dir/.1.7fd6ce07-c429-47ce-b961-0fd17c45aebb.tmp</td><td>null</td><td>null</td><td>AppendFile</td><td>1</td></tr><tr><td>stsezsandbox07</td><td>/stsezsandbox07/slog/checkpoints/vw_storage_log/commits/__tmp_path_dir/.9.0d4d48b4-5b55-451e-befe-4679deb2558d.tmp</td><td>null</td><td>null</td><td>AppendFile</td><td>1</td></tr><tr><td>stsezsandbox07</td><td>/stsezsandbox07/slog/checkpoints/azure_raw_storage_log/__tmp_path_dir/.metadata.360c1995-fc4e-43aa-9ee4-a798ea785c47.tmp</td><td>null</td><td>null</td><td>AppendFile</td><td>1</td></tr><tr><td>stsezsandbox07</td><td>/stsezsandbox07/unity/83ad2d11-1431-4eb5-8a3e-a26542faf5ac/tables/cf19f4d9-4527-4c9e-8b9f-76624443b9fe/_delta_log/__tmp_path_dir/.00000000000000000000.json.ec61cce0-7350-4334-bfab-a74c3323f8cc.tmp</td><td>null</td><td>null</td><td>CreatePathFile</td><td>1</td></tr><tr><td>stsezsandbox07</td><td>/stsezsandbox07/unity/83ad2d11-1431-4eb5-8a3e-a26542faf5ac/tables/9ba815a2-5ecc-41ee-9f15-7ca779070272/_enzyme_log/1743790621812</td><td>null</td><td>null</td><td>AppendFile</td><td>1</td></tr><tr><td>stsezsandbox07</td><td>/stsezsandbox07/unity/83ad2d11-1431-4eb5-8a3e-a26542faf5ac/tables/9ba815a2-5ecc-41ee-9f15-7ca779070272/_delta_log/__tmp_path_dir/.00000000000000000002.crc.cb544da1-3dc3-4cc4-bdfa-4b314763eef6.tmp</td><td>null</td><td>null</td><td>CreatePathFile</td><td>1</td></tr><tr><td>stsezsandbox07</td><td>/stsezsandbox07/unity/83ad2d11-1431-4eb5-8a3e-a26542faf5ac/tables/794d4d99-16ab-4bb9-a9e4-c58c5cde0829/part-00000-dd55e5b2-5a14-46b1-a7a9-6e65a9e62ced.c000.snappy.parquet</td><td>null</td><td>null</td><td>CreatePathFile</td><td>1</td></tr><tr><td>stsezsandbox07</td><td>/stsezsandbox07/unity/83ad2d11-1431-4eb5-8a3e-a26542faf5ac/tables/794d4d99-16ab-4bb9-a9e4-c58c5cde0829/part-00000-a245230e-197e-44a6-9ce1-8988a95fb9b9.c000.snappy.parquet</td><td>null</td><td>null</td><td>CreatePathFile</td><td>1</td></tr><tr><td>stsezsandbox07</td><td>/stsezsandbox07/unity/83ad2d11-1431-4eb5-8a3e-a26542faf5ac/tables/9ba815a2-5ecc-41ee-9f15-7ca779070272/_enzyme_log/1743761796970</td><td>null</td><td>null</td><td>CreatePathFile</td><td>1</td></tr><tr><td>stsezsandbox07</td><td>/stsezsandbox07/unity/83ad2d11-1431-4eb5-8a3e-a26542faf5ac/tables/fa77fedc-b2a1-4914-8455-d461701cb3ec/_delta_log/__tmp_path_dir/.00000000000000000001.json.bfe41438-cdef-4971-b9da-04725ccef6cb.tmp</td><td>null</td><td>null</td><td>AppendFile</td><td>1</td></tr><tr><td>stsezsandbox07</td><td>/stsezsandbox07/unity/83ad2d11-1431-4eb5-8a3e-a26542faf5ac/tables/467fcc5f-579a-4197-892b-163a22d88a6e/_delta_log/__tmp_path_dir/.00000000000000000001.crc.679dfbfe-de23-47f1-9290-116a9f1cd46a.tmp</td><td>null</td><td>null</td><td>AppendFile</td><td>1</td></tr><tr><td>stsezsandbox07</td><td>/stsezsandbox07/unity/83ad2d11-1431-4eb5-8a3e-a26542faf5ac/tables/fa77fedc-b2a1-4914-8455-d461701cb3ec/_delta_log/__tmp_path_dir/.00000000000000000001.crc.70ea51e1-e9bb-4027-a554-ced73d53d7b2.tmp</td><td>null</td><td>null</td><td>CreatePathFile</td><td>1</td></tr><tr><td>stsezsandbox07</td><td>/stsezsandbox07/unity/83ad2d11-1431-4eb5-8a3e-a26542faf5ac/tables/9ba815a2-5ecc-41ee-9f15-7ca779070272/_delta_log/__tmp_path_dir/.00000000000000000007.00000000000000000012.compacted.json.e1199165-4749-4d97-b5f3-d48579625bba.tmp</td><td>null</td><td>null</td><td>FlushFile</td><td>1</td></tr><tr><td>stsezsandbox07</td><td>/stsezsandbox07/slog/checkpoints/vw_storage_log/commits/__tmp_path_dir/.8.e0ef9f62-8c99-408c-b1fe-476831a0e88b.tmp</td><td>null</td><td>null</td><td>CreatePathFile</td><td>1</td></tr><tr><td>stsezsandbox07</td><td>/stsezsandbox07/unity/83ad2d11-1431-4eb5-8a3e-a26542faf5ac/tables/cf19f4d9-4527-4c9e-8b9f-76624443b9fe/part-00000-f5fbc1b7-34ab-4581-afde-4db7a5946d37.c000.snappy.parquet</td><td>null</td><td>null</td><td>ReadFile</td><td>1</td></tr><tr><td>stsezsandbox07</td><td>/stsezsandbox07/unity/83ad2d11-1431-4eb5-8a3e-a26542faf5ac/tables/794d4d99-16ab-4bb9-a9e4-c58c5cde0829/part-00000-8972e778-5a0a-48fc-858b-39b2c292d119.c000.snappy.parquet</td><td>null</td><td>null</td><td>CreatePathFile</td><td>1</td></tr><tr><td>stsezsandbox07</td><td>/stsezsandbox07/unity/83ad2d11-1431-4eb5-8a3e-a26542faf5ac/tables/9ba815a2-5ecc-41ee-9f15-7ca779070272</td><td>null</td><td>null</td><td>CreatePathDir</td><td>1</td></tr><tr><td>stsezsandbox07</td><td>/stsezsandbox07/unity/83ad2d11-1431-4eb5-8a3e-a26542faf5ac/tables/fa77fedc-b2a1-4914-8455-d461701cb3ec/_delta_log/__tmp_path_dir/.00000000000000000000.crc.964a5993-8cf8-486f-93d0-4de2979dda14.tmp</td><td>null</td><td>null</td><td>AppendFile</td><td>1</td></tr><tr><td>stsezsandbox07</td><td>/stsezsandbox07/unity/83ad2d11-1431-4eb5-8a3e-a26542faf5ac/tables/9ba815a2-5ecc-41ee-9f15-7ca779070272/_delta_log/__tmp_path_dir/.00000000000000000002.crc.cb544da1-3dc3-4cc4-bdfa-4b314763eef6.tmp</td><td>null</td><td>null</td><td>AppendFile</td><td>1</td></tr><tr><td>stsezsandbox07</td><td>/stsezsandbox07/unity/83ad2d11-1431-4eb5-8a3e-a26542faf5ac/tables/9ba815a2-5ecc-41ee-9f15-7ca779070272/_delta_log/__tmp_path_dir/.00000000000000000010.crc.a57dbcba-4bd6-4b43-bf10-01a0c12b1095.tmp</td><td>null</td><td>null</td><td>CreatePathFile</td><td>1</td></tr><tr><td>stsezsandbox07</td><td>/stsezsandbox07/unity/83ad2d11-1431-4eb5-8a3e-a26542faf5ac/tables/794d4d99-16ab-4bb9-a9e4-c58c5cde0829/_delta_log/__tmp_path_dir/.00000000000000000020.json.0d5e3660-8477-4765-adee-aa16fa3b53de.tmp</td><td>null</td><td>null</td><td>AppendFile</td><td>1</td></tr><tr><td>stsezsandbox07</td><td>/stsezsandbox07/unity/83ad2d11-1431-4eb5-8a3e-a26542faf5ac/tables/794d4d99-16ab-4bb9-a9e4-c58c5cde0829/part-00000-7ede3b88-95ed-4b8b-bacc-54f07c5ecdfe.c000.snappy.parquet</td><td>null</td><td>null</td><td>FlushFile</td><td>1</td></tr><tr><td>stsezsandbox07</td><td>/stsezsandbox07/unity/83ad2d11-1431-4eb5-8a3e-a26542faf5ac/tables/794d4d99-16ab-4bb9-a9e4-c58c5cde0829/part-00000-551e6949-dbb0-426d-9db7-7b6afe324764.c000.snappy.parquet</td><td>null</td><td>null</td><td>AppendFile</td><td>1</td></tr><tr><td>stsezsandbox07</td><td>/stsezsandbox07/unity/83ad2d11-1431-4eb5-8a3e-a26542faf5ac/tables/9ba815a2-5ecc-41ee-9f15-7ca779070272/_delta_log/00000000000000000002.json</td><td>null</td><td>null</td><td>GetPathStatus</td><td>1</td></tr><tr><td>stsezsandbox07</td><td>/stsezsandbox07/unity/83ad2d11-1431-4eb5-8a3e-a26542faf5ac/tables/9ba815a2-5ecc-41ee-9f15-7ca779070272/_delta_log/__tmp_path_dir/.00000000000000000011.crc.ecc37723-8c96-4588-9ba8-25077c795a08.tmp</td><td>null</td><td>null</td><td>CreatePathFile</td><td>1</td></tr><tr><td>stsezsandbox07</td><td>/stsezsandbox07/unity/83ad2d11-1431-4eb5-8a3e-a26542faf5ac/tables/794d4d99-16ab-4bb9-a9e4-c58c5cde0829/part-00000-8972e778-5a0a-48fc-858b-39b2c292d119.c000.snappy.parquet</td><td>null</td><td>null</td><td>FlushFile</td><td>1</td></tr><tr><td>stsezsandbox07</td><td>/stsezsandbox07/unity/83ad2d11-1431-4eb5-8a3e-a26542faf5ac/tables/794d4d99-16ab-4bb9-a9e4-c58c5cde0829/_delta_log/__tmp_path_dir/.00000000000000000010.json.3f07c14c-5fed-4231-a941-1bf66496cb72.tmp</td><td>null</td><td>null</td><td>FlushFile</td><td>1</td></tr><tr><td>stsezsandbox07</td><td>/stsezsandbox07/unity/83ad2d11-1431-4eb5-8a3e-a26542faf5ac/tables/794d4d99-16ab-4bb9-a9e4-c58c5cde0829/_delta_log/00000000000000000018.json</td><td>null</td><td>null</td><td>GetPathStatus</td><td>1</td></tr><tr><td>stsezsandbox07</td><td>/stsezsandbox07/unity/83ad2d11-1431-4eb5-8a3e-a26542faf5ac/tables/9ba815a2-5ecc-41ee-9f15-7ca779070272/_enzyme_log/1743724403401</td><td>null</td><td>null</td><td>ReadFile</td><td>1</td></tr><tr><td>stsezsandbox07</td><td>/stsezsandbox07/unity/83ad2d11-1431-4eb5-8a3e-a26542faf5ac/tables/794d4d99-16ab-4bb9-a9e4-c58c5cde0829/_delta_log/00000000000000000019.json</td><td>null</td><td>null</td><td>RenamePathFile</td><td>1</td></tr><tr><td>stsezsandbox07</td><td>/stsezsandbox07/unity/83ad2d11-1431-4eb5-8a3e-a26542faf5ac/tables/467fcc5f-579a-4197-892b-163a22d88a6e/_delta_log/__tmp_path_dir/.00000000000000000001.json.222e303b-5c3e-4b8f-bd60-d9661828a4ee.tmp</td><td>null</td><td>null</td><td>CreatePathFile</td><td>1</td></tr><tr><td>stsezsandbox07</td><td>/stsezsandbox07/unity/83ad2d11-1431-4eb5-8a3e-a26542faf5ac/tables/9ba815a2-5ecc-41ee-9f15-7ca779070272/_delta_log/__tmp_path_dir/.00000000000000000011.json.e31b7c1f-2750-48a0-8ebc-0af551f50a83.tmp</td><td>null</td><td>null</td><td>AppendFile</td><td>1</td></tr><tr><td>stsezsandbox07</td><td>/stsezsandbox07/unity/83ad2d11-1431-4eb5-8a3e-a26542faf5ac/tables/467fcc5f-579a-4197-892b-163a22d88a6e/_delta_log/00000000000000000000.json</td><td>null</td><td>null</td><td>RenamePathFile</td><td>1</td></tr><tr><td>stsezsandbox07</td><td>/stsezsandbox07/unity/83ad2d11-1431-4eb5-8a3e-a26542faf5ac/tables/794d4d99-16ab-4bb9-a9e4-c58c5cde0829/_delta_log/__tmp_path_dir/.00000000000000000019.crc.9cf12812-a088-4285-83d9-d59c18d30492.tmp</td><td>null</td><td>null</td><td>CreatePathFile</td><td>1</td></tr><tr><td>stsezsandbox07</td><td>/stsezsandbox07/unity/83ad2d11-1431-4eb5-8a3e-a26542faf5ac/tables/9ba815a2-5ecc-41ee-9f15-7ca779070272/_delta_log/00000000000000000007.00000000000000000012.compacted.json</td><td>null</td><td>null</td><td>GetPathStatus</td><td>1</td></tr><tr><td>stsezsandbox07</td><td>/stsezsandbox07/unity/83ad2d11-1431-4eb5-8a3e-a26542faf5ac/tables/9ba815a2-5ecc-41ee-9f15-7ca779070272/_delta_log/00000000000000000000.json</td><td>null</td><td>null</td><td>RenamePathFile</td><td>1</td></tr><tr><td>stsezsandbox07</td><td>/stsezsandbox07/unity/83ad2d11-1431-4eb5-8a3e-a26542faf5ac/tables/794d4d99-16ab-4bb9-a9e4-c58c5cde0829/_delta_log/__tmp_path_dir/.00000000000000000018.json.7ed0317e-ead3-4a0e-9bf5-afc35954ecbe.tmp</td><td>null</td><td>null</td><td>AppendFile</td><td>1</td></tr><tr><td>stsezsandbox07</td><td>/stsezsandbox07/unity/83ad2d11-1431-4eb5-8a3e-a26542faf5ac/tables/794d4d99-16ab-4bb9-a9e4-c58c5cde0829/_delta_log/00000000000000000019.json</td><td>null</td><td>null</td><td>GetPathStatus</td><td>1</td></tr><tr><td>stsezsandbox07</td><td>/stsezsandbox07/unity/83ad2d11-1431-4eb5-8a3e-a26542faf5ac/tables/9ba815a2-5ecc-41ee-9f15-7ca779070272/_delta_log/__tmp_path_dir/.00000000000000000001.json.510119c9-e2de-42e3-9182-0ccd3beb0e73.tmp</td><td>null</td><td>null</td><td>AppendFile</td><td>1</td></tr><tr><td>stsezsandbox07</td><td>/stsezsandbox07/unity/83ad2d11-1431-4eb5-8a3e-a26542faf5ac/tables/9ba815a2-5ecc-41ee-9f15-7ca779070272/_delta_log/__tmp_path_dir/.00000000000000000012.json.b47a53c6-b470-4fb2-8f88-055a7da524ba.tmp</td><td>null</td><td>null</td><td>FlushFile</td><td>1</td></tr><tr><td>stsezsandbox07</td><td>/stsezsandbox07/unity/83ad2d11-1431-4eb5-8a3e-a26542faf5ac/tables/9ba815a2-5ecc-41ee-9f15-7ca779070272/_delta_log/__tmp_path_dir/.00000000000000000000.json.a942a71f-d5b5-4750-aa8f-07e5480dc83a.tmp</td><td>null</td><td>null</td><td>FlushFile</td><td>1</td></tr><tr><td>stsezsandbox07</td><td>/stsezsandbox07/unity/83ad2d11-1431-4eb5-8a3e-a26542faf5ac/tables/794d4d99-16ab-4bb9-a9e4-c58c5cde0829/_delta_log/__tmp_path_dir/.00000000000000000010.crc.911580b8-3130-491e-833c-3284e42f5760.tmp</td><td>null</td><td>null</td><td>AppendFile</td><td>1</td></tr><tr><td>stsezsandbox07</td><td>/stsezsandbox07/unity/83ad2d11-1431-4eb5-8a3e-a26542faf5ac/tables/794d4d99-16ab-4bb9-a9e4-c58c5cde0829/_delta_log/__tmp_path_dir/.00000000000000000007.json.5e08e361-a2e4-4308-b7c2-c6de44714c63.tmp</td><td>null</td><td>null</td><td>CreatePathFile</td><td>1</td></tr><tr><td>stsezsandbox07</td><td>/stsezsandbox07/unity/83ad2d11-1431-4eb5-8a3e-a26542faf5ac/tables/794d4d99-16ab-4bb9-a9e4-c58c5cde0829/_delta_log/00000000000000000017.crc</td><td>null</td><td>null</td><td>RenamePathFile</td><td>1</td></tr><tr><td>stsezsandbox07</td><td>/stsezsandbox07/unity/83ad2d11-1431-4eb5-8a3e-a26542faf5ac/tables/9ba815a2-5ecc-41ee-9f15-7ca779070272/_delta_log/__tmp_path_dir/.00000000000000000000.crc.62c3d773-2fe3-428d-8cf0-51448e8d86eb.tmp</td><td>null</td><td>null</td><td>FlushFile</td><td>1</td></tr><tr><td>stsezsandbox07</td><td>/stsezsandbox07/slog/checkpoints/azure_raw_storage_log/commits/__tmp_path_dir/.2.f985b0a4-2d82-4365-ae2c-4b3c617d7a88.tmp</td><td>null</td><td>null</td><td>AppendFile</td><td>1</td></tr><tr><td>stsezsandbox07</td><td>/stsezsandbox07/unity/83ad2d11-1431-4eb5-8a3e-a26542faf5ac/tables/9ba815a2-5ecc-41ee-9f15-7ca779070272/_enzyme_log/1743790621812</td><td>null</td><td>null</td><td>GetPathStatus</td><td>1</td></tr><tr><td>stsezsandbox07</td><td>/stsezsandbox07/unity/83ad2d11-1431-4eb5-8a3e-a26542faf5ac/tables/9ba815a2-5ecc-41ee-9f15-7ca779070272/_delta_log/00000000000000000012.json</td><td>null</td><td>null</td><td>GetPathStatus</td><td>1</td></tr><tr><td>stsezsandbox07</td><td>/stsezsandbox07/unity/83ad2d11-1431-4eb5-8a3e-a26542faf5ac/tables/794d4d99-16ab-4bb9-a9e4-c58c5cde0829/_delta_log/00000000000000000013.00000000000000000018.compacted.json</td><td>null</td><td>null</td><td>GetPathStatus</td><td>1</td></tr><tr><td>stsezsandbox07</td><td>/stsezsandbox07/dev</td><td>null</td><td>null</td><td>ListBlobs</td><td>1</td></tr><tr><td>stsezsandbox07</td><td>/stsezsandbox07/slog/checkpoints/vw_storage_log/commits/9</td><td>null</td><td>null</td><td>RenamePathFile</td><td>1</td></tr><tr><td>stsezsandbox07</td><td>/stsezsandbox07/unity/83ad2d11-1431-4eb5-8a3e-a26542faf5ac/tables/9ba815a2-5ecc-41ee-9f15-7ca779070272/_delta_log/__tmp_path_dir/.00000000000000000010.json.5f981692-c6eb-4df0-915c-41146c046f54.tmp</td><td>null</td><td>null</td><td>AppendFile</td><td>1</td></tr><tr><td>stsezsandbox07</td><td>/stsezsandbox07/unity/83ad2d11-1431-4eb5-8a3e-a26542faf5ac/tables/794d4d99-16ab-4bb9-a9e4-c58c5cde0829/part-00000-864e10c8-dc46-441c-ada1-6d5d7c5ad4cc.c000.snappy.parquet</td><td>null</td><td>null</td><td>FlushFile</td><td>1</td></tr><tr><td>stsezsandbox07</td><td>/stsezsandbox07/unity/83ad2d11-1431-4eb5-8a3e-a26542faf5ac/tables/9ba815a2-5ecc-41ee-9f15-7ca779070272/part-00000-07d004eb-b355-4255-8d00-95254fd23c91.c000.snappy.parquet</td><td>null</td><td>null</td><td>CreatePathFile</td><td>1</td></tr><tr><td>stsezsandbox07</td><td>/stsezsandbox07/unity/83ad2d11-1431-4eb5-8a3e-a26542faf5ac/tables/9ba815a2-5ecc-41ee-9f15-7ca779070272/_delta_log/__tmp_path_dir/.00000000000000000006.json.43fc4624-9abd-4a72-88a5-bada331a8d93.tmp</td><td>null</td><td>null</td><td>FlushFile</td><td>1</td></tr><tr><td>stsezsandbox07</td><td>/stsezsandbox07/unity/83ad2d11-1431-4eb5-8a3e-a26542faf5ac/tables/9ba815a2-5ecc-41ee-9f15-7ca779070272/_enzyme_log/1743730575237</td><td>null</td><td>null</td><td>ReadFile</td><td>1</td></tr><tr><td>stsezsandbox07</td><td>/stsezsandbox07/slog/checkpoints/azure_raw_storage_log/commits/__tmp_path_dir/.1.7fd6ce07-c429-47ce-b961-0fd17c45aebb.tmp</td><td>null</td><td>null</td><td>FlushFile</td><td>1</td></tr><tr><td>stsezsandbox07</td><td>/stsezsandbox07/slog/checkpoints/azure_raw_storage_log/offsets/2</td><td>null</td><td>null</td><td>GetPathStatus</td><td>1</td></tr><tr><td>stsezsandbox07</td><td>/stsezsandbox07/slog/checkpoints/vw_storage_log/offsets/__tmp_path_dir/.8.d2499a5e-9005-4dce-8cc6-8c96180318ce.tmp</td><td>null</td><td>null</td><td>AppendFile</td><td>1</td></tr><tr><td>stsezsandbox07</td><td>/stsezsandbox07/unity/83ad2d11-1431-4eb5-8a3e-a26542faf5ac/tables/9ba815a2-5ecc-41ee-9f15-7ca779070272/_delta_log/00000000000000000010.json</td><td>null</td><td>null</td><td>RenamePathFile</td><td>1</td></tr><tr><td>stsezsandbox07</td><td>/stsezsandbox07/unity/83ad2d11-1431-4eb5-8a3e-a26542faf5ac/tables/794d4d99-16ab-4bb9-a9e4-c58c5cde0829/_delta_log/__tmp_path_dir/.00000000000000000008.json.248360dd-1936-4e50-9a8c-759e6ddbc160.tmp</td><td>null</td><td>null</td><td>FlushFile</td><td>1</td></tr><tr><td>stsezsandbox07</td><td>/stsezsandbox07/unity/83ad2d11-1431-4eb5-8a3e-a26542faf5ac/tables/794d4d99-16ab-4bb9-a9e4-c58c5cde0829/_delta_log/__tmp_path_dir/.00000000000000000007.json.5e08e361-a2e4-4308-b7c2-c6de44714c63.tmp</td><td>null</td><td>null</td><td>AppendFile</td><td>1</td></tr><tr><td>stsezsandbox07</td><td>/stsezsandbox07/unity/83ad2d11-1431-4eb5-8a3e-a26542faf5ac/tables/794d4d99-16ab-4bb9-a9e4-c58c5cde0829/part-00000-a245230e-197e-44a6-9ce1-8988a95fb9b9.c000.snappy.parquet</td><td>null</td><td>null</td><td>FlushFile</td><td>1</td></tr><tr><td>stsezsandbox07</td><td>/stsezsandbox07/unity/83ad2d11-1431-4eb5-8a3e-a26542faf5ac/tables/794d4d99-16ab-4bb9-a9e4-c58c5cde0829/part-00000-080975ed-cccf-4b51-a5a8-c54f144300af.c000.snappy.parquet</td><td>null</td><td>null</td><td>CreatePathFile</td><td>1</td></tr><tr><td>stsezsandbox07</td><td>/stsezsandbox07/slog/checkpoints/azure_raw_storage_log/commits/0</td><td>null</td><td>null</td><td>RenamePathFile</td><td>1</td></tr><tr><td>stsezsandbox07</td><td>/stsezsandbox07/unity/83ad2d11-1431-4eb5-8a3e-a26542faf5ac/tables/9ba815a2-5ecc-41ee-9f15-7ca779070272/_delta_log/__tmp_path_dir/.00000000000000000007.crc.c004396b-aadb-44f3-8ccf-bcf736eb91eb.tmp</td><td>null</td><td>null</td><td>FlushFile</td><td>1</td></tr><tr><td>stsezsandbox07</td><td>/stsezsandbox07/unity/83ad2d11-1431-4eb5-8a3e-a26542faf5ac/tables/794d4d99-16ab-4bb9-a9e4-c58c5cde0829/_delta_log/__tmp_path_dir/.00000000000000000008.json.248360dd-1936-4e50-9a8c-759e6ddbc160.tmp</td><td>null</td><td>null</td><td>AppendFile</td><td>1</td></tr><tr><td>stsezsandbox07</td><td>/stsezsandbox07/unity/83ad2d11-1431-4eb5-8a3e-a26542faf5ac/tables/9ba815a2-5ecc-41ee-9f15-7ca779070272/part-00000-07d004eb-b355-4255-8d00-95254fd23c91.c000.snappy.parquet</td><td>null</td><td>null</td><td>AppendFile</td><td>1</td></tr><tr><td>stsezsandbox07</td><td>/stsezsandbox07/unity/83ad2d11-1431-4eb5-8a3e-a26542faf5ac/tables/794d4d99-16ab-4bb9-a9e4-c58c5cde0829/_delta_log/__tmp_path_dir/.00000000000000000002.crc.e333a000-3b8d-4ec9-9879-9b9dec06e670.tmp</td><td>null</td><td>null</td><td>CreatePathFile</td><td>1</td></tr><tr><td>stsezsandbox07</td><td>/stsezsandbox07/unity/83ad2d11-1431-4eb5-8a3e-a26542faf5ac/tables/794d4d99-16ab-4bb9-a9e4-c58c5cde0829/_delta_log/__tmp_path_dir/.00000000000000000009.json.de0df304-c725-4f9d-9622-708aa6b88ce5.tmp</td><td>null</td><td>null</td><td>CreatePathFile</td><td>1</td></tr><tr><td>stsezsandbox07</td><td>/stsezsandbox07/slog/checkpoints/vw_storage_log/offsets/__tmp_path_dir/.10.4bae74c8-bc53-44ec-8aed-659d092a6a2f.tmp</td><td>null</td><td>null</td><td>FlushFile</td><td>1</td></tr><tr><td>stsezsandbox07</td><td>/stsezsandbox07/slog/checkpoints/vw_storage_log/commits/__tmp_path_dir/.10.2874b604-f2f7-417f-b567-db9a656c1729.tmp</td><td>null</td><td>null</td><td>FlushFile</td><td>1</td></tr><tr><td>stsezsandbox07</td><td>/stsezsandbox07/unity/83ad2d11-1431-4eb5-8a3e-a26542faf5ac/tables/794d4d99-16ab-4bb9-a9e4-c58c5cde0829/_delta_log/__tmp_path_dir/.00000000000000000018.json.7ed0317e-ead3-4a0e-9bf5-afc35954ecbe.tmp</td><td>null</td><td>null</td><td>CreatePathFile</td><td>1</td></tr><tr><td>stsezsandbox07</td><td>/stsezsandbox07/unity/83ad2d11-1431-4eb5-8a3e-a26542faf5ac/tables/9ba815a2-5ecc-41ee-9f15-7ca779070272/_delta_log/__tmp_path_dir/.00000000000000000006.json.43fc4624-9abd-4a72-88a5-bada331a8d93.tmp</td><td>null</td><td>null</td><td>AppendFile</td><td>1</td></tr><tr><td>stsezsandbox07</td><td>/stsezsandbox07/unity/83ad2d11-1431-4eb5-8a3e-a26542faf5ac/tables/794d4d99-16ab-4bb9-a9e4-c58c5cde0829/part-00000-a6d6dd3c-8683-465e-81c3-dcf409dd9838.c000.snappy.parquet</td><td>null</td><td>null</td><td>FlushFile</td><td>1</td></tr><tr><td>stsezsandbox07</td><td>/stsezsandbox07/unity/83ad2d11-1431-4eb5-8a3e-a26542faf5ac/tables/794d4d99-16ab-4bb9-a9e4-c58c5cde0829/_delta_log/__tmp_path_dir/.00000000000000000017.json.053c3bf3-47fb-43e9-9700-598ad9aa9a4e.tmp</td><td>null</td><td>null</td><td>FlushFile</td><td>1</td></tr><tr><td>stsezsandbox07</td><td>/stsezsandbox07/unity/83ad2d11-1431-4eb5-8a3e-a26542faf5ac/tables/9ba815a2-5ecc-41ee-9f15-7ca779070272/part-00000-07d004eb-b355-4255-8d00-95254fd23c91.c000.snappy.parquet</td><td>null</td><td>null</td><td>FlushFile</td><td>1</td></tr><tr><td>stsezsandbox07</td><td>/stsezsandbox07/unity/83ad2d11-1431-4eb5-8a3e-a26542faf5ac/tables/794d4d99-16ab-4bb9-a9e4-c58c5cde0829/part-00000-61fbb864-a1a0-4e8d-806e-e43ee014ea74.c000.snappy.parquet</td><td>null</td><td>null</td><td>CreatePathFile</td><td>1</td></tr><tr><td>stsezsandbox07</td><td>/stsezsandbox07/unity/83ad2d11-1431-4eb5-8a3e-a26542faf5ac/tables/794d4d99-16ab-4bb9-a9e4-c58c5cde0829/_delta_log/__tmp_path_dir/.00000000000000000002.json.6ea1d897-ab10-4d37-bee4-aa8ae006ebf4.tmp</td><td>null</td><td>null</td><td>AppendFile</td><td>1</td></tr><tr><td>stsezsandbox07</td><td>/stsezsandbox07/unity/83ad2d11-1431-4eb5-8a3e-a26542faf5ac/tables/794d4d99-16ab-4bb9-a9e4-c58c5cde0829/_delta_log/__tmp_path_dir/.00000000000000000009.crc.c40f55a0-dca7-48e0-a75f-ea99967898b9.tmp</td><td>null</td><td>null</td><td>CreatePathFile</td><td>1</td></tr><tr><td>stsezsandbox07</td><td>/stsezsandbox07/unity/83ad2d11-1431-4eb5-8a3e-a26542faf5ac/tables/fa77fedc-b2a1-4914-8455-d461701cb3ec/_delta_log/00000000000000000001.crc</td><td>null</td><td>null</td><td>RenamePathFile</td><td>1</td></tr><tr><td>stsezsandbox07</td><td>/stsezsandbox07/unity/83ad2d11-1431-4eb5-8a3e-a26542faf5ac/tables/467fcc5f-579a-4197-892b-163a22d88a6e/_delta_log/__tmp_path_dir/.00000000000000000000.json.0f492888-e651-4cee-9bdf-c824bea2867f.tmp</td><td>null</td><td>null</td><td>CreatePathFile</td><td>1</td></tr><tr><td>stsezsandbox07</td><td>/stsezsandbox07/slog/checkpoints/vw_storage_log/offsets/__tmp_path_dir/.10.4bae74c8-bc53-44ec-8aed-659d092a6a2f.tmp</td><td>null</td><td>null</td><td>CreatePathFile</td><td>1</td></tr><tr><td>stsezsandbox07</td><td>/stsezsandbox07/unity/83ad2d11-1431-4eb5-8a3e-a26542faf5ac/models/a3796001-dfb6-4faa-b295-8d3279c347ed/versions/0dc9097e-a1e6-4de0-8038-7a73f9025473/metadata/requirements.txt</td><td>null</td><td>null</td><td>GetBlob</td><td>1</td></tr><tr><td>stsezsandbox07</td><td>/stsezsandbox07/pos-dev/models/5c3f3517-ace8-43e8-ad67-68d43fe6d57d/versions/d95a5ea4-9814-454a-ba76-8c43f013ba9c/metadata/requirements.txt</td><td>null</td><td>null</td><td>GetBlob</td><td>1</td></tr><tr><td>stsezsandbox07</td><td>/stsezsandbox07/unity/83ad2d11-1431-4eb5-8a3e-a26542faf5ac/tables/794d4d99-16ab-4bb9-a9e4-c58c5cde0829/part-00000-e05e96ec-a9c8-4359-9a53-fe00709b4738.c000.snappy.parquet</td><td>null</td><td>null</td><td>AppendFile</td><td>1</td></tr><tr><td>stsezsandbox07</td><td>/stsezsandbox07/slog/checkpoints/azure_raw_storage_log/offsets</td><td>null</td><td>null</td><td>CreatePathDir</td><td>1</td></tr><tr><td>stsezsandbox07</td><td>/stsezsandbox07/slog/checkpoints/azure_raw_storage_log/sources/0/0</td><td>null</td><td>null</td><td>RenamePathFile</td><td>1</td></tr><tr><td>stsezsandbox07</td><td>/stsezsandbox07/unity/83ad2d11-1431-4eb5-8a3e-a26542faf5ac/tables/794d4d99-16ab-4bb9-a9e4-c58c5cde0829/part-00000-61fbb864-a1a0-4e8d-806e-e43ee014ea74.c000.snappy.parquet</td><td>null</td><td>null</td><td>AppendFile</td><td>1</td></tr><tr><td>stsezsandbox07</td><td>/stsezsandbox07/unity/83ad2d11-1431-4eb5-8a3e-a26542faf5ac/tables/794d4d99-16ab-4bb9-a9e4-c58c5cde0829/_delta_log/00000000000000000021.json</td><td>null</td><td>null</td><td>GetPathStatus</td><td>1</td></tr><tr><td>stsezsandbox07</td><td>/stsezsandbox07/unity/83ad2d11-1431-4eb5-8a3e-a26542faf5ac/tables/794d4d99-16ab-4bb9-a9e4-c58c5cde0829/_delta_log/00000000000000000002.json</td><td>null</td><td>null</td><td>ReadFile</td><td>1</td></tr><tr><td>stsezsandbox07</td><td>/stsezsandbox07/unity/83ad2d11-1431-4eb5-8a3e-a26542faf5ac/models/089028ed-d8a5-45f0-a212-9144293769fc/versions/2365fab2-29db-405c-9507-67a274d732ad/data/feature_store/raw_model/requirements.txt</td><td>null</td><td>null</td><td>GetBlob</td><td>1</td></tr><tr><td>stsezsandbox07</td><td>/stsezsandbox07/unity/83ad2d11-1431-4eb5-8a3e-a26542faf5ac/tables/9ba815a2-5ecc-41ee-9f15-7ca779070272/_delta_log/00000000000000000012.json</td><td>null</td><td>null</td><td>RenamePathFile</td><td>1</td></tr><tr><td>stsezsandbox07</td><td>/stsezsandbox07/slog/checkpoints/azure_raw_storage_log/metadata</td><td>null</td><td>null</td><td>RenamePathFile</td><td>1</td></tr><tr><td>stsezsandbox07</td><td>/stsezsandbox07/unity/83ad2d11-1431-4eb5-8a3e-a26542faf5ac/tables/fa77fedc-b2a1-4914-8455-d461701cb3ec/part-00000-3b80cd20-08f3-4584-9246-013a6b24a9ab.c000.snappy.parquet</td><td>null</td><td>null</td><td>FlushFile</td><td>1</td></tr><tr><td>stsezsandbox07</td><td>/stsezsandbox07/slog/checkpoints/vw_storage_log/offsets/__tmp_path_dir/.9.bf9797d3-a4da-4c6f-9acc-5356dd478f1d.tmp</td><td>null</td><td>null</td><td>CreatePathFile</td><td>1</td></tr><tr><td>stsezsandbox07</td><td>/stsezsandbox07/unity/83ad2d11-1431-4eb5-8a3e-a26542faf5ac/tables/cf19f4d9-4527-4c9e-8b9f-76624443b9fe/_delta_log/00000000000000000000.crc</td><td>null</td><td>null</td><td>RenamePathFile</td><td>1</td></tr><tr><td>stsezsandbox07</td><td>/stsezsandbox07/unity/83ad2d11-1431-4eb5-8a3e-a26542faf5ac/tables/467fcc5f-579a-4197-892b-163a22d88a6e/_delta_log/__tmp_path_dir/.00000000000000000002.json.cafd8fae-eff5-401d-937c-e44c9084a537.tmp</td><td>null</td><td>null</td><td>CreatePathFile</td><td>1</td></tr><tr><td>stsezsandbox07</td><td>/stsezsandbox07/unity/83ad2d11-1431-4eb5-8a3e-a26542faf5ac/tables/9ba815a2-5ecc-41ee-9f15-7ca779070272/_delta_log/__tmp_path_dir/.00000000000000000012.json.b47a53c6-b470-4fb2-8f88-055a7da524ba.tmp</td><td>null</td><td>null</td><td>CreatePathFile</td><td>1</td></tr><tr><td>stsezsandbox07</td><td>/stsezsandbox07/unity/83ad2d11-1431-4eb5-8a3e-a26542faf5ac/tables/9ba815a2-5ecc-41ee-9f15-7ca779070272/part-00000-6c2aa6d3-4249-40a9-bdbc-0693b2bc1ccc.c000.snappy.parquet</td><td>null</td><td>null</td><td>AppendFile</td><td>1</td></tr><tr><td>stsezsandbox07</td><td>/stsezsandbox07/unity/83ad2d11-1431-4eb5-8a3e-a26542faf5ac/tables/794d4d99-16ab-4bb9-a9e4-c58c5cde0829/_delta_log/__tmp_path_dir/.00000000000000000000.crc.42578906-2983-4f3d-94ce-caca4f93d636.tmp</td><td>null</td><td>null</td><td>AppendFile</td><td>1</td></tr><tr><td>stsezsandbox07</td><td>/stsezsandbox07/unity/83ad2d11-1431-4eb5-8a3e-a26542faf5ac/tables/9ba815a2-5ecc-41ee-9f15-7ca779070272/part-00000-cb469aa0-abe1-4269-ac38-f9fa6f1fda0d.c000.snappy.parquet</td><td>null</td><td>null</td><td>AppendFile</td><td>1</td></tr><tr><td>stsezsandbox07</td><td>/stsezsandbox07/slog/checkpoints/azure_raw_storage_log/offsets/__tmp_path_dir/.0.a41b358d-196c-424d-9835-ed6ffdab2801.tmp</td><td>null</td><td>null</td><td>AppendFile</td><td>1</td></tr><tr><td>stsezsandbox07</td><td>/stsezsandbox07/unity/83ad2d11-1431-4eb5-8a3e-a26542faf5ac/tables/9ba815a2-5ecc-41ee-9f15-7ca779070272/_delta_log/00000000000000000010.crc</td><td>null</td><td>null</td><td>ReadFile</td><td>1</td></tr><tr><td>stsezsandbox07</td><td>/stsezsandbox07/unity/83ad2d11-1431-4eb5-8a3e-a26542faf5ac/tables/9ba815a2-5ecc-41ee-9f15-7ca779070272/_delta_log/__tmp_path_dir/.00000000000000000006.crc.142ea08f-ed54-4fcc-993a-3d29d84f18b7.tmp</td><td>null</td><td>null</td><td>CreatePathFile</td><td>1</td></tr><tr><td>stsezsandbox07</td><td>/stsezsandbox07/unity/83ad2d11-1431-4eb5-8a3e-a26542faf5ac/tables/9ba815a2-5ecc-41ee-9f15-7ca779070272/_delta_log/00000000000000000011.json</td><td>null</td><td>null</td><td>GetPathStatus</td><td>1</td></tr><tr><td>stsezsandbox07</td><td>/stsezsandbox07/unity/83ad2d11-1431-4eb5-8a3e-a26542faf5ac/tables/cf19f4d9-4527-4c9e-8b9f-76624443b9fe/_delta_log/__tmp_path_dir/.00000000000000000001.json.8b848b47-753f-4196-a607-fcd03fe1eeba.tmp</td><td>null</td><td>null</td><td>AppendFile</td><td>1</td></tr><tr><td>stsezsandbox07</td><td>/stsezsandbox07/unity/83ad2d11-1431-4eb5-8a3e-a26542faf5ac/tables/794d4d99-16ab-4bb9-a9e4-c58c5cde0829/_delta_log/__tmp_path_dir/.00000000000000000000.crc.42578906-2983-4f3d-94ce-caca4f93d636.tmp</td><td>null</td><td>null</td><td>FlushFile</td><td>1</td></tr><tr><td>stsezsandbox07</td><td>/stsezsandbox07/unity/83ad2d11-1431-4eb5-8a3e-a26542faf5ac/tables/794d4d99-16ab-4bb9-a9e4-c58c5cde0829/part-00000-080975ed-cccf-4b51-a5a8-c54f144300af.c000.snappy.parquet</td><td>null</td><td>null</td><td>ReadFile</td><td>1</td></tr><tr><td>stsezsandbox07</td><td>/stsezsandbox07/unity/83ad2d11-1431-4eb5-8a3e-a26542faf5ac/tables/794d4d99-16ab-4bb9-a9e4-c58c5cde0829/_delta_log/__tmp_path_dir/.00000000000000000007.crc.6259df60-2bc6-4369-9d18-44ecda912c50.tmp</td><td>null</td><td>null</td><td>AppendFile</td><td>1</td></tr><tr><td>stsezsandbox07</td><td>/stsezsandbox07/unity/83ad2d11-1431-4eb5-8a3e-a26542faf5ac/tables/794d4d99-16ab-4bb9-a9e4-c58c5cde0829/_delta_log/__tmp_path_dir/.00000000000000000018.crc.a0e491ea-d8ca-4775-a658-73cdacc773d1.tmp</td><td>null</td><td>null</td><td>CreatePathFile</td><td>1</td></tr><tr><td>stsezsandbox07</td><td>/stsezsandbox07/unity/83ad2d11-1431-4eb5-8a3e-a26542faf5ac/tables/9ba815a2-5ecc-41ee-9f15-7ca779070272/_delta_log/00000000000000000012.crc</td><td>null</td><td>null</td><td>RenamePathFile</td><td>1</td></tr><tr><td>stsezsandbox07</td><td>/stsezsandbox07/slog/checkpoints/vw_storage_log/offsets/__tmp_path_dir/.8.d2499a5e-9005-4dce-8cc6-8c96180318ce.tmp</td><td>null</td><td>null</td><td>CreatePathFile</td><td>1</td></tr><tr><td>stsezsandbox07</td><td>/stsezsandbox07/unity/83ad2d11-1431-4eb5-8a3e-a26542faf5ac/tables/9ba815a2-5ecc-41ee-9f15-7ca779070272/_enzyme_log/1743724403401</td><td>null</td><td>null</td><td>GetPathStatus</td><td>1</td></tr><tr><td>stsezsandbox07</td><td>/stsezsandbox07/unity/83ad2d11-1431-4eb5-8a3e-a26542faf5ac/tables/9ba815a2-5ecc-41ee-9f15-7ca779070272/part-00000-ed48634d-68e8-4ce0-8830-171810aa155f.c000.snappy.parquet</td><td>null</td><td>null</td><td>AppendFile</td><td>1</td></tr><tr><td>stsezsandbox07</td><td>/stsezsandbox07/unity/83ad2d11-1431-4eb5-8a3e-a26542faf5ac/tables/794d4d99-16ab-4bb9-a9e4-c58c5cde0829/_delta_log/__tmp_path_dir/.00000000000000000021.json.d4b3cb19-3a02-4bdc-853a-cb3774f1b811.tmp</td><td>null</td><td>null</td><td>AppendFile</td><td>1</td></tr><tr><td>stsezsandbox07</td><td>/stsezsandbox07/unity/83ad2d11-1431-4eb5-8a3e-a26542faf5ac/tables/794d4d99-16ab-4bb9-a9e4-c58c5cde0829/_delta_log/__tmp_path_dir/.00000000000000000019.json.a7e18c39-01c3-42f3-bea2-38fed2ca3c56.tmp</td><td>null</td><td>null</td><td>AppendFile</td><td>1</td></tr><tr><td>stsezsandbox07</td><td>/stsezsandbox07/unity/83ad2d11-1431-4eb5-8a3e-a26542faf5ac/tables/cf19f4d9-4527-4c9e-8b9f-76624443b9fe/_delta_log/__tmp_path_dir/.00000000000000000000.json.ec61cce0-7350-4334-bfab-a74c3323f8cc.tmp</td><td>null</td><td>null</td><td>FlushFile</td><td>1</td></tr><tr><td>stsezsandbox07</td><td>/stsezsandbox07/unity/83ad2d11-1431-4eb5-8a3e-a26542faf5ac/tables/794d4d99-16ab-4bb9-a9e4-c58c5cde0829/_delta_log/00000000000000000002.json</td><td>null</td><td>null</td><td>GetPathStatus</td><td>1</td></tr><tr><td>stsezsandbox07</td><td>/stsezsandbox07/unity/83ad2d11-1431-4eb5-8a3e-a26542faf5ac/tables/9ba815a2-5ecc-41ee-9f15-7ca779070272/_delta_log/00000000000000000007.crc</td><td>null</td><td>null</td><td>RenamePathFile</td><td>1</td></tr><tr><td>stsezsandbox07</td><td>/stsezsandbox07/unity/83ad2d11-1431-4eb5-8a3e-a26542faf5ac/tables/794d4d99-16ab-4bb9-a9e4-c58c5cde0829/_delta_log/_commits</td><td>null</td><td>null</td><td>CreatePathDir</td><td>1</td></tr><tr><td>stsezsandbox07</td><td>/stsezsandbox07/unity/83ad2d11-1431-4eb5-8a3e-a26542faf5ac/tables/9ba815a2-5ecc-41ee-9f15-7ca779070272/_delta_log/__tmp_path_dir/.00000000000000000012.crc.cdf10512-f25b-4ce2-945e-e6ed3f738c25.tmp</td><td>null</td><td>null</td><td>FlushFile</td><td>1</td></tr><tr><td>stsezsandbox07</td><td>/stsezsandbox07/unity/83ad2d11-1431-4eb5-8a3e-a26542faf5ac/tables/cf19f4d9-4527-4c9e-8b9f-76624443b9fe/_delta_log/00000000000000000000.json</td><td>null</td><td>null</td><td>RenamePathFile</td><td>1</td></tr><tr><td>stsezsandbox07</td><td>/stsezsandbox07/unity/83ad2d11-1431-4eb5-8a3e-a26542faf5ac/tables/794d4d99-16ab-4bb9-a9e4-c58c5cde0829/part-00000-080975ed-cccf-4b51-a5a8-c54f144300af.c000.snappy.parquet</td><td>null</td><td>null</td><td>AppendFile</td><td>1</td></tr><tr><td>stsezsandbox07</td><td>/stsezsandbox07/unity/83ad2d11-1431-4eb5-8a3e-a26542faf5ac/tables/9ba815a2-5ecc-41ee-9f15-7ca779070272/_delta_log/_commits</td><td>null</td><td>null</td><td>CreatePathDir</td><td>1</td></tr><tr><td>stsezsandbox07</td><td>/stsezsandbox07/unity/83ad2d11-1431-4eb5-8a3e-a26542faf5ac/tables/9ba815a2-5ecc-41ee-9f15-7ca779070272/_delta_log/00000000000000000006.json</td><td>null</td><td>null</td><td>GetPathStatus</td><td>1</td></tr><tr><td>stsezsandbox07</td><td>/stsezsandbox07/unity/83ad2d11-1431-4eb5-8a3e-a26542faf5ac/tables/794d4d99-16ab-4bb9-a9e4-c58c5cde0829/_delta_log/__tmp_path_dir/.00000000000000000007.json.5e08e361-a2e4-4308-b7c2-c6de44714c63.tmp</td><td>null</td><td>null</td><td>FlushFile</td><td>1</td></tr><tr><td>stsezsandbox07</td><td>/stsezsandbox07/unity/83ad2d11-1431-4eb5-8a3e-a26542faf5ac/tables/cf19f4d9-4527-4c9e-8b9f-76624443b9fe/_delta_log/__tmp_path_dir/.00000000000000000000.json.ec61cce0-7350-4334-bfab-a74c3323f8cc.tmp</td><td>null</td><td>null</td><td>AppendFile</td><td>1</td></tr><tr><td>stsezsandbox07</td><td>/stsezsandbox07/unity/83ad2d11-1431-4eb5-8a3e-a26542faf5ac/tables/794d4d99-16ab-4bb9-a9e4-c58c5cde0829/_delta_log/__tmp_path_dir/.00000000000000000009.json.de0df304-c725-4f9d-9622-708aa6b88ce5.tmp</td><td>null</td><td>null</td><td>AppendFile</td><td>1</td></tr><tr><td>stsezsandbox07</td><td>/stsezsandbox07/unity/83ad2d11-1431-4eb5-8a3e-a26542faf5ac/tables/9ba815a2-5ecc-41ee-9f15-7ca779070272/_enzyme_log/1743790621812</td><td>null</td><td>null</td><td>ReadFile</td><td>1</td></tr><tr><td>stsezsandbox07</td><td>/stsezsandbox07/unity/83ad2d11-1431-4eb5-8a3e-a26542faf5ac/tables/9ba815a2-5ecc-41ee-9f15-7ca779070272/_delta_log/__tmp_path_dir/.00000000000000000007.json.3056a509-f357-49e0-a62a-7cbf609cbc6b.tmp</td><td>null</td><td>null</td><td>CreatePathFile</td><td>1</td></tr><tr><td>stsezsandbox07</td><td>/stsezsandbox07/unity/83ad2d11-1431-4eb5-8a3e-a26542faf5ac/tables/794d4d99-16ab-4bb9-a9e4-c58c5cde0829/part-00000-8972e778-5a0a-48fc-858b-39b2c292d119.c000.snappy.parquet</td><td>null</td><td>null</td><td>AppendFile</td><td>1</td></tr><tr><td>stsezsandbox07</td><td>/stsezsandbox07/unity/83ad2d11-1431-4eb5-8a3e-a26542faf5ac/tables/9ba815a2-5ecc-41ee-9f15-7ca779070272/part-00000-ed48634d-68e8-4ce0-8830-171810aa155f.c000.snappy.parquet</td><td>null</td><td>null</td><td>CreatePathFile</td><td>1</td></tr><tr><td>stsezsandbox07</td><td>/stsezsandbox07/unity/83ad2d11-1431-4eb5-8a3e-a26542faf5ac/tables/794d4d99-16ab-4bb9-a9e4-c58c5cde0829/part-00000-cee95b55-b5f5-427e-a2ea-c97b36f1aa1e.c000.snappy.parquet</td><td>null</td><td>null</td><td>AppendFile</td><td>1</td></tr><tr><td>stsezsandbox07</td><td>/stsezsandbox07/unity/83ad2d11-1431-4eb5-8a3e-a26542faf5ac/tables/794d4d99-16ab-4bb9-a9e4-c58c5cde0829/_delta_log/00000000000000000021.json</td><td>null</td><td>null</td><td>RenamePathFile</td><td>1</td></tr><tr><td>stsezsandbox07</td><td>/stsezsandbox07/unity/83ad2d11-1431-4eb5-8a3e-a26542faf5ac/tables/9ba815a2-5ecc-41ee-9f15-7ca779070272/_delta_log/__tmp_path_dir/.00000000000000000006.crc.142ea08f-ed54-4fcc-993a-3d29d84f18b7.tmp</td><td>null</td><td>null</td><td>FlushFile</td><td>1</td></tr><tr><td>stsezsandbox07</td><td>/stsezsandbox07/unity/83ad2d11-1431-4eb5-8a3e-a26542faf5ac/tables/9ba815a2-5ecc-41ee-9f15-7ca779070272/_delta_log/__tmp_path_dir/.00000000000000000007.json.3056a509-f357-49e0-a62a-7cbf609cbc6b.tmp</td><td>null</td><td>null</td><td>AppendFile</td><td>1</td></tr><tr><td>stsezsandbox07</td><td>/stsezsandbox07/unity/83ad2d11-1431-4eb5-8a3e-a26542faf5ac/tables/cf19f4d9-4527-4c9e-8b9f-76624443b9fe/_delta_log/00000000000000000001.crc</td><td>null</td><td>null</td><td>RenamePathFile</td><td>1</td></tr><tr><td>stsezsandbox07</td><td>/stsezsandbox07/bronze</td><td>null</td><td>null</td><td>ListBlobs</td><td>1</td></tr><tr><td>stsezsandbox07</td><td>/stsezsandbox07/unity/83ad2d11-1431-4eb5-8a3e-a26542faf5ac/tables/794d4d99-16ab-4bb9-a9e4-c58c5cde0829/_delta_log/00000000000000000018.crc</td><td>null</td><td>null</td><td>RenamePathFile</td><td>1</td></tr><tr><td>stsezsandbox07</td><td>/stsezsandbox07/unity/83ad2d11-1431-4eb5-8a3e-a26542faf5ac/tables/9ba815a2-5ecc-41ee-9f15-7ca779070272/_delta_log/00000000000000000001.00000000000000000006.compacted.json</td><td>null</td><td>null</td><td>GetPathStatus</td><td>1</td></tr><tr><td>stsezsandbox07</td><td>/stsezsandbox07/unity/83ad2d11-1431-4eb5-8a3e-a26542faf5ac/tables/794d4d99-16ab-4bb9-a9e4-c58c5cde0829/_delta_log/__tmp_path_dir/.00000000000000000020.crc.fc26e608-4fc0-4f2f-866c-650f897bad08.tmp</td><td>null</td><td>null</td><td>AppendFile</td><td>1</td></tr><tr><td>stsezsandbox07</td><td>/stsezsandbox07/slog/checkpoints/azure_raw_storage_log/commits</td><td>null</td><td>null</td><td>CreatePathDir</td><td>1</td></tr><tr><td>stsezsandbox07</td><td>/stsezsandbox07/unity/83ad2d11-1431-4eb5-8a3e-a26542faf5ac/tables/9ba815a2-5ecc-41ee-9f15-7ca779070272/part-00000-8117a56a-51d8-4405-b532-62928a1308c8.c000.snappy.parquet</td><td>null</td><td>null</td><td>CreatePathFile</td><td>1</td></tr><tr><td>stsezsandbox07</td><td>/stsezsandbox07/unity/83ad2d11-1431-4eb5-8a3e-a26542faf5ac/tables/794d4d99-16ab-4bb9-a9e4-c58c5cde0829/_delta_log/__tmp_path_dir/.00000000000000000018.crc.a0e491ea-d8ca-4775-a658-73cdacc773d1.tmp</td><td>null</td><td>null</td><td>AppendFile</td><td>1</td></tr><tr><td>stsezsandbox07</td><td>/stsezsandbox07/slog/checkpoints/azure_raw_storage_log/commits/__tmp_path_dir/.1.7fd6ce07-c429-47ce-b961-0fd17c45aebb.tmp</td><td>null</td><td>null</td><td>CreatePathFile</td><td>1</td></tr><tr><td>stsezsandbox07</td><td>/stsezsandbox07/unity/83ad2d11-1431-4eb5-8a3e-a26542faf5ac/tables/467fcc5f-579a-4197-892b-163a22d88a6e/_delta_log/__tmp_path_dir/.00000000000000000000.json.0f492888-e651-4cee-9bdf-c824bea2867f.tmp</td><td>null</td><td>null</td><td>FlushFile</td><td>1</td></tr><tr><td>stsezsandbox07</td><td>/stsezsandbox07/unity/83ad2d11-1431-4eb5-8a3e-a26542faf5ac/tables/9ba815a2-5ecc-41ee-9f15-7ca779070272/_delta_log/__tmp_path_dir/.00000000000000000001.crc.59fdf9e1-a2aa-45c1-bbe5-9c04febcd26e.tmp</td><td>null</td><td>null</td><td>CreatePathFile</td><td>1</td></tr><tr><td>stsezsandbox07</td><td>/stsezsandbox07/unity/83ad2d11-1431-4eb5-8a3e-a26542faf5ac/tables/794d4d99-16ab-4bb9-a9e4-c58c5cde0829/part-00000-8972e778-5a0a-48fc-858b-39b2c292d119.c000.snappy.parquet</td><td>null</td><td>null</td><td>ReadFile</td><td>1</td></tr><tr><td>stsezsandbox07</td><td>/stsezsandbox07/unity/83ad2d11-1431-4eb5-8a3e-a26542faf5ac/tables/9ba815a2-5ecc-41ee-9f15-7ca779070272/_delta_log/00000000000000000007.json</td><td>null</td><td>null</td><td>RenamePathFile</td><td>1</td></tr><tr><td>stsezsandbox07</td><td>/stsezsandbox07/unity/83ad2d11-1431-4eb5-8a3e-a26542faf5ac/tables/9ba815a2-5ecc-41ee-9f15-7ca779070272/_enzyme_log/1743747385600</td><td>null</td><td>null</td><td>CreatePathFile</td><td>1</td></tr><tr><td>stsezsandbox07</td><td>/stsezsandbox07/unity/83ad2d11-1431-4eb5-8a3e-a26542faf5ac/tables/9ba815a2-5ecc-41ee-9f15-7ca779070272/_enzyme_log/1743724403401</td><td>null</td><td>null</td><td>CreatePathFile</td><td>1</td></tr><tr><td>stsezsandbox07</td><td>/stsezsandbox07/unity/83ad2d11-1431-4eb5-8a3e-a26542faf5ac/tables/794d4d99-16ab-4bb9-a9e4-c58c5cde0829/part-00000-864e10c8-dc46-441c-ada1-6d5d7c5ad4cc.c000.snappy.parquet</td><td>null</td><td>null</td><td>AppendFile</td><td>1</td></tr><tr><td>stsezsandbox07</td><td>/stsezsandbox07/unity/83ad2d11-1431-4eb5-8a3e-a26542faf5ac/tables/fa77fedc-b2a1-4914-8455-d461701cb3ec/_delta_log/00000000000000000001.json</td><td>null</td><td>null</td><td>RenamePathFile</td><td>1</td></tr><tr><td>stsezsandbox07</td><td>/stsezsandbox07/unity/83ad2d11-1431-4eb5-8a3e-a26542faf5ac/tables/794d4d99-16ab-4bb9-a9e4-c58c5cde0829/part-00000-9937f921-2aae-4bbb-b078-146722d2fa92.c000.snappy.parquet</td><td>null</td><td>null</td><td>FlushFile</td><td>1</td></tr><tr><td>stsezsandbox07</td><td>/stsezsandbox07/unity/83ad2d11-1431-4eb5-8a3e-a26542faf5ac/tables/794d4d99-16ab-4bb9-a9e4-c58c5cde0829/_delta_log/__tmp_path_dir/.00000000000000000001.crc.59fcc589-4485-4131-97e2-020b23ec61cf.tmp</td><td>null</td><td>null</td><td>CreatePathFile</td><td>1</td></tr><tr><td>stsezsandbox07</td><td>/stsezsandbox07/unity/83ad2d11-1431-4eb5-8a3e-a26542faf5ac/tables/794d4d99-16ab-4bb9-a9e4-c58c5cde0829/_delta_log/00000000000000000002.json</td><td>null</td><td>null</td><td>RenamePathFile</td><td>1</td></tr><tr><td>stsezsandbox07</td><td>/stsezsandbox07/slog/checkpoints/vw_storage_log/commits/__tmp_path_dir/.9.0d4d48b4-5b55-451e-befe-4679deb2558d.tmp</td><td>null</td><td>null</td><td>CreatePathFile</td><td>1</td></tr><tr><td>stsezsandbox07</td><td>/stsezsandbox07/unity/83ad2d11-1431-4eb5-8a3e-a26542faf5ac/tables/9d30d2f8-34cf-4c9a-9ff9-f57a6c2e5fdd/_delta_log/00000000000000000001.json</td><td>null</td><td>null</td><td>GetPathStatus</td><td>1</td></tr><tr><td>stsezsandbox07</td><td>/stsezsandbox07/slog/checkpoints/vw_storage_log/offsets/10</td><td>null</td><td>null</td><td>RenamePathFile</td><td>1</td></tr><tr><td>stsezsandbox07</td><td>/stsezsandbox07/unity/83ad2d11-1431-4eb5-8a3e-a26542faf5ac/tables/794d4d99-16ab-4bb9-a9e4-c58c5cde0829/part-00000-cee95b55-b5f5-427e-a2ea-c97b36f1aa1e.c000.snappy.parquet</td><td>null</td><td>null</td><td>FlushFile</td><td>1</td></tr><tr><td>stsezsandbox07</td><td>/stsezsandbox07/unity/83ad2d11-1431-4eb5-8a3e-a26542faf5ac/tables/cf19f4d9-4527-4c9e-8b9f-76624443b9fe/_delta_log/__tmp_path_dir/.00000000000000000001.crc.6fd6965f-a9f8-4bb3-9184-f8937f799f50.tmp</td><td>null</td><td>null</td><td>FlushFile</td><td>1</td></tr><tr><td>stsezsandbox07</td><td>/stsezsandbox07/slog/checkpoints/vw_storage_log/commits/__tmp_path_dir/.10.2874b604-f2f7-417f-b567-db9a656c1729.tmp</td><td>null</td><td>null</td><td>AppendFile</td><td>1</td></tr><tr><td>stsezsandbox07</td><td>/stsezsandbox07/slog/checkpoints/vw_storage_log/offsets/8</td><td>null</td><td>null</td><td>RenamePathFile</td><td>1</td></tr><tr><td>stsezsandbox07</td><td>/stsezsandbox07/unity/83ad2d11-1431-4eb5-8a3e-a26542faf5ac/tables/467fcc5f-579a-4197-892b-163a22d88a6e/part-00000-ac0025f8-9cba-414b-9c93-ecdda5d291ed.c000.snappy.parquet</td><td>null</td><td>null</td><td>AppendFile</td><td>1</td></tr><tr><td>stsezsandbox07</td><td>/stsezsandbox07/unity/83ad2d11-1431-4eb5-8a3e-a26542faf5ac/tables/794d4d99-16ab-4bb9-a9e4-c58c5cde0829/part-00000-7ede3b88-95ed-4b8b-bacc-54f07c5ecdfe.c000.snappy.parquet</td><td>null</td><td>null</td><td>AppendFile</td><td>1</td></tr><tr><td>stsezsandbox07</td><td>/stsezsandbox07/unity/83ad2d11-1431-4eb5-8a3e-a26542faf5ac/tables/9ba815a2-5ecc-41ee-9f15-7ca779070272/_enzyme_log/1743776210944</td><td>null</td><td>null</td><td>FlushFile</td><td>1</td></tr><tr><td>stsezsandbox07</td><td>/stsezsandbox07/unity/83ad2d11-1431-4eb5-8a3e-a26542faf5ac/tables/794d4d99-16ab-4bb9-a9e4-c58c5cde0829/_delta_log/00000000000000000001.json</td><td>null</td><td>null</td><td>RenamePathFile</td><td>1</td></tr><tr><td>stsezsandbox07</td><td>/stsezsandbox07/unity/83ad2d11-1431-4eb5-8a3e-a26542faf5ac/tables/794d4d99-16ab-4bb9-a9e4-c58c5cde0829/_delta_log/__tmp_path_dir/.00000000000000000000.json.11a16977-d86f-4ae9-ae48-47981a3e9a40.tmp</td><td>null</td><td>null</td><td>AppendFile</td><td>1</td></tr><tr><td>stsezsandbox07</td><td>/stsezsandbox07/unity/83ad2d11-1431-4eb5-8a3e-a26542faf5ac/tables/9ba815a2-5ecc-41ee-9f15-7ca779070272/_enzyme_log/1743747385600</td><td>null</td><td>null</td><td>FlushFile</td><td>1</td></tr><tr><td>stsezsandbox07</td><td>/stsezsandbox07/unity/83ad2d11-1431-4eb5-8a3e-a26542faf5ac/tables/fa77fedc-b2a1-4914-8455-d461701cb3ec/_delta_log/__tmp_path_dir/.00000000000000000000.json.fbbe4d3e-7f4e-4ad6-bfb5-22238295cf68.tmp</td><td>null</td><td>null</td><td>CreatePathFile</td><td>1</td></tr><tr><td>stsezsandbox07</td><td>/stsezsandbox07/unity/83ad2d11-1431-4eb5-8a3e-a26542faf5ac/tables/794d4d99-16ab-4bb9-a9e4-c58c5cde0829/_delta_log/00000000000000000007.crc</td><td>null</td><td>null</td><td>RenamePathFile</td><td>1</td></tr><tr><td>stsezsandbox07</td><td>/stsezsandbox07/unity/83ad2d11-1431-4eb5-8a3e-a26542faf5ac/tables/9ba815a2-5ecc-41ee-9f15-7ca779070272/_enzyme_log/1743732981906</td><td>null</td><td>null</td><td>FlushFile</td><td>1</td></tr><tr><td>stsezsandbox07</td><td>/stsezsandbox07/unity/83ad2d11-1431-4eb5-8a3e-a26542faf5ac/tables/794d4d99-16ab-4bb9-a9e4-c58c5cde0829/_delta_log/00000000000000000009.json</td><td>null</td><td>null</td><td>RenamePathFile</td><td>1</td></tr><tr><td>stsezsandbox07</td><td>/stsezsandbox07/unity/83ad2d11-1431-4eb5-8a3e-a26542faf5ac/tables/794d4d99-16ab-4bb9-a9e4-c58c5cde0829/_delta_log/00000000000000000013.00000000000000000018.compacted.json</td><td>null</td><td>null</td><td>RenamePathFile</td><td>1</td></tr><tr><td>stsezsandbox07</td><td>/stsezsandbox07/unity/83ad2d11-1431-4eb5-8a3e-a26542faf5ac/tables/cf19f4d9-4527-4c9e-8b9f-76624443b9fe/_delta_log/__tmp_path_dir/.00000000000000000001.crc.6fd6965f-a9f8-4bb3-9184-f8937f799f50.tmp</td><td>null</td><td>null</td><td>AppendFile</td><td>1</td></tr><tr><td>stsezsandbox07</td><td>/stsezsandbox07/unity/83ad2d11-1431-4eb5-8a3e-a26542faf5ac/tables/9ba815a2-5ecc-41ee-9f15-7ca779070272/_delta_log/__tmp_path_dir/.00000000000000000010.crc.a57dbcba-4bd6-4b43-bf10-01a0c12b1095.tmp</td><td>null</td><td>null</td><td>AppendFile</td><td>1</td></tr><tr><td>stsezsandbox07</td><td>/stsezsandbox07/unity/83ad2d11-1431-4eb5-8a3e-a26542faf5ac/tables/794d4d99-16ab-4bb9-a9e4-c58c5cde0829/part-00000-cee95b55-b5f5-427e-a2ea-c97b36f1aa1e.c000.snappy.parquet</td><td>null</td><td>null</td><td>CreatePathFile</td><td>1</td></tr><tr><td>stsezsandbox07</td><td>/stsezsandbox07/slog/checkpoints/vw_storage_log/offsets/6</td><td>null</td><td>null</td><td>ReadFile</td><td>1</td></tr><tr><td>stsezsandbox07</td><td>/stsezsandbox07/unity/83ad2d11-1431-4eb5-8a3e-a26542faf5ac/tables/9ba815a2-5ecc-41ee-9f15-7ca779070272/part-00000-50dac75d-08ae-408a-9d98-fa0e7f96c467.c000.snappy.parquet</td><td>null</td><td>null</td><td>CreatePathFile</td><td>1</td></tr><tr><td>stsezsandbox07</td><td>/stsezsandbox07/unity/83ad2d11-1431-4eb5-8a3e-a26542faf5ac/tables/9ba815a2-5ecc-41ee-9f15-7ca779070272/_delta_log/00000000000000000005.crc</td><td>null</td><td>null</td><td>ReadFile</td><td>1</td></tr><tr><td>stsezsandbox07</td><td>/stsezsandbox07/unity/83ad2d11-1431-4eb5-8a3e-a26542faf5ac/tables/cf19f4d9-4527-4c9e-8b9f-76624443b9fe/_delta_log/__tmp_path_dir/.00000000000000000000.crc.2cd0cbdd-643f-4993-bfb2-41abde7f386c.tmp</td><td>null</td><td>null</td><td>AppendFile</td><td>1</td></tr><tr><td>stsezsandbox07</td><td>/stsezsandbox07/unity/83ad2d11-1431-4eb5-8a3e-a26542faf5ac/tables/fa77fedc-b2a1-4914-8455-d461701cb3ec/_delta_log/_commits</td><td>null</td><td>null</td><td>CreatePathDir</td><td>1</td></tr><tr><td>stsezsandbox07</td><td>/stsezsandbox07/unity/83ad2d11-1431-4eb5-8a3e-a26542faf5ac/tables/9ba815a2-5ecc-41ee-9f15-7ca779070272/_delta_log/00000000000000000007.00000000000000000012.compacted.json</td><td>null</td><td>null</td><td>RenamePathFile</td><td>1</td></tr><tr><td>stsezsandbox07</td><td>/stsezsandbox07/unity/83ad2d11-1431-4eb5-8a3e-a26542faf5ac/tables/794d4d99-16ab-4bb9-a9e4-c58c5cde0829/part-00000-9937f921-2aae-4bbb-b078-146722d2fa92.c000.snappy.parquet</td><td>null</td><td>null</td><td>AppendFile</td><td>1</td></tr><tr><td>stsezsandbox07</td><td>/stsezsandbox07/unity/83ad2d11-1431-4eb5-8a3e-a26542faf5ac/tables/467fcc5f-579a-4197-892b-163a22d88a6e/_delta_log/00000000000000000002.crc</td><td>null</td><td>null</td><td>ReadFile</td><td>1</td></tr><tr><td>stsezsandbox07</td><td>/stsezsandbox07/unity/83ad2d11-1431-4eb5-8a3e-a26542faf5ac/tables/9ba815a2-5ecc-41ee-9f15-7ca779070272/part-00000-ed48634d-68e8-4ce0-8830-171810aa155f.c000.snappy.parquet</td><td>null</td><td>null</td><td>FlushFile</td><td>1</td></tr><tr><td>stsezsandbox07</td><td>/stsezsandbox07/unity/83ad2d11-1431-4eb5-8a3e-a26542faf5ac/tables/794d4d99-16ab-4bb9-a9e4-c58c5cde0829/_delta_log/__tmp_path_dir/.00000000000000000009.json.de0df304-c725-4f9d-9622-708aa6b88ce5.tmp</td><td>null</td><td>null</td><td>FlushFile</td><td>1</td></tr><tr><td>stsezsandbox07</td><td>/stsezsandbox07/slog/checkpoints/azure_raw_storage_log/offsets/__tmp_path_dir/.2.2d0d40cb-2754-472a-bf1b-4a08913fa3a0.tmp</td><td>null</td><td>null</td><td>AppendFile</td><td>1</td></tr><tr><td>stsezsandbox07</td><td>/stsezsandbox07/unity/83ad2d11-1431-4eb5-8a3e-a26542faf5ac/tables/794d4d99-16ab-4bb9-a9e4-c58c5cde0829/_delta_log/__tmp_path_dir/.00000000000000000019.crc.9cf12812-a088-4285-83d9-d59c18d30492.tmp</td><td>null</td><td>null</td><td>AppendFile</td><td>1</td></tr><tr><td>stsezsandbox07</td><td>/stsezsandbox07/slog/checkpoints/azure_raw_storage_log/offsets/__tmp_path_dir/.1.1db4289c-c0aa-4382-92af-70e59e6f9666.tmp</td><td>null</td><td>null</td><td>CreatePathFile</td><td>1</td></tr><tr><td>stsezsandbox07</td><td>/stsezsandbox07/unity/83ad2d11-1431-4eb5-8a3e-a26542faf5ac/tables/9ba815a2-5ecc-41ee-9f15-7ca779070272/_delta_log/__tmp_path_dir/.00000000000000000001.crc.59fdf9e1-a2aa-45c1-bbe5-9c04febcd26e.tmp</td><td>null</td><td>null</td><td>AppendFile</td><td>1</td></tr><tr><td>stsezsandbox07</td><td>/stsezsandbox07/slog/checkpoints/azure_raw_storage_log/offsets/2</td><td>null</td><td>null</td><td>RenamePathFile</td><td>1</td></tr><tr><td>stsezsandbox07</td><td>/stsezsandbox07/unity/83ad2d11-1431-4eb5-8a3e-a26542faf5ac/tables/794d4d99-16ab-4bb9-a9e4-c58c5cde0829/_delta_log/00000000000000000020.json</td><td>null</td><td>null</td><td>GetPathStatus</td><td>1</td></tr><tr><td>stsezsandbox07</td><td>/stsezsandbox07/unity/83ad2d11-1431-4eb5-8a3e-a26542faf5ac/tables/9ba815a2-5ecc-41ee-9f15-7ca779070272/_delta_log/__tmp_path_dir/.00000000000000000000.crc.62c3d773-2fe3-428d-8cf0-51448e8d86eb.tmp</td><td>null</td><td>null</td><td>AppendFile</td><td>1</td></tr><tr><td>stsezsandbox07</td><td>/stsezsandbox07/unity/83ad2d11-1431-4eb5-8a3e-a26542faf5ac/tables/794d4d99-16ab-4bb9-a9e4-c58c5cde0829/_delta_log/__tmp_path_dir/.00000000000000000021.crc.fc71c375-4df0-471a-81c7-564e65a7a655.tmp</td><td>null</td><td>null</td><td>FlushFile</td><td>1</td></tr><tr><td>stsezsandbox07</td><td>/stsezsandbox07/unity/83ad2d11-1431-4eb5-8a3e-a26542faf5ac/tables/794d4d99-16ab-4bb9-a9e4-c58c5cde0829/_delta_log/00000000000000000019.crc</td><td>null</td><td>null</td><td>ReadFile</td><td>1</td></tr><tr><td>stsezsandbox07</td><td>/stsezsandbox07/unity/83ad2d11-1431-4eb5-8a3e-a26542faf5ac/tables/fa77fedc-b2a1-4914-8455-d461701cb3ec</td><td>null</td><td>null</td><td>CreatePathDir</td><td>1</td></tr><tr><td>stsezsandbox07</td><td>/stsezsandbox07/unity/83ad2d11-1431-4eb5-8a3e-a26542faf5ac/tables/9ba815a2-5ecc-41ee-9f15-7ca779070272/_delta_log/00000000000000000010.json</td><td>null</td><td>null</td><td>GetPathStatus</td><td>1</td></tr><tr><td>stsezsandbox07</td><td>/stsezsandbox07/unity/83ad2d11-1431-4eb5-8a3e-a26542faf5ac/tables/794d4d99-16ab-4bb9-a9e4-c58c5cde0829/_delta_log/00000000000000000018.json</td><td>null</td><td>null</td><td>RenamePathFile</td><td>1</td></tr><tr><td>stsezsandbox07</td><td>/stsezsandbox07/unity/83ad2d11-1431-4eb5-8a3e-a26542faf5ac/tables/9ba815a2-5ecc-41ee-9f15-7ca779070272/_enzyme_log/1743761796970</td><td>null</td><td>null</td><td>AppendFile</td><td>1</td></tr><tr><td>stsezsandbox07</td><td>/stsezsandbox07/slog/checkpoints/azure_raw_storage_log/offsets/__tmp_path_dir/.2.2d0d40cb-2754-472a-bf1b-4a08913fa3a0.tmp</td><td>null</td><td>null</td><td>CreatePathFile</td><td>1</td></tr><tr><td>stsezsandbox07</td><td>/stsezsandbox07/demos</td><td>null</td><td>null</td><td>ListBlobs</td><td>1</td></tr><tr><td>stsezsandbox07</td><td>/stsezsandbox07/unity/83ad2d11-1431-4eb5-8a3e-a26542faf5ac/tables/9ba815a2-5ecc-41ee-9f15-7ca779070272/_delta_log/00000000000000000011.crc</td><td>null</td><td>null</td><td>ReadFile</td><td>1</td></tr><tr><td>stsezsandbox07</td><td>/stsezsandbox07/unity/83ad2d11-1431-4eb5-8a3e-a26542faf5ac/tables/9ba815a2-5ecc-41ee-9f15-7ca779070272/_delta_log/__tmp_path_dir/.00000000000000000001.00000000000000000006.compacted.json.148322f5-12b7-4d4a-aa7c-4f4c929d4745.tmp</td><td>null</td><td>null</td><td>FlushFile</td><td>1</td></tr><tr><td>stsezsandbox07</td><td>/stsezsandbox07/unity/83ad2d11-1431-4eb5-8a3e-a26542faf5ac/tables/467fcc5f-579a-4197-892b-163a22d88a6e/_delta_log/__tmp_path_dir/.00000000000000000001.crc.679dfbfe-de23-47f1-9290-116a9f1cd46a.tmp</td><td>null</td><td>null</td><td>CreatePathFile</td><td>1</td></tr><tr><td>stsezsandbox07</td><td>/stsezsandbox07/unity/83ad2d11-1431-4eb5-8a3e-a26542faf5ac/tables/794d4d99-16ab-4bb9-a9e4-c58c5cde0829/_delta_log/__tmp_path_dir/.00000000000000000016.crc.036fa83f-5c31-43ca-96b6-8412b276307c.tmp</td><td>null</td><td>null</td><td>CreatePathFile</td><td>1</td></tr><tr><td>stsezsandbox07</td><td>/stsezsandbox07/unity/83ad2d11-1431-4eb5-8a3e-a26542faf5ac/tables/467fcc5f-579a-4197-892b-163a22d88a6e/_delta_log/__tmp_path_dir/.00000000000000000002.crc.63a67d50-7905-46a4-a54c-50bc4d722e8b.tmp</td><td>null</td><td>null</td><td>AppendFile</td><td>1</td></tr><tr><td>stsezsandbox07</td><td>/stsezsandbox07/unity/83ad2d11-1431-4eb5-8a3e-a26542faf5ac/tables/794d4d99-16ab-4bb9-a9e4-c58c5cde0829/_delta_log/00000000000000000016.json</td><td>null</td><td>null</td><td>GetPathStatus</td><td>1</td></tr><tr><td>stsezsandbox07</td><td>/stsezsandbox07/unity/83ad2d11-1431-4eb5-8a3e-a26542faf5ac/tables/794d4d99-16ab-4bb9-a9e4-c58c5cde0829/_delta_log/00000000000000000008.json</td><td>null</td><td>null</td><td>GetPathStatus</td><td>1</td></tr><tr><td>stsezsandbox07</td><td>/stsezsandbox07/unity/83ad2d11-1431-4eb5-8a3e-a26542faf5ac/tables/794d4d99-16ab-4bb9-a9e4-c58c5cde0829/_delta_log/__tmp_path_dir/.00000000000000000010.crc.911580b8-3130-491e-833c-3284e42f5760.tmp</td><td>null</td><td>null</td><td>CreatePathFile</td><td>1</td></tr><tr><td>stsezsandbox07</td><td>/stsezsandbox07/unity/83ad2d11-1431-4eb5-8a3e-a26542faf5ac/tables/9ba815a2-5ecc-41ee-9f15-7ca779070272/_delta_log/00000000000000000000.crc</td><td>null</td><td>null</td><td>RenamePathFile</td><td>1</td></tr><tr><td>stsezsandbox07</td><td>/stsezsandbox07/unity/83ad2d11-1431-4eb5-8a3e-a26542faf5ac/tables/794d4d99-16ab-4bb9-a9e4-c58c5cde0829/_delta_log/__tmp_path_dir/.00000000000000000016.json.cc79189b-56c3-4fb9-aeb4-257f16411dff.tmp</td><td>null</td><td>null</td><td>CreatePathFile</td><td>1</td></tr><tr><td>stsezsandbox07</td><td>/stsezsandbox07/unity/83ad2d11-1431-4eb5-8a3e-a26542faf5ac/tables/794d4d99-16ab-4bb9-a9e4-c58c5cde0829/_delta_log/__tmp_path_dir/.00000000000000000017.crc.c34713cc-2821-4b10-a0da-3fe20484de3a.tmp</td><td>null</td><td>null</td><td>FlushFile</td><td>1</td></tr><tr><td>stsezsandbox07</td><td>/stsezsandbox07/unity/83ad2d11-1431-4eb5-8a3e-a26542faf5ac/tables/794d4d99-16ab-4bb9-a9e4-c58c5cde0829/_delta_log/00000000000000000020.json</td><td>null</td><td>null</td><td>RenamePathFile</td><td>1</td></tr><tr><td>stsezsandbox07</td><td>/stsezsandbox07/unity/83ad2d11-1431-4eb5-8a3e-a26542faf5ac/tables/794d4d99-16ab-4bb9-a9e4-c58c5cde0829/part-00000-e05e96ec-a9c8-4359-9a53-fe00709b4738.c000.snappy.parquet</td><td>null</td><td>null</td><td>CreatePathFile</td><td>1</td></tr><tr><td>stsezsandbox07</td><td>/stsezsandbox07/unity/83ad2d11-1431-4eb5-8a3e-a26542faf5ac/tables/794d4d99-16ab-4bb9-a9e4-c58c5cde0829/_delta_log/__tmp_path_dir/.00000000000000000016.json.cc79189b-56c3-4fb9-aeb4-257f16411dff.tmp</td><td>null</td><td>null</td><td>FlushFile</td><td>1</td></tr><tr><td>stsezsandbox07</td><td>/stsezsandbox07/unity/83ad2d11-1431-4eb5-8a3e-a26542faf5ac/tables/9ba815a2-5ecc-41ee-9f15-7ca779070272/_delta_log/00000000000000000006.json</td><td>null</td><td>null</td><td>RenamePathFile</td><td>1</td></tr><tr><td>stsezsandbox07</td><td>/stsezsandbox07/unity/83ad2d11-1431-4eb5-8a3e-a26542faf5ac/tables/9ba815a2-5ecc-41ee-9f15-7ca779070272/_delta_log/00000000000000000009.crc</td><td>null</td><td>null</td><td>ReadFile</td><td>1</td></tr><tr><td>stsezsandbox07</td><td>/stsezsandbox07/unity/83ad2d11-1431-4eb5-8a3e-a26542faf5ac/tables/fa77fedc-b2a1-4914-8455-d461701cb3ec/_delta_log/__tmp_path_dir/.00000000000000000000.crc.964a5993-8cf8-486f-93d0-4de2979dda14.tmp</td><td>null</td><td>null</td><td>FlushFile</td><td>1</td></tr><tr><td>stsezsandbox07</td><td>/stsezsandbox07/unity/83ad2d11-1431-4eb5-8a3e-a26542faf5ac/tables/467fcc5f-579a-4197-892b-163a22d88a6e/_delta_log/__tmp_path_dir/.00000000000000000001.crc.679dfbfe-de23-47f1-9290-116a9f1cd46a.tmp</td><td>null</td><td>null</td><td>FlushFile</td><td>1</td></tr><tr><td>stsezsandbox07</td><td>/stsezsandbox07/unity/83ad2d11-1431-4eb5-8a3e-a26542faf5ac/tables/9ba815a2-5ecc-41ee-9f15-7ca779070272/_enzyme_log/1743790621812</td><td>null</td><td>null</td><td>FlushFile</td><td>1</td></tr><tr><td>stsezsandbox07</td><td>/stsezsandbox07/unity/83ad2d11-1431-4eb5-8a3e-a26542faf5ac/tables/9ba815a2-5ecc-41ee-9f15-7ca779070272/part-00000-6c2aa6d3-4249-40a9-bdbc-0693b2bc1ccc.c000.snappy.parquet</td><td>null</td><td>null</td><td>CreatePathFile</td><td>1</td></tr><tr><td>stsezsandbox07</td><td>/stsezsandbox07/unity/_encryption_meta/manifest.json</td><td>null</td><td>null</td><td>GetPathStatus</td><td>1</td></tr><tr><td>stsezsandbox07</td><td>/stsezsandbox07/unity/83ad2d11-1431-4eb5-8a3e-a26542faf5ac/tables/467fcc5f-579a-4197-892b-163a22d88a6e/_delta_log/__tmp_path_dir/.00000000000000000002.crc.63a67d50-7905-46a4-a54c-50bc4d722e8b.tmp</td><td>null</td><td>null</td><td>FlushFile</td><td>1</td></tr><tr><td>stsezsandbox07</td><td>/stsezsandbox07/unity/83ad2d11-1431-4eb5-8a3e-a26542faf5ac/tables/9ba815a2-5ecc-41ee-9f15-7ca779070272/_delta_log/__tmp_path_dir/.00000000000000000012.json.b47a53c6-b470-4fb2-8f88-055a7da524ba.tmp</td><td>null</td><td>null</td><td>AppendFile</td><td>1</td></tr><tr><td>stsezsandbox07</td><td>/stsezsandbox07/unity/83ad2d11-1431-4eb5-8a3e-a26542faf5ac/tables/9ba815a2-5ecc-41ee-9f15-7ca779070272/_delta_log/00000000000000000001.crc</td><td>null</td><td>null</td><td>RenamePathFile</td><td>1</td></tr><tr><td>stsezsandbox07</td><td>/stsezsandbox07/unity/83ad2d11-1431-4eb5-8a3e-a26542faf5ac/tables/794d4d99-16ab-4bb9-a9e4-c58c5cde0829/_delta_log/00000000000000000017.crc</td><td>null</td><td>null</td><td>ReadFile</td><td>1</td></tr><tr><td>stsezsandbox07</td><td>/stsezsandbox07/unity/83ad2d11-1431-4eb5-8a3e-a26542faf5ac/tables/9ba815a2-5ecc-41ee-9f15-7ca779070272/part-00000-8117a56a-51d8-4405-b532-62928a1308c8.c000.snappy.parquet</td><td>null</td><td>null</td><td>AppendFile</td><td>1</td></tr><tr><td>stsezsandbox07</td><td>/stsezsandbox07/unity/83ad2d11-1431-4eb5-8a3e-a26542faf5ac/tables/794d4d99-16ab-4bb9-a9e4-c58c5cde0829/_delta_log/__tmp_path_dir/.00000000000000000017.crc.c34713cc-2821-4b10-a0da-3fe20484de3a.tmp</td><td>null</td><td>null</td><td>AppendFile</td><td>1</td></tr><tr><td>stsezsandbox07</td><td>/stsezsandbox07/unity/83ad2d11-1431-4eb5-8a3e-a26542faf5ac/tables/794d4d99-16ab-4bb9-a9e4-c58c5cde0829/_delta_log/__tmp_path_dir/.00000000000000000017.json.053c3bf3-47fb-43e9-9700-598ad9aa9a4e.tmp</td><td>null</td><td>null</td><td>CreatePathFile</td><td>1</td></tr><tr><td>stsezsandbox07</td><td>/stsezsandbox07/unity/83ad2d11-1431-4eb5-8a3e-a26542faf5ac/tables/794d4d99-16ab-4bb9-a9e4-c58c5cde0829/_delta_log/00000000000000000001.crc</td><td>null</td><td>null</td><td>RenamePathFile</td><td>1</td></tr><tr><td>stsezsandbox07</td><td>/stsezsandbox07/unity/83ad2d11-1431-4eb5-8a3e-a26542faf5ac/tables/cf19f4d9-4527-4c9e-8b9f-76624443b9fe/part-00000-f5fbc1b7-34ab-4581-afde-4db7a5946d37.c000.snappy.parquet</td><td>null</td><td>null</td><td>AppendFile</td><td>1</td></tr><tr><td>stsezsandbox07</td><td>/stsezsandbox07/unity/83ad2d11-1431-4eb5-8a3e-a26542faf5ac/tables/794d4d99-16ab-4bb9-a9e4-c58c5cde0829/_delta_log/00000000000000000010.crc</td><td>null</td><td>null</td><td>RenamePathFile</td><td>1</td></tr><tr><td>stsezsandbox07</td><td>/stsezsandbox07/unity/83ad2d11-1431-4eb5-8a3e-a26542faf5ac/tables/fa77fedc-b2a1-4914-8455-d461701cb3ec/_delta_log/__tmp_path_dir/.00000000000000000001.json.bfe41438-cdef-4971-b9da-04725ccef6cb.tmp</td><td>null</td><td>null</td><td>CreatePathFile</td><td>1</td></tr><tr><td>stsezsandbox07</td><td>/stsezsandbox07/unity/83ad2d11-1431-4eb5-8a3e-a26542faf5ac/tables/467fcc5f-579a-4197-892b-163a22d88a6e/_delta_log/__tmp_path_dir/.00000000000000000000.crc.99178fa6-21a4-49e9-b081-5b725e01250e.tmp</td><td>null</td><td>null</td><td>CreatePathFile</td><td>1</td></tr><tr><td>stsezsandbox07</td><td>/stsezsandbox07/slog/checkpoints/vw_storage_log/offsets/__tmp_path_dir/.8.d2499a5e-9005-4dce-8cc6-8c96180318ce.tmp</td><td>null</td><td>null</td><td>FlushFile</td><td>1</td></tr><tr><td>stsezsandbox07</td><td>/stsezsandbox07/unity/83ad2d11-1431-4eb5-8a3e-a26542faf5ac/tables/467fcc5f-579a-4197-892b-163a22d88a6e/_delta_log/__tmp_path_dir/.00000000000000000000.crc.99178fa6-21a4-49e9-b081-5b725e01250e.tmp</td><td>null</td><td>null</td><td>FlushFile</td><td>1</td></tr><tr><td>stsezsandbox07</td><td>/stsezsandbox07/unity/83ad2d11-1431-4eb5-8a3e-a26542faf5ac/tables/794d4d99-16ab-4bb9-a9e4-c58c5cde0829/_delta_log/__tmp_path_dir/.00000000000000000017.crc.c34713cc-2821-4b10-a0da-3fe20484de3a.tmp</td><td>null</td><td>null</td><td>CreatePathFile</td><td>1</td></tr><tr><td>stsezsandbox07</td><td>/stsezsandbox07/unity/83ad2d11-1431-4eb5-8a3e-a26542faf5ac/tables/794d4d99-16ab-4bb9-a9e4-c58c5cde0829/_delta_log/00000000000000000015.crc</td><td>null</td><td>null</td><td>ReadFile</td><td>1</td></tr><tr><td>stsezsandbox07</td><td>/stsezsandbox07/unity/83ad2d11-1431-4eb5-8a3e-a26542faf5ac/tables/794d4d99-16ab-4bb9-a9e4-c58c5cde0829/_delta_log/__tmp_path_dir/.00000000000000000009.crc.c40f55a0-dca7-48e0-a75f-ea99967898b9.tmp</td><td>null</td><td>null</td><td>FlushFile</td><td>1</td></tr><tr><td>stsezsandbox07</td><td>/stsezsandbox07/unity/83ad2d11-1431-4eb5-8a3e-a26542faf5ac/tables/794d4d99-16ab-4bb9-a9e4-c58c5cde0829/_delta_log/__tmp_path_dir/.00000000000000000021.crc.fc71c375-4df0-471a-81c7-564e65a7a655.tmp</td><td>null</td><td>null</td><td>AppendFile</td><td>1</td></tr><tr><td>stsezsandbox07</td><td>/stsezsandbox07/unity/83ad2d11-1431-4eb5-8a3e-a26542faf5ac/tables/467fcc5f-579a-4197-892b-163a22d88a6e/_delta_log/00000000000000000001.json</td><td>null</td><td>null</td><td>RenamePathFile</td><td>1</td></tr><tr><td>stsezsandbox07</td><td>/stsezsandbox07/unity/83ad2d11-1431-4eb5-8a3e-a26542faf5ac/tables/467fcc5f-579a-4197-892b-163a22d88a6e/_delta_log/__tmp_path_dir/.00000000000000000001.json.222e303b-5c3e-4b8f-bd60-d9661828a4ee.tmp</td><td>null</td><td>null</td><td>FlushFile</td><td>1</td></tr><tr><td>stsezsandbox07</td><td>/stsezsandbox07/unity/83ad2d11-1431-4eb5-8a3e-a26542faf5ac/tables/794d4d99-16ab-4bb9-a9e4-c58c5cde0829/_delta_log/00000000000000000010.json</td><td>null</td><td>null</td><td>RenamePathFile</td><td>1</td></tr><tr><td>stsezsandbox07</td><td>/stsezsandbox07/unity/83ad2d11-1431-4eb5-8a3e-a26542faf5ac/tables/fa77fedc-b2a1-4914-8455-d461701cb3ec/part-00000-3b80cd20-08f3-4584-9246-013a6b24a9ab.c000.snappy.parquet</td><td>null</td><td>null</td><td>ReadFile</td><td>1</td></tr><tr><td>stsezsandbox07</td><td>/stsezsandbox07/unity/83ad2d11-1431-4eb5-8a3e-a26542faf5ac/tables/794d4d99-16ab-4bb9-a9e4-c58c5cde0829/_delta_log/__tmp_path_dir/.00000000000000000016.json.cc79189b-56c3-4fb9-aeb4-257f16411dff.tmp</td><td>null</td><td>null</td><td>AppendFile</td><td>1</td></tr><tr><td>stsezsandbox07</td><td>/stsezsandbox07/unity/83ad2d11-1431-4eb5-8a3e-a26542faf5ac/tables/467fcc5f-579a-4197-892b-163a22d88a6e/part-00000-ac0025f8-9cba-414b-9c93-ecdda5d291ed.c000.snappy.parquet</td><td>null</td><td>null</td><td>CreatePathFile</td><td>1</td></tr><tr><td>stsezsandbox07</td><td>/stsezsandbox07/slog/checkpoints/azure_raw_storage_log/commits/__tmp_path_dir/.2.f985b0a4-2d82-4365-ae2c-4b3c617d7a88.tmp</td><td>null</td><td>null</td><td>CreatePathFile</td><td>1</td></tr><tr><td>stsezsandbox07</td><td>/stsezsandbox07/slog/checkpoints/azure_raw_storage_log/offsets/__tmp_path_dir/.0.a41b358d-196c-424d-9835-ed6ffdab2801.tmp</td><td>null</td><td>null</td><td>CreatePathFile</td><td>1</td></tr><tr><td>stsezsandbox07</td><td>/stsezsandbox07/unity/83ad2d11-1431-4eb5-8a3e-a26542faf5ac/tables/794d4d99-16ab-4bb9-a9e4-c58c5cde0829/_delta_log/__tmp_path_dir/.00000000000000000001.json.0f3e7ec3-b213-4514-a577-a0b01dd17e58.tmp</td><td>null</td><td>null</td><td>AppendFile</td><td>1</td></tr><tr><td>stsezsandbox07</td><td>/stsezsandbox07/unity/83ad2d11-1431-4eb5-8a3e-a26542faf5ac/tables/9ba815a2-5ecc-41ee-9f15-7ca779070272/_delta_log/00000000000000000001.json</td><td>null</td><td>null</td><td>GetPathStatus</td><td>1</td></tr><tr><td>stsezsandbox07</td><td>/stsezsandbox07/unity/83ad2d11-1431-4eb5-8a3e-a26542faf5ac/tables/794d4d99-16ab-4bb9-a9e4-c58c5cde0829/_delta_log/00000000000000000021.crc</td><td>null</td><td>null</td><td>RenamePathFile</td><td>1</td></tr><tr><td>stsezsandbox07</td><td>/stsezsandbox07/unity/83ad2d11-1431-4eb5-8a3e-a26542faf5ac/tables/794d4d99-16ab-4bb9-a9e4-c58c5cde0829/_delta_log/__tmp_path_dir/.00000000000000000001.crc.59fcc589-4485-4131-97e2-020b23ec61cf.tmp</td><td>null</td><td>null</td><td>AppendFile</td><td>1</td></tr><tr><td>stsezsandbox07</td><td>/stsezsandbox07/slog/checkpoints/azure_raw_storage_log/sources/0</td><td>null</td><td>null</td><td>CreatePathDir</td><td>1</td></tr><tr><td>stsezsandbox07</td><td>/stsezsandbox07/unity/83ad2d11-1431-4eb5-8a3e-a26542faf5ac/tables/794d4d99-16ab-4bb9-a9e4-c58c5cde0829/part-00000-864e10c8-dc46-441c-ada1-6d5d7c5ad4cc.c000.snappy.parquet</td><td>null</td><td>null</td><td>CreatePathFile</td><td>1</td></tr><tr><td>stsezsandbox07</td><td>/stsezsandbox07/unity/83ad2d11-1431-4eb5-8a3e-a26542faf5ac/tables/9ba815a2-5ecc-41ee-9f15-7ca779070272/_delta_log/__tmp_path_dir/.00000000000000000011.crc.ecc37723-8c96-4588-9ba8-25077c795a08.tmp</td><td>null</td><td>null</td><td>FlushFile</td><td>1</td></tr><tr><td>stsezsandbox07</td><td>/stsezsandbox07/slog/checkpoints/vw_storage_log/commits/10</td><td>null</td><td>null</td><td>RenamePathFile</td><td>1</td></tr><tr><td>stsezsandbox07</td><td>/stsezsandbox07/unity/83ad2d11-1431-4eb5-8a3e-a26542faf5ac/tables/794d4d99-16ab-4bb9-a9e4-c58c5cde0829/_delta_log/__tmp_path_dir/.00000000000000000001.json.0f3e7ec3-b213-4514-a577-a0b01dd17e58.tmp</td><td>null</td><td>null</td><td>FlushFile</td><td>1</td></tr><tr><td>stsezsandbox07</td><td>/stsezsandbox07/unity/83ad2d11-1431-4eb5-8a3e-a26542faf5ac/tables/9ba815a2-5ecc-41ee-9f15-7ca779070272/_delta_log/__tmp_path_dir/.00000000000000000000.json.a942a71f-d5b5-4750-aa8f-07e5480dc83a.tmp</td><td>null</td><td>null</td><td>CreatePathFile</td><td>1</td></tr><tr><td>stsezsandbox07</td><td>/stsezsandbox07/unity/83ad2d11-1431-4eb5-8a3e-a26542faf5ac/tables/9ba815a2-5ecc-41ee-9f15-7ca779070272/_delta_log/__tmp_path_dir/.00000000000000000011.crc.ecc37723-8c96-4588-9ba8-25077c795a08.tmp</td><td>null</td><td>null</td><td>AppendFile</td><td>1</td></tr><tr><td>stsezsandbox07</td><td>/stsezsandbox07/unity/83ad2d11-1431-4eb5-8a3e-a26542faf5ac/tables/9ba815a2-5ecc-41ee-9f15-7ca779070272/part-00000-8117a56a-51d8-4405-b532-62928a1308c8.c000.snappy.parquet</td><td>null</td><td>null</td><td>FlushFile</td><td>1</td></tr><tr><td>stsezsandbox07</td><td>/stsezsandbox07/unity/83ad2d11-1431-4eb5-8a3e-a26542faf5ac/tables/fa77fedc-b2a1-4914-8455-d461701cb3ec/_delta_log/__tmp_path_dir/.00000000000000000001.json.bfe41438-cdef-4971-b9da-04725ccef6cb.tmp</td><td>null</td><td>null</td><td>FlushFile</td><td>1</td></tr><tr><td>stsezsandbox07</td><td>/stsezsandbox07/unity/83ad2d11-1431-4eb5-8a3e-a26542faf5ac/tables/cf19f4d9-4527-4c9e-8b9f-76624443b9fe/part-00000-f5fbc1b7-34ab-4581-afde-4db7a5946d37.c000.snappy.parquet</td><td>null</td><td>null</td><td>FlushFile</td><td>1</td></tr><tr><td>stsezsandbox07</td><td>/stsezsandbox07/unity/83ad2d11-1431-4eb5-8a3e-a26542faf5ac/tables/9ba815a2-5ecc-41ee-9f15-7ca779070272/_delta_log/__tmp_path_dir/.00000000000000000007.json.3056a509-f357-49e0-a62a-7cbf609cbc6b.tmp</td><td>null</td><td>null</td><td>FlushFile</td><td>1</td></tr><tr><td>stsezsandbox07</td><td>/stsezsandbox07/unity/83ad2d11-1431-4eb5-8a3e-a26542faf5ac/tables/794d4d99-16ab-4bb9-a9e4-c58c5cde0829/_delta_log/__tmp_path_dir/.00000000000000000000.json.11a16977-d86f-4ae9-ae48-47981a3e9a40.tmp</td><td>null</td><td>null</td><td>CreatePathFile</td><td>1</td></tr><tr><td>stsezsandbox07</td><td>/stsezsandbox07/unity/83ad2d11-1431-4eb5-8a3e-a26542faf5ac/tables/794d4d99-16ab-4bb9-a9e4-c58c5cde0829/_delta_log/__tmp_path_dir/.00000000000000000020.json.0d5e3660-8477-4765-adee-aa16fa3b53de.tmp</td><td>null</td><td>null</td><td>CreatePathFile</td><td>1</td></tr><tr><td>stsezsandbox07</td><td>/stsezsandbox07/unity/83ad2d11-1431-4eb5-8a3e-a26542faf5ac/tables/9ba815a2-5ecc-41ee-9f15-7ca779070272/_delta_log/00000000000000000011.crc</td><td>null</td><td>null</td><td>RenamePathFile</td><td>1</td></tr><tr><td>stsezsandbox07</td><td>/stsezsandbox07/unity/83ad2d11-1431-4eb5-8a3e-a26542faf5ac/tables/794d4d99-16ab-4bb9-a9e4-c58c5cde0829/_delta_log/00000000000000000008.json</td><td>null</td><td>null</td><td>RenamePathFile</td><td>1</td></tr><tr><td>stsezsandbox07</td><td>/stsezsandbox07/unity/83ad2d11-1431-4eb5-8a3e-a26542faf5ac/tables/467fcc5f-579a-4197-892b-163a22d88a6e/_delta_log/__tmp_path_dir/.00000000000000000002.crc.63a67d50-7905-46a4-a54c-50bc4d722e8b.tmp</td><td>null</td><td>null</td><td>CreatePathFile</td><td>1</td></tr><tr><td>stsezsandbox07</td><td>/stsezsandbox07/unity/83ad2d11-1431-4eb5-8a3e-a26542faf5ac/tables/467fcc5f-579a-4197-892b-163a22d88a6e/part-00000-ac0025f8-9cba-414b-9c93-ecdda5d291ed.c000.snappy.parquet</td><td>null</td><td>null</td><td>FlushFile</td><td>1</td></tr><tr><td>stsezsandbox07</td><td>/stsezsandbox07/slog/checkpoints/azure_raw_storage_log/offsets/__tmp_path_dir/.1.1db4289c-c0aa-4382-92af-70e59e6f9666.tmp</td><td>null</td><td>null</td><td>FlushFile</td><td>1</td></tr><tr><td>stsezsandbox07</td><td>/stsezsandbox07/unity/83ad2d11-1431-4eb5-8a3e-a26542faf5ac/tables/9ba815a2-5ecc-41ee-9f15-7ca779070272/part-00000-cb469aa0-abe1-4269-ac38-f9fa6f1fda0d.c000.snappy.parquet</td><td>null</td><td>null</td><td>CreatePathFile</td><td>1</td></tr><tr><td>stsezsandbox07</td><td>/stsezsandbox07/unity/83ad2d11-1431-4eb5-8a3e-a26542faf5ac/tables/fa77fedc-b2a1-4914-8455-d461701cb3ec/_delta_log/__tmp_path_dir/.00000000000000000001.crc.70ea51e1-e9bb-4027-a554-ced73d53d7b2.tmp</td><td>null</td><td>null</td><td>AppendFile</td><td>1</td></tr><tr><td>stsezsandbox07</td><td>/stsezsandbox07/unity/83ad2d11-1431-4eb5-8a3e-a26542faf5ac/tables/9ba815a2-5ecc-41ee-9f15-7ca779070272/part-00000-50dac75d-08ae-408a-9d98-fa0e7f96c467.c000.snappy.parquet</td><td>null</td><td>null</td><td>FlushFile</td><td>1</td></tr><tr><td>stsezsandbox07</td><td>/stsezsandbox07/unity/83ad2d11-1431-4eb5-8a3e-a26542faf5ac/tables/fa77fedc-b2a1-4914-8455-d461701cb3ec/_delta_log/_last_checkpoint</td><td>null</td><td>null</td><td>GetPathStatus</td><td>1</td></tr><tr><td>stsezsandbox07</td><td>/stsezsandbox07/unity/83ad2d11-1431-4eb5-8a3e-a26542faf5ac/tables/794d4d99-16ab-4bb9-a9e4-c58c5cde0829/_delta_log/__tmp_path_dir/.00000000000000000016.crc.036fa83f-5c31-43ca-96b6-8412b276307c.tmp</td><td>null</td><td>null</td><td>FlushFile</td><td>1</td></tr><tr><td>stsezsandbox07</td><td>/stsezsandbox07/unity/83ad2d11-1431-4eb5-8a3e-a26542faf5ac/tables/9ba815a2-5ecc-41ee-9f15-7ca779070272/_delta_log/00000000000000000001.00000000000000000006.compacted.json</td><td>null</td><td>null</td><td>RenamePathFile</td><td>1</td></tr><tr><td>stsezsandbox07</td><td>/stsezsandbox07/unity/83ad2d11-1431-4eb5-8a3e-a26542faf5ac/tables/794d4d99-16ab-4bb9-a9e4-c58c5cde0829/_delta_log/__tmp_path_dir/.00000000000000000010.json.3f07c14c-5fed-4231-a941-1bf66496cb72.tmp</td><td>null</td><td>null</td><td>AppendFile</td><td>1</td></tr><tr><td>stsezsandbox07</td><td>/stsezsandbox07/unity/83ad2d11-1431-4eb5-8a3e-a26542faf5ac/tables/cf19f4d9-4527-4c9e-8b9f-76624443b9fe/_delta_log/00000000000000000001.crc</td><td>null</td><td>null</td><td>ReadFile</td><td>1</td></tr><tr><td>stsezsandbox07</td><td>/stsezsandbox07/unity/83ad2d11-1431-4eb5-8a3e-a26542faf5ac/tables/794d4d99-16ab-4bb9-a9e4-c58c5cde0829/part-00000-551e6949-dbb0-426d-9db7-7b6afe324764.c000.snappy.parquet</td><td>null</td><td>null</td><td>FlushFile</td><td>1</td></tr></tbody></table></div>"
      ]
     },
     "metadata": {
      "application/vnd.databricks.v1+output": {
       "addedWidgets": {},
       "aggData": [],
       "aggError": "",
       "aggOverflow": false,
       "aggSchema": [],
       "aggSeriesLimitReached": false,
       "aggType": "",
       "arguments": {},
       "columnCustomDisplayInfos": {},
       "data": [
        [
         "stsezsandbox07",
         "/stsezsandbox07/unity",
         null,
         null,
         "ListFilesystemDir",
         911
        ],
        [
         "stsezsandbox07",
         "/stsezsandbox07/unity",
         null,
         null,
         "ListBlobs",
         555
        ],
        [
         "stsezsandbox07",
         "/stsezsandbox07/pos-dev",
         null,
         null,
         "ListBlobs",
         320
        ],
        [
         "stsezsandbox07",
         "/stsezsandbox07/ps-dev",
         null,
         null,
         "ListBlobs",
         72
        ],
        [
         "stsezsandbox07",
         "/stsezsandbox07/$root",
         null,
         null,
         "GetContainerProperties",
         57
        ],
        [
         "stsezsandbox07",
         "/stsezsandbox07/unity/83ad2d11-1431-4eb5-8a3e-a26542faf5ac/tables/9ba815a2-5ecc-41ee-9f15-7ca779070272/_delta_log",
         null,
         null,
         "GetPathStatus",
         40
        ],
        [
         "stsezsandbox07",
         "/stsezsandbox07/slog",
         null,
         null,
         "ListBlobs",
         31
        ],
        [
         "stsezsandbox07",
         "/stsezsandbox07/unity/83ad2d11-1431-4eb5-8a3e-a26542faf5ac/tables/794d4d99-16ab-4bb9-a9e4-c58c5cde0829/_delta_log",
         null,
         null,
         "GetPathStatus",
         30
        ],
        [
         "stsezsandbox07",
         "/stsezsandbox07/slog",
         null,
         null,
         "ListFilesystemDir",
         27
        ],
        [
         "stsezsandbox07",
         "/stsezsandbox07/retail-demo",
         null,
         null,
         "ListBlobs",
         21
        ],
        [
         "stsezsandbox07",
         "/stsezsandbox07/unity/83ad2d11-1431-4eb5-8a3e-a26542faf5ac/tables/794d4d99-16ab-4bb9-a9e4-c58c5cde0829/_delta_log/00000000000000000000.json",
         null,
         null,
         "ReadFile",
         19
        ],
        [
         "stsezsandbox07",
         "/stsezsandbox07/unity/83ad2d11-1431-4eb5-8a3e-a26542faf5ac/tables/9ba815a2-5ecc-41ee-9f15-7ca779070272/_delta_log/00000000000000000000.json",
         null,
         null,
         "ReadFile",
         19
        ],
        [
         "stsezsandbox07",
         "/stsezsandbox07",
         null,
         null,
         "GetUserDelegationKey",
         18
        ],
        [
         "stsezsandbox07",
         "/stsezsandbox07/unity/83ad2d11-1431-4eb5-8a3e-a26542faf5ac/tables/794d4d99-16ab-4bb9-a9e4-c58c5cde0829/_delta_log/00000000000000000001.00000000000000000006.compacted.json",
         null,
         null,
         "ReadFile",
         16
        ],
        [
         "stsezsandbox07",
         "/stsezsandbox07/unity/83ad2d11-1431-4eb5-8a3e-a26542faf5ac/tables/9ba815a2-5ecc-41ee-9f15-7ca779070272/__enzyme_stats/stats.json",
         null,
         null,
         "GetPathStatus",
         16
        ],
        [
         "stsezsandbox07",
         "/stsezsandbox07/pos-dev",
         null,
         null,
         "ListFilesystemDir",
         14
        ],
        [
         "stsezsandbox07",
         "/stsezsandbox07/unity/83ad2d11-1431-4eb5-8a3e-a26542faf5ac/tables/467fcc5f-579a-4197-892b-163a22d88a6e/_delta_log/00000000000000000001.json",
         null,
         null,
         "GetPathStatus",
         12
        ],
        [
         "stsezsandbox07",
         "/stsezsandbox07/slog/checkpoints/vw_storage_log/offsets/7",
         null,
         null,
         "GetPathStatus",
         12
        ],
        [
         "stsezsandbox07",
         "/stsezsandbox07/unity/83ad2d11-1431-4eb5-8a3e-a26542faf5ac/tables/9ba815a2-5ecc-41ee-9f15-7ca779070272/__enzyme_stats/stats.json",
         null,
         null,
         "CreatePathFile",
         11
        ],
        [
         "stsezsandbox07",
         "/stsezsandbox07/slog/checkpoints/vw_storage_log/offsets/8",
         null,
         null,
         "GetPathStatus",
         11
        ],
        [
         "stsezsandbox07",
         "/stsezsandbox07/unity/83ad2d11-1431-4eb5-8a3e-a26542faf5ac/tables/9ba815a2-5ecc-41ee-9f15-7ca779070272/_delta_log/00000000000000000001.00000000000000000006.compacted.json",
         null,
         null,
         "ReadFile",
         11
        ],
        [
         "stsezsandbox07",
         "/stsezsandbox07/unity/83ad2d11-1431-4eb5-8a3e-a26542faf5ac/tables/794d4d99-16ab-4bb9-a9e4-c58c5cde0829/_delta_log/00000000000000000007.00000000000000000012.compacted.json",
         null,
         null,
         "ReadFile",
         10
        ],
        [
         "stsezsandbox07",
         "/stsezsandbox07/slog/checkpoints/azure_raw_storage_log/sources/0/0",
         null,
         null,
         "GetPathStatus",
         10
        ],
        [
         "stsezsandbox07",
         "/stsezsandbox07/unity/83ad2d11-1431-4eb5-8a3e-a26542faf5ac/tables/9ba815a2-5ecc-41ee-9f15-7ca779070272/_delta_log/00000000000000000007.json",
         null,
         null,
         "ReadFile",
         10
        ],
        [
         "stsezsandbox07",
         "/stsezsandbox07/unity/83ad2d11-1431-4eb5-8a3e-a26542faf5ac/tables/fa77fedc-b2a1-4914-8455-d461701cb3ec/_delta_log/00000000000000000001.json",
         null,
         null,
         "GetPathStatus",
         10
        ],
        [
         "stsezsandbox07",
         "/stsezsandbox07/unity/83ad2d11-1431-4eb5-8a3e-a26542faf5ac/tables/467fcc5f-579a-4197-892b-163a22d88a6e/_delta_log/00000000000000000002.json",
         null,
         null,
         "GetPathStatus",
         9
        ],
        [
         "stsezsandbox07",
         "/stsezsandbox07",
         null,
         null,
         "GetBlobServiceProperties",
         9
        ],
        [
         "stsezsandbox07",
         "/stsezsandbox07/unity/83ad2d11-1431-4eb5-8a3e-a26542faf5ac/tables/9ba815a2-5ecc-41ee-9f15-7ca779070272/_delta_log/_last_checkpoint",
         null,
         null,
         "GetPathStatus",
         9
        ],
        [
         "stsezsandbox07",
         "/stsezsandbox07/slog/checkpoints/azure_raw_storage_log/offsets/0",
         null,
         null,
         "GetPathStatus",
         9
        ],
        [
         "stsezsandbox07",
         "/stsezsandbox07/unity/83ad2d11-1431-4eb5-8a3e-a26542faf5ac/tables/794d4d99-16ab-4bb9-a9e4-c58c5cde0829",
         null,
         null,
         "GetPathStatus",
         8
        ],
        [
         "stsezsandbox07",
         "/stsezsandbox07/slog",
         null,
         null,
         "GetPathAccessControl",
         8
        ],
        [
         "stsezsandbox07",
         "/stsezsandbox07/unity/83ad2d11-1431-4eb5-8a3e-a26542faf5ac/tables/9ba815a2-5ecc-41ee-9f15-7ca779070272/_delta_log/00000000000000000001.json",
         null,
         null,
         "ReadFile",
         8
        ],
        [
         "stsezsandbox07",
         "/stsezsandbox07/slog/checkpoints/vw_storage_log/sources/0/0",
         null,
         null,
         "GetPathStatus",
         8
        ],
        [
         "stsezsandbox07",
         "/stsezsandbox07/unity/83ad2d11-1431-4eb5-8a3e-a26542faf5ac/tables/9ba815a2-5ecc-41ee-9f15-7ca779070272/_delta_log/00000000000000000002.json",
         null,
         null,
         "ReadFile",
         8
        ],
        [
         "stsezsandbox07",
         "/stsezsandbox07/slog/checkpoints/vw_storage_log/metadata",
         null,
         null,
         "GetPathStatus",
         8
        ],
        [
         "stsezsandbox07",
         "/stsezsandbox07/slog/checkpoints/vw_storage_log/offsets/8",
         null,
         null,
         "ReadFile",
         7
        ],
        [
         "stsezsandbox07",
         "/stsezsandbox07/slog/checkpoints/vw_storage_log/offsets/7",
         null,
         null,
         "ReadFile",
         7
        ],
        [
         "stsezsandbox07",
         "/stsezsandbox07/slog/checkpoints/vw_storage_log/offsets/9",
         null,
         null,
         "GetPathStatus",
         7
        ],
        [
         "stsezsandbox07",
         "/stsezsandbox07/slog/checkpoints/azure_raw_storage_log/offsets/1",
         null,
         null,
         "GetPathStatus",
         7
        ],
        [
         "stsezsandbox07",
         "/stsezsandbox07/unity/83ad2d11-1431-4eb5-8a3e-a26542faf5ac/tables/9ba815a2-5ecc-41ee-9f15-7ca779070272/_delta_log/00000000000000000010.json",
         null,
         null,
         "ReadFile",
         7
        ],
        [
         "stsezsandbox07",
         "/stsezsandbox07/unity/83ad2d11-1431-4eb5-8a3e-a26542faf5ac/tables/9ba815a2-5ecc-41ee-9f15-7ca779070272/_delta_log/00000000000000000008.json",
         null,
         null,
         "ReadFile",
         7
        ],
        [
         "stsezsandbox07",
         "/stsezsandbox07/unity/83ad2d11-1431-4eb5-8a3e-a26542faf5ac/tables/9ba815a2-5ecc-41ee-9f15-7ca779070272/_delta_log/00000000000000000009.json",
         null,
         null,
         "ReadFile",
         7
        ],
        [
         "stsezsandbox07",
         "/stsezsandbox07/unity/83ad2d11-1431-4eb5-8a3e-a26542faf5ac/tables/794d4d99-16ab-4bb9-a9e4-c58c5cde0829/_delta_log/_last_checkpoint",
         null,
         null,
         "GetPathStatus",
         6
        ],
        [
         "stsezsandbox07",
         "/stsezsandbox07/unity/83ad2d11-1431-4eb5-8a3e-a26542faf5ac/tables/794d4d99-16ab-4bb9-a9e4-c58c5cde0829/_delta_log/00000000000000000014.json",
         null,
         null,
         "ReadFile",
         6
        ],
        [
         "stsezsandbox07",
         "/stsezsandbox07/unity/83ad2d11-1431-4eb5-8a3e-a26542faf5ac/tables/9ba815a2-5ecc-41ee-9f15-7ca779070272/__enzyme_stats/stats.json",
         null,
         null,
         "AppendFile",
         6
        ],
        [
         "stsezsandbox07",
         "/stsezsandbox07/unity/83ad2d11-1431-4eb5-8a3e-a26542faf5ac/tables/cf19f4d9-4527-4c9e-8b9f-76624443b9fe/_delta_log/00000000000000000001.json",
         null,
         null,
         "GetPathStatus",
         6
        ],
        [
         "stsezsandbox07",
         "/stsezsandbox07/unity/83ad2d11-1431-4eb5-8a3e-a26542faf5ac/tables/794d4d99-16ab-4bb9-a9e4-c58c5cde0829/_delta_log/00000000000000000015.json",
         null,
         null,
         "ReadFile",
         6
        ],
        [
         "stsezsandbox07",
         "/stsezsandbox07/unity/83ad2d11-1431-4eb5-8a3e-a26542faf5ac/tables/9ba815a2-5ecc-41ee-9f15-7ca779070272/__enzyme_stats/stats.json",
         null,
         null,
         "FlushFile",
         6
        ],
        [
         "stsezsandbox07",
         "/stsezsandbox07/unity/83ad2d11-1431-4eb5-8a3e-a26542faf5ac/tables/794d4d99-16ab-4bb9-a9e4-c58c5cde0829/_delta_log/00000000000000000013.json",
         null,
         null,
         "ReadFile",
         6
        ],
        [
         "stsezsandbox07",
         "/stsezsandbox07/unity/83ad2d11-1431-4eb5-8a3e-a26542faf5ac/tables/9ba815a2-5ecc-41ee-9f15-7ca779070272/__enzyme_stats",
         null,
         null,
         "GetPathStatus",
         6
        ],
        [
         "stsezsandbox07",
         "/stsezsandbox07/ps-dev",
         null,
         null,
         "ListFilesystemDir",
         6
        ],
        [
         "stsezsandbox07",
         "/stsezsandbox07/unity/83ad2d11-1431-4eb5-8a3e-a26542faf5ac/tables/794d4d99-16ab-4bb9-a9e4-c58c5cde0829/_delta_log/00000000000000000007.json",
         null,
         null,
         "ReadFile",
         5
        ],
        [
         "stsezsandbox07",
         "/stsezsandbox07",
         null,
         null,
         "ListContainers",
         5
        ],
        [
         "stsezsandbox07",
         "/stsezsandbox07/slog/checkpoints/azure_raw_storage_log/offsets/0",
         null,
         null,
         "ReadFile",
         5
        ],
        [
         "stsezsandbox07",
         "/stsezsandbox07/unity/83ad2d11-1431-4eb5-8a3e-a26542faf5ac/tables/794d4d99-16ab-4bb9-a9e4-c58c5cde0829/_delta_log/00000000000000000013.00000000000000000018.compacted.json",
         null,
         null,
         "ReadFile",
         5
        ],
        [
         "stsezsandbox07",
         "/stsezsandbox07/unity/83ad2d11-1431-4eb5-8a3e-a26542faf5ac/tables/9ba815a2-5ecc-41ee-9f15-7ca779070272/__enzyme_stats/stats.json",
         null,
         null,
         "ReadFile",
         5
        ],
        [
         "stsezsandbox07",
         "/stsezsandbox07/slog/checkpoints/azure_raw_storage_log/sources/0",
         null,
         null,
         "GetPathStatus",
         5
        ],
        [
         "stsezsandbox07",
         "/stsezsandbox07/unity/83ad2d11-1431-4eb5-8a3e-a26542faf5ac/tables/794d4d99-16ab-4bb9-a9e4-c58c5cde0829/_delta_log/00000000000000000016.json",
         null,
         null,
         "ReadFile",
         5
        ],
        [
         "stsezsandbox07",
         "/stsezsandbox07/unity/83ad2d11-1431-4eb5-8a3e-a26542faf5ac/tables/467fcc5f-579a-4197-892b-163a22d88a6e/_delta_log/00000000000000000000.json",
         null,
         null,
         "ReadFile",
         5
        ],
        [
         "stsezsandbox07",
         "/stsezsandbox07/slog/checkpoints/azure_raw_storage_log/metadata",
         null,
         null,
         "GetPathStatus",
         5
        ],
        [
         "stsezsandbox07",
         "/stsezsandbox07/unity/83ad2d11-1431-4eb5-8a3e-a26542faf5ac/tables/9ba815a2-5ecc-41ee-9f15-7ca779070272/_delta_log/00000000000000000011.json",
         null,
         null,
         "ReadFile",
         5
        ],
        [
         "stsezsandbox07",
         "/stsezsandbox07/unity/83ad2d11-1431-4eb5-8a3e-a26542faf5ac/tables/467fcc5f-579a-4197-892b-163a22d88a6e/_delta_log/00000000000000000001.json",
         null,
         null,
         "ReadFile",
         4
        ],
        [
         "stsezsandbox07",
         "/stsezsandbox07/unity/83ad2d11-1431-4eb5-8a3e-a26542faf5ac/tables/794d4d99-16ab-4bb9-a9e4-c58c5cde0829/_delta_log/00000000000000000019.json",
         null,
         null,
         "ReadFile",
         4
        ],
        [
         "stsezsandbox07",
         "/stsezsandbox07/unity",
         null,
         null,
         "GetPathAccessControl",
         4
        ],
        [
         "stsezsandbox07",
         "/stsezsandbox07/unity/83ad2d11-1431-4eb5-8a3e-a26542faf5ac/tables/cf19f4d9-4527-4c9e-8b9f-76624443b9fe/_delta_log/00000000000000000000.json",
         null,
         null,
         "GetPathStatus",
         4
        ],
        [
         "stsezsandbox07",
         "/stsezsandbox07/unity/83ad2d11-1431-4eb5-8a3e-a26542faf5ac/tables/794d4d99-16ab-4bb9-a9e4-c58c5cde0829/_delta_log/00000000000000000008.json",
         null,
         null,
         "ReadFile",
         4
        ],
        [
         "stsezsandbox07",
         "/stsezsandbox07/unity/83ad2d11-1431-4eb5-8a3e-a26542faf5ac/tables/9ba815a2-5ecc-41ee-9f15-7ca779070272/part-00000-50dac75d-08ae-408a-9d98-fa0e7f96c467.c000.snappy.parquet",
         null,
         null,
         "ReadFile",
         4
        ],
        [
         "stsezsandbox07",
         "/stsezsandbox07/slog/checkpoints/vw_storage_log/sources/0",
         null,
         null,
         "GetPathStatus",
         4
        ],
        [
         "stsezsandbox07",
         "/stsezsandbox07/unity/83ad2d11-1431-4eb5-8a3e-a26542faf5ac/tables/fa77fedc-b2a1-4914-8455-d461701cb3ec/_delta_log/00000000000000000000.json",
         null,
         null,
         "GetPathStatus",
         4
        ],
        [
         "stsezsandbox07",
         "/stsezsandbox07/slog/checkpoints/vw_storage_log/metadata",
         null,
         null,
         "ReadFile",
         4
        ],
        [
         "stsezsandbox07",
         "/stsezsandbox07/slog/checkpoints/azure_raw_storage_log/sources/0/0",
         null,
         null,
         "ReadFile",
         4
        ],
        [
         "stsezsandbox07",
         "/stsezsandbox07/slog/checkpoints/vw_storage_log/offsets",
         null,
         null,
         "GetPathStatus",
         4
        ],
        [
         "stsezsandbox07",
         "/stsezsandbox07/slog/checkpoints/vw_storage_log/commits/7",
         null,
         null,
         "ReadFile",
         4
        ],
        [
         "stsezsandbox07",
         "/stsezsandbox07/slog/checkpoints/vw_storage_log/sources/0/0",
         null,
         null,
         "ReadFile",
         4
        ],
        [
         "stsezsandbox07",
         "/stsezsandbox07/slog/checkpoints/vw_storage_log/state",
         null,
         null,
         "GetPathStatus",
         4
        ],
        [
         "stsezsandbox07",
         "/stsezsandbox07/slog/checkpoints/vw_storage_log",
         null,
         null,
         "CreatePathDir",
         4
        ],
        [
         "stsezsandbox07",
         "/stsezsandbox07/slog/checkpoints/vw_storage_log/offsets/9",
         null,
         null,
         "ReadFile",
         4
        ],
        [
         "stsezsandbox07",
         "/stsezsandbox07/slog/checkpoints/azure_raw_storage_log/offsets/1",
         null,
         null,
         "ReadFile",
         4
        ],
        [
         "stsezsandbox07",
         "/stsezsandbox07/unity/83ad2d11-1431-4eb5-8a3e-a26542faf5ac/tables/467fcc5f-579a-4197-892b-163a22d88a6e/_delta_log/00000000000000000000.json",
         null,
         null,
         "GetPathStatus",
         4
        ],
        [
         "stsezsandbox07",
         "/stsezsandbox07/slog/_encryption_meta/manifest.json",
         null,
         null,
         "GetPathStatus",
         4
        ],
        [
         "stsezsandbox07",
         "/stsezsandbox07/slog/checkpoints/vw_storage_log/commits/7",
         null,
         null,
         "GetPathStatus",
         4
        ],
        [
         "stsezsandbox07",
         "/stsezsandbox07/unity/83ad2d11-1431-4eb5-8a3e-a26542faf5ac/tables/794d4d99-16ab-4bb9-a9e4-c58c5cde0829/_delta_log/00000000000000000017.json",
         null,
         null,
         "ReadFile",
         4
        ],
        [
         "stsezsandbox07",
         "/stsezsandbox07/slog/checkpoints/vw_storage_log/commits",
         null,
         null,
         "GetPathStatus",
         4
        ],
        [
         "stsezsandbox07",
         "/stsezsandbox07/unity/83ad2d11-1431-4eb5-8a3e-a26542faf5ac/tables/794d4d99-16ab-4bb9-a9e4-c58c5cde0829/part-00000-fb67a081-34c0-4acc-bb65-78bea239c9c1.c000.snappy.parquet",
         null,
         null,
         "ReadFile",
         3
        ],
        [
         "stsezsandbox07",
         "/stsezsandbox07/unity/83ad2d11-1431-4eb5-8a3e-a26542faf5ac/tables/9ba815a2-5ecc-41ee-9f15-7ca779070272/_delta_log/00000000000000000003.json",
         null,
         null,
         "ReadFile",
         3
        ],
        [
         "stsezsandbox07",
         "/stsezsandbox07/unity/83ad2d11-1431-4eb5-8a3e-a26542faf5ac/tables/9ba815a2-5ecc-41ee-9f15-7ca779070272/_delta_log/00000000000000000006.json",
         null,
         null,
         "ReadFile",
         3
        ],
        [
         "stsezsandbox07",
         "/stsezsandbox07/unity/83ad2d11-1431-4eb5-8a3e-a26542faf5ac/tables/467fcc5f-579a-4197-892b-163a22d88a6e/_delta_log/_last_checkpoint",
         null,
         null,
         "GetPathStatus",
         3
        ],
        [
         "stsezsandbox07",
         "/stsezsandbox07/slog/checkpoints/azure_raw_storage_log/commits/1",
         null,
         null,
         "GetPathStatus",
         3
        ],
        [
         "stsezsandbox07",
         "/stsezsandbox07/unity/83ad2d11-1431-4eb5-8a3e-a26542faf5ac/tables/fa77fedc-b2a1-4914-8455-d461701cb3ec/_delta_log/00000000000000000002.json",
         null,
         null,
         "GetPathStatus",
         3
        ],
        [
         "stsezsandbox07",
         "/stsezsandbox07/slog/checkpoints/azure_raw_storage_log/commits",
         null,
         null,
         "GetPathStatus",
         3
        ],
        [
         "stsezsandbox07",
         "/stsezsandbox07/slog/checkpoints/vw_storage_log/commits/8",
         null,
         null,
         "GetPathStatus",
         3
        ],
        [
         "stsezsandbox07",
         "/stsezsandbox07/unity/83ad2d11-1431-4eb5-8a3e-a26542faf5ac/tables/9ba815a2-5ecc-41ee-9f15-7ca779070272/_delta_log/00000000000000000005.json",
         null,
         null,
         "ReadFile",
         3
        ],
        [
         "stsezsandbox07",
         "/stsezsandbox07/unity/83ad2d11-1431-4eb5-8a3e-a26542faf5ac/tables/467fcc5f-579a-4197-892b-163a22d88a6e/_delta_log",
         null,
         null,
         "GetPathStatus",
         3
        ],
        [
         "stsezsandbox07",
         "/stsezsandbox07/unity/83ad2d11-1431-4eb5-8a3e-a26542faf5ac/tables/9ba815a2-5ecc-41ee-9f15-7ca779070272/_delta_log/00000000000000000002.crc",
         null,
         null,
         "ReadFile",
         3
        ],
        [
         "stsezsandbox07",
         "/stsezsandbox07/slog/checkpoints/azure_raw_storage_log",
         null,
         null,
         "CreatePathDir",
         3
        ],
        [
         "stsezsandbox07",
         "/stsezsandbox07/slog/checkpoints/vw_storage_log/commits/9",
         null,
         null,
         "GetPathStatus",
         3
        ],
        [
         "stsezsandbox07",
         "/stsezsandbox07/unity/83ad2d11-1431-4eb5-8a3e-a26542faf5ac/tables/9ba815a2-5ecc-41ee-9f15-7ca779070272/_delta_log/00000000000000000012.json",
         null,
         null,
         "ReadFile",
         3
        ],
        [
         "stsezsandbox07",
         "/stsezsandbox07/slog/checkpoints/azure_raw_storage_log/offsets",
         null,
         null,
         "GetPathStatus",
         3
        ],
        [
         "stsezsandbox07",
         "/stsezsandbox07/unity/83ad2d11-1431-4eb5-8a3e-a26542faf5ac/tables/9ba815a2-5ecc-41ee-9f15-7ca779070272/_delta_log/00000000000000000004.json",
         null,
         null,
         "ReadFile",
         3
        ],
        [
         "stsezsandbox07",
         "/stsezsandbox07/unity/83ad2d11-1431-4eb5-8a3e-a26542faf5ac/tables/cf19f4d9-4527-4c9e-8b9f-76624443b9fe/_delta_log/00000000000000000000.json",
         null,
         null,
         "ReadFile",
         3
        ],
        [
         "stsezsandbox07",
         "/stsezsandbox07/unity/83ad2d11-1431-4eb5-8a3e-a26542faf5ac/tables/fa77fedc-b2a1-4914-8455-d461701cb3ec/_delta_log/00000000000000000000.json",
         null,
         null,
         "ReadFile",
         3
        ],
        [
         "stsezsandbox07",
         "/stsezsandbox07/slog/checkpoints/azure_raw_storage_log/commits/0",
         null,
         null,
         "GetPathStatus",
         3
        ],
        [
         "stsezsandbox07",
         "/stsezsandbox07/slog/checkpoints/azure_raw_storage_log/state",
         null,
         null,
         "GetPathStatus",
         2
        ],
        [
         "stsezsandbox07",
         "/stsezsandbox07/unity/83ad2d11-1431-4eb5-8a3e-a26542faf5ac/tables/794d4d99-16ab-4bb9-a9e4-c58c5cde0829/_delta_log/00000000000000000009.json",
         null,
         null,
         "ReadFile",
         2
        ],
        [
         "stsezsandbox07",
         "/stsezsandbox07/unity/83ad2d11-1431-4eb5-8a3e-a26542faf5ac/tables/9ba815a2-5ecc-41ee-9f15-7ca779070272/_enzyme_log/1743761796970",
         null,
         null,
         "GetPathStatus",
         2
        ],
        [
         "stsezsandbox07",
         "/stsezsandbox07/slog/checkpoints/azure_raw_storage_log/commits/0",
         null,
         null,
         "ReadFile",
         2
        ],
        [
         "stsezsandbox07",
         "/stsezsandbox07/unity/83ad2d11-1431-4eb5-8a3e-a26542faf5ac/tables/9d30d2f8-34cf-4c9a-9ff9-f57a6c2e5fdd/_delta_log/00000000000000000001.json",
         null,
         null,
         "ReadFile",
         2
        ],
        [
         "stsezsandbox07",
         "/stsezsandbox07/unity/83ad2d11-1431-4eb5-8a3e-a26542faf5ac/tables/9ba815a2-5ecc-41ee-9f15-7ca779070272/part-00000-ed48634d-68e8-4ce0-8830-171810aa155f.c000.snappy.parquet",
         null,
         null,
         "GetPathStatus",
         2
        ],
        [
         "stsezsandbox07",
         "/stsezsandbox07/slog/checkpoints/vw_storage_log/offsets/6",
         null,
         null,
         "GetPathStatus",
         2
        ],
        [
         "stsezsandbox07",
         "/stsezsandbox07/unity/83ad2d11-1431-4eb5-8a3e-a26542faf5ac/tables/794d4d99-16ab-4bb9-a9e4-c58c5cde0829/part-00000-61fbb864-a1a0-4e8d-806e-e43ee014ea74.c000.snappy.parquet",
         null,
         null,
         "GetPathStatus",
         2
        ],
        [
         "stsezsandbox07",
         "/stsezsandbox07/unity/83ad2d11-1431-4eb5-8a3e-a26542faf5ac/tables/794d4d99-16ab-4bb9-a9e4-c58c5cde0829/part-00000-9937f921-2aae-4bbb-b078-146722d2fa92.c000.snappy.parquet",
         null,
         null,
         "GetPathStatus",
         2
        ],
        [
         "stsezsandbox07",
         "/stsezsandbox07/unity/83ad2d11-1431-4eb5-8a3e-a26542faf5ac/tables/9ba815a2-5ecc-41ee-9f15-7ca779070272/part-00000-cb469aa0-abe1-4269-ac38-f9fa6f1fda0d.c000.snappy.parquet",
         null,
         null,
         "GetPathStatus",
         2
        ],
        [
         "stsezsandbox07",
         "/stsezsandbox07/unity/83ad2d11-1431-4eb5-8a3e-a26542faf5ac/tables/cf19f4d9-4527-4c9e-8b9f-76624443b9fe/_delta_log",
         null,
         null,
         "GetPathStatus",
         2
        ],
        [
         "stsezsandbox07",
         "/stsezsandbox07/unity/83ad2d11-1431-4eb5-8a3e-a26542faf5ac/tables/fa77fedc-b2a1-4914-8455-d461701cb3ec/_delta_log/00000000000000000001.json",
         null,
         null,
         "ReadFile",
         2
        ],
        [
         "stsezsandbox07",
         "/stsezsandbox07/unity/83ad2d11-1431-4eb5-8a3e-a26542faf5ac/tables/794d4d99-16ab-4bb9-a9e4-c58c5cde0829/part-00000-04afc1d2-1449-47fe-b445-be3305be6e57.c000.snappy.parquet",
         null,
         null,
         "ReadFile",
         2
        ],
        [
         "stsezsandbox07",
         "/stsezsandbox07/unity/83ad2d11-1431-4eb5-8a3e-a26542faf5ac/tables/794d4d99-16ab-4bb9-a9e4-c58c5cde0829/part-00000-551e6949-dbb0-426d-9db7-7b6afe324764.c000.snappy.parquet",
         null,
         null,
         "GetPathStatus",
         2
        ],
        [
         "stsezsandbox07",
         "/stsezsandbox07/unity/83ad2d11-1431-4eb5-8a3e-a26542faf5ac/tables/9ba815a2-5ecc-41ee-9f15-7ca779070272/_enzyme_log/1743732981906",
         null,
         null,
         "ReadFile",
         2
        ],
        [
         "stsezsandbox07",
         "/stsezsandbox07/unity/83ad2d11-1431-4eb5-8a3e-a26542faf5ac/tables/467fcc5f-579a-4197-892b-163a22d88a6e",
         null,
         null,
         "GetPathStatus",
         2
        ],
        [
         "stsezsandbox07",
         "/stsezsandbox07/unity/83ad2d11-1431-4eb5-8a3e-a26542faf5ac/tables/9d30d2f8-34cf-4c9a-9ff9-f57a6c2e5fdd/_delta_log/00000000000000000000.json",
         null,
         null,
         "ReadFile",
         2
        ],
        [
         "stsezsandbox07",
         "/stsezsandbox07/slog/checkpoints/azure_raw_storage_log/metadata",
         null,
         null,
         "ReadFile",
         2
        ],
        [
         "stsezsandbox07",
         "/stsezsandbox07/unity/83ad2d11-1431-4eb5-8a3e-a26542faf5ac/tables/794d4d99-16ab-4bb9-a9e4-c58c5cde0829/part-00000-a245230e-197e-44a6-9ce1-8988a95fb9b9.c000.snappy.parquet",
         null,
         null,
         "ReadFile",
         2
        ],
        [
         "stsezsandbox07",
         "/stsezsandbox07/unity/83ad2d11-1431-4eb5-8a3e-a26542faf5ac/tables/794d4d99-16ab-4bb9-a9e4-c58c5cde0829/_delta_log/00000000000000000018.json",
         null,
         null,
         "ReadFile",
         2
        ],
        [
         "stsezsandbox07",
         "/stsezsandbox07/unity/83ad2d11-1431-4eb5-8a3e-a26542faf5ac/tables/9d30d2f8-34cf-4c9a-9ff9-f57a6c2e5fdd/_delta_log/00000000000000000001.crc",
         null,
         null,
         "ReadFile",
         2
        ],
        [
         "stsezsandbox07",
         "/stsezsandbox07/unity/83ad2d11-1431-4eb5-8a3e-a26542faf5ac/tables/fa77fedc-b2a1-4914-8455-d461701cb3ec/_delta_log",
         null,
         null,
         "GetPathStatus",
         2
        ],
        [
         "stsezsandbox07",
         "/stsezsandbox07/unity/83ad2d11-1431-4eb5-8a3e-a26542faf5ac/tables/794d4d99-16ab-4bb9-a9e4-c58c5cde0829/part-00000-7ede3b88-95ed-4b8b-bacc-54f07c5ecdfe.c000.snappy.parquet",
         null,
         null,
         "GetPathStatus",
         2
        ],
        [
         "stsezsandbox07",
         "/stsezsandbox07/$purview",
         null,
         null,
         "GetContainerProperties",
         2
        ],
        [
         "stsezsandbox07",
         "/stsezsandbox07/unity/83ad2d11-1431-4eb5-8a3e-a26542faf5ac/tables/fa77fedc-b2a1-4914-8455-d461701cb3ec",
         null,
         null,
         "GetPathStatus",
         2
        ],
        [
         "stsezsandbox07",
         "/stsezsandbox07/unity/83ad2d11-1431-4eb5-8a3e-a26542faf5ac/tables/9ba815a2-5ecc-41ee-9f15-7ca779070272/_enzyme_log/1743747385600",
         null,
         null,
         "ReadFile",
         2
        ],
        [
         "stsezsandbox07",
         "/stsezsandbox07/unity/83ad2d11-1431-4eb5-8a3e-a26542faf5ac/tables/9ba815a2-5ecc-41ee-9f15-7ca779070272/part-00000-6c2aa6d3-4249-40a9-bdbc-0693b2bc1ccc.c000.snappy.parquet",
         null,
         null,
         "GetPathStatus",
         2
        ],
        [
         "stsezsandbox07",
         "/stsezsandbox07/unity/83ad2d11-1431-4eb5-8a3e-a26542faf5ac/tables/cf19f4d9-4527-4c9e-8b9f-76624443b9fe",
         null,
         null,
         "GetPathStatus",
         2
        ],
        [
         "stsezsandbox07",
         "/stsezsandbox07/unity/83ad2d11-1431-4eb5-8a3e-a26542faf5ac/tables/cf19f4d9-4527-4c9e-8b9f-76624443b9fe/_delta_log/00000000000000000001.json",
         null,
         null,
         "ReadFile",
         2
        ],
        [
         "stsezsandbox07",
         "/stsezsandbox07/unity/83ad2d11-1431-4eb5-8a3e-a26542faf5ac/tables/794d4d99-16ab-4bb9-a9e4-c58c5cde0829/part-00000-864e10c8-dc46-441c-ada1-6d5d7c5ad4cc.c000.snappy.parquet",
         null,
         null,
         "GetPathStatus",
         2
        ],
        [
         "stsezsandbox07",
         "/stsezsandbox07/unity/83ad2d11-1431-4eb5-8a3e-a26542faf5ac/tables/794d4d99-16ab-4bb9-a9e4-c58c5cde0829/part-00000-cee95b55-b5f5-427e-a2ea-c97b36f1aa1e.c000.snappy.parquet",
         null,
         null,
         "GetPathStatus",
         2
        ],
        [
         "stsezsandbox07",
         "/stsezsandbox07/unity/83ad2d11-1431-4eb5-8a3e-a26542faf5ac/tables/9ba815a2-5ecc-41ee-9f15-7ca779070272/_enzyme_log/1743747385600",
         null,
         null,
         "GetPathStatus",
         2
        ],
        [
         "stsezsandbox07",
         "/stsezsandbox07/unity/83ad2d11-1431-4eb5-8a3e-a26542faf5ac/tables/794d4d99-16ab-4bb9-a9e4-c58c5cde0829/part-00000-f3f36f32-7605-4686-976b-6e24ad1ca2ca.c000.snappy.parquet",
         null,
         null,
         "ReadFile",
         2
        ],
        [
         "stsezsandbox07",
         "/stsezsandbox07/unity/83ad2d11-1431-4eb5-8a3e-a26542faf5ac/tables/794d4d99-16ab-4bb9-a9e4-c58c5cde0829/_delta_log/00000000000000000001.json",
         null,
         null,
         "ReadFile",
         2
        ],
        [
         "stsezsandbox07",
         "/stsezsandbox07/unity/83ad2d11-1431-4eb5-8a3e-a26542faf5ac/tables/467fcc5f-579a-4197-892b-163a22d88a6e/_delta_log/00000000000000000003.json",
         null,
         null,
         "GetPathStatus",
         2
        ],
        [
         "stsezsandbox07",
         "/stsezsandbox07/slog/checkpoints/azure_raw_storage_log/commits/1",
         null,
         null,
         "ReadFile",
         2
        ],
        [
         "stsezsandbox07",
         "/stsezsandbox07/unity/83ad2d11-1431-4eb5-8a3e-a26542faf5ac/tables/794d4d99-16ab-4bb9-a9e4-c58c5cde0829/part-00000-9937f921-2aae-4bbb-b078-146722d2fa92.c000.snappy.parquet",
         null,
         null,
         "ReadFile",
         2
        ],
        [
         "stsezsandbox07",
         "/stsezsandbox07/unity/83ad2d11-1431-4eb5-8a3e-a26542faf5ac/tables/794d4d99-16ab-4bb9-a9e4-c58c5cde0829/part-00000-e05e96ec-a9c8-4359-9a53-fe00709b4738.c000.snappy.parquet",
         null,
         null,
         "GetPathStatus",
         2
        ],
        [
         "stsezsandbox07",
         "/stsezsandbox07/unity/83ad2d11-1431-4eb5-8a3e-a26542faf5ac/tables/9ba815a2-5ecc-41ee-9f15-7ca779070272/_delta_log/00000000000000000006.crc",
         null,
         null,
         "ReadFile",
         2
        ],
        [
         "stsezsandbox07",
         "/stsezsandbox07/unity/83ad2d11-1431-4eb5-8a3e-a26542faf5ac/tables/794d4d99-16ab-4bb9-a9e4-c58c5cde0829/part-00000-a6d6dd3c-8683-465e-81c3-dcf409dd9838.c000.snappy.parquet",
         null,
         null,
         "GetPathStatus",
         2
        ],
        [
         "stsezsandbox07",
         "/stsezsandbox07/slog/checkpoints/vw_storage_log/commits/8",
         null,
         null,
         "ReadFile",
         2
        ],
        [
         "stsezsandbox07",
         "/stsezsandbox07/unity/83ad2d11-1431-4eb5-8a3e-a26542faf5ac/tables/9ba815a2-5ecc-41ee-9f15-7ca779070272/part-00000-07d004eb-b355-4255-8d00-95254fd23c91.c000.snappy.parquet",
         null,
         null,
         "GetPathStatus",
         2
        ],
        [
         "stsezsandbox07",
         "/stsezsandbox07/unity/83ad2d11-1431-4eb5-8a3e-a26542faf5ac/tables/794d4d99-16ab-4bb9-a9e4-c58c5cde0829/part-00000-080975ed-cccf-4b51-a5a8-c54f144300af.c000.snappy.parquet",
         null,
         null,
         "GetPathStatus",
         2
        ],
        [
         "stsezsandbox07",
         "/stsezsandbox07/unity/83ad2d11-1431-4eb5-8a3e-a26542faf5ac/tables/467fcc5f-579a-4197-892b-163a22d88a6e/part-00000-ac0025f8-9cba-414b-9c93-ecdda5d291ed.c000.snappy.parquet",
         null,
         null,
         "GetPathStatus",
         2
        ],
        [
         "stsezsandbox07",
         "/stsezsandbox07/unity/83ad2d11-1431-4eb5-8a3e-a26542faf5ac/tables/9ba815a2-5ecc-41ee-9f15-7ca779070272/part-00000-50dac75d-08ae-408a-9d98-fa0e7f96c467.c000.snappy.parquet",
         null,
         null,
         "GetPathStatus",
         2
        ],
        [
         "stsezsandbox07",
         "/stsezsandbox07/unity/83ad2d11-1431-4eb5-8a3e-a26542faf5ac/tables/cf19f4d9-4527-4c9e-8b9f-76624443b9fe/part-00000-f5fbc1b7-34ab-4581-afde-4db7a5946d37.c000.snappy.parquet",
         null,
         null,
         "GetPathStatus",
         2
        ],
        [
         "stsezsandbox07",
         "/stsezsandbox07/unity/83ad2d11-1431-4eb5-8a3e-a26542faf5ac/tables/794d4d99-16ab-4bb9-a9e4-c58c5cde0829/part-00000-8972e778-5a0a-48fc-858b-39b2c292d119.c000.snappy.parquet",
         null,
         null,
         "GetPathStatus",
         2
        ],
        [
         "stsezsandbox07",
         "/stsezsandbox07/unity/83ad2d11-1431-4eb5-8a3e-a26542faf5ac/tables/9ba815a2-5ecc-41ee-9f15-7ca779070272/_enzyme_log/1743776210944",
         null,
         null,
         "GetPathStatus",
         2
        ],
        [
         "stsezsandbox07",
         "/stsezsandbox07/unity/83ad2d11-1431-4eb5-8a3e-a26542faf5ac/tables/467fcc5f-579a-4197-892b-163a22d88a6e/part-00000-ac0025f8-9cba-414b-9c93-ecdda5d291ed.c000.snappy.parquet",
         null,
         null,
         "ReadFile",
         2
        ],
        [
         "stsezsandbox07",
         "/stsezsandbox07/unity/83ad2d11-1431-4eb5-8a3e-a26542faf5ac/tables/794d4d99-16ab-4bb9-a9e4-c58c5cde0829/_delta_log/00000000000000000020.json",
         null,
         null,
         "ReadFile",
         2
        ],
        [
         "stsezsandbox07",
         "/stsezsandbox07/slog/checkpoints/vw_storage_log/commits/9",
         null,
         null,
         "ReadFile",
         2
        ],
        [
         "stsezsandbox07",
         "/stsezsandbox07/unity/83ad2d11-1431-4eb5-8a3e-a26542faf5ac/tables/467fcc5f-579a-4197-892b-163a22d88a6e/_delta_log/00000000000000000002.json",
         null,
         null,
         "ReadFile",
         2
        ],
        [
         "stsezsandbox07",
         "/stsezsandbox07/unity/83ad2d11-1431-4eb5-8a3e-a26542faf5ac/tables/9ba815a2-5ecc-41ee-9f15-7ca779070272/_enzyme_log/1743776210944",
         null,
         null,
         "ReadFile",
         2
        ],
        [
         "stsezsandbox07",
         "/stsezsandbox07/unity/83ad2d11-1431-4eb5-8a3e-a26542faf5ac/tables/794d4d99-16ab-4bb9-a9e4-c58c5cde0829/part-00000-dd55e5b2-5a14-46b1-a7a9-6e65a9e62ced.c000.snappy.parquet",
         null,
         null,
         "GetPathStatus",
         2
        ],
        [
         "stsezsandbox07",
         "/stsezsandbox07/unity/83ad2d11-1431-4eb5-8a3e-a26542faf5ac/tables/9ba815a2-5ecc-41ee-9f15-7ca779070272/_enzyme_log/1743761796970",
         null,
         null,
         "ReadFile",
         2
        ],
        [
         "stsezsandbox07",
         "/stsezsandbox07/unity/83ad2d11-1431-4eb5-8a3e-a26542faf5ac/tables/cf19f4d9-4527-4c9e-8b9f-76624443b9fe/_delta_log/_last_checkpoint",
         null,
         null,
         "GetPathStatus",
         2
        ],
        [
         "stsezsandbox07",
         "/stsezsandbox07/unity/83ad2d11-1431-4eb5-8a3e-a26542faf5ac/tables/9ba815a2-5ecc-41ee-9f15-7ca779070272",
         null,
         null,
         "GetPathStatus",
         2
        ],
        [
         "stsezsandbox07",
         "/stsezsandbox07/unity/83ad2d11-1431-4eb5-8a3e-a26542faf5ac/tables/9d30d2f8-34cf-4c9a-9ff9-f57a6c2e5fdd/_delta_log/_last_checkpoint",
         null,
         null,
         "GetPathStatus",
         2
        ],
        [
         "stsezsandbox07",
         "/stsezsandbox07/unity/83ad2d11-1431-4eb5-8a3e-a26542faf5ac/tables/9ba815a2-5ecc-41ee-9f15-7ca779070272/part-00000-8117a56a-51d8-4405-b532-62928a1308c8.c000.snappy.parquet",
         null,
         null,
         "GetPathStatus",
         2
        ],
        [
         "stsezsandbox07",
         "/stsezsandbox07/unity/83ad2d11-1431-4eb5-8a3e-a26542faf5ac/tables/794d4d99-16ab-4bb9-a9e4-c58c5cde0829/part-00000-a245230e-197e-44a6-9ce1-8988a95fb9b9.c000.snappy.parquet",
         null,
         null,
         "GetPathStatus",
         2
        ],
        [
         "stsezsandbox07",
         "/stsezsandbox07/unity/83ad2d11-1431-4eb5-8a3e-a26542faf5ac/tables/9ba815a2-5ecc-41ee-9f15-7ca779070272/_enzyme_log/1743732981906",
         null,
         null,
         "GetPathStatus",
         2
        ],
        [
         "stsezsandbox07",
         "/stsezsandbox07/unity/83ad2d11-1431-4eb5-8a3e-a26542faf5ac/tables/fa77fedc-b2a1-4914-8455-d461701cb3ec/part-00000-3b80cd20-08f3-4584-9246-013a6b24a9ab.c000.snappy.parquet",
         null,
         null,
         "GetPathStatus",
         2
        ],
        [
         "stsezsandbox07",
         "/stsezsandbox07/unity/83ad2d11-1431-4eb5-8a3e-a26542faf5ac/tables/467fcc5f-579a-4197-892b-163a22d88a6e/_delta_log/__tmp_path_dir/.00000000000000000002.json.cafd8fae-eff5-401d-937c-e44c9084a537.tmp",
         null,
         null,
         "AppendFile",
         1
        ],
        [
         "stsezsandbox07",
         "/stsezsandbox07/unity/83ad2d11-1431-4eb5-8a3e-a26542faf5ac/tables/467fcc5f-579a-4197-892b-163a22d88a6e/_delta_log/00000000000000000000.crc",
         null,
         null,
         "RenamePathFile",
         1
        ],
        [
         "stsezsandbox07",
         "/stsezsandbox07/unity/83ad2d11-1431-4eb5-8a3e-a26542faf5ac/tables/794d4d99-16ab-4bb9-a9e4-c58c5cde0829/_delta_log/__tmp_path_dir/.00000000000000000002.json.6ea1d897-ab10-4d37-bee4-aa8ae006ebf4.tmp",
         null,
         null,
         "CreatePathFile",
         1
        ],
        [
         "stsezsandbox07",
         "/stsezsandbox07/unity/83ad2d11-1431-4eb5-8a3e-a26542faf5ac/tables/9ba815a2-5ecc-41ee-9f15-7ca779070272/_delta_log/00000000000000000011.json",
         null,
         null,
         "RenamePathFile",
         1
        ],
        [
         "stsezsandbox07",
         "/stsezsandbox07/unity/83ad2d11-1431-4eb5-8a3e-a26542faf5ac/tables/794d4d99-16ab-4bb9-a9e4-c58c5cde0829/_delta_log/__tmp_path_dir/.00000000000000000000.json.11a16977-d86f-4ae9-ae48-47981a3e9a40.tmp",
         null,
         null,
         "FlushFile",
         1
        ],
        [
         "stsezsandbox07",
         "/stsezsandbox07/unity/83ad2d11-1431-4eb5-8a3e-a26542faf5ac/tables/794d4d99-16ab-4bb9-a9e4-c58c5cde0829/_delta_log/00000000000000000000.json",
         null,
         null,
         "RenamePathFile",
         1
        ],
        [
         "stsezsandbox07",
         "/stsezsandbox07/unity/83ad2d11-1431-4eb5-8a3e-a26542faf5ac/tables/9ba815a2-5ecc-41ee-9f15-7ca779070272/_enzyme_log/1743732981906",
         null,
         null,
         "AppendFile",
         1
        ],
        [
         "stsezsandbox07",
         "/stsezsandbox07/unity/83ad2d11-1431-4eb5-8a3e-a26542faf5ac/tables/9ba815a2-5ecc-41ee-9f15-7ca779070272/_delta_log/__tmp_path_dir/.00000000000000000012.crc.cdf10512-f25b-4ce2-945e-e6ed3f738c25.tmp",
         null,
         null,
         "CreatePathFile",
         1
        ],
        [
         "stsezsandbox07",
         "/stsezsandbox07/unity/83ad2d11-1431-4eb5-8a3e-a26542faf5ac/tables/794d4d99-16ab-4bb9-a9e4-c58c5cde0829/_delta_log/00000000000000000007.json",
         null,
         null,
         "GetPathStatus",
         1
        ],
        [
         "stsezsandbox07",
         "/stsezsandbox07/unity/83ad2d11-1431-4eb5-8a3e-a26542faf5ac/tables/794d4d99-16ab-4bb9-a9e4-c58c5cde0829/_delta_log/00000000000000000001.json",
         null,
         null,
         "GetPathStatus",
         1
        ],
        [
         "stsezsandbox07",
         "/stsezsandbox07/unity/83ad2d11-1431-4eb5-8a3e-a26542faf5ac/tables/467fcc5f-579a-4197-892b-163a22d88a6e/_delta_log/__tmp_path_dir/.00000000000000000000.json.0f492888-e651-4cee-9bdf-c824bea2867f.tmp",
         null,
         null,
         "AppendFile",
         1
        ],
        [
         "stsezsandbox07",
         "/stsezsandbox07/unity/83ad2d11-1431-4eb5-8a3e-a26542faf5ac/tables/794d4d99-16ab-4bb9-a9e4-c58c5cde0829/_delta_log/__tmp_path_dir/.00000000000000000021.json.d4b3cb19-3a02-4bdc-853a-cb3774f1b811.tmp",
         null,
         null,
         "FlushFile",
         1
        ],
        [
         "stsezsandbox07",
         "/stsezsandbox07/slog/checkpoints/azure_raw_storage_log/commits/__tmp_path_dir/.2.f985b0a4-2d82-4365-ae2c-4b3c617d7a88.tmp",
         null,
         null,
         "FlushFile",
         1
        ],
        [
         "stsezsandbox07",
         "/stsezsandbox07/slog/checkpoints/azure_raw_storage_log/offsets/__tmp_path_dir/.0.a41b358d-196c-424d-9835-ed6ffdab2801.tmp",
         null,
         null,
         "FlushFile",
         1
        ],
        [
         "stsezsandbox07",
         "/stsezsandbox07/unity/83ad2d11-1431-4eb5-8a3e-a26542faf5ac/tables/794d4d99-16ab-4bb9-a9e4-c58c5cde0829/_delta_log/00000000000000000018.crc",
         null,
         null,
         "ReadFile",
         1
        ],
        [
         "stsezsandbox07",
         "/stsezsandbox07/unity/83ad2d11-1431-4eb5-8a3e-a26542faf5ac/tables/794d4d99-16ab-4bb9-a9e4-c58c5cde0829/_delta_log/__tmp_path_dir/.00000000000000000008.crc.f9a73950-a7ed-430f-9f2d-3fd6b1cc5817.tmp",
         null,
         null,
         "AppendFile",
         1
        ],
        [
         "stsezsandbox07",
         "/stsezsandbox07/unity/83ad2d11-1431-4eb5-8a3e-a26542faf5ac/tables/9ba815a2-5ecc-41ee-9f15-7ca779070272/_delta_log/00000000000000000012.crc",
         null,
         null,
         "ReadFile",
         1
        ],
        [
         "stsezsandbox07",
         "/stsezsandbox07/unity/83ad2d11-1431-4eb5-8a3e-a26542faf5ac/tables/794d4d99-16ab-4bb9-a9e4-c58c5cde0829/_delta_log/00000000000000000019.crc",
         null,
         null,
         "RenamePathFile",
         1
        ],
        [
         "stsezsandbox07",
         "/stsezsandbox07/slog/checkpoints/vw_storage_log/offsets/__tmp_path_dir/.9.bf9797d3-a4da-4c6f-9acc-5356dd478f1d.tmp",
         null,
         null,
         "AppendFile",
         1
        ],
        [
         "stsezsandbox07",
         "/stsezsandbox07/unity/83ad2d11-1431-4eb5-8a3e-a26542faf5ac/tables/794d4d99-16ab-4bb9-a9e4-c58c5cde0829/_delta_log/__tmp_path_dir/.00000000000000000008.crc.f9a73950-a7ed-430f-9f2d-3fd6b1cc5817.tmp",
         null,
         null,
         "FlushFile",
         1
        ],
        [
         "stsezsandbox07",
         "/stsezsandbox07/unity/83ad2d11-1431-4eb5-8a3e-a26542faf5ac/tables/794d4d99-16ab-4bb9-a9e4-c58c5cde0829/_delta_log/__tmp_path_dir/.00000000000000000002.crc.e333a000-3b8d-4ec9-9879-9b9dec06e670.tmp",
         null,
         null,
         "FlushFile",
         1
        ],
        [
         "stsezsandbox07",
         "/stsezsandbox07/unity/83ad2d11-1431-4eb5-8a3e-a26542faf5ac/tables/794d4d99-16ab-4bb9-a9e4-c58c5cde0829/_delta_log/00000000000000000002.crc",
         null,
         null,
         "RenamePathFile",
         1
        ],
        [
         "stsezsandbox07",
         "/stsezsandbox07/unity/83ad2d11-1431-4eb5-8a3e-a26542faf5ac/tables/794d4d99-16ab-4bb9-a9e4-c58c5cde0829/_delta_log/__tmp_path_dir/.00000000000000000007.crc.6259df60-2bc6-4369-9d18-44ecda912c50.tmp",
         null,
         null,
         "CreatePathFile",
         1
        ],
        [
         "stsezsandbox07",
         "/stsezsandbox07/unity/83ad2d11-1431-4eb5-8a3e-a26542faf5ac/tables/9ba815a2-5ecc-41ee-9f15-7ca779070272/_enzyme_log/1743776210944",
         null,
         null,
         "CreatePathFile",
         1
        ],
        [
         "stsezsandbox07",
         "/stsezsandbox07/unity/83ad2d11-1431-4eb5-8a3e-a26542faf5ac/tables/794d4d99-16ab-4bb9-a9e4-c58c5cde0829/_delta_log/__tmp_path_dir/.00000000000000000008.crc.f9a73950-a7ed-430f-9f2d-3fd6b1cc5817.tmp",
         null,
         null,
         "CreatePathFile",
         1
        ],
        [
         "stsezsandbox07",
         "/stsezsandbox07/slog/checkpoints/azure_raw_storage_log/sources/0/__tmp_path_dir/.0.2cc95f53-f5ef-4c88-ad12-4eae7fe1ccd3.tmp",
         null,
         null,
         "AppendFile",
         1
        ],
        [
         "stsezsandbox07",
         "/stsezsandbox07/slog/checkpoints/azure_raw_storage_log/sources/0/__tmp_path_dir/.0.2cc95f53-f5ef-4c88-ad12-4eae7fe1ccd3.tmp",
         null,
         null,
         "FlushFile",
         1
        ],
        [
         "stsezsandbox07",
         "/stsezsandbox07/unity/83ad2d11-1431-4eb5-8a3e-a26542faf5ac/tables/9ba815a2-5ecc-41ee-9f15-7ca779070272/_delta_log/00000000000000000007.json",
         null,
         null,
         "GetPathStatus",
         1
        ],
        [
         "stsezsandbox07",
         "/stsezsandbox07/gold",
         null,
         null,
         "ListBlobs",
         1
        ],
        [
         "stsezsandbox07",
         "/stsezsandbox07/unity/83ad2d11-1431-4eb5-8a3e-a26542faf5ac/tables/794d4d99-16ab-4bb9-a9e4-c58c5cde0829/_delta_log/__tmp_path_dir/.00000000000000000019.crc.9cf12812-a088-4285-83d9-d59c18d30492.tmp",
         null,
         null,
         "FlushFile",
         1
        ],
        [
         "stsezsandbox07",
         "/stsezsandbox07/unity/83ad2d11-1431-4eb5-8a3e-a26542faf5ac/tables/467fcc5f-579a-4197-892b-163a22d88a6e/_delta_log/00000000000000000002.json",
         null,
         null,
         "RenamePathFile",
         1
        ],
        [
         "stsezsandbox07",
         "/stsezsandbox07/unity/83ad2d11-1431-4eb5-8a3e-a26542faf5ac/tables/794d4d99-16ab-4bb9-a9e4-c58c5cde0829/_delta_log/__tmp_path_dir/.00000000000000000013.00000000000000000018.compacted.json.a3b1a6ab-d6ca-4434-8acd-27508cf2466c.tmp",
         null,
         null,
         "AppendFile",
         1
        ],
        [
         "stsezsandbox07",
         "/stsezsandbox07/unity/83ad2d11-1431-4eb5-8a3e-a26542faf5ac/tables/794d4d99-16ab-4bb9-a9e4-c58c5cde0829/_delta_log/00000000000000000006.crc",
         null,
         null,
         "ReadFile",
         1
        ],
        [
         "stsezsandbox07",
         "/stsezsandbox07/unity/83ad2d11-1431-4eb5-8a3e-a26542faf5ac/tables/794d4d99-16ab-4bb9-a9e4-c58c5cde0829/part-00000-dd55e5b2-5a14-46b1-a7a9-6e65a9e62ced.c000.snappy.parquet",
         null,
         null,
         "AppendFile",
         1
        ],
        [
         "stsezsandbox07",
         "/stsezsandbox07/unity/83ad2d11-1431-4eb5-8a3e-a26542faf5ac/tables/794d4d99-16ab-4bb9-a9e4-c58c5cde0829/_delta_log/__tmp_path_dir/.00000000000000000020.crc.fc26e608-4fc0-4f2f-866c-650f897bad08.tmp",
         null,
         null,
         "FlushFile",
         1
        ],
        [
         "stsezsandbox07",
         "/stsezsandbox07/unity/83ad2d11-1431-4eb5-8a3e-a26542faf5ac/tables/fa77fedc-b2a1-4914-8455-d461701cb3ec/part-00000-3b80cd20-08f3-4584-9246-013a6b24a9ab.c000.snappy.parquet",
         null,
         null,
         "CreatePathFile",
         1
        ],
        [
         "stsezsandbox07",
         "/stsezsandbox07/unity/83ad2d11-1431-4eb5-8a3e-a26542faf5ac/tables/794d4d99-16ab-4bb9-a9e4-c58c5cde0829/_delta_log/00000000000000000020.crc",
         null,
         null,
         "RenamePathFile",
         1
        ],
        [
         "stsezsandbox07",
         "/stsezsandbox07/unity/83ad2d11-1431-4eb5-8a3e-a26542faf5ac/tables/9ba815a2-5ecc-41ee-9f15-7ca779070272/_enzyme_log/1743761796970",
         null,
         null,
         "FlushFile",
         1
        ],
        [
         "stsezsandbox07",
         "/stsezsandbox07/unity/83ad2d11-1431-4eb5-8a3e-a26542faf5ac/tables/9ba815a2-5ecc-41ee-9f15-7ca779070272/_enzyme_log/1743790621812",
         null,
         null,
         "CreatePathFile",
         1
        ],
        [
         "stsezsandbox07",
         "/stsezsandbox07/unity/83ad2d11-1431-4eb5-8a3e-a26542faf5ac/tables/9ba815a2-5ecc-41ee-9f15-7ca779070272/part-00000-cb469aa0-abe1-4269-ac38-f9fa6f1fda0d.c000.snappy.parquet",
         null,
         null,
         "FlushFile",
         1
        ],
        [
         "stsezsandbox07",
         "/stsezsandbox07/slog/checkpoints/azure_raw_storage_log/commits/__tmp_path_dir/.0.386f06ea-a0c4-421d-9768-b16e1a11c072.tmp",
         null,
         null,
         "CreatePathFile",
         1
        ],
        [
         "stsezsandbox07",
         "/stsezsandbox07/unity/83ad2d11-1431-4eb5-8a3e-a26542faf5ac/tables/9ba815a2-5ecc-41ee-9f15-7ca779070272/_delta_log/__tmp_path_dir/.00000000000000000007.00000000000000000012.compacted.json.e1199165-4749-4d97-b5f3-d48579625bba.tmp",
         null,
         null,
         "AppendFile",
         1
        ],
        [
         "stsezsandbox07",
         "/stsezsandbox07/slog/checkpoints/vw_storage_log/commits/8",
         null,
         null,
         "RenamePathFile",
         1
        ],
        [
         "stsezsandbox07",
         "/stsezsandbox07/unity/83ad2d11-1431-4eb5-8a3e-a26542faf5ac/tables/794d4d99-16ab-4bb9-a9e4-c58c5cde0829/part-00000-a6d6dd3c-8683-465e-81c3-dcf409dd9838.c000.snappy.parquet",
         null,
         null,
         "AppendFile",
         1
        ],
        [
         "stsezsandbox07",
         "/stsezsandbox07/unity/83ad2d11-1431-4eb5-8a3e-a26542faf5ac/tables/794d4d99-16ab-4bb9-a9e4-c58c5cde0829/_delta_log/00000000000000000010.json",
         null,
         null,
         "ReadFile",
         1
        ],
        [
         "stsezsandbox07",
         "/stsezsandbox07/unity/83ad2d11-1431-4eb5-8a3e-a26542faf5ac/tables/9ba815a2-5ecc-41ee-9f15-7ca779070272/_delta_log/__tmp_path_dir/.00000000000000000007.00000000000000000012.compacted.json.e1199165-4749-4d97-b5f3-d48579625bba.tmp",
         null,
         null,
         "CreatePathFile",
         1
        ],
        [
         "stsezsandbox07",
         "/stsezsandbox07/slog/checkpoints/vw_storage_log/commits/__tmp_path_dir/.8.e0ef9f62-8c99-408c-b1fe-476831a0e88b.tmp",
         null,
         null,
         "AppendFile",
         1
        ],
        [
         "stsezsandbox07",
         "/stsezsandbox07/unity/83ad2d11-1431-4eb5-8a3e-a26542faf5ac/tables/fa77fedc-b2a1-4914-8455-d461701cb3ec/part-00000-3b80cd20-08f3-4584-9246-013a6b24a9ab.c000.snappy.parquet",
         null,
         null,
         "AppendFile",
         1
        ],
        [
         "stsezsandbox07",
         "/stsezsandbox07/unity/83ad2d11-1431-4eb5-8a3e-a26542faf5ac/tables/cf19f4d9-4527-4c9e-8b9f-76624443b9fe/_delta_log/__tmp_path_dir/.00000000000000000000.crc.2cd0cbdd-643f-4993-bfb2-41abde7f386c.tmp",
         null,
         null,
         "FlushFile",
         1
        ],
        [
         "stsezsandbox07",
         "/stsezsandbox07/slog/checkpoints/vw_storage_log/commits/__tmp_path_dir/.8.e0ef9f62-8c99-408c-b1fe-476831a0e88b.tmp",
         null,
         null,
         "FlushFile",
         1
        ],
        [
         "stsezsandbox07",
         "/stsezsandbox07/unity/83ad2d11-1431-4eb5-8a3e-a26542faf5ac/tables/794d4d99-16ab-4bb9-a9e4-c58c5cde0829/_delta_log/__tmp_path_dir/.00000000000000000013.00000000000000000018.compacted.json.a3b1a6ab-d6ca-4434-8acd-27508cf2466c.tmp",
         null,
         null,
         "CreatePathFile",
         1
        ],
        [
         "stsezsandbox07",
         "/stsezsandbox07/unity/83ad2d11-1431-4eb5-8a3e-a26542faf5ac/tables/fa77fedc-b2a1-4914-8455-d461701cb3ec/_delta_log/__tmp_path_dir/.00000000000000000001.crc.70ea51e1-e9bb-4027-a554-ced73d53d7b2.tmp",
         null,
         null,
         "FlushFile",
         1
        ],
        [
         "stsezsandbox07",
         "/stsezsandbox07/unity/83ad2d11-1431-4eb5-8a3e-a26542faf5ac/tables/794d4d99-16ab-4bb9-a9e4-c58c5cde0829/_delta_log/__tmp_path_dir/.00000000000000000018.crc.a0e491ea-d8ca-4775-a658-73cdacc773d1.tmp",
         null,
         null,
         "FlushFile",
         1
        ],
        [
         "stsezsandbox07",
         "/stsezsandbox07/unity/83ad2d11-1431-4eb5-8a3e-a26542faf5ac/tables/794d4d99-16ab-4bb9-a9e4-c58c5cde0829/_delta_log/__tmp_path_dir/.00000000000000000013.00000000000000000018.compacted.json.a3b1a6ab-d6ca-4434-8acd-27508cf2466c.tmp",
         null,
         null,
         "FlushFile",
         1
        ],
        [
         "stsezsandbox07",
         "/stsezsandbox07/slog/checkpoints/vw_storage_log/offsets/__tmp_path_dir/.9.bf9797d3-a4da-4c6f-9acc-5356dd478f1d.tmp",
         null,
         null,
         "FlushFile",
         1
        ],
        [
         "stsezsandbox07",
         "/stsezsandbox07/unity/83ad2d11-1431-4eb5-8a3e-a26542faf5ac/tables/9ba815a2-5ecc-41ee-9f15-7ca779070272/__enzyme_stats/stats.json",
         null,
         null,
         "GetBlob",
         1
        ],
        [
         "stsezsandbox07",
         "/stsezsandbox07/slog/checkpoints/azure_raw_storage_log/__tmp_path_dir/.metadata.360c1995-fc4e-43aa-9ee4-a798ea785c47.tmp",
         null,
         null,
         "CreatePathFile",
         1
        ],
        [
         "stsezsandbox07",
         "/stsezsandbox07/unity/83ad2d11-1431-4eb5-8a3e-a26542faf5ac/tables/794d4d99-16ab-4bb9-a9e4-c58c5cde0829/_delta_log/__tmp_path_dir/.00000000000000000019.json.a7e18c39-01c3-42f3-bea2-38fed2ca3c56.tmp",
         null,
         null,
         "CreatePathFile",
         1
        ],
        [
         "stsezsandbox07",
         "/stsezsandbox07/slog/checkpoints/azure_raw_storage_log/offsets/__tmp_path_dir/.1.1db4289c-c0aa-4382-92af-70e59e6f9666.tmp",
         null,
         null,
         "AppendFile",
         1
        ],
        [
         "stsezsandbox07",
         "/stsezsandbox07/unity/83ad2d11-1431-4eb5-8a3e-a26542faf5ac/tables/9ba815a2-5ecc-41ee-9f15-7ca779070272/_enzyme_log/1743732981906",
         null,
         null,
         "CreatePathFile",
         1
        ],
        [
         "stsezsandbox07",
         "/stsezsandbox07/slog/checkpoints/azure_raw_storage_log/offsets/__tmp_path_dir/.2.2d0d40cb-2754-472a-bf1b-4a08913fa3a0.tmp",
         null,
         null,
         "FlushFile",
         1
        ],
        [
         "stsezsandbox07",
         "/stsezsandbox07/unity/83ad2d11-1431-4eb5-8a3e-a26542faf5ac/tables/794d4d99-16ab-4bb9-a9e4-c58c5cde0829/_delta_log/__tmp_path_dir/.00000000000000000017.json.053c3bf3-47fb-43e9-9700-598ad9aa9a4e.tmp",
         null,
         null,
         "AppendFile",
         1
        ],
        [
         "stsezsandbox07",
         "/stsezsandbox07/slog/checkpoints/vw_storage_log/commits/10",
         null,
         null,
         "GetPathStatus",
         1
        ],
        [
         "stsezsandbox07",
         "/stsezsandbox07/unity/83ad2d11-1431-4eb5-8a3e-a26542faf5ac/tables/794d4d99-16ab-4bb9-a9e4-c58c5cde0829/_delta_log/__tmp_path_dir/.00000000000000000008.json.248360dd-1936-4e50-9a8c-759e6ddbc160.tmp",
         null,
         null,
         "CreatePathFile",
         1
        ],
        [
         "stsezsandbox07",
         "/stsezsandbox07/unity/83ad2d11-1431-4eb5-8a3e-a26542faf5ac/tables/9ba815a2-5ecc-41ee-9f15-7ca779070272/_delta_log/00000000000000000006.crc",
         null,
         null,
         "RenamePathFile",
         1
        ],
        [
         "stsezsandbox07",
         "/stsezsandbox07/unity/83ad2d11-1431-4eb5-8a3e-a26542faf5ac/tables/794d4d99-16ab-4bb9-a9e4-c58c5cde0829/_delta_log/__tmp_path_dir/.00000000000000000020.json.0d5e3660-8477-4765-adee-aa16fa3b53de.tmp",
         null,
         null,
         "FlushFile",
         1
        ],
        [
         "stsezsandbox07",
         "/stsezsandbox07/unity/83ad2d11-1431-4eb5-8a3e-a26542faf5ac/tables/467fcc5f-579a-4197-892b-163a22d88a6e",
         null,
         null,
         "CreatePathDir",
         1
        ],
        [
         "stsezsandbox07",
         "/stsezsandbox07/unity/83ad2d11-1431-4eb5-8a3e-a26542faf5ac/tables/794d4d99-16ab-4bb9-a9e4-c58c5cde0829",
         null,
         null,
         "CreatePathDir",
         1
        ],
        [
         "stsezsandbox07",
         "/stsezsandbox07/unity/83ad2d11-1431-4eb5-8a3e-a26542faf5ac/tables/794d4d99-16ab-4bb9-a9e4-c58c5cde0829/part-00000-a6d6dd3c-8683-465e-81c3-dcf409dd9838.c000.snappy.parquet",
         null,
         null,
         "CreatePathFile",
         1
        ],
        [
         "stsezsandbox07",
         "/stsezsandbox07/unity/83ad2d11-1431-4eb5-8a3e-a26542faf5ac/tables/794d4d99-16ab-4bb9-a9e4-c58c5cde0829/_delta_log/00000000000000000008.crc",
         null,
         null,
         "RenamePathFile",
         1
        ],
        [
         "stsezsandbox07",
         "/stsezsandbox07/unity/83ad2d11-1431-4eb5-8a3e-a26542faf5ac/tables/794d4d99-16ab-4bb9-a9e4-c58c5cde0829/_delta_log/__tmp_path_dir/.00000000000000000019.json.a7e18c39-01c3-42f3-bea2-38fed2ca3c56.tmp",
         null,
         null,
         "FlushFile",
         1
        ],
        [
         "stsezsandbox07",
         "/stsezsandbox07/unity/83ad2d11-1431-4eb5-8a3e-a26542faf5ac/tables/794d4d99-16ab-4bb9-a9e4-c58c5cde0829/_delta_log/__tmp_path_dir/.00000000000000000007.crc.6259df60-2bc6-4369-9d18-44ecda912c50.tmp",
         null,
         null,
         "FlushFile",
         1
        ],
        [
         "stsezsandbox07",
         "/stsezsandbox07/unity/83ad2d11-1431-4eb5-8a3e-a26542faf5ac/tables/794d4d99-16ab-4bb9-a9e4-c58c5cde0829/_delta_log/__tmp_path_dir/.00000000000000000018.json.7ed0317e-ead3-4a0e-9bf5-afc35954ecbe.tmp",
         null,
         null,
         "FlushFile",
         1
        ],
        [
         "stsezsandbox07",
         "/stsezsandbox07/unity/83ad2d11-1431-4eb5-8a3e-a26542faf5ac/tables/9ba815a2-5ecc-41ee-9f15-7ca779070272/_delta_log/__tmp_path_dir/.00000000000000000006.json.43fc4624-9abd-4a72-88a5-bada331a8d93.tmp",
         null,
         null,
         "CreatePathFile",
         1
        ],
        [
         "stsezsandbox07",
         "/stsezsandbox07/unity/83ad2d11-1431-4eb5-8a3e-a26542faf5ac/tables/9ba815a2-5ecc-41ee-9f15-7ca779070272/_delta_log/__tmp_path_dir/.00000000000000000007.crc.c004396b-aadb-44f3-8ccf-bcf736eb91eb.tmp",
         null,
         null,
         "AppendFile",
         1
        ],
        [
         "stsezsandbox07",
         "/stsezsandbox07/slog/checkpoints/azure_raw_storage_log/commits/__tmp_path_dir/.0.386f06ea-a0c4-421d-9768-b16e1a11c072.tmp",
         null,
         null,
         "FlushFile",
         1
        ],
        [
         "stsezsandbox07",
         "/stsezsandbox07/unity/83ad2d11-1431-4eb5-8a3e-a26542faf5ac/models/a3796001-dfb6-4faa-b295-8d3279c347ed/versions/0dc9097e-a1e6-4de0-8038-7a73f9025473/input_example.json",
         null,
         null,
         "GetBlob",
         1
        ],
        [
         "stsezsandbox07",
         "/stsezsandbox07/unity/83ad2d11-1431-4eb5-8a3e-a26542faf5ac/tables/9ba815a2-5ecc-41ee-9f15-7ca779070272/_enzyme_log/1743730575237",
         null,
         null,
         "GetPathStatus",
         1
        ],
        [
         "stsezsandbox07",
         "/stsezsandbox07/unity/83ad2d11-1431-4eb5-8a3e-a26542faf5ac/tables/9ba815a2-5ecc-41ee-9f15-7ca779070272/part-00000-6c2aa6d3-4249-40a9-bdbc-0693b2bc1ccc.c000.snappy.parquet",
         null,
         null,
         "FlushFile",
         1
        ],
        [
         "stsezsandbox07",
         "/stsezsandbox07/unity/83ad2d11-1431-4eb5-8a3e-a26542faf5ac/tables/794d4d99-16ab-4bb9-a9e4-c58c5cde0829/_delta_log/00000000000000000010.json",
         null,
         null,
         "GetPathStatus",
         1
        ],
        [
         "stsezsandbox07",
         "/stsezsandbox07/unity/83ad2d11-1431-4eb5-8a3e-a26542faf5ac/tables/794d4d99-16ab-4bb9-a9e4-c58c5cde0829/_delta_log/__tmp_path_dir/.00000000000000000016.crc.036fa83f-5c31-43ca-96b6-8412b276307c.tmp",
         null,
         null,
         "AppendFile",
         1
        ],
        [
         "stsezsandbox07",
         "/stsezsandbox07/unity/83ad2d11-1431-4eb5-8a3e-a26542faf5ac/tables/9ba815a2-5ecc-41ee-9f15-7ca779070272/_delta_log/__tmp_path_dir/.00000000000000000002.json.ed389850-38d0-4158-9803-a89ca1f5147e.tmp",
         null,
         null,
         "AppendFile",
         1
        ],
        [
         "stsezsandbox07",
         "/stsezsandbox07/unity/83ad2d11-1431-4eb5-8a3e-a26542faf5ac/tables/467fcc5f-579a-4197-892b-163a22d88a6e/_delta_log/00000000000000000001.crc",
         null,
         null,
         "RenamePathFile",
         1
        ],
        [
         "stsezsandbox07",
         "/stsezsandbox07/unity/83ad2d11-1431-4eb5-8a3e-a26542faf5ac/tables/9ba815a2-5ecc-41ee-9f15-7ca779070272/_delta_log/__tmp_path_dir/.00000000000000000010.json.5f981692-c6eb-4df0-915c-41146c046f54.tmp",
         null,
         null,
         "FlushFile",
         1
        ],
        [
         "stsezsandbox07",
         "/stsezsandbox07/unity/83ad2d11-1431-4eb5-8a3e-a26542faf5ac/tables/467fcc5f-579a-4197-892b-163a22d88a6e/_delta_log/__tmp_path_dir/.00000000000000000001.json.222e303b-5c3e-4b8f-bd60-d9661828a4ee.tmp",
         null,
         null,
         "AppendFile",
         1
        ],
        [
         "stsezsandbox07",
         "/stsezsandbox07/unity/83ad2d11-1431-4eb5-8a3e-a26542faf5ac/tables/9ba815a2-5ecc-41ee-9f15-7ca779070272/_delta_log/__tmp_path_dir/.00000000000000000002.crc.cb544da1-3dc3-4cc4-bdfa-4b314763eef6.tmp",
         null,
         null,
         "FlushFile",
         1
        ],
        [
         "stsezsandbox07",
         "/stsezsandbox07/unity/83ad2d11-1431-4eb5-8a3e-a26542faf5ac/tables/467fcc5f-579a-4197-892b-163a22d88a6e/_delta_log/00000000000000000002.crc",
         null,
         null,
         "RenamePathFile",
         1
        ],
        [
         "stsezsandbox07",
         "/stsezsandbox07/slog/checkpoints/vw_storage_log/commits/__tmp_path_dir/.10.2874b604-f2f7-417f-b567-db9a656c1729.tmp",
         null,
         null,
         "CreatePathFile",
         1
        ],
        [
         "stsezsandbox07",
         "/stsezsandbox07/unity/83ad2d11-1431-4eb5-8a3e-a26542faf5ac/tables/cf19f4d9-4527-4c9e-8b9f-76624443b9fe/_delta_log/_commits",
         null,
         null,
         "CreatePathDir",
         1
        ],
        [
         "stsezsandbox07",
         "/stsezsandbox07/unity/83ad2d11-1431-4eb5-8a3e-a26542faf5ac/tables/cf19f4d9-4527-4c9e-8b9f-76624443b9fe/_delta_log/__tmp_path_dir/.00000000000000000001.json.8b848b47-753f-4196-a607-fcd03fe1eeba.tmp",
         null,
         null,
         "CreatePathFile",
         1
        ],
        [
         "stsezsandbox07",
         "/stsezsandbox07/unity/83ad2d11-1431-4eb5-8a3e-a26542faf5ac/tables/794d4d99-16ab-4bb9-a9e4-c58c5cde0829/_delta_log/00000000000000000017.json",
         null,
         null,
         "RenamePathFile",
         1
        ],
        [
         "stsezsandbox07",
         "/stsezsandbox07/unity/83ad2d11-1431-4eb5-8a3e-a26542faf5ac/tables/794d4d99-16ab-4bb9-a9e4-c58c5cde0829/part-00000-dd55e5b2-5a14-46b1-a7a9-6e65a9e62ced.c000.snappy.parquet",
         null,
         null,
         "FlushFile",
         1
        ],
        [
         "stsezsandbox07",
         "/stsezsandbox07/pos-dev/models/5c3f3517-ace8-43e8-ad67-68d43fe6d57d/versions/d95a5ea4-9814-454a-ba76-8c43f013ba9c/requirements.txt",
         null,
         null,
         "GetBlob",
         1
        ],
        [
         "stsezsandbox07",
         "/stsezsandbox07/unity/83ad2d11-1431-4eb5-8a3e-a26542faf5ac/tables/9ba815a2-5ecc-41ee-9f15-7ca779070272/_delta_log/__tmp_path_dir/.00000000000000000012.crc.cdf10512-f25b-4ce2-945e-e6ed3f738c25.tmp",
         null,
         null,
         "AppendFile",
         1
        ],
        [
         "stsezsandbox07",
         "/stsezsandbox07/unity/83ad2d11-1431-4eb5-8a3e-a26542faf5ac/tables/9ba815a2-5ecc-41ee-9f15-7ca779070272/_delta_log/__tmp_path_dir/.00000000000000000000.crc.62c3d773-2fe3-428d-8cf0-51448e8d86eb.tmp",
         null,
         null,
         "CreatePathFile",
         1
        ],
        [
         "stsezsandbox07",
         "/stsezsandbox07/slog/checkpoints/azure_raw_storage_log/commits/2",
         null,
         null,
         "RenamePathFile",
         1
        ],
        [
         "stsezsandbox07",
         "/stsezsandbox07/unity/83ad2d11-1431-4eb5-8a3e-a26542faf5ac/tables/794d4d99-16ab-4bb9-a9e4-c58c5cde0829/_delta_log/__tmp_path_dir/.00000000000000000021.json.d4b3cb19-3a02-4bdc-853a-cb3774f1b811.tmp",
         null,
         null,
         "CreatePathFile",
         1
        ],
        [
         "stsezsandbox07",
         "/stsezsandbox07/unity/83ad2d11-1431-4eb5-8a3e-a26542faf5ac/tables/794d4d99-16ab-4bb9-a9e4-c58c5cde0829/_delta_log/__tmp_path_dir/.00000000000000000010.crc.911580b8-3130-491e-833c-3284e42f5760.tmp",
         null,
         null,
         "FlushFile",
         1
        ],
        [
         "stsezsandbox07",
         "/stsezsandbox07/unity/83ad2d11-1431-4eb5-8a3e-a26542faf5ac/tables/fa77fedc-b2a1-4914-8455-d461701cb3ec/_delta_log/00000000000000000000.json",
         null,
         null,
         "RenamePathFile",
         1
        ],
        [
         "stsezsandbox07",
         "/stsezsandbox07/unity/83ad2d11-1431-4eb5-8a3e-a26542faf5ac/tables/794d4d99-16ab-4bb9-a9e4-c58c5cde0829/_delta_log/00000000000000000009.json",
         null,
         null,
         "GetPathStatus",
         1
        ],
        [
         "stsezsandbox07",
         "/stsezsandbox07/unity/83ad2d11-1431-4eb5-8a3e-a26542faf5ac/tables/9ba815a2-5ecc-41ee-9f15-7ca779070272/_delta_log/__tmp_path_dir/.00000000000000000010.crc.a57dbcba-4bd6-4b43-bf10-01a0c12b1095.tmp",
         null,
         null,
         "FlushFile",
         1
        ],
        [
         "stsezsandbox07",
         "/stsezsandbox07/unity/83ad2d11-1431-4eb5-8a3e-a26542faf5ac/tables/9ba815a2-5ecc-41ee-9f15-7ca779070272/_delta_log/__tmp_path_dir/.00000000000000000001.json.510119c9-e2de-42e3-9182-0ccd3beb0e73.tmp",
         null,
         null,
         "FlushFile",
         1
        ],
        [
         "stsezsandbox07",
         "/stsezsandbox07/unity/83ad2d11-1431-4eb5-8a3e-a26542faf5ac/tables/794d4d99-16ab-4bb9-a9e4-c58c5cde0829/_delta_log/00000000000000000008.crc",
         null,
         null,
         "ReadFile",
         1
        ],
        [
         "stsezsandbox07",
         "/stsezsandbox07/unity/83ad2d11-1431-4eb5-8a3e-a26542faf5ac/tables/9ba815a2-5ecc-41ee-9f15-7ca779070272/_delta_log/__tmp_path_dir/.00000000000000000000.json.a942a71f-d5b5-4750-aa8f-07e5480dc83a.tmp",
         null,
         null,
         "AppendFile",
         1
        ],
        [
         "stsezsandbox07",
         "/stsezsandbox07/unity/83ad2d11-1431-4eb5-8a3e-a26542faf5ac/tables/467fcc5f-579a-4197-892b-163a22d88a6e/_delta_log/00000000000000000001.crc",
         null,
         null,
         "ReadFile",
         1
        ],
        [
         "stsezsandbox07",
         "/stsezsandbox07/unity/83ad2d11-1431-4eb5-8a3e-a26542faf5ac/tables/fa77fedc-b2a1-4914-8455-d461701cb3ec/_delta_log/__tmp_path_dir/.00000000000000000000.json.fbbe4d3e-7f4e-4ad6-bfb5-22238295cf68.tmp",
         null,
         null,
         "AppendFile",
         1
        ],
        [
         "stsezsandbox07",
         "/stsezsandbox07/slog/checkpoints/azure_raw_storage_log/offsets/1",
         null,
         null,
         "RenamePathFile",
         1
        ],
        [
         "stsezsandbox07",
         "/stsezsandbox07/unity/83ad2d11-1431-4eb5-8a3e-a26542faf5ac/tables/794d4d99-16ab-4bb9-a9e4-c58c5cde0829/part-00000-e05e96ec-a9c8-4359-9a53-fe00709b4738.c000.snappy.parquet",
         null,
         null,
         "FlushFile",
         1
        ],
        [
         "stsezsandbox07",
         "/stsezsandbox07/unity/83ad2d11-1431-4eb5-8a3e-a26542faf5ac/tables/fa77fedc-b2a1-4914-8455-d461701cb3ec/_delta_log/__tmp_path_dir/.00000000000000000000.crc.964a5993-8cf8-486f-93d0-4de2979dda14.tmp",
         null,
         null,
         "CreatePathFile",
         1
        ],
        [
         "stsezsandbox07",
         "/stsezsandbox07/unity/83ad2d11-1431-4eb5-8a3e-a26542faf5ac/tables/cf19f4d9-4527-4c9e-8b9f-76624443b9fe/_delta_log/00000000000000000001.json",
         null,
         null,
         "RenamePathFile",
         1
        ],
        [
         "stsezsandbox07",
         "/stsezsandbox07/silver",
         null,
         null,
         "ListBlobs",
         1
        ],
        [
         "stsezsandbox07",
         "/stsezsandbox07/unity/83ad2d11-1431-4eb5-8a3e-a26542faf5ac/tables/794d4d99-16ab-4bb9-a9e4-c58c5cde0829/part-00000-61fbb864-a1a0-4e8d-806e-e43ee014ea74.c000.snappy.parquet",
         null,
         null,
         "FlushFile",
         1
        ],
        [
         "stsezsandbox07",
         "/stsezsandbox07/unity/83ad2d11-1431-4eb5-8a3e-a26542faf5ac/tables/9ba815a2-5ecc-41ee-9f15-7ca779070272/_delta_log/__tmp_path_dir/.00000000000000000001.00000000000000000006.compacted.json.148322f5-12b7-4d4a-aa7c-4f4c929d4745.tmp",
         null,
         null,
         "CreatePathFile",
         1
        ],
        [
         "stsezsandbox07",
         "/stsezsandbox07/slog/checkpoints/azure_raw_storage_log/commits/2",
         null,
         null,
         "GetPathStatus",
         1
        ],
        [
         "stsezsandbox07",
         "/stsezsandbox07/slog/checkpoints/azure_raw_storage_log/commits/1",
         null,
         null,
         "RenamePathFile",
         1
        ],
        [
         "stsezsandbox07",
         "/stsezsandbox07/unity/83ad2d11-1431-4eb5-8a3e-a26542faf5ac/tables/9ba815a2-5ecc-41ee-9f15-7ca779070272/_delta_log/__tmp_path_dir/.00000000000000000011.json.e31b7c1f-2750-48a0-8ebc-0af551f50a83.tmp",
         null,
         null,
         "FlushFile",
         1
        ],
        [
         "stsezsandbox07",
         "/stsezsandbox07/unity/83ad2d11-1431-4eb5-8a3e-a26542faf5ac/tables/9ba815a2-5ecc-41ee-9f15-7ca779070272/_delta_log/00000000000000000001.json",
         null,
         null,
         "RenamePathFile",
         1
        ],
        [
         "stsezsandbox07",
         "/stsezsandbox07/unity/83ad2d11-1431-4eb5-8a3e-a26542faf5ac/tables/9ba815a2-5ecc-41ee-9f15-7ca779070272/_delta_log/__tmp_path_dir/.00000000000000000002.json.ed389850-38d0-4158-9803-a89ca1f5147e.tmp",
         null,
         null,
         "CreatePathFile",
         1
        ],
        [
         "stsezsandbox07",
         "/stsezsandbox07/unity/83ad2d11-1431-4eb5-8a3e-a26542faf5ac/tables/9ba815a2-5ecc-41ee-9f15-7ca779070272/_delta_log/__tmp_path_dir/.00000000000000000010.json.5f981692-c6eb-4df0-915c-41146c046f54.tmp",
         null,
         null,
         "CreatePathFile",
         1
        ],
        [
         "stsezsandbox07",
         "/stsezsandbox07/unity/83ad2d11-1431-4eb5-8a3e-a26542faf5ac/tables/9ba815a2-5ecc-41ee-9f15-7ca779070272/_delta_log/00000000000000000007.00000000000000000012.compacted.json",
         null,
         null,
         "ReadFile",
         1
        ],
        [
         "stsezsandbox07",
         "/stsezsandbox07/unity/83ad2d11-1431-4eb5-8a3e-a26542faf5ac/tables/794d4d99-16ab-4bb9-a9e4-c58c5cde0829/_delta_log/00000000000000000000.json",
         null,
         null,
         "GetPathStatus",
         1
        ],
        [
         "stsezsandbox07",
         "/stsezsandbox07/unity/83ad2d11-1431-4eb5-8a3e-a26542faf5ac/tables/794d4d99-16ab-4bb9-a9e4-c58c5cde0829/_delta_log/00000000000000000007.json",
         null,
         null,
         "RenamePathFile",
         1
        ],
        [
         "stsezsandbox07",
         "/stsezsandbox07/unity/83ad2d11-1431-4eb5-8a3e-a26542faf5ac/tables/9ba815a2-5ecc-41ee-9f15-7ca779070272/_delta_log/__tmp_path_dir/.00000000000000000006.crc.142ea08f-ed54-4fcc-993a-3d29d84f18b7.tmp",
         null,
         null,
         "AppendFile",
         1
        ],
        [
         "stsezsandbox07",
         "/stsezsandbox07/unity/83ad2d11-1431-4eb5-8a3e-a26542faf5ac/tables/794d4d99-16ab-4bb9-a9e4-c58c5cde0829/_delta_log/00000000000000000017.json",
         null,
         null,
         "GetPathStatus",
         1
        ],
        [
         "stsezsandbox07",
         "/stsezsandbox07/slog/checkpoints/azure_raw_storage_log/commits/__tmp_path_dir/.0.386f06ea-a0c4-421d-9768-b16e1a11c072.tmp",
         null,
         null,
         "AppendFile",
         1
        ],
        [
         "stsezsandbox07",
         "/stsezsandbox07/unity/83ad2d11-1431-4eb5-8a3e-a26542faf5ac/tables/9ba815a2-5ecc-41ee-9f15-7ca779070272/_enzyme_log/1743724403401",
         null,
         null,
         "FlushFile",
         1
        ],
        [
         "stsezsandbox07",
         "/stsezsandbox07/unity/83ad2d11-1431-4eb5-8a3e-a26542faf5ac/tables/9ba815a2-5ecc-41ee-9f15-7ca779070272/_delta_log/__tmp_path_dir/.00000000000000000002.json.ed389850-38d0-4158-9803-a89ca1f5147e.tmp",
         null,
         null,
         "FlushFile",
         1
        ],
        [
         "stsezsandbox07",
         "/stsezsandbox07/unity/83ad2d11-1431-4eb5-8a3e-a26542faf5ac/tables/467fcc5f-579a-4197-892b-163a22d88a6e/_delta_log/__tmp_path_dir/.00000000000000000000.crc.99178fa6-21a4-49e9-b081-5b725e01250e.tmp",
         null,
         null,
         "AppendFile",
         1
        ],
        [
         "stsezsandbox07",
         "/stsezsandbox07/unity/83ad2d11-1431-4eb5-8a3e-a26542faf5ac/tables/9ba815a2-5ecc-41ee-9f15-7ca779070272/_delta_log/__tmp_path_dir/.00000000000000000011.json.e31b7c1f-2750-48a0-8ebc-0af551f50a83.tmp",
         null,
         null,
         "CreatePathFile",
         1
        ],
        [
         "stsezsandbox07",
         "/stsezsandbox07/unity/83ad2d11-1431-4eb5-8a3e-a26542faf5ac/tables/9ba815a2-5ecc-41ee-9f15-7ca779070272/_enzyme_log/1743747385600",
         null,
         null,
         "AppendFile",
         1
        ],
        [
         "stsezsandbox07",
         "/stsezsandbox07/unity/83ad2d11-1431-4eb5-8a3e-a26542faf5ac/tables/794d4d99-16ab-4bb9-a9e4-c58c5cde0829/_delta_log/00000000000000000009.crc",
         null,
         null,
         "RenamePathFile",
         1
        ],
        [
         "stsezsandbox07",
         "/stsezsandbox07/raw",
         null,
         null,
         "ListBlobs",
         1
        ],
        [
         "stsezsandbox07",
         "/stsezsandbox07/slog/checkpoints/azure_raw_storage_log/__tmp_path_dir/.metadata.360c1995-fc4e-43aa-9ee4-a798ea785c47.tmp",
         null,
         null,
         "FlushFile",
         1
        ],
        [
         "stsezsandbox07",
         "/stsezsandbox07/unity/83ad2d11-1431-4eb5-8a3e-a26542faf5ac/tables/cf19f4d9-4527-4c9e-8b9f-76624443b9fe/_delta_log/__tmp_path_dir/.00000000000000000000.crc.2cd0cbdd-643f-4993-bfb2-41abde7f386c.tmp",
         null,
         null,
         "CreatePathFile",
         1
        ],
        [
         "stsezsandbox07",
         "/stsezsandbox07/unity/83ad2d11-1431-4eb5-8a3e-a26542faf5ac/tables/794d4d99-16ab-4bb9-a9e4-c58c5cde0829/part-00000-9937f921-2aae-4bbb-b078-146722d2fa92.c000.snappy.parquet",
         null,
         null,
         "CreatePathFile",
         1
        ],
        [
         "stsezsandbox07",
         "/stsezsandbox07/slog/checkpoints/vw_storage_log/commits/__tmp_path_dir/.9.0d4d48b4-5b55-451e-befe-4679deb2558d.tmp",
         null,
         null,
         "FlushFile",
         1
        ],
        [
         "stsezsandbox07",
         "/stsezsandbox07/unity/83ad2d11-1431-4eb5-8a3e-a26542faf5ac/tables/9ba815a2-5ecc-41ee-9f15-7ca779070272/part-00000-50dac75d-08ae-408a-9d98-fa0e7f96c467.c000.snappy.parquet",
         null,
         null,
         "AppendFile",
         1
        ],
        [
         "stsezsandbox07",
         "/stsezsandbox07/unity/83ad2d11-1431-4eb5-8a3e-a26542faf5ac/tables/794d4d99-16ab-4bb9-a9e4-c58c5cde0829/part-00000-551e6949-dbb0-426d-9db7-7b6afe324764.c000.snappy.parquet",
         null,
         null,
         "CreatePathFile",
         1
        ],
        [
         "stsezsandbox07",
         "/stsezsandbox07/unity/83ad2d11-1431-4eb5-8a3e-a26542faf5ac/tables/9ba815a2-5ecc-41ee-9f15-7ca779070272/_delta_log/00000000000000000002.json",
         null,
         null,
         "RenamePathFile",
         1
        ],
        [
         "stsezsandbox07",
         "/stsezsandbox07/unity/83ad2d11-1431-4eb5-8a3e-a26542faf5ac/tables/794d4d99-16ab-4bb9-a9e4-c58c5cde0829/_delta_log/__tmp_path_dir/.00000000000000000001.json.0f3e7ec3-b213-4514-a577-a0b01dd17e58.tmp",
         null,
         null,
         "CreatePathFile",
         1
        ],
        [
         "stsezsandbox07",
         "/stsezsandbox07/unity/83ad2d11-1431-4eb5-8a3e-a26542faf5ac/tables/9ba815a2-5ecc-41ee-9f15-7ca779070272/_delta_log/00000000000000000007.crc",
         null,
         null,
         "ReadFile",
         1
        ],
        [
         "stsezsandbox07",
         "/stsezsandbox07/unity/83ad2d11-1431-4eb5-8a3e-a26542faf5ac/tables/467fcc5f-579a-4197-892b-163a22d88a6e/_delta_log/__tmp_path_dir/.00000000000000000002.json.cafd8fae-eff5-401d-937c-e44c9084a537.tmp",
         null,
         null,
         "FlushFile",
         1
        ],
        [
         "stsezsandbox07",
         "/stsezsandbox07/unity/83ad2d11-1431-4eb5-8a3e-a26542faf5ac/tables/cf19f4d9-4527-4c9e-8b9f-76624443b9fe/part-00000-f5fbc1b7-34ab-4581-afde-4db7a5946d37.c000.snappy.parquet",
         null,
         null,
         "CreatePathFile",
         1
        ],
        [
         "stsezsandbox07",
         "/stsezsandbox07/unity/83ad2d11-1431-4eb5-8a3e-a26542faf5ac/tables/467fcc5f-579a-4197-892b-163a22d88a6e/_delta_log/_commits",
         null,
         null,
         "CreatePathDir",
         1
        ],
        [
         "stsezsandbox07",
         "/stsezsandbox07/unity/83ad2d11-1431-4eb5-8a3e-a26542faf5ac/tables/fa77fedc-b2a1-4914-8455-d461701cb3ec/_delta_log/__tmp_path_dir/.00000000000000000000.json.fbbe4d3e-7f4e-4ad6-bfb5-22238295cf68.tmp",
         null,
         null,
         "FlushFile",
         1
        ],
        [
         "stsezsandbox07",
         "/stsezsandbox07/slog/checkpoints/vw_storage_log/offsets/__tmp_path_dir/.10.4bae74c8-bc53-44ec-8aed-659d092a6a2f.tmp",
         null,
         null,
         "AppendFile",
         1
        ],
        [
         "stsezsandbox07",
         "/stsezsandbox07/unity/83ad2d11-1431-4eb5-8a3e-a26542faf5ac/tables/794d4d99-16ab-4bb9-a9e4-c58c5cde0829/part-00000-a245230e-197e-44a6-9ce1-8988a95fb9b9.c000.snappy.parquet",
         null,
         null,
         "AppendFile",
         1
        ],
        [
         "stsezsandbox07",
         "/stsezsandbox07/unity/83ad2d11-1431-4eb5-8a3e-a26542faf5ac/tables/794d4d99-16ab-4bb9-a9e4-c58c5cde0829/part-00000-080975ed-cccf-4b51-a5a8-c54f144300af.c000.snappy.parquet",
         null,
         null,
         "FlushFile",
         1
        ],
        [
         "stsezsandbox07",
         "/stsezsandbox07/unity/83ad2d11-1431-4eb5-8a3e-a26542faf5ac/tables/794d4d99-16ab-4bb9-a9e4-c58c5cde0829/part-00000-7ede3b88-95ed-4b8b-bacc-54f07c5ecdfe.c000.snappy.parquet",
         null,
         null,
         "CreatePathFile",
         1
        ],
        [
         "stsezsandbox07",
         "/stsezsandbox07/unity/83ad2d11-1431-4eb5-8a3e-a26542faf5ac/tables/9ba815a2-5ecc-41ee-9f15-7ca779070272/_enzyme_log/1743724403401",
         null,
         null,
         "AppendFile",
         1
        ],
        [
         "stsezsandbox07",
         "/stsezsandbox07/unity/83ad2d11-1431-4eb5-8a3e-a26542faf5ac/tables/794d4d99-16ab-4bb9-a9e4-c58c5cde0829/_delta_log/__tmp_path_dir/.00000000000000000010.json.3f07c14c-5fed-4231-a941-1bf66496cb72.tmp",
         null,
         null,
         "CreatePathFile",
         1
        ],
        [
         "stsezsandbox07",
         "/stsezsandbox07/unity/83ad2d11-1431-4eb5-8a3e-a26542faf5ac/tables/cf19f4d9-4527-4c9e-8b9f-76624443b9fe/_delta_log/__tmp_path_dir/.00000000000000000001.json.8b848b47-753f-4196-a607-fcd03fe1eeba.tmp",
         null,
         null,
         "FlushFile",
         1
        ],
        [
         "stsezsandbox07",
         "/stsezsandbox07/slog/checkpoints/vw_storage_log/offsets/10",
         null,
         null,
         "GetPathStatus",
         1
        ],
        [
         "stsezsandbox07",
         "/stsezsandbox07/slog/checkpoints/vw_storage_log/offsets/9",
         null,
         null,
         "RenamePathFile",
         1
        ],
        [
         "stsezsandbox07",
         "/stsezsandbox07/unity/83ad2d11-1431-4eb5-8a3e-a26542faf5ac/tables/cf19f4d9-4527-4c9e-8b9f-76624443b9fe",
         null,
         null,
         "CreatePathDir",
         1
        ],
        [
         "stsezsandbox07",
         "/stsezsandbox07/unity/83ad2d11-1431-4eb5-8a3e-a26542faf5ac/tables/794d4d99-16ab-4bb9-a9e4-c58c5cde0829/_delta_log/__tmp_path_dir/.00000000000000000009.crc.c40f55a0-dca7-48e0-a75f-ea99967898b9.tmp",
         null,
         null,
         "AppendFile",
         1
        ],
        [
         "stsezsandbox07",
         "/stsezsandbox07/unity/83ad2d11-1431-4eb5-8a3e-a26542faf5ac/tables/794d4d99-16ab-4bb9-a9e4-c58c5cde0829/_delta_log/__tmp_path_dir/.00000000000000000021.crc.fc71c375-4df0-471a-81c7-564e65a7a655.tmp",
         null,
         null,
         "CreatePathFile",
         1
        ],
        [
         "stsezsandbox07",
         "/stsezsandbox07/unity/83ad2d11-1431-4eb5-8a3e-a26542faf5ac/tables/9ba815a2-5ecc-41ee-9f15-7ca779070272/_delta_log/00000000000000000010.crc",
         null,
         null,
         "RenamePathFile",
         1
        ],
        [
         "stsezsandbox07",
         "/stsezsandbox07/unity/83ad2d11-1431-4eb5-8a3e-a26542faf5ac/tables/cf19f4d9-4527-4c9e-8b9f-76624443b9fe/_delta_log/__tmp_path_dir/.00000000000000000001.crc.6fd6965f-a9f8-4bb3-9184-f8937f799f50.tmp",
         null,
         null,
         "CreatePathFile",
         1
        ],
        [
         "stsezsandbox07",
         "/stsezsandbox07/unity/83ad2d11-1431-4eb5-8a3e-a26542faf5ac/tables/9ba815a2-5ecc-41ee-9f15-7ca779070272/_delta_log/__tmp_path_dir/.00000000000000000007.crc.c004396b-aadb-44f3-8ccf-bcf736eb91eb.tmp",
         null,
         null,
         "CreatePathFile",
         1
        ],
        [
         "stsezsandbox07",
         "/stsezsandbox07/unity/83ad2d11-1431-4eb5-8a3e-a26542faf5ac/tables/fa77fedc-b2a1-4914-8455-d461701cb3ec/_delta_log/00000000000000000000.crc",
         null,
         null,
         "RenamePathFile",
         1
        ],
        [
         "stsezsandbox07",
         "/stsezsandbox07/slog/checkpoints/azure_raw_storage_log/sources/0/__tmp_path_dir/.0.2cc95f53-f5ef-4c88-ad12-4eae7fe1ccd3.tmp",
         null,
         null,
         "CreatePathFile",
         1
        ],
        [
         "stsezsandbox07",
         "/stsezsandbox07/unity/83ad2d11-1431-4eb5-8a3e-a26542faf5ac/tables/794d4d99-16ab-4bb9-a9e4-c58c5cde0829/_delta_log/00000000000000000016.json",
         null,
         null,
         "RenamePathFile",
         1
        ],
        [
         "stsezsandbox07",
         "/stsezsandbox07/unity/83ad2d11-1431-4eb5-8a3e-a26542faf5ac/models/a3796001-dfb6-4faa-b295-8d3279c347ed/versions/0dc9097e-a1e6-4de0-8038-7a73f9025473/requirements.txt",
         null,
         null,
         "GetBlob",
         1
        ],
        [
         "stsezsandbox07",
         "/stsezsandbox07/unity/83ad2d11-1431-4eb5-8a3e-a26542faf5ac/tables/9ba815a2-5ecc-41ee-9f15-7ca779070272/_delta_log/00000000000000000002.crc",
         null,
         null,
         "RenamePathFile",
         1
        ],
        [
         "stsezsandbox07",
         "/stsezsandbox07/plant-safety",
         null,
         null,
         "ListBlobs",
         1
        ],
        [
         "stsezsandbox07",
         "/stsezsandbox07/slog/checkpoints/azure_raw_storage_log/offsets/0",
         null,
         null,
         "RenamePathFile",
         1
        ],
        [
         "stsezsandbox07",
         "/stsezsandbox07/unity/83ad2d11-1431-4eb5-8a3e-a26542faf5ac/tables/9ba815a2-5ecc-41ee-9f15-7ca779070272/__enzyme_stats",
         null,
         null,
         "CreatePathDir",
         1
        ],
        [
         "stsezsandbox07",
         "/stsezsandbox07/unity/83ad2d11-1431-4eb5-8a3e-a26542faf5ac/tables/9ba815a2-5ecc-41ee-9f15-7ca779070272/_delta_log/__tmp_path_dir/.00000000000000000001.00000000000000000006.compacted.json.148322f5-12b7-4d4a-aa7c-4f4c929d4745.tmp",
         null,
         null,
         "AppendFile",
         1
        ],
        [
         "stsezsandbox07",
         "/stsezsandbox07/unity/83ad2d11-1431-4eb5-8a3e-a26542faf5ac/tables/794d4d99-16ab-4bb9-a9e4-c58c5cde0829/_delta_log/__tmp_path_dir/.00000000000000000002.crc.e333a000-3b8d-4ec9-9879-9b9dec06e670.tmp",
         null,
         null,
         "AppendFile",
         1
        ],
        [
         "stsezsandbox07",
         "/stsezsandbox07/unity/83ad2d11-1431-4eb5-8a3e-a26542faf5ac/tables/794d4d99-16ab-4bb9-a9e4-c58c5cde0829/_delta_log/__tmp_path_dir/.00000000000000000002.json.6ea1d897-ab10-4d37-bee4-aa8ae006ebf4.tmp",
         null,
         null,
         "FlushFile",
         1
        ],
        [
         "stsezsandbox07",
         "/stsezsandbox07/unity/83ad2d11-1431-4eb5-8a3e-a26542faf5ac/tables/794d4d99-16ab-4bb9-a9e4-c58c5cde0829/_delta_log/00000000000000000016.crc",
         null,
         null,
         "RenamePathFile",
         1
        ],
        [
         "stsezsandbox07",
         "/stsezsandbox07/unity/83ad2d11-1431-4eb5-8a3e-a26542faf5ac/tables/9ba815a2-5ecc-41ee-9f15-7ca779070272/_delta_log/00000000000000000000.json",
         null,
         null,
         "GetPathStatus",
         1
        ],
        [
         "stsezsandbox07",
         "/stsezsandbox07/unity/83ad2d11-1431-4eb5-8a3e-a26542faf5ac/tables/9ba815a2-5ecc-41ee-9f15-7ca779070272/_delta_log/__tmp_path_dir/.00000000000000000001.crc.59fdf9e1-a2aa-45c1-bbe5-9c04febcd26e.tmp",
         null,
         null,
         "FlushFile",
         1
        ],
        [
         "stsezsandbox07",
         "/stsezsandbox07/unity/83ad2d11-1431-4eb5-8a3e-a26542faf5ac/tables/9ba815a2-5ecc-41ee-9f15-7ca779070272/_delta_log/__tmp_path_dir/.00000000000000000001.json.510119c9-e2de-42e3-9182-0ccd3beb0e73.tmp",
         null,
         null,
         "CreatePathFile",
         1
        ],
        [
         "stsezsandbox07",
         "/stsezsandbox07/unity/83ad2d11-1431-4eb5-8a3e-a26542faf5ac/tables/794d4d99-16ab-4bb9-a9e4-c58c5cde0829/_delta_log/__tmp_path_dir/.00000000000000000000.crc.42578906-2983-4f3d-94ce-caca4f93d636.tmp",
         null,
         null,
         "CreatePathFile",
         1
        ],
        [
         "stsezsandbox07",
         "/stsezsandbox07/unity/83ad2d11-1431-4eb5-8a3e-a26542faf5ac/tables/794d4d99-16ab-4bb9-a9e4-c58c5cde0829/_delta_log/__tmp_path_dir/.00000000000000000020.crc.fc26e608-4fc0-4f2f-866c-650f897bad08.tmp",
         null,
         null,
         "CreatePathFile",
         1
        ],
        [
         "stsezsandbox07",
         "/stsezsandbox07/unity/83ad2d11-1431-4eb5-8a3e-a26542faf5ac/tables/9ba815a2-5ecc-41ee-9f15-7ca779070272/_enzyme_log/1743776210944",
         null,
         null,
         "AppendFile",
         1
        ],
        [
         "stsezsandbox07",
         "/stsezsandbox07/unity/83ad2d11-1431-4eb5-8a3e-a26542faf5ac/models/a3796001-dfb6-4faa-b295-8d3279c347ed/versions/0dc9097e-a1e6-4de0-8038-7a73f9025473/serving_input_example.json",
         null,
         null,
         "GetBlob",
         1
        ],
        [
         "stsezsandbox07",
         "/stsezsandbox07/unity/83ad2d11-1431-4eb5-8a3e-a26542faf5ac/tables/794d4d99-16ab-4bb9-a9e4-c58c5cde0829/_delta_log/00000000000000000000.crc",
         null,
         null,
         "RenamePathFile",
         1
        ],
        [
         "stsezsandbox07",
         "/stsezsandbox07/unity/83ad2d11-1431-4eb5-8a3e-a26542faf5ac/tables/794d4d99-16ab-4bb9-a9e4-c58c5cde0829/_delta_log/00000000000000000021.json",
         null,
         null,
         "ReadFile",
         1
        ],
        [
         "stsezsandbox07",
         "/stsezsandbox07/unity/83ad2d11-1431-4eb5-8a3e-a26542faf5ac/tables/794d4d99-16ab-4bb9-a9e4-c58c5cde0829/_delta_log/__tmp_path_dir/.00000000000000000001.crc.59fcc589-4485-4131-97e2-020b23ec61cf.tmp",
         null,
         null,
         "FlushFile",
         1
        ],
        [
         "stsezsandbox07",
         "/stsezsandbox07/slog/checkpoints/azure_raw_storage_log/commits/__tmp_path_dir/.1.7fd6ce07-c429-47ce-b961-0fd17c45aebb.tmp",
         null,
         null,
         "AppendFile",
         1
        ],
        [
         "stsezsandbox07",
         "/stsezsandbox07/slog/checkpoints/vw_storage_log/commits/__tmp_path_dir/.9.0d4d48b4-5b55-451e-befe-4679deb2558d.tmp",
         null,
         null,
         "AppendFile",
         1
        ],
        [
         "stsezsandbox07",
         "/stsezsandbox07/slog/checkpoints/azure_raw_storage_log/__tmp_path_dir/.metadata.360c1995-fc4e-43aa-9ee4-a798ea785c47.tmp",
         null,
         null,
         "AppendFile",
         1
        ],
        [
         "stsezsandbox07",
         "/stsezsandbox07/unity/83ad2d11-1431-4eb5-8a3e-a26542faf5ac/tables/cf19f4d9-4527-4c9e-8b9f-76624443b9fe/_delta_log/__tmp_path_dir/.00000000000000000000.json.ec61cce0-7350-4334-bfab-a74c3323f8cc.tmp",
         null,
         null,
         "CreatePathFile",
         1
        ],
        [
         "stsezsandbox07",
         "/stsezsandbox07/unity/83ad2d11-1431-4eb5-8a3e-a26542faf5ac/tables/9ba815a2-5ecc-41ee-9f15-7ca779070272/_enzyme_log/1743790621812",
         null,
         null,
         "AppendFile",
         1
        ],
        [
         "stsezsandbox07",
         "/stsezsandbox07/unity/83ad2d11-1431-4eb5-8a3e-a26542faf5ac/tables/9ba815a2-5ecc-41ee-9f15-7ca779070272/_delta_log/__tmp_path_dir/.00000000000000000002.crc.cb544da1-3dc3-4cc4-bdfa-4b314763eef6.tmp",
         null,
         null,
         "CreatePathFile",
         1
        ],
        [
         "stsezsandbox07",
         "/stsezsandbox07/unity/83ad2d11-1431-4eb5-8a3e-a26542faf5ac/tables/794d4d99-16ab-4bb9-a9e4-c58c5cde0829/part-00000-dd55e5b2-5a14-46b1-a7a9-6e65a9e62ced.c000.snappy.parquet",
         null,
         null,
         "CreatePathFile",
         1
        ],
        [
         "stsezsandbox07",
         "/stsezsandbox07/unity/83ad2d11-1431-4eb5-8a3e-a26542faf5ac/tables/794d4d99-16ab-4bb9-a9e4-c58c5cde0829/part-00000-a245230e-197e-44a6-9ce1-8988a95fb9b9.c000.snappy.parquet",
         null,
         null,
         "CreatePathFile",
         1
        ],
        [
         "stsezsandbox07",
         "/stsezsandbox07/unity/83ad2d11-1431-4eb5-8a3e-a26542faf5ac/tables/9ba815a2-5ecc-41ee-9f15-7ca779070272/_enzyme_log/1743761796970",
         null,
         null,
         "CreatePathFile",
         1
        ],
        [
         "stsezsandbox07",
         "/stsezsandbox07/unity/83ad2d11-1431-4eb5-8a3e-a26542faf5ac/tables/fa77fedc-b2a1-4914-8455-d461701cb3ec/_delta_log/__tmp_path_dir/.00000000000000000001.json.bfe41438-cdef-4971-b9da-04725ccef6cb.tmp",
         null,
         null,
         "AppendFile",
         1
        ],
        [
         "stsezsandbox07",
         "/stsezsandbox07/unity/83ad2d11-1431-4eb5-8a3e-a26542faf5ac/tables/467fcc5f-579a-4197-892b-163a22d88a6e/_delta_log/__tmp_path_dir/.00000000000000000001.crc.679dfbfe-de23-47f1-9290-116a9f1cd46a.tmp",
         null,
         null,
         "AppendFile",
         1
        ],
        [
         "stsezsandbox07",
         "/stsezsandbox07/unity/83ad2d11-1431-4eb5-8a3e-a26542faf5ac/tables/fa77fedc-b2a1-4914-8455-d461701cb3ec/_delta_log/__tmp_path_dir/.00000000000000000001.crc.70ea51e1-e9bb-4027-a554-ced73d53d7b2.tmp",
         null,
         null,
         "CreatePathFile",
         1
        ],
        [
         "stsezsandbox07",
         "/stsezsandbox07/unity/83ad2d11-1431-4eb5-8a3e-a26542faf5ac/tables/9ba815a2-5ecc-41ee-9f15-7ca779070272/_delta_log/__tmp_path_dir/.00000000000000000007.00000000000000000012.compacted.json.e1199165-4749-4d97-b5f3-d48579625bba.tmp",
         null,
         null,
         "FlushFile",
         1
        ],
        [
         "stsezsandbox07",
         "/stsezsandbox07/slog/checkpoints/vw_storage_log/commits/__tmp_path_dir/.8.e0ef9f62-8c99-408c-b1fe-476831a0e88b.tmp",
         null,
         null,
         "CreatePathFile",
         1
        ],
        [
         "stsezsandbox07",
         "/stsezsandbox07/unity/83ad2d11-1431-4eb5-8a3e-a26542faf5ac/tables/cf19f4d9-4527-4c9e-8b9f-76624443b9fe/part-00000-f5fbc1b7-34ab-4581-afde-4db7a5946d37.c000.snappy.parquet",
         null,
         null,
         "ReadFile",
         1
        ],
        [
         "stsezsandbox07",
         "/stsezsandbox07/unity/83ad2d11-1431-4eb5-8a3e-a26542faf5ac/tables/794d4d99-16ab-4bb9-a9e4-c58c5cde0829/part-00000-8972e778-5a0a-48fc-858b-39b2c292d119.c000.snappy.parquet",
         null,
         null,
         "CreatePathFile",
         1
        ],
        [
         "stsezsandbox07",
         "/stsezsandbox07/unity/83ad2d11-1431-4eb5-8a3e-a26542faf5ac/tables/9ba815a2-5ecc-41ee-9f15-7ca779070272",
         null,
         null,
         "CreatePathDir",
         1
        ],
        [
         "stsezsandbox07",
         "/stsezsandbox07/unity/83ad2d11-1431-4eb5-8a3e-a26542faf5ac/tables/fa77fedc-b2a1-4914-8455-d461701cb3ec/_delta_log/__tmp_path_dir/.00000000000000000000.crc.964a5993-8cf8-486f-93d0-4de2979dda14.tmp",
         null,
         null,
         "AppendFile",
         1
        ],
        [
         "stsezsandbox07",
         "/stsezsandbox07/unity/83ad2d11-1431-4eb5-8a3e-a26542faf5ac/tables/9ba815a2-5ecc-41ee-9f15-7ca779070272/_delta_log/__tmp_path_dir/.00000000000000000002.crc.cb544da1-3dc3-4cc4-bdfa-4b314763eef6.tmp",
         null,
         null,
         "AppendFile",
         1
        ],
        [
         "stsezsandbox07",
         "/stsezsandbox07/unity/83ad2d11-1431-4eb5-8a3e-a26542faf5ac/tables/9ba815a2-5ecc-41ee-9f15-7ca779070272/_delta_log/__tmp_path_dir/.00000000000000000010.crc.a57dbcba-4bd6-4b43-bf10-01a0c12b1095.tmp",
         null,
         null,
         "CreatePathFile",
         1
        ],
        [
         "stsezsandbox07",
         "/stsezsandbox07/unity/83ad2d11-1431-4eb5-8a3e-a26542faf5ac/tables/794d4d99-16ab-4bb9-a9e4-c58c5cde0829/_delta_log/__tmp_path_dir/.00000000000000000020.json.0d5e3660-8477-4765-adee-aa16fa3b53de.tmp",
         null,
         null,
         "AppendFile",
         1
        ],
        [
         "stsezsandbox07",
         "/stsezsandbox07/unity/83ad2d11-1431-4eb5-8a3e-a26542faf5ac/tables/794d4d99-16ab-4bb9-a9e4-c58c5cde0829/part-00000-7ede3b88-95ed-4b8b-bacc-54f07c5ecdfe.c000.snappy.parquet",
         null,
         null,
         "FlushFile",
         1
        ],
        [
         "stsezsandbox07",
         "/stsezsandbox07/unity/83ad2d11-1431-4eb5-8a3e-a26542faf5ac/tables/794d4d99-16ab-4bb9-a9e4-c58c5cde0829/part-00000-551e6949-dbb0-426d-9db7-7b6afe324764.c000.snappy.parquet",
         null,
         null,
         "AppendFile",
         1
        ],
        [
         "stsezsandbox07",
         "/stsezsandbox07/unity/83ad2d11-1431-4eb5-8a3e-a26542faf5ac/tables/9ba815a2-5ecc-41ee-9f15-7ca779070272/_delta_log/00000000000000000002.json",
         null,
         null,
         "GetPathStatus",
         1
        ],
        [
         "stsezsandbox07",
         "/stsezsandbox07/unity/83ad2d11-1431-4eb5-8a3e-a26542faf5ac/tables/9ba815a2-5ecc-41ee-9f15-7ca779070272/_delta_log/__tmp_path_dir/.00000000000000000011.crc.ecc37723-8c96-4588-9ba8-25077c795a08.tmp",
         null,
         null,
         "CreatePathFile",
         1
        ],
        [
         "stsezsandbox07",
         "/stsezsandbox07/unity/83ad2d11-1431-4eb5-8a3e-a26542faf5ac/tables/794d4d99-16ab-4bb9-a9e4-c58c5cde0829/part-00000-8972e778-5a0a-48fc-858b-39b2c292d119.c000.snappy.parquet",
         null,
         null,
         "FlushFile",
         1
        ],
        [
         "stsezsandbox07",
         "/stsezsandbox07/unity/83ad2d11-1431-4eb5-8a3e-a26542faf5ac/tables/794d4d99-16ab-4bb9-a9e4-c58c5cde0829/_delta_log/__tmp_path_dir/.00000000000000000010.json.3f07c14c-5fed-4231-a941-1bf66496cb72.tmp",
         null,
         null,
         "FlushFile",
         1
        ],
        [
         "stsezsandbox07",
         "/stsezsandbox07/unity/83ad2d11-1431-4eb5-8a3e-a26542faf5ac/tables/794d4d99-16ab-4bb9-a9e4-c58c5cde0829/_delta_log/00000000000000000018.json",
         null,
         null,
         "GetPathStatus",
         1
        ],
        [
         "stsezsandbox07",
         "/stsezsandbox07/unity/83ad2d11-1431-4eb5-8a3e-a26542faf5ac/tables/9ba815a2-5ecc-41ee-9f15-7ca779070272/_enzyme_log/1743724403401",
         null,
         null,
         "ReadFile",
         1
        ],
        [
         "stsezsandbox07",
         "/stsezsandbox07/unity/83ad2d11-1431-4eb5-8a3e-a26542faf5ac/tables/794d4d99-16ab-4bb9-a9e4-c58c5cde0829/_delta_log/00000000000000000019.json",
         null,
         null,
         "RenamePathFile",
         1
        ],
        [
         "stsezsandbox07",
         "/stsezsandbox07/unity/83ad2d11-1431-4eb5-8a3e-a26542faf5ac/tables/467fcc5f-579a-4197-892b-163a22d88a6e/_delta_log/__tmp_path_dir/.00000000000000000001.json.222e303b-5c3e-4b8f-bd60-d9661828a4ee.tmp",
         null,
         null,
         "CreatePathFile",
         1
        ],
        [
         "stsezsandbox07",
         "/stsezsandbox07/unity/83ad2d11-1431-4eb5-8a3e-a26542faf5ac/tables/9ba815a2-5ecc-41ee-9f15-7ca779070272/_delta_log/__tmp_path_dir/.00000000000000000011.json.e31b7c1f-2750-48a0-8ebc-0af551f50a83.tmp",
         null,
         null,
         "AppendFile",
         1
        ],
        [
         "stsezsandbox07",
         "/stsezsandbox07/unity/83ad2d11-1431-4eb5-8a3e-a26542faf5ac/tables/467fcc5f-579a-4197-892b-163a22d88a6e/_delta_log/00000000000000000000.json",
         null,
         null,
         "RenamePathFile",
         1
        ],
        [
         "stsezsandbox07",
         "/stsezsandbox07/unity/83ad2d11-1431-4eb5-8a3e-a26542faf5ac/tables/794d4d99-16ab-4bb9-a9e4-c58c5cde0829/_delta_log/__tmp_path_dir/.00000000000000000019.crc.9cf12812-a088-4285-83d9-d59c18d30492.tmp",
         null,
         null,
         "CreatePathFile",
         1
        ],
        [
         "stsezsandbox07",
         "/stsezsandbox07/unity/83ad2d11-1431-4eb5-8a3e-a26542faf5ac/tables/9ba815a2-5ecc-41ee-9f15-7ca779070272/_delta_log/00000000000000000007.00000000000000000012.compacted.json",
         null,
         null,
         "GetPathStatus",
         1
        ],
        [
         "stsezsandbox07",
         "/stsezsandbox07/unity/83ad2d11-1431-4eb5-8a3e-a26542faf5ac/tables/9ba815a2-5ecc-41ee-9f15-7ca779070272/_delta_log/00000000000000000000.json",
         null,
         null,
         "RenamePathFile",
         1
        ],
        [
         "stsezsandbox07",
         "/stsezsandbox07/unity/83ad2d11-1431-4eb5-8a3e-a26542faf5ac/tables/794d4d99-16ab-4bb9-a9e4-c58c5cde0829/_delta_log/__tmp_path_dir/.00000000000000000018.json.7ed0317e-ead3-4a0e-9bf5-afc35954ecbe.tmp",
         null,
         null,
         "AppendFile",
         1
        ],
        [
         "stsezsandbox07",
         "/stsezsandbox07/unity/83ad2d11-1431-4eb5-8a3e-a26542faf5ac/tables/794d4d99-16ab-4bb9-a9e4-c58c5cde0829/_delta_log/00000000000000000019.json",
         null,
         null,
         "GetPathStatus",
         1
        ],
        [
         "stsezsandbox07",
         "/stsezsandbox07/unity/83ad2d11-1431-4eb5-8a3e-a26542faf5ac/tables/9ba815a2-5ecc-41ee-9f15-7ca779070272/_delta_log/__tmp_path_dir/.00000000000000000001.json.510119c9-e2de-42e3-9182-0ccd3beb0e73.tmp",
         null,
         null,
         "AppendFile",
         1
        ],
        [
         "stsezsandbox07",
         "/stsezsandbox07/unity/83ad2d11-1431-4eb5-8a3e-a26542faf5ac/tables/9ba815a2-5ecc-41ee-9f15-7ca779070272/_delta_log/__tmp_path_dir/.00000000000000000012.json.b47a53c6-b470-4fb2-8f88-055a7da524ba.tmp",
         null,
         null,
         "FlushFile",
         1
        ],
        [
         "stsezsandbox07",
         "/stsezsandbox07/unity/83ad2d11-1431-4eb5-8a3e-a26542faf5ac/tables/9ba815a2-5ecc-41ee-9f15-7ca779070272/_delta_log/__tmp_path_dir/.00000000000000000000.json.a942a71f-d5b5-4750-aa8f-07e5480dc83a.tmp",
         null,
         null,
         "FlushFile",
         1
        ],
        [
         "stsezsandbox07",
         "/stsezsandbox07/unity/83ad2d11-1431-4eb5-8a3e-a26542faf5ac/tables/794d4d99-16ab-4bb9-a9e4-c58c5cde0829/_delta_log/__tmp_path_dir/.00000000000000000010.crc.911580b8-3130-491e-833c-3284e42f5760.tmp",
         null,
         null,
         "AppendFile",
         1
        ],
        [
         "stsezsandbox07",
         "/stsezsandbox07/unity/83ad2d11-1431-4eb5-8a3e-a26542faf5ac/tables/794d4d99-16ab-4bb9-a9e4-c58c5cde0829/_delta_log/__tmp_path_dir/.00000000000000000007.json.5e08e361-a2e4-4308-b7c2-c6de44714c63.tmp",
         null,
         null,
         "CreatePathFile",
         1
        ],
        [
         "stsezsandbox07",
         "/stsezsandbox07/unity/83ad2d11-1431-4eb5-8a3e-a26542faf5ac/tables/794d4d99-16ab-4bb9-a9e4-c58c5cde0829/_delta_log/00000000000000000017.crc",
         null,
         null,
         "RenamePathFile",
         1
        ],
        [
         "stsezsandbox07",
         "/stsezsandbox07/unity/83ad2d11-1431-4eb5-8a3e-a26542faf5ac/tables/9ba815a2-5ecc-41ee-9f15-7ca779070272/_delta_log/__tmp_path_dir/.00000000000000000000.crc.62c3d773-2fe3-428d-8cf0-51448e8d86eb.tmp",
         null,
         null,
         "FlushFile",
         1
        ],
        [
         "stsezsandbox07",
         "/stsezsandbox07/slog/checkpoints/azure_raw_storage_log/commits/__tmp_path_dir/.2.f985b0a4-2d82-4365-ae2c-4b3c617d7a88.tmp",
         null,
         null,
         "AppendFile",
         1
        ],
        [
         "stsezsandbox07",
         "/stsezsandbox07/unity/83ad2d11-1431-4eb5-8a3e-a26542faf5ac/tables/9ba815a2-5ecc-41ee-9f15-7ca779070272/_enzyme_log/1743790621812",
         null,
         null,
         "GetPathStatus",
         1
        ],
        [
         "stsezsandbox07",
         "/stsezsandbox07/unity/83ad2d11-1431-4eb5-8a3e-a26542faf5ac/tables/9ba815a2-5ecc-41ee-9f15-7ca779070272/_delta_log/00000000000000000012.json",
         null,
         null,
         "GetPathStatus",
         1
        ],
        [
         "stsezsandbox07",
         "/stsezsandbox07/unity/83ad2d11-1431-4eb5-8a3e-a26542faf5ac/tables/794d4d99-16ab-4bb9-a9e4-c58c5cde0829/_delta_log/00000000000000000013.00000000000000000018.compacted.json",
         null,
         null,
         "GetPathStatus",
         1
        ],
        [
         "stsezsandbox07",
         "/stsezsandbox07/dev",
         null,
         null,
         "ListBlobs",
         1
        ],
        [
         "stsezsandbox07",
         "/stsezsandbox07/slog/checkpoints/vw_storage_log/commits/9",
         null,
         null,
         "RenamePathFile",
         1
        ],
        [
         "stsezsandbox07",
         "/stsezsandbox07/unity/83ad2d11-1431-4eb5-8a3e-a26542faf5ac/tables/9ba815a2-5ecc-41ee-9f15-7ca779070272/_delta_log/__tmp_path_dir/.00000000000000000010.json.5f981692-c6eb-4df0-915c-41146c046f54.tmp",
         null,
         null,
         "AppendFile",
         1
        ],
        [
         "stsezsandbox07",
         "/stsezsandbox07/unity/83ad2d11-1431-4eb5-8a3e-a26542faf5ac/tables/794d4d99-16ab-4bb9-a9e4-c58c5cde0829/part-00000-864e10c8-dc46-441c-ada1-6d5d7c5ad4cc.c000.snappy.parquet",
         null,
         null,
         "FlushFile",
         1
        ],
        [
         "stsezsandbox07",
         "/stsezsandbox07/unity/83ad2d11-1431-4eb5-8a3e-a26542faf5ac/tables/9ba815a2-5ecc-41ee-9f15-7ca779070272/part-00000-07d004eb-b355-4255-8d00-95254fd23c91.c000.snappy.parquet",
         null,
         null,
         "CreatePathFile",
         1
        ],
        [
         "stsezsandbox07",
         "/stsezsandbox07/unity/83ad2d11-1431-4eb5-8a3e-a26542faf5ac/tables/9ba815a2-5ecc-41ee-9f15-7ca779070272/_delta_log/__tmp_path_dir/.00000000000000000006.json.43fc4624-9abd-4a72-88a5-bada331a8d93.tmp",
         null,
         null,
         "FlushFile",
         1
        ],
        [
         "stsezsandbox07",
         "/stsezsandbox07/unity/83ad2d11-1431-4eb5-8a3e-a26542faf5ac/tables/9ba815a2-5ecc-41ee-9f15-7ca779070272/_enzyme_log/1743730575237",
         null,
         null,
         "ReadFile",
         1
        ],
        [
         "stsezsandbox07",
         "/stsezsandbox07/slog/checkpoints/azure_raw_storage_log/commits/__tmp_path_dir/.1.7fd6ce07-c429-47ce-b961-0fd17c45aebb.tmp",
         null,
         null,
         "FlushFile",
         1
        ],
        [
         "stsezsandbox07",
         "/stsezsandbox07/slog/checkpoints/azure_raw_storage_log/offsets/2",
         null,
         null,
         "GetPathStatus",
         1
        ],
        [
         "stsezsandbox07",
         "/stsezsandbox07/slog/checkpoints/vw_storage_log/offsets/__tmp_path_dir/.8.d2499a5e-9005-4dce-8cc6-8c96180318ce.tmp",
         null,
         null,
         "AppendFile",
         1
        ],
        [
         "stsezsandbox07",
         "/stsezsandbox07/unity/83ad2d11-1431-4eb5-8a3e-a26542faf5ac/tables/9ba815a2-5ecc-41ee-9f15-7ca779070272/_delta_log/00000000000000000010.json",
         null,
         null,
         "RenamePathFile",
         1
        ],
        [
         "stsezsandbox07",
         "/stsezsandbox07/unity/83ad2d11-1431-4eb5-8a3e-a26542faf5ac/tables/794d4d99-16ab-4bb9-a9e4-c58c5cde0829/_delta_log/__tmp_path_dir/.00000000000000000008.json.248360dd-1936-4e50-9a8c-759e6ddbc160.tmp",
         null,
         null,
         "FlushFile",
         1
        ],
        [
         "stsezsandbox07",
         "/stsezsandbox07/unity/83ad2d11-1431-4eb5-8a3e-a26542faf5ac/tables/794d4d99-16ab-4bb9-a9e4-c58c5cde0829/_delta_log/__tmp_path_dir/.00000000000000000007.json.5e08e361-a2e4-4308-b7c2-c6de44714c63.tmp",
         null,
         null,
         "AppendFile",
         1
        ],
        [
         "stsezsandbox07",
         "/stsezsandbox07/unity/83ad2d11-1431-4eb5-8a3e-a26542faf5ac/tables/794d4d99-16ab-4bb9-a9e4-c58c5cde0829/part-00000-a245230e-197e-44a6-9ce1-8988a95fb9b9.c000.snappy.parquet",
         null,
         null,
         "FlushFile",
         1
        ],
        [
         "stsezsandbox07",
         "/stsezsandbox07/unity/83ad2d11-1431-4eb5-8a3e-a26542faf5ac/tables/794d4d99-16ab-4bb9-a9e4-c58c5cde0829/part-00000-080975ed-cccf-4b51-a5a8-c54f144300af.c000.snappy.parquet",
         null,
         null,
         "CreatePathFile",
         1
        ],
        [
         "stsezsandbox07",
         "/stsezsandbox07/slog/checkpoints/azure_raw_storage_log/commits/0",
         null,
         null,
         "RenamePathFile",
         1
        ],
        [
         "stsezsandbox07",
         "/stsezsandbox07/unity/83ad2d11-1431-4eb5-8a3e-a26542faf5ac/tables/9ba815a2-5ecc-41ee-9f15-7ca779070272/_delta_log/__tmp_path_dir/.00000000000000000007.crc.c004396b-aadb-44f3-8ccf-bcf736eb91eb.tmp",
         null,
         null,
         "FlushFile",
         1
        ],
        [
         "stsezsandbox07",
         "/stsezsandbox07/unity/83ad2d11-1431-4eb5-8a3e-a26542faf5ac/tables/794d4d99-16ab-4bb9-a9e4-c58c5cde0829/_delta_log/__tmp_path_dir/.00000000000000000008.json.248360dd-1936-4e50-9a8c-759e6ddbc160.tmp",
         null,
         null,
         "AppendFile",
         1
        ],
        [
         "stsezsandbox07",
         "/stsezsandbox07/unity/83ad2d11-1431-4eb5-8a3e-a26542faf5ac/tables/9ba815a2-5ecc-41ee-9f15-7ca779070272/part-00000-07d004eb-b355-4255-8d00-95254fd23c91.c000.snappy.parquet",
         null,
         null,
         "AppendFile",
         1
        ],
        [
         "stsezsandbox07",
         "/stsezsandbox07/unity/83ad2d11-1431-4eb5-8a3e-a26542faf5ac/tables/794d4d99-16ab-4bb9-a9e4-c58c5cde0829/_delta_log/__tmp_path_dir/.00000000000000000002.crc.e333a000-3b8d-4ec9-9879-9b9dec06e670.tmp",
         null,
         null,
         "CreatePathFile",
         1
        ],
        [
         "stsezsandbox07",
         "/stsezsandbox07/unity/83ad2d11-1431-4eb5-8a3e-a26542faf5ac/tables/794d4d99-16ab-4bb9-a9e4-c58c5cde0829/_delta_log/__tmp_path_dir/.00000000000000000009.json.de0df304-c725-4f9d-9622-708aa6b88ce5.tmp",
         null,
         null,
         "CreatePathFile",
         1
        ],
        [
         "stsezsandbox07",
         "/stsezsandbox07/slog/checkpoints/vw_storage_log/offsets/__tmp_path_dir/.10.4bae74c8-bc53-44ec-8aed-659d092a6a2f.tmp",
         null,
         null,
         "FlushFile",
         1
        ],
        [
         "stsezsandbox07",
         "/stsezsandbox07/slog/checkpoints/vw_storage_log/commits/__tmp_path_dir/.10.2874b604-f2f7-417f-b567-db9a656c1729.tmp",
         null,
         null,
         "FlushFile",
         1
        ],
        [
         "stsezsandbox07",
         "/stsezsandbox07/unity/83ad2d11-1431-4eb5-8a3e-a26542faf5ac/tables/794d4d99-16ab-4bb9-a9e4-c58c5cde0829/_delta_log/__tmp_path_dir/.00000000000000000018.json.7ed0317e-ead3-4a0e-9bf5-afc35954ecbe.tmp",
         null,
         null,
         "CreatePathFile",
         1
        ],
        [
         "stsezsandbox07",
         "/stsezsandbox07/unity/83ad2d11-1431-4eb5-8a3e-a26542faf5ac/tables/9ba815a2-5ecc-41ee-9f15-7ca779070272/_delta_log/__tmp_path_dir/.00000000000000000006.json.43fc4624-9abd-4a72-88a5-bada331a8d93.tmp",
         null,
         null,
         "AppendFile",
         1
        ],
        [
         "stsezsandbox07",
         "/stsezsandbox07/unity/83ad2d11-1431-4eb5-8a3e-a26542faf5ac/tables/794d4d99-16ab-4bb9-a9e4-c58c5cde0829/part-00000-a6d6dd3c-8683-465e-81c3-dcf409dd9838.c000.snappy.parquet",
         null,
         null,
         "FlushFile",
         1
        ],
        [
         "stsezsandbox07",
         "/stsezsandbox07/unity/83ad2d11-1431-4eb5-8a3e-a26542faf5ac/tables/794d4d99-16ab-4bb9-a9e4-c58c5cde0829/_delta_log/__tmp_path_dir/.00000000000000000017.json.053c3bf3-47fb-43e9-9700-598ad9aa9a4e.tmp",
         null,
         null,
         "FlushFile",
         1
        ],
        [
         "stsezsandbox07",
         "/stsezsandbox07/unity/83ad2d11-1431-4eb5-8a3e-a26542faf5ac/tables/9ba815a2-5ecc-41ee-9f15-7ca779070272/part-00000-07d004eb-b355-4255-8d00-95254fd23c91.c000.snappy.parquet",
         null,
         null,
         "FlushFile",
         1
        ],
        [
         "stsezsandbox07",
         "/stsezsandbox07/unity/83ad2d11-1431-4eb5-8a3e-a26542faf5ac/tables/794d4d99-16ab-4bb9-a9e4-c58c5cde0829/part-00000-61fbb864-a1a0-4e8d-806e-e43ee014ea74.c000.snappy.parquet",
         null,
         null,
         "CreatePathFile",
         1
        ],
        [
         "stsezsandbox07",
         "/stsezsandbox07/unity/83ad2d11-1431-4eb5-8a3e-a26542faf5ac/tables/794d4d99-16ab-4bb9-a9e4-c58c5cde0829/_delta_log/__tmp_path_dir/.00000000000000000002.json.6ea1d897-ab10-4d37-bee4-aa8ae006ebf4.tmp",
         null,
         null,
         "AppendFile",
         1
        ],
        [
         "stsezsandbox07",
         "/stsezsandbox07/unity/83ad2d11-1431-4eb5-8a3e-a26542faf5ac/tables/794d4d99-16ab-4bb9-a9e4-c58c5cde0829/_delta_log/__tmp_path_dir/.00000000000000000009.crc.c40f55a0-dca7-48e0-a75f-ea99967898b9.tmp",
         null,
         null,
         "CreatePathFile",
         1
        ],
        [
         "stsezsandbox07",
         "/stsezsandbox07/unity/83ad2d11-1431-4eb5-8a3e-a26542faf5ac/tables/fa77fedc-b2a1-4914-8455-d461701cb3ec/_delta_log/00000000000000000001.crc",
         null,
         null,
         "RenamePathFile",
         1
        ],
        [
         "stsezsandbox07",
         "/stsezsandbox07/unity/83ad2d11-1431-4eb5-8a3e-a26542faf5ac/tables/467fcc5f-579a-4197-892b-163a22d88a6e/_delta_log/__tmp_path_dir/.00000000000000000000.json.0f492888-e651-4cee-9bdf-c824bea2867f.tmp",
         null,
         null,
         "CreatePathFile",
         1
        ],
        [
         "stsezsandbox07",
         "/stsezsandbox07/slog/checkpoints/vw_storage_log/offsets/__tmp_path_dir/.10.4bae74c8-bc53-44ec-8aed-659d092a6a2f.tmp",
         null,
         null,
         "CreatePathFile",
         1
        ],
        [
         "stsezsandbox07",
         "/stsezsandbox07/unity/83ad2d11-1431-4eb5-8a3e-a26542faf5ac/models/a3796001-dfb6-4faa-b295-8d3279c347ed/versions/0dc9097e-a1e6-4de0-8038-7a73f9025473/metadata/requirements.txt",
         null,
         null,
         "GetBlob",
         1
        ],
        [
         "stsezsandbox07",
         "/stsezsandbox07/pos-dev/models/5c3f3517-ace8-43e8-ad67-68d43fe6d57d/versions/d95a5ea4-9814-454a-ba76-8c43f013ba9c/metadata/requirements.txt",
         null,
         null,
         "GetBlob",
         1
        ],
        [
         "stsezsandbox07",
         "/stsezsandbox07/unity/83ad2d11-1431-4eb5-8a3e-a26542faf5ac/tables/794d4d99-16ab-4bb9-a9e4-c58c5cde0829/part-00000-e05e96ec-a9c8-4359-9a53-fe00709b4738.c000.snappy.parquet",
         null,
         null,
         "AppendFile",
         1
        ],
        [
         "stsezsandbox07",
         "/stsezsandbox07/slog/checkpoints/azure_raw_storage_log/offsets",
         null,
         null,
         "CreatePathDir",
         1
        ],
        [
         "stsezsandbox07",
         "/stsezsandbox07/slog/checkpoints/azure_raw_storage_log/sources/0/0",
         null,
         null,
         "RenamePathFile",
         1
        ],
        [
         "stsezsandbox07",
         "/stsezsandbox07/unity/83ad2d11-1431-4eb5-8a3e-a26542faf5ac/tables/794d4d99-16ab-4bb9-a9e4-c58c5cde0829/part-00000-61fbb864-a1a0-4e8d-806e-e43ee014ea74.c000.snappy.parquet",
         null,
         null,
         "AppendFile",
         1
        ],
        [
         "stsezsandbox07",
         "/stsezsandbox07/unity/83ad2d11-1431-4eb5-8a3e-a26542faf5ac/tables/794d4d99-16ab-4bb9-a9e4-c58c5cde0829/_delta_log/00000000000000000021.json",
         null,
         null,
         "GetPathStatus",
         1
        ],
        [
         "stsezsandbox07",
         "/stsezsandbox07/unity/83ad2d11-1431-4eb5-8a3e-a26542faf5ac/tables/794d4d99-16ab-4bb9-a9e4-c58c5cde0829/_delta_log/00000000000000000002.json",
         null,
         null,
         "ReadFile",
         1
        ],
        [
         "stsezsandbox07",
         "/stsezsandbox07/unity/83ad2d11-1431-4eb5-8a3e-a26542faf5ac/models/089028ed-d8a5-45f0-a212-9144293769fc/versions/2365fab2-29db-405c-9507-67a274d732ad/data/feature_store/raw_model/requirements.txt",
         null,
         null,
         "GetBlob",
         1
        ],
        [
         "stsezsandbox07",
         "/stsezsandbox07/unity/83ad2d11-1431-4eb5-8a3e-a26542faf5ac/tables/9ba815a2-5ecc-41ee-9f15-7ca779070272/_delta_log/00000000000000000012.json",
         null,
         null,
         "RenamePathFile",
         1
        ],
        [
         "stsezsandbox07",
         "/stsezsandbox07/slog/checkpoints/azure_raw_storage_log/metadata",
         null,
         null,
         "RenamePathFile",
         1
        ],
        [
         "stsezsandbox07",
         "/stsezsandbox07/unity/83ad2d11-1431-4eb5-8a3e-a26542faf5ac/tables/fa77fedc-b2a1-4914-8455-d461701cb3ec/part-00000-3b80cd20-08f3-4584-9246-013a6b24a9ab.c000.snappy.parquet",
         null,
         null,
         "FlushFile",
         1
        ],
        [
         "stsezsandbox07",
         "/stsezsandbox07/slog/checkpoints/vw_storage_log/offsets/__tmp_path_dir/.9.bf9797d3-a4da-4c6f-9acc-5356dd478f1d.tmp",
         null,
         null,
         "CreatePathFile",
         1
        ],
        [
         "stsezsandbox07",
         "/stsezsandbox07/unity/83ad2d11-1431-4eb5-8a3e-a26542faf5ac/tables/cf19f4d9-4527-4c9e-8b9f-76624443b9fe/_delta_log/00000000000000000000.crc",
         null,
         null,
         "RenamePathFile",
         1
        ],
        [
         "stsezsandbox07",
         "/stsezsandbox07/unity/83ad2d11-1431-4eb5-8a3e-a26542faf5ac/tables/467fcc5f-579a-4197-892b-163a22d88a6e/_delta_log/__tmp_path_dir/.00000000000000000002.json.cafd8fae-eff5-401d-937c-e44c9084a537.tmp",
         null,
         null,
         "CreatePathFile",
         1
        ],
        [
         "stsezsandbox07",
         "/stsezsandbox07/unity/83ad2d11-1431-4eb5-8a3e-a26542faf5ac/tables/9ba815a2-5ecc-41ee-9f15-7ca779070272/_delta_log/__tmp_path_dir/.00000000000000000012.json.b47a53c6-b470-4fb2-8f88-055a7da524ba.tmp",
         null,
         null,
         "CreatePathFile",
         1
        ],
        [
         "stsezsandbox07",
         "/stsezsandbox07/unity/83ad2d11-1431-4eb5-8a3e-a26542faf5ac/tables/9ba815a2-5ecc-41ee-9f15-7ca779070272/part-00000-6c2aa6d3-4249-40a9-bdbc-0693b2bc1ccc.c000.snappy.parquet",
         null,
         null,
         "AppendFile",
         1
        ],
        [
         "stsezsandbox07",
         "/stsezsandbox07/unity/83ad2d11-1431-4eb5-8a3e-a26542faf5ac/tables/794d4d99-16ab-4bb9-a9e4-c58c5cde0829/_delta_log/__tmp_path_dir/.00000000000000000000.crc.42578906-2983-4f3d-94ce-caca4f93d636.tmp",
         null,
         null,
         "AppendFile",
         1
        ],
        [
         "stsezsandbox07",
         "/stsezsandbox07/unity/83ad2d11-1431-4eb5-8a3e-a26542faf5ac/tables/9ba815a2-5ecc-41ee-9f15-7ca779070272/part-00000-cb469aa0-abe1-4269-ac38-f9fa6f1fda0d.c000.snappy.parquet",
         null,
         null,
         "AppendFile",
         1
        ],
        [
         "stsezsandbox07",
         "/stsezsandbox07/slog/checkpoints/azure_raw_storage_log/offsets/__tmp_path_dir/.0.a41b358d-196c-424d-9835-ed6ffdab2801.tmp",
         null,
         null,
         "AppendFile",
         1
        ],
        [
         "stsezsandbox07",
         "/stsezsandbox07/unity/83ad2d11-1431-4eb5-8a3e-a26542faf5ac/tables/9ba815a2-5ecc-41ee-9f15-7ca779070272/_delta_log/00000000000000000010.crc",
         null,
         null,
         "ReadFile",
         1
        ],
        [
         "stsezsandbox07",
         "/stsezsandbox07/unity/83ad2d11-1431-4eb5-8a3e-a26542faf5ac/tables/9ba815a2-5ecc-41ee-9f15-7ca779070272/_delta_log/__tmp_path_dir/.00000000000000000006.crc.142ea08f-ed54-4fcc-993a-3d29d84f18b7.tmp",
         null,
         null,
         "CreatePathFile",
         1
        ],
        [
         "stsezsandbox07",
         "/stsezsandbox07/unity/83ad2d11-1431-4eb5-8a3e-a26542faf5ac/tables/9ba815a2-5ecc-41ee-9f15-7ca779070272/_delta_log/00000000000000000011.json",
         null,
         null,
         "GetPathStatus",
         1
        ],
        [
         "stsezsandbox07",
         "/stsezsandbox07/unity/83ad2d11-1431-4eb5-8a3e-a26542faf5ac/tables/cf19f4d9-4527-4c9e-8b9f-76624443b9fe/_delta_log/__tmp_path_dir/.00000000000000000001.json.8b848b47-753f-4196-a607-fcd03fe1eeba.tmp",
         null,
         null,
         "AppendFile",
         1
        ],
        [
         "stsezsandbox07",
         "/stsezsandbox07/unity/83ad2d11-1431-4eb5-8a3e-a26542faf5ac/tables/794d4d99-16ab-4bb9-a9e4-c58c5cde0829/_delta_log/__tmp_path_dir/.00000000000000000000.crc.42578906-2983-4f3d-94ce-caca4f93d636.tmp",
         null,
         null,
         "FlushFile",
         1
        ],
        [
         "stsezsandbox07",
         "/stsezsandbox07/unity/83ad2d11-1431-4eb5-8a3e-a26542faf5ac/tables/794d4d99-16ab-4bb9-a9e4-c58c5cde0829/part-00000-080975ed-cccf-4b51-a5a8-c54f144300af.c000.snappy.parquet",
         null,
         null,
         "ReadFile",
         1
        ],
        [
         "stsezsandbox07",
         "/stsezsandbox07/unity/83ad2d11-1431-4eb5-8a3e-a26542faf5ac/tables/794d4d99-16ab-4bb9-a9e4-c58c5cde0829/_delta_log/__tmp_path_dir/.00000000000000000007.crc.6259df60-2bc6-4369-9d18-44ecda912c50.tmp",
         null,
         null,
         "AppendFile",
         1
        ],
        [
         "stsezsandbox07",
         "/stsezsandbox07/unity/83ad2d11-1431-4eb5-8a3e-a26542faf5ac/tables/794d4d99-16ab-4bb9-a9e4-c58c5cde0829/_delta_log/__tmp_path_dir/.00000000000000000018.crc.a0e491ea-d8ca-4775-a658-73cdacc773d1.tmp",
         null,
         null,
         "CreatePathFile",
         1
        ],
        [
         "stsezsandbox07",
         "/stsezsandbox07/unity/83ad2d11-1431-4eb5-8a3e-a26542faf5ac/tables/9ba815a2-5ecc-41ee-9f15-7ca779070272/_delta_log/00000000000000000012.crc",
         null,
         null,
         "RenamePathFile",
         1
        ],
        [
         "stsezsandbox07",
         "/stsezsandbox07/slog/checkpoints/vw_storage_log/offsets/__tmp_path_dir/.8.d2499a5e-9005-4dce-8cc6-8c96180318ce.tmp",
         null,
         null,
         "CreatePathFile",
         1
        ],
        [
         "stsezsandbox07",
         "/stsezsandbox07/unity/83ad2d11-1431-4eb5-8a3e-a26542faf5ac/tables/9ba815a2-5ecc-41ee-9f15-7ca779070272/_enzyme_log/1743724403401",
         null,
         null,
         "GetPathStatus",
         1
        ],
        [
         "stsezsandbox07",
         "/stsezsandbox07/unity/83ad2d11-1431-4eb5-8a3e-a26542faf5ac/tables/9ba815a2-5ecc-41ee-9f15-7ca779070272/part-00000-ed48634d-68e8-4ce0-8830-171810aa155f.c000.snappy.parquet",
         null,
         null,
         "AppendFile",
         1
        ],
        [
         "stsezsandbox07",
         "/stsezsandbox07/unity/83ad2d11-1431-4eb5-8a3e-a26542faf5ac/tables/794d4d99-16ab-4bb9-a9e4-c58c5cde0829/_delta_log/__tmp_path_dir/.00000000000000000021.json.d4b3cb19-3a02-4bdc-853a-cb3774f1b811.tmp",
         null,
         null,
         "AppendFile",
         1
        ],
        [
         "stsezsandbox07",
         "/stsezsandbox07/unity/83ad2d11-1431-4eb5-8a3e-a26542faf5ac/tables/794d4d99-16ab-4bb9-a9e4-c58c5cde0829/_delta_log/__tmp_path_dir/.00000000000000000019.json.a7e18c39-01c3-42f3-bea2-38fed2ca3c56.tmp",
         null,
         null,
         "AppendFile",
         1
        ],
        [
         "stsezsandbox07",
         "/stsezsandbox07/unity/83ad2d11-1431-4eb5-8a3e-a26542faf5ac/tables/cf19f4d9-4527-4c9e-8b9f-76624443b9fe/_delta_log/__tmp_path_dir/.00000000000000000000.json.ec61cce0-7350-4334-bfab-a74c3323f8cc.tmp",
         null,
         null,
         "FlushFile",
         1
        ],
        [
         "stsezsandbox07",
         "/stsezsandbox07/unity/83ad2d11-1431-4eb5-8a3e-a26542faf5ac/tables/794d4d99-16ab-4bb9-a9e4-c58c5cde0829/_delta_log/00000000000000000002.json",
         null,
         null,
         "GetPathStatus",
         1
        ],
        [
         "stsezsandbox07",
         "/stsezsandbox07/unity/83ad2d11-1431-4eb5-8a3e-a26542faf5ac/tables/9ba815a2-5ecc-41ee-9f15-7ca779070272/_delta_log/00000000000000000007.crc",
         null,
         null,
         "RenamePathFile",
         1
        ],
        [
         "stsezsandbox07",
         "/stsezsandbox07/unity/83ad2d11-1431-4eb5-8a3e-a26542faf5ac/tables/794d4d99-16ab-4bb9-a9e4-c58c5cde0829/_delta_log/_commits",
         null,
         null,
         "CreatePathDir",
         1
        ],
        [
         "stsezsandbox07",
         "/stsezsandbox07/unity/83ad2d11-1431-4eb5-8a3e-a26542faf5ac/tables/9ba815a2-5ecc-41ee-9f15-7ca779070272/_delta_log/__tmp_path_dir/.00000000000000000012.crc.cdf10512-f25b-4ce2-945e-e6ed3f738c25.tmp",
         null,
         null,
         "FlushFile",
         1
        ],
        [
         "stsezsandbox07",
         "/stsezsandbox07/unity/83ad2d11-1431-4eb5-8a3e-a26542faf5ac/tables/cf19f4d9-4527-4c9e-8b9f-76624443b9fe/_delta_log/00000000000000000000.json",
         null,
         null,
         "RenamePathFile",
         1
        ],
        [
         "stsezsandbox07",
         "/stsezsandbox07/unity/83ad2d11-1431-4eb5-8a3e-a26542faf5ac/tables/794d4d99-16ab-4bb9-a9e4-c58c5cde0829/part-00000-080975ed-cccf-4b51-a5a8-c54f144300af.c000.snappy.parquet",
         null,
         null,
         "AppendFile",
         1
        ],
        [
         "stsezsandbox07",
         "/stsezsandbox07/unity/83ad2d11-1431-4eb5-8a3e-a26542faf5ac/tables/9ba815a2-5ecc-41ee-9f15-7ca779070272/_delta_log/_commits",
         null,
         null,
         "CreatePathDir",
         1
        ],
        [
         "stsezsandbox07",
         "/stsezsandbox07/unity/83ad2d11-1431-4eb5-8a3e-a26542faf5ac/tables/9ba815a2-5ecc-41ee-9f15-7ca779070272/_delta_log/00000000000000000006.json",
         null,
         null,
         "GetPathStatus",
         1
        ],
        [
         "stsezsandbox07",
         "/stsezsandbox07/unity/83ad2d11-1431-4eb5-8a3e-a26542faf5ac/tables/794d4d99-16ab-4bb9-a9e4-c58c5cde0829/_delta_log/__tmp_path_dir/.00000000000000000007.json.5e08e361-a2e4-4308-b7c2-c6de44714c63.tmp",
         null,
         null,
         "FlushFile",
         1
        ],
        [
         "stsezsandbox07",
         "/stsezsandbox07/unity/83ad2d11-1431-4eb5-8a3e-a26542faf5ac/tables/cf19f4d9-4527-4c9e-8b9f-76624443b9fe/_delta_log/__tmp_path_dir/.00000000000000000000.json.ec61cce0-7350-4334-bfab-a74c3323f8cc.tmp",
         null,
         null,
         "AppendFile",
         1
        ],
        [
         "stsezsandbox07",
         "/stsezsandbox07/unity/83ad2d11-1431-4eb5-8a3e-a26542faf5ac/tables/794d4d99-16ab-4bb9-a9e4-c58c5cde0829/_delta_log/__tmp_path_dir/.00000000000000000009.json.de0df304-c725-4f9d-9622-708aa6b88ce5.tmp",
         null,
         null,
         "AppendFile",
         1
        ],
        [
         "stsezsandbox07",
         "/stsezsandbox07/unity/83ad2d11-1431-4eb5-8a3e-a26542faf5ac/tables/9ba815a2-5ecc-41ee-9f15-7ca779070272/_enzyme_log/1743790621812",
         null,
         null,
         "ReadFile",
         1
        ],
        [
         "stsezsandbox07",
         "/stsezsandbox07/unity/83ad2d11-1431-4eb5-8a3e-a26542faf5ac/tables/9ba815a2-5ecc-41ee-9f15-7ca779070272/_delta_log/__tmp_path_dir/.00000000000000000007.json.3056a509-f357-49e0-a62a-7cbf609cbc6b.tmp",
         null,
         null,
         "CreatePathFile",
         1
        ],
        [
         "stsezsandbox07",
         "/stsezsandbox07/unity/83ad2d11-1431-4eb5-8a3e-a26542faf5ac/tables/794d4d99-16ab-4bb9-a9e4-c58c5cde0829/part-00000-8972e778-5a0a-48fc-858b-39b2c292d119.c000.snappy.parquet",
         null,
         null,
         "AppendFile",
         1
        ],
        [
         "stsezsandbox07",
         "/stsezsandbox07/unity/83ad2d11-1431-4eb5-8a3e-a26542faf5ac/tables/9ba815a2-5ecc-41ee-9f15-7ca779070272/part-00000-ed48634d-68e8-4ce0-8830-171810aa155f.c000.snappy.parquet",
         null,
         null,
         "CreatePathFile",
         1
        ],
        [
         "stsezsandbox07",
         "/stsezsandbox07/unity/83ad2d11-1431-4eb5-8a3e-a26542faf5ac/tables/794d4d99-16ab-4bb9-a9e4-c58c5cde0829/part-00000-cee95b55-b5f5-427e-a2ea-c97b36f1aa1e.c000.snappy.parquet",
         null,
         null,
         "AppendFile",
         1
        ],
        [
         "stsezsandbox07",
         "/stsezsandbox07/unity/83ad2d11-1431-4eb5-8a3e-a26542faf5ac/tables/794d4d99-16ab-4bb9-a9e4-c58c5cde0829/_delta_log/00000000000000000021.json",
         null,
         null,
         "RenamePathFile",
         1
        ],
        [
         "stsezsandbox07",
         "/stsezsandbox07/unity/83ad2d11-1431-4eb5-8a3e-a26542faf5ac/tables/9ba815a2-5ecc-41ee-9f15-7ca779070272/_delta_log/__tmp_path_dir/.00000000000000000006.crc.142ea08f-ed54-4fcc-993a-3d29d84f18b7.tmp",
         null,
         null,
         "FlushFile",
         1
        ],
        [
         "stsezsandbox07",
         "/stsezsandbox07/unity/83ad2d11-1431-4eb5-8a3e-a26542faf5ac/tables/9ba815a2-5ecc-41ee-9f15-7ca779070272/_delta_log/__tmp_path_dir/.00000000000000000007.json.3056a509-f357-49e0-a62a-7cbf609cbc6b.tmp",
         null,
         null,
         "AppendFile",
         1
        ],
        [
         "stsezsandbox07",
         "/stsezsandbox07/unity/83ad2d11-1431-4eb5-8a3e-a26542faf5ac/tables/cf19f4d9-4527-4c9e-8b9f-76624443b9fe/_delta_log/00000000000000000001.crc",
         null,
         null,
         "RenamePathFile",
         1
        ],
        [
         "stsezsandbox07",
         "/stsezsandbox07/bronze",
         null,
         null,
         "ListBlobs",
         1
        ],
        [
         "stsezsandbox07",
         "/stsezsandbox07/unity/83ad2d11-1431-4eb5-8a3e-a26542faf5ac/tables/794d4d99-16ab-4bb9-a9e4-c58c5cde0829/_delta_log/00000000000000000018.crc",
         null,
         null,
         "RenamePathFile",
         1
        ],
        [
         "stsezsandbox07",
         "/stsezsandbox07/unity/83ad2d11-1431-4eb5-8a3e-a26542faf5ac/tables/9ba815a2-5ecc-41ee-9f15-7ca779070272/_delta_log/00000000000000000001.00000000000000000006.compacted.json",
         null,
         null,
         "GetPathStatus",
         1
        ],
        [
         "stsezsandbox07",
         "/stsezsandbox07/unity/83ad2d11-1431-4eb5-8a3e-a26542faf5ac/tables/794d4d99-16ab-4bb9-a9e4-c58c5cde0829/_delta_log/__tmp_path_dir/.00000000000000000020.crc.fc26e608-4fc0-4f2f-866c-650f897bad08.tmp",
         null,
         null,
         "AppendFile",
         1
        ],
        [
         "stsezsandbox07",
         "/stsezsandbox07/slog/checkpoints/azure_raw_storage_log/commits",
         null,
         null,
         "CreatePathDir",
         1
        ],
        [
         "stsezsandbox07",
         "/stsezsandbox07/unity/83ad2d11-1431-4eb5-8a3e-a26542faf5ac/tables/9ba815a2-5ecc-41ee-9f15-7ca779070272/part-00000-8117a56a-51d8-4405-b532-62928a1308c8.c000.snappy.parquet",
         null,
         null,
         "CreatePathFile",
         1
        ],
        [
         "stsezsandbox07",
         "/stsezsandbox07/unity/83ad2d11-1431-4eb5-8a3e-a26542faf5ac/tables/794d4d99-16ab-4bb9-a9e4-c58c5cde0829/_delta_log/__tmp_path_dir/.00000000000000000018.crc.a0e491ea-d8ca-4775-a658-73cdacc773d1.tmp",
         null,
         null,
         "AppendFile",
         1
        ],
        [
         "stsezsandbox07",
         "/stsezsandbox07/slog/checkpoints/azure_raw_storage_log/commits/__tmp_path_dir/.1.7fd6ce07-c429-47ce-b961-0fd17c45aebb.tmp",
         null,
         null,
         "CreatePathFile",
         1
        ],
        [
         "stsezsandbox07",
         "/stsezsandbox07/unity/83ad2d11-1431-4eb5-8a3e-a26542faf5ac/tables/467fcc5f-579a-4197-892b-163a22d88a6e/_delta_log/__tmp_path_dir/.00000000000000000000.json.0f492888-e651-4cee-9bdf-c824bea2867f.tmp",
         null,
         null,
         "FlushFile",
         1
        ],
        [
         "stsezsandbox07",
         "/stsezsandbox07/unity/83ad2d11-1431-4eb5-8a3e-a26542faf5ac/tables/9ba815a2-5ecc-41ee-9f15-7ca779070272/_delta_log/__tmp_path_dir/.00000000000000000001.crc.59fdf9e1-a2aa-45c1-bbe5-9c04febcd26e.tmp",
         null,
         null,
         "CreatePathFile",
         1
        ],
        [
         "stsezsandbox07",
         "/stsezsandbox07/unity/83ad2d11-1431-4eb5-8a3e-a26542faf5ac/tables/794d4d99-16ab-4bb9-a9e4-c58c5cde0829/part-00000-8972e778-5a0a-48fc-858b-39b2c292d119.c000.snappy.parquet",
         null,
         null,
         "ReadFile",
         1
        ],
        [
         "stsezsandbox07",
         "/stsezsandbox07/unity/83ad2d11-1431-4eb5-8a3e-a26542faf5ac/tables/9ba815a2-5ecc-41ee-9f15-7ca779070272/_delta_log/00000000000000000007.json",
         null,
         null,
         "RenamePathFile",
         1
        ],
        [
         "stsezsandbox07",
         "/stsezsandbox07/unity/83ad2d11-1431-4eb5-8a3e-a26542faf5ac/tables/9ba815a2-5ecc-41ee-9f15-7ca779070272/_enzyme_log/1743747385600",
         null,
         null,
         "CreatePathFile",
         1
        ],
        [
         "stsezsandbox07",
         "/stsezsandbox07/unity/83ad2d11-1431-4eb5-8a3e-a26542faf5ac/tables/9ba815a2-5ecc-41ee-9f15-7ca779070272/_enzyme_log/1743724403401",
         null,
         null,
         "CreatePathFile",
         1
        ],
        [
         "stsezsandbox07",
         "/stsezsandbox07/unity/83ad2d11-1431-4eb5-8a3e-a26542faf5ac/tables/794d4d99-16ab-4bb9-a9e4-c58c5cde0829/part-00000-864e10c8-dc46-441c-ada1-6d5d7c5ad4cc.c000.snappy.parquet",
         null,
         null,
         "AppendFile",
         1
        ],
        [
         "stsezsandbox07",
         "/stsezsandbox07/unity/83ad2d11-1431-4eb5-8a3e-a26542faf5ac/tables/fa77fedc-b2a1-4914-8455-d461701cb3ec/_delta_log/00000000000000000001.json",
         null,
         null,
         "RenamePathFile",
         1
        ],
        [
         "stsezsandbox07",
         "/stsezsandbox07/unity/83ad2d11-1431-4eb5-8a3e-a26542faf5ac/tables/794d4d99-16ab-4bb9-a9e4-c58c5cde0829/part-00000-9937f921-2aae-4bbb-b078-146722d2fa92.c000.snappy.parquet",
         null,
         null,
         "FlushFile",
         1
        ],
        [
         "stsezsandbox07",
         "/stsezsandbox07/unity/83ad2d11-1431-4eb5-8a3e-a26542faf5ac/tables/794d4d99-16ab-4bb9-a9e4-c58c5cde0829/_delta_log/__tmp_path_dir/.00000000000000000001.crc.59fcc589-4485-4131-97e2-020b23ec61cf.tmp",
         null,
         null,
         "CreatePathFile",
         1
        ],
        [
         "stsezsandbox07",
         "/stsezsandbox07/unity/83ad2d11-1431-4eb5-8a3e-a26542faf5ac/tables/794d4d99-16ab-4bb9-a9e4-c58c5cde0829/_delta_log/00000000000000000002.json",
         null,
         null,
         "RenamePathFile",
         1
        ],
        [
         "stsezsandbox07",
         "/stsezsandbox07/slog/checkpoints/vw_storage_log/commits/__tmp_path_dir/.9.0d4d48b4-5b55-451e-befe-4679deb2558d.tmp",
         null,
         null,
         "CreatePathFile",
         1
        ],
        [
         "stsezsandbox07",
         "/stsezsandbox07/unity/83ad2d11-1431-4eb5-8a3e-a26542faf5ac/tables/9d30d2f8-34cf-4c9a-9ff9-f57a6c2e5fdd/_delta_log/00000000000000000001.json",
         null,
         null,
         "GetPathStatus",
         1
        ],
        [
         "stsezsandbox07",
         "/stsezsandbox07/slog/checkpoints/vw_storage_log/offsets/10",
         null,
         null,
         "RenamePathFile",
         1
        ],
        [
         "stsezsandbox07",
         "/stsezsandbox07/unity/83ad2d11-1431-4eb5-8a3e-a26542faf5ac/tables/794d4d99-16ab-4bb9-a9e4-c58c5cde0829/part-00000-cee95b55-b5f5-427e-a2ea-c97b36f1aa1e.c000.snappy.parquet",
         null,
         null,
         "FlushFile",
         1
        ],
        [
         "stsezsandbox07",
         "/stsezsandbox07/unity/83ad2d11-1431-4eb5-8a3e-a26542faf5ac/tables/cf19f4d9-4527-4c9e-8b9f-76624443b9fe/_delta_log/__tmp_path_dir/.00000000000000000001.crc.6fd6965f-a9f8-4bb3-9184-f8937f799f50.tmp",
         null,
         null,
         "FlushFile",
         1
        ],
        [
         "stsezsandbox07",
         "/stsezsandbox07/slog/checkpoints/vw_storage_log/commits/__tmp_path_dir/.10.2874b604-f2f7-417f-b567-db9a656c1729.tmp",
         null,
         null,
         "AppendFile",
         1
        ],
        [
         "stsezsandbox07",
         "/stsezsandbox07/slog/checkpoints/vw_storage_log/offsets/8",
         null,
         null,
         "RenamePathFile",
         1
        ],
        [
         "stsezsandbox07",
         "/stsezsandbox07/unity/83ad2d11-1431-4eb5-8a3e-a26542faf5ac/tables/467fcc5f-579a-4197-892b-163a22d88a6e/part-00000-ac0025f8-9cba-414b-9c93-ecdda5d291ed.c000.snappy.parquet",
         null,
         null,
         "AppendFile",
         1
        ],
        [
         "stsezsandbox07",
         "/stsezsandbox07/unity/83ad2d11-1431-4eb5-8a3e-a26542faf5ac/tables/794d4d99-16ab-4bb9-a9e4-c58c5cde0829/part-00000-7ede3b88-95ed-4b8b-bacc-54f07c5ecdfe.c000.snappy.parquet",
         null,
         null,
         "AppendFile",
         1
        ],
        [
         "stsezsandbox07",
         "/stsezsandbox07/unity/83ad2d11-1431-4eb5-8a3e-a26542faf5ac/tables/9ba815a2-5ecc-41ee-9f15-7ca779070272/_enzyme_log/1743776210944",
         null,
         null,
         "FlushFile",
         1
        ],
        [
         "stsezsandbox07",
         "/stsezsandbox07/unity/83ad2d11-1431-4eb5-8a3e-a26542faf5ac/tables/794d4d99-16ab-4bb9-a9e4-c58c5cde0829/_delta_log/00000000000000000001.json",
         null,
         null,
         "RenamePathFile",
         1
        ],
        [
         "stsezsandbox07",
         "/stsezsandbox07/unity/83ad2d11-1431-4eb5-8a3e-a26542faf5ac/tables/794d4d99-16ab-4bb9-a9e4-c58c5cde0829/_delta_log/__tmp_path_dir/.00000000000000000000.json.11a16977-d86f-4ae9-ae48-47981a3e9a40.tmp",
         null,
         null,
         "AppendFile",
         1
        ],
        [
         "stsezsandbox07",
         "/stsezsandbox07/unity/83ad2d11-1431-4eb5-8a3e-a26542faf5ac/tables/9ba815a2-5ecc-41ee-9f15-7ca779070272/_enzyme_log/1743747385600",
         null,
         null,
         "FlushFile",
         1
        ],
        [
         "stsezsandbox07",
         "/stsezsandbox07/unity/83ad2d11-1431-4eb5-8a3e-a26542faf5ac/tables/fa77fedc-b2a1-4914-8455-d461701cb3ec/_delta_log/__tmp_path_dir/.00000000000000000000.json.fbbe4d3e-7f4e-4ad6-bfb5-22238295cf68.tmp",
         null,
         null,
         "CreatePathFile",
         1
        ],
        [
         "stsezsandbox07",
         "/stsezsandbox07/unity/83ad2d11-1431-4eb5-8a3e-a26542faf5ac/tables/794d4d99-16ab-4bb9-a9e4-c58c5cde0829/_delta_log/00000000000000000007.crc",
         null,
         null,
         "RenamePathFile",
         1
        ],
        [
         "stsezsandbox07",
         "/stsezsandbox07/unity/83ad2d11-1431-4eb5-8a3e-a26542faf5ac/tables/9ba815a2-5ecc-41ee-9f15-7ca779070272/_enzyme_log/1743732981906",
         null,
         null,
         "FlushFile",
         1
        ],
        [
         "stsezsandbox07",
         "/stsezsandbox07/unity/83ad2d11-1431-4eb5-8a3e-a26542faf5ac/tables/794d4d99-16ab-4bb9-a9e4-c58c5cde0829/_delta_log/00000000000000000009.json",
         null,
         null,
         "RenamePathFile",
         1
        ],
        [
         "stsezsandbox07",
         "/stsezsandbox07/unity/83ad2d11-1431-4eb5-8a3e-a26542faf5ac/tables/794d4d99-16ab-4bb9-a9e4-c58c5cde0829/_delta_log/00000000000000000013.00000000000000000018.compacted.json",
         null,
         null,
         "RenamePathFile",
         1
        ],
        [
         "stsezsandbox07",
         "/stsezsandbox07/unity/83ad2d11-1431-4eb5-8a3e-a26542faf5ac/tables/cf19f4d9-4527-4c9e-8b9f-76624443b9fe/_delta_log/__tmp_path_dir/.00000000000000000001.crc.6fd6965f-a9f8-4bb3-9184-f8937f799f50.tmp",
         null,
         null,
         "AppendFile",
         1
        ],
        [
         "stsezsandbox07",
         "/stsezsandbox07/unity/83ad2d11-1431-4eb5-8a3e-a26542faf5ac/tables/9ba815a2-5ecc-41ee-9f15-7ca779070272/_delta_log/__tmp_path_dir/.00000000000000000010.crc.a57dbcba-4bd6-4b43-bf10-01a0c12b1095.tmp",
         null,
         null,
         "AppendFile",
         1
        ],
        [
         "stsezsandbox07",
         "/stsezsandbox07/unity/83ad2d11-1431-4eb5-8a3e-a26542faf5ac/tables/794d4d99-16ab-4bb9-a9e4-c58c5cde0829/part-00000-cee95b55-b5f5-427e-a2ea-c97b36f1aa1e.c000.snappy.parquet",
         null,
         null,
         "CreatePathFile",
         1
        ],
        [
         "stsezsandbox07",
         "/stsezsandbox07/slog/checkpoints/vw_storage_log/offsets/6",
         null,
         null,
         "ReadFile",
         1
        ],
        [
         "stsezsandbox07",
         "/stsezsandbox07/unity/83ad2d11-1431-4eb5-8a3e-a26542faf5ac/tables/9ba815a2-5ecc-41ee-9f15-7ca779070272/part-00000-50dac75d-08ae-408a-9d98-fa0e7f96c467.c000.snappy.parquet",
         null,
         null,
         "CreatePathFile",
         1
        ],
        [
         "stsezsandbox07",
         "/stsezsandbox07/unity/83ad2d11-1431-4eb5-8a3e-a26542faf5ac/tables/9ba815a2-5ecc-41ee-9f15-7ca779070272/_delta_log/00000000000000000005.crc",
         null,
         null,
         "ReadFile",
         1
        ],
        [
         "stsezsandbox07",
         "/stsezsandbox07/unity/83ad2d11-1431-4eb5-8a3e-a26542faf5ac/tables/cf19f4d9-4527-4c9e-8b9f-76624443b9fe/_delta_log/__tmp_path_dir/.00000000000000000000.crc.2cd0cbdd-643f-4993-bfb2-41abde7f386c.tmp",
         null,
         null,
         "AppendFile",
         1
        ],
        [
         "stsezsandbox07",
         "/stsezsandbox07/unity/83ad2d11-1431-4eb5-8a3e-a26542faf5ac/tables/fa77fedc-b2a1-4914-8455-d461701cb3ec/_delta_log/_commits",
         null,
         null,
         "CreatePathDir",
         1
        ],
        [
         "stsezsandbox07",
         "/stsezsandbox07/unity/83ad2d11-1431-4eb5-8a3e-a26542faf5ac/tables/9ba815a2-5ecc-41ee-9f15-7ca779070272/_delta_log/00000000000000000007.00000000000000000012.compacted.json",
         null,
         null,
         "RenamePathFile",
         1
        ],
        [
         "stsezsandbox07",
         "/stsezsandbox07/unity/83ad2d11-1431-4eb5-8a3e-a26542faf5ac/tables/794d4d99-16ab-4bb9-a9e4-c58c5cde0829/part-00000-9937f921-2aae-4bbb-b078-146722d2fa92.c000.snappy.parquet",
         null,
         null,
         "AppendFile",
         1
        ],
        [
         "stsezsandbox07",
         "/stsezsandbox07/unity/83ad2d11-1431-4eb5-8a3e-a26542faf5ac/tables/467fcc5f-579a-4197-892b-163a22d88a6e/_delta_log/00000000000000000002.crc",
         null,
         null,
         "ReadFile",
         1
        ],
        [
         "stsezsandbox07",
         "/stsezsandbox07/unity/83ad2d11-1431-4eb5-8a3e-a26542faf5ac/tables/9ba815a2-5ecc-41ee-9f15-7ca779070272/part-00000-ed48634d-68e8-4ce0-8830-171810aa155f.c000.snappy.parquet",
         null,
         null,
         "FlushFile",
         1
        ],
        [
         "stsezsandbox07",
         "/stsezsandbox07/unity/83ad2d11-1431-4eb5-8a3e-a26542faf5ac/tables/794d4d99-16ab-4bb9-a9e4-c58c5cde0829/_delta_log/__tmp_path_dir/.00000000000000000009.json.de0df304-c725-4f9d-9622-708aa6b88ce5.tmp",
         null,
         null,
         "FlushFile",
         1
        ],
        [
         "stsezsandbox07",
         "/stsezsandbox07/slog/checkpoints/azure_raw_storage_log/offsets/__tmp_path_dir/.2.2d0d40cb-2754-472a-bf1b-4a08913fa3a0.tmp",
         null,
         null,
         "AppendFile",
         1
        ],
        [
         "stsezsandbox07",
         "/stsezsandbox07/unity/83ad2d11-1431-4eb5-8a3e-a26542faf5ac/tables/794d4d99-16ab-4bb9-a9e4-c58c5cde0829/_delta_log/__tmp_path_dir/.00000000000000000019.crc.9cf12812-a088-4285-83d9-d59c18d30492.tmp",
         null,
         null,
         "AppendFile",
         1
        ],
        [
         "stsezsandbox07",
         "/stsezsandbox07/slog/checkpoints/azure_raw_storage_log/offsets/__tmp_path_dir/.1.1db4289c-c0aa-4382-92af-70e59e6f9666.tmp",
         null,
         null,
         "CreatePathFile",
         1
        ],
        [
         "stsezsandbox07",
         "/stsezsandbox07/unity/83ad2d11-1431-4eb5-8a3e-a26542faf5ac/tables/9ba815a2-5ecc-41ee-9f15-7ca779070272/_delta_log/__tmp_path_dir/.00000000000000000001.crc.59fdf9e1-a2aa-45c1-bbe5-9c04febcd26e.tmp",
         null,
         null,
         "AppendFile",
         1
        ],
        [
         "stsezsandbox07",
         "/stsezsandbox07/slog/checkpoints/azure_raw_storage_log/offsets/2",
         null,
         null,
         "RenamePathFile",
         1
        ],
        [
         "stsezsandbox07",
         "/stsezsandbox07/unity/83ad2d11-1431-4eb5-8a3e-a26542faf5ac/tables/794d4d99-16ab-4bb9-a9e4-c58c5cde0829/_delta_log/00000000000000000020.json",
         null,
         null,
         "GetPathStatus",
         1
        ],
        [
         "stsezsandbox07",
         "/stsezsandbox07/unity/83ad2d11-1431-4eb5-8a3e-a26542faf5ac/tables/9ba815a2-5ecc-41ee-9f15-7ca779070272/_delta_log/__tmp_path_dir/.00000000000000000000.crc.62c3d773-2fe3-428d-8cf0-51448e8d86eb.tmp",
         null,
         null,
         "AppendFile",
         1
        ],
        [
         "stsezsandbox07",
         "/stsezsandbox07/unity/83ad2d11-1431-4eb5-8a3e-a26542faf5ac/tables/794d4d99-16ab-4bb9-a9e4-c58c5cde0829/_delta_log/__tmp_path_dir/.00000000000000000021.crc.fc71c375-4df0-471a-81c7-564e65a7a655.tmp",
         null,
         null,
         "FlushFile",
         1
        ],
        [
         "stsezsandbox07",
         "/stsezsandbox07/unity/83ad2d11-1431-4eb5-8a3e-a26542faf5ac/tables/794d4d99-16ab-4bb9-a9e4-c58c5cde0829/_delta_log/00000000000000000019.crc",
         null,
         null,
         "ReadFile",
         1
        ],
        [
         "stsezsandbox07",
         "/stsezsandbox07/unity/83ad2d11-1431-4eb5-8a3e-a26542faf5ac/tables/fa77fedc-b2a1-4914-8455-d461701cb3ec",
         null,
         null,
         "CreatePathDir",
         1
        ],
        [
         "stsezsandbox07",
         "/stsezsandbox07/unity/83ad2d11-1431-4eb5-8a3e-a26542faf5ac/tables/9ba815a2-5ecc-41ee-9f15-7ca779070272/_delta_log/00000000000000000010.json",
         null,
         null,
         "GetPathStatus",
         1
        ],
        [
         "stsezsandbox07",
         "/stsezsandbox07/unity/83ad2d11-1431-4eb5-8a3e-a26542faf5ac/tables/794d4d99-16ab-4bb9-a9e4-c58c5cde0829/_delta_log/00000000000000000018.json",
         null,
         null,
         "RenamePathFile",
         1
        ],
        [
         "stsezsandbox07",
         "/stsezsandbox07/unity/83ad2d11-1431-4eb5-8a3e-a26542faf5ac/tables/9ba815a2-5ecc-41ee-9f15-7ca779070272/_enzyme_log/1743761796970",
         null,
         null,
         "AppendFile",
         1
        ],
        [
         "stsezsandbox07",
         "/stsezsandbox07/slog/checkpoints/azure_raw_storage_log/offsets/__tmp_path_dir/.2.2d0d40cb-2754-472a-bf1b-4a08913fa3a0.tmp",
         null,
         null,
         "CreatePathFile",
         1
        ],
        [
         "stsezsandbox07",
         "/stsezsandbox07/demos",
         null,
         null,
         "ListBlobs",
         1
        ],
        [
         "stsezsandbox07",
         "/stsezsandbox07/unity/83ad2d11-1431-4eb5-8a3e-a26542faf5ac/tables/9ba815a2-5ecc-41ee-9f15-7ca779070272/_delta_log/00000000000000000011.crc",
         null,
         null,
         "ReadFile",
         1
        ],
        [
         "stsezsandbox07",
         "/stsezsandbox07/unity/83ad2d11-1431-4eb5-8a3e-a26542faf5ac/tables/9ba815a2-5ecc-41ee-9f15-7ca779070272/_delta_log/__tmp_path_dir/.00000000000000000001.00000000000000000006.compacted.json.148322f5-12b7-4d4a-aa7c-4f4c929d4745.tmp",
         null,
         null,
         "FlushFile",
         1
        ],
        [
         "stsezsandbox07",
         "/stsezsandbox07/unity/83ad2d11-1431-4eb5-8a3e-a26542faf5ac/tables/467fcc5f-579a-4197-892b-163a22d88a6e/_delta_log/__tmp_path_dir/.00000000000000000001.crc.679dfbfe-de23-47f1-9290-116a9f1cd46a.tmp",
         null,
         null,
         "CreatePathFile",
         1
        ],
        [
         "stsezsandbox07",
         "/stsezsandbox07/unity/83ad2d11-1431-4eb5-8a3e-a26542faf5ac/tables/794d4d99-16ab-4bb9-a9e4-c58c5cde0829/_delta_log/__tmp_path_dir/.00000000000000000016.crc.036fa83f-5c31-43ca-96b6-8412b276307c.tmp",
         null,
         null,
         "CreatePathFile",
         1
        ],
        [
         "stsezsandbox07",
         "/stsezsandbox07/unity/83ad2d11-1431-4eb5-8a3e-a26542faf5ac/tables/467fcc5f-579a-4197-892b-163a22d88a6e/_delta_log/__tmp_path_dir/.00000000000000000002.crc.63a67d50-7905-46a4-a54c-50bc4d722e8b.tmp",
         null,
         null,
         "AppendFile",
         1
        ],
        [
         "stsezsandbox07",
         "/stsezsandbox07/unity/83ad2d11-1431-4eb5-8a3e-a26542faf5ac/tables/794d4d99-16ab-4bb9-a9e4-c58c5cde0829/_delta_log/00000000000000000016.json",
         null,
         null,
         "GetPathStatus",
         1
        ],
        [
         "stsezsandbox07",
         "/stsezsandbox07/unity/83ad2d11-1431-4eb5-8a3e-a26542faf5ac/tables/794d4d99-16ab-4bb9-a9e4-c58c5cde0829/_delta_log/00000000000000000008.json",
         null,
         null,
         "GetPathStatus",
         1
        ],
        [
         "stsezsandbox07",
         "/stsezsandbox07/unity/83ad2d11-1431-4eb5-8a3e-a26542faf5ac/tables/794d4d99-16ab-4bb9-a9e4-c58c5cde0829/_delta_log/__tmp_path_dir/.00000000000000000010.crc.911580b8-3130-491e-833c-3284e42f5760.tmp",
         null,
         null,
         "CreatePathFile",
         1
        ],
        [
         "stsezsandbox07",
         "/stsezsandbox07/unity/83ad2d11-1431-4eb5-8a3e-a26542faf5ac/tables/9ba815a2-5ecc-41ee-9f15-7ca779070272/_delta_log/00000000000000000000.crc",
         null,
         null,
         "RenamePathFile",
         1
        ],
        [
         "stsezsandbox07",
         "/stsezsandbox07/unity/83ad2d11-1431-4eb5-8a3e-a26542faf5ac/tables/794d4d99-16ab-4bb9-a9e4-c58c5cde0829/_delta_log/__tmp_path_dir/.00000000000000000016.json.cc79189b-56c3-4fb9-aeb4-257f16411dff.tmp",
         null,
         null,
         "CreatePathFile",
         1
        ],
        [
         "stsezsandbox07",
         "/stsezsandbox07/unity/83ad2d11-1431-4eb5-8a3e-a26542faf5ac/tables/794d4d99-16ab-4bb9-a9e4-c58c5cde0829/_delta_log/__tmp_path_dir/.00000000000000000017.crc.c34713cc-2821-4b10-a0da-3fe20484de3a.tmp",
         null,
         null,
         "FlushFile",
         1
        ],
        [
         "stsezsandbox07",
         "/stsezsandbox07/unity/83ad2d11-1431-4eb5-8a3e-a26542faf5ac/tables/794d4d99-16ab-4bb9-a9e4-c58c5cde0829/_delta_log/00000000000000000020.json",
         null,
         null,
         "RenamePathFile",
         1
        ],
        [
         "stsezsandbox07",
         "/stsezsandbox07/unity/83ad2d11-1431-4eb5-8a3e-a26542faf5ac/tables/794d4d99-16ab-4bb9-a9e4-c58c5cde0829/part-00000-e05e96ec-a9c8-4359-9a53-fe00709b4738.c000.snappy.parquet",
         null,
         null,
         "CreatePathFile",
         1
        ],
        [
         "stsezsandbox07",
         "/stsezsandbox07/unity/83ad2d11-1431-4eb5-8a3e-a26542faf5ac/tables/794d4d99-16ab-4bb9-a9e4-c58c5cde0829/_delta_log/__tmp_path_dir/.00000000000000000016.json.cc79189b-56c3-4fb9-aeb4-257f16411dff.tmp",
         null,
         null,
         "FlushFile",
         1
        ],
        [
         "stsezsandbox07",
         "/stsezsandbox07/unity/83ad2d11-1431-4eb5-8a3e-a26542faf5ac/tables/9ba815a2-5ecc-41ee-9f15-7ca779070272/_delta_log/00000000000000000006.json",
         null,
         null,
         "RenamePathFile",
         1
        ],
        [
         "stsezsandbox07",
         "/stsezsandbox07/unity/83ad2d11-1431-4eb5-8a3e-a26542faf5ac/tables/9ba815a2-5ecc-41ee-9f15-7ca779070272/_delta_log/00000000000000000009.crc",
         null,
         null,
         "ReadFile",
         1
        ],
        [
         "stsezsandbox07",
         "/stsezsandbox07/unity/83ad2d11-1431-4eb5-8a3e-a26542faf5ac/tables/fa77fedc-b2a1-4914-8455-d461701cb3ec/_delta_log/__tmp_path_dir/.00000000000000000000.crc.964a5993-8cf8-486f-93d0-4de2979dda14.tmp",
         null,
         null,
         "FlushFile",
         1
        ],
        [
         "stsezsandbox07",
         "/stsezsandbox07/unity/83ad2d11-1431-4eb5-8a3e-a26542faf5ac/tables/467fcc5f-579a-4197-892b-163a22d88a6e/_delta_log/__tmp_path_dir/.00000000000000000001.crc.679dfbfe-de23-47f1-9290-116a9f1cd46a.tmp",
         null,
         null,
         "FlushFile",
         1
        ],
        [
         "stsezsandbox07",
         "/stsezsandbox07/unity/83ad2d11-1431-4eb5-8a3e-a26542faf5ac/tables/9ba815a2-5ecc-41ee-9f15-7ca779070272/_enzyme_log/1743790621812",
         null,
         null,
         "FlushFile",
         1
        ],
        [
         "stsezsandbox07",
         "/stsezsandbox07/unity/83ad2d11-1431-4eb5-8a3e-a26542faf5ac/tables/9ba815a2-5ecc-41ee-9f15-7ca779070272/part-00000-6c2aa6d3-4249-40a9-bdbc-0693b2bc1ccc.c000.snappy.parquet",
         null,
         null,
         "CreatePathFile",
         1
        ],
        [
         "stsezsandbox07",
         "/stsezsandbox07/unity/_encryption_meta/manifest.json",
         null,
         null,
         "GetPathStatus",
         1
        ],
        [
         "stsezsandbox07",
         "/stsezsandbox07/unity/83ad2d11-1431-4eb5-8a3e-a26542faf5ac/tables/467fcc5f-579a-4197-892b-163a22d88a6e/_delta_log/__tmp_path_dir/.00000000000000000002.crc.63a67d50-7905-46a4-a54c-50bc4d722e8b.tmp",
         null,
         null,
         "FlushFile",
         1
        ],
        [
         "stsezsandbox07",
         "/stsezsandbox07/unity/83ad2d11-1431-4eb5-8a3e-a26542faf5ac/tables/9ba815a2-5ecc-41ee-9f15-7ca779070272/_delta_log/__tmp_path_dir/.00000000000000000012.json.b47a53c6-b470-4fb2-8f88-055a7da524ba.tmp",
         null,
         null,
         "AppendFile",
         1
        ],
        [
         "stsezsandbox07",
         "/stsezsandbox07/unity/83ad2d11-1431-4eb5-8a3e-a26542faf5ac/tables/9ba815a2-5ecc-41ee-9f15-7ca779070272/_delta_log/00000000000000000001.crc",
         null,
         null,
         "RenamePathFile",
         1
        ],
        [
         "stsezsandbox07",
         "/stsezsandbox07/unity/83ad2d11-1431-4eb5-8a3e-a26542faf5ac/tables/794d4d99-16ab-4bb9-a9e4-c58c5cde0829/_delta_log/00000000000000000017.crc",
         null,
         null,
         "ReadFile",
         1
        ],
        [
         "stsezsandbox07",
         "/stsezsandbox07/unity/83ad2d11-1431-4eb5-8a3e-a26542faf5ac/tables/9ba815a2-5ecc-41ee-9f15-7ca779070272/part-00000-8117a56a-51d8-4405-b532-62928a1308c8.c000.snappy.parquet",
         null,
         null,
         "AppendFile",
         1
        ],
        [
         "stsezsandbox07",
         "/stsezsandbox07/unity/83ad2d11-1431-4eb5-8a3e-a26542faf5ac/tables/794d4d99-16ab-4bb9-a9e4-c58c5cde0829/_delta_log/__tmp_path_dir/.00000000000000000017.crc.c34713cc-2821-4b10-a0da-3fe20484de3a.tmp",
         null,
         null,
         "AppendFile",
         1
        ],
        [
         "stsezsandbox07",
         "/stsezsandbox07/unity/83ad2d11-1431-4eb5-8a3e-a26542faf5ac/tables/794d4d99-16ab-4bb9-a9e4-c58c5cde0829/_delta_log/__tmp_path_dir/.00000000000000000017.json.053c3bf3-47fb-43e9-9700-598ad9aa9a4e.tmp",
         null,
         null,
         "CreatePathFile",
         1
        ],
        [
         "stsezsandbox07",
         "/stsezsandbox07/unity/83ad2d11-1431-4eb5-8a3e-a26542faf5ac/tables/794d4d99-16ab-4bb9-a9e4-c58c5cde0829/_delta_log/00000000000000000001.crc",
         null,
         null,
         "RenamePathFile",
         1
        ],
        [
         "stsezsandbox07",
         "/stsezsandbox07/unity/83ad2d11-1431-4eb5-8a3e-a26542faf5ac/tables/cf19f4d9-4527-4c9e-8b9f-76624443b9fe/part-00000-f5fbc1b7-34ab-4581-afde-4db7a5946d37.c000.snappy.parquet",
         null,
         null,
         "AppendFile",
         1
        ],
        [
         "stsezsandbox07",
         "/stsezsandbox07/unity/83ad2d11-1431-4eb5-8a3e-a26542faf5ac/tables/794d4d99-16ab-4bb9-a9e4-c58c5cde0829/_delta_log/00000000000000000010.crc",
         null,
         null,
         "RenamePathFile",
         1
        ],
        [
         "stsezsandbox07",
         "/stsezsandbox07/unity/83ad2d11-1431-4eb5-8a3e-a26542faf5ac/tables/fa77fedc-b2a1-4914-8455-d461701cb3ec/_delta_log/__tmp_path_dir/.00000000000000000001.json.bfe41438-cdef-4971-b9da-04725ccef6cb.tmp",
         null,
         null,
         "CreatePathFile",
         1
        ],
        [
         "stsezsandbox07",
         "/stsezsandbox07/unity/83ad2d11-1431-4eb5-8a3e-a26542faf5ac/tables/467fcc5f-579a-4197-892b-163a22d88a6e/_delta_log/__tmp_path_dir/.00000000000000000000.crc.99178fa6-21a4-49e9-b081-5b725e01250e.tmp",
         null,
         null,
         "CreatePathFile",
         1
        ],
        [
         "stsezsandbox07",
         "/stsezsandbox07/slog/checkpoints/vw_storage_log/offsets/__tmp_path_dir/.8.d2499a5e-9005-4dce-8cc6-8c96180318ce.tmp",
         null,
         null,
         "FlushFile",
         1
        ],
        [
         "stsezsandbox07",
         "/stsezsandbox07/unity/83ad2d11-1431-4eb5-8a3e-a26542faf5ac/tables/467fcc5f-579a-4197-892b-163a22d88a6e/_delta_log/__tmp_path_dir/.00000000000000000000.crc.99178fa6-21a4-49e9-b081-5b725e01250e.tmp",
         null,
         null,
         "FlushFile",
         1
        ],
        [
         "stsezsandbox07",
         "/stsezsandbox07/unity/83ad2d11-1431-4eb5-8a3e-a26542faf5ac/tables/794d4d99-16ab-4bb9-a9e4-c58c5cde0829/_delta_log/__tmp_path_dir/.00000000000000000017.crc.c34713cc-2821-4b10-a0da-3fe20484de3a.tmp",
         null,
         null,
         "CreatePathFile",
         1
        ],
        [
         "stsezsandbox07",
         "/stsezsandbox07/unity/83ad2d11-1431-4eb5-8a3e-a26542faf5ac/tables/794d4d99-16ab-4bb9-a9e4-c58c5cde0829/_delta_log/00000000000000000015.crc",
         null,
         null,
         "ReadFile",
         1
        ],
        [
         "stsezsandbox07",
         "/stsezsandbox07/unity/83ad2d11-1431-4eb5-8a3e-a26542faf5ac/tables/794d4d99-16ab-4bb9-a9e4-c58c5cde0829/_delta_log/__tmp_path_dir/.00000000000000000009.crc.c40f55a0-dca7-48e0-a75f-ea99967898b9.tmp",
         null,
         null,
         "FlushFile",
         1
        ],
        [
         "stsezsandbox07",
         "/stsezsandbox07/unity/83ad2d11-1431-4eb5-8a3e-a26542faf5ac/tables/794d4d99-16ab-4bb9-a9e4-c58c5cde0829/_delta_log/__tmp_path_dir/.00000000000000000021.crc.fc71c375-4df0-471a-81c7-564e65a7a655.tmp",
         null,
         null,
         "AppendFile",
         1
        ],
        [
         "stsezsandbox07",
         "/stsezsandbox07/unity/83ad2d11-1431-4eb5-8a3e-a26542faf5ac/tables/467fcc5f-579a-4197-892b-163a22d88a6e/_delta_log/00000000000000000001.json",
         null,
         null,
         "RenamePathFile",
         1
        ],
        [
         "stsezsandbox07",
         "/stsezsandbox07/unity/83ad2d11-1431-4eb5-8a3e-a26542faf5ac/tables/467fcc5f-579a-4197-892b-163a22d88a6e/_delta_log/__tmp_path_dir/.00000000000000000001.json.222e303b-5c3e-4b8f-bd60-d9661828a4ee.tmp",
         null,
         null,
         "FlushFile",
         1
        ],
        [
         "stsezsandbox07",
         "/stsezsandbox07/unity/83ad2d11-1431-4eb5-8a3e-a26542faf5ac/tables/794d4d99-16ab-4bb9-a9e4-c58c5cde0829/_delta_log/00000000000000000010.json",
         null,
         null,
         "RenamePathFile",
         1
        ],
        [
         "stsezsandbox07",
         "/stsezsandbox07/unity/83ad2d11-1431-4eb5-8a3e-a26542faf5ac/tables/fa77fedc-b2a1-4914-8455-d461701cb3ec/part-00000-3b80cd20-08f3-4584-9246-013a6b24a9ab.c000.snappy.parquet",
         null,
         null,
         "ReadFile",
         1
        ],
        [
         "stsezsandbox07",
         "/stsezsandbox07/unity/83ad2d11-1431-4eb5-8a3e-a26542faf5ac/tables/794d4d99-16ab-4bb9-a9e4-c58c5cde0829/_delta_log/__tmp_path_dir/.00000000000000000016.json.cc79189b-56c3-4fb9-aeb4-257f16411dff.tmp",
         null,
         null,
         "AppendFile",
         1
        ],
        [
         "stsezsandbox07",
         "/stsezsandbox07/unity/83ad2d11-1431-4eb5-8a3e-a26542faf5ac/tables/467fcc5f-579a-4197-892b-163a22d88a6e/part-00000-ac0025f8-9cba-414b-9c93-ecdda5d291ed.c000.snappy.parquet",
         null,
         null,
         "CreatePathFile",
         1
        ],
        [
         "stsezsandbox07",
         "/stsezsandbox07/slog/checkpoints/azure_raw_storage_log/commits/__tmp_path_dir/.2.f985b0a4-2d82-4365-ae2c-4b3c617d7a88.tmp",
         null,
         null,
         "CreatePathFile",
         1
        ],
        [
         "stsezsandbox07",
         "/stsezsandbox07/slog/checkpoints/azure_raw_storage_log/offsets/__tmp_path_dir/.0.a41b358d-196c-424d-9835-ed6ffdab2801.tmp",
         null,
         null,
         "CreatePathFile",
         1
        ],
        [
         "stsezsandbox07",
         "/stsezsandbox07/unity/83ad2d11-1431-4eb5-8a3e-a26542faf5ac/tables/794d4d99-16ab-4bb9-a9e4-c58c5cde0829/_delta_log/__tmp_path_dir/.00000000000000000001.json.0f3e7ec3-b213-4514-a577-a0b01dd17e58.tmp",
         null,
         null,
         "AppendFile",
         1
        ],
        [
         "stsezsandbox07",
         "/stsezsandbox07/unity/83ad2d11-1431-4eb5-8a3e-a26542faf5ac/tables/9ba815a2-5ecc-41ee-9f15-7ca779070272/_delta_log/00000000000000000001.json",
         null,
         null,
         "GetPathStatus",
         1
        ],
        [
         "stsezsandbox07",
         "/stsezsandbox07/unity/83ad2d11-1431-4eb5-8a3e-a26542faf5ac/tables/794d4d99-16ab-4bb9-a9e4-c58c5cde0829/_delta_log/00000000000000000021.crc",
         null,
         null,
         "RenamePathFile",
         1
        ],
        [
         "stsezsandbox07",
         "/stsezsandbox07/unity/83ad2d11-1431-4eb5-8a3e-a26542faf5ac/tables/794d4d99-16ab-4bb9-a9e4-c58c5cde0829/_delta_log/__tmp_path_dir/.00000000000000000001.crc.59fcc589-4485-4131-97e2-020b23ec61cf.tmp",
         null,
         null,
         "AppendFile",
         1
        ],
        [
         "stsezsandbox07",
         "/stsezsandbox07/slog/checkpoints/azure_raw_storage_log/sources/0",
         null,
         null,
         "CreatePathDir",
         1
        ],
        [
         "stsezsandbox07",
         "/stsezsandbox07/unity/83ad2d11-1431-4eb5-8a3e-a26542faf5ac/tables/794d4d99-16ab-4bb9-a9e4-c58c5cde0829/part-00000-864e10c8-dc46-441c-ada1-6d5d7c5ad4cc.c000.snappy.parquet",
         null,
         null,
         "CreatePathFile",
         1
        ],
        [
         "stsezsandbox07",
         "/stsezsandbox07/unity/83ad2d11-1431-4eb5-8a3e-a26542faf5ac/tables/9ba815a2-5ecc-41ee-9f15-7ca779070272/_delta_log/__tmp_path_dir/.00000000000000000011.crc.ecc37723-8c96-4588-9ba8-25077c795a08.tmp",
         null,
         null,
         "FlushFile",
         1
        ],
        [
         "stsezsandbox07",
         "/stsezsandbox07/slog/checkpoints/vw_storage_log/commits/10",
         null,
         null,
         "RenamePathFile",
         1
        ],
        [
         "stsezsandbox07",
         "/stsezsandbox07/unity/83ad2d11-1431-4eb5-8a3e-a26542faf5ac/tables/794d4d99-16ab-4bb9-a9e4-c58c5cde0829/_delta_log/__tmp_path_dir/.00000000000000000001.json.0f3e7ec3-b213-4514-a577-a0b01dd17e58.tmp",
         null,
         null,
         "FlushFile",
         1
        ],
        [
         "stsezsandbox07",
         "/stsezsandbox07/unity/83ad2d11-1431-4eb5-8a3e-a26542faf5ac/tables/9ba815a2-5ecc-41ee-9f15-7ca779070272/_delta_log/__tmp_path_dir/.00000000000000000000.json.a942a71f-d5b5-4750-aa8f-07e5480dc83a.tmp",
         null,
         null,
         "CreatePathFile",
         1
        ],
        [
         "stsezsandbox07",
         "/stsezsandbox07/unity/83ad2d11-1431-4eb5-8a3e-a26542faf5ac/tables/9ba815a2-5ecc-41ee-9f15-7ca779070272/_delta_log/__tmp_path_dir/.00000000000000000011.crc.ecc37723-8c96-4588-9ba8-25077c795a08.tmp",
         null,
         null,
         "AppendFile",
         1
        ],
        [
         "stsezsandbox07",
         "/stsezsandbox07/unity/83ad2d11-1431-4eb5-8a3e-a26542faf5ac/tables/9ba815a2-5ecc-41ee-9f15-7ca779070272/part-00000-8117a56a-51d8-4405-b532-62928a1308c8.c000.snappy.parquet",
         null,
         null,
         "FlushFile",
         1
        ],
        [
         "stsezsandbox07",
         "/stsezsandbox07/unity/83ad2d11-1431-4eb5-8a3e-a26542faf5ac/tables/fa77fedc-b2a1-4914-8455-d461701cb3ec/_delta_log/__tmp_path_dir/.00000000000000000001.json.bfe41438-cdef-4971-b9da-04725ccef6cb.tmp",
         null,
         null,
         "FlushFile",
         1
        ],
        [
         "stsezsandbox07",
         "/stsezsandbox07/unity/83ad2d11-1431-4eb5-8a3e-a26542faf5ac/tables/cf19f4d9-4527-4c9e-8b9f-76624443b9fe/part-00000-f5fbc1b7-34ab-4581-afde-4db7a5946d37.c000.snappy.parquet",
         null,
         null,
         "FlushFile",
         1
        ],
        [
         "stsezsandbox07",
         "/stsezsandbox07/unity/83ad2d11-1431-4eb5-8a3e-a26542faf5ac/tables/9ba815a2-5ecc-41ee-9f15-7ca779070272/_delta_log/__tmp_path_dir/.00000000000000000007.json.3056a509-f357-49e0-a62a-7cbf609cbc6b.tmp",
         null,
         null,
         "FlushFile",
         1
        ],
        [
         "stsezsandbox07",
         "/stsezsandbox07/unity/83ad2d11-1431-4eb5-8a3e-a26542faf5ac/tables/794d4d99-16ab-4bb9-a9e4-c58c5cde0829/_delta_log/__tmp_path_dir/.00000000000000000000.json.11a16977-d86f-4ae9-ae48-47981a3e9a40.tmp",
         null,
         null,
         "CreatePathFile",
         1
        ],
        [
         "stsezsandbox07",
         "/stsezsandbox07/unity/83ad2d11-1431-4eb5-8a3e-a26542faf5ac/tables/794d4d99-16ab-4bb9-a9e4-c58c5cde0829/_delta_log/__tmp_path_dir/.00000000000000000020.json.0d5e3660-8477-4765-adee-aa16fa3b53de.tmp",
         null,
         null,
         "CreatePathFile",
         1
        ],
        [
         "stsezsandbox07",
         "/stsezsandbox07/unity/83ad2d11-1431-4eb5-8a3e-a26542faf5ac/tables/9ba815a2-5ecc-41ee-9f15-7ca779070272/_delta_log/00000000000000000011.crc",
         null,
         null,
         "RenamePathFile",
         1
        ],
        [
         "stsezsandbox07",
         "/stsezsandbox07/unity/83ad2d11-1431-4eb5-8a3e-a26542faf5ac/tables/794d4d99-16ab-4bb9-a9e4-c58c5cde0829/_delta_log/00000000000000000008.json",
         null,
         null,
         "RenamePathFile",
         1
        ],
        [
         "stsezsandbox07",
         "/stsezsandbox07/unity/83ad2d11-1431-4eb5-8a3e-a26542faf5ac/tables/467fcc5f-579a-4197-892b-163a22d88a6e/_delta_log/__tmp_path_dir/.00000000000000000002.crc.63a67d50-7905-46a4-a54c-50bc4d722e8b.tmp",
         null,
         null,
         "CreatePathFile",
         1
        ],
        [
         "stsezsandbox07",
         "/stsezsandbox07/unity/83ad2d11-1431-4eb5-8a3e-a26542faf5ac/tables/467fcc5f-579a-4197-892b-163a22d88a6e/part-00000-ac0025f8-9cba-414b-9c93-ecdda5d291ed.c000.snappy.parquet",
         null,
         null,
         "FlushFile",
         1
        ],
        [
         "stsezsandbox07",
         "/stsezsandbox07/slog/checkpoints/azure_raw_storage_log/offsets/__tmp_path_dir/.1.1db4289c-c0aa-4382-92af-70e59e6f9666.tmp",
         null,
         null,
         "FlushFile",
         1
        ],
        [
         "stsezsandbox07",
         "/stsezsandbox07/unity/83ad2d11-1431-4eb5-8a3e-a26542faf5ac/tables/9ba815a2-5ecc-41ee-9f15-7ca779070272/part-00000-cb469aa0-abe1-4269-ac38-f9fa6f1fda0d.c000.snappy.parquet",
         null,
         null,
         "CreatePathFile",
         1
        ],
        [
         "stsezsandbox07",
         "/stsezsandbox07/unity/83ad2d11-1431-4eb5-8a3e-a26542faf5ac/tables/fa77fedc-b2a1-4914-8455-d461701cb3ec/_delta_log/__tmp_path_dir/.00000000000000000001.crc.70ea51e1-e9bb-4027-a554-ced73d53d7b2.tmp",
         null,
         null,
         "AppendFile",
         1
        ],
        [
         "stsezsandbox07",
         "/stsezsandbox07/unity/83ad2d11-1431-4eb5-8a3e-a26542faf5ac/tables/9ba815a2-5ecc-41ee-9f15-7ca779070272/part-00000-50dac75d-08ae-408a-9d98-fa0e7f96c467.c000.snappy.parquet",
         null,
         null,
         "FlushFile",
         1
        ],
        [
         "stsezsandbox07",
         "/stsezsandbox07/unity/83ad2d11-1431-4eb5-8a3e-a26542faf5ac/tables/fa77fedc-b2a1-4914-8455-d461701cb3ec/_delta_log/_last_checkpoint",
         null,
         null,
         "GetPathStatus",
         1
        ],
        [
         "stsezsandbox07",
         "/stsezsandbox07/unity/83ad2d11-1431-4eb5-8a3e-a26542faf5ac/tables/794d4d99-16ab-4bb9-a9e4-c58c5cde0829/_delta_log/__tmp_path_dir/.00000000000000000016.crc.036fa83f-5c31-43ca-96b6-8412b276307c.tmp",
         null,
         null,
         "FlushFile",
         1
        ],
        [
         "stsezsandbox07",
         "/stsezsandbox07/unity/83ad2d11-1431-4eb5-8a3e-a26542faf5ac/tables/9ba815a2-5ecc-41ee-9f15-7ca779070272/_delta_log/00000000000000000001.00000000000000000006.compacted.json",
         null,
         null,
         "RenamePathFile",
         1
        ],
        [
         "stsezsandbox07",
         "/stsezsandbox07/unity/83ad2d11-1431-4eb5-8a3e-a26542faf5ac/tables/794d4d99-16ab-4bb9-a9e4-c58c5cde0829/_delta_log/__tmp_path_dir/.00000000000000000010.json.3f07c14c-5fed-4231-a941-1bf66496cb72.tmp",
         null,
         null,
         "AppendFile",
         1
        ],
        [
         "stsezsandbox07",
         "/stsezsandbox07/unity/83ad2d11-1431-4eb5-8a3e-a26542faf5ac/tables/cf19f4d9-4527-4c9e-8b9f-76624443b9fe/_delta_log/00000000000000000001.crc",
         null,
         null,
         "ReadFile",
         1
        ],
        [
         "stsezsandbox07",
         "/stsezsandbox07/unity/83ad2d11-1431-4eb5-8a3e-a26542faf5ac/tables/794d4d99-16ab-4bb9-a9e4-c58c5cde0829/part-00000-551e6949-dbb0-426d-9db7-7b6afe324764.c000.snappy.parquet",
         null,
         null,
         "FlushFile",
         1
        ]
       ],
       "datasetInfos": [
        {
         "name": "_sqldf",
         "schema": {
          "fields": [
           {
            "metadata": {},
            "name": "Storage_AccountName",
            "nullable": true,
            "type": "string"
           },
           {
            "metadata": {},
            "name": "Storage_RelativePath",
            "nullable": true,
            "type": "string"
           },
           {
            "metadata": {},
            "name": "IT_TableName",
            "nullable": true,
            "type": "string"
           },
           {
            "metadata": {
             "comment": "One of 'BASE TABLE', 'VIEW'."
            },
            "name": "IT_TableType",
            "nullable": true,
            "type": "string"
           },
           {
            "metadata": {},
            "name": "Storage_OperationName",
            "nullable": true,
            "type": "string"
           },
           {
            "metadata": {},
            "name": "operation_count",
            "nullable": false,
            "type": "long"
           }
          ],
          "type": "struct"
         },
         "tableIdentifier": null,
         "typeStr": "pyspark.sql.connect.dataframe.DataFrame"
        }
       ],
       "dbfsResultPath": null,
       "isJsonSchema": true,
       "metadata": {
        "createTempViewForImplicitDf": true,
        "dataframeName": "_sqldf",
        "executionCount": 8
       },
       "overflow": false,
       "plotOptions": {
        "customPlotOptions": {},
        "displayType": "table",
        "pivotAggregation": null,
        "pivotColumns": null,
        "xColumns": null,
        "yColumns": null
       },
       "removedWidgets": [],
       "schema": [
        {
         "metadata": "{}",
         "name": "Storage_AccountName",
         "type": "\"string\""
        },
        {
         "metadata": "{}",
         "name": "Storage_RelativePath",
         "type": "\"string\""
        },
        {
         "metadata": "{}",
         "name": "IT_TableName",
         "type": "\"string\""
        },
        {
         "metadata": "{\"comment\": \"One of 'BASE TABLE', 'VIEW'.\"}",
         "name": "IT_TableType",
         "type": "\"string\""
        },
        {
         "metadata": "{}",
         "name": "Storage_OperationName",
         "type": "\"string\""
        },
        {
         "metadata": "{}",
         "name": "operation_count",
         "type": "\"long\""
        }
       ],
       "type": "table"
      }
     },
     "output_type": "display_data"
    }
   ],
   "source": [
    "-- DELTA_LOG INTERROGATION OF PATHS\n",
    "with external_tables_not_registered as (\n",
    "  select\n",
    "    Storage_AccountName,\n",
    "    REGEXP_REPLACE(Storage_RelativePath, '^[^/]+://[^/]+/$', '') as Storage_RelativePath,\n",
    "    Storage_Action,\n",
    "    count(*) as operation_count\n",
    "  from\n",
    "    slog.default.vw_storagelogs_information_schema\n",
    "  where\n",
    "    IT_TableType is null\n",
    "    and lower(REGEXP_REPLACE(Storage_RelativePath, '^[^/]+://[^/]+/$', '')) like '%/_delta_log'\n",
    "  group by\n",
    "    Storage_AccountName,\n",
    "    REGEXP_REPLACE(Storage_RelativePath, '^[^/]+://[^/]+/$', ''),\n",
    "    Storage_Action\n",
    "  order by\n",
    "    operation_count desc\n",
    ")\n",
    "select\n",
    "  *\n",
    "from\n",
    "  external_tables_not_registered\n",
    "pivot (\n",
    "  max(operation_count) for Storage_Action in ('read' as read_count, 'write' as write_count, 'delete' as delete_count)\n",
    ")"
   ]
  }
 ],
 "metadata": {
  "application/vnd.databricks.v1+notebook": {
   "computePreferences": null,
   "dashboards": [],
   "environmentMetadata": {
    "base_environment": "",
    "environment_version": "2"
   },
   "inputWidgetPreferences": null,
   "language": "sql",
   "notebookMetadata": {
    "pythonIndentUnit": 4
   },
   "notebookName": "SLOG - Exploration",
   "widgets": {}
  },
  "kernelspec": {
   "display_name": ".venv",
   "language": "python",
   "name": "python3"
  },
  "language_info": {
   "name": "python",
   "version": "3.12.6"
  }
 },
 "nbformat": 4,
 "nbformat_minor": 0
}
