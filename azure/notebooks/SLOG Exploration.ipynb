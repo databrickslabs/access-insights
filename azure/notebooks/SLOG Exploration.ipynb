{
 "cells": [
  {
   "cell_type": "markdown",
   "metadata": {
    "application/vnd.databricks.v1+cell": {
     "cellMetadata": {},
     "inputWidgets": {},
     "nuid": "20b33acc-20e4-4530-9387-ee7747d1fabc",
     "showTitle": false,
     "tableResultSettingsMap": {},
     "title": ""
    }
   },
   "source": [
    "####Look into external tools \n",
    "- Objective - Look into read, write, delete operations on Storage for external tables ONLY.   To identify good candidates that can be migrated to Managed Tables.\n",
    "  - Identify if an external table is being leveraged by an external platform. If it is it would not be a good candidate until the write operations subside.\n",
    "\n",
    "External Table -> main.default.mytable\n",
    "- Leveraged by Databricks\n",
    "- Leveraged by External Platforms, Read Only for Good Candidate\n",
    "\n",
    "External Table -> main.default.xyz\n",
    "- Leveraged by Databricks\n",
    "- Good Candidate would be read, write, delete\n",
    "\n"
   ]
  },
  {
   "cell_type": "markdown",
   "metadata": {
    "application/vnd.databricks.v1+cell": {
     "cellMetadata": {},
     "inputWidgets": {},
     "nuid": "ec511183-08c8-488d-9fd9-2abaa9d557ac",
     "showTitle": false,
     "tableResultSettingsMap": {},
     "title": ""
    }
   },
   "source": [
    "#### External Tables"
   ]
  },
  {
   "cell_type": "code",
   "execution_count": 0,
   "metadata": {
    "application/vnd.databricks.v1+cell": {
     "cellMetadata": {},
     "inputWidgets": {},
     "nuid": "c2ad3856-fe67-4b43-85ec-cf9b088fdf88",
     "showTitle": false,
     "tableResultSettingsMap": {},
     "title": ""
    }
   },
   "outputs": [
    {
     "output_type": "display_data",
     "data": {
      "text/html": [
       "<style scoped>\n",
       "  .table-result-container {\n",
       "    max-height: 300px;\n",
       "    overflow: auto;\n",
       "  }\n",
       "  table, th, td {\n",
       "    border: 1px solid black;\n",
       "    border-collapse: collapse;\n",
       "  }\n",
       "  th, td {\n",
       "    padding: 5px;\n",
       "  }\n",
       "  th {\n",
       "    text-align: left;\n",
       "  }\n",
       "</style><div class='table-result-container'><table class='table-result'><thead style='background-color: white'><tr><th>IT_TableName</th><th>Storage_userAgentHeader</th><th>IT_TableType</th></tr></thead><tbody><tr><td>main.default.my_table</td><td>Azure Blob FS/3.3 (AzulSystems,Inc. JavaJRE 17.0.13; Linux 5.15.0-1075-azure/amd64; SunJSSE-17.0; UNKNOWN/UNKNOWN) APN/1.0 unknown</td><td>EXTERNAL</td></tr><tr><td>main.default.my_table</td><td>APN/1.0 Databricks/1.0 DBR/null</td><td>EXTERNAL</td></tr></tbody></table></div>"
      ]
     },
     "metadata": {
      "application/vnd.databricks.v1+output": {
       "addedWidgets": {},
       "aggData": [],
       "aggError": "",
       "aggOverflow": false,
       "aggSchema": [],
       "aggSeriesLimitReached": false,
       "aggType": "",
       "arguments": {},
       "columnCustomDisplayInfos": {},
       "data": [
        [
         "main.default.my_table",
         "Azure Blob FS/3.3 (AzulSystems,Inc. JavaJRE 17.0.13; Linux 5.15.0-1075-azure/amd64; SunJSSE-17.0; UNKNOWN/UNKNOWN) APN/1.0 unknown",
         "EXTERNAL"
        ],
        [
         "main.default.my_table",
         "APN/1.0 Databricks/1.0 DBR/null",
         "EXTERNAL"
        ]
       ],
       "datasetInfos": [
        {
         "name": "_sqldf",
         "schema": {
          "fields": [
           {
            "metadata": {},
            "name": "IT_TableName",
            "nullable": true,
            "type": "string"
           },
           {
            "metadata": {},
            "name": "Storage_userAgentHeader",
            "nullable": true,
            "type": "string"
           },
           {
            "metadata": {
             "comment": "One of 'BASE TABLE', 'VIEW'."
            },
            "name": "IT_TableType",
            "nullable": true,
            "type": "string"
           }
          ],
          "type": "struct"
         },
         "tableIdentifier": null,
         "typeStr": "pyspark.sql.connect.dataframe.DataFrame"
        }
       ],
       "dbfsResultPath": null,
       "isJsonSchema": true,
       "metadata": {
        "createTempViewForImplicitDf": true,
        "dataframeName": "_sqldf",
        "executionCount": 102
       },
       "overflow": false,
       "plotOptions": {
        "customPlotOptions": {},
        "displayType": "table",
        "pivotAggregation": null,
        "pivotColumns": null,
        "xColumns": null,
        "yColumns": null
       },
       "removedWidgets": [],
       "schema": [
        {
         "metadata": "{}",
         "name": "IT_TableName",
         "type": "\"string\""
        },
        {
         "metadata": "{}",
         "name": "Storage_userAgentHeader",
         "type": "\"string\""
        },
        {
         "metadata": "{\"comment\": \"One of 'BASE TABLE', 'VIEW'.\"}",
         "name": "IT_TableType",
         "type": "\"string\""
        }
       ],
       "type": "table"
      }
     },
     "output_type": "display_data"
    }
   ],
   "source": [
    "select distinct\n",
    "  IT_TableName,\n",
    "  Storage_userAgentHeader,\n",
    "  IT_TableType\n",
    "from\n",
    "  slog.default.vw_storagelogs_information_schema\n",
    "where\n",
    "  -- lower(Storage_userAgentHeader) like '%databricks%' and\n",
    "  lower(IT_TableType) like '%external%'"
   ]
  },
  {
   "cell_type": "markdown",
   "metadata": {
    "application/vnd.databricks.v1+cell": {
     "cellMetadata": {},
     "inputWidgets": {},
     "nuid": "8eb72445-4cda-400c-b42f-62e8d36bd717",
     "showTitle": false,
     "tableResultSettingsMap": {},
     "title": ""
    }
   },
   "source": [
    "#### Unique Agent Headers"
   ]
  },
  {
   "cell_type": "code",
   "execution_count": 0,
   "metadata": {
    "application/vnd.databricks.v1+cell": {
     "cellMetadata": {},
     "inputWidgets": {},
     "nuid": "79dff04e-bfb8-4cd2-a3b7-1662e2e7635d",
     "showTitle": false,
     "tableResultSettingsMap": {},
     "title": ""
    }
   },
   "outputs": [
    {
     "output_type": "display_data",
     "data": {
      "text/html": [
       "<style scoped>\n",
       "  .table-result-container {\n",
       "    max-height: 300px;\n",
       "    overflow: auto;\n",
       "  }\n",
       "  table, th, td {\n",
       "    border: 1px solid black;\n",
       "    border-collapse: collapse;\n",
       "  }\n",
       "  th, td {\n",
       "    padding: 5px;\n",
       "  }\n",
       "  th {\n",
       "    text-align: left;\n",
       "  }\n",
       "</style><div class='table-result-container'><table class='table-result'><thead style='background-color: white'><tr><th>Storage_userAgentHeader</th><th>Storage_OperationName</th><th>Storage_Action</th><th>count(*)</th></tr></thead><tbody><tr><td>Azure Blob FS/3.3 (OracleCorporation JavaJRE 17.0.12; Linux 5.4.0-1145-azure-fips/amd64; SunJSSE-17.0; UNKNOWN/UNKNOWN) APN/1.0 Databricks/1.0 DBR/UNKNOWN</td><td>GetPathStatus</td><td>read</td><td>1</td></tr><tr><td>Azure Blob FS/3.3 (AzulSystems,Inc. JavaJRE 17.0.13; Linux 5.15.0-1075-azure/amd64; SunJSSE-17.0; UNKNOWN/UNKNOWN) APN/1.0 unknown</td><td>AppendFile</td><td>write</td><td>325</td></tr><tr><td>Azure Blob FS/3.3 (OracleCorporation JavaJRE 17.0.12; Linux 5.4.0-1145-azure-fips/amd64; SunJSSE-17.0; UNKNOWN/UNKNOWN) APN/1.0 Databricks/1.0 DBR/UNKNOWN</td><td>GetPathAccessControl</td><td>read</td><td>13</td></tr><tr><td>Azure Blob FS/3.3 (AzulSystems,Inc. JavaJRE 17.0.13; Linux 5.15.0-1075-azure/amd64; SunJSSE-17.0; UNKNOWN/UNKNOWN) APN/1.0 unknown</td><td>CreatePathDir</td><td>write</td><td>7</td></tr><tr><td>azsdk-js-storageblob/12.5.0 (NODE-VERSION v18.20.4; Linux 5.10.234-225.921.amzn2.aarch64)</td><td>ListContainers</td><td>read</td><td>8</td></tr><tr><td>Azure Blob FS/3.3 (AzulSystems,Inc. JavaJRE 1.8.0_412; Linux 5.15.0-1075-azure/amd64; SunJSSE-1.8; UNKNOWN/UNKNOWN) APN/1.0 unknown</td><td>ListFilesystemDir</td><td>read</td><td>5374</td></tr><tr><td>Mozilla/5.0 (Macintosh; Intel Mac OS X 10_15_7) AppleWebKit/537.36 (KHTML, like Gecko) Chrome/135.0.0.0 Safari/537.36</td><td>GetBlobServiceProperties</td><td>read</td><td>5</td></tr><tr><td>Azure Blob FS/3.3 (AzulSystems,Inc. JavaJRE 17.0.13; Linux 5.15.0-1075-azure/amd64; SunJSSE-17.0; UNKNOWN/UNKNOWN) APN/1.0 unknown</td><td>RenamePathFile</td><td>read</td><td>333</td></tr><tr><td>azsdk-js-storageblob/12.5.0 (NODE-VERSION v18.20.4; Linux 5.10.234-225.910.amzn2.aarch64)</td><td>ListContainers</td><td>read</td><td>1</td></tr><tr><td>Mozilla/5.0 (Macintosh; Intel Mac OS X 10_15_7) AppleWebKit/537.36 (KHTML, like Gecko) Chrome/135.0.0.0 Safari/537.36</td><td>ListBlobs</td><td>null</td><td>18</td></tr><tr><td>APN/1.0 Databricks/1.0 DBR/null</td><td>ReadFile</td><td>read</td><td>4236</td></tr><tr><td>Azure Blob FS/3.3 (OracleCorporation JavaJRE 17.0.12; Linux 5.4.0-1145-azure-fips/amd64; SunJSSE-17.0; UNKNOWN/UNKNOWN) APN/1.0 Databricks/1.0 DBR/UNKNOWN</td><td>GetPathStatus</td><td>null</td><td>3</td></tr><tr><td>Azure Blob FS/3.3 (AzulSystems,Inc. JavaJRE 17.0.13; Linux 5.15.0-1075-azure/amd64; SunJSSE-17.0; UNKNOWN/UNKNOWN) APN/1.0 unknown</td><td>ListFilesystemDir</td><td>read</td><td>1145</td></tr><tr><td>Azure Blob FS/3.3 (AzulSystems,Inc. JavaJRE 1.8.0_412; Linux 5.15.0-1075-azure/amd64; SunJSSE-1.8; UNKNOWN/UNKNOWN) APN/1.0 unknown</td><td>AppendFile</td><td>write</td><td>7427</td></tr><tr><td>Azure Blob FS/3.3 (AzulSystems,Inc. JavaJRE 17.0.13; Linux 5.15.0-1075-azure/amd64; SunJSSE-17.0; UNKNOWN/UNKNOWN) APN/1.0 unknown</td><td>FlushFile</td><td>write</td><td>344</td></tr><tr><td>azsdk-js-data-tables/12.1.2 core-rest-pipeline/1.19.0 Node/18.20.4 OS/(arm64-Linux-5.10.234-225.921.amzn2.aarch64)</td><td>GetBlobServiceProperties</td><td>read</td><td>8</td></tr><tr><td>Azure Blob FS/3.3 (AzulSystems,Inc. JavaJRE 17.0.13; Linux 5.15.0-1075-azure/amd64; SunJSSE-17.0; UNKNOWN/UNKNOWN) APN/1.0 unknown</td><td>CreatePathFile</td><td>write</td><td>348</td></tr><tr><td>azsdk-js-storageblob/12.5.0 (NODE-VERSION v18.20.4; Linux 5.10.234-225.910.amzn2.aarch64)</td><td>GetBlobServiceProperties</td><td>read</td><td>1</td></tr><tr><td>Azure Blob FS/3.3 (AzulSystems,Inc. JavaJRE 17.0.13; Linux 5.15.0-1075-azure/amd64; SunJSSE-17.0; UNKNOWN/UNKNOWN) APN/1.0 unknown</td><td>DeleteFile</td><td>delete</td><td>20</td></tr><tr><td>Mozilla/5.0 (Macintosh; Intel Mac OS X 10_15_7) AppleWebKit/537.36 (KHTML, like Gecko) Chrome/135.0.0.0 Safari/537.36</td><td>DeleteFile</td><td>null</td><td>1</td></tr><tr><td>Azure Blob FS/3.3 (AzulSystems,Inc. JavaJRE 1.8.0_412; Linux 5.15.0-1075-azure/amd64; SunJSSE-1.8; UNKNOWN/UNKNOWN) APN/1.0 unknown</td><td>CreatePathFile</td><td>write</td><td>7486</td></tr><tr><td>Mozilla/5.0 (Macintosh; Intel Mac OS X 10_15_7) AppleWebKit/537.36 (KHTML, like Gecko) Chrome/135.0.0.0 Safari/537.36</td><td>DeleteDirectory</td><td>null</td><td>5</td></tr><tr><td>Azure Blob FS/3.3 (AzulSystems,Inc. JavaJRE 17.0.13; Linux 5.15.0-1075-azure/amd64; SunJSSE-17.0; UNKNOWN/UNKNOWN) APN/1.0 unknown</td><td>GetPathStatus</td><td>read</td><td>2786</td></tr><tr><td>Azure Blob FS/3.3 (AzulSystems,Inc. JavaJRE 1.8.0_412; Linux 5.15.0-1075-azure/amd64; SunJSSE-1.8; UNKNOWN/UNKNOWN) APN/1.0 unknown</td><td>FlushFile</td><td>write</td><td>7414</td></tr><tr><td>SRP/1.0</td><td>ListContainers</td><td>null</td><td>18</td></tr><tr><td>SRP/1.0</td><td>GetContainerProperties</td><td>null</td><td>32</td></tr><tr><td>Azure Blob FS/3.3 (OracleCorporation JavaJRE 17.0.12; Linux 5.4.0-1145-azure-fips/amd64; SunJSSE-17.0; UNKNOWN/UNKNOWN) APN/1.0 Databricks/1.0 DBR/UNKNOWN</td><td>DeleteDirectory</td><td>delete</td><td>4</td></tr><tr><td>Azure Blob FS/3.3 (AzulSystems,Inc. JavaJRE 1.8.0_412; Linux 5.15.0-1075-azure/amd64; SunJSSE-1.8; UNKNOWN/UNKNOWN) APN/1.0 unknown</td><td>ReadFile</td><td>read</td><td>21141</td></tr><tr><td>Azure Blob FS/3.3 (AzulSystems,Inc. JavaJRE 1.8.0_412; Linux 5.15.0-1075-azure/amd64; SunJSSE-1.8; UNKNOWN/UNKNOWN) APN/1.0 unknown</td><td>GetPathStatus</td><td>read</td><td>11940</td></tr><tr><td>Go/go1.22.4 X:boringcrypto,nocoverageredesign (amd64-linux) go-autorest/v14.2.1 Azure-SDK-For-Go/v32.1.0 storagedatalake/2018-11-09</td><td>ReadFile</td><td>read</td><td>6</td></tr><tr><td>Azure Blob FS/3.3 (AzulSystems,Inc. JavaJRE 17.0.13; Linux 5.15.0-1075-azure/amd64; SunJSSE-17.0; UNKNOWN/UNKNOWN) APN/1.0 unknown</td><td>ReadFile</td><td>read</td><td>2861</td></tr><tr><td>azsdk-java-azure-storage-blob/12.29.0 (17.0.12; Linux; 5.4.0-1145-azure-fips)</td><td>GetUserDelegationKey</td><td>action</td><td>112</td></tr><tr><td>Mozilla/5.0 (Macintosh; Intel Mac OS X 10_15_7) AppleWebKit/537.36 (KHTML, like Gecko) Chrome/135.0.0.0 Safari/537.36</td><td>BlobPreflightRequest</td><td>null</td><td>12</td></tr><tr><td>Azure Blob FS/3.3 (OracleCorporation JavaJRE 17.0.12; Linux 5.4.0-1145-azure-fips/amd64; SunJSSE-17.0; UNKNOWN/UNKNOWN) APN/1.0 Databricks/1.0 DBR/UNKNOWN</td><td>ReadFile</td><td>null</td><td>1</td></tr><tr><td>SRP/1.0</td><td>GetBlobServiceProperties</td><td>null</td><td>50</td></tr><tr><td>azsdk-js-data-tables/12.1.2 core-rest-pipeline/1.19.0 Node/18.20.4 OS/(arm64-Linux-5.10.234-225.910.amzn2.aarch64)</td><td>GetBlobServiceProperties</td><td>read</td><td>1</td></tr><tr><td>SRP/1.0</td><td>GetContainerServiceMetadata</td><td>null</td><td>10</td></tr><tr><td>azsdk-js-storageblob/12.5.0 (NODE-VERSION v18.20.4; Linux 5.10.234-225.921.amzn2.aarch64)</td><td>GetBlobServiceProperties</td><td>read</td><td>8</td></tr><tr><td>Azure Blob FS/3.3 (AzulSystems,Inc. JavaJRE 1.8.0_412; Linux 5.15.0-1075-azure/amd64; SunJSSE-1.8; UNKNOWN/UNKNOWN) APN/1.0 unknown</td><td>RenamePathFile</td><td>read</td><td>5108</td></tr><tr><td>Azure Blob FS/3.3 (AzulSystems,Inc. JavaJRE 1.8.0_412; Linux 5.15.0-1075-azure/amd64; SunJSSE-1.8; UNKNOWN/UNKNOWN) APN/1.0 unknown</td><td>DeleteFile</td><td>delete</td><td>1749</td></tr></tbody></table></div>"
      ]
     },
     "metadata": {
      "application/vnd.databricks.v1+output": {
       "addedWidgets": {},
       "aggData": [],
       "aggError": "",
       "aggOverflow": false,
       "aggSchema": [],
       "aggSeriesLimitReached": false,
       "aggType": "",
       "arguments": {},
       "columnCustomDisplayInfos": {},
       "data": [
        [
         "Azure Blob FS/3.3 (OracleCorporation JavaJRE 17.0.12; Linux 5.4.0-1145-azure-fips/amd64; SunJSSE-17.0; UNKNOWN/UNKNOWN) APN/1.0 Databricks/1.0 DBR/UNKNOWN",
         "GetPathStatus",
         "read",
         1
        ],
        [
         "Azure Blob FS/3.3 (AzulSystems,Inc. JavaJRE 17.0.13; Linux 5.15.0-1075-azure/amd64; SunJSSE-17.0; UNKNOWN/UNKNOWN) APN/1.0 unknown",
         "AppendFile",
         "write",
         325
        ],
        [
         "Azure Blob FS/3.3 (OracleCorporation JavaJRE 17.0.12; Linux 5.4.0-1145-azure-fips/amd64; SunJSSE-17.0; UNKNOWN/UNKNOWN) APN/1.0 Databricks/1.0 DBR/UNKNOWN",
         "GetPathAccessControl",
         "read",
         13
        ],
        [
         "Azure Blob FS/3.3 (AzulSystems,Inc. JavaJRE 17.0.13; Linux 5.15.0-1075-azure/amd64; SunJSSE-17.0; UNKNOWN/UNKNOWN) APN/1.0 unknown",
         "CreatePathDir",
         "write",
         7
        ],
        [
         "azsdk-js-storageblob/12.5.0 (NODE-VERSION v18.20.4; Linux 5.10.234-225.921.amzn2.aarch64)",
         "ListContainers",
         "read",
         8
        ],
        [
         "Azure Blob FS/3.3 (AzulSystems,Inc. JavaJRE 1.8.0_412; Linux 5.15.0-1075-azure/amd64; SunJSSE-1.8; UNKNOWN/UNKNOWN) APN/1.0 unknown",
         "ListFilesystemDir",
         "read",
         5374
        ],
        [
         "Mozilla/5.0 (Macintosh; Intel Mac OS X 10_15_7) AppleWebKit/537.36 (KHTML, like Gecko) Chrome/135.0.0.0 Safari/537.36",
         "GetBlobServiceProperties",
         "read",
         5
        ],
        [
         "Azure Blob FS/3.3 (AzulSystems,Inc. JavaJRE 17.0.13; Linux 5.15.0-1075-azure/amd64; SunJSSE-17.0; UNKNOWN/UNKNOWN) APN/1.0 unknown",
         "RenamePathFile",
         "read",
         333
        ],
        [
         "azsdk-js-storageblob/12.5.0 (NODE-VERSION v18.20.4; Linux 5.10.234-225.910.amzn2.aarch64)",
         "ListContainers",
         "read",
         1
        ],
        [
         "Mozilla/5.0 (Macintosh; Intel Mac OS X 10_15_7) AppleWebKit/537.36 (KHTML, like Gecko) Chrome/135.0.0.0 Safari/537.36",
         "ListBlobs",
         null,
         18
        ],
        [
         "APN/1.0 Databricks/1.0 DBR/null",
         "ReadFile",
         "read",
         4236
        ],
        [
         "Azure Blob FS/3.3 (OracleCorporation JavaJRE 17.0.12; Linux 5.4.0-1145-azure-fips/amd64; SunJSSE-17.0; UNKNOWN/UNKNOWN) APN/1.0 Databricks/1.0 DBR/UNKNOWN",
         "GetPathStatus",
         null,
         3
        ],
        [
         "Azure Blob FS/3.3 (AzulSystems,Inc. JavaJRE 17.0.13; Linux 5.15.0-1075-azure/amd64; SunJSSE-17.0; UNKNOWN/UNKNOWN) APN/1.0 unknown",
         "ListFilesystemDir",
         "read",
         1145
        ],
        [
         "Azure Blob FS/3.3 (AzulSystems,Inc. JavaJRE 1.8.0_412; Linux 5.15.0-1075-azure/amd64; SunJSSE-1.8; UNKNOWN/UNKNOWN) APN/1.0 unknown",
         "AppendFile",
         "write",
         7427
        ],
        [
         "Azure Blob FS/3.3 (AzulSystems,Inc. JavaJRE 17.0.13; Linux 5.15.0-1075-azure/amd64; SunJSSE-17.0; UNKNOWN/UNKNOWN) APN/1.0 unknown",
         "FlushFile",
         "write",
         344
        ],
        [
         "azsdk-js-data-tables/12.1.2 core-rest-pipeline/1.19.0 Node/18.20.4 OS/(arm64-Linux-5.10.234-225.921.amzn2.aarch64)",
         "GetBlobServiceProperties",
         "read",
         8
        ],
        [
         "Azure Blob FS/3.3 (AzulSystems,Inc. JavaJRE 17.0.13; Linux 5.15.0-1075-azure/amd64; SunJSSE-17.0; UNKNOWN/UNKNOWN) APN/1.0 unknown",
         "CreatePathFile",
         "write",
         348
        ],
        [
         "azsdk-js-storageblob/12.5.0 (NODE-VERSION v18.20.4; Linux 5.10.234-225.910.amzn2.aarch64)",
         "GetBlobServiceProperties",
         "read",
         1
        ],
        [
         "Azure Blob FS/3.3 (AzulSystems,Inc. JavaJRE 17.0.13; Linux 5.15.0-1075-azure/amd64; SunJSSE-17.0; UNKNOWN/UNKNOWN) APN/1.0 unknown",
         "DeleteFile",
         "delete",
         20
        ],
        [
         "Mozilla/5.0 (Macintosh; Intel Mac OS X 10_15_7) AppleWebKit/537.36 (KHTML, like Gecko) Chrome/135.0.0.0 Safari/537.36",
         "DeleteFile",
         null,
         1
        ],
        [
         "Azure Blob FS/3.3 (AzulSystems,Inc. JavaJRE 1.8.0_412; Linux 5.15.0-1075-azure/amd64; SunJSSE-1.8; UNKNOWN/UNKNOWN) APN/1.0 unknown",
         "CreatePathFile",
         "write",
         7486
        ],
        [
         "Mozilla/5.0 (Macintosh; Intel Mac OS X 10_15_7) AppleWebKit/537.36 (KHTML, like Gecko) Chrome/135.0.0.0 Safari/537.36",
         "DeleteDirectory",
         null,
         5
        ],
        [
         "Azure Blob FS/3.3 (AzulSystems,Inc. JavaJRE 17.0.13; Linux 5.15.0-1075-azure/amd64; SunJSSE-17.0; UNKNOWN/UNKNOWN) APN/1.0 unknown",
         "GetPathStatus",
         "read",
         2786
        ],
        [
         "Azure Blob FS/3.3 (AzulSystems,Inc. JavaJRE 1.8.0_412; Linux 5.15.0-1075-azure/amd64; SunJSSE-1.8; UNKNOWN/UNKNOWN) APN/1.0 unknown",
         "FlushFile",
         "write",
         7414
        ],
        [
         "SRP/1.0",
         "ListContainers",
         null,
         18
        ],
        [
         "SRP/1.0",
         "GetContainerProperties",
         null,
         32
        ],
        [
         "Azure Blob FS/3.3 (OracleCorporation JavaJRE 17.0.12; Linux 5.4.0-1145-azure-fips/amd64; SunJSSE-17.0; UNKNOWN/UNKNOWN) APN/1.0 Databricks/1.0 DBR/UNKNOWN",
         "DeleteDirectory",
         "delete",
         4
        ],
        [
         "Azure Blob FS/3.3 (AzulSystems,Inc. JavaJRE 1.8.0_412; Linux 5.15.0-1075-azure/amd64; SunJSSE-1.8; UNKNOWN/UNKNOWN) APN/1.0 unknown",
         "ReadFile",
         "read",
         21141
        ],
        [
         "Azure Blob FS/3.3 (AzulSystems,Inc. JavaJRE 1.8.0_412; Linux 5.15.0-1075-azure/amd64; SunJSSE-1.8; UNKNOWN/UNKNOWN) APN/1.0 unknown",
         "GetPathStatus",
         "read",
         11940
        ],
        [
         "Go/go1.22.4 X:boringcrypto,nocoverageredesign (amd64-linux) go-autorest/v14.2.1 Azure-SDK-For-Go/v32.1.0 storagedatalake/2018-11-09",
         "ReadFile",
         "read",
         6
        ],
        [
         "Azure Blob FS/3.3 (AzulSystems,Inc. JavaJRE 17.0.13; Linux 5.15.0-1075-azure/amd64; SunJSSE-17.0; UNKNOWN/UNKNOWN) APN/1.0 unknown",
         "ReadFile",
         "read",
         2861
        ],
        [
         "azsdk-java-azure-storage-blob/12.29.0 (17.0.12; Linux; 5.4.0-1145-azure-fips)",
         "GetUserDelegationKey",
         "action",
         112
        ],
        [
         "Mozilla/5.0 (Macintosh; Intel Mac OS X 10_15_7) AppleWebKit/537.36 (KHTML, like Gecko) Chrome/135.0.0.0 Safari/537.36",
         "BlobPreflightRequest",
         null,
         12
        ],
        [
         "Azure Blob FS/3.3 (OracleCorporation JavaJRE 17.0.12; Linux 5.4.0-1145-azure-fips/amd64; SunJSSE-17.0; UNKNOWN/UNKNOWN) APN/1.0 Databricks/1.0 DBR/UNKNOWN",
         "ReadFile",
         null,
         1
        ],
        [
         "SRP/1.0",
         "GetBlobServiceProperties",
         null,
         50
        ],
        [
         "azsdk-js-data-tables/12.1.2 core-rest-pipeline/1.19.0 Node/18.20.4 OS/(arm64-Linux-5.10.234-225.910.amzn2.aarch64)",
         "GetBlobServiceProperties",
         "read",
         1
        ],
        [
         "SRP/1.0",
         "GetContainerServiceMetadata",
         null,
         10
        ],
        [
         "azsdk-js-storageblob/12.5.0 (NODE-VERSION v18.20.4; Linux 5.10.234-225.921.amzn2.aarch64)",
         "GetBlobServiceProperties",
         "read",
         8
        ],
        [
         "Azure Blob FS/3.3 (AzulSystems,Inc. JavaJRE 1.8.0_412; Linux 5.15.0-1075-azure/amd64; SunJSSE-1.8; UNKNOWN/UNKNOWN) APN/1.0 unknown",
         "RenamePathFile",
         "read",
         5108
        ],
        [
         "Azure Blob FS/3.3 (AzulSystems,Inc. JavaJRE 1.8.0_412; Linux 5.15.0-1075-azure/amd64; SunJSSE-1.8; UNKNOWN/UNKNOWN) APN/1.0 unknown",
         "DeleteFile",
         "delete",
         1749
        ]
       ],
       "datasetInfos": [
        {
         "name": "_sqldf",
         "schema": {
          "fields": [
           {
            "metadata": {},
            "name": "Storage_userAgentHeader",
            "nullable": true,
            "type": "string"
           },
           {
            "metadata": {},
            "name": "Storage_OperationName",
            "nullable": true,
            "type": "string"
           },
           {
            "metadata": {},
            "name": "Storage_Action",
            "nullable": true,
            "type": "string"
           },
           {
            "metadata": {},
            "name": "count(*)",
            "nullable": false,
            "type": "long"
           }
          ],
          "type": "struct"
         },
         "tableIdentifier": null,
         "typeStr": "pyspark.sql.connect.dataframe.DataFrame"
        }
       ],
       "dbfsResultPath": null,
       "isJsonSchema": true,
       "metadata": {
        "createTempViewForImplicitDf": true,
        "dataframeName": "_sqldf",
        "executionCount": 4
       },
       "overflow": false,
       "plotOptions": {
        "customPlotOptions": {},
        "displayType": "table",
        "pivotAggregation": null,
        "pivotColumns": null,
        "xColumns": null,
        "yColumns": null
       },
       "removedWidgets": [],
       "schema": [
        {
         "metadata": "{}",
         "name": "Storage_userAgentHeader",
         "type": "\"string\""
        },
        {
         "metadata": "{}",
         "name": "Storage_OperationName",
         "type": "\"string\""
        },
        {
         "metadata": "{}",
         "name": "Storage_Action",
         "type": "\"string\""
        },
        {
         "metadata": "{}",
         "name": "count(*)",
         "type": "\"long\""
        }
       ],
       "type": "table"
      }
     },
     "output_type": "display_data"
    }
   ],
   "source": [
    "SELECT\n",
    "  Storage_userAgentHeader,\n",
    "  Storage_OperationName,\n",
    "  Storage_Action,\n",
    "  count(*)\n",
    "FROM\n",
    "  slog.default.vw_storagelogs_information_schema\n",
    "group by all"
   ]
  },
  {
   "cell_type": "markdown",
   "metadata": {
    "application/vnd.databricks.v1+cell": {
     "cellMetadata": {},
     "inputWidgets": {},
     "nuid": "f89214d7-774f-474f-a091-4e8685e3015b",
     "showTitle": false,
     "tableResultSettingsMap": {},
     "title": ""
    }
   },
   "source": [
    "#### Checking to see if there are any non-managed tables with a Databricks Agent Header"
   ]
  },
  {
   "cell_type": "code",
   "execution_count": 0,
   "metadata": {
    "application/vnd.databricks.v1+cell": {
     "cellMetadata": {
      "byteLimit": 2048000,
      "rowLimit": 10000
     },
     "inputWidgets": {},
     "nuid": "f83489d5-8ab0-4614-8792-581fa142a565",
     "showTitle": false,
     "tableResultSettingsMap": {
      "0": {
       "dataGridStateBlob": null,
       "filterBlob": "{\"filterGroups\":[],\"syncTimestamp\":1744834476951}",
       "queryPlanFiltersBlob": null,
       "tableResultIndex": 0
      }
     },
     "title": ""
    }
   },
   "outputs": [
    {
     "output_type": "display_data",
     "data": {
      "text/html": [
       "<style scoped>\n",
       "  .table-result-container {\n",
       "    max-height: 300px;\n",
       "    overflow: auto;\n",
       "  }\n",
       "  table, th, td {\n",
       "    border: 1px solid black;\n",
       "    border-collapse: collapse;\n",
       "  }\n",
       "  th, td {\n",
       "    padding: 5px;\n",
       "  }\n",
       "  th {\n",
       "    text-align: left;\n",
       "  }\n",
       "</style><div class='table-result-container'><table class='table-result'><thead style='background-color: white'><tr><th>storage_time</th><th>IT_ParsedPath</th><th>IT_TableName</th><th>IT_TableType</th><th>Storage_userAgentHeader</th><th>Storage_Action</th></tr></thead><tbody><tr><td>2025-04-12T18:18:32.431Z</td><td>/stsezsandbox07/pos-dev/d1</td><td>main.default.my_table</td><td>EXTERNAL</td><td>APN/1.0 Databricks/1.0 DBR/null</td><td>read</td></tr><tr><td>2025-04-12T18:18:30.906Z</td><td>/stsezsandbox07/pos-dev/d1</td><td>main.default.my_table</td><td>EXTERNAL</td><td>APN/1.0 Databricks/1.0 DBR/null</td><td>read</td></tr><tr><td>2025-04-12T18:18:30.860Z</td><td>/stsezsandbox07/pos-dev/d1</td><td>main.default.my_table</td><td>EXTERNAL</td><td>APN/1.0 Databricks/1.0 DBR/null</td><td>read</td></tr><tr><td>2025-04-12T18:18:30.947Z</td><td>/stsezsandbox07/pos-dev/d1</td><td>main.default.my_table</td><td>EXTERNAL</td><td>APN/1.0 Databricks/1.0 DBR/null</td><td>read</td></tr></tbody></table></div>"
      ]
     },
     "metadata": {
      "application/vnd.databricks.v1+output": {
       "addedWidgets": {},
       "aggData": [],
       "aggError": "",
       "aggOverflow": false,
       "aggSchema": [],
       "aggSeriesLimitReached": false,
       "aggType": "",
       "arguments": {},
       "columnCustomDisplayInfos": {},
       "data": [
        [
         "2025-04-12T18:18:32.431Z",
         "/stsezsandbox07/pos-dev/d1",
         "main.default.my_table",
         "EXTERNAL",
         "APN/1.0 Databricks/1.0 DBR/null",
         "read"
        ],
        [
         "2025-04-12T18:18:30.906Z",
         "/stsezsandbox07/pos-dev/d1",
         "main.default.my_table",
         "EXTERNAL",
         "APN/1.0 Databricks/1.0 DBR/null",
         "read"
        ],
        [
         "2025-04-12T18:18:30.860Z",
         "/stsezsandbox07/pos-dev/d1",
         "main.default.my_table",
         "EXTERNAL",
         "APN/1.0 Databricks/1.0 DBR/null",
         "read"
        ],
        [
         "2025-04-12T18:18:30.947Z",
         "/stsezsandbox07/pos-dev/d1",
         "main.default.my_table",
         "EXTERNAL",
         "APN/1.0 Databricks/1.0 DBR/null",
         "read"
        ]
       ],
       "datasetInfos": [
        {
         "name": "_sqldf",
         "schema": {
          "fields": [
           {
            "metadata": {},
            "name": "storage_time",
            "nullable": true,
            "type": "timestamp"
           },
           {
            "metadata": {},
            "name": "IT_ParsedPath",
            "nullable": true,
            "type": "string"
           },
           {
            "metadata": {},
            "name": "IT_TableName",
            "nullable": true,
            "type": "string"
           },
           {
            "metadata": {
             "comment": "One of 'BASE TABLE', 'VIEW'."
            },
            "name": "IT_TableType",
            "nullable": true,
            "type": "string"
           },
           {
            "metadata": {},
            "name": "Storage_userAgentHeader",
            "nullable": true,
            "type": "string"
           },
           {
            "metadata": {},
            "name": "Storage_Action",
            "nullable": true,
            "type": "string"
           }
          ],
          "type": "struct"
         },
         "tableIdentifier": null,
         "typeStr": "pyspark.sql.connect.dataframe.DataFrame"
        }
       ],
       "dbfsResultPath": null,
       "isJsonSchema": true,
       "metadata": {
        "createTempViewForImplicitDf": true,
        "dataframeName": "_sqldf",
        "executionCount": 81
       },
       "overflow": false,
       "plotOptions": {
        "customPlotOptions": {},
        "displayType": "table",
        "pivotAggregation": null,
        "pivotColumns": null,
        "xColumns": null,
        "yColumns": null
       },
       "removedWidgets": [],
       "schema": [
        {
         "metadata": "{}",
         "name": "storage_time",
         "type": "\"timestamp\""
        },
        {
         "metadata": "{}",
         "name": "IT_ParsedPath",
         "type": "\"string\""
        },
        {
         "metadata": "{}",
         "name": "IT_TableName",
         "type": "\"string\""
        },
        {
         "metadata": "{\"comment\": \"One of 'BASE TABLE', 'VIEW'.\"}",
         "name": "IT_TableType",
         "type": "\"string\""
        },
        {
         "metadata": "{}",
         "name": "Storage_userAgentHeader",
         "type": "\"string\""
        },
        {
         "metadata": "{}",
         "name": "Storage_Action",
         "type": "\"string\""
        }
       ],
       "type": "table"
      }
     },
     "output_type": "display_data"
    }
   ],
   "source": [
    "SELECT\n",
    "  storage_time,\n",
    "  IT_ParsedPath,\n",
    "  IT_TableName,\n",
    "  IT_TableType,\n",
    "  Storage_userAgentHeader,\n",
    "  Storage_Action\n",
    "FROM\n",
    "  slog.default.vw_storagelogs_information_schema\n",
    "WHERE\n",
    "  lower(Storage_userAgentHeader) like '%databricks%'\n",
    "  and lower(IT_TableType) != 'managed'\n",
    "GROUP BY\n",
    "  storage_time,\n",
    "  IT_ParsedPath,\n",
    "  IT_TableName,\n",
    "  IT_TableType,\n",
    "  Storage_userAgentHeader,\n",
    "  Storage_Action"
   ]
  },
  {
   "cell_type": "markdown",
   "metadata": {
    "application/vnd.databricks.v1+cell": {
     "cellMetadata": {},
     "inputWidgets": {},
     "nuid": "34fb43e5-efef-4320-8a4b-60e040f52b56",
     "showTitle": false,
     "tableResultSettingsMap": {},
     "title": ""
    }
   },
   "source": [
    "#### Getting list candidates to upgrade to managed"
   ]
  },
  {
   "cell_type": "code",
   "execution_count": 0,
   "metadata": {
    "application/vnd.databricks.v1+cell": {
     "cellMetadata": {
      "byteLimit": 2048000,
      "rowLimit": 10000
     },
     "inputWidgets": {},
     "nuid": "ee3bcf1a-b77f-4303-9b3c-684d52cb67bf",
     "showTitle": false,
     "tableResultSettingsMap": {},
     "title": ""
    }
   },
   "outputs": [
    {
     "output_type": "display_data",
     "data": {
      "text/html": [
       "<style scoped>\n",
       "  .table-result-container {\n",
       "    max-height: 300px;\n",
       "    overflow: auto;\n",
       "  }\n",
       "  table, th, td {\n",
       "    border: 1px solid black;\n",
       "    border-collapse: collapse;\n",
       "  }\n",
       "  th, td {\n",
       "    padding: 5px;\n",
       "  }\n",
       "  th {\n",
       "    text-align: left;\n",
       "  }\n",
       "</style><div class='table-result-container'><table class='table-result'><thead style='background-color: white'><tr><th>Storage_AccountName</th><th>Job_Run_TS</th><th>IT_TableName</th><th>total_read_count</th><th>write_delete_count</th><th>good_candidate</th><th>from_external_platform</th></tr></thead><tbody><tr><td>stsezsandbox07</td><td>2025-04-18T11:27:55.123Z</td><td>main.default.my_table</td><td>68</td><td>21</td><td>0</td><td>0</td></tr></tbody></table></div>"
      ]
     },
     "metadata": {
      "application/vnd.databricks.v1+output": {
       "addedWidgets": {},
       "aggData": [],
       "aggError": "",
       "aggOverflow": false,
       "aggSchema": [],
       "aggSeriesLimitReached": false,
       "aggType": "",
       "arguments": {},
       "columnCustomDisplayInfos": {},
       "data": [
        [
         "stsezsandbox07",
         "2025-04-18T11:27:55.123Z",
         "main.default.my_table",
         68,
         21,
         0,
         0
        ]
       ],
       "datasetInfos": [
        {
         "name": "_sqldf",
         "schema": {
          "fields": [
           {
            "metadata": {},
            "name": "Storage_AccountName",
            "nullable": true,
            "type": "string"
           },
           {
            "metadata": {},
            "name": "Job_Run_TS",
            "nullable": true,
            "type": "timestamp"
           },
           {
            "metadata": {},
            "name": "IT_TableName",
            "nullable": true,
            "type": "string"
           },
           {
            "metadata": {},
            "name": "total_read_count",
            "nullable": false,
            "type": "long"
           },
           {
            "metadata": {},
            "name": "write_delete_count",
            "nullable": false,
            "type": "long"
           },
           {
            "metadata": {},
            "name": "good_candidate",
            "nullable": false,
            "type": "integer"
           },
           {
            "metadata": {},
            "name": "from_external_platform",
            "nullable": false,
            "type": "integer"
           }
          ],
          "type": "struct"
         },
         "tableIdentifier": null,
         "typeStr": "pyspark.sql.connect.dataframe.DataFrame"
        }
       ],
       "dbfsResultPath": null,
       "isJsonSchema": true,
       "metadata": {
        "createTempViewForImplicitDf": true,
        "dataframeName": "_sqldf",
        "executionCount": 84
       },
       "overflow": false,
       "plotOptions": {
        "customPlotOptions": {},
        "displayType": "table",
        "pivotAggregation": null,
        "pivotColumns": null,
        "xColumns": null,
        "yColumns": null
       },
       "removedWidgets": [],
       "schema": [
        {
         "metadata": "{}",
         "name": "Storage_AccountName",
         "type": "\"string\""
        },
        {
         "metadata": "{}",
         "name": "Job_Run_TS",
         "type": "\"timestamp\""
        },
        {
         "metadata": "{}",
         "name": "IT_TableName",
         "type": "\"string\""
        },
        {
         "metadata": "{}",
         "name": "total_read_count",
         "type": "\"long\""
        },
        {
         "metadata": "{}",
         "name": "write_delete_count",
         "type": "\"long\""
        },
        {
         "metadata": "{}",
         "name": "good_candidate",
         "type": "\"integer\""
        },
        {
         "metadata": "{}",
         "name": "from_external_platform",
         "type": "\"integer\""
        }
       ],
       "type": "table"
      }
     },
     "output_type": "display_data"
    }
   ],
   "source": [
    "-- Get the latest timestamp for the \"eventhub_storage_log_setup\" job\n",
    "with last_run_timestamp as (\n",
    "  select\n",
    "    max(period_start_time) as last_run_timestamp\n",
    "  from\n",
    "    system.lakeflow.job_run_timeline\n",
    "  where\n",
    "    job_id = '1072068050595527'\n",
    ")\n",
    "\n",
    "-- Identify list of tables that are good candidates to move to managed tables\n",
    "select\n",
    "  src.Storage_AccountName,\n",
    "  last_run_timestamp.last_run_timestamp as Job_Run_TS,\n",
    "  src.IT_TableName,\n",
    "  coalesce(sum(case when src.Storage_Action = 'read' then src.operation_count else 0 end), 0) as total_read_count,\n",
    "  coalesce(sum(case when src.Storage_Action = 'write' then src.operation_count else 0 end), 0) + \n",
    "  coalesce(sum(case when src.Storage_Action = 'delete' then src.operation_count else 0 end), 0) as write_delete_count,\n",
    "  case\n",
    "    when coalesce(sum(case when src.Storage_Action = 'write' then src.operation_count else 0 end), 0) + \n",
    "    coalesce(sum(case when src.Storage_Action = 'delete' then src.operation_count else 0 end), 0) = 0 then 1\n",
    "    else 0\n",
    "  end as good_candidate,\n",
    "  case\n",
    "    when sum(case when lower(src.Storage_userAgentHeader) like '%databricks%' then 1 else 0 end) > 0 then 0\n",
    "    else 1\n",
    "  end as from_external_platform\n",
    "from\n",
    "  (\n",
    "    select\n",
    "      Storage_AccountName,\n",
    "      Date(Storage_Time) as Storage_Date,\n",
    "      lower(Storage_userAgentHeader) as Storage_userAgentHeader,\n",
    "      IT_TableName,\n",
    "      IT_TableType,\n",
    "      Storage_Action,\n",
    "      count(*) as operation_count\n",
    "    from\n",
    "      slog.default.vw_storagelogs_information_schema\n",
    "    where\n",
    "      IT_TableType = 'EXTERNAL' and\n",
    "      Storage_Action in ('read', 'write', 'delete')\n",
    "    group by\n",
    "      Storage_AccountName,\n",
    "      Storage_Time,\n",
    "      Storage_userAgentHeader,\n",
    "      IT_TableName,\n",
    "      IT_TableType,\n",
    "      Storage_Action\n",
    "  ) src\n",
    "  join last_run_timestamp\n",
    "group by\n",
    "  src.Storage_AccountName,\n",
    "  src.IT_TableName,\n",
    "  last_run_timestamp.last_run_timestamp\n",
    "order by\n",
    "  total_read_count desc,\n",
    "  write_delete_count desc"
   ]
  },
  {
   "cell_type": "markdown",
   "metadata": {
    "application/vnd.databricks.v1+cell": {
     "cellMetadata": {},
     "inputWidgets": {},
     "nuid": "7373af9e-1347-4c89-bf9d-eb67eeb2fe60",
     "showTitle": false,
     "tableResultSettingsMap": {},
     "title": ""
    }
   },
   "source": [
    "#View of Delta Tables not registered in Unity Catalog\n",
    "\n",
    "Review all delta table storage paths that are not registred in Unity Catalog and see what operations are being done."
   ]
  },
  {
   "cell_type": "code",
   "execution_count": 0,
   "metadata": {
    "application/vnd.databricks.v1+cell": {
     "cellMetadata": {
      "byteLimit": 2048000,
      "rowLimit": 10000
     },
     "inputWidgets": {},
     "nuid": "9f38577f-39ef-4649-add2-b0d39f05d090",
     "showTitle": false,
     "tableResultSettingsMap": {},
     "title": ""
    }
   },
   "outputs": [
    {
     "output_type": "display_data",
     "data": {
      "text/html": [
       "<style scoped>\n",
       "  .table-result-container {\n",
       "    max-height: 300px;\n",
       "    overflow: auto;\n",
       "  }\n",
       "  table, th, td {\n",
       "    border: 1px solid black;\n",
       "    border-collapse: collapse;\n",
       "  }\n",
       "  th, td {\n",
       "    padding: 5px;\n",
       "  }\n",
       "  th {\n",
       "    text-align: left;\n",
       "  }\n",
       "</style><div class='table-result-container'><table class='table-result'><thead style='background-color: white'><tr><th>Storage_AccountName</th><th>Storage_RelativePath</th><th>read_count</th><th>write_count</th><th>delete_count</th></tr></thead><tbody><tr><td>stsezsandbox07</td><td>/stsezsandbox07/pos-dev/d2/_delta_log</td><td>null</td><td>null</td><td>null</td></tr><tr><td>stsezsandbox07</td><td>/stsezsandbox07/unity/83ad2d11-1431-4eb5-8a3e-a26542faf5ac/tables/e5b4baa4-858b-431f-bb65-f5611bf2f5ff/_delta_log</td><td>1</td><td>null</td><td>null</td></tr></tbody></table></div>"
      ]
     },
     "metadata": {
      "application/vnd.databricks.v1+output": {
       "addedWidgets": {},
       "aggData": [],
       "aggError": "",
       "aggOverflow": false,
       "aggSchema": [],
       "aggSeriesLimitReached": false,
       "aggType": "",
       "arguments": {},
       "columnCustomDisplayInfos": {},
       "data": [
        [
         "stsezsandbox07",
         "/stsezsandbox07/pos-dev/d2/_delta_log",
         null,
         null,
         null
        ],
        [
         "stsezsandbox07",
         "/stsezsandbox07/unity/83ad2d11-1431-4eb5-8a3e-a26542faf5ac/tables/e5b4baa4-858b-431f-bb65-f5611bf2f5ff/_delta_log",
         1,
         null,
         null
        ]
       ],
       "datasetInfos": [
        {
         "name": "_sqldf",
         "schema": {
          "fields": [
           {
            "metadata": {},
            "name": "Storage_AccountName",
            "nullable": true,
            "type": "string"
           },
           {
            "metadata": {},
            "name": "Storage_RelativePath",
            "nullable": true,
            "type": "string"
           },
           {
            "metadata": {},
            "name": "read_count",
            "nullable": true,
            "type": "long"
           },
           {
            "metadata": {},
            "name": "write_count",
            "nullable": true,
            "type": "long"
           },
           {
            "metadata": {},
            "name": "delete_count",
            "nullable": true,
            "type": "long"
           }
          ],
          "type": "struct"
         },
         "tableIdentifier": null,
         "typeStr": "pyspark.sql.connect.dataframe.DataFrame"
        }
       ],
       "dbfsResultPath": null,
       "isJsonSchema": true,
       "metadata": {
        "createTempViewForImplicitDf": true,
        "dataframeName": "_sqldf",
        "executionCount": 1
       },
       "overflow": false,
       "plotOptions": {
        "customPlotOptions": {},
        "displayType": "table",
        "pivotAggregation": null,
        "pivotColumns": null,
        "xColumns": null,
        "yColumns": null
       },
       "removedWidgets": [],
       "schema": [
        {
         "metadata": "{}",
         "name": "Storage_AccountName",
         "type": "\"string\""
        },
        {
         "metadata": "{}",
         "name": "Storage_RelativePath",
         "type": "\"string\""
        },
        {
         "metadata": "{}",
         "name": "read_count",
         "type": "\"long\""
        },
        {
         "metadata": "{}",
         "name": "write_count",
         "type": "\"long\""
        },
        {
         "metadata": "{}",
         "name": "delete_count",
         "type": "\"long\""
        }
       ],
       "type": "table"
      }
     },
     "output_type": "display_data"
    }
   ],
   "source": [
    "-- DELTA_LOG INTERROGATION OF PATHS\n",
    "with external_tables_not_registered as (\n",
    "  select\n",
    "    Storage_AccountName,\n",
    "    REGEXP_REPLACE(Storage_RelativePath, '^[^/]+://[^/]+/$', '') as Storage_RelativePath,\n",
    "    Storage_Action,\n",
    "    count(*) as operation_count\n",
    "  from\n",
    "    slog.default.vw_storagelogs_information_schema\n",
    "  where\n",
    "    IT_TableType is null\n",
    "    and lower(REGEXP_REPLACE(Storage_RelativePath, '^[^/]+://[^/]+/$', '')) like '%/_delta_log'\n",
    "  group by\n",
    "    Storage_AccountName,\n",
    "    REGEXP_REPLACE(Storage_RelativePath, '^[^/]+://[^/]+/$', ''),\n",
    "    Storage_Action\n",
    "  order by\n",
    "    operation_count desc\n",
    ")\n",
    "select\n",
    "  *\n",
    "from\n",
    "  external_tables_not_registered\n",
    "pivot (\n",
    "  max(operation_count) for Storage_Action in ('read' as read_count, 'write' as write_count, 'delete' as delete_count)\n",
    ")"
   ]
  },
  {
   "cell_type": "code",
   "execution_count": 0,
   "metadata": {
    "application/vnd.databricks.v1+cell": {
     "cellMetadata": {
      "byteLimit": 2048000,
      "rowLimit": 10000
     },
     "inputWidgets": {},
     "nuid": "023709e3-b04e-4c1e-b84d-933e5204dc57",
     "showTitle": false,
     "tableResultSettingsMap": {},
     "title": ""
    }
   },
   "outputs": [
    {
     "output_type": "display_data",
     "data": {
      "text/html": [
       "<style scoped>\n",
       "  .table-result-container {\n",
       "    max-height: 300px;\n",
       "    overflow: auto;\n",
       "  }\n",
       "  table, th, td {\n",
       "    border: 1px solid black;\n",
       "    border-collapse: collapse;\n",
       "  }\n",
       "  th, td {\n",
       "    padding: 5px;\n",
       "  }\n",
       "  th {\n",
       "    text-align: left;\n",
       "  }\n",
       "</style><div class='table-result-container'><table class='table-result'><thead style='background-color: white'><tr><th>Storage_Time</th><th>Match_Found</th><th>Storage_ClientRequestId</th><th>Storage_userAgentHeader</th><th>Storage_Protocol</th><th>Storage_CorrelationId</th><th>Storage_AuthenticationType</th><th>Storage_TenantId</th><th>Storage_PrincipalId</th><th>Storage_StatusText</th><th>Storage_OperationName</th><th>Storage_Action</th><th>Storage_CallerIpAddress</th><th>Storage_AccountName</th><th>Storage_RelativePath</th><th>IT_ParsedPath</th><th>IT_TableName</th><th>IT_TableType</th></tr></thead><tbody><tr><td>2025-04-07T10:33:54.372Z</td><td>1</td><td>0407-103326-ksvmqp71-v2n------:5b279e79-c656-467f-b767-965998d3f46a:ab0dbb4e-dea3-4e4e-a52f-59e0b992a9a6:::GF:0</td><td>Azure Blob FS/3.3 (AzulSystems,Inc. JavaJRE 1.8.0_412; Linux 5.15.0-1075-azure/amd64; SunJSSE-1.8; UNKNOWN/UNKNOWN) APN/1.0 unknown</td><td>HTTPS</td><td>37c351fa-c01f-0017-47a8-a7979a000000</td><td>DelegationSAS</td><td>bf465dc7-3bc8-4944-b018-092572b5c20d</td><td>5d36be44-0b29-4420-bebe-37cd8dc6458e</td><td>Success</td><td>GetPathStatus</td><td>read</td><td>10.16.14.3</td><td>stsezsandbox07</td><td>/stsezsandbox07/unity/83ad2d11-1431-4eb5-8a3e-a26542faf5ac/tables/01343f9d-8610-457e-8e96-614c9cab981e/_delta_log/_last_checkpoint</td><td>/stsezsandbox07/unity/83ad2d11-1431-4eb5-8a3e-a26542faf5ac/tables/01343f9d-8610-457e-8e96-614c9cab981e</td><td>__databricks_internal.__dlt_materialization_schema_da18c5b2_8970_4c5d_bdf0_476ecd53fb87.__event_log</td><td>MANAGED</td></tr><tr><td>2025-04-07T10:33:54.417Z</td><td>1</td><td>0407-103326-ksvmqp71-v2n------:3990edba-e4ce-4f89-8bb0-cdbf633dc65a:ab0dbb4e-dea3-4e4e-a52f-59e0b992a9a6::ca3c2ba6358d:RE:0</td><td>Azure Blob FS/3.3 (AzulSystems,Inc. JavaJRE 1.8.0_412; Linux 5.15.0-1075-azure/amd64; SunJSSE-1.8; UNKNOWN/UNKNOWN) APN/1.0 unknown</td><td>HTTPS</td><td>37c351fc-c01f-0017-49a8-a7979a000000</td><td>DelegationSAS</td><td>bf465dc7-3bc8-4944-b018-092572b5c20d</td><td>5d36be44-0b29-4420-bebe-37cd8dc6458e</td><td>Success</td><td>ReadFile</td><td>read</td><td>10.16.14.3</td><td>stsezsandbox07</td><td>/stsezsandbox07/unity/83ad2d11-1431-4eb5-8a3e-a26542faf5ac/tables/01343f9d-8610-457e-8e96-614c9cab981e/_delta_log/_last_checkpoint</td><td>/stsezsandbox07/unity/83ad2d11-1431-4eb5-8a3e-a26542faf5ac/tables/01343f9d-8610-457e-8e96-614c9cab981e</td><td>__databricks_internal.__dlt_materialization_schema_da18c5b2_8970_4c5d_bdf0_476ecd53fb87.__event_log</td><td>MANAGED</td></tr><tr><td>2025-04-07T10:33:54.723Z</td><td>1</td><td>0407-103326-ksvmqp71-v2n------:36b1c817-badf-4667-8a51-9f8f70f67913:ab0dbb4e-dea3-4e4e-a52f-59e0b992a9a6::b09a55679283:RE:0</td><td>Azure Blob FS/3.3 (AzulSystems,Inc. JavaJRE 1.8.0_412; Linux 5.15.0-1075-azure/amd64; SunJSSE-1.8; UNKNOWN/UNKNOWN) APN/1.0 unknown</td><td>HTTPS</td><td>37c3520f-c01f-0017-5ca8-a7979a000000</td><td>DelegationSAS</td><td>bf465dc7-3bc8-4944-b018-092572b5c20d</td><td>5d36be44-0b29-4420-bebe-37cd8dc6458e</td><td>Success</td><td>ReadFile</td><td>read</td><td>10.16.14.3</td><td>stsezsandbox07</td><td>/stsezsandbox07/unity/83ad2d11-1431-4eb5-8a3e-a26542faf5ac/tables/01343f9d-8610-457e-8e96-614c9cab981e/_delta_log/00000000000000001548.checkpoint.parquet</td><td>/stsezsandbox07/unity/83ad2d11-1431-4eb5-8a3e-a26542faf5ac/tables/01343f9d-8610-457e-8e96-614c9cab981e</td><td>__databricks_internal.__dlt_materialization_schema_da18c5b2_8970_4c5d_bdf0_476ecd53fb87.__event_log</td><td>MANAGED</td></tr><tr><td>2025-04-07T10:33:54.743Z</td><td>1</td><td>0407-103326-ksvmqp71-v2n------:71992c4c-b351-4045-bbf5-da342065ed11:ab0dbb4e-dea3-4e4e-a52f-59e0b992a9a6:5e76baa2-5950-4d26-bc96-64bc6a4aff5f:22b285effaad:RE:0</td><td>Azure Blob FS/3.3 (AzulSystems,Inc. JavaJRE 1.8.0_412; Linux 5.15.0-1075-azure/amd64; SunJSSE-1.8; UNKNOWN/UNKNOWN) APN/1.0 unknown</td><td>HTTPS</td><td>37c35210-c01f-0017-5da8-a7979a000000</td><td>DelegationSAS</td><td>bf465dc7-3bc8-4944-b018-092572b5c20d</td><td>5d36be44-0b29-4420-bebe-37cd8dc6458e</td><td>Success</td><td>ReadFile</td><td>read</td><td>10.16.14.3</td><td>stsezsandbox07</td><td>/stsezsandbox07/unity/83ad2d11-1431-4eb5-8a3e-a26542faf5ac/tables/01343f9d-8610-457e-8e96-614c9cab981e/_delta_log/00000000000000001549.00000000000000001554.compacted.json</td><td>/stsezsandbox07/unity/83ad2d11-1431-4eb5-8a3e-a26542faf5ac/tables/01343f9d-8610-457e-8e96-614c9cab981e</td><td>__databricks_internal.__dlt_materialization_schema_da18c5b2_8970_4c5d_bdf0_476ecd53fb87.__event_log</td><td>MANAGED</td></tr><tr><td>2025-04-07T10:33:54.773Z</td><td>1</td><td>0407-103326-ksvmqp71-v2n------:e28cb61f-5636-4087-8e08-302e7cebade2:ab0dbb4e-dea3-4e4e-a52f-59e0b992a9a6:9e89d1ec-c5cc-4170-a6ca-4b7ec2c96e13:65229c6bb283:RE:0</td><td>Azure Blob FS/3.3 (AzulSystems,Inc. JavaJRE 1.8.0_412; Linux 5.15.0-1075-azure/amd64; SunJSSE-1.8; UNKNOWN/UNKNOWN) APN/1.0 unknown</td><td>HTTPS</td><td>37c35215-c01f-0017-62a8-a7979a000000</td><td>DelegationSAS</td><td>bf465dc7-3bc8-4944-b018-092572b5c20d</td><td>5d36be44-0b29-4420-bebe-37cd8dc6458e</td><td>Success</td><td>ReadFile</td><td>read</td><td>10.16.14.3</td><td>stsezsandbox07</td><td>/stsezsandbox07/unity/83ad2d11-1431-4eb5-8a3e-a26542faf5ac/tables/01343f9d-8610-457e-8e96-614c9cab981e/_delta_log/00000000000000001567.00000000000000001572.compacted.json</td><td>/stsezsandbox07/unity/83ad2d11-1431-4eb5-8a3e-a26542faf5ac/tables/01343f9d-8610-457e-8e96-614c9cab981e</td><td>__databricks_internal.__dlt_materialization_schema_da18c5b2_8970_4c5d_bdf0_476ecd53fb87.__event_log</td><td>MANAGED</td></tr><tr><td>2025-04-07T10:33:54.783Z</td><td>1</td><td>0407-103326-ksvmqp71-v2n------:a5a9d5a7-2da0-4d95-a6db-b49e616b020b:ab0dbb4e-dea3-4e4e-a52f-59e0b992a9a6::11805ca581c2:RE:0</td><td>Azure Blob FS/3.3 (AzulSystems,Inc. JavaJRE 1.8.0_412; Linux 5.15.0-1075-azure/amd64; SunJSSE-1.8; UNKNOWN/UNKNOWN) APN/1.0 unknown</td><td>HTTPS</td><td>37c35216-c01f-0017-63a8-a7979a000000</td><td>DelegationSAS</td><td>bf465dc7-3bc8-4944-b018-092572b5c20d</td><td>5d36be44-0b29-4420-bebe-37cd8dc6458e</td><td>Success</td><td>ReadFile</td><td>read</td><td>10.16.14.3</td><td>stsezsandbox07</td><td>/stsezsandbox07/unity/83ad2d11-1431-4eb5-8a3e-a26542faf5ac/tables/01343f9d-8610-457e-8e96-614c9cab981e/_delta_log/00000000000000001573.json</td><td>/stsezsandbox07/unity/83ad2d11-1431-4eb5-8a3e-a26542faf5ac/tables/01343f9d-8610-457e-8e96-614c9cab981e</td><td>__databricks_internal.__dlt_materialization_schema_da18c5b2_8970_4c5d_bdf0_476ecd53fb87.__event_log</td><td>MANAGED</td></tr><tr><td>2025-04-07T10:33:57.346Z</td><td>1</td><td>null</td><td>APN/1.0 Databricks/1.0 DBR/null</td><td>HTTPS</td><td>5d827a0d-f01f-000c-44a8-a7a999000000</td><td>DelegationSAS</td><td>bf465dc7-3bc8-4944-b018-092572b5c20d</td><td>5d36be44-0b29-4420-bebe-37cd8dc6458e</td><td>Success</td><td>ReadFile</td><td>read</td><td>10.16.14.243</td><td>stsezsandbox07</td><td>/stsezsandbox07/unity/83ad2d11-1431-4eb5-8a3e-a26542faf5ac/tables/01343f9d-8610-457e-8e96-614c9cab981e/part-00000-57a0c1e6-14d2-4593-854f-242d4201aec8.c000.snappy.parquet</td><td>/stsezsandbox07/unity/83ad2d11-1431-4eb5-8a3e-a26542faf5ac/tables/01343f9d-8610-457e-8e96-614c9cab981e</td><td>__databricks_internal.__dlt_materialization_schema_da18c5b2_8970_4c5d_bdf0_476ecd53fb87.__event_log</td><td>MANAGED</td></tr><tr><td>2025-04-07T10:33:57.283Z</td><td>1</td><td>null</td><td>APN/1.0 Databricks/1.0 DBR/null</td><td>HTTPS</td><td>d72f812b-c01f-0028-39a8-a75f39000000</td><td>DelegationSAS</td><td>bf465dc7-3bc8-4944-b018-092572b5c20d</td><td>5d36be44-0b29-4420-bebe-37cd8dc6458e</td><td>Success</td><td>ReadFile</td><td>read</td><td>10.16.14.243</td><td>stsezsandbox07</td><td>/stsezsandbox07/unity/83ad2d11-1431-4eb5-8a3e-a26542faf5ac/tables/01343f9d-8610-457e-8e96-614c9cab981e/part-00000-1c903970-64bb-4996-903b-7fdefc655345.c000.snappy.parquet</td><td>/stsezsandbox07/unity/83ad2d11-1431-4eb5-8a3e-a26542faf5ac/tables/01343f9d-8610-457e-8e96-614c9cab981e</td><td>__databricks_internal.__dlt_materialization_schema_da18c5b2_8970_4c5d_bdf0_476ecd53fb87.__event_log</td><td>MANAGED</td></tr><tr><td>2025-04-07T10:33:54.920Z</td><td>1</td><td>0407-103326-ksvmqp71-v2n------:da253113-a3ce-4236-83c7-22cce3f7fbee:ab0dbb4e-dea3-4e4e-a52f-59e0b992a9a6::2e1c6eb2a6f3:RE:0</td><td>Azure Blob FS/3.3 (AzulSystems,Inc. JavaJRE 1.8.0_412; Linux 5.15.0-1075-azure/amd64; SunJSSE-1.8; UNKNOWN/UNKNOWN) APN/1.0 unknown</td><td>HTTPS</td><td>632838b4-301f-0003-13a8-a7dff5000000</td><td>DelegationSAS</td><td>bf465dc7-3bc8-4944-b018-092572b5c20d</td><td>5d36be44-0b29-4420-bebe-37cd8dc6458e</td><td>Success</td><td>ReadFile</td><td>read</td><td>10.16.14.3</td><td>stsezsandbox07</td><td>/stsezsandbox07/unity/83ad2d11-1431-4eb5-8a3e-a26542faf5ac/tables/01343f9d-8610-457e-8e96-614c9cab981e/_delta_log/00000000000000001555.00000000000000001560.compacted.json</td><td>/stsezsandbox07/unity/83ad2d11-1431-4eb5-8a3e-a26542faf5ac/tables/01343f9d-8610-457e-8e96-614c9cab981e</td><td>__databricks_internal.__dlt_materialization_schema_da18c5b2_8970_4c5d_bdf0_476ecd53fb87.__event_log</td><td>MANAGED</td></tr><tr><td>2025-04-07T10:33:55.008Z</td><td>1</td><td>0407-103326-ksvmqp71-v2n------:66b38a04-1bb6-404f-bd09-7afe62244d5c:ab0dbb4e-dea3-4e4e-a52f-59e0b992a9a6:::GF:0</td><td>Azure Blob FS/3.3 (AzulSystems,Inc. JavaJRE 1.8.0_412; Linux 5.15.0-1075-azure/amd64; SunJSSE-1.8; UNKNOWN/UNKNOWN) APN/1.0 unknown</td><td>HTTPS</td><td>632838d8-301f-0003-37a8-a7dff5000000</td><td>DelegationSAS</td><td>bf465dc7-3bc8-4944-b018-092572b5c20d</td><td>5d36be44-0b29-4420-bebe-37cd8dc6458e</td><td>Success</td><td>GetPathStatus</td><td>read</td><td>10.16.14.3</td><td>stsezsandbox07</td><td>/stsezsandbox07/unity/83ad2d11-1431-4eb5-8a3e-a26542faf5ac/tables/01343f9d-8610-457e-8e96-614c9cab981e/_delta_log</td><td>/stsezsandbox07/unity/83ad2d11-1431-4eb5-8a3e-a26542faf5ac/tables/01343f9d-8610-457e-8e96-614c9cab981e</td><td>__databricks_internal.__dlt_materialization_schema_da18c5b2_8970_4c5d_bdf0_476ecd53fb87.__event_log</td><td>MANAGED</td></tr><tr><td>2025-04-07T10:33:54.813Z</td><td>1</td><td>0407-103326-ksvmqp71-v2n------:1d3c6ce4-669d-4def-9e11-0e00ea4109bf:ab0dbb4e-dea3-4e4e-a52f-59e0b992a9a6:e2e7fb93-f231-4ecc-b383-31d3a5bee9e9:34ab43da5518:RE:0</td><td>Azure Blob FS/3.3 (AzulSystems,Inc. JavaJRE 1.8.0_412; Linux 5.15.0-1075-azure/amd64; SunJSSE-1.8; UNKNOWN/UNKNOWN) APN/1.0 unknown</td><td>HTTPS</td><td>f32792cb-901f-000a-1ea8-a79a26000000</td><td>DelegationSAS</td><td>bf465dc7-3bc8-4944-b018-092572b5c20d</td><td>5d36be44-0b29-4420-bebe-37cd8dc6458e</td><td>Success</td><td>ReadFile</td><td>read</td><td>10.16.14.3</td><td>stsezsandbox07</td><td>/stsezsandbox07/unity/83ad2d11-1431-4eb5-8a3e-a26542faf5ac/tables/01343f9d-8610-457e-8e96-614c9cab981e/_delta_log/00000000000000001573.crc</td><td>/stsezsandbox07/unity/83ad2d11-1431-4eb5-8a3e-a26542faf5ac/tables/01343f9d-8610-457e-8e96-614c9cab981e</td><td>__databricks_internal.__dlt_materialization_schema_da18c5b2_8970_4c5d_bdf0_476ecd53fb87.__event_log</td><td>MANAGED</td></tr><tr><td>2025-04-07T10:33:57.335Z</td><td>1</td><td>null</td><td>APN/1.0 Databricks/1.0 DBR/null</td><td>HTTPS</td><td>8b99ef90-b01f-0050-6ca8-a7fcc1000000</td><td>DelegationSAS</td><td>bf465dc7-3bc8-4944-b018-092572b5c20d</td><td>5d36be44-0b29-4420-bebe-37cd8dc6458e</td><td>Success</td><td>ReadFile</td><td>read</td><td>10.16.14.243</td><td>stsezsandbox07</td><td>/stsezsandbox07/unity/83ad2d11-1431-4eb5-8a3e-a26542faf5ac/tables/01343f9d-8610-457e-8e96-614c9cab981e/part-00000-d6a72888-0415-4533-8ccf-80fbcb25e38b.c000.snappy.parquet</td><td>/stsezsandbox07/unity/83ad2d11-1431-4eb5-8a3e-a26542faf5ac/tables/01343f9d-8610-457e-8e96-614c9cab981e</td><td>__databricks_internal.__dlt_materialization_schema_da18c5b2_8970_4c5d_bdf0_476ecd53fb87.__event_log</td><td>MANAGED</td></tr><tr><td>2025-04-07T10:33:57.301Z</td><td>1</td><td>null</td><td>APN/1.0 Databricks/1.0 DBR/null</td><td>HTTPS</td><td>c5e06fe5-c01f-0038-7aa8-a79a51000000</td><td>DelegationSAS</td><td>bf465dc7-3bc8-4944-b018-092572b5c20d</td><td>5d36be44-0b29-4420-bebe-37cd8dc6458e</td><td>Success</td><td>ReadFile</td><td>read</td><td>10.16.14.243</td><td>stsezsandbox07</td><td>/stsezsandbox07/unity/83ad2d11-1431-4eb5-8a3e-a26542faf5ac/tables/01343f9d-8610-457e-8e96-614c9cab981e/part-00000-7073fedc-bd03-45ef-be37-875b32489f28.c000.snappy.parquet</td><td>/stsezsandbox07/unity/83ad2d11-1431-4eb5-8a3e-a26542faf5ac/tables/01343f9d-8610-457e-8e96-614c9cab981e</td><td>__databricks_internal.__dlt_materialization_schema_da18c5b2_8970_4c5d_bdf0_476ecd53fb87.__event_log</td><td>MANAGED</td></tr><tr><td>2025-04-07T10:33:57.367Z</td><td>1</td><td>null</td><td>APN/1.0 Databricks/1.0 DBR/null</td><td>HTTPS</td><td>d5fc12bc-301f-0061-62a8-a71dd2000000</td><td>DelegationSAS</td><td>bf465dc7-3bc8-4944-b018-092572b5c20d</td><td>5d36be44-0b29-4420-bebe-37cd8dc6458e</td><td>Success</td><td>ReadFile</td><td>read</td><td>10.16.14.243</td><td>stsezsandbox07</td><td>/stsezsandbox07/unity/83ad2d11-1431-4eb5-8a3e-a26542faf5ac/tables/01343f9d-8610-457e-8e96-614c9cab981e/part-00000-3fd8f292-0e7d-4f67-8f5d-655f662ad9cd.c000.snappy.parquet</td><td>/stsezsandbox07/unity/83ad2d11-1431-4eb5-8a3e-a26542faf5ac/tables/01343f9d-8610-457e-8e96-614c9cab981e</td><td>__databricks_internal.__dlt_materialization_schema_da18c5b2_8970_4c5d_bdf0_476ecd53fb87.__event_log</td><td>MANAGED</td></tr><tr><td>2025-04-07T10:33:54.872Z</td><td>1</td><td>0407-103326-ksvmqp71-v2n------:45e15339-07d9-41d9-a396-e6488de2cb48:ab0dbb4e-dea3-4e4e-a52f-59e0b992a9a6::6c5f0bd10d66:RE:0</td><td>Azure Blob FS/3.3 (AzulSystems,Inc. JavaJRE 1.8.0_412; Linux 5.15.0-1075-azure/amd64; SunJSSE-1.8; UNKNOWN/UNKNOWN) APN/1.0 unknown</td><td>HTTPS</td><td>b3c93aee-901f-001a-34a8-a75f4e000000</td><td>DelegationSAS</td><td>bf465dc7-3bc8-4944-b018-092572b5c20d</td><td>5d36be44-0b29-4420-bebe-37cd8dc6458e</td><td>Success</td><td>ReadFile</td><td>read</td><td>10.16.14.3</td><td>stsezsandbox07</td><td>/stsezsandbox07/unity/83ad2d11-1431-4eb5-8a3e-a26542faf5ac/tables/01343f9d-8610-457e-8e96-614c9cab981e/_delta_log/00000000000000001561.00000000000000001566.compacted.json</td><td>/stsezsandbox07/unity/83ad2d11-1431-4eb5-8a3e-a26542faf5ac/tables/01343f9d-8610-457e-8e96-614c9cab981e</td><td>__databricks_internal.__dlt_materialization_schema_da18c5b2_8970_4c5d_bdf0_476ecd53fb87.__event_log</td><td>MANAGED</td></tr><tr><td>2025-04-07T10:33:54.903Z</td><td>1</td><td>0407-103326-ksvmqp71-v2n------:777982d1-2f42-49fc-9720-74de389004ed:ab0dbb4e-dea3-4e4e-a52f-59e0b992a9a6:::GF:0</td><td>Azure Blob FS/3.3 (AzulSystems,Inc. JavaJRE 1.8.0_412; Linux 5.15.0-1075-azure/amd64; SunJSSE-1.8; UNKNOWN/UNKNOWN) APN/1.0 unknown</td><td>HTTPS</td><td>b3c93afa-901f-001a-40a8-a75f4e000000</td><td>DelegationSAS</td><td>bf465dc7-3bc8-4944-b018-092572b5c20d</td><td>5d36be44-0b29-4420-bebe-37cd8dc6458e</td><td>Success</td><td>GetPathStatus</td><td>read</td><td>10.16.14.3</td><td>stsezsandbox07</td><td>/stsezsandbox07/unity/83ad2d11-1431-4eb5-8a3e-a26542faf5ac/tables/01343f9d-8610-457e-8e96-614c9cab981e/_delta_log</td><td>/stsezsandbox07/unity/83ad2d11-1431-4eb5-8a3e-a26542faf5ac/tables/01343f9d-8610-457e-8e96-614c9cab981e</td><td>__databricks_internal.__dlt_materialization_schema_da18c5b2_8970_4c5d_bdf0_476ecd53fb87.__event_log</td><td>MANAGED</td></tr><tr><td>2025-04-07T10:34:33.853Z</td><td>1</td><td>null</td><td>APN/1.0 Databricks/1.0 DBR/null</td><td>HTTPS</td><td>72df27ee-101f-0049-10a8-a77c7a000000</td><td>DelegationSAS</td><td>bf465dc7-3bc8-4944-b018-092572b5c20d</td><td>5d36be44-0b29-4420-bebe-37cd8dc6458e</td><td>Success</td><td>ReadFile</td><td>read</td><td>10.16.14.243</td><td>stsezsandbox07</td><td>/stsezsandbox07/unity/83ad2d11-1431-4eb5-8a3e-a26542faf5ac/tables/01343f9d-8610-457e-8e96-614c9cab981e/_delta_log/00000000000000001548.checkpoint.parquet</td><td>/stsezsandbox07/unity/83ad2d11-1431-4eb5-8a3e-a26542faf5ac/tables/01343f9d-8610-457e-8e96-614c9cab981e</td><td>__databricks_internal.__dlt_materialization_schema_da18c5b2_8970_4c5d_bdf0_476ecd53fb87.__event_log</td><td>MANAGED</td></tr><tr><td>2025-04-07T10:34:28.159Z</td><td>1</td><td>0407-103326-ksvmqp71-v2n------:3533c4c2-24a2-43e7-8408-64cb2fef3f72:ab0dbb4e-dea3-4e4e-a52f-59e0b992a9a6:::GF:0</td><td>Azure Blob FS/3.3 (AzulSystems,Inc. JavaJRE 1.8.0_412; Linux 5.15.0-1075-azure/amd64; SunJSSE-1.8; UNKNOWN/UNKNOWN) APN/1.0 unknown</td><td>HTTPS</td><td>f19ecc55-e01f-004d-29a8-a7f17d000000</td><td>DelegationSAS</td><td>bf465dc7-3bc8-4944-b018-092572b5c20d</td><td>5d36be44-0b29-4420-bebe-37cd8dc6458e</td><td>Success</td><td>GetPathStatus</td><td>read</td><td>10.16.14.3</td><td>stsezsandbox07</td><td>/stsezsandbox07/unity/83ad2d11-1431-4eb5-8a3e-a26542faf5ac/tables/01343f9d-8610-457e-8e96-614c9cab981e/_delta_log</td><td>/stsezsandbox07/unity/83ad2d11-1431-4eb5-8a3e-a26542faf5ac/tables/01343f9d-8610-457e-8e96-614c9cab981e</td><td>__databricks_internal.__dlt_materialization_schema_da18c5b2_8970_4c5d_bdf0_476ecd53fb87.__event_log</td><td>MANAGED</td></tr><tr><td>2025-04-07T10:34:28.166Z</td><td>1</td><td>0407-103326-ksvmqp71-v2n------:c9def8b0-c05a-4cc5-b63e-447b9e632b7e:ab0dbb4e-dea3-4e4e-a52f-59e0b992a9a6:::GF:0</td><td>Azure Blob FS/3.3 (AzulSystems,Inc. JavaJRE 1.8.0_412; Linux 5.15.0-1075-azure/amd64; SunJSSE-1.8; UNKNOWN/UNKNOWN) APN/1.0 unknown</td><td>HTTPS</td><td>f19ecc5c-e01f-004d-30a8-a7f17d000000</td><td>DelegationSAS</td><td>bf465dc7-3bc8-4944-b018-092572b5c20d</td><td>5d36be44-0b29-4420-bebe-37cd8dc6458e</td><td>Success</td><td>GetPathStatus</td><td>read</td><td>10.16.14.3</td><td>stsezsandbox07</td><td>/stsezsandbox07/unity/83ad2d11-1431-4eb5-8a3e-a26542faf5ac/tables/01343f9d-8610-457e-8e96-614c9cab981e</td><td>/stsezsandbox07/unity/83ad2d11-1431-4eb5-8a3e-a26542faf5ac/tables/01343f9d-8610-457e-8e96-614c9cab981e</td><td>__databricks_internal.__dlt_materialization_schema_da18c5b2_8970_4c5d_bdf0_476ecd53fb87.__event_log</td><td>MANAGED</td></tr><tr><td>2025-04-07T10:34:32.295Z</td><td>1</td><td>0407-103326-ksvmqp71-v2n------:30263c5e-22d4-4d5b-a39c-c9bb3d0785b5:ab0dbb4e-dea3-4e4e-a52f-59e0b992a9a6:::GF:0</td><td>Azure Blob FS/3.3 (AzulSystems,Inc. JavaJRE 1.8.0_412; Linux 5.15.0-1075-azure/amd64; SunJSSE-1.8; UNKNOWN/UNKNOWN) APN/1.0 unknown</td><td>HTTPS</td><td>f19ecec2-e01f-004d-06a8-a7f17d000000</td><td>DelegationSAS</td><td>bf465dc7-3bc8-4944-b018-092572b5c20d</td><td>5d36be44-0b29-4420-bebe-37cd8dc6458e</td><td>Success</td><td>GetPathStatus</td><td>read</td><td>10.16.14.3</td><td>stsezsandbox07</td><td>/stsezsandbox07/unity/83ad2d11-1431-4eb5-8a3e-a26542faf5ac/tables/01343f9d-8610-457e-8e96-614c9cab981e/_delta_log</td><td>/stsezsandbox07/unity/83ad2d11-1431-4eb5-8a3e-a26542faf5ac/tables/01343f9d-8610-457e-8e96-614c9cab981e</td><td>__databricks_internal.__dlt_materialization_schema_da18c5b2_8970_4c5d_bdf0_476ecd53fb87.__event_log</td><td>MANAGED</td></tr><tr><td>2025-04-07T10:34:32.545Z</td><td>1</td><td>0407-103326-ksvmqp71-v2n------:c965a1c9-4593-4ca7-abf5-b7c9ba2af154:ab0dbb4e-dea3-4e4e-a52f-59e0b992a9a6:::GF:0</td><td>Azure Blob FS/3.3 (AzulSystems,Inc. JavaJRE 1.8.0_412; Linux 5.15.0-1075-azure/amd64; SunJSSE-1.8; UNKNOWN/UNKNOWN) APN/1.0 unknown</td><td>HTTPS</td><td>f19ecee7-e01f-004d-2ba8-a7f17d000000</td><td>DelegationSAS</td><td>bf465dc7-3bc8-4944-b018-092572b5c20d</td><td>5d36be44-0b29-4420-bebe-37cd8dc6458e</td><td>Success</td><td>GetPathStatus</td><td>read</td><td>10.16.14.3</td><td>stsezsandbox07</td><td>/stsezsandbox07/unity/83ad2d11-1431-4eb5-8a3e-a26542faf5ac/tables/01343f9d-8610-457e-8e96-614c9cab981e/_delta_log/00000000000000001574.json</td><td>/stsezsandbox07/unity/83ad2d11-1431-4eb5-8a3e-a26542faf5ac/tables/01343f9d-8610-457e-8e96-614c9cab981e</td><td>__databricks_internal.__dlt_materialization_schema_da18c5b2_8970_4c5d_bdf0_476ecd53fb87.__event_log</td><td>MANAGED</td></tr><tr><td>2025-04-07T10:34:32.613Z</td><td>1</td><td>0407-103326-ksvmqp71-v2n------:2795115f-e6d5-4403-a80d-110ca6953187:ab0dbb4e-dea3-4e4e-a52f-59e0b992a9a6::70a87d34c6e4:RE:0</td><td>Azure Blob FS/3.3 (AzulSystems,Inc. JavaJRE 1.8.0_412; Linux 5.15.0-1075-azure/amd64; SunJSSE-1.8; UNKNOWN/UNKNOWN) APN/1.0 unknown</td><td>HTTPS</td><td>f19eceea-e01f-004d-2ea8-a7f17d000000</td><td>DelegationSAS</td><td>bf465dc7-3bc8-4944-b018-092572b5c20d</td><td>5d36be44-0b29-4420-bebe-37cd8dc6458e</td><td>Success</td><td>ReadFile</td><td>read</td><td>10.16.14.3</td><td>stsezsandbox07</td><td>/stsezsandbox07/unity/83ad2d11-1431-4eb5-8a3e-a26542faf5ac/tables/01343f9d-8610-457e-8e96-614c9cab981e/_delta_log/00000000000000001549.00000000000000001554.compacted.json</td><td>/stsezsandbox07/unity/83ad2d11-1431-4eb5-8a3e-a26542faf5ac/tables/01343f9d-8610-457e-8e96-614c9cab981e</td><td>__databricks_internal.__dlt_materialization_schema_da18c5b2_8970_4c5d_bdf0_476ecd53fb87.__event_log</td><td>MANAGED</td></tr><tr><td>2025-04-07T10:34:32.623Z</td><td>1</td><td>0407-103326-ksvmqp71-v2n------:7fb95063-7cb6-4dc5-b61a-61a3c1f57501:ab0dbb4e-dea3-4e4e-a52f-59e0b992a9a6:fbe7e044-7267-4220-bb0f-8ca9e5a9965f:f567d8b46e2b:RE:0</td><td>Azure Blob FS/3.3 (AzulSystems,Inc. JavaJRE 1.8.0_412; Linux 5.15.0-1075-azure/amd64; SunJSSE-1.8; UNKNOWN/UNKNOWN) APN/1.0 unknown</td><td>HTTPS</td><td>f19eceec-e01f-004d-30a8-a7f17d000000</td><td>DelegationSAS</td><td>bf465dc7-3bc8-4944-b018-092572b5c20d</td><td>5d36be44-0b29-4420-bebe-37cd8dc6458e</td><td>Success</td><td>ReadFile</td><td>read</td><td>10.16.14.3</td><td>stsezsandbox07</td><td>/stsezsandbox07/unity/83ad2d11-1431-4eb5-8a3e-a26542faf5ac/tables/01343f9d-8610-457e-8e96-614c9cab981e/_delta_log/00000000000000001573.json</td><td>/stsezsandbox07/unity/83ad2d11-1431-4eb5-8a3e-a26542faf5ac/tables/01343f9d-8610-457e-8e96-614c9cab981e</td><td>__databricks_internal.__dlt_materialization_schema_da18c5b2_8970_4c5d_bdf0_476ecd53fb87.__event_log</td><td>MANAGED</td></tr><tr><td>2025-04-07T10:34:32.641Z</td><td>1</td><td>0407-103326-ksvmqp71-v2n------:d086f86e-9f6c-4954-8bd0-d501c8393810:ab0dbb4e-dea3-4e4e-a52f-59e0b992a9a6::4c5c33bd708b:RE:0</td><td>Azure Blob FS/3.3 (AzulSystems,Inc. JavaJRE 1.8.0_412; Linux 5.15.0-1075-azure/amd64; SunJSSE-1.8; UNKNOWN/UNKNOWN) APN/1.0 unknown</td><td>HTTPS</td><td>f19eceed-e01f-004d-31a8-a7f17d000000</td><td>DelegationSAS</td><td>bf465dc7-3bc8-4944-b018-092572b5c20d</td><td>5d36be44-0b29-4420-bebe-37cd8dc6458e</td><td>Success</td><td>ReadFile</td><td>read</td><td>10.16.14.3</td><td>stsezsandbox07</td><td>/stsezsandbox07/unity/83ad2d11-1431-4eb5-8a3e-a26542faf5ac/tables/01343f9d-8610-457e-8e96-614c9cab981e/_delta_log/00000000000000001555.00000000000000001560.compacted.json</td><td>/stsezsandbox07/unity/83ad2d11-1431-4eb5-8a3e-a26542faf5ac/tables/01343f9d-8610-457e-8e96-614c9cab981e</td><td>__databricks_internal.__dlt_materialization_schema_da18c5b2_8970_4c5d_bdf0_476ecd53fb87.__event_log</td><td>MANAGED</td></tr><tr><td>2025-04-07T10:34:32.693Z</td><td>1</td><td>0407-103326-ksvmqp71-v2n------:c07f8fac-2b46-4abe-b86e-099a275b0196:ab0dbb4e-dea3-4e4e-a52f-59e0b992a9a6::d07f2b5ef323:RE:0</td><td>Azure Blob FS/3.3 (AzulSystems,Inc. JavaJRE 1.8.0_412; Linux 5.15.0-1075-azure/amd64; SunJSSE-1.8; UNKNOWN/UNKNOWN) APN/1.0 unknown</td><td>HTTPS</td><td>f19ecef0-e01f-004d-34a8-a7f17d000000</td><td>DelegationSAS</td><td>bf465dc7-3bc8-4944-b018-092572b5c20d</td><td>5d36be44-0b29-4420-bebe-37cd8dc6458e</td><td>Success</td><td>ReadFile</td><td>read</td><td>10.16.14.3</td><td>stsezsandbox07</td><td>/stsezsandbox07/unity/83ad2d11-1431-4eb5-8a3e-a26542faf5ac/tables/01343f9d-8610-457e-8e96-614c9cab981e/_delta_log/00000000000000001574.json</td><td>/stsezsandbox07/unity/83ad2d11-1431-4eb5-8a3e-a26542faf5ac/tables/01343f9d-8610-457e-8e96-614c9cab981e</td><td>__databricks_internal.__dlt_materialization_schema_da18c5b2_8970_4c5d_bdf0_476ecd53fb87.__event_log</td><td>MANAGED</td></tr><tr><td>2025-04-07T10:34:32.353Z</td><td>1</td><td>0407-103326-ksvmqp71-v2n------:fae4ec1c-1b4b-4c89-86f7-c36c4e5ef08b:a3f7ef90-f9e4-4be4-9ae4-741132e5f5af:::CR:0</td><td>Azure Blob FS/3.3 (AzulSystems,Inc. JavaJRE 1.8.0_412; Linux 5.15.0-1075-azure/amd64; SunJSSE-1.8; UNKNOWN/UNKNOWN) APN/1.0 unknown</td><td>HTTPS</td><td>f19ececa-e01f-004d-0ea8-a7f17d000000</td><td>DelegationSAS</td><td>bf465dc7-3bc8-4944-b018-092572b5c20d</td><td>5d36be44-0b29-4420-bebe-37cd8dc6458e</td><td>Success</td><td>CreatePathFile</td><td>write</td><td>10.16.14.3</td><td>stsezsandbox07</td><td>/stsezsandbox07/unity/83ad2d11-1431-4eb5-8a3e-a26542faf5ac/tables/01343f9d-8610-457e-8e96-614c9cab981e/_delta_log/__tmp_path_dir/.00000000000000001574.json.aae9c178-20c7-4611-bfa3-a42378793664.tmp</td><td>/stsezsandbox07/unity/83ad2d11-1431-4eb5-8a3e-a26542faf5ac/tables/01343f9d-8610-457e-8e96-614c9cab981e</td><td>__databricks_internal.__dlt_materialization_schema_da18c5b2_8970_4c5d_bdf0_476ecd53fb87.__event_log</td><td>MANAGED</td></tr><tr><td>2025-04-07T10:34:32.379Z</td><td>1</td><td>0407-103326-ksvmqp71-v2n------:c95a4d0c-28a3-4330-9c29-50e26d16cb5e:a3f7ef90-f9e4-4be4-9ae4-741132e5f5af::7633816c59b7:WR:0</td><td>Azure Blob FS/3.3 (AzulSystems,Inc. JavaJRE 1.8.0_412; Linux 5.15.0-1075-azure/amd64; SunJSSE-1.8; UNKNOWN/UNKNOWN) APN/1.0 unknown</td><td>HTTPS</td><td>f19ececd-e01f-004d-11a8-a7f17d000000</td><td>DelegationSAS</td><td>bf465dc7-3bc8-4944-b018-092572b5c20d</td><td>5d36be44-0b29-4420-bebe-37cd8dc6458e</td><td>Success</td><td>AppendFile</td><td>write</td><td>10.16.14.3</td><td>stsezsandbox07</td><td>/stsezsandbox07/unity/83ad2d11-1431-4eb5-8a3e-a26542faf5ac/tables/01343f9d-8610-457e-8e96-614c9cab981e/_delta_log/__tmp_path_dir/.00000000000000001574.json.aae9c178-20c7-4611-bfa3-a42378793664.tmp</td><td>/stsezsandbox07/unity/83ad2d11-1431-4eb5-8a3e-a26542faf5ac/tables/01343f9d-8610-457e-8e96-614c9cab981e</td><td>__databricks_internal.__dlt_materialization_schema_da18c5b2_8970_4c5d_bdf0_476ecd53fb87.__event_log</td><td>MANAGED</td></tr><tr><td>2025-04-07T10:34:32.435Z</td><td>1</td><td>0407-103326-ksvmqp71-v2n------:7091d12b-f40e-45b3-aeba-52a05825b1de:a3f7ef90-f9e4-4be4-9ae4-741132e5f5af::7633816c59b7:WR:0</td><td>Azure Blob FS/3.3 (AzulSystems,Inc. JavaJRE 1.8.0_412; Linux 5.15.0-1075-azure/amd64; SunJSSE-1.8; UNKNOWN/UNKNOWN) APN/1.0 unknown</td><td>HTTPS</td><td>f19ecece-e01f-004d-12a8-a7f17d000000</td><td>DelegationSAS</td><td>bf465dc7-3bc8-4944-b018-092572b5c20d</td><td>5d36be44-0b29-4420-bebe-37cd8dc6458e</td><td>Success</td><td>FlushFile</td><td>write</td><td>10.16.14.3</td><td>stsezsandbox07</td><td>/stsezsandbox07/unity/83ad2d11-1431-4eb5-8a3e-a26542faf5ac/tables/01343f9d-8610-457e-8e96-614c9cab981e/_delta_log/__tmp_path_dir/.00000000000000001574.json.aae9c178-20c7-4611-bfa3-a42378793664.tmp</td><td>/stsezsandbox07/unity/83ad2d11-1431-4eb5-8a3e-a26542faf5ac/tables/01343f9d-8610-457e-8e96-614c9cab981e</td><td>__databricks_internal.__dlt_materialization_schema_da18c5b2_8970_4c5d_bdf0_476ecd53fb87.__event_log</td><td>MANAGED</td></tr><tr><td>2025-04-07T10:34:32.539Z</td><td>1</td><td>0407-103326-ksvmqp71-v2n------:6510458d-5d98-4f09-ad92-01aac266e43a:a3f7ef90-f9e4-4be4-9ae4-741132e5f5af:ac9b49a1-75c0-474f-a474-9ead1047f823::RN:0</td><td>Azure Blob FS/3.3 (AzulSystems,Inc. JavaJRE 1.8.0_412; Linux 5.15.0-1075-azure/amd64; SunJSSE-1.8; UNKNOWN/UNKNOWN) APN/1.0 unknown</td><td>HTTPS</td><td>f19eced5-e01f-004d-19a8-a7f17d000000</td><td>DelegationSAS</td><td>bf465dc7-3bc8-4944-b018-092572b5c20d</td><td>5d36be44-0b29-4420-bebe-37cd8dc6458e</td><td>Success</td><td>RenamePathFile</td><td>read</td><td>10.16.14.3</td><td>stsezsandbox07</td><td>/stsezsandbox07/unity/83ad2d11-1431-4eb5-8a3e-a26542faf5ac/tables/01343f9d-8610-457e-8e96-614c9cab981e/_delta_log/00000000000000001574.json</td><td>/stsezsandbox07/unity/83ad2d11-1431-4eb5-8a3e-a26542faf5ac/tables/01343f9d-8610-457e-8e96-614c9cab981e</td><td>__databricks_internal.__dlt_materialization_schema_da18c5b2_8970_4c5d_bdf0_476ecd53fb87.__event_log</td><td>MANAGED</td></tr><tr><td>2025-04-07T10:35:29.095Z</td><td>1</td><td>0407-103326-ksvmqp71-v2n------:d6b7055e-a1e1-4ef4-822d-b7e323dbbd7f:3ed43602-5fba-4f9d-b810-52df6009e914::096777a42434:RE:0</td><td>Azure Blob FS/3.3 (AzulSystems,Inc. JavaJRE 1.8.0_412; Linux 5.15.0-1075-azure/amd64; SunJSSE-1.8; UNKNOWN/UNKNOWN) APN/1.0 unknown</td><td>HTTPS</td><td>dfef81be-c01f-0007-51a8-a752f2000000</td><td>DelegationSAS</td><td>bf465dc7-3bc8-4944-b018-092572b5c20d</td><td>5d36be44-0b29-4420-bebe-37cd8dc6458e</td><td>Success</td><td>ReadFile</td><td>read</td><td>10.16.14.3</td><td>stsezsandbox07</td><td>/stsezsandbox07/unity/83ad2d11-1431-4eb5-8a3e-a26542faf5ac/tables/01343f9d-8610-457e-8e96-614c9cab981e/_delta_log/00000000000000001549.00000000000000001554.compacted.json</td><td>/stsezsandbox07/unity/83ad2d11-1431-4eb5-8a3e-a26542faf5ac/tables/01343f9d-8610-457e-8e96-614c9cab981e</td><td>__databricks_internal.__dlt_materialization_schema_da18c5b2_8970_4c5d_bdf0_476ecd53fb87.__event_log</td><td>MANAGED</td></tr><tr><td>2025-04-07T10:35:28.818Z</td><td>1</td><td>0407-103326-ksvmqp71-v2n------:8eb9d44c-da75-427f-ae01-a1ffbf37dc6b:a3f7ef90-f9e4-4be4-9ae4-741132e5f5af:::CR:0</td><td>Azure Blob FS/3.3 (AzulSystems,Inc. JavaJRE 1.8.0_412; Linux 5.15.0-1075-azure/amd64; SunJSSE-1.8; UNKNOWN/UNKNOWN) APN/1.0 unknown</td><td>HTTPS</td><td>3442b11f-b01f-0040-01a8-a739a9000000</td><td>DelegationSAS</td><td>bf465dc7-3bc8-4944-b018-092572b5c20d</td><td>5d36be44-0b29-4420-bebe-37cd8dc6458e</td><td>Success</td><td>CreatePathFile</td><td>write</td><td>10.16.14.3</td><td>stsezsandbox07</td><td>/stsezsandbox07/unity/83ad2d11-1431-4eb5-8a3e-a26542faf5ac/tables/01343f9d-8610-457e-8e96-614c9cab981e/_delta_log/__tmp_path_dir/.00000000000000001575.json.8bd3268b-e2a2-42dc-b892-2dc91522748c.tmp</td><td>/stsezsandbox07/unity/83ad2d11-1431-4eb5-8a3e-a26542faf5ac/tables/01343f9d-8610-457e-8e96-614c9cab981e</td><td>__databricks_internal.__dlt_materialization_schema_da18c5b2_8970_4c5d_bdf0_476ecd53fb87.__event_log</td><td>MANAGED</td></tr><tr><td>2025-04-07T10:35:28.832Z</td><td>1</td><td>0407-103326-ksvmqp71-v2n------:63d9d069-24cd-4e78-a35f-b48d2c681d00:a3f7ef90-f9e4-4be4-9ae4-741132e5f5af::5ba4db2402b6:WR:0</td><td>Azure Blob FS/3.3 (AzulSystems,Inc. JavaJRE 1.8.0_412; Linux 5.15.0-1075-azure/amd64; SunJSSE-1.8; UNKNOWN/UNKNOWN) APN/1.0 unknown</td><td>HTTPS</td><td>3442b123-b01f-0040-05a8-a739a9000000</td><td>DelegationSAS</td><td>bf465dc7-3bc8-4944-b018-092572b5c20d</td><td>5d36be44-0b29-4420-bebe-37cd8dc6458e</td><td>Success</td><td>AppendFile</td><td>write</td><td>10.16.14.3</td><td>stsezsandbox07</td><td>/stsezsandbox07/unity/83ad2d11-1431-4eb5-8a3e-a26542faf5ac/tables/01343f9d-8610-457e-8e96-614c9cab981e/_delta_log/__tmp_path_dir/.00000000000000001575.json.8bd3268b-e2a2-42dc-b892-2dc91522748c.tmp</td><td>/stsezsandbox07/unity/83ad2d11-1431-4eb5-8a3e-a26542faf5ac/tables/01343f9d-8610-457e-8e96-614c9cab981e</td><td>__databricks_internal.__dlt_materialization_schema_da18c5b2_8970_4c5d_bdf0_476ecd53fb87.__event_log</td><td>MANAGED</td></tr><tr><td>2025-04-07T10:35:28.866Z</td><td>1</td><td>0407-103326-ksvmqp71-v2n------:c554351f-9538-4a8e-a2cd-fe2f30eec48c:a3f7ef90-f9e4-4be4-9ae4-741132e5f5af::5ba4db2402b6:WR:0</td><td>Azure Blob FS/3.3 (AzulSystems,Inc. JavaJRE 1.8.0_412; Linux 5.15.0-1075-azure/amd64; SunJSSE-1.8; UNKNOWN/UNKNOWN) APN/1.0 unknown</td><td>HTTPS</td><td>3442b126-b01f-0040-08a8-a739a9000000</td><td>DelegationSAS</td><td>bf465dc7-3bc8-4944-b018-092572b5c20d</td><td>5d36be44-0b29-4420-bebe-37cd8dc6458e</td><td>Success</td><td>FlushFile</td><td>write</td><td>10.16.14.3</td><td>stsezsandbox07</td><td>/stsezsandbox07/unity/83ad2d11-1431-4eb5-8a3e-a26542faf5ac/tables/01343f9d-8610-457e-8e96-614c9cab981e/_delta_log/__tmp_path_dir/.00000000000000001575.json.8bd3268b-e2a2-42dc-b892-2dc91522748c.tmp</td><td>/stsezsandbox07/unity/83ad2d11-1431-4eb5-8a3e-a26542faf5ac/tables/01343f9d-8610-457e-8e96-614c9cab981e</td><td>__databricks_internal.__dlt_materialization_schema_da18c5b2_8970_4c5d_bdf0_476ecd53fb87.__event_log</td><td>MANAGED</td></tr><tr><td>2025-04-07T10:35:28.917Z</td><td>1</td><td>0407-103326-ksvmqp71-v2n------:1f35813a-aac5-4878-a67b-046da28919db:a3f7ef90-f9e4-4be4-9ae4-741132e5f5af:88af0491-b833-4c31-84be-9cac7f49054f::RN:0</td><td>Azure Blob FS/3.3 (AzulSystems,Inc. JavaJRE 1.8.0_412; Linux 5.15.0-1075-azure/amd64; SunJSSE-1.8; UNKNOWN/UNKNOWN) APN/1.0 unknown</td><td>HTTPS</td><td>3442b12e-b01f-0040-10a8-a739a9000000</td><td>DelegationSAS</td><td>bf465dc7-3bc8-4944-b018-092572b5c20d</td><td>5d36be44-0b29-4420-bebe-37cd8dc6458e</td><td>Success</td><td>RenamePathFile</td><td>read</td><td>10.16.14.3</td><td>stsezsandbox07</td><td>/stsezsandbox07/unity/83ad2d11-1431-4eb5-8a3e-a26542faf5ac/tables/01343f9d-8610-457e-8e96-614c9cab981e/_delta_log/00000000000000001575.json</td><td>/stsezsandbox07/unity/83ad2d11-1431-4eb5-8a3e-a26542faf5ac/tables/01343f9d-8610-457e-8e96-614c9cab981e</td><td>__databricks_internal.__dlt_materialization_schema_da18c5b2_8970_4c5d_bdf0_476ecd53fb87.__event_log</td><td>MANAGED</td></tr><tr><td>2025-04-07T10:35:28.795Z</td><td>1</td><td>0407-103326-ksvmqp71-v2n------:39228dc5-3bb5-4efb-aebf-ed7f176ae87b:3ed43602-5fba-4f9d-b810-52df6009e914:::GF:0</td><td>Azure Blob FS/3.3 (AzulSystems,Inc. JavaJRE 1.8.0_412; Linux 5.15.0-1075-azure/amd64; SunJSSE-1.8; UNKNOWN/UNKNOWN) APN/1.0 unknown</td><td>HTTPS</td><td>3442b11b-b01f-0040-7da8-a739a9000000</td><td>DelegationSAS</td><td>bf465dc7-3bc8-4944-b018-092572b5c20d</td><td>5d36be44-0b29-4420-bebe-37cd8dc6458e</td><td>Success</td><td>GetPathStatus</td><td>read</td><td>10.16.14.3</td><td>stsezsandbox07</td><td>/stsezsandbox07/unity/83ad2d11-1431-4eb5-8a3e-a26542faf5ac/tables/01343f9d-8610-457e-8e96-614c9cab981e/_delta_log</td><td>/stsezsandbox07/unity/83ad2d11-1431-4eb5-8a3e-a26542faf5ac/tables/01343f9d-8610-457e-8e96-614c9cab981e</td><td>__databricks_internal.__dlt_materialization_schema_da18c5b2_8970_4c5d_bdf0_476ecd53fb87.__event_log</td><td>MANAGED</td></tr><tr><td>2025-04-07T10:35:28.922Z</td><td>1</td><td>0407-103326-ksvmqp71-v2n------:bcc1cece-9bc5-44ae-bdba-3c09ba66cea5:3ed43602-5fba-4f9d-b810-52df6009e914:::GF:0</td><td>Azure Blob FS/3.3 (AzulSystems,Inc. JavaJRE 1.8.0_412; Linux 5.15.0-1075-azure/amd64; SunJSSE-1.8; UNKNOWN/UNKNOWN) APN/1.0 unknown</td><td>HTTPS</td><td>3442b141-b01f-0040-23a8-a739a9000000</td><td>DelegationSAS</td><td>bf465dc7-3bc8-4944-b018-092572b5c20d</td><td>5d36be44-0b29-4420-bebe-37cd8dc6458e</td><td>Success</td><td>GetPathStatus</td><td>read</td><td>10.16.14.3</td><td>stsezsandbox07</td><td>/stsezsandbox07/unity/83ad2d11-1431-4eb5-8a3e-a26542faf5ac/tables/01343f9d-8610-457e-8e96-614c9cab981e/_delta_log/00000000000000001575.json</td><td>/stsezsandbox07/unity/83ad2d11-1431-4eb5-8a3e-a26542faf5ac/tables/01343f9d-8610-457e-8e96-614c9cab981e</td><td>__databricks_internal.__dlt_materialization_schema_da18c5b2_8970_4c5d_bdf0_476ecd53fb87.__event_log</td><td>MANAGED</td></tr><tr><td>2025-04-07T10:35:28.941Z</td><td>1</td><td>0407-103326-ksvmqp71-v2n------:253d73fb-68b1-4387-a9f3-4b4953874db9:3ed43602-5fba-4f9d-b810-52df6009e914::b94524057df5:RE:0</td><td>Azure Blob FS/3.3 (AzulSystems,Inc. JavaJRE 1.8.0_412; Linux 5.15.0-1075-azure/amd64; SunJSSE-1.8; UNKNOWN/UNKNOWN) APN/1.0 unknown</td><td>HTTPS</td><td>3442b14d-b01f-0040-2fa8-a739a9000000</td><td>DelegationSAS</td><td>bf465dc7-3bc8-4944-b018-092572b5c20d</td><td>5d36be44-0b29-4420-bebe-37cd8dc6458e</td><td>Success</td><td>ReadFile</td><td>read</td><td>10.16.14.3</td><td>stsezsandbox07</td><td>/stsezsandbox07/unity/83ad2d11-1431-4eb5-8a3e-a26542faf5ac/tables/01343f9d-8610-457e-8e96-614c9cab981e/_delta_log/00000000000000001561.00000000000000001566.compacted.json</td><td>/stsezsandbox07/unity/83ad2d11-1431-4eb5-8a3e-a26542faf5ac/tables/01343f9d-8610-457e-8e96-614c9cab981e</td><td>__databricks_internal.__dlt_materialization_schema_da18c5b2_8970_4c5d_bdf0_476ecd53fb87.__event_log</td><td>MANAGED</td></tr><tr><td>2025-04-07T10:35:28.998Z</td><td>1</td><td>0407-103326-ksvmqp71-v2n------:cdfdc246-0bfe-46f5-9ed8-3070b907aba0:3ed43602-5fba-4f9d-b810-52df6009e914::535c889f42ca:RE:0</td><td>Azure Blob FS/3.3 (AzulSystems,Inc. JavaJRE 1.8.0_412; Linux 5.15.0-1075-azure/amd64; SunJSSE-1.8; UNKNOWN/UNKNOWN) APN/1.0 unknown</td><td>HTTPS</td><td>3442b153-b01f-0040-35a8-a739a9000000</td><td>DelegationSAS</td><td>bf465dc7-3bc8-4944-b018-092572b5c20d</td><td>5d36be44-0b29-4420-bebe-37cd8dc6458e</td><td>Success</td><td>ReadFile</td><td>read</td><td>10.16.14.3</td><td>stsezsandbox07</td><td>/stsezsandbox07/unity/83ad2d11-1431-4eb5-8a3e-a26542faf5ac/tables/01343f9d-8610-457e-8e96-614c9cab981e/_delta_log/00000000000000001574.json</td><td>/stsezsandbox07/unity/83ad2d11-1431-4eb5-8a3e-a26542faf5ac/tables/01343f9d-8610-457e-8e96-614c9cab981e</td><td>__databricks_internal.__dlt_materialization_schema_da18c5b2_8970_4c5d_bdf0_476ecd53fb87.__event_log</td><td>MANAGED</td></tr><tr><td>2025-04-07T10:35:31.237Z</td><td>1</td><td>0407-103326-ksvmqp71-v2n------:98c65e10-b89d-4cf7-9a15-70d6be3e371a:a3f7ef90-f9e4-4be4-9ae4-741132e5f5af:::CR:0</td><td>Azure Blob FS/3.3 (AzulSystems,Inc. JavaJRE 1.8.0_412; Linux 5.15.0-1075-azure/amd64; SunJSSE-1.8; UNKNOWN/UNKNOWN) APN/1.0 unknown</td><td>HTTPS</td><td>cd880f24-101f-0004-0aa8-a7b396000000</td><td>DelegationSAS</td><td>bf465dc7-3bc8-4944-b018-092572b5c20d</td><td>5d36be44-0b29-4420-bebe-37cd8dc6458e</td><td>Success</td><td>CreatePathFile</td><td>write</td><td>10.16.14.3</td><td>stsezsandbox07</td><td>/stsezsandbox07/unity/83ad2d11-1431-4eb5-8a3e-a26542faf5ac/tables/01343f9d-8610-457e-8e96-614c9cab981e/_delta_log/__tmp_path_dir/.00000000000000001575.crc.0f042973-a67f-423e-b70a-3ad56bec3efb.tmp</td><td>/stsezsandbox07/unity/83ad2d11-1431-4eb5-8a3e-a26542faf5ac/tables/01343f9d-8610-457e-8e96-614c9cab981e</td><td>__databricks_internal.__dlt_materialization_schema_da18c5b2_8970_4c5d_bdf0_476ecd53fb87.__event_log</td><td>MANAGED</td></tr><tr><td>2025-04-07T10:35:31.250Z</td><td>1</td><td>0407-103326-ksvmqp71-v2n------:83ce7b63-4626-498d-b453-259108470e15:a3f7ef90-f9e4-4be4-9ae4-741132e5f5af::ca7c2762649f:WR:0</td><td>Azure Blob FS/3.3 (AzulSystems,Inc. JavaJRE 1.8.0_412; Linux 5.15.0-1075-azure/amd64; SunJSSE-1.8; UNKNOWN/UNKNOWN) APN/1.0 unknown</td><td>HTTPS</td><td>cd880f2a-101f-0004-10a8-a7b396000000</td><td>DelegationSAS</td><td>bf465dc7-3bc8-4944-b018-092572b5c20d</td><td>5d36be44-0b29-4420-bebe-37cd8dc6458e</td><td>Success</td><td>AppendFile</td><td>write</td><td>10.16.14.3</td><td>stsezsandbox07</td><td>/stsezsandbox07/unity/83ad2d11-1431-4eb5-8a3e-a26542faf5ac/tables/01343f9d-8610-457e-8e96-614c9cab981e/_delta_log/__tmp_path_dir/.00000000000000001575.crc.0f042973-a67f-423e-b70a-3ad56bec3efb.tmp</td><td>/stsezsandbox07/unity/83ad2d11-1431-4eb5-8a3e-a26542faf5ac/tables/01343f9d-8610-457e-8e96-614c9cab981e</td><td>__databricks_internal.__dlt_materialization_schema_da18c5b2_8970_4c5d_bdf0_476ecd53fb87.__event_log</td><td>MANAGED</td></tr><tr><td>2025-04-07T10:35:31.290Z</td><td>1</td><td>0407-103326-ksvmqp71-v2n------:66556366-fd0a-4090-8652-7aa857b0d5a5:a3f7ef90-f9e4-4be4-9ae4-741132e5f5af::ca7c2762649f:WR:0</td><td>Azure Blob FS/3.3 (AzulSystems,Inc. JavaJRE 1.8.0_412; Linux 5.15.0-1075-azure/amd64; SunJSSE-1.8; UNKNOWN/UNKNOWN) APN/1.0 unknown</td><td>HTTPS</td><td>cd880f2e-101f-0004-14a8-a7b396000000</td><td>DelegationSAS</td><td>bf465dc7-3bc8-4944-b018-092572b5c20d</td><td>5d36be44-0b29-4420-bebe-37cd8dc6458e</td><td>Success</td><td>FlushFile</td><td>write</td><td>10.16.14.3</td><td>stsezsandbox07</td><td>/stsezsandbox07/unity/83ad2d11-1431-4eb5-8a3e-a26542faf5ac/tables/01343f9d-8610-457e-8e96-614c9cab981e/_delta_log/__tmp_path_dir/.00000000000000001575.crc.0f042973-a67f-423e-b70a-3ad56bec3efb.tmp</td><td>/stsezsandbox07/unity/83ad2d11-1431-4eb5-8a3e-a26542faf5ac/tables/01343f9d-8610-457e-8e96-614c9cab981e</td><td>__databricks_internal.__dlt_materialization_schema_da18c5b2_8970_4c5d_bdf0_476ecd53fb87.__event_log</td><td>MANAGED</td></tr><tr><td>2025-04-07T10:35:31.333Z</td><td>1</td><td>0407-103326-ksvmqp71-v2n------:d9a23c46-a11f-4478-b52d-7a06644ea4dd:a3f7ef90-f9e4-4be4-9ae4-741132e5f5af:c60fda04-6dc2-4279-bfaa-b0d95858f09e::RN:0</td><td>Azure Blob FS/3.3 (AzulSystems,Inc. JavaJRE 1.8.0_412; Linux 5.15.0-1075-azure/amd64; SunJSSE-1.8; UNKNOWN/UNKNOWN) APN/1.0 unknown</td><td>HTTPS</td><td>cd880f3a-101f-0004-20a8-a7b396000000</td><td>DelegationSAS</td><td>bf465dc7-3bc8-4944-b018-092572b5c20d</td><td>5d36be44-0b29-4420-bebe-37cd8dc6458e</td><td>Success</td><td>RenamePathFile</td><td>read</td><td>10.16.14.3</td><td>stsezsandbox07</td><td>/stsezsandbox07/unity/83ad2d11-1431-4eb5-8a3e-a26542faf5ac/tables/01343f9d-8610-457e-8e96-614c9cab981e/_delta_log/00000000000000001575.crc</td><td>/stsezsandbox07/unity/83ad2d11-1431-4eb5-8a3e-a26542faf5ac/tables/01343f9d-8610-457e-8e96-614c9cab981e</td><td>__databricks_internal.__dlt_materialization_schema_da18c5b2_8970_4c5d_bdf0_476ecd53fb87.__event_log</td><td>MANAGED</td></tr><tr><td>2025-04-07T10:35:29.106Z</td><td>1</td><td>0407-103326-ksvmqp71-v2n------:746d799d-f037-4774-975f-bfb15c4d061b:3ed43602-5fba-4f9d-b810-52df6009e914::a32156043d5d:RE:0</td><td>Azure Blob FS/3.3 (AzulSystems,Inc. JavaJRE 1.8.0_412; Linux 5.15.0-1075-azure/amd64; SunJSSE-1.8; UNKNOWN/UNKNOWN) APN/1.0 unknown</td><td>HTTPS</td><td>cd880cde-101f-0004-44a8-a7b396000000</td><td>DelegationSAS</td><td>bf465dc7-3bc8-4944-b018-092572b5c20d</td><td>5d36be44-0b29-4420-bebe-37cd8dc6458e</td><td>Success</td><td>ReadFile</td><td>read</td><td>10.16.14.3</td><td>stsezsandbox07</td><td>/stsezsandbox07/unity/83ad2d11-1431-4eb5-8a3e-a26542faf5ac/tables/01343f9d-8610-457e-8e96-614c9cab981e/_delta_log/00000000000000001555.00000000000000001560.compacted.json</td><td>/stsezsandbox07/unity/83ad2d11-1431-4eb5-8a3e-a26542faf5ac/tables/01343f9d-8610-457e-8e96-614c9cab981e</td><td>__databricks_internal.__dlt_materialization_schema_da18c5b2_8970_4c5d_bdf0_476ecd53fb87.__event_log</td><td>MANAGED</td></tr><tr><td>2025-04-07T10:35:29.099Z</td><td>1</td><td>0407-103326-ksvmqp71-v2n------:08a1a2ee-e499-4a6c-8252-e49444e5ab90:3ed43602-5fba-4f9d-b810-52df6009e914::0a6e57a97acf:RE:0</td><td>Azure Blob FS/3.3 (AzulSystems,Inc. JavaJRE 1.8.0_412; Linux 5.15.0-1075-azure/amd64; SunJSSE-1.8; UNKNOWN/UNKNOWN) APN/1.0 unknown</td><td>HTTPS</td><td>184857a5-401f-006b-7ea8-a7b965000000</td><td>DelegationSAS</td><td>bf465dc7-3bc8-4944-b018-092572b5c20d</td><td>5d36be44-0b29-4420-bebe-37cd8dc6458e</td><td>Success</td><td>ReadFile</td><td>read</td><td>10.16.14.3</td><td>stsezsandbox07</td><td>/stsezsandbox07/unity/83ad2d11-1431-4eb5-8a3e-a26542faf5ac/tables/01343f9d-8610-457e-8e96-614c9cab981e/_delta_log/00000000000000001575.json</td><td>/stsezsandbox07/unity/83ad2d11-1431-4eb5-8a3e-a26542faf5ac/tables/01343f9d-8610-457e-8e96-614c9cab981e</td><td>__databricks_internal.__dlt_materialization_schema_da18c5b2_8970_4c5d_bdf0_476ecd53fb87.__event_log</td><td>MANAGED</td></tr><tr><td>2025-04-07T10:35:28.992Z</td><td>1</td><td>0407-103326-ksvmqp71-v2n------:b9107a33-09e8-4d40-9329-624b8340b102:3ed43602-5fba-4f9d-b810-52df6009e914::8194492bc732:RE:0</td><td>Azure Blob FS/3.3 (AzulSystems,Inc. JavaJRE 1.8.0_412; Linux 5.15.0-1075-azure/amd64; SunJSSE-1.8; UNKNOWN/UNKNOWN) APN/1.0 unknown</td><td>HTTPS</td><td>903c3f1a-b01f-000d-2ea8-a7f645000000</td><td>DelegationSAS</td><td>bf465dc7-3bc8-4944-b018-092572b5c20d</td><td>5d36be44-0b29-4420-bebe-37cd8dc6458e</td><td>Success</td><td>ReadFile</td><td>read</td><td>10.16.14.3</td><td>stsezsandbox07</td><td>/stsezsandbox07/unity/83ad2d11-1431-4eb5-8a3e-a26542faf5ac/tables/01343f9d-8610-457e-8e96-614c9cab981e/_delta_log/00000000000000001567.00000000000000001572.compacted.json</td><td>/stsezsandbox07/unity/83ad2d11-1431-4eb5-8a3e-a26542faf5ac/tables/01343f9d-8610-457e-8e96-614c9cab981e</td><td>__databricks_internal.__dlt_materialization_schema_da18c5b2_8970_4c5d_bdf0_476ecd53fb87.__event_log</td><td>MANAGED</td></tr><tr><td>2025-04-07T10:34:31.337Z</td><td>1</td><td>0407-103326-ksvmqp71-v2n--48--103--0:83637e6d-4116-48f9-be52-16c0f553145e:d673f1b0-f737-4f7e-87f0-70e8f898d8de:::CR:0</td><td>Azure Blob FS/3.3 (AzulSystems,Inc. JavaJRE 1.8.0_412; Linux 5.15.0-1075-azure/amd64; SunJSSE-1.8; UNKNOWN/UNKNOWN) APN/1.0 unknown</td><td>HTTPS</td><td>6e83c813-b01f-006f-4ca8-a73462000000</td><td>DelegationSAS</td><td>bf465dc7-3bc8-4944-b018-092572b5c20d</td><td>5d36be44-0b29-4420-bebe-37cd8dc6458e</td><td>Success</td><td>CreatePathFile</td><td>write</td><td>10.16.14.243</td><td>stsezsandbox07</td><td>/stsezsandbox07/unity/83ad2d11-1431-4eb5-8a3e-a26542faf5ac/tables/01343f9d-8610-457e-8e96-614c9cab981e/part-00000-6dba03ab-348f-496b-a992-a25e52f19646.c000.snappy.parquet</td><td>/stsezsandbox07/unity/83ad2d11-1431-4eb5-8a3e-a26542faf5ac/tables/01343f9d-8610-457e-8e96-614c9cab981e</td><td>__databricks_internal.__dlt_materialization_schema_da18c5b2_8970_4c5d_bdf0_476ecd53fb87.__event_log</td><td>MANAGED</td></tr><tr><td>2025-04-07T10:34:31.390Z</td><td>1</td><td>0407-103326-ksvmqp71-v2n--48--103--0:3390f0be-c6be-4778-8b65-650aeb5d61e3:d673f1b0-f737-4f7e-87f0-70e8f898d8de::c6d84716f098:WR:0</td><td>Azure Blob FS/3.3 (AzulSystems,Inc. JavaJRE 1.8.0_412; Linux 5.15.0-1075-azure/amd64; SunJSSE-1.8; UNKNOWN/UNKNOWN) APN/1.0 unknown</td><td>HTTPS</td><td>6e83c81d-b01f-006f-56a8-a73462000000</td><td>DelegationSAS</td><td>bf465dc7-3bc8-4944-b018-092572b5c20d</td><td>5d36be44-0b29-4420-bebe-37cd8dc6458e</td><td>Success</td><td>AppendFile</td><td>write</td><td>10.16.14.243</td><td>stsezsandbox07</td><td>/stsezsandbox07/unity/83ad2d11-1431-4eb5-8a3e-a26542faf5ac/tables/01343f9d-8610-457e-8e96-614c9cab981e/part-00000-6dba03ab-348f-496b-a992-a25e52f19646.c000.snappy.parquet</td><td>/stsezsandbox07/unity/83ad2d11-1431-4eb5-8a3e-a26542faf5ac/tables/01343f9d-8610-457e-8e96-614c9cab981e</td><td>__databricks_internal.__dlt_materialization_schema_da18c5b2_8970_4c5d_bdf0_476ecd53fb87.__event_log</td><td>MANAGED</td></tr><tr><td>2025-04-07T10:34:31.447Z</td><td>1</td><td>0407-103326-ksvmqp71-v2n--48--103--0:742ba90f-7483-4129-97c3-fb273dd841f0:d673f1b0-f737-4f7e-87f0-70e8f898d8de::c6d84716f098:WR:0</td><td>Azure Blob FS/3.3 (AzulSystems,Inc. JavaJRE 1.8.0_412; Linux 5.15.0-1075-azure/amd64; SunJSSE-1.8; UNKNOWN/UNKNOWN) APN/1.0 unknown</td><td>HTTPS</td><td>6e83c820-b01f-006f-59a8-a73462000000</td><td>DelegationSAS</td><td>bf465dc7-3bc8-4944-b018-092572b5c20d</td><td>5d36be44-0b29-4420-bebe-37cd8dc6458e</td><td>Success</td><td>FlushFile</td><td>write</td><td>10.16.14.243</td><td>stsezsandbox07</td><td>/stsezsandbox07/unity/83ad2d11-1431-4eb5-8a3e-a26542faf5ac/tables/01343f9d-8610-457e-8e96-614c9cab981e/part-00000-6dba03ab-348f-496b-a992-a25e52f19646.c000.snappy.parquet</td><td>/stsezsandbox07/unity/83ad2d11-1431-4eb5-8a3e-a26542faf5ac/tables/01343f9d-8610-457e-8e96-614c9cab981e</td><td>__databricks_internal.__dlt_materialization_schema_da18c5b2_8970_4c5d_bdf0_476ecd53fb87.__event_log</td><td>MANAGED</td></tr><tr><td>2025-04-07T10:34:31.854Z</td><td>1</td><td>0407-103326-ksvmqp71-v2n--48--103--0:6dea970e-86af-4ba4-910f-16c541148381:c081dbda-3d81-46d9-9e3e-40d1168556a3:::GF:0</td><td>Azure Blob FS/3.3 (AzulSystems,Inc. JavaJRE 1.8.0_412; Linux 5.15.0-1075-azure/amd64; SunJSSE-1.8; UNKNOWN/UNKNOWN) APN/1.0 unknown</td><td>HTTPS</td><td>6e83c87d-b01f-006f-35a8-a73462000000</td><td>DelegationSAS</td><td>bf465dc7-3bc8-4944-b018-092572b5c20d</td><td>5d36be44-0b29-4420-bebe-37cd8dc6458e</td><td>Success</td><td>GetPathStatus</td><td>read</td><td>10.16.14.243</td><td>stsezsandbox07</td><td>/stsezsandbox07/unity/83ad2d11-1431-4eb5-8a3e-a26542faf5ac/tables/01343f9d-8610-457e-8e96-614c9cab981e/part-00000-6dba03ab-348f-496b-a992-a25e52f19646.c000.snappy.parquet</td><td>/stsezsandbox07/unity/83ad2d11-1431-4eb5-8a3e-a26542faf5ac/tables/01343f9d-8610-457e-8e96-614c9cab981e</td><td>__databricks_internal.__dlt_materialization_schema_da18c5b2_8970_4c5d_bdf0_476ecd53fb87.__event_log</td><td>MANAGED</td></tr><tr><td>2025-04-07T10:34:31.887Z</td><td>1</td><td>0407-103326-ksvmqp71-v2n--48--103--0:c0eda334-c720-4929-a65f-0a5fd51ac2d0:c081dbda-3d81-46d9-9e3e-40d1168556a3:::GF:0</td><td>Azure Blob FS/3.3 (AzulSystems,Inc. JavaJRE 1.8.0_412; Linux 5.15.0-1075-azure/amd64; SunJSSE-1.8; UNKNOWN/UNKNOWN) APN/1.0 unknown</td><td>HTTPS</td><td>6e83c888-b01f-006f-40a8-a73462000000</td><td>DelegationSAS</td><td>bf465dc7-3bc8-4944-b018-092572b5c20d</td><td>5d36be44-0b29-4420-bebe-37cd8dc6458e</td><td>Success</td><td>GetPathStatus</td><td>read</td><td>10.16.14.243</td><td>stsezsandbox07</td><td>/stsezsandbox07/unity/83ad2d11-1431-4eb5-8a3e-a26542faf5ac/tables/01343f9d-8610-457e-8e96-614c9cab981e/part-00000-6dba03ab-348f-496b-a992-a25e52f19646.c000.snappy.parquet</td><td>/stsezsandbox07/unity/83ad2d11-1431-4eb5-8a3e-a26542faf5ac/tables/01343f9d-8610-457e-8e96-614c9cab981e</td><td>__databricks_internal.__dlt_materialization_schema_da18c5b2_8970_4c5d_bdf0_476ecd53fb87.__event_log</td><td>MANAGED</td></tr><tr><td>2025-04-07T10:35:28.982Z</td><td>1</td><td>0407-103326-ksvmqp71-v2n------:0c838b90-4a2c-4102-80cf-47969c78d828:3ed43602-5fba-4f9d-b810-52df6009e914::f37b19448a6b:RE:0</td><td>Azure Blob FS/3.3 (AzulSystems,Inc. JavaJRE 1.8.0_412; Linux 5.15.0-1075-azure/amd64; SunJSSE-1.8; UNKNOWN/UNKNOWN) APN/1.0 unknown</td><td>HTTPS</td><td>c5e09026-c01f-0038-79a8-a79a51000000</td><td>DelegationSAS</td><td>bf465dc7-3bc8-4944-b018-092572b5c20d</td><td>5d36be44-0b29-4420-bebe-37cd8dc6458e</td><td>Success</td><td>ReadFile</td><td>read</td><td>10.16.14.3</td><td>stsezsandbox07</td><td>/stsezsandbox07/unity/83ad2d11-1431-4eb5-8a3e-a26542faf5ac/tables/01343f9d-8610-457e-8e96-614c9cab981e/_delta_log/00000000000000001573.json</td><td>/stsezsandbox07/unity/83ad2d11-1431-4eb5-8a3e-a26542faf5ac/tables/01343f9d-8610-457e-8e96-614c9cab981e</td><td>__databricks_internal.__dlt_materialization_schema_da18c5b2_8970_4c5d_bdf0_476ecd53fb87.__event_log</td><td>MANAGED</td></tr><tr><td>2025-04-07T10:34:32.650Z</td><td>1</td><td>0407-103326-ksvmqp71-v2n------:570dad05-af89-47d4-b0f7-613bc991c20c:ab0dbb4e-dea3-4e4e-a52f-59e0b992a9a6::ca69d2dbfdbe:RE:0</td><td>Azure Blob FS/3.3 (AzulSystems,Inc. JavaJRE 1.8.0_412; Linux 5.15.0-1075-azure/amd64; SunJSSE-1.8; UNKNOWN/UNKNOWN) APN/1.0 unknown</td><td>HTTPS</td><td>6b63fa87-f01f-0023-3ba8-a7a452000000</td><td>DelegationSAS</td><td>bf465dc7-3bc8-4944-b018-092572b5c20d</td><td>5d36be44-0b29-4420-bebe-37cd8dc6458e</td><td>Success</td><td>ReadFile</td><td>read</td><td>10.16.14.3</td><td>stsezsandbox07</td><td>/stsezsandbox07/unity/83ad2d11-1431-4eb5-8a3e-a26542faf5ac/tables/01343f9d-8610-457e-8e96-614c9cab981e/_delta_log/00000000000000001567.00000000000000001572.compacted.json</td><td>/stsezsandbox07/unity/83ad2d11-1431-4eb5-8a3e-a26542faf5ac/tables/01343f9d-8610-457e-8e96-614c9cab981e</td><td>__databricks_internal.__dlt_materialization_schema_da18c5b2_8970_4c5d_bdf0_476ecd53fb87.__event_log</td><td>MANAGED</td></tr><tr><td>2025-04-07T10:35:28.681Z</td><td>1</td><td>0407-103326-ksvmqp71-v2n--56--232--0:c3dfe269-a40d-443a-8a78-3bbab6515be1:e4f5202e-9874-44a3-96d8-1cc7448d9c71:::GF:0</td><td>Azure Blob FS/3.3 (AzulSystems,Inc. JavaJRE 1.8.0_412; Linux 5.15.0-1075-azure/amd64; SunJSSE-1.8; UNKNOWN/UNKNOWN) APN/1.0 unknown</td><td>HTTPS</td><td>c78c3d0d-d01f-000b-38a8-a7c5fa000000</td><td>DelegationSAS</td><td>bf465dc7-3bc8-4944-b018-092572b5c20d</td><td>5d36be44-0b29-4420-bebe-37cd8dc6458e</td><td>Success</td><td>GetPathStatus</td><td>read</td><td>10.16.14.243</td><td>stsezsandbox07</td><td>/stsezsandbox07/unity/83ad2d11-1431-4eb5-8a3e-a26542faf5ac/tables/01343f9d-8610-457e-8e96-614c9cab981e/part-00000-ef79b499-0d83-469d-8052-abd2b01ff7bb.c000.snappy.parquet</td><td>/stsezsandbox07/unity/83ad2d11-1431-4eb5-8a3e-a26542faf5ac/tables/01343f9d-8610-457e-8e96-614c9cab981e</td><td>__databricks_internal.__dlt_materialization_schema_da18c5b2_8970_4c5d_bdf0_476ecd53fb87.__event_log</td><td>MANAGED</td></tr><tr><td>2025-04-07T10:35:28.690Z</td><td>1</td><td>0407-103326-ksvmqp71-v2n--56--232--0:fa00b099-cfb1-49db-8a74-fea548284d1d:e4f5202e-9874-44a3-96d8-1cc7448d9c71:::GF:0</td><td>Azure Blob FS/3.3 (AzulSystems,Inc. JavaJRE 1.8.0_412; Linux 5.15.0-1075-azure/amd64; SunJSSE-1.8; UNKNOWN/UNKNOWN) APN/1.0 unknown</td><td>HTTPS</td><td>c78c3d0e-d01f-000b-39a8-a7c5fa000000</td><td>DelegationSAS</td><td>bf465dc7-3bc8-4944-b018-092572b5c20d</td><td>5d36be44-0b29-4420-bebe-37cd8dc6458e</td><td>Success</td><td>GetPathStatus</td><td>read</td><td>10.16.14.243</td><td>stsezsandbox07</td><td>/stsezsandbox07/unity/83ad2d11-1431-4eb5-8a3e-a26542faf5ac/tables/01343f9d-8610-457e-8e96-614c9cab981e/part-00000-ef79b499-0d83-469d-8052-abd2b01ff7bb.c000.snappy.parquet</td><td>/stsezsandbox07/unity/83ad2d11-1431-4eb5-8a3e-a26542faf5ac/tables/01343f9d-8610-457e-8e96-614c9cab981e</td><td>__databricks_internal.__dlt_materialization_schema_da18c5b2_8970_4c5d_bdf0_476ecd53fb87.__event_log</td><td>MANAGED</td></tr><tr><td>2025-04-07T10:35:28.584Z</td><td>1</td><td>0407-103326-ksvmqp71-v2n--56--232--0:f894d376-0bf7-4571-9e70-32a4567ec012:d673f1b0-f737-4f7e-87f0-70e8f898d8de:::CR:0</td><td>Azure Blob FS/3.3 (AzulSystems,Inc. JavaJRE 1.8.0_412; Linux 5.15.0-1075-azure/amd64; SunJSSE-1.8; UNKNOWN/UNKNOWN) APN/1.0 unknown</td><td>HTTPS</td><td>c78c3d02-d01f-000b-2ea8-a7c5fa000000</td><td>DelegationSAS</td><td>bf465dc7-3bc8-4944-b018-092572b5c20d</td><td>5d36be44-0b29-4420-bebe-37cd8dc6458e</td><td>Success</td><td>CreatePathFile</td><td>write</td><td>10.16.14.243</td><td>stsezsandbox07</td><td>/stsezsandbox07/unity/83ad2d11-1431-4eb5-8a3e-a26542faf5ac/tables/01343f9d-8610-457e-8e96-614c9cab981e/part-00000-ef79b499-0d83-469d-8052-abd2b01ff7bb.c000.snappy.parquet</td><td>/stsezsandbox07/unity/83ad2d11-1431-4eb5-8a3e-a26542faf5ac/tables/01343f9d-8610-457e-8e96-614c9cab981e</td><td>__databricks_internal.__dlt_materialization_schema_da18c5b2_8970_4c5d_bdf0_476ecd53fb87.__event_log</td><td>MANAGED</td></tr><tr><td>2025-04-07T10:35:28.608Z</td><td>1</td><td>0407-103326-ksvmqp71-v2n--56--232--0:3434dede-fd3d-49ec-84e9-924f4c9f78e4:d673f1b0-f737-4f7e-87f0-70e8f898d8de::9b7188dea909:WR:0</td><td>Azure Blob FS/3.3 (AzulSystems,Inc. JavaJRE 1.8.0_412; Linux 5.15.0-1075-azure/amd64; SunJSSE-1.8; UNKNOWN/UNKNOWN) APN/1.0 unknown</td><td>HTTPS</td><td>c78c3d06-d01f-000b-32a8-a7c5fa000000</td><td>DelegationSAS</td><td>bf465dc7-3bc8-4944-b018-092572b5c20d</td><td>5d36be44-0b29-4420-bebe-37cd8dc6458e</td><td>Success</td><td>AppendFile</td><td>write</td><td>10.16.14.243</td><td>stsezsandbox07</td><td>/stsezsandbox07/unity/83ad2d11-1431-4eb5-8a3e-a26542faf5ac/tables/01343f9d-8610-457e-8e96-614c9cab981e/part-00000-ef79b499-0d83-469d-8052-abd2b01ff7bb.c000.snappy.parquet</td><td>/stsezsandbox07/unity/83ad2d11-1431-4eb5-8a3e-a26542faf5ac/tables/01343f9d-8610-457e-8e96-614c9cab981e</td><td>__databricks_internal.__dlt_materialization_schema_da18c5b2_8970_4c5d_bdf0_476ecd53fb87.__event_log</td><td>MANAGED</td></tr><tr><td>2025-04-07T10:35:28.648Z</td><td>1</td><td>0407-103326-ksvmqp71-v2n--56--232--0:559e9ad0-9a3f-4807-9765-16cd5466cade:d673f1b0-f737-4f7e-87f0-70e8f898d8de::9b7188dea909:WR:0</td><td>Azure Blob FS/3.3 (AzulSystems,Inc. JavaJRE 1.8.0_412; Linux 5.15.0-1075-azure/amd64; SunJSSE-1.8; UNKNOWN/UNKNOWN) APN/1.0 unknown</td><td>HTTPS</td><td>c78c3d0a-d01f-000b-35a8-a7c5fa000000</td><td>DelegationSAS</td><td>bf465dc7-3bc8-4944-b018-092572b5c20d</td><td>5d36be44-0b29-4420-bebe-37cd8dc6458e</td><td>Success</td><td>FlushFile</td><td>write</td><td>10.16.14.243</td><td>stsezsandbox07</td><td>/stsezsandbox07/unity/83ad2d11-1431-4eb5-8a3e-a26542faf5ac/tables/01343f9d-8610-457e-8e96-614c9cab981e/part-00000-ef79b499-0d83-469d-8052-abd2b01ff7bb.c000.snappy.parquet</td><td>/stsezsandbox07/unity/83ad2d11-1431-4eb5-8a3e-a26542faf5ac/tables/01343f9d-8610-457e-8e96-614c9cab981e</td><td>__databricks_internal.__dlt_materialization_schema_da18c5b2_8970_4c5d_bdf0_476ecd53fb87.__event_log</td><td>MANAGED</td></tr><tr><td>2025-04-07T10:34:35.693Z</td><td>1</td><td>0407-103326-ksvmqp71-v2n------:ec17ff5e-70da-4973-b21e-e77b25d3db42:a3f7ef90-f9e4-4be4-9ae4-741132e5f5af:::CR:0</td><td>Azure Blob FS/3.3 (AzulSystems,Inc. JavaJRE 1.8.0_412; Linux 5.15.0-1075-azure/amd64; SunJSSE-1.8; UNKNOWN/UNKNOWN) APN/1.0 unknown</td><td>HTTPS</td><td>7e0a89f9-001f-0045-68a8-a7eb72000000</td><td>DelegationSAS</td><td>bf465dc7-3bc8-4944-b018-092572b5c20d</td><td>5d36be44-0b29-4420-bebe-37cd8dc6458e</td><td>Success</td><td>CreatePathFile</td><td>write</td><td>10.16.14.3</td><td>stsezsandbox07</td><td>/stsezsandbox07/unity/83ad2d11-1431-4eb5-8a3e-a26542faf5ac/tables/01343f9d-8610-457e-8e96-614c9cab981e/_delta_log/__tmp_path_dir/.00000000000000001574.crc.42e71047-14f7-43b7-bc4b-8b24f1bdf791.tmp</td><td>/stsezsandbox07/unity/83ad2d11-1431-4eb5-8a3e-a26542faf5ac/tables/01343f9d-8610-457e-8e96-614c9cab981e</td><td>__databricks_internal.__dlt_materialization_schema_da18c5b2_8970_4c5d_bdf0_476ecd53fb87.__event_log</td><td>MANAGED</td></tr><tr><td>2025-04-07T10:34:35.734Z</td><td>1</td><td>0407-103326-ksvmqp71-v2n------:cf09bb41-ae60-4dff-a868-a9ff503f3997:a3f7ef90-f9e4-4be4-9ae4-741132e5f5af::65fd0ccd5b68:WR:0</td><td>Azure Blob FS/3.3 (AzulSystems,Inc. JavaJRE 1.8.0_412; Linux 5.15.0-1075-azure/amd64; SunJSSE-1.8; UNKNOWN/UNKNOWN) APN/1.0 unknown</td><td>HTTPS</td><td>7e0a89fe-001f-0045-6ca8-a7eb72000000</td><td>DelegationSAS</td><td>bf465dc7-3bc8-4944-b018-092572b5c20d</td><td>5d36be44-0b29-4420-bebe-37cd8dc6458e</td><td>Success</td><td>AppendFile</td><td>write</td><td>10.16.14.3</td><td>stsezsandbox07</td><td>/stsezsandbox07/unity/83ad2d11-1431-4eb5-8a3e-a26542faf5ac/tables/01343f9d-8610-457e-8e96-614c9cab981e/_delta_log/__tmp_path_dir/.00000000000000001574.crc.42e71047-14f7-43b7-bc4b-8b24f1bdf791.tmp</td><td>/stsezsandbox07/unity/83ad2d11-1431-4eb5-8a3e-a26542faf5ac/tables/01343f9d-8610-457e-8e96-614c9cab981e</td><td>__databricks_internal.__dlt_materialization_schema_da18c5b2_8970_4c5d_bdf0_476ecd53fb87.__event_log</td><td>MANAGED</td></tr><tr><td>2025-04-07T10:34:35.800Z</td><td>1</td><td>0407-103326-ksvmqp71-v2n------:af8ecbc3-2d79-4255-a627-8f27d209b3bd:a3f7ef90-f9e4-4be4-9ae4-741132e5f5af::65fd0ccd5b68:WR:0</td><td>Azure Blob FS/3.3 (AzulSystems,Inc. JavaJRE 1.8.0_412; Linux 5.15.0-1075-azure/amd64; SunJSSE-1.8; UNKNOWN/UNKNOWN) APN/1.0 unknown</td><td>HTTPS</td><td>7e0a89ff-001f-0045-6da8-a7eb72000000</td><td>DelegationSAS</td><td>bf465dc7-3bc8-4944-b018-092572b5c20d</td><td>5d36be44-0b29-4420-bebe-37cd8dc6458e</td><td>Success</td><td>FlushFile</td><td>write</td><td>10.16.14.3</td><td>stsezsandbox07</td><td>/stsezsandbox07/unity/83ad2d11-1431-4eb5-8a3e-a26542faf5ac/tables/01343f9d-8610-457e-8e96-614c9cab981e/_delta_log/__tmp_path_dir/.00000000000000001574.crc.42e71047-14f7-43b7-bc4b-8b24f1bdf791.tmp</td><td>/stsezsandbox07/unity/83ad2d11-1431-4eb5-8a3e-a26542faf5ac/tables/01343f9d-8610-457e-8e96-614c9cab981e</td><td>__databricks_internal.__dlt_materialization_schema_da18c5b2_8970_4c5d_bdf0_476ecd53fb87.__event_log</td><td>MANAGED</td></tr><tr><td>2025-04-07T10:34:35.852Z</td><td>1</td><td>0407-103326-ksvmqp71-v2n------:1a3e1397-9609-402e-8f25-fe66e971b66e:a3f7ef90-f9e4-4be4-9ae4-741132e5f5af:ac8a1a31-685c-4f49-9ba2-dbffc19270b0::RN:0</td><td>Azure Blob FS/3.3 (AzulSystems,Inc. JavaJRE 1.8.0_412; Linux 5.15.0-1075-azure/amd64; SunJSSE-1.8; UNKNOWN/UNKNOWN) APN/1.0 unknown</td><td>HTTPS</td><td>7e0a8a04-001f-0045-72a8-a7eb72000000</td><td>DelegationSAS</td><td>bf465dc7-3bc8-4944-b018-092572b5c20d</td><td>5d36be44-0b29-4420-bebe-37cd8dc6458e</td><td>Success</td><td>RenamePathFile</td><td>read</td><td>10.16.14.3</td><td>stsezsandbox07</td><td>/stsezsandbox07/unity/83ad2d11-1431-4eb5-8a3e-a26542faf5ac/tables/01343f9d-8610-457e-8e96-614c9cab981e/_delta_log/00000000000000001574.crc</td><td>/stsezsandbox07/unity/83ad2d11-1431-4eb5-8a3e-a26542faf5ac/tables/01343f9d-8610-457e-8e96-614c9cab981e</td><td>__databricks_internal.__dlt_materialization_schema_da18c5b2_8970_4c5d_bdf0_476ecd53fb87.__event_log</td><td>MANAGED</td></tr><tr><td>2025-04-07T10:34:32.643Z</td><td>1</td><td>0407-103326-ksvmqp71-v2n------:feb943f8-1f51-4692-8de1-914c84578284:ab0dbb4e-dea3-4e4e-a52f-59e0b992a9a6::d8c7fe6b56ee:RE:0</td><td>Azure Blob FS/3.3 (AzulSystems,Inc. JavaJRE 1.8.0_412; Linux 5.15.0-1075-azure/amd64; SunJSSE-1.8; UNKNOWN/UNKNOWN) APN/1.0 unknown</td><td>HTTPS</td><td>7e0a890a-001f-0045-09a8-a7eb72000000</td><td>DelegationSAS</td><td>bf465dc7-3bc8-4944-b018-092572b5c20d</td><td>5d36be44-0b29-4420-bebe-37cd8dc6458e</td><td>Success</td><td>ReadFile</td><td>read</td><td>10.16.14.3</td><td>stsezsandbox07</td><td>/stsezsandbox07/unity/83ad2d11-1431-4eb5-8a3e-a26542faf5ac/tables/01343f9d-8610-457e-8e96-614c9cab981e/_delta_log/00000000000000001561.00000000000000001566.compacted.json</td><td>/stsezsandbox07/unity/83ad2d11-1431-4eb5-8a3e-a26542faf5ac/tables/01343f9d-8610-457e-8e96-614c9cab981e</td><td>__databricks_internal.__dlt_materialization_schema_da18c5b2_8970_4c5d_bdf0_476ecd53fb87.__event_log</td><td>MANAGED</td></tr><tr><td>2025-04-07T10:37:07.249Z</td><td>1</td><td>0407-103326-ksvmqp71-v2n------:7f59c424-3ff6-44e5-82ad-4a5218e11402:fe4d86b0-d276-4b4c-87e5-c24fed9c6e98::6c3eed2f35e4:RE:0</td><td>Azure Blob FS/3.3 (AzulSystems,Inc. JavaJRE 1.8.0_412; Linux 5.15.0-1075-azure/amd64; SunJSSE-1.8; UNKNOWN/UNKNOWN) APN/1.0 unknown</td><td>HTTPS</td><td>72df6874-101f-0049-4da9-a77c7a000000</td><td>DelegationSAS</td><td>bf465dc7-3bc8-4944-b018-092572b5c20d</td><td>5d36be44-0b29-4420-bebe-37cd8dc6458e</td><td>Success</td><td>ReadFile</td><td>read</td><td>10.16.14.3</td><td>stsezsandbox07</td><td>/stsezsandbox07/unity/83ad2d11-1431-4eb5-8a3e-a26542faf5ac/tables/01343f9d-8610-457e-8e96-614c9cab981e/_delta_log/00000000000000001555.00000000000000001560.compacted.json</td><td>/stsezsandbox07/unity/83ad2d11-1431-4eb5-8a3e-a26542faf5ac/tables/01343f9d-8610-457e-8e96-614c9cab981e</td><td>__databricks_internal.__dlt_materialization_schema_da18c5b2_8970_4c5d_bdf0_476ecd53fb87.__event_log</td><td>MANAGED</td></tr><tr><td>2025-04-07T10:36:28.507Z</td><td>1</td><td>0407-103326-ksvmqp71-v2n------:c91490e0-cc35-47a7-8aa2-a9494d5c27e6:91afdcea-f285-449f-9561-9bb4aad4694a:::CR:0</td><td>Azure Blob FS/3.3 (AzulSystems,Inc. JavaJRE 1.8.0_412; Linux 5.15.0-1075-azure/amd64; SunJSSE-1.8; UNKNOWN/UNKNOWN) APN/1.0 unknown</td><td>HTTPS</td><td>a739f59f-f01f-001c-6ca8-a76cf1000000</td><td>DelegationSAS</td><td>bf465dc7-3bc8-4944-b018-092572b5c20d</td><td>5d36be44-0b29-4420-bebe-37cd8dc6458e</td><td>Success</td><td>CreatePathFile</td><td>write</td><td>10.16.14.3</td><td>stsezsandbox07</td><td>/stsezsandbox07/unity/83ad2d11-1431-4eb5-8a3e-a26542faf5ac/tables/01343f9d-8610-457e-8e96-614c9cab981e/_delta_log/__tmp_path_dir/.00000000000000001576.json.48dbc8ba-f07e-496d-83f9-2b60ed61da56.tmp</td><td>/stsezsandbox07/unity/83ad2d11-1431-4eb5-8a3e-a26542faf5ac/tables/01343f9d-8610-457e-8e96-614c9cab981e</td><td>__databricks_internal.__dlt_materialization_schema_da18c5b2_8970_4c5d_bdf0_476ecd53fb87.__event_log</td><td>MANAGED</td></tr><tr><td>2025-04-07T10:36:28.528Z</td><td>1</td><td>0407-103326-ksvmqp71-v2n------:81195241-d41a-4d15-bca5-74457c2de26c:91afdcea-f285-449f-9561-9bb4aad4694a::ee66caa23aa6:WR:0</td><td>Azure Blob FS/3.3 (AzulSystems,Inc. JavaJRE 1.8.0_412; Linux 5.15.0-1075-azure/amd64; SunJSSE-1.8; UNKNOWN/UNKNOWN) APN/1.0 unknown</td><td>HTTPS</td><td>a739f5a1-f01f-001c-6da8-a76cf1000000</td><td>DelegationSAS</td><td>bf465dc7-3bc8-4944-b018-092572b5c20d</td><td>5d36be44-0b29-4420-bebe-37cd8dc6458e</td><td>Success</td><td>AppendFile</td><td>write</td><td>10.16.14.3</td><td>stsezsandbox07</td><td>/stsezsandbox07/unity/83ad2d11-1431-4eb5-8a3e-a26542faf5ac/tables/01343f9d-8610-457e-8e96-614c9cab981e/_delta_log/__tmp_path_dir/.00000000000000001576.json.48dbc8ba-f07e-496d-83f9-2b60ed61da56.tmp</td><td>/stsezsandbox07/unity/83ad2d11-1431-4eb5-8a3e-a26542faf5ac/tables/01343f9d-8610-457e-8e96-614c9cab981e</td><td>__databricks_internal.__dlt_materialization_schema_da18c5b2_8970_4c5d_bdf0_476ecd53fb87.__event_log</td><td>MANAGED</td></tr><tr><td>2025-04-07T10:36:28.572Z</td><td>1</td><td>0407-103326-ksvmqp71-v2n------:f3f35e88-2187-45d0-b358-33d60d678e4a:91afdcea-f285-449f-9561-9bb4aad4694a::ee66caa23aa6:WR:0</td><td>Azure Blob FS/3.3 (AzulSystems,Inc. JavaJRE 1.8.0_412; Linux 5.15.0-1075-azure/amd64; SunJSSE-1.8; UNKNOWN/UNKNOWN) APN/1.0 unknown</td><td>HTTPS</td><td>a739f5a3-f01f-001c-6fa8-a76cf1000000</td><td>DelegationSAS</td><td>bf465dc7-3bc8-4944-b018-092572b5c20d</td><td>5d36be44-0b29-4420-bebe-37cd8dc6458e</td><td>Success</td><td>FlushFile</td><td>write</td><td>10.16.14.3</td><td>stsezsandbox07</td><td>/stsezsandbox07/unity/83ad2d11-1431-4eb5-8a3e-a26542faf5ac/tables/01343f9d-8610-457e-8e96-614c9cab981e/_delta_log/__tmp_path_dir/.00000000000000001576.json.48dbc8ba-f07e-496d-83f9-2b60ed61da56.tmp</td><td>/stsezsandbox07/unity/83ad2d11-1431-4eb5-8a3e-a26542faf5ac/tables/01343f9d-8610-457e-8e96-614c9cab981e</td><td>__databricks_internal.__dlt_materialization_schema_da18c5b2_8970_4c5d_bdf0_476ecd53fb87.__event_log</td><td>MANAGED</td></tr><tr><td>2025-04-07T10:36:28.629Z</td><td>1</td><td>0407-103326-ksvmqp71-v2n------:dba8a69b-4095-44ba-a60e-34109804c768:91afdcea-f285-449f-9561-9bb4aad4694a:41c6704b-ed4a-43ac-abad-6a204814a373::RN:0</td><td>Azure Blob FS/3.3 (AzulSystems,Inc. JavaJRE 1.8.0_412; Linux 5.15.0-1075-azure/amd64; SunJSSE-1.8; UNKNOWN/UNKNOWN) APN/1.0 unknown</td><td>HTTPS</td><td>a739f5a5-f01f-001c-71a8-a76cf1000000</td><td>DelegationSAS</td><td>bf465dc7-3bc8-4944-b018-092572b5c20d</td><td>5d36be44-0b29-4420-bebe-37cd8dc6458e</td><td>Success</td><td>RenamePathFile</td><td>read</td><td>10.16.14.3</td><td>stsezsandbox07</td><td>/stsezsandbox07/unity/83ad2d11-1431-4eb5-8a3e-a26542faf5ac/tables/01343f9d-8610-457e-8e96-614c9cab981e/_delta_log/00000000000000001576.json</td><td>/stsezsandbox07/unity/83ad2d11-1431-4eb5-8a3e-a26542faf5ac/tables/01343f9d-8610-457e-8e96-614c9cab981e</td><td>__databricks_internal.__dlt_materialization_schema_da18c5b2_8970_4c5d_bdf0_476ecd53fb87.__event_log</td><td>MANAGED</td></tr><tr><td>2025-04-07T10:36:28.486Z</td><td>1</td><td>0407-103326-ksvmqp71-v2n------:a248b57d-3f14-46e7-a871-80d5b324a06d:fe4d86b0-d276-4b4c-87e5-c24fed9c6e98:::GF:0</td><td>Azure Blob FS/3.3 (AzulSystems,Inc. JavaJRE 1.8.0_412; Linux 5.15.0-1075-azure/amd64; SunJSSE-1.8; UNKNOWN/UNKNOWN) APN/1.0 unknown</td><td>HTTPS</td><td>a739f59e-f01f-001c-6ba8-a76cf1000000</td><td>DelegationSAS</td><td>bf465dc7-3bc8-4944-b018-092572b5c20d</td><td>5d36be44-0b29-4420-bebe-37cd8dc6458e</td><td>Success</td><td>GetPathStatus</td><td>read</td><td>10.16.14.3</td><td>stsezsandbox07</td><td>/stsezsandbox07/unity/83ad2d11-1431-4eb5-8a3e-a26542faf5ac/tables/01343f9d-8610-457e-8e96-614c9cab981e/_delta_log</td><td>/stsezsandbox07/unity/83ad2d11-1431-4eb5-8a3e-a26542faf5ac/tables/01343f9d-8610-457e-8e96-614c9cab981e</td><td>__databricks_internal.__dlt_materialization_schema_da18c5b2_8970_4c5d_bdf0_476ecd53fb87.__event_log</td><td>MANAGED</td></tr><tr><td>2025-04-07T10:36:28.649Z</td><td>1</td><td>0407-103326-ksvmqp71-v2n------:f814dc23-37cd-4c25-b693-b822527bccec:fe4d86b0-d276-4b4c-87e5-c24fed9c6e98:::GF:0</td><td>Azure Blob FS/3.3 (AzulSystems,Inc. JavaJRE 1.8.0_412; Linux 5.15.0-1075-azure/amd64; SunJSSE-1.8; UNKNOWN/UNKNOWN) APN/1.0 unknown</td><td>HTTPS</td><td>a739f5a7-f01f-001c-72a8-a76cf1000000</td><td>DelegationSAS</td><td>bf465dc7-3bc8-4944-b018-092572b5c20d</td><td>5d36be44-0b29-4420-bebe-37cd8dc6458e</td><td>Success</td><td>GetPathStatus</td><td>read</td><td>10.16.14.3</td><td>stsezsandbox07</td><td>/stsezsandbox07/unity/83ad2d11-1431-4eb5-8a3e-a26542faf5ac/tables/01343f9d-8610-457e-8e96-614c9cab981e/_delta_log/00000000000000001576.json</td><td>/stsezsandbox07/unity/83ad2d11-1431-4eb5-8a3e-a26542faf5ac/tables/01343f9d-8610-457e-8e96-614c9cab981e</td><td>__databricks_internal.__dlt_materialization_schema_da18c5b2_8970_4c5d_bdf0_476ecd53fb87.__event_log</td><td>MANAGED</td></tr><tr><td>2025-04-07T10:36:28.671Z</td><td>1</td><td>0407-103326-ksvmqp71-v2n------:575ac5ea-1ed2-49e8-a106-8ee4247db3ea:fe4d86b0-d276-4b4c-87e5-c24fed9c6e98:fa48f2ac-93f8-4219-9b53-9b5a7423b6a8:cdf3f17953bb:RE:0</td><td>Azure Blob FS/3.3 (AzulSystems,Inc. JavaJRE 1.8.0_412; Linux 5.15.0-1075-azure/amd64; SunJSSE-1.8; UNKNOWN/UNKNOWN) APN/1.0 unknown</td><td>HTTPS</td><td>a739f5a9-f01f-001c-74a8-a76cf1000000</td><td>DelegationSAS</td><td>bf465dc7-3bc8-4944-b018-092572b5c20d</td><td>5d36be44-0b29-4420-bebe-37cd8dc6458e</td><td>Success</td><td>ReadFile</td><td>read</td><td>10.16.14.3</td><td>stsezsandbox07</td><td>/stsezsandbox07/unity/83ad2d11-1431-4eb5-8a3e-a26542faf5ac/tables/01343f9d-8610-457e-8e96-614c9cab981e/_delta_log/00000000000000001555.00000000000000001560.compacted.json</td><td>/stsezsandbox07/unity/83ad2d11-1431-4eb5-8a3e-a26542faf5ac/tables/01343f9d-8610-457e-8e96-614c9cab981e</td><td>__databricks_internal.__dlt_materialization_schema_da18c5b2_8970_4c5d_bdf0_476ecd53fb87.__event_log</td><td>MANAGED</td></tr><tr><td>2025-04-07T10:36:28.687Z</td><td>1</td><td>0407-103326-ksvmqp71-v2n------:0c05726a-c093-42e0-95a2-ab1e8a97a22e:fe4d86b0-d276-4b4c-87e5-c24fed9c6e98::8523a9517499:RE:0</td><td>Azure Blob FS/3.3 (AzulSystems,Inc. JavaJRE 1.8.0_412; Linux 5.15.0-1075-azure/amd64; SunJSSE-1.8; UNKNOWN/UNKNOWN) APN/1.0 unknown</td><td>HTTPS</td><td>a739f5aa-f01f-001c-75a8-a76cf1000000</td><td>DelegationSAS</td><td>bf465dc7-3bc8-4944-b018-092572b5c20d</td><td>5d36be44-0b29-4420-bebe-37cd8dc6458e</td><td>Success</td><td>ReadFile</td><td>read</td><td>10.16.14.3</td><td>stsezsandbox07</td><td>/stsezsandbox07/unity/83ad2d11-1431-4eb5-8a3e-a26542faf5ac/tables/01343f9d-8610-457e-8e96-614c9cab981e/_delta_log/00000000000000001573.json</td><td>/stsezsandbox07/unity/83ad2d11-1431-4eb5-8a3e-a26542faf5ac/tables/01343f9d-8610-457e-8e96-614c9cab981e</td><td>__databricks_internal.__dlt_materialization_schema_da18c5b2_8970_4c5d_bdf0_476ecd53fb87.__event_log</td><td>MANAGED</td></tr><tr><td>2025-04-07T10:36:28.741Z</td><td>1</td><td>0407-103326-ksvmqp71-v2n------:0071bc63-ebbf-45d3-a8d3-63698d0639f4:fe4d86b0-d276-4b4c-87e5-c24fed9c6e98::aaa22a8356c8:RE:0</td><td>Azure Blob FS/3.3 (AzulSystems,Inc. JavaJRE 1.8.0_412; Linux 5.15.0-1075-azure/amd64; SunJSSE-1.8; UNKNOWN/UNKNOWN) APN/1.0 unknown</td><td>HTTPS</td><td>a739f5ab-f01f-001c-76a8-a76cf1000000</td><td>DelegationSAS</td><td>bf465dc7-3bc8-4944-b018-092572b5c20d</td><td>5d36be44-0b29-4420-bebe-37cd8dc6458e</td><td>Success</td><td>ReadFile</td><td>read</td><td>10.16.14.3</td><td>stsezsandbox07</td><td>/stsezsandbox07/unity/83ad2d11-1431-4eb5-8a3e-a26542faf5ac/tables/01343f9d-8610-457e-8e96-614c9cab981e/_delta_log/00000000000000001574.json</td><td>/stsezsandbox07/unity/83ad2d11-1431-4eb5-8a3e-a26542faf5ac/tables/01343f9d-8610-457e-8e96-614c9cab981e</td><td>__databricks_internal.__dlt_materialization_schema_da18c5b2_8970_4c5d_bdf0_476ecd53fb87.__event_log</td><td>MANAGED</td></tr><tr><td>2025-04-07T10:37:07.264Z</td><td>1</td><td>0407-103326-ksvmqp71-v2n------:84fe0efb-e36e-4708-88a6-c57f6b43f951:fe4d86b0-d276-4b4c-87e5-c24fed9c6e98::73695a7e3ac0:RE:0</td><td>Azure Blob FS/3.3 (AzulSystems,Inc. JavaJRE 1.8.0_412; Linux 5.15.0-1075-azure/amd64; SunJSSE-1.8; UNKNOWN/UNKNOWN) APN/1.0 unknown</td><td>HTTPS</td><td>37c38342-c01f-0017-48a9-a7979a000000</td><td>DelegationSAS</td><td>bf465dc7-3bc8-4944-b018-092572b5c20d</td><td>5d36be44-0b29-4420-bebe-37cd8dc6458e</td><td>Success</td><td>ReadFile</td><td>read</td><td>10.16.14.3</td><td>stsezsandbox07</td><td>/stsezsandbox07/unity/83ad2d11-1431-4eb5-8a3e-a26542faf5ac/tables/01343f9d-8610-457e-8e96-614c9cab981e/_delta_log/00000000000000001573.json</td><td>/stsezsandbox07/unity/83ad2d11-1431-4eb5-8a3e-a26542faf5ac/tables/01343f9d-8610-457e-8e96-614c9cab981e</td><td>__databricks_internal.__dlt_materialization_schema_da18c5b2_8970_4c5d_bdf0_476ecd53fb87.__event_log</td><td>MANAGED</td></tr><tr><td>2025-04-07T10:37:06.905Z</td><td>1</td><td>0407-103326-ksvmqp71-v2n------:8716a99a-8d60-4b9e-914e-ccb613f28fe2:fe4d86b0-d276-4b4c-87e5-c24fed9c6e98:::GF:0</td><td>Azure Blob FS/3.3 (AzulSystems,Inc. JavaJRE 1.8.0_412; Linux 5.15.0-1075-azure/amd64; SunJSSE-1.8; UNKNOWN/UNKNOWN) APN/1.0 unknown</td><td>HTTPS</td><td>25a7ff34-701f-003d-5ba9-a7488a000000</td><td>DelegationSAS</td><td>bf465dc7-3bc8-4944-b018-092572b5c20d</td><td>5d36be44-0b29-4420-bebe-37cd8dc6458e</td><td>Success</td><td>GetPathStatus</td><td>read</td><td>10.16.14.3</td><td>stsezsandbox07</td><td>/stsezsandbox07/unity/83ad2d11-1431-4eb5-8a3e-a26542faf5ac/tables/01343f9d-8610-457e-8e96-614c9cab981e/_delta_log</td><td>/stsezsandbox07/unity/83ad2d11-1431-4eb5-8a3e-a26542faf5ac/tables/01343f9d-8610-457e-8e96-614c9cab981e</td><td>__databricks_internal.__dlt_materialization_schema_da18c5b2_8970_4c5d_bdf0_476ecd53fb87.__event_log</td><td>MANAGED</td></tr><tr><td>2025-04-07T10:37:07.068Z</td><td>1</td><td>0407-103326-ksvmqp71-v2n------:e4c3aa68-b299-4550-b268-657a6cd9aeb9:fe4d86b0-d276-4b4c-87e5-c24fed9c6e98:::GF:0</td><td>Azure Blob FS/3.3 (AzulSystems,Inc. JavaJRE 1.8.0_412; Linux 5.15.0-1075-azure/amd64; SunJSSE-1.8; UNKNOWN/UNKNOWN) APN/1.0 unknown</td><td>HTTPS</td><td>25a7ff43-701f-003d-6aa9-a7488a000000</td><td>DelegationSAS</td><td>bf465dc7-3bc8-4944-b018-092572b5c20d</td><td>5d36be44-0b29-4420-bebe-37cd8dc6458e</td><td>Success</td><td>GetPathStatus</td><td>read</td><td>10.16.14.3</td><td>stsezsandbox07</td><td>/stsezsandbox07/unity/83ad2d11-1431-4eb5-8a3e-a26542faf5ac/tables/01343f9d-8610-457e-8e96-614c9cab981e/_delta_log/00000000000000001577.json</td><td>/stsezsandbox07/unity/83ad2d11-1431-4eb5-8a3e-a26542faf5ac/tables/01343f9d-8610-457e-8e96-614c9cab981e</td><td>__databricks_internal.__dlt_materialization_schema_da18c5b2_8970_4c5d_bdf0_476ecd53fb87.__event_log</td><td>MANAGED</td></tr><tr><td>2025-04-07T10:37:07.096Z</td><td>1</td><td>0407-103326-ksvmqp71-v2n------:02f83a84-33cd-4499-9dab-73b7f0bc1ae6:fe4d86b0-d276-4b4c-87e5-c24fed9c6e98::6469029d2a1a:RE:0</td><td>Azure Blob FS/3.3 (AzulSystems,Inc. JavaJRE 1.8.0_412; Linux 5.15.0-1075-azure/amd64; SunJSSE-1.8; UNKNOWN/UNKNOWN) APN/1.0 unknown</td><td>HTTPS</td><td>25a7ff47-701f-003d-6ea9-a7488a000000</td><td>DelegationSAS</td><td>bf465dc7-3bc8-4944-b018-092572b5c20d</td><td>5d36be44-0b29-4420-bebe-37cd8dc6458e</td><td>Success</td><td>ReadFile</td><td>read</td><td>10.16.14.3</td><td>stsezsandbox07</td><td>/stsezsandbox07/unity/83ad2d11-1431-4eb5-8a3e-a26542faf5ac/tables/01343f9d-8610-457e-8e96-614c9cab981e/_delta_log/00000000000000001549.00000000000000001554.compacted.json</td><td>/stsezsandbox07/unity/83ad2d11-1431-4eb5-8a3e-a26542faf5ac/tables/01343f9d-8610-457e-8e96-614c9cab981e</td><td>__databricks_internal.__dlt_materialization_schema_da18c5b2_8970_4c5d_bdf0_476ecd53fb87.__event_log</td><td>MANAGED</td></tr><tr><td>2025-04-07T10:37:07.106Z</td><td>1</td><td>0407-103326-ksvmqp71-v2n------:d12fbc5c-6722-491a-8409-68b828bd67a0:fe4d86b0-d276-4b4c-87e5-c24fed9c6e98::adba8326649c:RE:0</td><td>Azure Blob FS/3.3 (AzulSystems,Inc. JavaJRE 1.8.0_412; Linux 5.15.0-1075-azure/amd64; SunJSSE-1.8; UNKNOWN/UNKNOWN) APN/1.0 unknown</td><td>HTTPS</td><td>25a7ff4b-701f-003d-72a9-a7488a000000</td><td>DelegationSAS</td><td>bf465dc7-3bc8-4944-b018-092572b5c20d</td><td>5d36be44-0b29-4420-bebe-37cd8dc6458e</td><td>Success</td><td>ReadFile</td><td>read</td><td>10.16.14.3</td><td>stsezsandbox07</td><td>/stsezsandbox07/unity/83ad2d11-1431-4eb5-8a3e-a26542faf5ac/tables/01343f9d-8610-457e-8e96-614c9cab981e/_delta_log/00000000000000001567.00000000000000001572.compacted.json</td><td>/stsezsandbox07/unity/83ad2d11-1431-4eb5-8a3e-a26542faf5ac/tables/01343f9d-8610-457e-8e96-614c9cab981e</td><td>__databricks_internal.__dlt_materialization_schema_da18c5b2_8970_4c5d_bdf0_476ecd53fb87.__event_log</td><td>MANAGED</td></tr><tr><td>2025-04-07T10:37:07.125Z</td><td>1</td><td>0407-103326-ksvmqp71-v2n------:247ff01e-127d-4b25-8461-7c5a8adb7ea5:fe4d86b0-d276-4b4c-87e5-c24fed9c6e98::d4fae15976d7:RE:0</td><td>Azure Blob FS/3.3 (AzulSystems,Inc. JavaJRE 1.8.0_412; Linux 5.15.0-1075-azure/amd64; SunJSSE-1.8; UNKNOWN/UNKNOWN) APN/1.0 unknown</td><td>HTTPS</td><td>25a7ff4e-701f-003d-75a9-a7488a000000</td><td>DelegationSAS</td><td>bf465dc7-3bc8-4944-b018-092572b5c20d</td><td>5d36be44-0b29-4420-bebe-37cd8dc6458e</td><td>Success</td><td>ReadFile</td><td>read</td><td>10.16.14.3</td><td>stsezsandbox07</td><td>/stsezsandbox07/unity/83ad2d11-1431-4eb5-8a3e-a26542faf5ac/tables/01343f9d-8610-457e-8e96-614c9cab981e/_delta_log/00000000000000001574.json</td><td>/stsezsandbox07/unity/83ad2d11-1431-4eb5-8a3e-a26542faf5ac/tables/01343f9d-8610-457e-8e96-614c9cab981e</td><td>__databricks_internal.__dlt_materialization_schema_da18c5b2_8970_4c5d_bdf0_476ecd53fb87.__event_log</td><td>MANAGED</td></tr><tr><td>2025-04-07T10:37:07.175Z</td><td>1</td><td>0407-103326-ksvmqp71-v2n------:248974c3-24b4-432f-b83f-10f4bdd2128f:fe4d86b0-d276-4b4c-87e5-c24fed9c6e98::36275386286b:RE:0</td><td>Azure Blob FS/3.3 (AzulSystems,Inc. JavaJRE 1.8.0_412; Linux 5.15.0-1075-azure/amd64; SunJSSE-1.8; UNKNOWN/UNKNOWN) APN/1.0 unknown</td><td>HTTPS</td><td>25a7ff50-701f-003d-77a9-a7488a000000</td><td>DelegationSAS</td><td>bf465dc7-3bc8-4944-b018-092572b5c20d</td><td>5d36be44-0b29-4420-bebe-37cd8dc6458e</td><td>Success</td><td>ReadFile</td><td>read</td><td>10.16.14.3</td><td>stsezsandbox07</td><td>/stsezsandbox07/unity/83ad2d11-1431-4eb5-8a3e-a26542faf5ac/tables/01343f9d-8610-457e-8e96-614c9cab981e/_delta_log/00000000000000001577.json</td><td>/stsezsandbox07/unity/83ad2d11-1431-4eb5-8a3e-a26542faf5ac/tables/01343f9d-8610-457e-8e96-614c9cab981e</td><td>__databricks_internal.__dlt_materialization_schema_da18c5b2_8970_4c5d_bdf0_476ecd53fb87.__event_log</td><td>MANAGED</td></tr><tr><td>2025-04-07T10:37:06.937Z</td><td>1</td><td>0407-103326-ksvmqp71-v2n------:252514eb-c5d8-4016-ae0a-1a3e75cf1efd:91afdcea-f285-449f-9561-9bb4aad4694a:::CR:0</td><td>Azure Blob FS/3.3 (AzulSystems,Inc. JavaJRE 1.8.0_412; Linux 5.15.0-1075-azure/amd64; SunJSSE-1.8; UNKNOWN/UNKNOWN) APN/1.0 unknown</td><td>HTTPS</td><td>25a7ff37-701f-003d-5ea9-a7488a000000</td><td>DelegationSAS</td><td>bf465dc7-3bc8-4944-b018-092572b5c20d</td><td>5d36be44-0b29-4420-bebe-37cd8dc6458e</td><td>Success</td><td>CreatePathFile</td><td>write</td><td>10.16.14.3</td><td>stsezsandbox07</td><td>/stsezsandbox07/unity/83ad2d11-1431-4eb5-8a3e-a26542faf5ac/tables/01343f9d-8610-457e-8e96-614c9cab981e/_delta_log/__tmp_path_dir/.00000000000000001577.json.6380ed1d-cdd2-42b6-ac5a-67dbe0661a91.tmp</td><td>/stsezsandbox07/unity/83ad2d11-1431-4eb5-8a3e-a26542faf5ac/tables/01343f9d-8610-457e-8e96-614c9cab981e</td><td>__databricks_internal.__dlt_materialization_schema_da18c5b2_8970_4c5d_bdf0_476ecd53fb87.__event_log</td><td>MANAGED</td></tr><tr><td>2025-04-07T10:37:06.956Z</td><td>1</td><td>0407-103326-ksvmqp71-v2n------:8df20c6a-397f-4300-bbb7-d1f523081207:91afdcea-f285-449f-9561-9bb4aad4694a::1a477746fbd7:WR:0</td><td>Azure Blob FS/3.3 (AzulSystems,Inc. JavaJRE 1.8.0_412; Linux 5.15.0-1075-azure/amd64; SunJSSE-1.8; UNKNOWN/UNKNOWN) APN/1.0 unknown</td><td>HTTPS</td><td>25a7ff3a-701f-003d-61a9-a7488a000000</td><td>DelegationSAS</td><td>bf465dc7-3bc8-4944-b018-092572b5c20d</td><td>5d36be44-0b29-4420-bebe-37cd8dc6458e</td><td>Success</td><td>AppendFile</td><td>write</td><td>10.16.14.3</td><td>stsezsandbox07</td><td>/stsezsandbox07/unity/83ad2d11-1431-4eb5-8a3e-a26542faf5ac/tables/01343f9d-8610-457e-8e96-614c9cab981e/_delta_log/__tmp_path_dir/.00000000000000001577.json.6380ed1d-cdd2-42b6-ac5a-67dbe0661a91.tmp</td><td>/stsezsandbox07/unity/83ad2d11-1431-4eb5-8a3e-a26542faf5ac/tables/01343f9d-8610-457e-8e96-614c9cab981e</td><td>__databricks_internal.__dlt_materialization_schema_da18c5b2_8970_4c5d_bdf0_476ecd53fb87.__event_log</td><td>MANAGED</td></tr><tr><td>2025-04-07T10:37:06.995Z</td><td>1</td><td>0407-103326-ksvmqp71-v2n------:7b1165f2-d00f-43fd-a857-1b3a7f2d5cce:91afdcea-f285-449f-9561-9bb4aad4694a::1a477746fbd7:WR:0</td><td>Azure Blob FS/3.3 (AzulSystems,Inc. JavaJRE 1.8.0_412; Linux 5.15.0-1075-azure/amd64; SunJSSE-1.8; UNKNOWN/UNKNOWN) APN/1.0 unknown</td><td>HTTPS</td><td>25a7ff3c-701f-003d-63a9-a7488a000000</td><td>DelegationSAS</td><td>bf465dc7-3bc8-4944-b018-092572b5c20d</td><td>5d36be44-0b29-4420-bebe-37cd8dc6458e</td><td>Success</td><td>FlushFile</td><td>write</td><td>10.16.14.3</td><td>stsezsandbox07</td><td>/stsezsandbox07/unity/83ad2d11-1431-4eb5-8a3e-a26542faf5ac/tables/01343f9d-8610-457e-8e96-614c9cab981e/_delta_log/__tmp_path_dir/.00000000000000001577.json.6380ed1d-cdd2-42b6-ac5a-67dbe0661a91.tmp</td><td>/stsezsandbox07/unity/83ad2d11-1431-4eb5-8a3e-a26542faf5ac/tables/01343f9d-8610-457e-8e96-614c9cab981e</td><td>__databricks_internal.__dlt_materialization_schema_da18c5b2_8970_4c5d_bdf0_476ecd53fb87.__event_log</td><td>MANAGED</td></tr><tr><td>2025-04-07T10:37:07.061Z</td><td>1</td><td>0407-103326-ksvmqp71-v2n------:e911e6db-bc53-41d4-ad92-b38ae2a7629e:91afdcea-f285-449f-9561-9bb4aad4694a:0341a041-5757-4469-a0cb-bf9da7b36b61::RN:0</td><td>Azure Blob FS/3.3 (AzulSystems,Inc. JavaJRE 1.8.0_412; Linux 5.15.0-1075-azure/amd64; SunJSSE-1.8; UNKNOWN/UNKNOWN) APN/1.0 unknown</td><td>HTTPS</td><td>25a7ff3d-701f-003d-64a9-a7488a000000</td><td>DelegationSAS</td><td>bf465dc7-3bc8-4944-b018-092572b5c20d</td><td>5d36be44-0b29-4420-bebe-37cd8dc6458e</td><td>Success</td><td>RenamePathFile</td><td>read</td><td>10.16.14.3</td><td>stsezsandbox07</td><td>/stsezsandbox07/unity/83ad2d11-1431-4eb5-8a3e-a26542faf5ac/tables/01343f9d-8610-457e-8e96-614c9cab981e/_delta_log/00000000000000001577.json</td><td>/stsezsandbox07/unity/83ad2d11-1431-4eb5-8a3e-a26542faf5ac/tables/01343f9d-8610-457e-8e96-614c9cab981e</td><td>__databricks_internal.__dlt_materialization_schema_da18c5b2_8970_4c5d_bdf0_476ecd53fb87.__event_log</td><td>MANAGED</td></tr><tr><td>2025-04-07T10:37:07.280Z</td><td>1</td><td>0407-103326-ksvmqp71-v2n------:c43f8fc2-b3f0-40c9-96ed-31df28de88e0:fe4d86b0-d276-4b4c-87e5-c24fed9c6e98::252ede5780d6:RE:0</td><td>Azure Blob FS/3.3 (AzulSystems,Inc. JavaJRE 1.8.0_412; Linux 5.15.0-1075-azure/amd64; SunJSSE-1.8; UNKNOWN/UNKNOWN) APN/1.0 unknown</td><td>HTTPS</td><td>9010162f-c01f-0075-20a9-a755bd000000</td><td>DelegationSAS</td><td>bf465dc7-3bc8-4944-b018-092572b5c20d</td><td>5d36be44-0b29-4420-bebe-37cd8dc6458e</td><td>Success</td><td>ReadFile</td><td>read</td><td>10.16.14.3</td><td>stsezsandbox07</td><td>/stsezsandbox07/unity/83ad2d11-1431-4eb5-8a3e-a26542faf5ac/tables/01343f9d-8610-457e-8e96-614c9cab981e/_delta_log/00000000000000001575.json</td><td>/stsezsandbox07/unity/83ad2d11-1431-4eb5-8a3e-a26542faf5ac/tables/01343f9d-8610-457e-8e96-614c9cab981e</td><td>__databricks_internal.__dlt_materialization_schema_da18c5b2_8970_4c5d_bdf0_476ecd53fb87.__event_log</td><td>MANAGED</td></tr><tr><td>2025-04-07T10:37:08.440Z</td><td>1</td><td>0407-103326-ksvmqp71-v2n------:5c99e373-33b4-47c7-8fc9-ffda730afaac:91afdcea-f285-449f-9561-9bb4aad4694a:::CR:0</td><td>Azure Blob FS/3.3 (AzulSystems,Inc. JavaJRE 1.8.0_412; Linux 5.15.0-1075-azure/amd64; SunJSSE-1.8; UNKNOWN/UNKNOWN) APN/1.0 unknown</td><td>HTTPS</td><td>9010166f-c01f-0075-5da9-a755bd000000</td><td>DelegationSAS</td><td>bf465dc7-3bc8-4944-b018-092572b5c20d</td><td>5d36be44-0b29-4420-bebe-37cd8dc6458e</td><td>Success</td><td>CreatePathFile</td><td>write</td><td>10.16.14.3</td><td>stsezsandbox07</td><td>/stsezsandbox07/unity/83ad2d11-1431-4eb5-8a3e-a26542faf5ac/tables/01343f9d-8610-457e-8e96-614c9cab981e/_delta_log/__tmp_path_dir/.00000000000000001577.crc.7ed5af4f-bc0c-4c1a-8149-78b88f6efb90.tmp</td><td>/stsezsandbox07/unity/83ad2d11-1431-4eb5-8a3e-a26542faf5ac/tables/01343f9d-8610-457e-8e96-614c9cab981e</td><td>__databricks_internal.__dlt_materialization_schema_da18c5b2_8970_4c5d_bdf0_476ecd53fb87.__event_log</td><td>MANAGED</td></tr><tr><td>2025-04-07T10:37:08.458Z</td><td>1</td><td>0407-103326-ksvmqp71-v2n------:7f508597-d43f-4767-9d1d-704cc89bff62:91afdcea-f285-449f-9561-9bb4aad4694a::6b1bdbc18c13:WR:0</td><td>Azure Blob FS/3.3 (AzulSystems,Inc. JavaJRE 1.8.0_412; Linux 5.15.0-1075-azure/amd64; SunJSSE-1.8; UNKNOWN/UNKNOWN) APN/1.0 unknown</td><td>HTTPS</td><td>90101671-c01f-0075-5fa9-a755bd000000</td><td>DelegationSAS</td><td>bf465dc7-3bc8-4944-b018-092572b5c20d</td><td>5d36be44-0b29-4420-bebe-37cd8dc6458e</td><td>Success</td><td>AppendFile</td><td>write</td><td>10.16.14.3</td><td>stsezsandbox07</td><td>/stsezsandbox07/unity/83ad2d11-1431-4eb5-8a3e-a26542faf5ac/tables/01343f9d-8610-457e-8e96-614c9cab981e/_delta_log/__tmp_path_dir/.00000000000000001577.crc.7ed5af4f-bc0c-4c1a-8149-78b88f6efb90.tmp</td><td>/stsezsandbox07/unity/83ad2d11-1431-4eb5-8a3e-a26542faf5ac/tables/01343f9d-8610-457e-8e96-614c9cab981e</td><td>__databricks_internal.__dlt_materialization_schema_da18c5b2_8970_4c5d_bdf0_476ecd53fb87.__event_log</td><td>MANAGED</td></tr><tr><td>2025-04-07T10:37:08.499Z</td><td>1</td><td>0407-103326-ksvmqp71-v2n------:8d053f58-4473-4b50-90f7-81e4560bf00b:91afdcea-f285-449f-9561-9bb4aad4694a::6b1bdbc18c13:WR:0</td><td>Azure Blob FS/3.3 (AzulSystems,Inc. JavaJRE 1.8.0_412; Linux 5.15.0-1075-azure/amd64; SunJSSE-1.8; UNKNOWN/UNKNOWN) APN/1.0 unknown</td><td>HTTPS</td><td>90101674-c01f-0075-61a9-a755bd000000</td><td>DelegationSAS</td><td>bf465dc7-3bc8-4944-b018-092572b5c20d</td><td>5d36be44-0b29-4420-bebe-37cd8dc6458e</td><td>Success</td><td>FlushFile</td><td>write</td><td>10.16.14.3</td><td>stsezsandbox07</td><td>/stsezsandbox07/unity/83ad2d11-1431-4eb5-8a3e-a26542faf5ac/tables/01343f9d-8610-457e-8e96-614c9cab981e/_delta_log/__tmp_path_dir/.00000000000000001577.crc.7ed5af4f-bc0c-4c1a-8149-78b88f6efb90.tmp</td><td>/stsezsandbox07/unity/83ad2d11-1431-4eb5-8a3e-a26542faf5ac/tables/01343f9d-8610-457e-8e96-614c9cab981e</td><td>__databricks_internal.__dlt_materialization_schema_da18c5b2_8970_4c5d_bdf0_476ecd53fb87.__event_log</td><td>MANAGED</td></tr><tr><td>2025-04-07T10:37:08.543Z</td><td>1</td><td>0407-103326-ksvmqp71-v2n------:394a4aaa-5f56-41dd-acd8-fca93183378d:91afdcea-f285-449f-9561-9bb4aad4694a:b8780946-6288-4304-99d2-b0292667b822::RN:0</td><td>Azure Blob FS/3.3 (AzulSystems,Inc. JavaJRE 1.8.0_412; Linux 5.15.0-1075-azure/amd64; SunJSSE-1.8; UNKNOWN/UNKNOWN) APN/1.0 unknown</td><td>HTTPS</td><td>90101679-c01f-0075-66a9-a755bd000000</td><td>DelegationSAS</td><td>bf465dc7-3bc8-4944-b018-092572b5c20d</td><td>5d36be44-0b29-4420-bebe-37cd8dc6458e</td><td>Success</td><td>RenamePathFile</td><td>read</td><td>10.16.14.3</td><td>stsezsandbox07</td><td>/stsezsandbox07/unity/83ad2d11-1431-4eb5-8a3e-a26542faf5ac/tables/01343f9d-8610-457e-8e96-614c9cab981e/_delta_log/00000000000000001577.crc</td><td>/stsezsandbox07/unity/83ad2d11-1431-4eb5-8a3e-a26542faf5ac/tables/01343f9d-8610-457e-8e96-614c9cab981e</td><td>__databricks_internal.__dlt_materialization_schema_da18c5b2_8970_4c5d_bdf0_476ecd53fb87.__event_log</td><td>MANAGED</td></tr><tr><td>2025-04-07T10:37:07.266Z</td><td>1</td><td>0407-103326-ksvmqp71-v2n------:2fbdd6b9-3256-4ca2-8f9f-7cccb2fa12ab:fe4d86b0-d276-4b4c-87e5-c24fed9c6e98::6540700f1f3a:RE:0</td><td>Azure Blob FS/3.3 (AzulSystems,Inc. JavaJRE 1.8.0_412; Linux 5.15.0-1075-azure/amd64; SunJSSE-1.8; UNKNOWN/UNKNOWN) APN/1.0 unknown</td><td>HTTPS</td><td>44b168d7-601f-006c-0ba9-a7d506000000</td><td>DelegationSAS</td><td>bf465dc7-3bc8-4944-b018-092572b5c20d</td><td>5d36be44-0b29-4420-bebe-37cd8dc6458e</td><td>Success</td><td>ReadFile</td><td>read</td><td>10.16.14.3</td><td>stsezsandbox07</td><td>/stsezsandbox07/unity/83ad2d11-1431-4eb5-8a3e-a26542faf5ac/tables/01343f9d-8610-457e-8e96-614c9cab981e/_delta_log/00000000000000001576.json</td><td>/stsezsandbox07/unity/83ad2d11-1431-4eb5-8a3e-a26542faf5ac/tables/01343f9d-8610-457e-8e96-614c9cab981e</td><td>__databricks_internal.__dlt_materialization_schema_da18c5b2_8970_4c5d_bdf0_476ecd53fb87.__event_log</td><td>MANAGED</td></tr><tr><td>2025-04-07T10:36:28.818Z</td><td>1</td><td>0407-103326-ksvmqp71-v2n------:4f303a63-8361-441d-941f-5102f9ca9f23:fe4d86b0-d276-4b4c-87e5-c24fed9c6e98::3f9b27f07fa1:RE:0</td><td>Azure Blob FS/3.3 (AzulSystems,Inc. JavaJRE 1.8.0_412; Linux 5.15.0-1075-azure/amd64; SunJSSE-1.8; UNKNOWN/UNKNOWN) APN/1.0 unknown</td><td>HTTPS</td><td>5e7eea25-e01f-0010-79a8-a7fbf9000000</td><td>DelegationSAS</td><td>bf465dc7-3bc8-4944-b018-092572b5c20d</td><td>5d36be44-0b29-4420-bebe-37cd8dc6458e</td><td>Success</td><td>ReadFile</td><td>read</td><td>10.16.14.3</td><td>stsezsandbox07</td><td>/stsezsandbox07/unity/83ad2d11-1431-4eb5-8a3e-a26542faf5ac/tables/01343f9d-8610-457e-8e96-614c9cab981e/_delta_log/00000000000000001561.00000000000000001566.compacted.json</td><td>/stsezsandbox07/unity/83ad2d11-1431-4eb5-8a3e-a26542faf5ac/tables/01343f9d-8610-457e-8e96-614c9cab981e</td><td>__databricks_internal.__dlt_materialization_schema_da18c5b2_8970_4c5d_bdf0_476ecd53fb87.__event_log</td><td>MANAGED</td></tr><tr><td>2025-04-07T10:36:28.733Z</td><td>1</td><td>0407-103326-ksvmqp71-v2n------:e0268dd5-fbb9-4944-b146-6d66b0033d66:fe4d86b0-d276-4b4c-87e5-c24fed9c6e98::7692d96c9522:RE:0</td><td>Azure Blob FS/3.3 (AzulSystems,Inc. JavaJRE 1.8.0_412; Linux 5.15.0-1075-azure/amd64; SunJSSE-1.8; UNKNOWN/UNKNOWN) APN/1.0 unknown</td><td>HTTPS</td><td>f327d31b-901f-000a-6da8-a79a26000000</td><td>DelegationSAS</td><td>bf465dc7-3bc8-4944-b018-092572b5c20d</td><td>5d36be44-0b29-4420-bebe-37cd8dc6458e</td><td>Success</td><td>ReadFile</td><td>read</td><td>10.16.14.3</td><td>stsezsandbox07</td><td>/stsezsandbox07/unity/83ad2d11-1431-4eb5-8a3e-a26542faf5ac/tables/01343f9d-8610-457e-8e96-614c9cab981e/_delta_log/00000000000000001567.00000000000000001572.compacted.json</td><td>/stsezsandbox07/unity/83ad2d11-1431-4eb5-8a3e-a26542faf5ac/tables/01343f9d-8610-457e-8e96-614c9cab981e</td><td>__databricks_internal.__dlt_materialization_schema_da18c5b2_8970_4c5d_bdf0_476ecd53fb87.__event_log</td><td>MANAGED</td></tr><tr><td>2025-04-07T10:37:06.854Z</td><td>1</td><td>0407-103326-ksvmqp71-v2n--77--1405--0:0cc94ca3-6234-42cf-9e60-04ed4684d178:7208fdc0-d194-45b9-8f99-2be1bbee9335:::GF:0</td><td>Azure Blob FS/3.3 (AzulSystems,Inc. JavaJRE 1.8.0_412; Linux 5.15.0-1075-azure/amd64; SunJSSE-1.8; UNKNOWN/UNKNOWN) APN/1.0 unknown</td><td>HTTPS</td><td>d0d6615c-801f-005b-21a9-a707aa000000</td><td>DelegationSAS</td><td>bf465dc7-3bc8-4944-b018-092572b5c20d</td><td>5d36be44-0b29-4420-bebe-37cd8dc6458e</td><td>Success</td><td>GetPathStatus</td><td>read</td><td>10.16.14.243</td><td>stsezsandbox07</td><td>/stsezsandbox07/unity/83ad2d11-1431-4eb5-8a3e-a26542faf5ac/tables/01343f9d-8610-457e-8e96-614c9cab981e/part-00000-38bde726-602c-4207-81fa-8188341890ce.c000.snappy.parquet</td><td>/stsezsandbox07/unity/83ad2d11-1431-4eb5-8a3e-a26542faf5ac/tables/01343f9d-8610-457e-8e96-614c9cab981e</td><td>__databricks_internal.__dlt_materialization_schema_da18c5b2_8970_4c5d_bdf0_476ecd53fb87.__event_log</td><td>MANAGED</td></tr><tr><td>2025-04-07T10:37:06.860Z</td><td>1</td><td>0407-103326-ksvmqp71-v2n--77--1405--0:9cc4919c-4c58-40ca-b598-87ee8d1f1716:7208fdc0-d194-45b9-8f99-2be1bbee9335:::GF:0</td><td>Azure Blob FS/3.3 (AzulSystems,Inc. JavaJRE 1.8.0_412; Linux 5.15.0-1075-azure/amd64; SunJSSE-1.8; UNKNOWN/UNKNOWN) APN/1.0 unknown</td><td>HTTPS</td><td>d0d6615e-801f-005b-23a9-a707aa000000</td><td>DelegationSAS</td><td>bf465dc7-3bc8-4944-b018-092572b5c20d</td><td>5d36be44-0b29-4420-bebe-37cd8dc6458e</td><td>Success</td><td>GetPathStatus</td><td>read</td><td>10.16.14.243</td><td>stsezsandbox07</td><td>/stsezsandbox07/unity/83ad2d11-1431-4eb5-8a3e-a26542faf5ac/tables/01343f9d-8610-457e-8e96-614c9cab981e/part-00000-38bde726-602c-4207-81fa-8188341890ce.c000.snappy.parquet</td><td>/stsezsandbox07/unity/83ad2d11-1431-4eb5-8a3e-a26542faf5ac/tables/01343f9d-8610-457e-8e96-614c9cab981e</td><td>__databricks_internal.__dlt_materialization_schema_da18c5b2_8970_4c5d_bdf0_476ecd53fb87.__event_log</td><td>MANAGED</td></tr><tr><td>2025-04-07T10:37:06.692Z</td><td>1</td><td>0407-103326-ksvmqp71-v2n--77--1405--0:16accd56-5a14-4752-b348-a227ca3d3a61:5249be2d-4965-4656-84aa-f407ff1b07ed:::CR:0</td><td>Azure Blob FS/3.3 (AzulSystems,Inc. JavaJRE 1.8.0_412; Linux 5.15.0-1075-azure/amd64; SunJSSE-1.8; UNKNOWN/UNKNOWN) APN/1.0 unknown</td><td>HTTPS</td><td>d0d6613e-801f-005b-04a9-a707aa000000</td><td>DelegationSAS</td><td>bf465dc7-3bc8-4944-b018-092572b5c20d</td><td>5d36be44-0b29-4420-bebe-37cd8dc6458e</td><td>Success</td><td>CreatePathFile</td><td>write</td><td>10.16.14.243</td><td>stsezsandbox07</td><td>/stsezsandbox07/unity/83ad2d11-1431-4eb5-8a3e-a26542faf5ac/tables/01343f9d-8610-457e-8e96-614c9cab981e/part-00000-38bde726-602c-4207-81fa-8188341890ce.c000.snappy.parquet</td><td>/stsezsandbox07/unity/83ad2d11-1431-4eb5-8a3e-a26542faf5ac/tables/01343f9d-8610-457e-8e96-614c9cab981e</td><td>__databricks_internal.__dlt_materialization_schema_da18c5b2_8970_4c5d_bdf0_476ecd53fb87.__event_log</td><td>MANAGED</td></tr><tr><td>2025-04-07T10:37:06.719Z</td><td>1</td><td>0407-103326-ksvmqp71-v2n--77--1405--0:ee49fb8b-030f-43fe-abb8-feb44d1aa517:5249be2d-4965-4656-84aa-f407ff1b07ed::1efa479e4809:WR:0</td><td>Azure Blob FS/3.3 (AzulSystems,Inc. JavaJRE 1.8.0_412; Linux 5.15.0-1075-azure/amd64; SunJSSE-1.8; UNKNOWN/UNKNOWN) APN/1.0 unknown</td><td>HTTPS</td><td>d0d66156-801f-005b-1ba9-a707aa000000</td><td>DelegationSAS</td><td>bf465dc7-3bc8-4944-b018-092572b5c20d</td><td>5d36be44-0b29-4420-bebe-37cd8dc6458e</td><td>Success</td><td>AppendFile</td><td>write</td><td>10.16.14.243</td><td>stsezsandbox07</td><td>/stsezsandbox07/unity/83ad2d11-1431-4eb5-8a3e-a26542faf5ac/tables/01343f9d-8610-457e-8e96-614c9cab981e/part-00000-38bde726-602c-4207-81fa-8188341890ce.c000.snappy.parquet</td><td>/stsezsandbox07/unity/83ad2d11-1431-4eb5-8a3e-a26542faf5ac/tables/01343f9d-8610-457e-8e96-614c9cab981e</td><td>__databricks_internal.__dlt_materialization_schema_da18c5b2_8970_4c5d_bdf0_476ecd53fb87.__event_log</td><td>MANAGED</td></tr><tr><td>2025-04-07T10:37:06.829Z</td><td>1</td><td>0407-103326-ksvmqp71-v2n--77--1405--0:d78c83a1-125d-4b25-9f31-d00e46545041:5249be2d-4965-4656-84aa-f407ff1b07ed::1efa479e4809:WR:0</td><td>Azure Blob FS/3.3 (AzulSystems,Inc. JavaJRE 1.8.0_412; Linux 5.15.0-1075-azure/amd64; SunJSSE-1.8; UNKNOWN/UNKNOWN) APN/1.0 unknown</td><td>HTTPS</td><td>d0d66157-801f-005b-1ca9-a707aa000000</td><td>DelegationSAS</td><td>bf465dc7-3bc8-4944-b018-092572b5c20d</td><td>5d36be44-0b29-4420-bebe-37cd8dc6458e</td><td>Success</td><td>FlushFile</td><td>write</td><td>10.16.14.243</td><td>stsezsandbox07</td><td>/stsezsandbox07/unity/83ad2d11-1431-4eb5-8a3e-a26542faf5ac/tables/01343f9d-8610-457e-8e96-614c9cab981e/part-00000-38bde726-602c-4207-81fa-8188341890ce.c000.snappy.parquet</td><td>/stsezsandbox07/unity/83ad2d11-1431-4eb5-8a3e-a26542faf5ac/tables/01343f9d-8610-457e-8e96-614c9cab981e</td><td>__databricks_internal.__dlt_materialization_schema_da18c5b2_8970_4c5d_bdf0_476ecd53fb87.__event_log</td><td>MANAGED</td></tr><tr><td>2025-04-07T10:36:28.712Z</td><td>1</td><td>0407-103326-ksvmqp71-v2n------:6c57c573-21f5-4b8c-84a1-c787902fff33:fe4d86b0-d276-4b4c-87e5-c24fed9c6e98::7d17210dc6a4:RE:0</td><td>Azure Blob FS/3.3 (AzulSystems,Inc. JavaJRE 1.8.0_412; Linux 5.15.0-1075-azure/amd64; SunJSSE-1.8; UNKNOWN/UNKNOWN) APN/1.0 unknown</td><td>HTTPS</td><td>941ddd41-d01f-0034-68a8-a70d59000000</td><td>DelegationSAS</td><td>bf465dc7-3bc8-4944-b018-092572b5c20d</td><td>5d36be44-0b29-4420-bebe-37cd8dc6458e</td><td>Success</td><td>ReadFile</td><td>read</td><td>10.16.14.3</td><td>stsezsandbox07</td><td>/stsezsandbox07/unity/83ad2d11-1431-4eb5-8a3e-a26542faf5ac/tables/01343f9d-8610-457e-8e96-614c9cab981e/_delta_log/00000000000000001549.00000000000000001554.compacted.json</td><td>/stsezsandbox07/unity/83ad2d11-1431-4eb5-8a3e-a26542faf5ac/tables/01343f9d-8610-457e-8e96-614c9cab981e</td><td>__databricks_internal.__dlt_materialization_schema_da18c5b2_8970_4c5d_bdf0_476ecd53fb87.__event_log</td><td>MANAGED</td></tr><tr><td>2025-04-07T10:36:28.829Z</td><td>1</td><td>0407-103326-ksvmqp71-v2n------:c4fa6348-0687-422c-90cc-8844afd25a0f:fe4d86b0-d276-4b4c-87e5-c24fed9c6e98::e1c8095803f6:RE:0</td><td>Azure Blob FS/3.3 (AzulSystems,Inc. JavaJRE 1.8.0_412; Linux 5.15.0-1075-azure/amd64; SunJSSE-1.8; UNKNOWN/UNKNOWN) APN/1.0 unknown</td><td>HTTPS</td><td>66b2475f-001f-0008-22a8-a7249e000000</td><td>DelegationSAS</td><td>bf465dc7-3bc8-4944-b018-092572b5c20d</td><td>5d36be44-0b29-4420-bebe-37cd8dc6458e</td><td>Success</td><td>ReadFile</td><td>read</td><td>10.16.14.3</td><td>stsezsandbox07</td><td>/stsezsandbox07/unity/83ad2d11-1431-4eb5-8a3e-a26542faf5ac/tables/01343f9d-8610-457e-8e96-614c9cab981e/_delta_log/00000000000000001575.json</td><td>/stsezsandbox07/unity/83ad2d11-1431-4eb5-8a3e-a26542faf5ac/tables/01343f9d-8610-457e-8e96-614c9cab981e</td><td>__databricks_internal.__dlt_materialization_schema_da18c5b2_8970_4c5d_bdf0_476ecd53fb87.__event_log</td><td>MANAGED</td></tr><tr><td>2025-04-07T10:36:30.078Z</td><td>1</td><td>0407-103326-ksvmqp71-v2n------:abed8d25-ad68-4891-9840-5713f0ec856d:91afdcea-f285-449f-9561-9bb4aad4694a:::CR:0</td><td>Azure Blob FS/3.3 (AzulSystems,Inc. JavaJRE 1.8.0_412; Linux 5.15.0-1075-azure/amd64; SunJSSE-1.8; UNKNOWN/UNKNOWN) APN/1.0 unknown</td><td>HTTPS</td><td>66b24799-001f-0008-5ba8-a7249e000000</td><td>DelegationSAS</td><td>bf465dc7-3bc8-4944-b018-092572b5c20d</td><td>5d36be44-0b29-4420-bebe-37cd8dc6458e</td><td>Success</td><td>CreatePathFile</td><td>write</td><td>10.16.14.3</td><td>stsezsandbox07</td><td>/stsezsandbox07/unity/83ad2d11-1431-4eb5-8a3e-a26542faf5ac/tables/01343f9d-8610-457e-8e96-614c9cab981e/_delta_log/__tmp_path_dir/.00000000000000001576.crc.5e9a3699-4386-43f8-9d9c-b0c7845380d7.tmp</td><td>/stsezsandbox07/unity/83ad2d11-1431-4eb5-8a3e-a26542faf5ac/tables/01343f9d-8610-457e-8e96-614c9cab981e</td><td>__databricks_internal.__dlt_materialization_schema_da18c5b2_8970_4c5d_bdf0_476ecd53fb87.__event_log</td><td>MANAGED</td></tr><tr><td>2025-04-07T10:36:30.095Z</td><td>1</td><td>0407-103326-ksvmqp71-v2n------:3ac67458-8db2-4a6e-806f-1d1de7cc37b1:91afdcea-f285-449f-9561-9bb4aad4694a::167977e6b74a:WR:0</td><td>Azure Blob FS/3.3 (AzulSystems,Inc. JavaJRE 1.8.0_412; Linux 5.15.0-1075-azure/amd64; SunJSSE-1.8; UNKNOWN/UNKNOWN) APN/1.0 unknown</td><td>HTTPS</td><td>66b2479a-001f-0008-5ca8-a7249e000000</td><td>DelegationSAS</td><td>bf465dc7-3bc8-4944-b018-092572b5c20d</td><td>5d36be44-0b29-4420-bebe-37cd8dc6458e</td><td>Success</td><td>AppendFile</td><td>write</td><td>10.16.14.3</td><td>stsezsandbox07</td><td>/stsezsandbox07/unity/83ad2d11-1431-4eb5-8a3e-a26542faf5ac/tables/01343f9d-8610-457e-8e96-614c9cab981e/_delta_log/__tmp_path_dir/.00000000000000001576.crc.5e9a3699-4386-43f8-9d9c-b0c7845380d7.tmp</td><td>/stsezsandbox07/unity/83ad2d11-1431-4eb5-8a3e-a26542faf5ac/tables/01343f9d-8610-457e-8e96-614c9cab981e</td><td>__databricks_internal.__dlt_materialization_schema_da18c5b2_8970_4c5d_bdf0_476ecd53fb87.__event_log</td><td>MANAGED</td></tr></tbody></table></div>"
      ]
     },
     "metadata": {
      "application/vnd.databricks.v1+output": {
       "addedWidgets": {},
       "aggData": [],
       "aggError": "",
       "aggOverflow": false,
       "aggSchema": [],
       "aggSeriesLimitReached": false,
       "aggType": "",
       "arguments": {},
       "columnCustomDisplayInfos": {},
       "data": [
        [
         "2025-04-07T10:33:54.372Z",
         1,
         "0407-103326-ksvmqp71-v2n------:5b279e79-c656-467f-b767-965998d3f46a:ab0dbb4e-dea3-4e4e-a52f-59e0b992a9a6:::GF:0",
         "Azure Blob FS/3.3 (AzulSystems,Inc. JavaJRE 1.8.0_412; Linux 5.15.0-1075-azure/amd64; SunJSSE-1.8; UNKNOWN/UNKNOWN) APN/1.0 unknown",
         "HTTPS",
         "37c351fa-c01f-0017-47a8-a7979a000000",
         "DelegationSAS",
         "bf465dc7-3bc8-4944-b018-092572b5c20d",
         "5d36be44-0b29-4420-bebe-37cd8dc6458e",
         "Success",
         "GetPathStatus",
         "read",
         "10.16.14.3",
         "stsezsandbox07",
         "/stsezsandbox07/unity/83ad2d11-1431-4eb5-8a3e-a26542faf5ac/tables/01343f9d-8610-457e-8e96-614c9cab981e/_delta_log/_last_checkpoint",
         "/stsezsandbox07/unity/83ad2d11-1431-4eb5-8a3e-a26542faf5ac/tables/01343f9d-8610-457e-8e96-614c9cab981e",
         "__databricks_internal.__dlt_materialization_schema_da18c5b2_8970_4c5d_bdf0_476ecd53fb87.__event_log",
         "MANAGED"
        ],
        [
         "2025-04-07T10:33:54.417Z",
         1,
         "0407-103326-ksvmqp71-v2n------:3990edba-e4ce-4f89-8bb0-cdbf633dc65a:ab0dbb4e-dea3-4e4e-a52f-59e0b992a9a6::ca3c2ba6358d:RE:0",
         "Azure Blob FS/3.3 (AzulSystems,Inc. JavaJRE 1.8.0_412; Linux 5.15.0-1075-azure/amd64; SunJSSE-1.8; UNKNOWN/UNKNOWN) APN/1.0 unknown",
         "HTTPS",
         "37c351fc-c01f-0017-49a8-a7979a000000",
         "DelegationSAS",
         "bf465dc7-3bc8-4944-b018-092572b5c20d",
         "5d36be44-0b29-4420-bebe-37cd8dc6458e",
         "Success",
         "ReadFile",
         "read",
         "10.16.14.3",
         "stsezsandbox07",
         "/stsezsandbox07/unity/83ad2d11-1431-4eb5-8a3e-a26542faf5ac/tables/01343f9d-8610-457e-8e96-614c9cab981e/_delta_log/_last_checkpoint",
         "/stsezsandbox07/unity/83ad2d11-1431-4eb5-8a3e-a26542faf5ac/tables/01343f9d-8610-457e-8e96-614c9cab981e",
         "__databricks_internal.__dlt_materialization_schema_da18c5b2_8970_4c5d_bdf0_476ecd53fb87.__event_log",
         "MANAGED"
        ],
        [
         "2025-04-07T10:33:54.723Z",
         1,
         "0407-103326-ksvmqp71-v2n------:36b1c817-badf-4667-8a51-9f8f70f67913:ab0dbb4e-dea3-4e4e-a52f-59e0b992a9a6::b09a55679283:RE:0",
         "Azure Blob FS/3.3 (AzulSystems,Inc. JavaJRE 1.8.0_412; Linux 5.15.0-1075-azure/amd64; SunJSSE-1.8; UNKNOWN/UNKNOWN) APN/1.0 unknown",
         "HTTPS",
         "37c3520f-c01f-0017-5ca8-a7979a000000",
         "DelegationSAS",
         "bf465dc7-3bc8-4944-b018-092572b5c20d",
         "5d36be44-0b29-4420-bebe-37cd8dc6458e",
         "Success",
         "ReadFile",
         "read",
         "10.16.14.3",
         "stsezsandbox07",
         "/stsezsandbox07/unity/83ad2d11-1431-4eb5-8a3e-a26542faf5ac/tables/01343f9d-8610-457e-8e96-614c9cab981e/_delta_log/00000000000000001548.checkpoint.parquet",
         "/stsezsandbox07/unity/83ad2d11-1431-4eb5-8a3e-a26542faf5ac/tables/01343f9d-8610-457e-8e96-614c9cab981e",
         "__databricks_internal.__dlt_materialization_schema_da18c5b2_8970_4c5d_bdf0_476ecd53fb87.__event_log",
         "MANAGED"
        ],
        [
         "2025-04-07T10:33:54.743Z",
         1,
         "0407-103326-ksvmqp71-v2n------:71992c4c-b351-4045-bbf5-da342065ed11:ab0dbb4e-dea3-4e4e-a52f-59e0b992a9a6:5e76baa2-5950-4d26-bc96-64bc6a4aff5f:22b285effaad:RE:0",
         "Azure Blob FS/3.3 (AzulSystems,Inc. JavaJRE 1.8.0_412; Linux 5.15.0-1075-azure/amd64; SunJSSE-1.8; UNKNOWN/UNKNOWN) APN/1.0 unknown",
         "HTTPS",
         "37c35210-c01f-0017-5da8-a7979a000000",
         "DelegationSAS",
         "bf465dc7-3bc8-4944-b018-092572b5c20d",
         "5d36be44-0b29-4420-bebe-37cd8dc6458e",
         "Success",
         "ReadFile",
         "read",
         "10.16.14.3",
         "stsezsandbox07",
         "/stsezsandbox07/unity/83ad2d11-1431-4eb5-8a3e-a26542faf5ac/tables/01343f9d-8610-457e-8e96-614c9cab981e/_delta_log/00000000000000001549.00000000000000001554.compacted.json",
         "/stsezsandbox07/unity/83ad2d11-1431-4eb5-8a3e-a26542faf5ac/tables/01343f9d-8610-457e-8e96-614c9cab981e",
         "__databricks_internal.__dlt_materialization_schema_da18c5b2_8970_4c5d_bdf0_476ecd53fb87.__event_log",
         "MANAGED"
        ],
        [
         "2025-04-07T10:33:54.773Z",
         1,
         "0407-103326-ksvmqp71-v2n------:e28cb61f-5636-4087-8e08-302e7cebade2:ab0dbb4e-dea3-4e4e-a52f-59e0b992a9a6:9e89d1ec-c5cc-4170-a6ca-4b7ec2c96e13:65229c6bb283:RE:0",
         "Azure Blob FS/3.3 (AzulSystems,Inc. JavaJRE 1.8.0_412; Linux 5.15.0-1075-azure/amd64; SunJSSE-1.8; UNKNOWN/UNKNOWN) APN/1.0 unknown",
         "HTTPS",
         "37c35215-c01f-0017-62a8-a7979a000000",
         "DelegationSAS",
         "bf465dc7-3bc8-4944-b018-092572b5c20d",
         "5d36be44-0b29-4420-bebe-37cd8dc6458e",
         "Success",
         "ReadFile",
         "read",
         "10.16.14.3",
         "stsezsandbox07",
         "/stsezsandbox07/unity/83ad2d11-1431-4eb5-8a3e-a26542faf5ac/tables/01343f9d-8610-457e-8e96-614c9cab981e/_delta_log/00000000000000001567.00000000000000001572.compacted.json",
         "/stsezsandbox07/unity/83ad2d11-1431-4eb5-8a3e-a26542faf5ac/tables/01343f9d-8610-457e-8e96-614c9cab981e",
         "__databricks_internal.__dlt_materialization_schema_da18c5b2_8970_4c5d_bdf0_476ecd53fb87.__event_log",
         "MANAGED"
        ],
        [
         "2025-04-07T10:33:54.783Z",
         1,
         "0407-103326-ksvmqp71-v2n------:a5a9d5a7-2da0-4d95-a6db-b49e616b020b:ab0dbb4e-dea3-4e4e-a52f-59e0b992a9a6::11805ca581c2:RE:0",
         "Azure Blob FS/3.3 (AzulSystems,Inc. JavaJRE 1.8.0_412; Linux 5.15.0-1075-azure/amd64; SunJSSE-1.8; UNKNOWN/UNKNOWN) APN/1.0 unknown",
         "HTTPS",
         "37c35216-c01f-0017-63a8-a7979a000000",
         "DelegationSAS",
         "bf465dc7-3bc8-4944-b018-092572b5c20d",
         "5d36be44-0b29-4420-bebe-37cd8dc6458e",
         "Success",
         "ReadFile",
         "read",
         "10.16.14.3",
         "stsezsandbox07",
         "/stsezsandbox07/unity/83ad2d11-1431-4eb5-8a3e-a26542faf5ac/tables/01343f9d-8610-457e-8e96-614c9cab981e/_delta_log/00000000000000001573.json",
         "/stsezsandbox07/unity/83ad2d11-1431-4eb5-8a3e-a26542faf5ac/tables/01343f9d-8610-457e-8e96-614c9cab981e",
         "__databricks_internal.__dlt_materialization_schema_da18c5b2_8970_4c5d_bdf0_476ecd53fb87.__event_log",
         "MANAGED"
        ],
        [
         "2025-04-07T10:33:57.346Z",
         1,
         null,
         "APN/1.0 Databricks/1.0 DBR/null",
         "HTTPS",
         "5d827a0d-f01f-000c-44a8-a7a999000000",
         "DelegationSAS",
         "bf465dc7-3bc8-4944-b018-092572b5c20d",
         "5d36be44-0b29-4420-bebe-37cd8dc6458e",
         "Success",
         "ReadFile",
         "read",
         "10.16.14.243",
         "stsezsandbox07",
         "/stsezsandbox07/unity/83ad2d11-1431-4eb5-8a3e-a26542faf5ac/tables/01343f9d-8610-457e-8e96-614c9cab981e/part-00000-57a0c1e6-14d2-4593-854f-242d4201aec8.c000.snappy.parquet",
         "/stsezsandbox07/unity/83ad2d11-1431-4eb5-8a3e-a26542faf5ac/tables/01343f9d-8610-457e-8e96-614c9cab981e",
         "__databricks_internal.__dlt_materialization_schema_da18c5b2_8970_4c5d_bdf0_476ecd53fb87.__event_log",
         "MANAGED"
        ],
        [
         "2025-04-07T10:33:57.283Z",
         1,
         null,
         "APN/1.0 Databricks/1.0 DBR/null",
         "HTTPS",
         "d72f812b-c01f-0028-39a8-a75f39000000",
         "DelegationSAS",
         "bf465dc7-3bc8-4944-b018-092572b5c20d",
         "5d36be44-0b29-4420-bebe-37cd8dc6458e",
         "Success",
         "ReadFile",
         "read",
         "10.16.14.243",
         "stsezsandbox07",
         "/stsezsandbox07/unity/83ad2d11-1431-4eb5-8a3e-a26542faf5ac/tables/01343f9d-8610-457e-8e96-614c9cab981e/part-00000-1c903970-64bb-4996-903b-7fdefc655345.c000.snappy.parquet",
         "/stsezsandbox07/unity/83ad2d11-1431-4eb5-8a3e-a26542faf5ac/tables/01343f9d-8610-457e-8e96-614c9cab981e",
         "__databricks_internal.__dlt_materialization_schema_da18c5b2_8970_4c5d_bdf0_476ecd53fb87.__event_log",
         "MANAGED"
        ],
        [
         "2025-04-07T10:33:54.920Z",
         1,
         "0407-103326-ksvmqp71-v2n------:da253113-a3ce-4236-83c7-22cce3f7fbee:ab0dbb4e-dea3-4e4e-a52f-59e0b992a9a6::2e1c6eb2a6f3:RE:0",
         "Azure Blob FS/3.3 (AzulSystems,Inc. JavaJRE 1.8.0_412; Linux 5.15.0-1075-azure/amd64; SunJSSE-1.8; UNKNOWN/UNKNOWN) APN/1.0 unknown",
         "HTTPS",
         "632838b4-301f-0003-13a8-a7dff5000000",
         "DelegationSAS",
         "bf465dc7-3bc8-4944-b018-092572b5c20d",
         "5d36be44-0b29-4420-bebe-37cd8dc6458e",
         "Success",
         "ReadFile",
         "read",
         "10.16.14.3",
         "stsezsandbox07",
         "/stsezsandbox07/unity/83ad2d11-1431-4eb5-8a3e-a26542faf5ac/tables/01343f9d-8610-457e-8e96-614c9cab981e/_delta_log/00000000000000001555.00000000000000001560.compacted.json",
         "/stsezsandbox07/unity/83ad2d11-1431-4eb5-8a3e-a26542faf5ac/tables/01343f9d-8610-457e-8e96-614c9cab981e",
         "__databricks_internal.__dlt_materialization_schema_da18c5b2_8970_4c5d_bdf0_476ecd53fb87.__event_log",
         "MANAGED"
        ],
        [
         "2025-04-07T10:33:55.008Z",
         1,
         "0407-103326-ksvmqp71-v2n------:66b38a04-1bb6-404f-bd09-7afe62244d5c:ab0dbb4e-dea3-4e4e-a52f-59e0b992a9a6:::GF:0",
         "Azure Blob FS/3.3 (AzulSystems,Inc. JavaJRE 1.8.0_412; Linux 5.15.0-1075-azure/amd64; SunJSSE-1.8; UNKNOWN/UNKNOWN) APN/1.0 unknown",
         "HTTPS",
         "632838d8-301f-0003-37a8-a7dff5000000",
         "DelegationSAS",
         "bf465dc7-3bc8-4944-b018-092572b5c20d",
         "5d36be44-0b29-4420-bebe-37cd8dc6458e",
         "Success",
         "GetPathStatus",
         "read",
         "10.16.14.3",
         "stsezsandbox07",
         "/stsezsandbox07/unity/83ad2d11-1431-4eb5-8a3e-a26542faf5ac/tables/01343f9d-8610-457e-8e96-614c9cab981e/_delta_log",
         "/stsezsandbox07/unity/83ad2d11-1431-4eb5-8a3e-a26542faf5ac/tables/01343f9d-8610-457e-8e96-614c9cab981e",
         "__databricks_internal.__dlt_materialization_schema_da18c5b2_8970_4c5d_bdf0_476ecd53fb87.__event_log",
         "MANAGED"
        ],
        [
         "2025-04-07T10:33:54.813Z",
         1,
         "0407-103326-ksvmqp71-v2n------:1d3c6ce4-669d-4def-9e11-0e00ea4109bf:ab0dbb4e-dea3-4e4e-a52f-59e0b992a9a6:e2e7fb93-f231-4ecc-b383-31d3a5bee9e9:34ab43da5518:RE:0",
         "Azure Blob FS/3.3 (AzulSystems,Inc. JavaJRE 1.8.0_412; Linux 5.15.0-1075-azure/amd64; SunJSSE-1.8; UNKNOWN/UNKNOWN) APN/1.0 unknown",
         "HTTPS",
         "f32792cb-901f-000a-1ea8-a79a26000000",
         "DelegationSAS",
         "bf465dc7-3bc8-4944-b018-092572b5c20d",
         "5d36be44-0b29-4420-bebe-37cd8dc6458e",
         "Success",
         "ReadFile",
         "read",
         "10.16.14.3",
         "stsezsandbox07",
         "/stsezsandbox07/unity/83ad2d11-1431-4eb5-8a3e-a26542faf5ac/tables/01343f9d-8610-457e-8e96-614c9cab981e/_delta_log/00000000000000001573.crc",
         "/stsezsandbox07/unity/83ad2d11-1431-4eb5-8a3e-a26542faf5ac/tables/01343f9d-8610-457e-8e96-614c9cab981e",
         "__databricks_internal.__dlt_materialization_schema_da18c5b2_8970_4c5d_bdf0_476ecd53fb87.__event_log",
         "MANAGED"
        ],
        [
         "2025-04-07T10:33:57.335Z",
         1,
         null,
         "APN/1.0 Databricks/1.0 DBR/null",
         "HTTPS",
         "8b99ef90-b01f-0050-6ca8-a7fcc1000000",
         "DelegationSAS",
         "bf465dc7-3bc8-4944-b018-092572b5c20d",
         "5d36be44-0b29-4420-bebe-37cd8dc6458e",
         "Success",
         "ReadFile",
         "read",
         "10.16.14.243",
         "stsezsandbox07",
         "/stsezsandbox07/unity/83ad2d11-1431-4eb5-8a3e-a26542faf5ac/tables/01343f9d-8610-457e-8e96-614c9cab981e/part-00000-d6a72888-0415-4533-8ccf-80fbcb25e38b.c000.snappy.parquet",
         "/stsezsandbox07/unity/83ad2d11-1431-4eb5-8a3e-a26542faf5ac/tables/01343f9d-8610-457e-8e96-614c9cab981e",
         "__databricks_internal.__dlt_materialization_schema_da18c5b2_8970_4c5d_bdf0_476ecd53fb87.__event_log",
         "MANAGED"
        ],
        [
         "2025-04-07T10:33:57.301Z",
         1,
         null,
         "APN/1.0 Databricks/1.0 DBR/null",
         "HTTPS",
         "c5e06fe5-c01f-0038-7aa8-a79a51000000",
         "DelegationSAS",
         "bf465dc7-3bc8-4944-b018-092572b5c20d",
         "5d36be44-0b29-4420-bebe-37cd8dc6458e",
         "Success",
         "ReadFile",
         "read",
         "10.16.14.243",
         "stsezsandbox07",
         "/stsezsandbox07/unity/83ad2d11-1431-4eb5-8a3e-a26542faf5ac/tables/01343f9d-8610-457e-8e96-614c9cab981e/part-00000-7073fedc-bd03-45ef-be37-875b32489f28.c000.snappy.parquet",
         "/stsezsandbox07/unity/83ad2d11-1431-4eb5-8a3e-a26542faf5ac/tables/01343f9d-8610-457e-8e96-614c9cab981e",
         "__databricks_internal.__dlt_materialization_schema_da18c5b2_8970_4c5d_bdf0_476ecd53fb87.__event_log",
         "MANAGED"
        ],
        [
         "2025-04-07T10:33:57.367Z",
         1,
         null,
         "APN/1.0 Databricks/1.0 DBR/null",
         "HTTPS",
         "d5fc12bc-301f-0061-62a8-a71dd2000000",
         "DelegationSAS",
         "bf465dc7-3bc8-4944-b018-092572b5c20d",
         "5d36be44-0b29-4420-bebe-37cd8dc6458e",
         "Success",
         "ReadFile",
         "read",
         "10.16.14.243",
         "stsezsandbox07",
         "/stsezsandbox07/unity/83ad2d11-1431-4eb5-8a3e-a26542faf5ac/tables/01343f9d-8610-457e-8e96-614c9cab981e/part-00000-3fd8f292-0e7d-4f67-8f5d-655f662ad9cd.c000.snappy.parquet",
         "/stsezsandbox07/unity/83ad2d11-1431-4eb5-8a3e-a26542faf5ac/tables/01343f9d-8610-457e-8e96-614c9cab981e",
         "__databricks_internal.__dlt_materialization_schema_da18c5b2_8970_4c5d_bdf0_476ecd53fb87.__event_log",
         "MANAGED"
        ],
        [
         "2025-04-07T10:33:54.872Z",
         1,
         "0407-103326-ksvmqp71-v2n------:45e15339-07d9-41d9-a396-e6488de2cb48:ab0dbb4e-dea3-4e4e-a52f-59e0b992a9a6::6c5f0bd10d66:RE:0",
         "Azure Blob FS/3.3 (AzulSystems,Inc. JavaJRE 1.8.0_412; Linux 5.15.0-1075-azure/amd64; SunJSSE-1.8; UNKNOWN/UNKNOWN) APN/1.0 unknown",
         "HTTPS",
         "b3c93aee-901f-001a-34a8-a75f4e000000",
         "DelegationSAS",
         "bf465dc7-3bc8-4944-b018-092572b5c20d",
         "5d36be44-0b29-4420-bebe-37cd8dc6458e",
         "Success",
         "ReadFile",
         "read",
         "10.16.14.3",
         "stsezsandbox07",
         "/stsezsandbox07/unity/83ad2d11-1431-4eb5-8a3e-a26542faf5ac/tables/01343f9d-8610-457e-8e96-614c9cab981e/_delta_log/00000000000000001561.00000000000000001566.compacted.json",
         "/stsezsandbox07/unity/83ad2d11-1431-4eb5-8a3e-a26542faf5ac/tables/01343f9d-8610-457e-8e96-614c9cab981e",
         "__databricks_internal.__dlt_materialization_schema_da18c5b2_8970_4c5d_bdf0_476ecd53fb87.__event_log",
         "MANAGED"
        ],
        [
         "2025-04-07T10:33:54.903Z",
         1,
         "0407-103326-ksvmqp71-v2n------:777982d1-2f42-49fc-9720-74de389004ed:ab0dbb4e-dea3-4e4e-a52f-59e0b992a9a6:::GF:0",
         "Azure Blob FS/3.3 (AzulSystems,Inc. JavaJRE 1.8.0_412; Linux 5.15.0-1075-azure/amd64; SunJSSE-1.8; UNKNOWN/UNKNOWN) APN/1.0 unknown",
         "HTTPS",
         "b3c93afa-901f-001a-40a8-a75f4e000000",
         "DelegationSAS",
         "bf465dc7-3bc8-4944-b018-092572b5c20d",
         "5d36be44-0b29-4420-bebe-37cd8dc6458e",
         "Success",
         "GetPathStatus",
         "read",
         "10.16.14.3",
         "stsezsandbox07",
         "/stsezsandbox07/unity/83ad2d11-1431-4eb5-8a3e-a26542faf5ac/tables/01343f9d-8610-457e-8e96-614c9cab981e/_delta_log",
         "/stsezsandbox07/unity/83ad2d11-1431-4eb5-8a3e-a26542faf5ac/tables/01343f9d-8610-457e-8e96-614c9cab981e",
         "__databricks_internal.__dlt_materialization_schema_da18c5b2_8970_4c5d_bdf0_476ecd53fb87.__event_log",
         "MANAGED"
        ],
        [
         "2025-04-07T10:34:33.853Z",
         1,
         null,
         "APN/1.0 Databricks/1.0 DBR/null",
         "HTTPS",
         "72df27ee-101f-0049-10a8-a77c7a000000",
         "DelegationSAS",
         "bf465dc7-3bc8-4944-b018-092572b5c20d",
         "5d36be44-0b29-4420-bebe-37cd8dc6458e",
         "Success",
         "ReadFile",
         "read",
         "10.16.14.243",
         "stsezsandbox07",
         "/stsezsandbox07/unity/83ad2d11-1431-4eb5-8a3e-a26542faf5ac/tables/01343f9d-8610-457e-8e96-614c9cab981e/_delta_log/00000000000000001548.checkpoint.parquet",
         "/stsezsandbox07/unity/83ad2d11-1431-4eb5-8a3e-a26542faf5ac/tables/01343f9d-8610-457e-8e96-614c9cab981e",
         "__databricks_internal.__dlt_materialization_schema_da18c5b2_8970_4c5d_bdf0_476ecd53fb87.__event_log",
         "MANAGED"
        ],
        [
         "2025-04-07T10:34:28.159Z",
         1,
         "0407-103326-ksvmqp71-v2n------:3533c4c2-24a2-43e7-8408-64cb2fef3f72:ab0dbb4e-dea3-4e4e-a52f-59e0b992a9a6:::GF:0",
         "Azure Blob FS/3.3 (AzulSystems,Inc. JavaJRE 1.8.0_412; Linux 5.15.0-1075-azure/amd64; SunJSSE-1.8; UNKNOWN/UNKNOWN) APN/1.0 unknown",
         "HTTPS",
         "f19ecc55-e01f-004d-29a8-a7f17d000000",
         "DelegationSAS",
         "bf465dc7-3bc8-4944-b018-092572b5c20d",
         "5d36be44-0b29-4420-bebe-37cd8dc6458e",
         "Success",
         "GetPathStatus",
         "read",
         "10.16.14.3",
         "stsezsandbox07",
         "/stsezsandbox07/unity/83ad2d11-1431-4eb5-8a3e-a26542faf5ac/tables/01343f9d-8610-457e-8e96-614c9cab981e/_delta_log",
         "/stsezsandbox07/unity/83ad2d11-1431-4eb5-8a3e-a26542faf5ac/tables/01343f9d-8610-457e-8e96-614c9cab981e",
         "__databricks_internal.__dlt_materialization_schema_da18c5b2_8970_4c5d_bdf0_476ecd53fb87.__event_log",
         "MANAGED"
        ],
        [
         "2025-04-07T10:34:28.166Z",
         1,
         "0407-103326-ksvmqp71-v2n------:c9def8b0-c05a-4cc5-b63e-447b9e632b7e:ab0dbb4e-dea3-4e4e-a52f-59e0b992a9a6:::GF:0",
         "Azure Blob FS/3.3 (AzulSystems,Inc. JavaJRE 1.8.0_412; Linux 5.15.0-1075-azure/amd64; SunJSSE-1.8; UNKNOWN/UNKNOWN) APN/1.0 unknown",
         "HTTPS",
         "f19ecc5c-e01f-004d-30a8-a7f17d000000",
         "DelegationSAS",
         "bf465dc7-3bc8-4944-b018-092572b5c20d",
         "5d36be44-0b29-4420-bebe-37cd8dc6458e",
         "Success",
         "GetPathStatus",
         "read",
         "10.16.14.3",
         "stsezsandbox07",
         "/stsezsandbox07/unity/83ad2d11-1431-4eb5-8a3e-a26542faf5ac/tables/01343f9d-8610-457e-8e96-614c9cab981e",
         "/stsezsandbox07/unity/83ad2d11-1431-4eb5-8a3e-a26542faf5ac/tables/01343f9d-8610-457e-8e96-614c9cab981e",
         "__databricks_internal.__dlt_materialization_schema_da18c5b2_8970_4c5d_bdf0_476ecd53fb87.__event_log",
         "MANAGED"
        ],
        [
         "2025-04-07T10:34:32.295Z",
         1,
         "0407-103326-ksvmqp71-v2n------:30263c5e-22d4-4d5b-a39c-c9bb3d0785b5:ab0dbb4e-dea3-4e4e-a52f-59e0b992a9a6:::GF:0",
         "Azure Blob FS/3.3 (AzulSystems,Inc. JavaJRE 1.8.0_412; Linux 5.15.0-1075-azure/amd64; SunJSSE-1.8; UNKNOWN/UNKNOWN) APN/1.0 unknown",
         "HTTPS",
         "f19ecec2-e01f-004d-06a8-a7f17d000000",
         "DelegationSAS",
         "bf465dc7-3bc8-4944-b018-092572b5c20d",
         "5d36be44-0b29-4420-bebe-37cd8dc6458e",
         "Success",
         "GetPathStatus",
         "read",
         "10.16.14.3",
         "stsezsandbox07",
         "/stsezsandbox07/unity/83ad2d11-1431-4eb5-8a3e-a26542faf5ac/tables/01343f9d-8610-457e-8e96-614c9cab981e/_delta_log",
         "/stsezsandbox07/unity/83ad2d11-1431-4eb5-8a3e-a26542faf5ac/tables/01343f9d-8610-457e-8e96-614c9cab981e",
         "__databricks_internal.__dlt_materialization_schema_da18c5b2_8970_4c5d_bdf0_476ecd53fb87.__event_log",
         "MANAGED"
        ],
        [
         "2025-04-07T10:34:32.545Z",
         1,
         "0407-103326-ksvmqp71-v2n------:c965a1c9-4593-4ca7-abf5-b7c9ba2af154:ab0dbb4e-dea3-4e4e-a52f-59e0b992a9a6:::GF:0",
         "Azure Blob FS/3.3 (AzulSystems,Inc. JavaJRE 1.8.0_412; Linux 5.15.0-1075-azure/amd64; SunJSSE-1.8; UNKNOWN/UNKNOWN) APN/1.0 unknown",
         "HTTPS",
         "f19ecee7-e01f-004d-2ba8-a7f17d000000",
         "DelegationSAS",
         "bf465dc7-3bc8-4944-b018-092572b5c20d",
         "5d36be44-0b29-4420-bebe-37cd8dc6458e",
         "Success",
         "GetPathStatus",
         "read",
         "10.16.14.3",
         "stsezsandbox07",
         "/stsezsandbox07/unity/83ad2d11-1431-4eb5-8a3e-a26542faf5ac/tables/01343f9d-8610-457e-8e96-614c9cab981e/_delta_log/00000000000000001574.json",
         "/stsezsandbox07/unity/83ad2d11-1431-4eb5-8a3e-a26542faf5ac/tables/01343f9d-8610-457e-8e96-614c9cab981e",
         "__databricks_internal.__dlt_materialization_schema_da18c5b2_8970_4c5d_bdf0_476ecd53fb87.__event_log",
         "MANAGED"
        ],
        [
         "2025-04-07T10:34:32.613Z",
         1,
         "0407-103326-ksvmqp71-v2n------:2795115f-e6d5-4403-a80d-110ca6953187:ab0dbb4e-dea3-4e4e-a52f-59e0b992a9a6::70a87d34c6e4:RE:0",
         "Azure Blob FS/3.3 (AzulSystems,Inc. JavaJRE 1.8.0_412; Linux 5.15.0-1075-azure/amd64; SunJSSE-1.8; UNKNOWN/UNKNOWN) APN/1.0 unknown",
         "HTTPS",
         "f19eceea-e01f-004d-2ea8-a7f17d000000",
         "DelegationSAS",
         "bf465dc7-3bc8-4944-b018-092572b5c20d",
         "5d36be44-0b29-4420-bebe-37cd8dc6458e",
         "Success",
         "ReadFile",
         "read",
         "10.16.14.3",
         "stsezsandbox07",
         "/stsezsandbox07/unity/83ad2d11-1431-4eb5-8a3e-a26542faf5ac/tables/01343f9d-8610-457e-8e96-614c9cab981e/_delta_log/00000000000000001549.00000000000000001554.compacted.json",
         "/stsezsandbox07/unity/83ad2d11-1431-4eb5-8a3e-a26542faf5ac/tables/01343f9d-8610-457e-8e96-614c9cab981e",
         "__databricks_internal.__dlt_materialization_schema_da18c5b2_8970_4c5d_bdf0_476ecd53fb87.__event_log",
         "MANAGED"
        ],
        [
         "2025-04-07T10:34:32.623Z",
         1,
         "0407-103326-ksvmqp71-v2n------:7fb95063-7cb6-4dc5-b61a-61a3c1f57501:ab0dbb4e-dea3-4e4e-a52f-59e0b992a9a6:fbe7e044-7267-4220-bb0f-8ca9e5a9965f:f567d8b46e2b:RE:0",
         "Azure Blob FS/3.3 (AzulSystems,Inc. JavaJRE 1.8.0_412; Linux 5.15.0-1075-azure/amd64; SunJSSE-1.8; UNKNOWN/UNKNOWN) APN/1.0 unknown",
         "HTTPS",
         "f19eceec-e01f-004d-30a8-a7f17d000000",
         "DelegationSAS",
         "bf465dc7-3bc8-4944-b018-092572b5c20d",
         "5d36be44-0b29-4420-bebe-37cd8dc6458e",
         "Success",
         "ReadFile",
         "read",
         "10.16.14.3",
         "stsezsandbox07",
         "/stsezsandbox07/unity/83ad2d11-1431-4eb5-8a3e-a26542faf5ac/tables/01343f9d-8610-457e-8e96-614c9cab981e/_delta_log/00000000000000001573.json",
         "/stsezsandbox07/unity/83ad2d11-1431-4eb5-8a3e-a26542faf5ac/tables/01343f9d-8610-457e-8e96-614c9cab981e",
         "__databricks_internal.__dlt_materialization_schema_da18c5b2_8970_4c5d_bdf0_476ecd53fb87.__event_log",
         "MANAGED"
        ],
        [
         "2025-04-07T10:34:32.641Z",
         1,
         "0407-103326-ksvmqp71-v2n------:d086f86e-9f6c-4954-8bd0-d501c8393810:ab0dbb4e-dea3-4e4e-a52f-59e0b992a9a6::4c5c33bd708b:RE:0",
         "Azure Blob FS/3.3 (AzulSystems,Inc. JavaJRE 1.8.0_412; Linux 5.15.0-1075-azure/amd64; SunJSSE-1.8; UNKNOWN/UNKNOWN) APN/1.0 unknown",
         "HTTPS",
         "f19eceed-e01f-004d-31a8-a7f17d000000",
         "DelegationSAS",
         "bf465dc7-3bc8-4944-b018-092572b5c20d",
         "5d36be44-0b29-4420-bebe-37cd8dc6458e",
         "Success",
         "ReadFile",
         "read",
         "10.16.14.3",
         "stsezsandbox07",
         "/stsezsandbox07/unity/83ad2d11-1431-4eb5-8a3e-a26542faf5ac/tables/01343f9d-8610-457e-8e96-614c9cab981e/_delta_log/00000000000000001555.00000000000000001560.compacted.json",
         "/stsezsandbox07/unity/83ad2d11-1431-4eb5-8a3e-a26542faf5ac/tables/01343f9d-8610-457e-8e96-614c9cab981e",
         "__databricks_internal.__dlt_materialization_schema_da18c5b2_8970_4c5d_bdf0_476ecd53fb87.__event_log",
         "MANAGED"
        ],
        [
         "2025-04-07T10:34:32.693Z",
         1,
         "0407-103326-ksvmqp71-v2n------:c07f8fac-2b46-4abe-b86e-099a275b0196:ab0dbb4e-dea3-4e4e-a52f-59e0b992a9a6::d07f2b5ef323:RE:0",
         "Azure Blob FS/3.3 (AzulSystems,Inc. JavaJRE 1.8.0_412; Linux 5.15.0-1075-azure/amd64; SunJSSE-1.8; UNKNOWN/UNKNOWN) APN/1.0 unknown",
         "HTTPS",
         "f19ecef0-e01f-004d-34a8-a7f17d000000",
         "DelegationSAS",
         "bf465dc7-3bc8-4944-b018-092572b5c20d",
         "5d36be44-0b29-4420-bebe-37cd8dc6458e",
         "Success",
         "ReadFile",
         "read",
         "10.16.14.3",
         "stsezsandbox07",
         "/stsezsandbox07/unity/83ad2d11-1431-4eb5-8a3e-a26542faf5ac/tables/01343f9d-8610-457e-8e96-614c9cab981e/_delta_log/00000000000000001574.json",
         "/stsezsandbox07/unity/83ad2d11-1431-4eb5-8a3e-a26542faf5ac/tables/01343f9d-8610-457e-8e96-614c9cab981e",
         "__databricks_internal.__dlt_materialization_schema_da18c5b2_8970_4c5d_bdf0_476ecd53fb87.__event_log",
         "MANAGED"
        ],
        [
         "2025-04-07T10:34:32.353Z",
         1,
         "0407-103326-ksvmqp71-v2n------:fae4ec1c-1b4b-4c89-86f7-c36c4e5ef08b:a3f7ef90-f9e4-4be4-9ae4-741132e5f5af:::CR:0",
         "Azure Blob FS/3.3 (AzulSystems,Inc. JavaJRE 1.8.0_412; Linux 5.15.0-1075-azure/amd64; SunJSSE-1.8; UNKNOWN/UNKNOWN) APN/1.0 unknown",
         "HTTPS",
         "f19ececa-e01f-004d-0ea8-a7f17d000000",
         "DelegationSAS",
         "bf465dc7-3bc8-4944-b018-092572b5c20d",
         "5d36be44-0b29-4420-bebe-37cd8dc6458e",
         "Success",
         "CreatePathFile",
         "write",
         "10.16.14.3",
         "stsezsandbox07",
         "/stsezsandbox07/unity/83ad2d11-1431-4eb5-8a3e-a26542faf5ac/tables/01343f9d-8610-457e-8e96-614c9cab981e/_delta_log/__tmp_path_dir/.00000000000000001574.json.aae9c178-20c7-4611-bfa3-a42378793664.tmp",
         "/stsezsandbox07/unity/83ad2d11-1431-4eb5-8a3e-a26542faf5ac/tables/01343f9d-8610-457e-8e96-614c9cab981e",
         "__databricks_internal.__dlt_materialization_schema_da18c5b2_8970_4c5d_bdf0_476ecd53fb87.__event_log",
         "MANAGED"
        ],
        [
         "2025-04-07T10:34:32.379Z",
         1,
         "0407-103326-ksvmqp71-v2n------:c95a4d0c-28a3-4330-9c29-50e26d16cb5e:a3f7ef90-f9e4-4be4-9ae4-741132e5f5af::7633816c59b7:WR:0",
         "Azure Blob FS/3.3 (AzulSystems,Inc. JavaJRE 1.8.0_412; Linux 5.15.0-1075-azure/amd64; SunJSSE-1.8; UNKNOWN/UNKNOWN) APN/1.0 unknown",
         "HTTPS",
         "f19ececd-e01f-004d-11a8-a7f17d000000",
         "DelegationSAS",
         "bf465dc7-3bc8-4944-b018-092572b5c20d",
         "5d36be44-0b29-4420-bebe-37cd8dc6458e",
         "Success",
         "AppendFile",
         "write",
         "10.16.14.3",
         "stsezsandbox07",
         "/stsezsandbox07/unity/83ad2d11-1431-4eb5-8a3e-a26542faf5ac/tables/01343f9d-8610-457e-8e96-614c9cab981e/_delta_log/__tmp_path_dir/.00000000000000001574.json.aae9c178-20c7-4611-bfa3-a42378793664.tmp",
         "/stsezsandbox07/unity/83ad2d11-1431-4eb5-8a3e-a26542faf5ac/tables/01343f9d-8610-457e-8e96-614c9cab981e",
         "__databricks_internal.__dlt_materialization_schema_da18c5b2_8970_4c5d_bdf0_476ecd53fb87.__event_log",
         "MANAGED"
        ],
        [
         "2025-04-07T10:34:32.435Z",
         1,
         "0407-103326-ksvmqp71-v2n------:7091d12b-f40e-45b3-aeba-52a05825b1de:a3f7ef90-f9e4-4be4-9ae4-741132e5f5af::7633816c59b7:WR:0",
         "Azure Blob FS/3.3 (AzulSystems,Inc. JavaJRE 1.8.0_412; Linux 5.15.0-1075-azure/amd64; SunJSSE-1.8; UNKNOWN/UNKNOWN) APN/1.0 unknown",
         "HTTPS",
         "f19ecece-e01f-004d-12a8-a7f17d000000",
         "DelegationSAS",
         "bf465dc7-3bc8-4944-b018-092572b5c20d",
         "5d36be44-0b29-4420-bebe-37cd8dc6458e",
         "Success",
         "FlushFile",
         "write",
         "10.16.14.3",
         "stsezsandbox07",
         "/stsezsandbox07/unity/83ad2d11-1431-4eb5-8a3e-a26542faf5ac/tables/01343f9d-8610-457e-8e96-614c9cab981e/_delta_log/__tmp_path_dir/.00000000000000001574.json.aae9c178-20c7-4611-bfa3-a42378793664.tmp",
         "/stsezsandbox07/unity/83ad2d11-1431-4eb5-8a3e-a26542faf5ac/tables/01343f9d-8610-457e-8e96-614c9cab981e",
         "__databricks_internal.__dlt_materialization_schema_da18c5b2_8970_4c5d_bdf0_476ecd53fb87.__event_log",
         "MANAGED"
        ],
        [
         "2025-04-07T10:34:32.539Z",
         1,
         "0407-103326-ksvmqp71-v2n------:6510458d-5d98-4f09-ad92-01aac266e43a:a3f7ef90-f9e4-4be4-9ae4-741132e5f5af:ac9b49a1-75c0-474f-a474-9ead1047f823::RN:0",
         "Azure Blob FS/3.3 (AzulSystems,Inc. JavaJRE 1.8.0_412; Linux 5.15.0-1075-azure/amd64; SunJSSE-1.8; UNKNOWN/UNKNOWN) APN/1.0 unknown",
         "HTTPS",
         "f19eced5-e01f-004d-19a8-a7f17d000000",
         "DelegationSAS",
         "bf465dc7-3bc8-4944-b018-092572b5c20d",
         "5d36be44-0b29-4420-bebe-37cd8dc6458e",
         "Success",
         "RenamePathFile",
         "read",
         "10.16.14.3",
         "stsezsandbox07",
         "/stsezsandbox07/unity/83ad2d11-1431-4eb5-8a3e-a26542faf5ac/tables/01343f9d-8610-457e-8e96-614c9cab981e/_delta_log/00000000000000001574.json",
         "/stsezsandbox07/unity/83ad2d11-1431-4eb5-8a3e-a26542faf5ac/tables/01343f9d-8610-457e-8e96-614c9cab981e",
         "__databricks_internal.__dlt_materialization_schema_da18c5b2_8970_4c5d_bdf0_476ecd53fb87.__event_log",
         "MANAGED"
        ],
        [
         "2025-04-07T10:35:29.095Z",
         1,
         "0407-103326-ksvmqp71-v2n------:d6b7055e-a1e1-4ef4-822d-b7e323dbbd7f:3ed43602-5fba-4f9d-b810-52df6009e914::096777a42434:RE:0",
         "Azure Blob FS/3.3 (AzulSystems,Inc. JavaJRE 1.8.0_412; Linux 5.15.0-1075-azure/amd64; SunJSSE-1.8; UNKNOWN/UNKNOWN) APN/1.0 unknown",
         "HTTPS",
         "dfef81be-c01f-0007-51a8-a752f2000000",
         "DelegationSAS",
         "bf465dc7-3bc8-4944-b018-092572b5c20d",
         "5d36be44-0b29-4420-bebe-37cd8dc6458e",
         "Success",
         "ReadFile",
         "read",
         "10.16.14.3",
         "stsezsandbox07",
         "/stsezsandbox07/unity/83ad2d11-1431-4eb5-8a3e-a26542faf5ac/tables/01343f9d-8610-457e-8e96-614c9cab981e/_delta_log/00000000000000001549.00000000000000001554.compacted.json",
         "/stsezsandbox07/unity/83ad2d11-1431-4eb5-8a3e-a26542faf5ac/tables/01343f9d-8610-457e-8e96-614c9cab981e",
         "__databricks_internal.__dlt_materialization_schema_da18c5b2_8970_4c5d_bdf0_476ecd53fb87.__event_log",
         "MANAGED"
        ],
        [
         "2025-04-07T10:35:28.818Z",
         1,
         "0407-103326-ksvmqp71-v2n------:8eb9d44c-da75-427f-ae01-a1ffbf37dc6b:a3f7ef90-f9e4-4be4-9ae4-741132e5f5af:::CR:0",
         "Azure Blob FS/3.3 (AzulSystems,Inc. JavaJRE 1.8.0_412; Linux 5.15.0-1075-azure/amd64; SunJSSE-1.8; UNKNOWN/UNKNOWN) APN/1.0 unknown",
         "HTTPS",
         "3442b11f-b01f-0040-01a8-a739a9000000",
         "DelegationSAS",
         "bf465dc7-3bc8-4944-b018-092572b5c20d",
         "5d36be44-0b29-4420-bebe-37cd8dc6458e",
         "Success",
         "CreatePathFile",
         "write",
         "10.16.14.3",
         "stsezsandbox07",
         "/stsezsandbox07/unity/83ad2d11-1431-4eb5-8a3e-a26542faf5ac/tables/01343f9d-8610-457e-8e96-614c9cab981e/_delta_log/__tmp_path_dir/.00000000000000001575.json.8bd3268b-e2a2-42dc-b892-2dc91522748c.tmp",
         "/stsezsandbox07/unity/83ad2d11-1431-4eb5-8a3e-a26542faf5ac/tables/01343f9d-8610-457e-8e96-614c9cab981e",
         "__databricks_internal.__dlt_materialization_schema_da18c5b2_8970_4c5d_bdf0_476ecd53fb87.__event_log",
         "MANAGED"
        ],
        [
         "2025-04-07T10:35:28.832Z",
         1,
         "0407-103326-ksvmqp71-v2n------:63d9d069-24cd-4e78-a35f-b48d2c681d00:a3f7ef90-f9e4-4be4-9ae4-741132e5f5af::5ba4db2402b6:WR:0",
         "Azure Blob FS/3.3 (AzulSystems,Inc. JavaJRE 1.8.0_412; Linux 5.15.0-1075-azure/amd64; SunJSSE-1.8; UNKNOWN/UNKNOWN) APN/1.0 unknown",
         "HTTPS",
         "3442b123-b01f-0040-05a8-a739a9000000",
         "DelegationSAS",
         "bf465dc7-3bc8-4944-b018-092572b5c20d",
         "5d36be44-0b29-4420-bebe-37cd8dc6458e",
         "Success",
         "AppendFile",
         "write",
         "10.16.14.3",
         "stsezsandbox07",
         "/stsezsandbox07/unity/83ad2d11-1431-4eb5-8a3e-a26542faf5ac/tables/01343f9d-8610-457e-8e96-614c9cab981e/_delta_log/__tmp_path_dir/.00000000000000001575.json.8bd3268b-e2a2-42dc-b892-2dc91522748c.tmp",
         "/stsezsandbox07/unity/83ad2d11-1431-4eb5-8a3e-a26542faf5ac/tables/01343f9d-8610-457e-8e96-614c9cab981e",
         "__databricks_internal.__dlt_materialization_schema_da18c5b2_8970_4c5d_bdf0_476ecd53fb87.__event_log",
         "MANAGED"
        ],
        [
         "2025-04-07T10:35:28.866Z",
         1,
         "0407-103326-ksvmqp71-v2n------:c554351f-9538-4a8e-a2cd-fe2f30eec48c:a3f7ef90-f9e4-4be4-9ae4-741132e5f5af::5ba4db2402b6:WR:0",
         "Azure Blob FS/3.3 (AzulSystems,Inc. JavaJRE 1.8.0_412; Linux 5.15.0-1075-azure/amd64; SunJSSE-1.8; UNKNOWN/UNKNOWN) APN/1.0 unknown",
         "HTTPS",
         "3442b126-b01f-0040-08a8-a739a9000000",
         "DelegationSAS",
         "bf465dc7-3bc8-4944-b018-092572b5c20d",
         "5d36be44-0b29-4420-bebe-37cd8dc6458e",
         "Success",
         "FlushFile",
         "write",
         "10.16.14.3",
         "stsezsandbox07",
         "/stsezsandbox07/unity/83ad2d11-1431-4eb5-8a3e-a26542faf5ac/tables/01343f9d-8610-457e-8e96-614c9cab981e/_delta_log/__tmp_path_dir/.00000000000000001575.json.8bd3268b-e2a2-42dc-b892-2dc91522748c.tmp",
         "/stsezsandbox07/unity/83ad2d11-1431-4eb5-8a3e-a26542faf5ac/tables/01343f9d-8610-457e-8e96-614c9cab981e",
         "__databricks_internal.__dlt_materialization_schema_da18c5b2_8970_4c5d_bdf0_476ecd53fb87.__event_log",
         "MANAGED"
        ],
        [
         "2025-04-07T10:35:28.917Z",
         1,
         "0407-103326-ksvmqp71-v2n------:1f35813a-aac5-4878-a67b-046da28919db:a3f7ef90-f9e4-4be4-9ae4-741132e5f5af:88af0491-b833-4c31-84be-9cac7f49054f::RN:0",
         "Azure Blob FS/3.3 (AzulSystems,Inc. JavaJRE 1.8.0_412; Linux 5.15.0-1075-azure/amd64; SunJSSE-1.8; UNKNOWN/UNKNOWN) APN/1.0 unknown",
         "HTTPS",
         "3442b12e-b01f-0040-10a8-a739a9000000",
         "DelegationSAS",
         "bf465dc7-3bc8-4944-b018-092572b5c20d",
         "5d36be44-0b29-4420-bebe-37cd8dc6458e",
         "Success",
         "RenamePathFile",
         "read",
         "10.16.14.3",
         "stsezsandbox07",
         "/stsezsandbox07/unity/83ad2d11-1431-4eb5-8a3e-a26542faf5ac/tables/01343f9d-8610-457e-8e96-614c9cab981e/_delta_log/00000000000000001575.json",
         "/stsezsandbox07/unity/83ad2d11-1431-4eb5-8a3e-a26542faf5ac/tables/01343f9d-8610-457e-8e96-614c9cab981e",
         "__databricks_internal.__dlt_materialization_schema_da18c5b2_8970_4c5d_bdf0_476ecd53fb87.__event_log",
         "MANAGED"
        ],
        [
         "2025-04-07T10:35:28.795Z",
         1,
         "0407-103326-ksvmqp71-v2n------:39228dc5-3bb5-4efb-aebf-ed7f176ae87b:3ed43602-5fba-4f9d-b810-52df6009e914:::GF:0",
         "Azure Blob FS/3.3 (AzulSystems,Inc. JavaJRE 1.8.0_412; Linux 5.15.0-1075-azure/amd64; SunJSSE-1.8; UNKNOWN/UNKNOWN) APN/1.0 unknown",
         "HTTPS",
         "3442b11b-b01f-0040-7da8-a739a9000000",
         "DelegationSAS",
         "bf465dc7-3bc8-4944-b018-092572b5c20d",
         "5d36be44-0b29-4420-bebe-37cd8dc6458e",
         "Success",
         "GetPathStatus",
         "read",
         "10.16.14.3",
         "stsezsandbox07",
         "/stsezsandbox07/unity/83ad2d11-1431-4eb5-8a3e-a26542faf5ac/tables/01343f9d-8610-457e-8e96-614c9cab981e/_delta_log",
         "/stsezsandbox07/unity/83ad2d11-1431-4eb5-8a3e-a26542faf5ac/tables/01343f9d-8610-457e-8e96-614c9cab981e",
         "__databricks_internal.__dlt_materialization_schema_da18c5b2_8970_4c5d_bdf0_476ecd53fb87.__event_log",
         "MANAGED"
        ],
        [
         "2025-04-07T10:35:28.922Z",
         1,
         "0407-103326-ksvmqp71-v2n------:bcc1cece-9bc5-44ae-bdba-3c09ba66cea5:3ed43602-5fba-4f9d-b810-52df6009e914:::GF:0",
         "Azure Blob FS/3.3 (AzulSystems,Inc. JavaJRE 1.8.0_412; Linux 5.15.0-1075-azure/amd64; SunJSSE-1.8; UNKNOWN/UNKNOWN) APN/1.0 unknown",
         "HTTPS",
         "3442b141-b01f-0040-23a8-a739a9000000",
         "DelegationSAS",
         "bf465dc7-3bc8-4944-b018-092572b5c20d",
         "5d36be44-0b29-4420-bebe-37cd8dc6458e",
         "Success",
         "GetPathStatus",
         "read",
         "10.16.14.3",
         "stsezsandbox07",
         "/stsezsandbox07/unity/83ad2d11-1431-4eb5-8a3e-a26542faf5ac/tables/01343f9d-8610-457e-8e96-614c9cab981e/_delta_log/00000000000000001575.json",
         "/stsezsandbox07/unity/83ad2d11-1431-4eb5-8a3e-a26542faf5ac/tables/01343f9d-8610-457e-8e96-614c9cab981e",
         "__databricks_internal.__dlt_materialization_schema_da18c5b2_8970_4c5d_bdf0_476ecd53fb87.__event_log",
         "MANAGED"
        ],
        [
         "2025-04-07T10:35:28.941Z",
         1,
         "0407-103326-ksvmqp71-v2n------:253d73fb-68b1-4387-a9f3-4b4953874db9:3ed43602-5fba-4f9d-b810-52df6009e914::b94524057df5:RE:0",
         "Azure Blob FS/3.3 (AzulSystems,Inc. JavaJRE 1.8.0_412; Linux 5.15.0-1075-azure/amd64; SunJSSE-1.8; UNKNOWN/UNKNOWN) APN/1.0 unknown",
         "HTTPS",
         "3442b14d-b01f-0040-2fa8-a739a9000000",
         "DelegationSAS",
         "bf465dc7-3bc8-4944-b018-092572b5c20d",
         "5d36be44-0b29-4420-bebe-37cd8dc6458e",
         "Success",
         "ReadFile",
         "read",
         "10.16.14.3",
         "stsezsandbox07",
         "/stsezsandbox07/unity/83ad2d11-1431-4eb5-8a3e-a26542faf5ac/tables/01343f9d-8610-457e-8e96-614c9cab981e/_delta_log/00000000000000001561.00000000000000001566.compacted.json",
         "/stsezsandbox07/unity/83ad2d11-1431-4eb5-8a3e-a26542faf5ac/tables/01343f9d-8610-457e-8e96-614c9cab981e",
         "__databricks_internal.__dlt_materialization_schema_da18c5b2_8970_4c5d_bdf0_476ecd53fb87.__event_log",
         "MANAGED"
        ],
        [
         "2025-04-07T10:35:28.998Z",
         1,
         "0407-103326-ksvmqp71-v2n------:cdfdc246-0bfe-46f5-9ed8-3070b907aba0:3ed43602-5fba-4f9d-b810-52df6009e914::535c889f42ca:RE:0",
         "Azure Blob FS/3.3 (AzulSystems,Inc. JavaJRE 1.8.0_412; Linux 5.15.0-1075-azure/amd64; SunJSSE-1.8; UNKNOWN/UNKNOWN) APN/1.0 unknown",
         "HTTPS",
         "3442b153-b01f-0040-35a8-a739a9000000",
         "DelegationSAS",
         "bf465dc7-3bc8-4944-b018-092572b5c20d",
         "5d36be44-0b29-4420-bebe-37cd8dc6458e",
         "Success",
         "ReadFile",
         "read",
         "10.16.14.3",
         "stsezsandbox07",
         "/stsezsandbox07/unity/83ad2d11-1431-4eb5-8a3e-a26542faf5ac/tables/01343f9d-8610-457e-8e96-614c9cab981e/_delta_log/00000000000000001574.json",
         "/stsezsandbox07/unity/83ad2d11-1431-4eb5-8a3e-a26542faf5ac/tables/01343f9d-8610-457e-8e96-614c9cab981e",
         "__databricks_internal.__dlt_materialization_schema_da18c5b2_8970_4c5d_bdf0_476ecd53fb87.__event_log",
         "MANAGED"
        ],
        [
         "2025-04-07T10:35:31.237Z",
         1,
         "0407-103326-ksvmqp71-v2n------:98c65e10-b89d-4cf7-9a15-70d6be3e371a:a3f7ef90-f9e4-4be4-9ae4-741132e5f5af:::CR:0",
         "Azure Blob FS/3.3 (AzulSystems,Inc. JavaJRE 1.8.0_412; Linux 5.15.0-1075-azure/amd64; SunJSSE-1.8; UNKNOWN/UNKNOWN) APN/1.0 unknown",
         "HTTPS",
         "cd880f24-101f-0004-0aa8-a7b396000000",
         "DelegationSAS",
         "bf465dc7-3bc8-4944-b018-092572b5c20d",
         "5d36be44-0b29-4420-bebe-37cd8dc6458e",
         "Success",
         "CreatePathFile",
         "write",
         "10.16.14.3",
         "stsezsandbox07",
         "/stsezsandbox07/unity/83ad2d11-1431-4eb5-8a3e-a26542faf5ac/tables/01343f9d-8610-457e-8e96-614c9cab981e/_delta_log/__tmp_path_dir/.00000000000000001575.crc.0f042973-a67f-423e-b70a-3ad56bec3efb.tmp",
         "/stsezsandbox07/unity/83ad2d11-1431-4eb5-8a3e-a26542faf5ac/tables/01343f9d-8610-457e-8e96-614c9cab981e",
         "__databricks_internal.__dlt_materialization_schema_da18c5b2_8970_4c5d_bdf0_476ecd53fb87.__event_log",
         "MANAGED"
        ],
        [
         "2025-04-07T10:35:31.250Z",
         1,
         "0407-103326-ksvmqp71-v2n------:83ce7b63-4626-498d-b453-259108470e15:a3f7ef90-f9e4-4be4-9ae4-741132e5f5af::ca7c2762649f:WR:0",
         "Azure Blob FS/3.3 (AzulSystems,Inc. JavaJRE 1.8.0_412; Linux 5.15.0-1075-azure/amd64; SunJSSE-1.8; UNKNOWN/UNKNOWN) APN/1.0 unknown",
         "HTTPS",
         "cd880f2a-101f-0004-10a8-a7b396000000",
         "DelegationSAS",
         "bf465dc7-3bc8-4944-b018-092572b5c20d",
         "5d36be44-0b29-4420-bebe-37cd8dc6458e",
         "Success",
         "AppendFile",
         "write",
         "10.16.14.3",
         "stsezsandbox07",
         "/stsezsandbox07/unity/83ad2d11-1431-4eb5-8a3e-a26542faf5ac/tables/01343f9d-8610-457e-8e96-614c9cab981e/_delta_log/__tmp_path_dir/.00000000000000001575.crc.0f042973-a67f-423e-b70a-3ad56bec3efb.tmp",
         "/stsezsandbox07/unity/83ad2d11-1431-4eb5-8a3e-a26542faf5ac/tables/01343f9d-8610-457e-8e96-614c9cab981e",
         "__databricks_internal.__dlt_materialization_schema_da18c5b2_8970_4c5d_bdf0_476ecd53fb87.__event_log",
         "MANAGED"
        ],
        [
         "2025-04-07T10:35:31.290Z",
         1,
         "0407-103326-ksvmqp71-v2n------:66556366-fd0a-4090-8652-7aa857b0d5a5:a3f7ef90-f9e4-4be4-9ae4-741132e5f5af::ca7c2762649f:WR:0",
         "Azure Blob FS/3.3 (AzulSystems,Inc. JavaJRE 1.8.0_412; Linux 5.15.0-1075-azure/amd64; SunJSSE-1.8; UNKNOWN/UNKNOWN) APN/1.0 unknown",
         "HTTPS",
         "cd880f2e-101f-0004-14a8-a7b396000000",
         "DelegationSAS",
         "bf465dc7-3bc8-4944-b018-092572b5c20d",
         "5d36be44-0b29-4420-bebe-37cd8dc6458e",
         "Success",
         "FlushFile",
         "write",
         "10.16.14.3",
         "stsezsandbox07",
         "/stsezsandbox07/unity/83ad2d11-1431-4eb5-8a3e-a26542faf5ac/tables/01343f9d-8610-457e-8e96-614c9cab981e/_delta_log/__tmp_path_dir/.00000000000000001575.crc.0f042973-a67f-423e-b70a-3ad56bec3efb.tmp",
         "/stsezsandbox07/unity/83ad2d11-1431-4eb5-8a3e-a26542faf5ac/tables/01343f9d-8610-457e-8e96-614c9cab981e",
         "__databricks_internal.__dlt_materialization_schema_da18c5b2_8970_4c5d_bdf0_476ecd53fb87.__event_log",
         "MANAGED"
        ],
        [
         "2025-04-07T10:35:31.333Z",
         1,
         "0407-103326-ksvmqp71-v2n------:d9a23c46-a11f-4478-b52d-7a06644ea4dd:a3f7ef90-f9e4-4be4-9ae4-741132e5f5af:c60fda04-6dc2-4279-bfaa-b0d95858f09e::RN:0",
         "Azure Blob FS/3.3 (AzulSystems,Inc. JavaJRE 1.8.0_412; Linux 5.15.0-1075-azure/amd64; SunJSSE-1.8; UNKNOWN/UNKNOWN) APN/1.0 unknown",
         "HTTPS",
         "cd880f3a-101f-0004-20a8-a7b396000000",
         "DelegationSAS",
         "bf465dc7-3bc8-4944-b018-092572b5c20d",
         "5d36be44-0b29-4420-bebe-37cd8dc6458e",
         "Success",
         "RenamePathFile",
         "read",
         "10.16.14.3",
         "stsezsandbox07",
         "/stsezsandbox07/unity/83ad2d11-1431-4eb5-8a3e-a26542faf5ac/tables/01343f9d-8610-457e-8e96-614c9cab981e/_delta_log/00000000000000001575.crc",
         "/stsezsandbox07/unity/83ad2d11-1431-4eb5-8a3e-a26542faf5ac/tables/01343f9d-8610-457e-8e96-614c9cab981e",
         "__databricks_internal.__dlt_materialization_schema_da18c5b2_8970_4c5d_bdf0_476ecd53fb87.__event_log",
         "MANAGED"
        ],
        [
         "2025-04-07T10:35:29.106Z",
         1,
         "0407-103326-ksvmqp71-v2n------:746d799d-f037-4774-975f-bfb15c4d061b:3ed43602-5fba-4f9d-b810-52df6009e914::a32156043d5d:RE:0",
         "Azure Blob FS/3.3 (AzulSystems,Inc. JavaJRE 1.8.0_412; Linux 5.15.0-1075-azure/amd64; SunJSSE-1.8; UNKNOWN/UNKNOWN) APN/1.0 unknown",
         "HTTPS",
         "cd880cde-101f-0004-44a8-a7b396000000",
         "DelegationSAS",
         "bf465dc7-3bc8-4944-b018-092572b5c20d",
         "5d36be44-0b29-4420-bebe-37cd8dc6458e",
         "Success",
         "ReadFile",
         "read",
         "10.16.14.3",
         "stsezsandbox07",
         "/stsezsandbox07/unity/83ad2d11-1431-4eb5-8a3e-a26542faf5ac/tables/01343f9d-8610-457e-8e96-614c9cab981e/_delta_log/00000000000000001555.00000000000000001560.compacted.json",
         "/stsezsandbox07/unity/83ad2d11-1431-4eb5-8a3e-a26542faf5ac/tables/01343f9d-8610-457e-8e96-614c9cab981e",
         "__databricks_internal.__dlt_materialization_schema_da18c5b2_8970_4c5d_bdf0_476ecd53fb87.__event_log",
         "MANAGED"
        ],
        [
         "2025-04-07T10:35:29.099Z",
         1,
         "0407-103326-ksvmqp71-v2n------:08a1a2ee-e499-4a6c-8252-e49444e5ab90:3ed43602-5fba-4f9d-b810-52df6009e914::0a6e57a97acf:RE:0",
         "Azure Blob FS/3.3 (AzulSystems,Inc. JavaJRE 1.8.0_412; Linux 5.15.0-1075-azure/amd64; SunJSSE-1.8; UNKNOWN/UNKNOWN) APN/1.0 unknown",
         "HTTPS",
         "184857a5-401f-006b-7ea8-a7b965000000",
         "DelegationSAS",
         "bf465dc7-3bc8-4944-b018-092572b5c20d",
         "5d36be44-0b29-4420-bebe-37cd8dc6458e",
         "Success",
         "ReadFile",
         "read",
         "10.16.14.3",
         "stsezsandbox07",
         "/stsezsandbox07/unity/83ad2d11-1431-4eb5-8a3e-a26542faf5ac/tables/01343f9d-8610-457e-8e96-614c9cab981e/_delta_log/00000000000000001575.json",
         "/stsezsandbox07/unity/83ad2d11-1431-4eb5-8a3e-a26542faf5ac/tables/01343f9d-8610-457e-8e96-614c9cab981e",
         "__databricks_internal.__dlt_materialization_schema_da18c5b2_8970_4c5d_bdf0_476ecd53fb87.__event_log",
         "MANAGED"
        ],
        [
         "2025-04-07T10:35:28.992Z",
         1,
         "0407-103326-ksvmqp71-v2n------:b9107a33-09e8-4d40-9329-624b8340b102:3ed43602-5fba-4f9d-b810-52df6009e914::8194492bc732:RE:0",
         "Azure Blob FS/3.3 (AzulSystems,Inc. JavaJRE 1.8.0_412; Linux 5.15.0-1075-azure/amd64; SunJSSE-1.8; UNKNOWN/UNKNOWN) APN/1.0 unknown",
         "HTTPS",
         "903c3f1a-b01f-000d-2ea8-a7f645000000",
         "DelegationSAS",
         "bf465dc7-3bc8-4944-b018-092572b5c20d",
         "5d36be44-0b29-4420-bebe-37cd8dc6458e",
         "Success",
         "ReadFile",
         "read",
         "10.16.14.3",
         "stsezsandbox07",
         "/stsezsandbox07/unity/83ad2d11-1431-4eb5-8a3e-a26542faf5ac/tables/01343f9d-8610-457e-8e96-614c9cab981e/_delta_log/00000000000000001567.00000000000000001572.compacted.json",
         "/stsezsandbox07/unity/83ad2d11-1431-4eb5-8a3e-a26542faf5ac/tables/01343f9d-8610-457e-8e96-614c9cab981e",
         "__databricks_internal.__dlt_materialization_schema_da18c5b2_8970_4c5d_bdf0_476ecd53fb87.__event_log",
         "MANAGED"
        ],
        [
         "2025-04-07T10:34:31.337Z",
         1,
         "0407-103326-ksvmqp71-v2n--48--103--0:83637e6d-4116-48f9-be52-16c0f553145e:d673f1b0-f737-4f7e-87f0-70e8f898d8de:::CR:0",
         "Azure Blob FS/3.3 (AzulSystems,Inc. JavaJRE 1.8.0_412; Linux 5.15.0-1075-azure/amd64; SunJSSE-1.8; UNKNOWN/UNKNOWN) APN/1.0 unknown",
         "HTTPS",
         "6e83c813-b01f-006f-4ca8-a73462000000",
         "DelegationSAS",
         "bf465dc7-3bc8-4944-b018-092572b5c20d",
         "5d36be44-0b29-4420-bebe-37cd8dc6458e",
         "Success",
         "CreatePathFile",
         "write",
         "10.16.14.243",
         "stsezsandbox07",
         "/stsezsandbox07/unity/83ad2d11-1431-4eb5-8a3e-a26542faf5ac/tables/01343f9d-8610-457e-8e96-614c9cab981e/part-00000-6dba03ab-348f-496b-a992-a25e52f19646.c000.snappy.parquet",
         "/stsezsandbox07/unity/83ad2d11-1431-4eb5-8a3e-a26542faf5ac/tables/01343f9d-8610-457e-8e96-614c9cab981e",
         "__databricks_internal.__dlt_materialization_schema_da18c5b2_8970_4c5d_bdf0_476ecd53fb87.__event_log",
         "MANAGED"
        ],
        [
         "2025-04-07T10:34:31.390Z",
         1,
         "0407-103326-ksvmqp71-v2n--48--103--0:3390f0be-c6be-4778-8b65-650aeb5d61e3:d673f1b0-f737-4f7e-87f0-70e8f898d8de::c6d84716f098:WR:0",
         "Azure Blob FS/3.3 (AzulSystems,Inc. JavaJRE 1.8.0_412; Linux 5.15.0-1075-azure/amd64; SunJSSE-1.8; UNKNOWN/UNKNOWN) APN/1.0 unknown",
         "HTTPS",
         "6e83c81d-b01f-006f-56a8-a73462000000",
         "DelegationSAS",
         "bf465dc7-3bc8-4944-b018-092572b5c20d",
         "5d36be44-0b29-4420-bebe-37cd8dc6458e",
         "Success",
         "AppendFile",
         "write",
         "10.16.14.243",
         "stsezsandbox07",
         "/stsezsandbox07/unity/83ad2d11-1431-4eb5-8a3e-a26542faf5ac/tables/01343f9d-8610-457e-8e96-614c9cab981e/part-00000-6dba03ab-348f-496b-a992-a25e52f19646.c000.snappy.parquet",
         "/stsezsandbox07/unity/83ad2d11-1431-4eb5-8a3e-a26542faf5ac/tables/01343f9d-8610-457e-8e96-614c9cab981e",
         "__databricks_internal.__dlt_materialization_schema_da18c5b2_8970_4c5d_bdf0_476ecd53fb87.__event_log",
         "MANAGED"
        ],
        [
         "2025-04-07T10:34:31.447Z",
         1,
         "0407-103326-ksvmqp71-v2n--48--103--0:742ba90f-7483-4129-97c3-fb273dd841f0:d673f1b0-f737-4f7e-87f0-70e8f898d8de::c6d84716f098:WR:0",
         "Azure Blob FS/3.3 (AzulSystems,Inc. JavaJRE 1.8.0_412; Linux 5.15.0-1075-azure/amd64; SunJSSE-1.8; UNKNOWN/UNKNOWN) APN/1.0 unknown",
         "HTTPS",
         "6e83c820-b01f-006f-59a8-a73462000000",
         "DelegationSAS",
         "bf465dc7-3bc8-4944-b018-092572b5c20d",
         "5d36be44-0b29-4420-bebe-37cd8dc6458e",
         "Success",
         "FlushFile",
         "write",
         "10.16.14.243",
         "stsezsandbox07",
         "/stsezsandbox07/unity/83ad2d11-1431-4eb5-8a3e-a26542faf5ac/tables/01343f9d-8610-457e-8e96-614c9cab981e/part-00000-6dba03ab-348f-496b-a992-a25e52f19646.c000.snappy.parquet",
         "/stsezsandbox07/unity/83ad2d11-1431-4eb5-8a3e-a26542faf5ac/tables/01343f9d-8610-457e-8e96-614c9cab981e",
         "__databricks_internal.__dlt_materialization_schema_da18c5b2_8970_4c5d_bdf0_476ecd53fb87.__event_log",
         "MANAGED"
        ],
        [
         "2025-04-07T10:34:31.854Z",
         1,
         "0407-103326-ksvmqp71-v2n--48--103--0:6dea970e-86af-4ba4-910f-16c541148381:c081dbda-3d81-46d9-9e3e-40d1168556a3:::GF:0",
         "Azure Blob FS/3.3 (AzulSystems,Inc. JavaJRE 1.8.0_412; Linux 5.15.0-1075-azure/amd64; SunJSSE-1.8; UNKNOWN/UNKNOWN) APN/1.0 unknown",
         "HTTPS",
         "6e83c87d-b01f-006f-35a8-a73462000000",
         "DelegationSAS",
         "bf465dc7-3bc8-4944-b018-092572b5c20d",
         "5d36be44-0b29-4420-bebe-37cd8dc6458e",
         "Success",
         "GetPathStatus",
         "read",
         "10.16.14.243",
         "stsezsandbox07",
         "/stsezsandbox07/unity/83ad2d11-1431-4eb5-8a3e-a26542faf5ac/tables/01343f9d-8610-457e-8e96-614c9cab981e/part-00000-6dba03ab-348f-496b-a992-a25e52f19646.c000.snappy.parquet",
         "/stsezsandbox07/unity/83ad2d11-1431-4eb5-8a3e-a26542faf5ac/tables/01343f9d-8610-457e-8e96-614c9cab981e",
         "__databricks_internal.__dlt_materialization_schema_da18c5b2_8970_4c5d_bdf0_476ecd53fb87.__event_log",
         "MANAGED"
        ],
        [
         "2025-04-07T10:34:31.887Z",
         1,
         "0407-103326-ksvmqp71-v2n--48--103--0:c0eda334-c720-4929-a65f-0a5fd51ac2d0:c081dbda-3d81-46d9-9e3e-40d1168556a3:::GF:0",
         "Azure Blob FS/3.3 (AzulSystems,Inc. JavaJRE 1.8.0_412; Linux 5.15.0-1075-azure/amd64; SunJSSE-1.8; UNKNOWN/UNKNOWN) APN/1.0 unknown",
         "HTTPS",
         "6e83c888-b01f-006f-40a8-a73462000000",
         "DelegationSAS",
         "bf465dc7-3bc8-4944-b018-092572b5c20d",
         "5d36be44-0b29-4420-bebe-37cd8dc6458e",
         "Success",
         "GetPathStatus",
         "read",
         "10.16.14.243",
         "stsezsandbox07",
         "/stsezsandbox07/unity/83ad2d11-1431-4eb5-8a3e-a26542faf5ac/tables/01343f9d-8610-457e-8e96-614c9cab981e/part-00000-6dba03ab-348f-496b-a992-a25e52f19646.c000.snappy.parquet",
         "/stsezsandbox07/unity/83ad2d11-1431-4eb5-8a3e-a26542faf5ac/tables/01343f9d-8610-457e-8e96-614c9cab981e",
         "__databricks_internal.__dlt_materialization_schema_da18c5b2_8970_4c5d_bdf0_476ecd53fb87.__event_log",
         "MANAGED"
        ],
        [
         "2025-04-07T10:35:28.982Z",
         1,
         "0407-103326-ksvmqp71-v2n------:0c838b90-4a2c-4102-80cf-47969c78d828:3ed43602-5fba-4f9d-b810-52df6009e914::f37b19448a6b:RE:0",
         "Azure Blob FS/3.3 (AzulSystems,Inc. JavaJRE 1.8.0_412; Linux 5.15.0-1075-azure/amd64; SunJSSE-1.8; UNKNOWN/UNKNOWN) APN/1.0 unknown",
         "HTTPS",
         "c5e09026-c01f-0038-79a8-a79a51000000",
         "DelegationSAS",
         "bf465dc7-3bc8-4944-b018-092572b5c20d",
         "5d36be44-0b29-4420-bebe-37cd8dc6458e",
         "Success",
         "ReadFile",
         "read",
         "10.16.14.3",
         "stsezsandbox07",
         "/stsezsandbox07/unity/83ad2d11-1431-4eb5-8a3e-a26542faf5ac/tables/01343f9d-8610-457e-8e96-614c9cab981e/_delta_log/00000000000000001573.json",
         "/stsezsandbox07/unity/83ad2d11-1431-4eb5-8a3e-a26542faf5ac/tables/01343f9d-8610-457e-8e96-614c9cab981e",
         "__databricks_internal.__dlt_materialization_schema_da18c5b2_8970_4c5d_bdf0_476ecd53fb87.__event_log",
         "MANAGED"
        ],
        [
         "2025-04-07T10:34:32.650Z",
         1,
         "0407-103326-ksvmqp71-v2n------:570dad05-af89-47d4-b0f7-613bc991c20c:ab0dbb4e-dea3-4e4e-a52f-59e0b992a9a6::ca69d2dbfdbe:RE:0",
         "Azure Blob FS/3.3 (AzulSystems,Inc. JavaJRE 1.8.0_412; Linux 5.15.0-1075-azure/amd64; SunJSSE-1.8; UNKNOWN/UNKNOWN) APN/1.0 unknown",
         "HTTPS",
         "6b63fa87-f01f-0023-3ba8-a7a452000000",
         "DelegationSAS",
         "bf465dc7-3bc8-4944-b018-092572b5c20d",
         "5d36be44-0b29-4420-bebe-37cd8dc6458e",
         "Success",
         "ReadFile",
         "read",
         "10.16.14.3",
         "stsezsandbox07",
         "/stsezsandbox07/unity/83ad2d11-1431-4eb5-8a3e-a26542faf5ac/tables/01343f9d-8610-457e-8e96-614c9cab981e/_delta_log/00000000000000001567.00000000000000001572.compacted.json",
         "/stsezsandbox07/unity/83ad2d11-1431-4eb5-8a3e-a26542faf5ac/tables/01343f9d-8610-457e-8e96-614c9cab981e",
         "__databricks_internal.__dlt_materialization_schema_da18c5b2_8970_4c5d_bdf0_476ecd53fb87.__event_log",
         "MANAGED"
        ],
        [
         "2025-04-07T10:35:28.681Z",
         1,
         "0407-103326-ksvmqp71-v2n--56--232--0:c3dfe269-a40d-443a-8a78-3bbab6515be1:e4f5202e-9874-44a3-96d8-1cc7448d9c71:::GF:0",
         "Azure Blob FS/3.3 (AzulSystems,Inc. JavaJRE 1.8.0_412; Linux 5.15.0-1075-azure/amd64; SunJSSE-1.8; UNKNOWN/UNKNOWN) APN/1.0 unknown",
         "HTTPS",
         "c78c3d0d-d01f-000b-38a8-a7c5fa000000",
         "DelegationSAS",
         "bf465dc7-3bc8-4944-b018-092572b5c20d",
         "5d36be44-0b29-4420-bebe-37cd8dc6458e",
         "Success",
         "GetPathStatus",
         "read",
         "10.16.14.243",
         "stsezsandbox07",
         "/stsezsandbox07/unity/83ad2d11-1431-4eb5-8a3e-a26542faf5ac/tables/01343f9d-8610-457e-8e96-614c9cab981e/part-00000-ef79b499-0d83-469d-8052-abd2b01ff7bb.c000.snappy.parquet",
         "/stsezsandbox07/unity/83ad2d11-1431-4eb5-8a3e-a26542faf5ac/tables/01343f9d-8610-457e-8e96-614c9cab981e",
         "__databricks_internal.__dlt_materialization_schema_da18c5b2_8970_4c5d_bdf0_476ecd53fb87.__event_log",
         "MANAGED"
        ],
        [
         "2025-04-07T10:35:28.690Z",
         1,
         "0407-103326-ksvmqp71-v2n--56--232--0:fa00b099-cfb1-49db-8a74-fea548284d1d:e4f5202e-9874-44a3-96d8-1cc7448d9c71:::GF:0",
         "Azure Blob FS/3.3 (AzulSystems,Inc. JavaJRE 1.8.0_412; Linux 5.15.0-1075-azure/amd64; SunJSSE-1.8; UNKNOWN/UNKNOWN) APN/1.0 unknown",
         "HTTPS",
         "c78c3d0e-d01f-000b-39a8-a7c5fa000000",
         "DelegationSAS",
         "bf465dc7-3bc8-4944-b018-092572b5c20d",
         "5d36be44-0b29-4420-bebe-37cd8dc6458e",
         "Success",
         "GetPathStatus",
         "read",
         "10.16.14.243",
         "stsezsandbox07",
         "/stsezsandbox07/unity/83ad2d11-1431-4eb5-8a3e-a26542faf5ac/tables/01343f9d-8610-457e-8e96-614c9cab981e/part-00000-ef79b499-0d83-469d-8052-abd2b01ff7bb.c000.snappy.parquet",
         "/stsezsandbox07/unity/83ad2d11-1431-4eb5-8a3e-a26542faf5ac/tables/01343f9d-8610-457e-8e96-614c9cab981e",
         "__databricks_internal.__dlt_materialization_schema_da18c5b2_8970_4c5d_bdf0_476ecd53fb87.__event_log",
         "MANAGED"
        ],
        [
         "2025-04-07T10:35:28.584Z",
         1,
         "0407-103326-ksvmqp71-v2n--56--232--0:f894d376-0bf7-4571-9e70-32a4567ec012:d673f1b0-f737-4f7e-87f0-70e8f898d8de:::CR:0",
         "Azure Blob FS/3.3 (AzulSystems,Inc. JavaJRE 1.8.0_412; Linux 5.15.0-1075-azure/amd64; SunJSSE-1.8; UNKNOWN/UNKNOWN) APN/1.0 unknown",
         "HTTPS",
         "c78c3d02-d01f-000b-2ea8-a7c5fa000000",
         "DelegationSAS",
         "bf465dc7-3bc8-4944-b018-092572b5c20d",
         "5d36be44-0b29-4420-bebe-37cd8dc6458e",
         "Success",
         "CreatePathFile",
         "write",
         "10.16.14.243",
         "stsezsandbox07",
         "/stsezsandbox07/unity/83ad2d11-1431-4eb5-8a3e-a26542faf5ac/tables/01343f9d-8610-457e-8e96-614c9cab981e/part-00000-ef79b499-0d83-469d-8052-abd2b01ff7bb.c000.snappy.parquet",
         "/stsezsandbox07/unity/83ad2d11-1431-4eb5-8a3e-a26542faf5ac/tables/01343f9d-8610-457e-8e96-614c9cab981e",
         "__databricks_internal.__dlt_materialization_schema_da18c5b2_8970_4c5d_bdf0_476ecd53fb87.__event_log",
         "MANAGED"
        ],
        [
         "2025-04-07T10:35:28.608Z",
         1,
         "0407-103326-ksvmqp71-v2n--56--232--0:3434dede-fd3d-49ec-84e9-924f4c9f78e4:d673f1b0-f737-4f7e-87f0-70e8f898d8de::9b7188dea909:WR:0",
         "Azure Blob FS/3.3 (AzulSystems,Inc. JavaJRE 1.8.0_412; Linux 5.15.0-1075-azure/amd64; SunJSSE-1.8; UNKNOWN/UNKNOWN) APN/1.0 unknown",
         "HTTPS",
         "c78c3d06-d01f-000b-32a8-a7c5fa000000",
         "DelegationSAS",
         "bf465dc7-3bc8-4944-b018-092572b5c20d",
         "5d36be44-0b29-4420-bebe-37cd8dc6458e",
         "Success",
         "AppendFile",
         "write",
         "10.16.14.243",
         "stsezsandbox07",
         "/stsezsandbox07/unity/83ad2d11-1431-4eb5-8a3e-a26542faf5ac/tables/01343f9d-8610-457e-8e96-614c9cab981e/part-00000-ef79b499-0d83-469d-8052-abd2b01ff7bb.c000.snappy.parquet",
         "/stsezsandbox07/unity/83ad2d11-1431-4eb5-8a3e-a26542faf5ac/tables/01343f9d-8610-457e-8e96-614c9cab981e",
         "__databricks_internal.__dlt_materialization_schema_da18c5b2_8970_4c5d_bdf0_476ecd53fb87.__event_log",
         "MANAGED"
        ],
        [
         "2025-04-07T10:35:28.648Z",
         1,
         "0407-103326-ksvmqp71-v2n--56--232--0:559e9ad0-9a3f-4807-9765-16cd5466cade:d673f1b0-f737-4f7e-87f0-70e8f898d8de::9b7188dea909:WR:0",
         "Azure Blob FS/3.3 (AzulSystems,Inc. JavaJRE 1.8.0_412; Linux 5.15.0-1075-azure/amd64; SunJSSE-1.8; UNKNOWN/UNKNOWN) APN/1.0 unknown",
         "HTTPS",
         "c78c3d0a-d01f-000b-35a8-a7c5fa000000",
         "DelegationSAS",
         "bf465dc7-3bc8-4944-b018-092572b5c20d",
         "5d36be44-0b29-4420-bebe-37cd8dc6458e",
         "Success",
         "FlushFile",
         "write",
         "10.16.14.243",
         "stsezsandbox07",
         "/stsezsandbox07/unity/83ad2d11-1431-4eb5-8a3e-a26542faf5ac/tables/01343f9d-8610-457e-8e96-614c9cab981e/part-00000-ef79b499-0d83-469d-8052-abd2b01ff7bb.c000.snappy.parquet",
         "/stsezsandbox07/unity/83ad2d11-1431-4eb5-8a3e-a26542faf5ac/tables/01343f9d-8610-457e-8e96-614c9cab981e",
         "__databricks_internal.__dlt_materialization_schema_da18c5b2_8970_4c5d_bdf0_476ecd53fb87.__event_log",
         "MANAGED"
        ],
        [
         "2025-04-07T10:34:35.693Z",
         1,
         "0407-103326-ksvmqp71-v2n------:ec17ff5e-70da-4973-b21e-e77b25d3db42:a3f7ef90-f9e4-4be4-9ae4-741132e5f5af:::CR:0",
         "Azure Blob FS/3.3 (AzulSystems,Inc. JavaJRE 1.8.0_412; Linux 5.15.0-1075-azure/amd64; SunJSSE-1.8; UNKNOWN/UNKNOWN) APN/1.0 unknown",
         "HTTPS",
         "7e0a89f9-001f-0045-68a8-a7eb72000000",
         "DelegationSAS",
         "bf465dc7-3bc8-4944-b018-092572b5c20d",
         "5d36be44-0b29-4420-bebe-37cd8dc6458e",
         "Success",
         "CreatePathFile",
         "write",
         "10.16.14.3",
         "stsezsandbox07",
         "/stsezsandbox07/unity/83ad2d11-1431-4eb5-8a3e-a26542faf5ac/tables/01343f9d-8610-457e-8e96-614c9cab981e/_delta_log/__tmp_path_dir/.00000000000000001574.crc.42e71047-14f7-43b7-bc4b-8b24f1bdf791.tmp",
         "/stsezsandbox07/unity/83ad2d11-1431-4eb5-8a3e-a26542faf5ac/tables/01343f9d-8610-457e-8e96-614c9cab981e",
         "__databricks_internal.__dlt_materialization_schema_da18c5b2_8970_4c5d_bdf0_476ecd53fb87.__event_log",
         "MANAGED"
        ],
        [
         "2025-04-07T10:34:35.734Z",
         1,
         "0407-103326-ksvmqp71-v2n------:cf09bb41-ae60-4dff-a868-a9ff503f3997:a3f7ef90-f9e4-4be4-9ae4-741132e5f5af::65fd0ccd5b68:WR:0",
         "Azure Blob FS/3.3 (AzulSystems,Inc. JavaJRE 1.8.0_412; Linux 5.15.0-1075-azure/amd64; SunJSSE-1.8; UNKNOWN/UNKNOWN) APN/1.0 unknown",
         "HTTPS",
         "7e0a89fe-001f-0045-6ca8-a7eb72000000",
         "DelegationSAS",
         "bf465dc7-3bc8-4944-b018-092572b5c20d",
         "5d36be44-0b29-4420-bebe-37cd8dc6458e",
         "Success",
         "AppendFile",
         "write",
         "10.16.14.3",
         "stsezsandbox07",
         "/stsezsandbox07/unity/83ad2d11-1431-4eb5-8a3e-a26542faf5ac/tables/01343f9d-8610-457e-8e96-614c9cab981e/_delta_log/__tmp_path_dir/.00000000000000001574.crc.42e71047-14f7-43b7-bc4b-8b24f1bdf791.tmp",
         "/stsezsandbox07/unity/83ad2d11-1431-4eb5-8a3e-a26542faf5ac/tables/01343f9d-8610-457e-8e96-614c9cab981e",
         "__databricks_internal.__dlt_materialization_schema_da18c5b2_8970_4c5d_bdf0_476ecd53fb87.__event_log",
         "MANAGED"
        ],
        [
         "2025-04-07T10:34:35.800Z",
         1,
         "0407-103326-ksvmqp71-v2n------:af8ecbc3-2d79-4255-a627-8f27d209b3bd:a3f7ef90-f9e4-4be4-9ae4-741132e5f5af::65fd0ccd5b68:WR:0",
         "Azure Blob FS/3.3 (AzulSystems,Inc. JavaJRE 1.8.0_412; Linux 5.15.0-1075-azure/amd64; SunJSSE-1.8; UNKNOWN/UNKNOWN) APN/1.0 unknown",
         "HTTPS",
         "7e0a89ff-001f-0045-6da8-a7eb72000000",
         "DelegationSAS",
         "bf465dc7-3bc8-4944-b018-092572b5c20d",
         "5d36be44-0b29-4420-bebe-37cd8dc6458e",
         "Success",
         "FlushFile",
         "write",
         "10.16.14.3",
         "stsezsandbox07",
         "/stsezsandbox07/unity/83ad2d11-1431-4eb5-8a3e-a26542faf5ac/tables/01343f9d-8610-457e-8e96-614c9cab981e/_delta_log/__tmp_path_dir/.00000000000000001574.crc.42e71047-14f7-43b7-bc4b-8b24f1bdf791.tmp",
         "/stsezsandbox07/unity/83ad2d11-1431-4eb5-8a3e-a26542faf5ac/tables/01343f9d-8610-457e-8e96-614c9cab981e",
         "__databricks_internal.__dlt_materialization_schema_da18c5b2_8970_4c5d_bdf0_476ecd53fb87.__event_log",
         "MANAGED"
        ],
        [
         "2025-04-07T10:34:35.852Z",
         1,
         "0407-103326-ksvmqp71-v2n------:1a3e1397-9609-402e-8f25-fe66e971b66e:a3f7ef90-f9e4-4be4-9ae4-741132e5f5af:ac8a1a31-685c-4f49-9ba2-dbffc19270b0::RN:0",
         "Azure Blob FS/3.3 (AzulSystems,Inc. JavaJRE 1.8.0_412; Linux 5.15.0-1075-azure/amd64; SunJSSE-1.8; UNKNOWN/UNKNOWN) APN/1.0 unknown",
         "HTTPS",
         "7e0a8a04-001f-0045-72a8-a7eb72000000",
         "DelegationSAS",
         "bf465dc7-3bc8-4944-b018-092572b5c20d",
         "5d36be44-0b29-4420-bebe-37cd8dc6458e",
         "Success",
         "RenamePathFile",
         "read",
         "10.16.14.3",
         "stsezsandbox07",
         "/stsezsandbox07/unity/83ad2d11-1431-4eb5-8a3e-a26542faf5ac/tables/01343f9d-8610-457e-8e96-614c9cab981e/_delta_log/00000000000000001574.crc",
         "/stsezsandbox07/unity/83ad2d11-1431-4eb5-8a3e-a26542faf5ac/tables/01343f9d-8610-457e-8e96-614c9cab981e",
         "__databricks_internal.__dlt_materialization_schema_da18c5b2_8970_4c5d_bdf0_476ecd53fb87.__event_log",
         "MANAGED"
        ],
        [
         "2025-04-07T10:34:32.643Z",
         1,
         "0407-103326-ksvmqp71-v2n------:feb943f8-1f51-4692-8de1-914c84578284:ab0dbb4e-dea3-4e4e-a52f-59e0b992a9a6::d8c7fe6b56ee:RE:0",
         "Azure Blob FS/3.3 (AzulSystems,Inc. JavaJRE 1.8.0_412; Linux 5.15.0-1075-azure/amd64; SunJSSE-1.8; UNKNOWN/UNKNOWN) APN/1.0 unknown",
         "HTTPS",
         "7e0a890a-001f-0045-09a8-a7eb72000000",
         "DelegationSAS",
         "bf465dc7-3bc8-4944-b018-092572b5c20d",
         "5d36be44-0b29-4420-bebe-37cd8dc6458e",
         "Success",
         "ReadFile",
         "read",
         "10.16.14.3",
         "stsezsandbox07",
         "/stsezsandbox07/unity/83ad2d11-1431-4eb5-8a3e-a26542faf5ac/tables/01343f9d-8610-457e-8e96-614c9cab981e/_delta_log/00000000000000001561.00000000000000001566.compacted.json",
         "/stsezsandbox07/unity/83ad2d11-1431-4eb5-8a3e-a26542faf5ac/tables/01343f9d-8610-457e-8e96-614c9cab981e",
         "__databricks_internal.__dlt_materialization_schema_da18c5b2_8970_4c5d_bdf0_476ecd53fb87.__event_log",
         "MANAGED"
        ],
        [
         "2025-04-07T10:37:07.249Z",
         1,
         "0407-103326-ksvmqp71-v2n------:7f59c424-3ff6-44e5-82ad-4a5218e11402:fe4d86b0-d276-4b4c-87e5-c24fed9c6e98::6c3eed2f35e4:RE:0",
         "Azure Blob FS/3.3 (AzulSystems,Inc. JavaJRE 1.8.0_412; Linux 5.15.0-1075-azure/amd64; SunJSSE-1.8; UNKNOWN/UNKNOWN) APN/1.0 unknown",
         "HTTPS",
         "72df6874-101f-0049-4da9-a77c7a000000",
         "DelegationSAS",
         "bf465dc7-3bc8-4944-b018-092572b5c20d",
         "5d36be44-0b29-4420-bebe-37cd8dc6458e",
         "Success",
         "ReadFile",
         "read",
         "10.16.14.3",
         "stsezsandbox07",
         "/stsezsandbox07/unity/83ad2d11-1431-4eb5-8a3e-a26542faf5ac/tables/01343f9d-8610-457e-8e96-614c9cab981e/_delta_log/00000000000000001555.00000000000000001560.compacted.json",
         "/stsezsandbox07/unity/83ad2d11-1431-4eb5-8a3e-a26542faf5ac/tables/01343f9d-8610-457e-8e96-614c9cab981e",
         "__databricks_internal.__dlt_materialization_schema_da18c5b2_8970_4c5d_bdf0_476ecd53fb87.__event_log",
         "MANAGED"
        ],
        [
         "2025-04-07T10:36:28.507Z",
         1,
         "0407-103326-ksvmqp71-v2n------:c91490e0-cc35-47a7-8aa2-a9494d5c27e6:91afdcea-f285-449f-9561-9bb4aad4694a:::CR:0",
         "Azure Blob FS/3.3 (AzulSystems,Inc. JavaJRE 1.8.0_412; Linux 5.15.0-1075-azure/amd64; SunJSSE-1.8; UNKNOWN/UNKNOWN) APN/1.0 unknown",
         "HTTPS",
         "a739f59f-f01f-001c-6ca8-a76cf1000000",
         "DelegationSAS",
         "bf465dc7-3bc8-4944-b018-092572b5c20d",
         "5d36be44-0b29-4420-bebe-37cd8dc6458e",
         "Success",
         "CreatePathFile",
         "write",
         "10.16.14.3",
         "stsezsandbox07",
         "/stsezsandbox07/unity/83ad2d11-1431-4eb5-8a3e-a26542faf5ac/tables/01343f9d-8610-457e-8e96-614c9cab981e/_delta_log/__tmp_path_dir/.00000000000000001576.json.48dbc8ba-f07e-496d-83f9-2b60ed61da56.tmp",
         "/stsezsandbox07/unity/83ad2d11-1431-4eb5-8a3e-a26542faf5ac/tables/01343f9d-8610-457e-8e96-614c9cab981e",
         "__databricks_internal.__dlt_materialization_schema_da18c5b2_8970_4c5d_bdf0_476ecd53fb87.__event_log",
         "MANAGED"
        ],
        [
         "2025-04-07T10:36:28.528Z",
         1,
         "0407-103326-ksvmqp71-v2n------:81195241-d41a-4d15-bca5-74457c2de26c:91afdcea-f285-449f-9561-9bb4aad4694a::ee66caa23aa6:WR:0",
         "Azure Blob FS/3.3 (AzulSystems,Inc. JavaJRE 1.8.0_412; Linux 5.15.0-1075-azure/amd64; SunJSSE-1.8; UNKNOWN/UNKNOWN) APN/1.0 unknown",
         "HTTPS",
         "a739f5a1-f01f-001c-6da8-a76cf1000000",
         "DelegationSAS",
         "bf465dc7-3bc8-4944-b018-092572b5c20d",
         "5d36be44-0b29-4420-bebe-37cd8dc6458e",
         "Success",
         "AppendFile",
         "write",
         "10.16.14.3",
         "stsezsandbox07",
         "/stsezsandbox07/unity/83ad2d11-1431-4eb5-8a3e-a26542faf5ac/tables/01343f9d-8610-457e-8e96-614c9cab981e/_delta_log/__tmp_path_dir/.00000000000000001576.json.48dbc8ba-f07e-496d-83f9-2b60ed61da56.tmp",
         "/stsezsandbox07/unity/83ad2d11-1431-4eb5-8a3e-a26542faf5ac/tables/01343f9d-8610-457e-8e96-614c9cab981e",
         "__databricks_internal.__dlt_materialization_schema_da18c5b2_8970_4c5d_bdf0_476ecd53fb87.__event_log",
         "MANAGED"
        ],
        [
         "2025-04-07T10:36:28.572Z",
         1,
         "0407-103326-ksvmqp71-v2n------:f3f35e88-2187-45d0-b358-33d60d678e4a:91afdcea-f285-449f-9561-9bb4aad4694a::ee66caa23aa6:WR:0",
         "Azure Blob FS/3.3 (AzulSystems,Inc. JavaJRE 1.8.0_412; Linux 5.15.0-1075-azure/amd64; SunJSSE-1.8; UNKNOWN/UNKNOWN) APN/1.0 unknown",
         "HTTPS",
         "a739f5a3-f01f-001c-6fa8-a76cf1000000",
         "DelegationSAS",
         "bf465dc7-3bc8-4944-b018-092572b5c20d",
         "5d36be44-0b29-4420-bebe-37cd8dc6458e",
         "Success",
         "FlushFile",
         "write",
         "10.16.14.3",
         "stsezsandbox07",
         "/stsezsandbox07/unity/83ad2d11-1431-4eb5-8a3e-a26542faf5ac/tables/01343f9d-8610-457e-8e96-614c9cab981e/_delta_log/__tmp_path_dir/.00000000000000001576.json.48dbc8ba-f07e-496d-83f9-2b60ed61da56.tmp",
         "/stsezsandbox07/unity/83ad2d11-1431-4eb5-8a3e-a26542faf5ac/tables/01343f9d-8610-457e-8e96-614c9cab981e",
         "__databricks_internal.__dlt_materialization_schema_da18c5b2_8970_4c5d_bdf0_476ecd53fb87.__event_log",
         "MANAGED"
        ],
        [
         "2025-04-07T10:36:28.629Z",
         1,
         "0407-103326-ksvmqp71-v2n------:dba8a69b-4095-44ba-a60e-34109804c768:91afdcea-f285-449f-9561-9bb4aad4694a:41c6704b-ed4a-43ac-abad-6a204814a373::RN:0",
         "Azure Blob FS/3.3 (AzulSystems,Inc. JavaJRE 1.8.0_412; Linux 5.15.0-1075-azure/amd64; SunJSSE-1.8; UNKNOWN/UNKNOWN) APN/1.0 unknown",
         "HTTPS",
         "a739f5a5-f01f-001c-71a8-a76cf1000000",
         "DelegationSAS",
         "bf465dc7-3bc8-4944-b018-092572b5c20d",
         "5d36be44-0b29-4420-bebe-37cd8dc6458e",
         "Success",
         "RenamePathFile",
         "read",
         "10.16.14.3",
         "stsezsandbox07",
         "/stsezsandbox07/unity/83ad2d11-1431-4eb5-8a3e-a26542faf5ac/tables/01343f9d-8610-457e-8e96-614c9cab981e/_delta_log/00000000000000001576.json",
         "/stsezsandbox07/unity/83ad2d11-1431-4eb5-8a3e-a26542faf5ac/tables/01343f9d-8610-457e-8e96-614c9cab981e",
         "__databricks_internal.__dlt_materialization_schema_da18c5b2_8970_4c5d_bdf0_476ecd53fb87.__event_log",
         "MANAGED"
        ],
        [
         "2025-04-07T10:36:28.486Z",
         1,
         "0407-103326-ksvmqp71-v2n------:a248b57d-3f14-46e7-a871-80d5b324a06d:fe4d86b0-d276-4b4c-87e5-c24fed9c6e98:::GF:0",
         "Azure Blob FS/3.3 (AzulSystems,Inc. JavaJRE 1.8.0_412; Linux 5.15.0-1075-azure/amd64; SunJSSE-1.8; UNKNOWN/UNKNOWN) APN/1.0 unknown",
         "HTTPS",
         "a739f59e-f01f-001c-6ba8-a76cf1000000",
         "DelegationSAS",
         "bf465dc7-3bc8-4944-b018-092572b5c20d",
         "5d36be44-0b29-4420-bebe-37cd8dc6458e",
         "Success",
         "GetPathStatus",
         "read",
         "10.16.14.3",
         "stsezsandbox07",
         "/stsezsandbox07/unity/83ad2d11-1431-4eb5-8a3e-a26542faf5ac/tables/01343f9d-8610-457e-8e96-614c9cab981e/_delta_log",
         "/stsezsandbox07/unity/83ad2d11-1431-4eb5-8a3e-a26542faf5ac/tables/01343f9d-8610-457e-8e96-614c9cab981e",
         "__databricks_internal.__dlt_materialization_schema_da18c5b2_8970_4c5d_bdf0_476ecd53fb87.__event_log",
         "MANAGED"
        ],
        [
         "2025-04-07T10:36:28.649Z",
         1,
         "0407-103326-ksvmqp71-v2n------:f814dc23-37cd-4c25-b693-b822527bccec:fe4d86b0-d276-4b4c-87e5-c24fed9c6e98:::GF:0",
         "Azure Blob FS/3.3 (AzulSystems,Inc. JavaJRE 1.8.0_412; Linux 5.15.0-1075-azure/amd64; SunJSSE-1.8; UNKNOWN/UNKNOWN) APN/1.0 unknown",
         "HTTPS",
         "a739f5a7-f01f-001c-72a8-a76cf1000000",
         "DelegationSAS",
         "bf465dc7-3bc8-4944-b018-092572b5c20d",
         "5d36be44-0b29-4420-bebe-37cd8dc6458e",
         "Success",
         "GetPathStatus",
         "read",
         "10.16.14.3",
         "stsezsandbox07",
         "/stsezsandbox07/unity/83ad2d11-1431-4eb5-8a3e-a26542faf5ac/tables/01343f9d-8610-457e-8e96-614c9cab981e/_delta_log/00000000000000001576.json",
         "/stsezsandbox07/unity/83ad2d11-1431-4eb5-8a3e-a26542faf5ac/tables/01343f9d-8610-457e-8e96-614c9cab981e",
         "__databricks_internal.__dlt_materialization_schema_da18c5b2_8970_4c5d_bdf0_476ecd53fb87.__event_log",
         "MANAGED"
        ],
        [
         "2025-04-07T10:36:28.671Z",
         1,
         "0407-103326-ksvmqp71-v2n------:575ac5ea-1ed2-49e8-a106-8ee4247db3ea:fe4d86b0-d276-4b4c-87e5-c24fed9c6e98:fa48f2ac-93f8-4219-9b53-9b5a7423b6a8:cdf3f17953bb:RE:0",
         "Azure Blob FS/3.3 (AzulSystems,Inc. JavaJRE 1.8.0_412; Linux 5.15.0-1075-azure/amd64; SunJSSE-1.8; UNKNOWN/UNKNOWN) APN/1.0 unknown",
         "HTTPS",
         "a739f5a9-f01f-001c-74a8-a76cf1000000",
         "DelegationSAS",
         "bf465dc7-3bc8-4944-b018-092572b5c20d",
         "5d36be44-0b29-4420-bebe-37cd8dc6458e",
         "Success",
         "ReadFile",
         "read",
         "10.16.14.3",
         "stsezsandbox07",
         "/stsezsandbox07/unity/83ad2d11-1431-4eb5-8a3e-a26542faf5ac/tables/01343f9d-8610-457e-8e96-614c9cab981e/_delta_log/00000000000000001555.00000000000000001560.compacted.json",
         "/stsezsandbox07/unity/83ad2d11-1431-4eb5-8a3e-a26542faf5ac/tables/01343f9d-8610-457e-8e96-614c9cab981e",
         "__databricks_internal.__dlt_materialization_schema_da18c5b2_8970_4c5d_bdf0_476ecd53fb87.__event_log",
         "MANAGED"
        ],
        [
         "2025-04-07T10:36:28.687Z",
         1,
         "0407-103326-ksvmqp71-v2n------:0c05726a-c093-42e0-95a2-ab1e8a97a22e:fe4d86b0-d276-4b4c-87e5-c24fed9c6e98::8523a9517499:RE:0",
         "Azure Blob FS/3.3 (AzulSystems,Inc. JavaJRE 1.8.0_412; Linux 5.15.0-1075-azure/amd64; SunJSSE-1.8; UNKNOWN/UNKNOWN) APN/1.0 unknown",
         "HTTPS",
         "a739f5aa-f01f-001c-75a8-a76cf1000000",
         "DelegationSAS",
         "bf465dc7-3bc8-4944-b018-092572b5c20d",
         "5d36be44-0b29-4420-bebe-37cd8dc6458e",
         "Success",
         "ReadFile",
         "read",
         "10.16.14.3",
         "stsezsandbox07",
         "/stsezsandbox07/unity/83ad2d11-1431-4eb5-8a3e-a26542faf5ac/tables/01343f9d-8610-457e-8e96-614c9cab981e/_delta_log/00000000000000001573.json",
         "/stsezsandbox07/unity/83ad2d11-1431-4eb5-8a3e-a26542faf5ac/tables/01343f9d-8610-457e-8e96-614c9cab981e",
         "__databricks_internal.__dlt_materialization_schema_da18c5b2_8970_4c5d_bdf0_476ecd53fb87.__event_log",
         "MANAGED"
        ],
        [
         "2025-04-07T10:36:28.741Z",
         1,
         "0407-103326-ksvmqp71-v2n------:0071bc63-ebbf-45d3-a8d3-63698d0639f4:fe4d86b0-d276-4b4c-87e5-c24fed9c6e98::aaa22a8356c8:RE:0",
         "Azure Blob FS/3.3 (AzulSystems,Inc. JavaJRE 1.8.0_412; Linux 5.15.0-1075-azure/amd64; SunJSSE-1.8; UNKNOWN/UNKNOWN) APN/1.0 unknown",
         "HTTPS",
         "a739f5ab-f01f-001c-76a8-a76cf1000000",
         "DelegationSAS",
         "bf465dc7-3bc8-4944-b018-092572b5c20d",
         "5d36be44-0b29-4420-bebe-37cd8dc6458e",
         "Success",
         "ReadFile",
         "read",
         "10.16.14.3",
         "stsezsandbox07",
         "/stsezsandbox07/unity/83ad2d11-1431-4eb5-8a3e-a26542faf5ac/tables/01343f9d-8610-457e-8e96-614c9cab981e/_delta_log/00000000000000001574.json",
         "/stsezsandbox07/unity/83ad2d11-1431-4eb5-8a3e-a26542faf5ac/tables/01343f9d-8610-457e-8e96-614c9cab981e",
         "__databricks_internal.__dlt_materialization_schema_da18c5b2_8970_4c5d_bdf0_476ecd53fb87.__event_log",
         "MANAGED"
        ],
        [
         "2025-04-07T10:37:07.264Z",
         1,
         "0407-103326-ksvmqp71-v2n------:84fe0efb-e36e-4708-88a6-c57f6b43f951:fe4d86b0-d276-4b4c-87e5-c24fed9c6e98::73695a7e3ac0:RE:0",
         "Azure Blob FS/3.3 (AzulSystems,Inc. JavaJRE 1.8.0_412; Linux 5.15.0-1075-azure/amd64; SunJSSE-1.8; UNKNOWN/UNKNOWN) APN/1.0 unknown",
         "HTTPS",
         "37c38342-c01f-0017-48a9-a7979a000000",
         "DelegationSAS",
         "bf465dc7-3bc8-4944-b018-092572b5c20d",
         "5d36be44-0b29-4420-bebe-37cd8dc6458e",
         "Success",
         "ReadFile",
         "read",
         "10.16.14.3",
         "stsezsandbox07",
         "/stsezsandbox07/unity/83ad2d11-1431-4eb5-8a3e-a26542faf5ac/tables/01343f9d-8610-457e-8e96-614c9cab981e/_delta_log/00000000000000001573.json",
         "/stsezsandbox07/unity/83ad2d11-1431-4eb5-8a3e-a26542faf5ac/tables/01343f9d-8610-457e-8e96-614c9cab981e",
         "__databricks_internal.__dlt_materialization_schema_da18c5b2_8970_4c5d_bdf0_476ecd53fb87.__event_log",
         "MANAGED"
        ],
        [
         "2025-04-07T10:37:06.905Z",
         1,
         "0407-103326-ksvmqp71-v2n------:8716a99a-8d60-4b9e-914e-ccb613f28fe2:fe4d86b0-d276-4b4c-87e5-c24fed9c6e98:::GF:0",
         "Azure Blob FS/3.3 (AzulSystems,Inc. JavaJRE 1.8.0_412; Linux 5.15.0-1075-azure/amd64; SunJSSE-1.8; UNKNOWN/UNKNOWN) APN/1.0 unknown",
         "HTTPS",
         "25a7ff34-701f-003d-5ba9-a7488a000000",
         "DelegationSAS",
         "bf465dc7-3bc8-4944-b018-092572b5c20d",
         "5d36be44-0b29-4420-bebe-37cd8dc6458e",
         "Success",
         "GetPathStatus",
         "read",
         "10.16.14.3",
         "stsezsandbox07",
         "/stsezsandbox07/unity/83ad2d11-1431-4eb5-8a3e-a26542faf5ac/tables/01343f9d-8610-457e-8e96-614c9cab981e/_delta_log",
         "/stsezsandbox07/unity/83ad2d11-1431-4eb5-8a3e-a26542faf5ac/tables/01343f9d-8610-457e-8e96-614c9cab981e",
         "__databricks_internal.__dlt_materialization_schema_da18c5b2_8970_4c5d_bdf0_476ecd53fb87.__event_log",
         "MANAGED"
        ],
        [
         "2025-04-07T10:37:07.068Z",
         1,
         "0407-103326-ksvmqp71-v2n------:e4c3aa68-b299-4550-b268-657a6cd9aeb9:fe4d86b0-d276-4b4c-87e5-c24fed9c6e98:::GF:0",
         "Azure Blob FS/3.3 (AzulSystems,Inc. JavaJRE 1.8.0_412; Linux 5.15.0-1075-azure/amd64; SunJSSE-1.8; UNKNOWN/UNKNOWN) APN/1.0 unknown",
         "HTTPS",
         "25a7ff43-701f-003d-6aa9-a7488a000000",
         "DelegationSAS",
         "bf465dc7-3bc8-4944-b018-092572b5c20d",
         "5d36be44-0b29-4420-bebe-37cd8dc6458e",
         "Success",
         "GetPathStatus",
         "read",
         "10.16.14.3",
         "stsezsandbox07",
         "/stsezsandbox07/unity/83ad2d11-1431-4eb5-8a3e-a26542faf5ac/tables/01343f9d-8610-457e-8e96-614c9cab981e/_delta_log/00000000000000001577.json",
         "/stsezsandbox07/unity/83ad2d11-1431-4eb5-8a3e-a26542faf5ac/tables/01343f9d-8610-457e-8e96-614c9cab981e",
         "__databricks_internal.__dlt_materialization_schema_da18c5b2_8970_4c5d_bdf0_476ecd53fb87.__event_log",
         "MANAGED"
        ],
        [
         "2025-04-07T10:37:07.096Z",
         1,
         "0407-103326-ksvmqp71-v2n------:02f83a84-33cd-4499-9dab-73b7f0bc1ae6:fe4d86b0-d276-4b4c-87e5-c24fed9c6e98::6469029d2a1a:RE:0",
         "Azure Blob FS/3.3 (AzulSystems,Inc. JavaJRE 1.8.0_412; Linux 5.15.0-1075-azure/amd64; SunJSSE-1.8; UNKNOWN/UNKNOWN) APN/1.0 unknown",
         "HTTPS",
         "25a7ff47-701f-003d-6ea9-a7488a000000",
         "DelegationSAS",
         "bf465dc7-3bc8-4944-b018-092572b5c20d",
         "5d36be44-0b29-4420-bebe-37cd8dc6458e",
         "Success",
         "ReadFile",
         "read",
         "10.16.14.3",
         "stsezsandbox07",
         "/stsezsandbox07/unity/83ad2d11-1431-4eb5-8a3e-a26542faf5ac/tables/01343f9d-8610-457e-8e96-614c9cab981e/_delta_log/00000000000000001549.00000000000000001554.compacted.json",
         "/stsezsandbox07/unity/83ad2d11-1431-4eb5-8a3e-a26542faf5ac/tables/01343f9d-8610-457e-8e96-614c9cab981e",
         "__databricks_internal.__dlt_materialization_schema_da18c5b2_8970_4c5d_bdf0_476ecd53fb87.__event_log",
         "MANAGED"
        ],
        [
         "2025-04-07T10:37:07.106Z",
         1,
         "0407-103326-ksvmqp71-v2n------:d12fbc5c-6722-491a-8409-68b828bd67a0:fe4d86b0-d276-4b4c-87e5-c24fed9c6e98::adba8326649c:RE:0",
         "Azure Blob FS/3.3 (AzulSystems,Inc. JavaJRE 1.8.0_412; Linux 5.15.0-1075-azure/amd64; SunJSSE-1.8; UNKNOWN/UNKNOWN) APN/1.0 unknown",
         "HTTPS",
         "25a7ff4b-701f-003d-72a9-a7488a000000",
         "DelegationSAS",
         "bf465dc7-3bc8-4944-b018-092572b5c20d",
         "5d36be44-0b29-4420-bebe-37cd8dc6458e",
         "Success",
         "ReadFile",
         "read",
         "10.16.14.3",
         "stsezsandbox07",
         "/stsezsandbox07/unity/83ad2d11-1431-4eb5-8a3e-a26542faf5ac/tables/01343f9d-8610-457e-8e96-614c9cab981e/_delta_log/00000000000000001567.00000000000000001572.compacted.json",
         "/stsezsandbox07/unity/83ad2d11-1431-4eb5-8a3e-a26542faf5ac/tables/01343f9d-8610-457e-8e96-614c9cab981e",
         "__databricks_internal.__dlt_materialization_schema_da18c5b2_8970_4c5d_bdf0_476ecd53fb87.__event_log",
         "MANAGED"
        ],
        [
         "2025-04-07T10:37:07.125Z",
         1,
         "0407-103326-ksvmqp71-v2n------:247ff01e-127d-4b25-8461-7c5a8adb7ea5:fe4d86b0-d276-4b4c-87e5-c24fed9c6e98::d4fae15976d7:RE:0",
         "Azure Blob FS/3.3 (AzulSystems,Inc. JavaJRE 1.8.0_412; Linux 5.15.0-1075-azure/amd64; SunJSSE-1.8; UNKNOWN/UNKNOWN) APN/1.0 unknown",
         "HTTPS",
         "25a7ff4e-701f-003d-75a9-a7488a000000",
         "DelegationSAS",
         "bf465dc7-3bc8-4944-b018-092572b5c20d",
         "5d36be44-0b29-4420-bebe-37cd8dc6458e",
         "Success",
         "ReadFile",
         "read",
         "10.16.14.3",
         "stsezsandbox07",
         "/stsezsandbox07/unity/83ad2d11-1431-4eb5-8a3e-a26542faf5ac/tables/01343f9d-8610-457e-8e96-614c9cab981e/_delta_log/00000000000000001574.json",
         "/stsezsandbox07/unity/83ad2d11-1431-4eb5-8a3e-a26542faf5ac/tables/01343f9d-8610-457e-8e96-614c9cab981e",
         "__databricks_internal.__dlt_materialization_schema_da18c5b2_8970_4c5d_bdf0_476ecd53fb87.__event_log",
         "MANAGED"
        ],
        [
         "2025-04-07T10:37:07.175Z",
         1,
         "0407-103326-ksvmqp71-v2n------:248974c3-24b4-432f-b83f-10f4bdd2128f:fe4d86b0-d276-4b4c-87e5-c24fed9c6e98::36275386286b:RE:0",
         "Azure Blob FS/3.3 (AzulSystems,Inc. JavaJRE 1.8.0_412; Linux 5.15.0-1075-azure/amd64; SunJSSE-1.8; UNKNOWN/UNKNOWN) APN/1.0 unknown",
         "HTTPS",
         "25a7ff50-701f-003d-77a9-a7488a000000",
         "DelegationSAS",
         "bf465dc7-3bc8-4944-b018-092572b5c20d",
         "5d36be44-0b29-4420-bebe-37cd8dc6458e",
         "Success",
         "ReadFile",
         "read",
         "10.16.14.3",
         "stsezsandbox07",
         "/stsezsandbox07/unity/83ad2d11-1431-4eb5-8a3e-a26542faf5ac/tables/01343f9d-8610-457e-8e96-614c9cab981e/_delta_log/00000000000000001577.json",
         "/stsezsandbox07/unity/83ad2d11-1431-4eb5-8a3e-a26542faf5ac/tables/01343f9d-8610-457e-8e96-614c9cab981e",
         "__databricks_internal.__dlt_materialization_schema_da18c5b2_8970_4c5d_bdf0_476ecd53fb87.__event_log",
         "MANAGED"
        ],
        [
         "2025-04-07T10:37:06.937Z",
         1,
         "0407-103326-ksvmqp71-v2n------:252514eb-c5d8-4016-ae0a-1a3e75cf1efd:91afdcea-f285-449f-9561-9bb4aad4694a:::CR:0",
         "Azure Blob FS/3.3 (AzulSystems,Inc. JavaJRE 1.8.0_412; Linux 5.15.0-1075-azure/amd64; SunJSSE-1.8; UNKNOWN/UNKNOWN) APN/1.0 unknown",
         "HTTPS",
         "25a7ff37-701f-003d-5ea9-a7488a000000",
         "DelegationSAS",
         "bf465dc7-3bc8-4944-b018-092572b5c20d",
         "5d36be44-0b29-4420-bebe-37cd8dc6458e",
         "Success",
         "CreatePathFile",
         "write",
         "10.16.14.3",
         "stsezsandbox07",
         "/stsezsandbox07/unity/83ad2d11-1431-4eb5-8a3e-a26542faf5ac/tables/01343f9d-8610-457e-8e96-614c9cab981e/_delta_log/__tmp_path_dir/.00000000000000001577.json.6380ed1d-cdd2-42b6-ac5a-67dbe0661a91.tmp",
         "/stsezsandbox07/unity/83ad2d11-1431-4eb5-8a3e-a26542faf5ac/tables/01343f9d-8610-457e-8e96-614c9cab981e",
         "__databricks_internal.__dlt_materialization_schema_da18c5b2_8970_4c5d_bdf0_476ecd53fb87.__event_log",
         "MANAGED"
        ],
        [
         "2025-04-07T10:37:06.956Z",
         1,
         "0407-103326-ksvmqp71-v2n------:8df20c6a-397f-4300-bbb7-d1f523081207:91afdcea-f285-449f-9561-9bb4aad4694a::1a477746fbd7:WR:0",
         "Azure Blob FS/3.3 (AzulSystems,Inc. JavaJRE 1.8.0_412; Linux 5.15.0-1075-azure/amd64; SunJSSE-1.8; UNKNOWN/UNKNOWN) APN/1.0 unknown",
         "HTTPS",
         "25a7ff3a-701f-003d-61a9-a7488a000000",
         "DelegationSAS",
         "bf465dc7-3bc8-4944-b018-092572b5c20d",
         "5d36be44-0b29-4420-bebe-37cd8dc6458e",
         "Success",
         "AppendFile",
         "write",
         "10.16.14.3",
         "stsezsandbox07",
         "/stsezsandbox07/unity/83ad2d11-1431-4eb5-8a3e-a26542faf5ac/tables/01343f9d-8610-457e-8e96-614c9cab981e/_delta_log/__tmp_path_dir/.00000000000000001577.json.6380ed1d-cdd2-42b6-ac5a-67dbe0661a91.tmp",
         "/stsezsandbox07/unity/83ad2d11-1431-4eb5-8a3e-a26542faf5ac/tables/01343f9d-8610-457e-8e96-614c9cab981e",
         "__databricks_internal.__dlt_materialization_schema_da18c5b2_8970_4c5d_bdf0_476ecd53fb87.__event_log",
         "MANAGED"
        ],
        [
         "2025-04-07T10:37:06.995Z",
         1,
         "0407-103326-ksvmqp71-v2n------:7b1165f2-d00f-43fd-a857-1b3a7f2d5cce:91afdcea-f285-449f-9561-9bb4aad4694a::1a477746fbd7:WR:0",
         "Azure Blob FS/3.3 (AzulSystems,Inc. JavaJRE 1.8.0_412; Linux 5.15.0-1075-azure/amd64; SunJSSE-1.8; UNKNOWN/UNKNOWN) APN/1.0 unknown",
         "HTTPS",
         "25a7ff3c-701f-003d-63a9-a7488a000000",
         "DelegationSAS",
         "bf465dc7-3bc8-4944-b018-092572b5c20d",
         "5d36be44-0b29-4420-bebe-37cd8dc6458e",
         "Success",
         "FlushFile",
         "write",
         "10.16.14.3",
         "stsezsandbox07",
         "/stsezsandbox07/unity/83ad2d11-1431-4eb5-8a3e-a26542faf5ac/tables/01343f9d-8610-457e-8e96-614c9cab981e/_delta_log/__tmp_path_dir/.00000000000000001577.json.6380ed1d-cdd2-42b6-ac5a-67dbe0661a91.tmp",
         "/stsezsandbox07/unity/83ad2d11-1431-4eb5-8a3e-a26542faf5ac/tables/01343f9d-8610-457e-8e96-614c9cab981e",
         "__databricks_internal.__dlt_materialization_schema_da18c5b2_8970_4c5d_bdf0_476ecd53fb87.__event_log",
         "MANAGED"
        ],
        [
         "2025-04-07T10:37:07.061Z",
         1,
         "0407-103326-ksvmqp71-v2n------:e911e6db-bc53-41d4-ad92-b38ae2a7629e:91afdcea-f285-449f-9561-9bb4aad4694a:0341a041-5757-4469-a0cb-bf9da7b36b61::RN:0",
         "Azure Blob FS/3.3 (AzulSystems,Inc. JavaJRE 1.8.0_412; Linux 5.15.0-1075-azure/amd64; SunJSSE-1.8; UNKNOWN/UNKNOWN) APN/1.0 unknown",
         "HTTPS",
         "25a7ff3d-701f-003d-64a9-a7488a000000",
         "DelegationSAS",
         "bf465dc7-3bc8-4944-b018-092572b5c20d",
         "5d36be44-0b29-4420-bebe-37cd8dc6458e",
         "Success",
         "RenamePathFile",
         "read",
         "10.16.14.3",
         "stsezsandbox07",
         "/stsezsandbox07/unity/83ad2d11-1431-4eb5-8a3e-a26542faf5ac/tables/01343f9d-8610-457e-8e96-614c9cab981e/_delta_log/00000000000000001577.json",
         "/stsezsandbox07/unity/83ad2d11-1431-4eb5-8a3e-a26542faf5ac/tables/01343f9d-8610-457e-8e96-614c9cab981e",
         "__databricks_internal.__dlt_materialization_schema_da18c5b2_8970_4c5d_bdf0_476ecd53fb87.__event_log",
         "MANAGED"
        ],
        [
         "2025-04-07T10:37:07.280Z",
         1,
         "0407-103326-ksvmqp71-v2n------:c43f8fc2-b3f0-40c9-96ed-31df28de88e0:fe4d86b0-d276-4b4c-87e5-c24fed9c6e98::252ede5780d6:RE:0",
         "Azure Blob FS/3.3 (AzulSystems,Inc. JavaJRE 1.8.0_412; Linux 5.15.0-1075-azure/amd64; SunJSSE-1.8; UNKNOWN/UNKNOWN) APN/1.0 unknown",
         "HTTPS",
         "9010162f-c01f-0075-20a9-a755bd000000",
         "DelegationSAS",
         "bf465dc7-3bc8-4944-b018-092572b5c20d",
         "5d36be44-0b29-4420-bebe-37cd8dc6458e",
         "Success",
         "ReadFile",
         "read",
         "10.16.14.3",
         "stsezsandbox07",
         "/stsezsandbox07/unity/83ad2d11-1431-4eb5-8a3e-a26542faf5ac/tables/01343f9d-8610-457e-8e96-614c9cab981e/_delta_log/00000000000000001575.json",
         "/stsezsandbox07/unity/83ad2d11-1431-4eb5-8a3e-a26542faf5ac/tables/01343f9d-8610-457e-8e96-614c9cab981e",
         "__databricks_internal.__dlt_materialization_schema_da18c5b2_8970_4c5d_bdf0_476ecd53fb87.__event_log",
         "MANAGED"
        ],
        [
         "2025-04-07T10:37:08.440Z",
         1,
         "0407-103326-ksvmqp71-v2n------:5c99e373-33b4-47c7-8fc9-ffda730afaac:91afdcea-f285-449f-9561-9bb4aad4694a:::CR:0",
         "Azure Blob FS/3.3 (AzulSystems,Inc. JavaJRE 1.8.0_412; Linux 5.15.0-1075-azure/amd64; SunJSSE-1.8; UNKNOWN/UNKNOWN) APN/1.0 unknown",
         "HTTPS",
         "9010166f-c01f-0075-5da9-a755bd000000",
         "DelegationSAS",
         "bf465dc7-3bc8-4944-b018-092572b5c20d",
         "5d36be44-0b29-4420-bebe-37cd8dc6458e",
         "Success",
         "CreatePathFile",
         "write",
         "10.16.14.3",
         "stsezsandbox07",
         "/stsezsandbox07/unity/83ad2d11-1431-4eb5-8a3e-a26542faf5ac/tables/01343f9d-8610-457e-8e96-614c9cab981e/_delta_log/__tmp_path_dir/.00000000000000001577.crc.7ed5af4f-bc0c-4c1a-8149-78b88f6efb90.tmp",
         "/stsezsandbox07/unity/83ad2d11-1431-4eb5-8a3e-a26542faf5ac/tables/01343f9d-8610-457e-8e96-614c9cab981e",
         "__databricks_internal.__dlt_materialization_schema_da18c5b2_8970_4c5d_bdf0_476ecd53fb87.__event_log",
         "MANAGED"
        ],
        [
         "2025-04-07T10:37:08.458Z",
         1,
         "0407-103326-ksvmqp71-v2n------:7f508597-d43f-4767-9d1d-704cc89bff62:91afdcea-f285-449f-9561-9bb4aad4694a::6b1bdbc18c13:WR:0",
         "Azure Blob FS/3.3 (AzulSystems,Inc. JavaJRE 1.8.0_412; Linux 5.15.0-1075-azure/amd64; SunJSSE-1.8; UNKNOWN/UNKNOWN) APN/1.0 unknown",
         "HTTPS",
         "90101671-c01f-0075-5fa9-a755bd000000",
         "DelegationSAS",
         "bf465dc7-3bc8-4944-b018-092572b5c20d",
         "5d36be44-0b29-4420-bebe-37cd8dc6458e",
         "Success",
         "AppendFile",
         "write",
         "10.16.14.3",
         "stsezsandbox07",
         "/stsezsandbox07/unity/83ad2d11-1431-4eb5-8a3e-a26542faf5ac/tables/01343f9d-8610-457e-8e96-614c9cab981e/_delta_log/__tmp_path_dir/.00000000000000001577.crc.7ed5af4f-bc0c-4c1a-8149-78b88f6efb90.tmp",
         "/stsezsandbox07/unity/83ad2d11-1431-4eb5-8a3e-a26542faf5ac/tables/01343f9d-8610-457e-8e96-614c9cab981e",
         "__databricks_internal.__dlt_materialization_schema_da18c5b2_8970_4c5d_bdf0_476ecd53fb87.__event_log",
         "MANAGED"
        ],
        [
         "2025-04-07T10:37:08.499Z",
         1,
         "0407-103326-ksvmqp71-v2n------:8d053f58-4473-4b50-90f7-81e4560bf00b:91afdcea-f285-449f-9561-9bb4aad4694a::6b1bdbc18c13:WR:0",
         "Azure Blob FS/3.3 (AzulSystems,Inc. JavaJRE 1.8.0_412; Linux 5.15.0-1075-azure/amd64; SunJSSE-1.8; UNKNOWN/UNKNOWN) APN/1.0 unknown",
         "HTTPS",
         "90101674-c01f-0075-61a9-a755bd000000",
         "DelegationSAS",
         "bf465dc7-3bc8-4944-b018-092572b5c20d",
         "5d36be44-0b29-4420-bebe-37cd8dc6458e",
         "Success",
         "FlushFile",
         "write",
         "10.16.14.3",
         "stsezsandbox07",
         "/stsezsandbox07/unity/83ad2d11-1431-4eb5-8a3e-a26542faf5ac/tables/01343f9d-8610-457e-8e96-614c9cab981e/_delta_log/__tmp_path_dir/.00000000000000001577.crc.7ed5af4f-bc0c-4c1a-8149-78b88f6efb90.tmp",
         "/stsezsandbox07/unity/83ad2d11-1431-4eb5-8a3e-a26542faf5ac/tables/01343f9d-8610-457e-8e96-614c9cab981e",
         "__databricks_internal.__dlt_materialization_schema_da18c5b2_8970_4c5d_bdf0_476ecd53fb87.__event_log",
         "MANAGED"
        ],
        [
         "2025-04-07T10:37:08.543Z",
         1,
         "0407-103326-ksvmqp71-v2n------:394a4aaa-5f56-41dd-acd8-fca93183378d:91afdcea-f285-449f-9561-9bb4aad4694a:b8780946-6288-4304-99d2-b0292667b822::RN:0",
         "Azure Blob FS/3.3 (AzulSystems,Inc. JavaJRE 1.8.0_412; Linux 5.15.0-1075-azure/amd64; SunJSSE-1.8; UNKNOWN/UNKNOWN) APN/1.0 unknown",
         "HTTPS",
         "90101679-c01f-0075-66a9-a755bd000000",
         "DelegationSAS",
         "bf465dc7-3bc8-4944-b018-092572b5c20d",
         "5d36be44-0b29-4420-bebe-37cd8dc6458e",
         "Success",
         "RenamePathFile",
         "read",
         "10.16.14.3",
         "stsezsandbox07",
         "/stsezsandbox07/unity/83ad2d11-1431-4eb5-8a3e-a26542faf5ac/tables/01343f9d-8610-457e-8e96-614c9cab981e/_delta_log/00000000000000001577.crc",
         "/stsezsandbox07/unity/83ad2d11-1431-4eb5-8a3e-a26542faf5ac/tables/01343f9d-8610-457e-8e96-614c9cab981e",
         "__databricks_internal.__dlt_materialization_schema_da18c5b2_8970_4c5d_bdf0_476ecd53fb87.__event_log",
         "MANAGED"
        ],
        [
         "2025-04-07T10:37:07.266Z",
         1,
         "0407-103326-ksvmqp71-v2n------:2fbdd6b9-3256-4ca2-8f9f-7cccb2fa12ab:fe4d86b0-d276-4b4c-87e5-c24fed9c6e98::6540700f1f3a:RE:0",
         "Azure Blob FS/3.3 (AzulSystems,Inc. JavaJRE 1.8.0_412; Linux 5.15.0-1075-azure/amd64; SunJSSE-1.8; UNKNOWN/UNKNOWN) APN/1.0 unknown",
         "HTTPS",
         "44b168d7-601f-006c-0ba9-a7d506000000",
         "DelegationSAS",
         "bf465dc7-3bc8-4944-b018-092572b5c20d",
         "5d36be44-0b29-4420-bebe-37cd8dc6458e",
         "Success",
         "ReadFile",
         "read",
         "10.16.14.3",
         "stsezsandbox07",
         "/stsezsandbox07/unity/83ad2d11-1431-4eb5-8a3e-a26542faf5ac/tables/01343f9d-8610-457e-8e96-614c9cab981e/_delta_log/00000000000000001576.json",
         "/stsezsandbox07/unity/83ad2d11-1431-4eb5-8a3e-a26542faf5ac/tables/01343f9d-8610-457e-8e96-614c9cab981e",
         "__databricks_internal.__dlt_materialization_schema_da18c5b2_8970_4c5d_bdf0_476ecd53fb87.__event_log",
         "MANAGED"
        ],
        [
         "2025-04-07T10:36:28.818Z",
         1,
         "0407-103326-ksvmqp71-v2n------:4f303a63-8361-441d-941f-5102f9ca9f23:fe4d86b0-d276-4b4c-87e5-c24fed9c6e98::3f9b27f07fa1:RE:0",
         "Azure Blob FS/3.3 (AzulSystems,Inc. JavaJRE 1.8.0_412; Linux 5.15.0-1075-azure/amd64; SunJSSE-1.8; UNKNOWN/UNKNOWN) APN/1.0 unknown",
         "HTTPS",
         "5e7eea25-e01f-0010-79a8-a7fbf9000000",
         "DelegationSAS",
         "bf465dc7-3bc8-4944-b018-092572b5c20d",
         "5d36be44-0b29-4420-bebe-37cd8dc6458e",
         "Success",
         "ReadFile",
         "read",
         "10.16.14.3",
         "stsezsandbox07",
         "/stsezsandbox07/unity/83ad2d11-1431-4eb5-8a3e-a26542faf5ac/tables/01343f9d-8610-457e-8e96-614c9cab981e/_delta_log/00000000000000001561.00000000000000001566.compacted.json",
         "/stsezsandbox07/unity/83ad2d11-1431-4eb5-8a3e-a26542faf5ac/tables/01343f9d-8610-457e-8e96-614c9cab981e",
         "__databricks_internal.__dlt_materialization_schema_da18c5b2_8970_4c5d_bdf0_476ecd53fb87.__event_log",
         "MANAGED"
        ],
        [
         "2025-04-07T10:36:28.733Z",
         1,
         "0407-103326-ksvmqp71-v2n------:e0268dd5-fbb9-4944-b146-6d66b0033d66:fe4d86b0-d276-4b4c-87e5-c24fed9c6e98::7692d96c9522:RE:0",
         "Azure Blob FS/3.3 (AzulSystems,Inc. JavaJRE 1.8.0_412; Linux 5.15.0-1075-azure/amd64; SunJSSE-1.8; UNKNOWN/UNKNOWN) APN/1.0 unknown",
         "HTTPS",
         "f327d31b-901f-000a-6da8-a79a26000000",
         "DelegationSAS",
         "bf465dc7-3bc8-4944-b018-092572b5c20d",
         "5d36be44-0b29-4420-bebe-37cd8dc6458e",
         "Success",
         "ReadFile",
         "read",
         "10.16.14.3",
         "stsezsandbox07",
         "/stsezsandbox07/unity/83ad2d11-1431-4eb5-8a3e-a26542faf5ac/tables/01343f9d-8610-457e-8e96-614c9cab981e/_delta_log/00000000000000001567.00000000000000001572.compacted.json",
         "/stsezsandbox07/unity/83ad2d11-1431-4eb5-8a3e-a26542faf5ac/tables/01343f9d-8610-457e-8e96-614c9cab981e",
         "__databricks_internal.__dlt_materialization_schema_da18c5b2_8970_4c5d_bdf0_476ecd53fb87.__event_log",
         "MANAGED"
        ],
        [
         "2025-04-07T10:37:06.854Z",
         1,
         "0407-103326-ksvmqp71-v2n--77--1405--0:0cc94ca3-6234-42cf-9e60-04ed4684d178:7208fdc0-d194-45b9-8f99-2be1bbee9335:::GF:0",
         "Azure Blob FS/3.3 (AzulSystems,Inc. JavaJRE 1.8.0_412; Linux 5.15.0-1075-azure/amd64; SunJSSE-1.8; UNKNOWN/UNKNOWN) APN/1.0 unknown",
         "HTTPS",
         "d0d6615c-801f-005b-21a9-a707aa000000",
         "DelegationSAS",
         "bf465dc7-3bc8-4944-b018-092572b5c20d",
         "5d36be44-0b29-4420-bebe-37cd8dc6458e",
         "Success",
         "GetPathStatus",
         "read",
         "10.16.14.243",
         "stsezsandbox07",
         "/stsezsandbox07/unity/83ad2d11-1431-4eb5-8a3e-a26542faf5ac/tables/01343f9d-8610-457e-8e96-614c9cab981e/part-00000-38bde726-602c-4207-81fa-8188341890ce.c000.snappy.parquet",
         "/stsezsandbox07/unity/83ad2d11-1431-4eb5-8a3e-a26542faf5ac/tables/01343f9d-8610-457e-8e96-614c9cab981e",
         "__databricks_internal.__dlt_materialization_schema_da18c5b2_8970_4c5d_bdf0_476ecd53fb87.__event_log",
         "MANAGED"
        ],
        [
         "2025-04-07T10:37:06.860Z",
         1,
         "0407-103326-ksvmqp71-v2n--77--1405--0:9cc4919c-4c58-40ca-b598-87ee8d1f1716:7208fdc0-d194-45b9-8f99-2be1bbee9335:::GF:0",
         "Azure Blob FS/3.3 (AzulSystems,Inc. JavaJRE 1.8.0_412; Linux 5.15.0-1075-azure/amd64; SunJSSE-1.8; UNKNOWN/UNKNOWN) APN/1.0 unknown",
         "HTTPS",
         "d0d6615e-801f-005b-23a9-a707aa000000",
         "DelegationSAS",
         "bf465dc7-3bc8-4944-b018-092572b5c20d",
         "5d36be44-0b29-4420-bebe-37cd8dc6458e",
         "Success",
         "GetPathStatus",
         "read",
         "10.16.14.243",
         "stsezsandbox07",
         "/stsezsandbox07/unity/83ad2d11-1431-4eb5-8a3e-a26542faf5ac/tables/01343f9d-8610-457e-8e96-614c9cab981e/part-00000-38bde726-602c-4207-81fa-8188341890ce.c000.snappy.parquet",
         "/stsezsandbox07/unity/83ad2d11-1431-4eb5-8a3e-a26542faf5ac/tables/01343f9d-8610-457e-8e96-614c9cab981e",
         "__databricks_internal.__dlt_materialization_schema_da18c5b2_8970_4c5d_bdf0_476ecd53fb87.__event_log",
         "MANAGED"
        ],
        [
         "2025-04-07T10:37:06.692Z",
         1,
         "0407-103326-ksvmqp71-v2n--77--1405--0:16accd56-5a14-4752-b348-a227ca3d3a61:5249be2d-4965-4656-84aa-f407ff1b07ed:::CR:0",
         "Azure Blob FS/3.3 (AzulSystems,Inc. JavaJRE 1.8.0_412; Linux 5.15.0-1075-azure/amd64; SunJSSE-1.8; UNKNOWN/UNKNOWN) APN/1.0 unknown",
         "HTTPS",
         "d0d6613e-801f-005b-04a9-a707aa000000",
         "DelegationSAS",
         "bf465dc7-3bc8-4944-b018-092572b5c20d",
         "5d36be44-0b29-4420-bebe-37cd8dc6458e",
         "Success",
         "CreatePathFile",
         "write",
         "10.16.14.243",
         "stsezsandbox07",
         "/stsezsandbox07/unity/83ad2d11-1431-4eb5-8a3e-a26542faf5ac/tables/01343f9d-8610-457e-8e96-614c9cab981e/part-00000-38bde726-602c-4207-81fa-8188341890ce.c000.snappy.parquet",
         "/stsezsandbox07/unity/83ad2d11-1431-4eb5-8a3e-a26542faf5ac/tables/01343f9d-8610-457e-8e96-614c9cab981e",
         "__databricks_internal.__dlt_materialization_schema_da18c5b2_8970_4c5d_bdf0_476ecd53fb87.__event_log",
         "MANAGED"
        ],
        [
         "2025-04-07T10:37:06.719Z",
         1,
         "0407-103326-ksvmqp71-v2n--77--1405--0:ee49fb8b-030f-43fe-abb8-feb44d1aa517:5249be2d-4965-4656-84aa-f407ff1b07ed::1efa479e4809:WR:0",
         "Azure Blob FS/3.3 (AzulSystems,Inc. JavaJRE 1.8.0_412; Linux 5.15.0-1075-azure/amd64; SunJSSE-1.8; UNKNOWN/UNKNOWN) APN/1.0 unknown",
         "HTTPS",
         "d0d66156-801f-005b-1ba9-a707aa000000",
         "DelegationSAS",
         "bf465dc7-3bc8-4944-b018-092572b5c20d",
         "5d36be44-0b29-4420-bebe-37cd8dc6458e",
         "Success",
         "AppendFile",
         "write",
         "10.16.14.243",
         "stsezsandbox07",
         "/stsezsandbox07/unity/83ad2d11-1431-4eb5-8a3e-a26542faf5ac/tables/01343f9d-8610-457e-8e96-614c9cab981e/part-00000-38bde726-602c-4207-81fa-8188341890ce.c000.snappy.parquet",
         "/stsezsandbox07/unity/83ad2d11-1431-4eb5-8a3e-a26542faf5ac/tables/01343f9d-8610-457e-8e96-614c9cab981e",
         "__databricks_internal.__dlt_materialization_schema_da18c5b2_8970_4c5d_bdf0_476ecd53fb87.__event_log",
         "MANAGED"
        ],
        [
         "2025-04-07T10:37:06.829Z",
         1,
         "0407-103326-ksvmqp71-v2n--77--1405--0:d78c83a1-125d-4b25-9f31-d00e46545041:5249be2d-4965-4656-84aa-f407ff1b07ed::1efa479e4809:WR:0",
         "Azure Blob FS/3.3 (AzulSystems,Inc. JavaJRE 1.8.0_412; Linux 5.15.0-1075-azure/amd64; SunJSSE-1.8; UNKNOWN/UNKNOWN) APN/1.0 unknown",
         "HTTPS",
         "d0d66157-801f-005b-1ca9-a707aa000000",
         "DelegationSAS",
         "bf465dc7-3bc8-4944-b018-092572b5c20d",
         "5d36be44-0b29-4420-bebe-37cd8dc6458e",
         "Success",
         "FlushFile",
         "write",
         "10.16.14.243",
         "stsezsandbox07",
         "/stsezsandbox07/unity/83ad2d11-1431-4eb5-8a3e-a26542faf5ac/tables/01343f9d-8610-457e-8e96-614c9cab981e/part-00000-38bde726-602c-4207-81fa-8188341890ce.c000.snappy.parquet",
         "/stsezsandbox07/unity/83ad2d11-1431-4eb5-8a3e-a26542faf5ac/tables/01343f9d-8610-457e-8e96-614c9cab981e",
         "__databricks_internal.__dlt_materialization_schema_da18c5b2_8970_4c5d_bdf0_476ecd53fb87.__event_log",
         "MANAGED"
        ],
        [
         "2025-04-07T10:36:28.712Z",
         1,
         "0407-103326-ksvmqp71-v2n------:6c57c573-21f5-4b8c-84a1-c787902fff33:fe4d86b0-d276-4b4c-87e5-c24fed9c6e98::7d17210dc6a4:RE:0",
         "Azure Blob FS/3.3 (AzulSystems,Inc. JavaJRE 1.8.0_412; Linux 5.15.0-1075-azure/amd64; SunJSSE-1.8; UNKNOWN/UNKNOWN) APN/1.0 unknown",
         "HTTPS",
         "941ddd41-d01f-0034-68a8-a70d59000000",
         "DelegationSAS",
         "bf465dc7-3bc8-4944-b018-092572b5c20d",
         "5d36be44-0b29-4420-bebe-37cd8dc6458e",
         "Success",
         "ReadFile",
         "read",
         "10.16.14.3",
         "stsezsandbox07",
         "/stsezsandbox07/unity/83ad2d11-1431-4eb5-8a3e-a26542faf5ac/tables/01343f9d-8610-457e-8e96-614c9cab981e/_delta_log/00000000000000001549.00000000000000001554.compacted.json",
         "/stsezsandbox07/unity/83ad2d11-1431-4eb5-8a3e-a26542faf5ac/tables/01343f9d-8610-457e-8e96-614c9cab981e",
         "__databricks_internal.__dlt_materialization_schema_da18c5b2_8970_4c5d_bdf0_476ecd53fb87.__event_log",
         "MANAGED"
        ],
        [
         "2025-04-07T10:36:28.829Z",
         1,
         "0407-103326-ksvmqp71-v2n------:c4fa6348-0687-422c-90cc-8844afd25a0f:fe4d86b0-d276-4b4c-87e5-c24fed9c6e98::e1c8095803f6:RE:0",
         "Azure Blob FS/3.3 (AzulSystems,Inc. JavaJRE 1.8.0_412; Linux 5.15.0-1075-azure/amd64; SunJSSE-1.8; UNKNOWN/UNKNOWN) APN/1.0 unknown",
         "HTTPS",
         "66b2475f-001f-0008-22a8-a7249e000000",
         "DelegationSAS",
         "bf465dc7-3bc8-4944-b018-092572b5c20d",
         "5d36be44-0b29-4420-bebe-37cd8dc6458e",
         "Success",
         "ReadFile",
         "read",
         "10.16.14.3",
         "stsezsandbox07",
         "/stsezsandbox07/unity/83ad2d11-1431-4eb5-8a3e-a26542faf5ac/tables/01343f9d-8610-457e-8e96-614c9cab981e/_delta_log/00000000000000001575.json",
         "/stsezsandbox07/unity/83ad2d11-1431-4eb5-8a3e-a26542faf5ac/tables/01343f9d-8610-457e-8e96-614c9cab981e",
         "__databricks_internal.__dlt_materialization_schema_da18c5b2_8970_4c5d_bdf0_476ecd53fb87.__event_log",
         "MANAGED"
        ],
        [
         "2025-04-07T10:36:30.078Z",
         1,
         "0407-103326-ksvmqp71-v2n------:abed8d25-ad68-4891-9840-5713f0ec856d:91afdcea-f285-449f-9561-9bb4aad4694a:::CR:0",
         "Azure Blob FS/3.3 (AzulSystems,Inc. JavaJRE 1.8.0_412; Linux 5.15.0-1075-azure/amd64; SunJSSE-1.8; UNKNOWN/UNKNOWN) APN/1.0 unknown",
         "HTTPS",
         "66b24799-001f-0008-5ba8-a7249e000000",
         "DelegationSAS",
         "bf465dc7-3bc8-4944-b018-092572b5c20d",
         "5d36be44-0b29-4420-bebe-37cd8dc6458e",
         "Success",
         "CreatePathFile",
         "write",
         "10.16.14.3",
         "stsezsandbox07",
         "/stsezsandbox07/unity/83ad2d11-1431-4eb5-8a3e-a26542faf5ac/tables/01343f9d-8610-457e-8e96-614c9cab981e/_delta_log/__tmp_path_dir/.00000000000000001576.crc.5e9a3699-4386-43f8-9d9c-b0c7845380d7.tmp",
         "/stsezsandbox07/unity/83ad2d11-1431-4eb5-8a3e-a26542faf5ac/tables/01343f9d-8610-457e-8e96-614c9cab981e",
         "__databricks_internal.__dlt_materialization_schema_da18c5b2_8970_4c5d_bdf0_476ecd53fb87.__event_log",
         "MANAGED"
        ],
        [
         "2025-04-07T10:36:30.095Z",
         1,
         "0407-103326-ksvmqp71-v2n------:3ac67458-8db2-4a6e-806f-1d1de7cc37b1:91afdcea-f285-449f-9561-9bb4aad4694a::167977e6b74a:WR:0",
         "Azure Blob FS/3.3 (AzulSystems,Inc. JavaJRE 1.8.0_412; Linux 5.15.0-1075-azure/amd64; SunJSSE-1.8; UNKNOWN/UNKNOWN) APN/1.0 unknown",
         "HTTPS",
         "66b2479a-001f-0008-5ca8-a7249e000000",
         "DelegationSAS",
         "bf465dc7-3bc8-4944-b018-092572b5c20d",
         "5d36be44-0b29-4420-bebe-37cd8dc6458e",
         "Success",
         "AppendFile",
         "write",
         "10.16.14.3",
         "stsezsandbox07",
         "/stsezsandbox07/unity/83ad2d11-1431-4eb5-8a3e-a26542faf5ac/tables/01343f9d-8610-457e-8e96-614c9cab981e/_delta_log/__tmp_path_dir/.00000000000000001576.crc.5e9a3699-4386-43f8-9d9c-b0c7845380d7.tmp",
         "/stsezsandbox07/unity/83ad2d11-1431-4eb5-8a3e-a26542faf5ac/tables/01343f9d-8610-457e-8e96-614c9cab981e",
         "__databricks_internal.__dlt_materialization_schema_da18c5b2_8970_4c5d_bdf0_476ecd53fb87.__event_log",
         "MANAGED"
        ]
       ],
       "datasetInfos": [
        {
         "name": "_sqldf",
         "schema": {
          "fields": [
           {
            "metadata": {},
            "name": "Storage_Time",
            "nullable": true,
            "type": "timestamp"
           },
           {
            "metadata": {},
            "name": "Match_Found",
            "nullable": true,
            "type": "integer"
           },
           {
            "metadata": {},
            "name": "Storage_ClientRequestId",
            "nullable": true,
            "type": "string"
           },
           {
            "metadata": {},
            "name": "Storage_userAgentHeader",
            "nullable": true,
            "type": "string"
           },
           {
            "metadata": {},
            "name": "Storage_Protocol",
            "nullable": true,
            "type": "string"
           },
           {
            "metadata": {},
            "name": "Storage_CorrelationId",
            "nullable": true,
            "type": "string"
           },
           {
            "metadata": {},
            "name": "Storage_AuthenticationType",
            "nullable": true,
            "type": "string"
           },
           {
            "metadata": {},
            "name": "Storage_TenantId",
            "nullable": true,
            "type": "string"
           },
           {
            "metadata": {},
            "name": "Storage_PrincipalId",
            "nullable": true,
            "type": "string"
           },
           {
            "metadata": {},
            "name": "Storage_StatusText",
            "nullable": true,
            "type": "string"
           },
           {
            "metadata": {},
            "name": "Storage_OperationName",
            "nullable": true,
            "type": "string"
           },
           {
            "metadata": {},
            "name": "Storage_Action",
            "nullable": true,
            "type": "string"
           },
           {
            "metadata": {},
            "name": "Storage_CallerIpAddress",
            "nullable": true,
            "type": "string"
           },
           {
            "metadata": {},
            "name": "Storage_AccountName",
            "nullable": true,
            "type": "string"
           },
           {
            "metadata": {},
            "name": "Storage_RelativePath",
            "nullable": true,
            "type": "string"
           },
           {
            "metadata": {},
            "name": "IT_ParsedPath",
            "nullable": true,
            "type": "string"
           },
           {
            "metadata": {},
            "name": "IT_TableName",
            "nullable": true,
            "type": "string"
           },
           {
            "metadata": {
             "comment": "One of 'BASE TABLE', 'VIEW'."
            },
            "name": "IT_TableType",
            "nullable": true,
            "type": "string"
           }
          ],
          "type": "struct"
         },
         "tableIdentifier": null,
         "typeStr": "pyspark.sql.connect.dataframe.DataFrame"
        }
       ],
       "dbfsResultPath": null,
       "isJsonSchema": true,
       "metadata": {
        "createTempViewForImplicitDf": true,
        "dataframeName": "_sqldf",
        "executionCount": 13
       },
       "overflow": false,
       "plotOptions": {
        "customPlotOptions": {},
        "displayType": "table",
        "pivotAggregation": null,
        "pivotColumns": null,
        "xColumns": null,
        "yColumns": null
       },
       "removedWidgets": [],
       "schema": [
        {
         "metadata": "{}",
         "name": "Storage_Time",
         "type": "\"timestamp\""
        },
        {
         "metadata": "{}",
         "name": "Match_Found",
         "type": "\"integer\""
        },
        {
         "metadata": "{}",
         "name": "Storage_ClientRequestId",
         "type": "\"string\""
        },
        {
         "metadata": "{}",
         "name": "Storage_userAgentHeader",
         "type": "\"string\""
        },
        {
         "metadata": "{}",
         "name": "Storage_Protocol",
         "type": "\"string\""
        },
        {
         "metadata": "{}",
         "name": "Storage_CorrelationId",
         "type": "\"string\""
        },
        {
         "metadata": "{}",
         "name": "Storage_AuthenticationType",
         "type": "\"string\""
        },
        {
         "metadata": "{}",
         "name": "Storage_TenantId",
         "type": "\"string\""
        },
        {
         "metadata": "{}",
         "name": "Storage_PrincipalId",
         "type": "\"string\""
        },
        {
         "metadata": "{}",
         "name": "Storage_StatusText",
         "type": "\"string\""
        },
        {
         "metadata": "{}",
         "name": "Storage_OperationName",
         "type": "\"string\""
        },
        {
         "metadata": "{}",
         "name": "Storage_Action",
         "type": "\"string\""
        },
        {
         "metadata": "{}",
         "name": "Storage_CallerIpAddress",
         "type": "\"string\""
        },
        {
         "metadata": "{}",
         "name": "Storage_AccountName",
         "type": "\"string\""
        },
        {
         "metadata": "{}",
         "name": "Storage_RelativePath",
         "type": "\"string\""
        },
        {
         "metadata": "{}",
         "name": "IT_ParsedPath",
         "type": "\"string\""
        },
        {
         "metadata": "{}",
         "name": "IT_TableName",
         "type": "\"string\""
        },
        {
         "metadata": "{\"comment\": \"One of 'BASE TABLE', 'VIEW'.\"}",
         "name": "IT_TableType",
         "type": "\"string\""
        }
       ],
       "type": "table"
      }
     },
     "output_type": "display_data"
    }
   ],
   "source": [
    "select * from   slog.default.vw_storagelogs_information_schema limit 100"
   ]
  }
 ],
 "metadata": {
  "application/vnd.databricks.v1+notebook": {
   "computePreferences": null,
   "dashboards": [],
   "environmentMetadata": {
    "base_environment": "",
    "environment_version": "2"
   },
   "inputWidgetPreferences": null,
   "language": "sql",
   "notebookMetadata": {
    "pythonIndentUnit": 4
   },
   "notebookName": "SLOG - Exploration",
   "widgets": {}
  },
  "language_info": {
   "name": "sql"
  }
 },
 "nbformat": 4,
 "nbformat_minor": 0
}